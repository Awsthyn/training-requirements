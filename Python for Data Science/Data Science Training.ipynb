{
 "cells": [
  {
   "cell_type": "markdown",
   "metadata": {
    "toc": true
   },
   "source": [
    "<a id=\"index\"></a>\n",
    "## Table of Contents\n",
    "<ul>\n",
    "    <a href=\"#one\"><li>CO2 emissions (metric tons per capita) and GDP per cap. Year 1962</li></a>\n",
    "    <a href=\"#two\"><li>In what year is the correlation between CO2 emissions (metric tons per capita) and gdpPercap the strongest?</li></a>\n",
    "    <a href=\"#three\"><li>What is the relationship between continent and 'Energy use (kg of oil equivalent per capita)'?</li></a>\n",
    "    <a href=\"#four\"><li>Is there a significant difference between Europe and Asia with respect to 'Imports of goods and services (% of GDP)' in the years after 1990?</li></a>\n",
    "    <a href=\"#five\"><li>What is the country (or countries) that has the highest 'Population density (people per sq. km of land area)' across all years? (i.e., which country has the highest average ranking in this category across each time point in the dataset?)</li></a>\n",
    "    <a href=\"#six\"><li>What country (or countries) has shown the greatest increase in 'Life expectancy at birth, total (years)' since 1962?</li></a>\n",
    "</ul>"
   ]
  },
  {
   "cell_type": "code",
   "execution_count": 25,
   "metadata": {},
   "outputs": [],
   "source": [
    "import pandas as pd\n",
    "import seaborn as sns\n",
    "import numpy as np\n",
    "import plotly.express as px\n",
    "\n",
    "# Import data\n",
    "df = pd.read_csv(\"gapminder_clean.csv\")\n",
    "df.dropna(subset = [\"CO2 emissions (metric tons per capita)\"], inplace=True)\n",
    "df.dropna(subset = [\"gdpPercap\"], inplace=True)\n"
   ]
  },
  {
   "cell_type": "markdown",
   "metadata": {},
   "source": [
    "<a id=\"one\"></a>\n",
    "<h3>CO2 emissions (metric tons per capita) and GDP per cap. Year 1962</h3>\n",
    "<a href=\"#index\">Go to the table of contents</a>"
   ]
  },
  {
   "cell_type": "code",
   "execution_count": 26,
   "metadata": {},
   "outputs": [
    {
     "data": {
      "application/vnd.plotly.v1+json": {
       "config": {
        "plotlyServerURL": "https://plot.ly"
       },
       "data": [
        {
         "customdata": [
          [
           "Afghanistan"
          ]
         ],
         "hovertemplate": "Country Name=%{customdata[0]}<br>CO2 emissions (metric tons per capita)=%{x}<br>gdpPercap=%{y}<br>pop=%{marker.size}<extra></extra>",
         "legendgroup": "Afghanistan",
         "marker": {
          "color": "#636efa",
          "size": [
           10267083
          ],
          "sizemode": "area",
          "sizeref": 1664425,
          "symbol": "circle"
         },
         "mode": "markers",
         "name": "Afghanistan",
         "orientation": "v",
         "showlegend": true,
         "type": "scatter",
         "x": [
          0.0737813379863999
         ],
         "xaxis": "x",
         "y": [
          853.1007099999999
         ],
         "yaxis": "y"
        },
        {
         "customdata": [
          [
           "Albania"
          ]
         ],
         "hovertemplate": "Country Name=%{customdata[0]}<br>CO2 emissions (metric tons per capita)=%{x}<br>gdpPercap=%{y}<br>pop=%{marker.size}<extra></extra>",
         "legendgroup": "Albania",
         "marker": {
          "color": "#EF553B",
          "size": [
           1728137
          ],
          "sizemode": "area",
          "sizeref": 1664425,
          "symbol": "circle"
         },
         "mode": "markers",
         "name": "Albania",
         "orientation": "v",
         "showlegend": true,
         "type": "scatter",
         "x": [
          1.43995596379
         ],
         "xaxis": "x",
         "y": [
          2312.888958
         ],
         "yaxis": "y"
        },
        {
         "customdata": [
          [
           "Algeria"
          ]
         ],
         "hovertemplate": "Country Name=%{customdata[0]}<br>CO2 emissions (metric tons per capita)=%{x}<br>gdpPercap=%{y}<br>pop=%{marker.size}<extra></extra>",
         "legendgroup": "Algeria",
         "marker": {
          "color": "#00cc96",
          "size": [
           11000948
          ],
          "sizemode": "area",
          "sizeref": 1664425,
          "symbol": "circle"
         },
         "mode": "markers",
         "name": "Algeria",
         "orientation": "v",
         "showlegend": true,
         "type": "scatter",
         "x": [
          0.484953660141
         ],
         "xaxis": "x",
         "y": [
          2550.81688
         ],
         "yaxis": "y"
        },
        {
         "customdata": [
          [
           "Angola"
          ]
         ],
         "hovertemplate": "Country Name=%{customdata[0]}<br>CO2 emissions (metric tons per capita)=%{x}<br>gdpPercap=%{y}<br>pop=%{marker.size}<extra></extra>",
         "legendgroup": "Angola",
         "marker": {
          "color": "#ab63fa",
          "size": [
           4826015
          ],
          "sizemode": "area",
          "sizeref": 1664425,
          "symbol": "circle"
         },
         "mode": "markers",
         "name": "Angola",
         "orientation": "v",
         "showlegend": true,
         "type": "scatter",
         "x": [
          0.216025342555
         ],
         "xaxis": "x",
         "y": [
          4269.276742
         ],
         "yaxis": "y"
        },
        {
         "customdata": [
          [
           "Argentina"
          ]
         ],
         "hovertemplate": "Country Name=%{customdata[0]}<br>CO2 emissions (metric tons per capita)=%{x}<br>gdpPercap=%{y}<br>pop=%{marker.size}<extra></extra>",
         "legendgroup": "Argentina",
         "marker": {
          "color": "#FFA15A",
          "size": [
           21283783
          ],
          "sizemode": "area",
          "sizeref": 1664425,
          "symbol": "circle"
         },
         "mode": "markers",
         "name": "Argentina",
         "orientation": "v",
         "showlegend": true,
         "type": "scatter",
         "x": [
          2.5223921045
         ],
         "xaxis": "x",
         "y": [
          7133.166023000001
         ],
         "yaxis": "y"
        },
        {
         "customdata": [
          [
           "Australia"
          ]
         ],
         "hovertemplate": "Country Name=%{customdata[0]}<br>CO2 emissions (metric tons per capita)=%{x}<br>gdpPercap=%{y}<br>pop=%{marker.size}<extra></extra>",
         "legendgroup": "Australia",
         "marker": {
          "color": "#19d3f3",
          "size": [
           10794968
          ],
          "sizemode": "area",
          "sizeref": 1664425,
          "symbol": "circle"
         },
         "mode": "markers",
         "name": "Australia",
         "orientation": "v",
         "showlegend": true,
         "type": "scatter",
         "x": [
          8.83568804692
         ],
         "xaxis": "x",
         "y": [
          12217.22686
         ],
         "yaxis": "y"
        },
        {
         "customdata": [
          [
           "Austria"
          ]
         ],
         "hovertemplate": "Country Name=%{customdata[0]}<br>CO2 emissions (metric tons per capita)=%{x}<br>gdpPercap=%{y}<br>pop=%{marker.size}<extra></extra>",
         "legendgroup": "Austria",
         "marker": {
          "color": "#FF6692",
          "size": [
           7129864
          ],
          "sizemode": "area",
          "sizeref": 1664425,
          "symbol": "circle"
         },
         "mode": "markers",
         "name": "Austria",
         "orientation": "v",
         "showlegend": true,
         "type": "scatter",
         "x": [
          4.7553616731
         ],
         "xaxis": "x",
         "y": [
          10750.72111
         ],
         "yaxis": "y"
        },
        {
         "customdata": [
          [
           "Bahrain"
          ]
         ],
         "hovertemplate": "Country Name=%{customdata[0]}<br>CO2 emissions (metric tons per capita)=%{x}<br>gdpPercap=%{y}<br>pop=%{marker.size}<extra></extra>",
         "legendgroup": "Bahrain",
         "marker": {
          "color": "#B6E880",
          "size": [
           171863
          ],
          "sizemode": "area",
          "sizeref": 1664425,
          "symbol": "circle"
         },
         "mode": "markers",
         "name": "Bahrain",
         "orientation": "v",
         "showlegend": true,
         "type": "scatter",
         "x": [
          9.19360857735
         ],
         "xaxis": "x",
         "y": [
          12753.27514
         ],
         "yaxis": "y"
        },
        {
         "customdata": [
          [
           "Belgium"
          ]
         ],
         "hovertemplate": "Country Name=%{customdata[0]}<br>CO2 emissions (metric tons per capita)=%{x}<br>gdpPercap=%{y}<br>pop=%{marker.size}<extra></extra>",
         "legendgroup": "Belgium",
         "marker": {
          "color": "#FF97FF",
          "size": [
           9218400
          ],
          "sizemode": "area",
          "sizeref": 1664425,
          "symbol": "circle"
         },
         "mode": "markers",
         "name": "Belgium",
         "orientation": "v",
         "showlegend": true,
         "type": "scatter",
         "x": [
          10.6411896304
         ],
         "xaxis": "x",
         "y": [
          10991.20676
         ],
         "yaxis": "y"
        },
        {
         "customdata": [
          [
           "Benin"
          ]
         ],
         "hovertemplate": "Country Name=%{customdata[0]}<br>CO2 emissions (metric tons per capita)=%{x}<br>gdpPercap=%{y}<br>pop=%{marker.size}<extra></extra>",
         "legendgroup": "Benin",
         "marker": {
          "color": "#FECB52",
          "size": [
           2151895
          ],
          "sizemode": "area",
          "sizeref": 1664425,
          "symbol": "circle"
         },
         "mode": "markers",
         "name": "Benin",
         "orientation": "v",
         "showlegend": true,
         "type": "scatter",
         "x": [
          0.0542015282643
         ],
         "xaxis": "x",
         "y": [
          949.4990641
         ],
         "yaxis": "y"
        },
        {
         "customdata": [
          [
           "Bolivia"
          ]
         ],
         "hovertemplate": "Country Name=%{customdata[0]}<br>CO2 emissions (metric tons per capita)=%{x}<br>gdpPercap=%{y}<br>pop=%{marker.size}<extra></extra>",
         "legendgroup": "Bolivia",
         "marker": {
          "color": "#636efa",
          "size": [
           3593918
          ],
          "sizemode": "area",
          "sizeref": 1664425,
          "symbol": "circle"
         },
         "mode": "markers",
         "name": "Bolivia",
         "orientation": "v",
         "showlegend": true,
         "type": "scatter",
         "x": [
          0.28662649397
         ],
         "xaxis": "x",
         "y": [
          2180.972546
         ],
         "yaxis": "y"
        },
        {
         "customdata": [
          [
           "Brazil"
          ]
         ],
         "hovertemplate": "Country Name=%{customdata[0]}<br>CO2 emissions (metric tons per capita)=%{x}<br>gdpPercap=%{y}<br>pop=%{marker.size}<extra></extra>",
         "legendgroup": "Brazil",
         "marker": {
          "color": "#EF553B",
          "size": [
           76039390
          ],
          "sizemode": "area",
          "sizeref": 1664425,
          "symbol": "circle"
         },
         "mode": "markers",
         "name": "Brazil",
         "orientation": "v",
         "showlegend": true,
         "type": "scatter",
         "x": [
          0.6972807432160001
         ],
         "xaxis": "x",
         "y": [
          3336.585802
         ],
         "yaxis": "y"
        },
        {
         "customdata": [
          [
           "Bulgaria"
          ]
         ],
         "hovertemplate": "Country Name=%{customdata[0]}<br>CO2 emissions (metric tons per capita)=%{x}<br>gdpPercap=%{y}<br>pop=%{marker.size}<extra></extra>",
         "legendgroup": "Bulgaria",
         "marker": {
          "color": "#00cc96",
          "size": [
           8012946
          ],
          "sizemode": "area",
          "sizeref": 1664425,
          "symbol": "circle"
         },
         "mode": "markers",
         "name": "Bulgaria",
         "orientation": "v",
         "showlegend": true,
         "type": "scatter",
         "x": [
          3.83589181807
         ],
         "xaxis": "x",
         "y": [
          4254.337839
         ],
         "yaxis": "y"
        },
        {
         "customdata": [
          [
           "Burkina Faso"
          ]
         ],
         "hovertemplate": "Country Name=%{customdata[0]}<br>CO2 emissions (metric tons per capita)=%{x}<br>gdpPercap=%{y}<br>pop=%{marker.size}<extra></extra>",
         "legendgroup": "Burkina Faso",
         "marker": {
          "color": "#ab63fa",
          "size": [
           4919632
          ],
          "sizemode": "area",
          "sizeref": 1664425,
          "symbol": "circle"
         },
         "mode": "markers",
         "name": "Burkina Faso",
         "orientation": "v",
         "showlegend": true,
         "type": "scatter",
         "x": [
          0.0170031197553
         ],
         "xaxis": "x",
         "y": [
          722.5120206
         ],
         "yaxis": "y"
        },
        {
         "customdata": [
          [
           "Burundi"
          ]
         ],
         "hovertemplate": "Country Name=%{customdata[0]}<br>CO2 emissions (metric tons per capita)=%{x}<br>gdpPercap=%{y}<br>pop=%{marker.size}<extra></extra>",
         "legendgroup": "Burundi",
         "marker": {
          "color": "#FFA15A",
          "size": [
           2961915
          ],
          "sizemode": "area",
          "sizeref": 1664425,
          "symbol": "circle"
         },
         "mode": "markers",
         "name": "Burundi",
         "orientation": "v",
         "showlegend": true,
         "type": "scatter",
         "x": [
          0.0152025731471
         ],
         "xaxis": "x",
         "y": [
          355.2032273
         ],
         "yaxis": "y"
        },
        {
         "customdata": [
          [
           "Cambodia"
          ]
         ],
         "hovertemplate": "Country Name=%{customdata[0]}<br>CO2 emissions (metric tons per capita)=%{x}<br>gdpPercap=%{y}<br>pop=%{marker.size}<extra></extra>",
         "legendgroup": "Cambodia",
         "marker": {
          "color": "#19d3f3",
          "size": [
           6083619
          ],
          "sizemode": "area",
          "sizeref": 1664425,
          "symbol": "circle"
         },
         "mode": "markers",
         "name": "Cambodia",
         "orientation": "v",
         "showlegend": true,
         "type": "scatter",
         "x": [
          0.0511105919396
         ],
         "xaxis": "x",
         "y": [
          496.9136476
         ],
         "yaxis": "y"
        },
        {
         "customdata": [
          [
           "Cameroon"
          ]
         ],
         "hovertemplate": "Country Name=%{customdata[0]}<br>CO2 emissions (metric tons per capita)=%{x}<br>gdpPercap=%{y}<br>pop=%{marker.size}<extra></extra>",
         "legendgroup": "Cameroon",
         "marker": {
          "color": "#FF6692",
          "size": [
           5793633
          ],
          "sizemode": "area",
          "sizeref": 1664425,
          "symbol": "circle"
         },
         "mode": "markers",
         "name": "Cameroon",
         "orientation": "v",
         "showlegend": true,
         "type": "scatter",
         "x": [
          0.0517885260883
         ],
         "xaxis": "x",
         "y": [
          1399.607441
         ],
         "yaxis": "y"
        },
        {
         "customdata": [
          [
           "Canada"
          ]
         ],
         "hovertemplate": "Country Name=%{customdata[0]}<br>CO2 emissions (metric tons per capita)=%{x}<br>gdpPercap=%{y}<br>pop=%{marker.size}<extra></extra>",
         "legendgroup": "Canada",
         "marker": {
          "color": "#B6E880",
          "size": [
           18985849
          ],
          "sizemode": "area",
          "sizeref": 1664425,
          "symbol": "circle"
         },
         "mode": "markers",
         "name": "Canada",
         "orientation": "v",
         "showlegend": true,
         "type": "scatter",
         "x": [
          11.1306274847
         ],
         "xaxis": "x",
         "y": [
          13462.48555
         ],
         "yaxis": "y"
        },
        {
         "customdata": [
          [
           "Central African Republic"
          ]
         ],
         "hovertemplate": "Country Name=%{customdata[0]}<br>CO2 emissions (metric tons per capita)=%{x}<br>gdpPercap=%{y}<br>pop=%{marker.size}<extra></extra>",
         "legendgroup": "Central African Republic",
         "marker": {
          "color": "#FF97FF",
          "size": [
           1523478
          ],
          "sizemode": "area",
          "sizeref": 1664425,
          "symbol": "circle"
         },
         "mode": "markers",
         "name": "Central African Republic",
         "orientation": "v",
         "showlegend": true,
         "type": "scatter",
         "x": [
          0.0471138131996
         ],
         "xaxis": "x",
         "y": [
          1193.068753
         ],
         "yaxis": "y"
        },
        {
         "customdata": [
          [
           "Chad"
          ]
         ],
         "hovertemplate": "Country Name=%{customdata[0]}<br>CO2 emissions (metric tons per capita)=%{x}<br>gdpPercap=%{y}<br>pop=%{marker.size}<extra></extra>",
         "legendgroup": "Chad",
         "marker": {
          "color": "#FECB52",
          "size": [
           3150417
          ],
          "sizemode": "area",
          "sizeref": 1664425,
          "symbol": "circle"
         },
         "mode": "markers",
         "name": "Chad",
         "orientation": "v",
         "showlegend": true,
         "type": "scatter",
         "x": [
          0.0270119656401
         ],
         "xaxis": "x",
         "y": [
          1389.817618
         ],
         "yaxis": "y"
        },
        {
         "customdata": [
          [
           "Chile"
          ]
         ],
         "hovertemplate": "Country Name=%{customdata[0]}<br>CO2 emissions (metric tons per capita)=%{x}<br>gdpPercap=%{y}<br>pop=%{marker.size}<extra></extra>",
         "legendgroup": "Chile",
         "marker": {
          "color": "#636efa",
          "size": [
           7961258
          ],
          "sizemode": "area",
          "sizeref": 1664425,
          "symbol": "circle"
         },
         "mode": "markers",
         "name": "Chile",
         "orientation": "v",
         "showlegend": true,
         "type": "scatter",
         "x": [
          2.07658831467
         ],
         "xaxis": "x",
         "y": [
          4519.094331
         ],
         "yaxis": "y"
        },
        {
         "customdata": [
          [
           "China"
          ]
         ],
         "hovertemplate": "Country Name=%{customdata[0]}<br>CO2 emissions (metric tons per capita)=%{x}<br>gdpPercap=%{y}<br>pop=%{marker.size}<extra></extra>",
         "legendgroup": "China",
         "marker": {
          "color": "#EF553B",
          "size": [
           665770000
          ],
          "sizemode": "area",
          "sizeref": 1664425,
          "symbol": "circle"
         },
         "mode": "markers",
         "name": "China",
         "orientation": "v",
         "showlegend": true,
         "type": "scatter",
         "x": [
          0.661428164381
         ],
         "xaxis": "x",
         "y": [
          487.6740183
         ],
         "yaxis": "y"
        },
        {
         "customdata": [
          [
           "Colombia"
          ]
         ],
         "hovertemplate": "Country Name=%{customdata[0]}<br>CO2 emissions (metric tons per capita)=%{x}<br>gdpPercap=%{y}<br>pop=%{marker.size}<extra></extra>",
         "legendgroup": "Colombia",
         "marker": {
          "color": "#00cc96",
          "size": [
           17009885
          ],
          "sizemode": "area",
          "sizeref": 1664425,
          "symbol": "circle"
         },
         "mode": "markers",
         "name": "Colombia",
         "orientation": "v",
         "showlegend": true,
         "type": "scatter",
         "x": [
          1.11098569008
         ],
         "xaxis": "x",
         "y": [
          2492.351109
         ],
         "yaxis": "y"
        },
        {
         "customdata": [
          [
           "Comoros"
          ]
         ],
         "hovertemplate": "Country Name=%{customdata[0]}<br>CO2 emissions (metric tons per capita)=%{x}<br>gdpPercap=%{y}<br>pop=%{marker.size}<extra></extra>",
         "legendgroup": "Comoros",
         "marker": {
          "color": "#ab63fa",
          "size": [
           191689
          ],
          "sizemode": "area",
          "sizeref": 1664425,
          "symbol": "circle"
         },
         "mode": "markers",
         "name": "Comoros",
         "orientation": "v",
         "showlegend": true,
         "type": "scatter",
         "x": [
          0.0564269593763
         ],
         "xaxis": "x",
         "y": [
          1406.648278
         ],
         "yaxis": "y"
        },
        {
         "customdata": [
          [
           "Costa Rica"
          ]
         ],
         "hovertemplate": "Country Name=%{customdata[0]}<br>CO2 emissions (metric tons per capita)=%{x}<br>gdpPercap=%{y}<br>pop=%{marker.size}<extra></extra>",
         "legendgroup": "Costa Rica",
         "marker": {
          "color": "#FFA15A",
          "size": [
           1345187
          ],
          "sizemode": "area",
          "sizeref": 1664425,
          "symbol": "circle"
         },
         "mode": "markers",
         "name": "Costa Rica",
         "orientation": "v",
         "showlegend": true,
         "type": "scatter",
         "x": [
          0.383956810879
         ],
         "xaxis": "x",
         "y": [
          3460.937025
         ],
         "yaxis": "y"
        },
        {
         "customdata": [
          [
           "Cote d'Ivoire"
          ]
         ],
         "hovertemplate": "Country Name=%{customdata[0]}<br>CO2 emissions (metric tons per capita)=%{x}<br>gdpPercap=%{y}<br>pop=%{marker.size}<extra></extra>",
         "legendgroup": "Cote d'Ivoire",
         "marker": {
          "color": "#19d3f3",
          "size": [
           3832408
          ],
          "sizemode": "area",
          "sizeref": 1664425,
          "symbol": "circle"
         },
         "mode": "markers",
         "name": "Cote d'Ivoire",
         "orientation": "v",
         "showlegend": true,
         "type": "scatter",
         "x": [
          0.156855909486
         ],
         "xaxis": "x",
         "y": [
          1728.8694280000002
         ],
         "yaxis": "y"
        },
        {
         "customdata": [
          [
           "Cuba"
          ]
         ],
         "hovertemplate": "Country Name=%{customdata[0]}<br>CO2 emissions (metric tons per capita)=%{x}<br>gdpPercap=%{y}<br>pop=%{marker.size}<extra></extra>",
         "legendgroup": "Cuba",
         "marker": {
          "color": "#FF6692",
          "size": [
           7254373
          ],
          "sizemode": "area",
          "sizeref": 1664425,
          "symbol": "circle"
         },
         "mode": "markers",
         "name": "Cuba",
         "orientation": "v",
         "showlegend": true,
         "type": "scatter",
         "x": [
          1.90181472038
         ],
         "xaxis": "x",
         "y": [
          5180.75591
         ],
         "yaxis": "y"
        },
        {
         "customdata": [
          [
           "Denmark"
          ]
         ],
         "hovertemplate": "Country Name=%{customdata[0]}<br>CO2 emissions (metric tons per capita)=%{x}<br>gdpPercap=%{y}<br>pop=%{marker.size}<extra></extra>",
         "legendgroup": "Denmark",
         "marker": {
          "color": "#B6E880",
          "size": [
           4646899
          ],
          "sizemode": "area",
          "sizeref": 1664425,
          "symbol": "circle"
         },
         "mode": "markers",
         "name": "Denmark",
         "orientation": "v",
         "showlegend": true,
         "type": "scatter",
         "x": [
          7.945107361080001
         ],
         "xaxis": "x",
         "y": [
          13583.31351
         ],
         "yaxis": "y"
        },
        {
         "customdata": [
          [
           "Djibouti"
          ]
         ],
         "hovertemplate": "Country Name=%{customdata[0]}<br>CO2 emissions (metric tons per capita)=%{x}<br>gdpPercap=%{y}<br>pop=%{marker.size}<extra></extra>",
         "legendgroup": "Djibouti",
         "marker": {
          "color": "#FF97FF",
          "size": [
           89898
          ],
          "sizemode": "area",
          "sizeref": 1664425,
          "symbol": "circle"
         },
         "mode": "markers",
         "name": "Djibouti",
         "orientation": "v",
         "showlegend": true,
         "type": "scatter",
         "x": [
          0.5060615711249999
         ],
         "xaxis": "x",
         "y": [
          3020.989263
         ],
         "yaxis": "y"
        },
        {
         "customdata": [
          [
           "Dominican Republic"
          ]
         ],
         "hovertemplate": "Country Name=%{customdata[0]}<br>CO2 emissions (metric tons per capita)=%{x}<br>gdpPercap=%{y}<br>pop=%{marker.size}<extra></extra>",
         "legendgroup": "Dominican Republic",
         "marker": {
          "color": "#FECB52",
          "size": [
           3453434
          ],
          "sizemode": "area",
          "sizeref": 1664425,
          "symbol": "circle"
         },
         "mode": "markers",
         "name": "Dominican Republic",
         "orientation": "v",
         "showlegend": true,
         "type": "scatter",
         "x": [
          0.353029129213
         ],
         "xaxis": "x",
         "y": [
          1662.137359
         ],
         "yaxis": "y"
        },
        {
         "customdata": [
          [
           "Ecuador"
          ]
         ],
         "hovertemplate": "Country Name=%{customdata[0]}<br>CO2 emissions (metric tons per capita)=%{x}<br>gdpPercap=%{y}<br>pop=%{marker.size}<extra></extra>",
         "legendgroup": "Ecuador",
         "marker": {
          "color": "#636efa",
          "size": [
           4681707
          ],
          "sizemode": "area",
          "sizeref": 1664425,
          "symbol": "circle"
         },
         "mode": "markers",
         "name": "Ecuador",
         "orientation": "v",
         "showlegend": true,
         "type": "scatter",
         "x": [
          0.325336408962
         ],
         "xaxis": "x",
         "y": [
          4086.114078
         ],
         "yaxis": "y"
        },
        {
         "customdata": [
          [
           "El Salvador"
          ]
         ],
         "hovertemplate": "Country Name=%{customdata[0]}<br>CO2 emissions (metric tons per capita)=%{x}<br>gdpPercap=%{y}<br>pop=%{marker.size}<extra></extra>",
         "legendgroup": "El Salvador",
         "marker": {
          "color": "#EF553B",
          "size": [
           2747687
          ],
          "sizemode": "area",
          "sizeref": 1664425,
          "symbol": "circle"
         },
         "mode": "markers",
         "name": "El Salvador",
         "orientation": "v",
         "showlegend": true,
         "type": "scatter",
         "x": [
          0.221683679656
         ],
         "xaxis": "x",
         "y": [
          3776.803627
         ],
         "yaxis": "y"
        },
        {
         "customdata": [
          [
           "Equatorial Guinea"
          ]
         ],
         "hovertemplate": "Country Name=%{customdata[0]}<br>CO2 emissions (metric tons per capita)=%{x}<br>gdpPercap=%{y}<br>pop=%{marker.size}<extra></extra>",
         "legendgroup": "Equatorial Guinea",
         "marker": {
          "color": "#00cc96",
          "size": [
           249220
          ],
          "sizemode": "area",
          "sizeref": 1664425,
          "symbol": "circle"
         },
         "mode": "markers",
         "name": "Equatorial Guinea",
         "orientation": "v",
         "showlegend": true,
         "type": "scatter",
         "x": [
          0.0852989067225
         ],
         "xaxis": "x",
         "y": [
          582.8419713999999
         ],
         "yaxis": "y"
        },
        {
         "customdata": [
          [
           "Ethiopia"
          ]
         ],
         "hovertemplate": "Country Name=%{customdata[0]}<br>CO2 emissions (metric tons per capita)=%{x}<br>gdpPercap=%{y}<br>pop=%{marker.size}<extra></extra>",
         "legendgroup": "Ethiopia",
         "marker": {
          "color": "#ab63fa",
          "size": [
           25145372
          ],
          "sizemode": "area",
          "sizeref": 1664425,
          "symbol": "circle"
         },
         "mode": "markers",
         "name": "Ethiopia",
         "orientation": "v",
         "showlegend": true,
         "type": "scatter",
         "x": [
          0.0170548363485
         ],
         "xaxis": "x",
         "y": [
          419.4564161
         ],
         "yaxis": "y"
        },
        {
         "customdata": [
          [
           "Finland"
          ]
         ],
         "hovertemplate": "Country Name=%{customdata[0]}<br>CO2 emissions (metric tons per capita)=%{x}<br>gdpPercap=%{y}<br>pop=%{marker.size}<extra></extra>",
         "legendgroup": "Finland",
         "marker": {
          "color": "#FFA15A",
          "size": [
           4491443
          ],
          "sizemode": "area",
          "sizeref": 1664425,
          "symbol": "circle"
         },
         "mode": "markers",
         "name": "Finland",
         "orientation": "v",
         "showlegend": true,
         "type": "scatter",
         "x": [
          3.74256736643
         ],
         "xaxis": "x",
         "y": [
          9371.842561
         ],
         "yaxis": "y"
        },
        {
         "customdata": [
          [
           "France"
          ]
         ],
         "hovertemplate": "Country Name=%{customdata[0]}<br>CO2 emissions (metric tons per capita)=%{x}<br>gdpPercap=%{y}<br>pop=%{marker.size}<extra></extra>",
         "legendgroup": "France",
         "marker": {
          "color": "#19d3f3",
          "size": [
           47124000
          ],
          "sizemode": "area",
          "sizeref": 1664425,
          "symbol": "circle"
         },
         "mode": "markers",
         "name": "France",
         "orientation": "v",
         "showlegend": true,
         "type": "scatter",
         "x": [
          6.20757823899
         ],
         "xaxis": "x",
         "y": [
          10560.48553
         ],
         "yaxis": "y"
        },
        {
         "customdata": [
          [
           "Gabon"
          ]
         ],
         "hovertemplate": "Country Name=%{customdata[0]}<br>CO2 emissions (metric tons per capita)=%{x}<br>gdpPercap=%{y}<br>pop=%{marker.size}<extra></extra>",
         "legendgroup": "Gabon",
         "marker": {
          "color": "#FF6692",
          "size": [
           455661
          ],
          "sizemode": "area",
          "sizeref": 1664425,
          "symbol": "circle"
         },
         "mode": "markers",
         "name": "Gabon",
         "orientation": "v",
         "showlegend": true,
         "type": "scatter",
         "x": [
          0.172630373122
         ],
         "xaxis": "x",
         "y": [
          6631.459222
         ],
         "yaxis": "y"
        },
        {
         "customdata": [
          [
           "Ghana"
          ]
         ],
         "hovertemplate": "Country Name=%{customdata[0]}<br>CO2 emissions (metric tons per capita)=%{x}<br>gdpPercap=%{y}<br>pop=%{marker.size}<extra></extra>",
         "legendgroup": "Ghana",
         "marker": {
          "color": "#B6E880",
          "size": [
           7355248
          ],
          "sizemode": "area",
          "sizeref": 1664425,
          "symbol": "circle"
         },
         "mode": "markers",
         "name": "Ghana",
         "orientation": "v",
         "showlegend": true,
         "type": "scatter",
         "x": [
          0.202357559414
         ],
         "xaxis": "x",
         "y": [
          1190.041118
         ],
         "yaxis": "y"
        },
        {
         "customdata": [
          [
           "Greece"
          ]
         ],
         "hovertemplate": "Country Name=%{customdata[0]}<br>CO2 emissions (metric tons per capita)=%{x}<br>gdpPercap=%{y}<br>pop=%{marker.size}<extra></extra>",
         "legendgroup": "Greece",
         "marker": {
          "color": "#FF97FF",
          "size": [
           8448233
          ],
          "sizemode": "area",
          "sizeref": 1664425,
          "symbol": "circle"
         },
         "mode": "markers",
         "name": "Greece",
         "orientation": "v",
         "showlegend": true,
         "type": "scatter",
         "x": [
          1.2032011901200002
         ],
         "xaxis": "x",
         "y": [
          6017.190732999999
         ],
         "yaxis": "y"
        },
        {
         "customdata": [
          [
           "Guatemala"
          ]
         ],
         "hovertemplate": "Country Name=%{customdata[0]}<br>CO2 emissions (metric tons per capita)=%{x}<br>gdpPercap=%{y}<br>pop=%{marker.size}<extra></extra>",
         "legendgroup": "Guatemala",
         "marker": {
          "color": "#FECB52",
          "size": [
           4208858
          ],
          "sizemode": "area",
          "sizeref": 1664425,
          "symbol": "circle"
         },
         "mode": "markers",
         "name": "Guatemala",
         "orientation": "v",
         "showlegend": true,
         "type": "scatter",
         "x": [
          0.317326737332
         ],
         "xaxis": "x",
         "y": [
          2750.364446
         ],
         "yaxis": "y"
        },
        {
         "customdata": [
          [
           "Guinea"
          ]
         ],
         "hovertemplate": "Country Name=%{customdata[0]}<br>CO2 emissions (metric tons per capita)=%{x}<br>gdpPercap=%{y}<br>pop=%{marker.size}<extra></extra>",
         "legendgroup": "Guinea",
         "marker": {
          "color": "#636efa",
          "size": [
           3140003
          ],
          "sizemode": "area",
          "sizeref": 1664425,
          "symbol": "circle"
         },
         "mode": "markers",
         "name": "Guinea",
         "orientation": "v",
         "showlegend": true,
         "type": "scatter",
         "x": [
          0.178831523506
         ],
         "xaxis": "x",
         "y": [
          686.3736739
         ],
         "yaxis": "y"
        },
        {
         "customdata": [
          [
           "Guinea-Bissau"
          ]
         ],
         "hovertemplate": "Country Name=%{customdata[0]}<br>CO2 emissions (metric tons per capita)=%{x}<br>gdpPercap=%{y}<br>pop=%{marker.size}<extra></extra>",
         "legendgroup": "Guinea-Bissau",
         "marker": {
          "color": "#EF553B",
          "size": [
           627820
          ],
          "sizemode": "area",
          "sizeref": 1664425,
          "symbol": "circle"
         },
         "mode": "markers",
         "name": "Guinea-Bissau",
         "orientation": "v",
         "showlegend": true,
         "type": "scatter",
         "x": [
          0.0640297282582
         ],
         "xaxis": "x",
         "y": [
          522.0343725
         ],
         "yaxis": "y"
        },
        {
         "customdata": [
          [
           "Haiti"
          ]
         ],
         "hovertemplate": "Country Name=%{customdata[0]}<br>CO2 emissions (metric tons per capita)=%{x}<br>gdpPercap=%{y}<br>pop=%{marker.size}<extra></extra>",
         "legendgroup": "Haiti",
         "marker": {
          "color": "#00cc96",
          "size": [
           3880130
          ],
          "sizemode": "area",
          "sizeref": 1664425,
          "symbol": "circle"
         },
         "mode": "markers",
         "name": "Haiti",
         "orientation": "v",
         "showlegend": true,
         "type": "scatter",
         "x": [
          0.0756628306695
         ],
         "xaxis": "x",
         "y": [
          1796.589032
         ],
         "yaxis": "y"
        },
        {
         "customdata": [
          [
           "Honduras"
          ]
         ],
         "hovertemplate": "Country Name=%{customdata[0]}<br>CO2 emissions (metric tons per capita)=%{x}<br>gdpPercap=%{y}<br>pop=%{marker.size}<extra></extra>",
         "legendgroup": "Honduras",
         "marker": {
          "color": "#ab63fa",
          "size": [
           2090162
          ],
          "sizemode": "area",
          "sizeref": 1664425,
          "symbol": "circle"
         },
         "mode": "markers",
         "name": "Honduras",
         "orientation": "v",
         "showlegend": true,
         "type": "scatter",
         "x": [
          0.327409489867
         ],
         "xaxis": "x",
         "y": [
          2291.156835
         ],
         "yaxis": "y"
        },
        {
         "customdata": [
          [
           "Hungary"
          ]
         ],
         "hovertemplate": "Country Name=%{customdata[0]}<br>CO2 emissions (metric tons per capita)=%{x}<br>gdpPercap=%{y}<br>pop=%{marker.size}<extra></extra>",
         "legendgroup": "Hungary",
         "marker": {
          "color": "#FFA15A",
          "size": [
           10063000
          ],
          "sizemode": "area",
          "sizeref": 1664425,
          "symbol": "circle"
         },
         "mode": "markers",
         "name": "Hungary",
         "orientation": "v",
         "showlegend": true,
         "type": "scatter",
         "x": [
          5.025038030219999
         ],
         "xaxis": "x",
         "y": [
          7550.359877
         ],
         "yaxis": "y"
        },
        {
         "customdata": [
          [
           "Iceland"
          ]
         ],
         "hovertemplate": "Country Name=%{customdata[0]}<br>CO2 emissions (metric tons per capita)=%{x}<br>gdpPercap=%{y}<br>pop=%{marker.size}<extra></extra>",
         "legendgroup": "Iceland",
         "marker": {
          "color": "#19d3f3",
          "size": [
           182053
          ],
          "sizemode": "area",
          "sizeref": 1664425,
          "symbol": "circle"
         },
         "mode": "markers",
         "name": "Iceland",
         "orientation": "v",
         "showlegend": true,
         "type": "scatter",
         "x": [
          6.57485551985
         ],
         "xaxis": "x",
         "y": [
          10350.15906
         ],
         "yaxis": "y"
        },
        {
         "customdata": [
          [
           "India"
          ]
         ],
         "hovertemplate": "Country Name=%{customdata[0]}<br>CO2 emissions (metric tons per capita)=%{x}<br>gdpPercap=%{y}<br>pop=%{marker.size}<extra></extra>",
         "legendgroup": "India",
         "marker": {
          "color": "#FF6692",
          "size": [
           454000000
          ],
          "sizemode": "area",
          "sizeref": 1664425,
          "symbol": "circle"
         },
         "mode": "markers",
         "name": "India",
         "orientation": "v",
         "showlegend": true,
         "type": "scatter",
         "x": [
          0.306519469024
         ],
         "xaxis": "x",
         "y": [
          658.3471509
         ],
         "yaxis": "y"
        },
        {
         "customdata": [
          [
           "Indonesia"
          ]
         ],
         "hovertemplate": "Country Name=%{customdata[0]}<br>CO2 emissions (metric tons per capita)=%{x}<br>gdpPercap=%{y}<br>pop=%{marker.size}<extra></extra>",
         "legendgroup": "Indonesia",
         "marker": {
          "color": "#B6E880",
          "size": [
           99028000
          ],
          "sizemode": "area",
          "sizeref": 1664425,
          "symbol": "circle"
         },
         "mode": "markers",
         "name": "Indonesia",
         "orientation": "v",
         "showlegend": true,
         "type": "scatter",
         "x": [
          0.248446979292
         ],
         "xaxis": "x",
         "y": [
          849.2897700999999
         ],
         "yaxis": "y"
        },
        {
         "customdata": [
          [
           "Iraq"
          ]
         ],
         "hovertemplate": "Country Name=%{customdata[0]}<br>CO2 emissions (metric tons per capita)=%{x}<br>gdpPercap=%{y}<br>pop=%{marker.size}<extra></extra>",
         "legendgroup": "Iraq",
         "marker": {
          "color": "#FF97FF",
          "size": [
           7240260
          ],
          "sizemode": "area",
          "sizeref": 1664425,
          "symbol": "circle"
         },
         "mode": "markers",
         "name": "Iraq",
         "orientation": "v",
         "showlegend": true,
         "type": "scatter",
         "x": [
          1.17690410231
         ],
         "xaxis": "x",
         "y": [
          8341.737815
         ],
         "yaxis": "y"
        },
        {
         "customdata": [
          [
           "Ireland"
          ]
         ],
         "hovertemplate": "Country Name=%{customdata[0]}<br>CO2 emissions (metric tons per capita)=%{x}<br>gdpPercap=%{y}<br>pop=%{marker.size}<extra></extra>",
         "legendgroup": "Ireland",
         "marker": {
          "color": "#FECB52",
          "size": [
           2830000
          ],
          "sizemode": "area",
          "sizeref": 1664425,
          "symbol": "circle"
         },
         "mode": "markers",
         "name": "Ireland",
         "orientation": "v",
         "showlegend": true,
         "type": "scatter",
         "x": [
          4.62633804058
         ],
         "xaxis": "x",
         "y": [
          6631.597314
         ],
         "yaxis": "y"
        },
        {
         "customdata": [
          [
           "Israel"
          ]
         ],
         "hovertemplate": "Country Name=%{customdata[0]}<br>CO2 emissions (metric tons per capita)=%{x}<br>gdpPercap=%{y}<br>pop=%{marker.size}<extra></extra>",
         "legendgroup": "Israel",
         "marker": {
          "color": "#636efa",
          "size": [
           2310904
          ],
          "sizemode": "area",
          "sizeref": 1664425,
          "symbol": "circle"
         },
         "mode": "markers",
         "name": "Israel",
         "orientation": "v",
         "showlegend": true,
         "type": "scatter",
         "x": [
          3.46389969472
         ],
         "xaxis": "x",
         "y": [
          7105.630706
         ],
         "yaxis": "y"
        },
        {
         "customdata": [
          [
           "Italy"
          ]
         ],
         "hovertemplate": "Country Name=%{customdata[0]}<br>CO2 emissions (metric tons per capita)=%{x}<br>gdpPercap=%{y}<br>pop=%{marker.size}<extra></extra>",
         "legendgroup": "Italy",
         "marker": {
          "color": "#EF553B",
          "size": [
           50843200
          ],
          "sizemode": "area",
          "sizeref": 1664425,
          "symbol": "circle"
         },
         "mode": "markers",
         "name": "Italy",
         "orientation": "v",
         "showlegend": true,
         "type": "scatter",
         "x": [
          2.87849638705
         ],
         "xaxis": "x",
         "y": [
          8243.58234
         ],
         "yaxis": "y"
        },
        {
         "customdata": [
          [
           "Jamaica"
          ]
         ],
         "hovertemplate": "Country Name=%{customdata[0]}<br>CO2 emissions (metric tons per capita)=%{x}<br>gdpPercap=%{y}<br>pop=%{marker.size}<extra></extra>",
         "legendgroup": "Jamaica",
         "marker": {
          "color": "#00cc96",
          "size": [
           1665128
          ],
          "sizemode": "area",
          "sizeref": 1664425,
          "symbol": "circle"
         },
         "mode": "markers",
         "name": "Jamaica",
         "orientation": "v",
         "showlegend": true,
         "type": "scatter",
         "x": [
          1.26277490114
         ],
         "xaxis": "x",
         "y": [
          5246.107524
         ],
         "yaxis": "y"
        },
        {
         "customdata": [
          [
           "Japan"
          ]
         ],
         "hovertemplate": "Country Name=%{customdata[0]}<br>CO2 emissions (metric tons per capita)=%{x}<br>gdpPercap=%{y}<br>pop=%{marker.size}<extra></extra>",
         "legendgroup": "Japan",
         "marker": {
          "color": "#ab63fa",
          "size": [
           95831757
          ],
          "sizemode": "area",
          "sizeref": 1664425,
          "symbol": "circle"
         },
         "mode": "markers",
         "name": "Japan",
         "orientation": "v",
         "showlegend": true,
         "type": "scatter",
         "x": [
          3.05973635111
         ],
         "xaxis": "x",
         "y": [
          6576.649461
         ],
         "yaxis": "y"
        },
        {
         "customdata": [
          [
           "Jordan"
          ]
         ],
         "hovertemplate": "Country Name=%{customdata[0]}<br>CO2 emissions (metric tons per capita)=%{x}<br>gdpPercap=%{y}<br>pop=%{marker.size}<extra></extra>",
         "legendgroup": "Jordan",
         "marker": {
          "color": "#FFA15A",
          "size": [
           933559
          ],
          "sizemode": "area",
          "sizeref": 1664425,
          "symbol": "circle"
         },
         "mode": "markers",
         "name": "Jordan",
         "orientation": "v",
         "showlegend": true,
         "type": "scatter",
         "x": [
          1.08930257389
         ],
         "xaxis": "x",
         "y": [
          2348.009158
         ],
         "yaxis": "y"
        },
        {
         "customdata": [
          [
           "Kenya"
          ]
         ],
         "hovertemplate": "Country Name=%{customdata[0]}<br>CO2 emissions (metric tons per capita)=%{x}<br>gdpPercap=%{y}<br>pop=%{marker.size}<extra></extra>",
         "legendgroup": "Kenya",
         "marker": {
          "color": "#19d3f3",
          "size": [
           8678557
          ],
          "sizemode": "area",
          "sizeref": 1664425,
          "symbol": "circle"
         },
         "mode": "markers",
         "name": "Kenya",
         "orientation": "v",
         "showlegend": true,
         "type": "scatter",
         "x": [
          0.304273984865
         ],
         "xaxis": "x",
         "y": [
          896.9663732
         ],
         "yaxis": "y"
        },
        {
         "customdata": [
          [
           "Lebanon"
          ]
         ],
         "hovertemplate": "Country Name=%{customdata[0]}<br>CO2 emissions (metric tons per capita)=%{x}<br>gdpPercap=%{y}<br>pop=%{marker.size}<extra></extra>",
         "legendgroup": "Lebanon",
         "marker": {
          "color": "#FF6692",
          "size": [
           1886848
          ],
          "sizemode": "area",
          "sizeref": 1664425,
          "symbol": "circle"
         },
         "mode": "markers",
         "name": "Lebanon",
         "orientation": "v",
         "showlegend": true,
         "type": "scatter",
         "x": [
          1.48373168315
         ],
         "xaxis": "x",
         "y": [
          5714.560611
         ],
         "yaxis": "y"
        },
        {
         "customdata": [
          [
           "Liberia"
          ]
         ],
         "hovertemplate": "Country Name=%{customdata[0]}<br>CO2 emissions (metric tons per capita)=%{x}<br>gdpPercap=%{y}<br>pop=%{marker.size}<extra></extra>",
         "legendgroup": "Liberia",
         "marker": {
          "color": "#B6E880",
          "size": [
           1112796
          ],
          "sizemode": "area",
          "sizeref": 1664425,
          "symbol": "circle"
         },
         "mode": "markers",
         "name": "Liberia",
         "orientation": "v",
         "showlegend": true,
         "type": "scatter",
         "x": [
          0.216209634212
         ],
         "xaxis": "x",
         "y": [
          634.1951625
         ],
         "yaxis": "y"
        },
        {
         "customdata": [
          [
           "Libya"
          ]
         ],
         "hovertemplate": "Country Name=%{customdata[0]}<br>CO2 emissions (metric tons per capita)=%{x}<br>gdpPercap=%{y}<br>pop=%{marker.size}<extra></extra>",
         "legendgroup": "Libya",
         "marker": {
          "color": "#FF97FF",
          "size": [
           1441863
          ],
          "sizemode": "area",
          "sizeref": 1664425,
          "symbol": "circle"
         },
         "mode": "markers",
         "name": "Libya",
         "orientation": "v",
         "showlegend": true,
         "type": "scatter",
         "x": [
          0.6827006449699999
         ],
         "xaxis": "x",
         "y": [
          6757.030816
         ],
         "yaxis": "y"
        },
        {
         "customdata": [
          [
           "Madagascar"
          ]
         ],
         "hovertemplate": "Country Name=%{customdata[0]}<br>CO2 emissions (metric tons per capita)=%{x}<br>gdpPercap=%{y}<br>pop=%{marker.size}<extra></extra>",
         "legendgroup": "Madagascar",
         "marker": {
          "color": "#FECB52",
          "size": [
           5703324
          ],
          "sizemode": "area",
          "sizeref": 1664425,
          "symbol": "circle"
         },
         "mode": "markers",
         "name": "Madagascar",
         "orientation": "v",
         "showlegend": true,
         "type": "scatter",
         "x": [
          0.0739884401703
         ],
         "xaxis": "x",
         "y": [
          1643.38711
         ],
         "yaxis": "y"
        },
        {
         "customdata": [
          [
           "Mali"
          ]
         ],
         "hovertemplate": "Country Name=%{customdata[0]}<br>CO2 emissions (metric tons per capita)=%{x}<br>gdpPercap=%{y}<br>pop=%{marker.size}<extra></extra>",
         "legendgroup": "Mali",
         "marker": {
          "color": "#636efa",
          "size": [
           4690372
          ],
          "sizemode": "area",
          "sizeref": 1664425,
          "symbol": "circle"
         },
         "mode": "markers",
         "name": "Mali",
         "orientation": "v",
         "showlegend": true,
         "type": "scatter",
         "x": [
          0.0258941544429
         ],
         "xaxis": "x",
         "y": [
          496.1743428
         ],
         "yaxis": "y"
        },
        {
         "customdata": [
          [
           "Mauritania"
          ]
         ],
         "hovertemplate": "Country Name=%{customdata[0]}<br>CO2 emissions (metric tons per capita)=%{x}<br>gdpPercap=%{y}<br>pop=%{marker.size}<extra></extra>",
         "legendgroup": "Mauritania",
         "marker": {
          "color": "#EF553B",
          "size": [
           1146757
          ],
          "sizemode": "area",
          "sizeref": 1664425,
          "symbol": "circle"
         },
         "mode": "markers",
         "name": "Mauritania",
         "orientation": "v",
         "showlegend": true,
         "type": "scatter",
         "x": [
          0.0685667838429
         ],
         "xaxis": "x",
         "y": [
          1055.896036
         ],
         "yaxis": "y"
        },
        {
         "customdata": [
          [
           "Mauritius"
          ]
         ],
         "hovertemplate": "Country Name=%{customdata[0]}<br>CO2 emissions (metric tons per capita)=%{x}<br>gdpPercap=%{y}<br>pop=%{marker.size}<extra></extra>",
         "legendgroup": "Mauritius",
         "marker": {
          "color": "#00cc96",
          "size": [
           701016
          ],
          "sizemode": "area",
          "sizeref": 1664425,
          "symbol": "circle"
         },
         "mode": "markers",
         "name": "Mauritius",
         "orientation": "v",
         "showlegend": true,
         "type": "scatter",
         "x": [
          0.361281304036
         ],
         "xaxis": "x",
         "y": [
          2529.0674870000003
         ],
         "yaxis": "y"
        },
        {
         "customdata": [
          [
           "Mexico"
          ]
         ],
         "hovertemplate": "Country Name=%{customdata[0]}<br>CO2 emissions (metric tons per capita)=%{x}<br>gdpPercap=%{y}<br>pop=%{marker.size}<extra></extra>",
         "legendgroup": "Mexico",
         "marker": {
          "color": "#ab63fa",
          "size": [
           41121485
          ],
          "sizemode": "area",
          "sizeref": 1664425,
          "symbol": "circle"
         },
         "mode": "markers",
         "name": "Mexico",
         "orientation": "v",
         "showlegend": true,
         "type": "scatter",
         "x": [
          1.5697444180899998
         ],
         "xaxis": "x",
         "y": [
          4581.609385
         ],
         "yaxis": "y"
        },
        {
         "customdata": [
          [
           "Mongolia"
          ]
         ],
         "hovertemplate": "Country Name=%{customdata[0]}<br>CO2 emissions (metric tons per capita)=%{x}<br>gdpPercap=%{y}<br>pop=%{marker.size}<extra></extra>",
         "legendgroup": "Mongolia",
         "marker": {
          "color": "#FFA15A",
          "size": [
           1010280
          ],
          "sizemode": "area",
          "sizeref": 1664425,
          "symbol": "circle"
         },
         "mode": "markers",
         "name": "Mongolia",
         "orientation": "v",
         "showlegend": true,
         "type": "scatter",
         "x": [
          1.95074792748
         ],
         "xaxis": "x",
         "y": [
          1056.353958
         ],
         "yaxis": "y"
        },
        {
         "customdata": [
          [
           "Morocco"
          ]
         ],
         "hovertemplate": "Country Name=%{customdata[0]}<br>CO2 emissions (metric tons per capita)=%{x}<br>gdpPercap=%{y}<br>pop=%{marker.size}<extra></extra>",
         "legendgroup": "Morocco",
         "marker": {
          "color": "#19d3f3",
          "size": [
           13056604
          ],
          "sizemode": "area",
          "sizeref": 1664425,
          "symbol": "circle"
         },
         "mode": "markers",
         "name": "Morocco",
         "orientation": "v",
         "showlegend": true,
         "type": "scatter",
         "x": [
          0.235120747573
         ],
         "xaxis": "x",
         "y": [
          1566.353493
         ],
         "yaxis": "y"
        },
        {
         "customdata": [
          [
           "Mozambique"
          ]
         ],
         "hovertemplate": "Country Name=%{customdata[0]}<br>CO2 emissions (metric tons per capita)=%{x}<br>gdpPercap=%{y}<br>pop=%{marker.size}<extra></extra>",
         "legendgroup": "Mozambique",
         "marker": {
          "color": "#FF6692",
          "size": [
           7788944
          ],
          "sizemode": "area",
          "sizeref": 1664425,
          "symbol": "circle"
         },
         "mode": "markers",
         "name": "Mozambique",
         "orientation": "v",
         "showlegend": true,
         "type": "scatter",
         "x": [
          0.254829220109
         ],
         "xaxis": "x",
         "y": [
          556.6863539
         ],
         "yaxis": "y"
        },
        {
         "customdata": [
          [
           "Myanmar"
          ]
         ],
         "hovertemplate": "Country Name=%{customdata[0]}<br>CO2 emissions (metric tons per capita)=%{x}<br>gdpPercap=%{y}<br>pop=%{marker.size}<extra></extra>",
         "legendgroup": "Myanmar",
         "marker": {
          "color": "#B6E880",
          "size": [
           23634436
          ],
          "sizemode": "area",
          "sizeref": 1664425,
          "symbol": "circle"
         },
         "mode": "markers",
         "name": "Myanmar",
         "orientation": "v",
         "showlegend": true,
         "type": "scatter",
         "x": [
          0.128404767028
         ],
         "xaxis": "x",
         "y": [
          388
         ],
         "yaxis": "y"
        },
        {
         "customdata": [
          [
           "Nepal"
          ]
         ],
         "hovertemplate": "Country Name=%{customdata[0]}<br>CO2 emissions (metric tons per capita)=%{x}<br>gdpPercap=%{y}<br>pop=%{marker.size}<extra></extra>",
         "legendgroup": "Nepal",
         "marker": {
          "color": "#FF97FF",
          "size": [
           10332057
          ],
          "sizemode": "area",
          "sizeref": 1664425,
          "symbol": "circle"
         },
         "mode": "markers",
         "name": "Nepal",
         "orientation": "v",
         "showlegend": true,
         "type": "scatter",
         "x": [
          0.00848101403663
         ],
         "xaxis": "x",
         "y": [
          652.3968593
         ],
         "yaxis": "y"
        },
        {
         "customdata": [
          [
           "Netherlands"
          ]
         ],
         "hovertemplate": "Country Name=%{customdata[0]}<br>CO2 emissions (metric tons per capita)=%{x}<br>gdpPercap=%{y}<br>pop=%{marker.size}<extra></extra>",
         "legendgroup": "Netherlands",
         "marker": {
          "color": "#FECB52",
          "size": [
           11805689
          ],
          "sizemode": "area",
          "sizeref": 1664425,
          "symbol": "circle"
         },
         "mode": "markers",
         "name": "Netherlands",
         "orientation": "v",
         "showlegend": true,
         "type": "scatter",
         "x": [
          7.060853796839999
         ],
         "xaxis": "x",
         "y": [
          12790.84956
         ],
         "yaxis": "y"
        },
        {
         "customdata": [
          [
           "New Zealand"
          ]
         ],
         "hovertemplate": "Country Name=%{customdata[0]}<br>CO2 emissions (metric tons per capita)=%{x}<br>gdpPercap=%{y}<br>pop=%{marker.size}<extra></extra>",
         "legendgroup": "New Zealand",
         "marker": {
          "color": "#636efa",
          "size": [
           2488550
          ],
          "sizemode": "area",
          "sizeref": 1664425,
          "symbol": "circle"
         },
         "mode": "markers",
         "name": "New Zealand",
         "orientation": "v",
         "showlegend": true,
         "type": "scatter",
         "x": [
          4.51652659146
         ],
         "xaxis": "x",
         "y": [
          13175.678
         ],
         "yaxis": "y"
        },
        {
         "customdata": [
          [
           "Nicaragua"
          ]
         ],
         "hovertemplate": "Country Name=%{customdata[0]}<br>CO2 emissions (metric tons per capita)=%{x}<br>gdpPercap=%{y}<br>pop=%{marker.size}<extra></extra>",
         "legendgroup": "Nicaragua",
         "marker": {
          "color": "#EF553B",
          "size": [
           1590597
          ],
          "sizemode": "area",
          "sizeref": 1664425,
          "symbol": "circle"
         },
         "mode": "markers",
         "name": "Nicaragua",
         "orientation": "v",
         "showlegend": true,
         "type": "scatter",
         "x": [
          0.349874904588
         ],
         "xaxis": "x",
         "y": [
          3634.364406
         ],
         "yaxis": "y"
        },
        {
         "customdata": [
          [
           "Niger"
          ]
         ],
         "hovertemplate": "Country Name=%{customdata[0]}<br>CO2 emissions (metric tons per capita)=%{x}<br>gdpPercap=%{y}<br>pop=%{marker.size}<extra></extra>",
         "legendgroup": "Niger",
         "marker": {
          "color": "#00cc96",
          "size": [
           4076008
          ],
          "sizemode": "area",
          "sizeref": 1664425,
          "symbol": "circle"
         },
         "mode": "markers",
         "name": "Niger",
         "orientation": "v",
         "showlegend": true,
         "type": "scatter",
         "x": [
          0.018352266424
         ],
         "xaxis": "x",
         "y": [
          997.7661127
         ],
         "yaxis": "y"
        },
        {
         "customdata": [
          [
           "Nigeria"
          ]
         ],
         "hovertemplate": "Country Name=%{customdata[0]}<br>CO2 emissions (metric tons per capita)=%{x}<br>gdpPercap=%{y}<br>pop=%{marker.size}<extra></extra>",
         "legendgroup": "Nigeria",
         "marker": {
          "color": "#ab63fa",
          "size": [
           41871351
          ],
          "sizemode": "area",
          "sizeref": 1664425,
          "symbol": "circle"
         },
         "mode": "markers",
         "name": "Nigeria",
         "orientation": "v",
         "showlegend": true,
         "type": "scatter",
         "x": [
          0.0887217732028
         ],
         "xaxis": "x",
         "y": [
          1150.9274779999998
         ],
         "yaxis": "y"
        },
        {
         "customdata": [
          [
           "Norway"
          ]
         ],
         "hovertemplate": "Country Name=%{customdata[0]}<br>CO2 emissions (metric tons per capita)=%{x}<br>gdpPercap=%{y}<br>pop=%{marker.size}<extra></extra>",
         "legendgroup": "Norway",
         "marker": {
          "color": "#FFA15A",
          "size": [
           3638919
          ],
          "sizemode": "area",
          "sizeref": 1664425,
          "symbol": "circle"
         },
         "mode": "markers",
         "name": "Norway",
         "orientation": "v",
         "showlegend": true,
         "type": "scatter",
         "x": [
          3.86862605863
         ],
         "xaxis": "x",
         "y": [
          13450.40151
         ],
         "yaxis": "y"
        },
        {
         "customdata": [
          [
           "Pakistan"
          ]
         ],
         "hovertemplate": "Country Name=%{customdata[0]}<br>CO2 emissions (metric tons per capita)=%{x}<br>gdpPercap=%{y}<br>pop=%{marker.size}<extra></extra>",
         "legendgroup": "Pakistan",
         "marker": {
          "color": "#19d3f3",
          "size": [
           53100671
          ],
          "sizemode": "area",
          "sizeref": 1664425,
          "symbol": "circle"
         },
         "mode": "markers",
         "name": "Pakistan",
         "orientation": "v",
         "showlegend": true,
         "type": "scatter",
         "x": [
          0.34177551477
         ],
         "xaxis": "x",
         "y": [
          803.3427418
         ],
         "yaxis": "y"
        },
        {
         "customdata": [
          [
           "Panama"
          ]
         ],
         "hovertemplate": "Country Name=%{customdata[0]}<br>CO2 emissions (metric tons per capita)=%{x}<br>gdpPercap=%{y}<br>pop=%{marker.size}<extra></extra>",
         "legendgroup": "Panama",
         "marker": {
          "color": "#FF6692",
          "size": [
           1215725
          ],
          "sizemode": "area",
          "sizeref": 1664425,
          "symbol": "circle"
         },
         "mode": "markers",
         "name": "Panama",
         "orientation": "v",
         "showlegend": true,
         "type": "scatter",
         "x": [
          0.991186587845
         ],
         "xaxis": "x",
         "y": [
          3536.540301
         ],
         "yaxis": "y"
        },
        {
         "customdata": [
          [
           "Paraguay"
          ]
         ],
         "hovertemplate": "Country Name=%{customdata[0]}<br>CO2 emissions (metric tons per capita)=%{x}<br>gdpPercap=%{y}<br>pop=%{marker.size}<extra></extra>",
         "legendgroup": "Paraguay",
         "marker": {
          "color": "#B6E880",
          "size": [
           2009813
          ],
          "sizemode": "area",
          "sizeref": 1664425,
          "symbol": "circle"
         },
         "mode": "markers",
         "name": "Paraguay",
         "orientation": "v",
         "showlegend": true,
         "type": "scatter",
         "x": [
          0.195662374952
         ],
         "xaxis": "x",
         "y": [
          2148.027146
         ],
         "yaxis": "y"
        },
        {
         "customdata": [
          [
           "Peru"
          ]
         ],
         "hovertemplate": "Country Name=%{customdata[0]}<br>CO2 emissions (metric tons per capita)=%{x}<br>gdpPercap=%{y}<br>pop=%{marker.size}<extra></extra>",
         "legendgroup": "Peru",
         "marker": {
          "color": "#FF97FF",
          "size": [
           10516500
          ],
          "sizemode": "area",
          "sizeref": 1664425,
          "symbol": "circle"
         },
         "mode": "markers",
         "name": "Peru",
         "orientation": "v",
         "showlegend": true,
         "type": "scatter",
         "x": [
          0.93614496813
         ],
         "xaxis": "x",
         "y": [
          4957.037982
         ],
         "yaxis": "y"
        },
        {
         "customdata": [
          [
           "Philippines"
          ]
         ],
         "hovertemplate": "Country Name=%{customdata[0]}<br>CO2 emissions (metric tons per capita)=%{x}<br>gdpPercap=%{y}<br>pop=%{marker.size}<extra></extra>",
         "legendgroup": "Philippines",
         "marker": {
          "color": "#FECB52",
          "size": [
           30325264
          ],
          "sizemode": "area",
          "sizeref": 1664425,
          "symbol": "circle"
         },
         "mode": "markers",
         "name": "Philippines",
         "orientation": "v",
         "showlegend": true,
         "type": "scatter",
         "x": [
          0.36851208177
         ],
         "xaxis": "x",
         "y": [
          1649.552153
         ],
         "yaxis": "y"
        },
        {
         "customdata": [
          [
           "Poland"
          ]
         ],
         "hovertemplate": "Country Name=%{customdata[0]}<br>CO2 emissions (metric tons per capita)=%{x}<br>gdpPercap=%{y}<br>pop=%{marker.size}<extra></extra>",
         "legendgroup": "Poland",
         "marker": {
          "color": "#636efa",
          "size": [
           30329617
          ],
          "sizemode": "area",
          "sizeref": 1664425,
          "symbol": "circle"
         },
         "mode": "markers",
         "name": "Poland",
         "orientation": "v",
         "showlegend": true,
         "type": "scatter",
         "x": [
          7.15360516027
         ],
         "xaxis": "x",
         "y": [
          5338.752143
         ],
         "yaxis": "y"
        },
        {
         "customdata": [
          [
           "Portugal"
          ]
         ],
         "hovertemplate": "Country Name=%{customdata[0]}<br>CO2 emissions (metric tons per capita)=%{x}<br>gdpPercap=%{y}<br>pop=%{marker.size}<extra></extra>",
         "legendgroup": "Portugal",
         "marker": {
          "color": "#EF553B",
          "size": [
           9019800
          ],
          "sizemode": "area",
          "sizeref": 1664425,
          "symbol": "circle"
         },
         "mode": "markers",
         "name": "Portugal",
         "orientation": "v",
         "showlegend": true,
         "type": "scatter",
         "x": [
          1.0343778647600002
         ],
         "xaxis": "x",
         "y": [
          4727.954889
         ],
         "yaxis": "y"
        },
        {
         "customdata": [
          [
           "Romania"
          ]
         ],
         "hovertemplate": "Country Name=%{customdata[0]}<br>CO2 emissions (metric tons per capita)=%{x}<br>gdpPercap=%{y}<br>pop=%{marker.size}<extra></extra>",
         "legendgroup": "Romania",
         "marker": {
          "color": "#00cc96",
          "size": [
           18680721
          ],
          "sizemode": "area",
          "sizeref": 1664425,
          "symbol": "circle"
         },
         "mode": "markers",
         "name": "Romania",
         "orientation": "v",
         "showlegend": true,
         "type": "scatter",
         "x": [
          3.4202858664999995
         ],
         "xaxis": "x",
         "y": [
          4734.997586
         ],
         "yaxis": "y"
        },
        {
         "customdata": [
          [
           "Rwanda"
          ]
         ],
         "hovertemplate": "Country Name=%{customdata[0]}<br>CO2 emissions (metric tons per capita)=%{x}<br>gdpPercap=%{y}<br>pop=%{marker.size}<extra></extra>",
         "legendgroup": "Rwanda",
         "marker": {
          "color": "#ab63fa",
          "size": [
           3051242
          ],
          "sizemode": "area",
          "sizeref": 1664425,
          "symbol": "circle"
         },
         "mode": "markers",
         "name": "Rwanda",
         "orientation": "v",
         "showlegend": true,
         "type": "scatter",
         "x": [
          0.0276473843144
         ],
         "xaxis": "x",
         "y": [
          597.4730727000001
         ],
         "yaxis": "y"
        },
        {
         "customdata": [
          [
           "Sao Tome and Principe"
          ]
         ],
         "hovertemplate": "Country Name=%{customdata[0]}<br>CO2 emissions (metric tons per capita)=%{x}<br>gdpPercap=%{y}<br>pop=%{marker.size}<extra></extra>",
         "legendgroup": "Sao Tome and Principe",
         "marker": {
          "color": "#FFA15A",
          "size": [
           65345
          ],
          "sizemode": "area",
          "sizeref": 1664425,
          "symbol": "circle"
         },
         "mode": "markers",
         "name": "Sao Tome and Principe",
         "orientation": "v",
         "showlegend": true,
         "type": "scatter",
         "x": [
          0.1707460925979999
         ],
         "xaxis": "x",
         "y": [
          1071.551119
         ],
         "yaxis": "y"
        },
        {
         "customdata": [
          [
           "Saudi Arabia"
          ]
         ],
         "hovertemplate": "Country Name=%{customdata[0]}<br>CO2 emissions (metric tons per capita)=%{x}<br>gdpPercap=%{y}<br>pop=%{marker.size}<extra></extra>",
         "legendgroup": "Saudi Arabia",
         "marker": {
          "color": "#19d3f3",
          "size": [
           4943029
          ],
          "sizemode": "area",
          "sizeref": 1664425,
          "symbol": "circle"
         },
         "mode": "markers",
         "name": "Saudi Arabia",
         "orientation": "v",
         "showlegend": true,
         "type": "scatter",
         "x": [
          1.43389833694
         ],
         "xaxis": "x",
         "y": [
          11626.41975
         ],
         "yaxis": "y"
        },
        {
         "customdata": [
          [
           "Senegal"
          ]
         ],
         "hovertemplate": "Country Name=%{customdata[0]}<br>CO2 emissions (metric tons per capita)=%{x}<br>gdpPercap=%{y}<br>pop=%{marker.size}<extra></extra>",
         "legendgroup": "Senegal",
         "marker": {
          "color": "#FF6692",
          "size": [
           3430243
          ],
          "sizemode": "area",
          "sizeref": 1664425,
          "symbol": "circle"
         },
         "mode": "markers",
         "name": "Senegal",
         "orientation": "v",
         "showlegend": true,
         "type": "scatter",
         "x": [
          0.24254227941
         ],
         "xaxis": "x",
         "y": [
          1654.988723
         ],
         "yaxis": "y"
        },
        {
         "customdata": [
          [
           "Sierra Leone"
          ]
         ],
         "hovertemplate": "Country Name=%{customdata[0]}<br>CO2 emissions (metric tons per capita)=%{x}<br>gdpPercap=%{y}<br>pop=%{marker.size}<extra></extra>",
         "legendgroup": "Sierra Leone",
         "marker": {
          "color": "#B6E880",
          "size": [
           2467895
          ],
          "sizemode": "area",
          "sizeref": 1664425,
          "symbol": "circle"
         },
         "mode": "markers",
         "name": "Sierra Leone",
         "orientation": "v",
         "showlegend": true,
         "type": "scatter",
         "x": [
          0.145725026244
         ],
         "xaxis": "x",
         "y": [
          1116.6398769999998
         ],
         "yaxis": "y"
        },
        {
         "customdata": [
          [
           "Singapore"
          ]
         ],
         "hovertemplate": "Country Name=%{customdata[0]}<br>CO2 emissions (metric tons per capita)=%{x}<br>gdpPercap=%{y}<br>pop=%{marker.size}<extra></extra>",
         "legendgroup": "Singapore",
         "marker": {
          "color": "#FF97FF",
          "size": [
           1750200
          ],
          "sizemode": "area",
          "sizeref": 1664425,
          "symbol": "circle"
         },
         "mode": "markers",
         "name": "Singapore",
         "orientation": "v",
         "showlegend": true,
         "type": "scatter",
         "x": [
          1.47291795223
         ],
         "xaxis": "x",
         "y": [
          3674.735572
         ],
         "yaxis": "y"
        },
        {
         "customdata": [
          [
           "Somalia"
          ]
         ],
         "hovertemplate": "Country Name=%{customdata[0]}<br>CO2 emissions (metric tons per capita)=%{x}<br>gdpPercap=%{y}<br>pop=%{marker.size}<extra></extra>",
         "legendgroup": "Somalia",
         "marker": {
          "color": "#FECB52",
          "size": [
           3080153
          ],
          "sizemode": "area",
          "sizeref": 1664425,
          "symbol": "circle"
         },
         "mode": "markers",
         "name": "Somalia",
         "orientation": "v",
         "showlegend": true,
         "type": "scatter",
         "x": [
          0.0369895900581
         ],
         "xaxis": "x",
         "y": [
          1369.488336
         ],
         "yaxis": "y"
        },
        {
         "customdata": [
          [
           "South Africa"
          ]
         ],
         "hovertemplate": "Country Name=%{customdata[0]}<br>CO2 emissions (metric tons per capita)=%{x}<br>gdpPercap=%{y}<br>pop=%{marker.size}<extra></extra>",
         "legendgroup": "South Africa",
         "marker": {
          "color": "#636efa",
          "size": [
           18356657
          ],
          "sizemode": "area",
          "sizeref": 1664425,
          "symbol": "circle"
         },
         "mode": "markers",
         "name": "South Africa",
         "orientation": "v",
         "showlegend": true,
         "type": "scatter",
         "x": [
          5.729711710680001
         ],
         "xaxis": "x",
         "y": [
          5768.729717
         ],
         "yaxis": "y"
        },
        {
         "customdata": [
          [
           "Spain"
          ]
         ],
         "hovertemplate": "Country Name=%{customdata[0]}<br>CO2 emissions (metric tons per capita)=%{x}<br>gdpPercap=%{y}<br>pop=%{marker.size}<extra></extra>",
         "legendgroup": "Spain",
         "marker": {
          "color": "#EF553B",
          "size": [
           31158061
          ],
          "sizemode": "area",
          "sizeref": 1664425,
          "symbol": "circle"
         },
         "mode": "markers",
         "name": "Spain",
         "orientation": "v",
         "showlegend": true,
         "type": "scatter",
         "x": [
          1.93578153318
         ],
         "xaxis": "x",
         "y": [
          5693.843879
         ],
         "yaxis": "y"
        },
        {
         "customdata": [
          [
           "Sri Lanka"
          ]
         ],
         "hovertemplate": "Country Name=%{customdata[0]}<br>CO2 emissions (metric tons per capita)=%{x}<br>gdpPercap=%{y}<br>pop=%{marker.size}<extra></extra>",
         "legendgroup": "Sri Lanka",
         "marker": {
          "color": "#00cc96",
          "size": [
           10421936
          ],
          "sizemode": "area",
          "sizeref": 1664425,
          "symbol": "circle"
         },
         "mode": "markers",
         "name": "Sri Lanka",
         "orientation": "v",
         "showlegend": true,
         "type": "scatter",
         "x": [
          0.245449870727
         ],
         "xaxis": "x",
         "y": [
          1074.47196
         ],
         "yaxis": "y"
        },
        {
         "customdata": [
          [
           "Sudan"
          ]
         ],
         "hovertemplate": "Country Name=%{customdata[0]}<br>CO2 emissions (metric tons per capita)=%{x}<br>gdpPercap=%{y}<br>pop=%{marker.size}<extra></extra>",
         "legendgroup": "Sudan",
         "marker": {
          "color": "#ab63fa",
          "size": [
           11183227
          ],
          "sizemode": "area",
          "sizeref": 1664425,
          "symbol": "circle"
         },
         "mode": "markers",
         "name": "Sudan",
         "orientation": "v",
         "showlegend": true,
         "type": "scatter",
         "x": [
          0.134379625666
         ],
         "xaxis": "x",
         "y": [
          1959.593767
         ],
         "yaxis": "y"
        },
        {
         "customdata": [
          [
           "Sweden"
          ]
         ],
         "hovertemplate": "Country Name=%{customdata[0]}<br>CO2 emissions (metric tons per capita)=%{x}<br>gdpPercap=%{y}<br>pop=%{marker.size}<extra></extra>",
         "legendgroup": "Sweden",
         "marker": {
          "color": "#FFA15A",
          "size": [
           7561588
          ],
          "sizemode": "area",
          "sizeref": 1664425,
          "symbol": "circle"
         },
         "mode": "markers",
         "name": "Sweden",
         "orientation": "v",
         "showlegend": true,
         "type": "scatter",
         "x": [
          6.787859772309999
         ],
         "xaxis": "x",
         "y": [
          12329.44192
         ],
         "yaxis": "y"
        },
        {
         "customdata": [
          [
           "Switzerland"
          ]
         ],
         "hovertemplate": "Country Name=%{customdata[0]}<br>CO2 emissions (metric tons per capita)=%{x}<br>gdpPercap=%{y}<br>pop=%{marker.size}<extra></extra>",
         "legendgroup": "Switzerland",
         "marker": {
          "color": "#19d3f3",
          "size": [
           5666000
          ],
          "sizemode": "area",
          "sizeref": 1664425,
          "symbol": "circle"
         },
         "mode": "markers",
         "name": "Switzerland",
         "orientation": "v",
         "showlegend": true,
         "type": "scatter",
         "x": [
          4.3335720686800006
         ],
         "xaxis": "x",
         "y": [
          20431.0927
         ],
         "yaxis": "y"
        },
        {
         "customdata": [
          [
           "Tanzania"
          ]
         ],
         "hovertemplate": "Country Name=%{customdata[0]}<br>CO2 emissions (metric tons per capita)=%{x}<br>gdpPercap=%{y}<br>pop=%{marker.size}<extra></extra>",
         "legendgroup": "Tanzania",
         "marker": {
          "color": "#FF6692",
          "size": [
           10863958
          ],
          "sizemode": "area",
          "sizeref": 1664425,
          "symbol": "circle"
         },
         "mode": "markers",
         "name": "Tanzania",
         "orientation": "v",
         "showlegend": true,
         "type": "scatter",
         "x": [
          0.0717344659547
         ],
         "xaxis": "x",
         "y": [
          722.0038073
         ],
         "yaxis": "y"
        },
        {
         "customdata": [
          [
           "Thailand"
          ]
         ],
         "hovertemplate": "Country Name=%{customdata[0]}<br>CO2 emissions (metric tons per capita)=%{x}<br>gdpPercap=%{y}<br>pop=%{marker.size}<extra></extra>",
         "legendgroup": "Thailand",
         "marker": {
          "color": "#B6E880",
          "size": [
           29263397
          ],
          "sizemode": "area",
          "sizeref": 1664425,
          "symbol": "circle"
         },
         "mode": "markers",
         "name": "Thailand",
         "orientation": "v",
         "showlegend": true,
         "type": "scatter",
         "x": [
          0.173129692727
         ],
         "xaxis": "x",
         "y": [
          1002.199172
         ],
         "yaxis": "y"
        },
        {
         "customdata": [
          [
           "Togo"
          ]
         ],
         "hovertemplate": "Country Name=%{customdata[0]}<br>CO2 emissions (metric tons per capita)=%{x}<br>gdpPercap=%{y}<br>pop=%{marker.size}<extra></extra>",
         "legendgroup": "Togo",
         "marker": {
          "color": "#FF97FF",
          "size": [
           1528098
          ],
          "sizemode": "area",
          "sizeref": 1664425,
          "symbol": "circle"
         },
         "mode": "markers",
         "name": "Togo",
         "orientation": "v",
         "showlegend": true,
         "type": "scatter",
         "x": [
          0.0545698734714
         ],
         "xaxis": "x",
         "y": [
          1067.53481
         ],
         "yaxis": "y"
        },
        {
         "customdata": [
          [
           "Trinidad and Tobago"
          ]
         ],
         "hovertemplate": "Country Name=%{customdata[0]}<br>CO2 emissions (metric tons per capita)=%{x}<br>gdpPercap=%{y}<br>pop=%{marker.size}<extra></extra>",
         "legendgroup": "Trinidad and Tobago",
         "marker": {
          "color": "#FECB52",
          "size": [
           887498
          ],
          "sizemode": "area",
          "sizeref": 1664425,
          "symbol": "circle"
         },
         "mode": "markers",
         "name": "Trinidad and Tobago",
         "orientation": "v",
         "showlegend": true,
         "type": "scatter",
         "x": [
          8.22557012974
         ],
         "xaxis": "x",
         "y": [
          4997.5239710000005
         ],
         "yaxis": "y"
        },
        {
         "customdata": [
          [
           "Tunisia"
          ]
         ],
         "hovertemplate": "Country Name=%{customdata[0]}<br>CO2 emissions (metric tons per capita)=%{x}<br>gdpPercap=%{y}<br>pop=%{marker.size}<extra></extra>",
         "legendgroup": "Tunisia",
         "marker": {
          "color": "#636efa",
          "size": [
           4286552
          ],
          "sizemode": "area",
          "sizeref": 1664425,
          "symbol": "circle"
         },
         "mode": "markers",
         "name": "Tunisia",
         "orientation": "v",
         "showlegend": true,
         "type": "scatter",
         "x": [
          0.4129873717800001
         ],
         "xaxis": "x",
         "y": [
          1660.30321
         ],
         "yaxis": "y"
        },
        {
         "customdata": [
          [
           "Turkey"
          ]
         ],
         "hovertemplate": "Country Name=%{customdata[0]}<br>CO2 emissions (metric tons per capita)=%{x}<br>gdpPercap=%{y}<br>pop=%{marker.size}<extra></extra>",
         "legendgroup": "Turkey",
         "marker": {
          "color": "#EF553B",
          "size": [
           29788695
          ],
          "sizemode": "area",
          "sizeref": 1664425,
          "symbol": "circle"
         },
         "mode": "markers",
         "name": "Turkey",
         "orientation": "v",
         "showlegend": true,
         "type": "scatter",
         "x": [
          0.748240893242
         ],
         "xaxis": "x",
         "y": [
          2322.869908
         ],
         "yaxis": "y"
        },
        {
         "customdata": [
          [
           "Uganda"
          ]
         ],
         "hovertemplate": "Country Name=%{customdata[0]}<br>CO2 emissions (metric tons per capita)=%{x}<br>gdpPercap=%{y}<br>pop=%{marker.size}<extra></extra>",
         "legendgroup": "Uganda",
         "marker": {
          "color": "#00cc96",
          "size": [
           7688797
          ],
          "sizemode": "area",
          "sizeref": 1664425,
          "symbol": "circle"
         },
         "mode": "markers",
         "name": "Uganda",
         "orientation": "v",
         "showlegend": true,
         "type": "scatter",
         "x": [
          0.0592582617361
         ],
         "xaxis": "x",
         "y": [
          767.2717397999999
         ],
         "yaxis": "y"
        },
        {
         "customdata": [
          [
           "United Kingdom"
          ]
         ],
         "hovertemplate": "Country Name=%{customdata[0]}<br>CO2 emissions (metric tons per capita)=%{x}<br>gdpPercap=%{y}<br>pop=%{marker.size}<extra></extra>",
         "legendgroup": "United Kingdom",
         "marker": {
          "color": "#ab63fa",
          "size": [
           53292000
          ],
          "sizemode": "area",
          "sizeref": 1664425,
          "symbol": "circle"
         },
         "mode": "markers",
         "name": "United Kingdom",
         "orientation": "v",
         "showlegend": true,
         "type": "scatter",
         "x": [
          11.1429283944
         ],
         "xaxis": "x",
         "y": [
          12477.17707
         ],
         "yaxis": "y"
        },
        {
         "customdata": [
          [
           "United States"
          ]
         ],
         "hovertemplate": "Country Name=%{customdata[0]}<br>CO2 emissions (metric tons per capita)=%{x}<br>gdpPercap=%{y}<br>pop=%{marker.size}<extra></extra>",
         "legendgroup": "United States",
         "marker": {
          "color": "#FFA15A",
          "size": [
           186538000
          ],
          "sizemode": "area",
          "sizeref": 1664425,
          "symbol": "circle"
         },
         "mode": "markers",
         "name": "United States",
         "orientation": "v",
         "showlegend": true,
         "type": "scatter",
         "x": [
          16.013937498
         ],
         "xaxis": "x",
         "y": [
          16173.14586
         ],
         "yaxis": "y"
        },
        {
         "customdata": [
          [
           "Uruguay"
          ]
         ],
         "hovertemplate": "Country Name=%{customdata[0]}<br>CO2 emissions (metric tons per capita)=%{x}<br>gdpPercap=%{y}<br>pop=%{marker.size}<extra></extra>",
         "legendgroup": "Uruguay",
         "marker": {
          "color": "#19d3f3",
          "size": [
           2598466
          ],
          "sizemode": "area",
          "sizeref": 1664425,
          "symbol": "circle"
         },
         "mode": "markers",
         "name": "Uruguay",
         "orientation": "v",
         "showlegend": true,
         "type": "scatter",
         "x": [
          1.54065748629
         ],
         "xaxis": "x",
         "y": [
          5603.357717
         ],
         "yaxis": "y"
        },
        {
         "customdata": [
          [
           "Vietnam"
          ]
         ],
         "hovertemplate": "Country Name=%{customdata[0]}<br>CO2 emissions (metric tons per capita)=%{x}<br>gdpPercap=%{y}<br>pop=%{marker.size}<extra></extra>",
         "legendgroup": "Vietnam",
         "marker": {
          "color": "#FF6692",
          "size": [
           33796140
          ],
          "sizemode": "area",
          "sizeref": 1664425,
          "symbol": "circle"
         },
         "mode": "markers",
         "name": "Vietnam",
         "orientation": "v",
         "showlegend": true,
         "type": "scatter",
         "x": [
          0.258759875979
         ],
         "xaxis": "x",
         "y": [
          772.0491602000001
         ],
         "yaxis": "y"
        }
       ],
       "layout": {
        "legend": {
         "itemsizing": "constant",
         "title": {
          "text": "Country Name"
         },
         "tracegroupgap": 0
        },
        "template": {
         "data": {
          "bar": [
           {
            "error_x": {
             "color": "#2a3f5f"
            },
            "error_y": {
             "color": "#2a3f5f"
            },
            "marker": {
             "line": {
              "color": "#E5ECF6",
              "width": 0.5
             }
            },
            "type": "bar"
           }
          ],
          "barpolar": [
           {
            "marker": {
             "line": {
              "color": "#E5ECF6",
              "width": 0.5
             }
            },
            "type": "barpolar"
           }
          ],
          "carpet": [
           {
            "aaxis": {
             "endlinecolor": "#2a3f5f",
             "gridcolor": "white",
             "linecolor": "white",
             "minorgridcolor": "white",
             "startlinecolor": "#2a3f5f"
            },
            "baxis": {
             "endlinecolor": "#2a3f5f",
             "gridcolor": "white",
             "linecolor": "white",
             "minorgridcolor": "white",
             "startlinecolor": "#2a3f5f"
            },
            "type": "carpet"
           }
          ],
          "choropleth": [
           {
            "colorbar": {
             "outlinewidth": 0,
             "ticks": ""
            },
            "type": "choropleth"
           }
          ],
          "contour": [
           {
            "colorbar": {
             "outlinewidth": 0,
             "ticks": ""
            },
            "colorscale": [
             [
              0,
              "#0d0887"
             ],
             [
              0.1111111111111111,
              "#46039f"
             ],
             [
              0.2222222222222222,
              "#7201a8"
             ],
             [
              0.3333333333333333,
              "#9c179e"
             ],
             [
              0.4444444444444444,
              "#bd3786"
             ],
             [
              0.5555555555555556,
              "#d8576b"
             ],
             [
              0.6666666666666666,
              "#ed7953"
             ],
             [
              0.7777777777777778,
              "#fb9f3a"
             ],
             [
              0.8888888888888888,
              "#fdca26"
             ],
             [
              1,
              "#f0f921"
             ]
            ],
            "type": "contour"
           }
          ],
          "contourcarpet": [
           {
            "colorbar": {
             "outlinewidth": 0,
             "ticks": ""
            },
            "type": "contourcarpet"
           }
          ],
          "heatmap": [
           {
            "colorbar": {
             "outlinewidth": 0,
             "ticks": ""
            },
            "colorscale": [
             [
              0,
              "#0d0887"
             ],
             [
              0.1111111111111111,
              "#46039f"
             ],
             [
              0.2222222222222222,
              "#7201a8"
             ],
             [
              0.3333333333333333,
              "#9c179e"
             ],
             [
              0.4444444444444444,
              "#bd3786"
             ],
             [
              0.5555555555555556,
              "#d8576b"
             ],
             [
              0.6666666666666666,
              "#ed7953"
             ],
             [
              0.7777777777777778,
              "#fb9f3a"
             ],
             [
              0.8888888888888888,
              "#fdca26"
             ],
             [
              1,
              "#f0f921"
             ]
            ],
            "type": "heatmap"
           }
          ],
          "heatmapgl": [
           {
            "colorbar": {
             "outlinewidth": 0,
             "ticks": ""
            },
            "colorscale": [
             [
              0,
              "#0d0887"
             ],
             [
              0.1111111111111111,
              "#46039f"
             ],
             [
              0.2222222222222222,
              "#7201a8"
             ],
             [
              0.3333333333333333,
              "#9c179e"
             ],
             [
              0.4444444444444444,
              "#bd3786"
             ],
             [
              0.5555555555555556,
              "#d8576b"
             ],
             [
              0.6666666666666666,
              "#ed7953"
             ],
             [
              0.7777777777777778,
              "#fb9f3a"
             ],
             [
              0.8888888888888888,
              "#fdca26"
             ],
             [
              1,
              "#f0f921"
             ]
            ],
            "type": "heatmapgl"
           }
          ],
          "histogram": [
           {
            "marker": {
             "colorbar": {
              "outlinewidth": 0,
              "ticks": ""
             }
            },
            "type": "histogram"
           }
          ],
          "histogram2d": [
           {
            "colorbar": {
             "outlinewidth": 0,
             "ticks": ""
            },
            "colorscale": [
             [
              0,
              "#0d0887"
             ],
             [
              0.1111111111111111,
              "#46039f"
             ],
             [
              0.2222222222222222,
              "#7201a8"
             ],
             [
              0.3333333333333333,
              "#9c179e"
             ],
             [
              0.4444444444444444,
              "#bd3786"
             ],
             [
              0.5555555555555556,
              "#d8576b"
             ],
             [
              0.6666666666666666,
              "#ed7953"
             ],
             [
              0.7777777777777778,
              "#fb9f3a"
             ],
             [
              0.8888888888888888,
              "#fdca26"
             ],
             [
              1,
              "#f0f921"
             ]
            ],
            "type": "histogram2d"
           }
          ],
          "histogram2dcontour": [
           {
            "colorbar": {
             "outlinewidth": 0,
             "ticks": ""
            },
            "colorscale": [
             [
              0,
              "#0d0887"
             ],
             [
              0.1111111111111111,
              "#46039f"
             ],
             [
              0.2222222222222222,
              "#7201a8"
             ],
             [
              0.3333333333333333,
              "#9c179e"
             ],
             [
              0.4444444444444444,
              "#bd3786"
             ],
             [
              0.5555555555555556,
              "#d8576b"
             ],
             [
              0.6666666666666666,
              "#ed7953"
             ],
             [
              0.7777777777777778,
              "#fb9f3a"
             ],
             [
              0.8888888888888888,
              "#fdca26"
             ],
             [
              1,
              "#f0f921"
             ]
            ],
            "type": "histogram2dcontour"
           }
          ],
          "mesh3d": [
           {
            "colorbar": {
             "outlinewidth": 0,
             "ticks": ""
            },
            "type": "mesh3d"
           }
          ],
          "parcoords": [
           {
            "line": {
             "colorbar": {
              "outlinewidth": 0,
              "ticks": ""
             }
            },
            "type": "parcoords"
           }
          ],
          "pie": [
           {
            "automargin": true,
            "type": "pie"
           }
          ],
          "scatter": [
           {
            "marker": {
             "colorbar": {
              "outlinewidth": 0,
              "ticks": ""
             }
            },
            "type": "scatter"
           }
          ],
          "scatter3d": [
           {
            "line": {
             "colorbar": {
              "outlinewidth": 0,
              "ticks": ""
             }
            },
            "marker": {
             "colorbar": {
              "outlinewidth": 0,
              "ticks": ""
             }
            },
            "type": "scatter3d"
           }
          ],
          "scattercarpet": [
           {
            "marker": {
             "colorbar": {
              "outlinewidth": 0,
              "ticks": ""
             }
            },
            "type": "scattercarpet"
           }
          ],
          "scattergeo": [
           {
            "marker": {
             "colorbar": {
              "outlinewidth": 0,
              "ticks": ""
             }
            },
            "type": "scattergeo"
           }
          ],
          "scattergl": [
           {
            "marker": {
             "colorbar": {
              "outlinewidth": 0,
              "ticks": ""
             }
            },
            "type": "scattergl"
           }
          ],
          "scattermapbox": [
           {
            "marker": {
             "colorbar": {
              "outlinewidth": 0,
              "ticks": ""
             }
            },
            "type": "scattermapbox"
           }
          ],
          "scatterpolar": [
           {
            "marker": {
             "colorbar": {
              "outlinewidth": 0,
              "ticks": ""
             }
            },
            "type": "scatterpolar"
           }
          ],
          "scatterpolargl": [
           {
            "marker": {
             "colorbar": {
              "outlinewidth": 0,
              "ticks": ""
             }
            },
            "type": "scatterpolargl"
           }
          ],
          "scatterternary": [
           {
            "marker": {
             "colorbar": {
              "outlinewidth": 0,
              "ticks": ""
             }
            },
            "type": "scatterternary"
           }
          ],
          "surface": [
           {
            "colorbar": {
             "outlinewidth": 0,
             "ticks": ""
            },
            "colorscale": [
             [
              0,
              "#0d0887"
             ],
             [
              0.1111111111111111,
              "#46039f"
             ],
             [
              0.2222222222222222,
              "#7201a8"
             ],
             [
              0.3333333333333333,
              "#9c179e"
             ],
             [
              0.4444444444444444,
              "#bd3786"
             ],
             [
              0.5555555555555556,
              "#d8576b"
             ],
             [
              0.6666666666666666,
              "#ed7953"
             ],
             [
              0.7777777777777778,
              "#fb9f3a"
             ],
             [
              0.8888888888888888,
              "#fdca26"
             ],
             [
              1,
              "#f0f921"
             ]
            ],
            "type": "surface"
           }
          ],
          "table": [
           {
            "cells": {
             "fill": {
              "color": "#EBF0F8"
             },
             "line": {
              "color": "white"
             }
            },
            "header": {
             "fill": {
              "color": "#C8D4E3"
             },
             "line": {
              "color": "white"
             }
            },
            "type": "table"
           }
          ]
         },
         "layout": {
          "annotationdefaults": {
           "arrowcolor": "#2a3f5f",
           "arrowhead": 0,
           "arrowwidth": 1
          },
          "autotypenumbers": "strict",
          "coloraxis": {
           "colorbar": {
            "outlinewidth": 0,
            "ticks": ""
           }
          },
          "colorscale": {
           "diverging": [
            [
             0,
             "#8e0152"
            ],
            [
             0.1,
             "#c51b7d"
            ],
            [
             0.2,
             "#de77ae"
            ],
            [
             0.3,
             "#f1b6da"
            ],
            [
             0.4,
             "#fde0ef"
            ],
            [
             0.5,
             "#f7f7f7"
            ],
            [
             0.6,
             "#e6f5d0"
            ],
            [
             0.7,
             "#b8e186"
            ],
            [
             0.8,
             "#7fbc41"
            ],
            [
             0.9,
             "#4d9221"
            ],
            [
             1,
             "#276419"
            ]
           ],
           "sequential": [
            [
             0,
             "#0d0887"
            ],
            [
             0.1111111111111111,
             "#46039f"
            ],
            [
             0.2222222222222222,
             "#7201a8"
            ],
            [
             0.3333333333333333,
             "#9c179e"
            ],
            [
             0.4444444444444444,
             "#bd3786"
            ],
            [
             0.5555555555555556,
             "#d8576b"
            ],
            [
             0.6666666666666666,
             "#ed7953"
            ],
            [
             0.7777777777777778,
             "#fb9f3a"
            ],
            [
             0.8888888888888888,
             "#fdca26"
            ],
            [
             1,
             "#f0f921"
            ]
           ],
           "sequentialminus": [
            [
             0,
             "#0d0887"
            ],
            [
             0.1111111111111111,
             "#46039f"
            ],
            [
             0.2222222222222222,
             "#7201a8"
            ],
            [
             0.3333333333333333,
             "#9c179e"
            ],
            [
             0.4444444444444444,
             "#bd3786"
            ],
            [
             0.5555555555555556,
             "#d8576b"
            ],
            [
             0.6666666666666666,
             "#ed7953"
            ],
            [
             0.7777777777777778,
             "#fb9f3a"
            ],
            [
             0.8888888888888888,
             "#fdca26"
            ],
            [
             1,
             "#f0f921"
            ]
           ]
          },
          "colorway": [
           "#636efa",
           "#EF553B",
           "#00cc96",
           "#ab63fa",
           "#FFA15A",
           "#19d3f3",
           "#FF6692",
           "#B6E880",
           "#FF97FF",
           "#FECB52"
          ],
          "font": {
           "color": "#2a3f5f"
          },
          "geo": {
           "bgcolor": "white",
           "lakecolor": "white",
           "landcolor": "#E5ECF6",
           "showlakes": true,
           "showland": true,
           "subunitcolor": "white"
          },
          "hoverlabel": {
           "align": "left"
          },
          "hovermode": "closest",
          "mapbox": {
           "style": "light"
          },
          "paper_bgcolor": "white",
          "plot_bgcolor": "#E5ECF6",
          "polar": {
           "angularaxis": {
            "gridcolor": "white",
            "linecolor": "white",
            "ticks": ""
           },
           "bgcolor": "#E5ECF6",
           "radialaxis": {
            "gridcolor": "white",
            "linecolor": "white",
            "ticks": ""
           }
          },
          "scene": {
           "xaxis": {
            "backgroundcolor": "#E5ECF6",
            "gridcolor": "white",
            "gridwidth": 2,
            "linecolor": "white",
            "showbackground": true,
            "ticks": "",
            "zerolinecolor": "white"
           },
           "yaxis": {
            "backgroundcolor": "#E5ECF6",
            "gridcolor": "white",
            "gridwidth": 2,
            "linecolor": "white",
            "showbackground": true,
            "ticks": "",
            "zerolinecolor": "white"
           },
           "zaxis": {
            "backgroundcolor": "#E5ECF6",
            "gridcolor": "white",
            "gridwidth": 2,
            "linecolor": "white",
            "showbackground": true,
            "ticks": "",
            "zerolinecolor": "white"
           }
          },
          "shapedefaults": {
           "line": {
            "color": "#2a3f5f"
           }
          },
          "ternary": {
           "aaxis": {
            "gridcolor": "white",
            "linecolor": "white",
            "ticks": ""
           },
           "baxis": {
            "gridcolor": "white",
            "linecolor": "white",
            "ticks": ""
           },
           "bgcolor": "#E5ECF6",
           "caxis": {
            "gridcolor": "white",
            "linecolor": "white",
            "ticks": ""
           }
          },
          "title": {
           "x": 0.05
          },
          "xaxis": {
           "automargin": true,
           "gridcolor": "white",
           "linecolor": "white",
           "ticks": "",
           "title": {
            "standoff": 15
           },
           "zerolinecolor": "white",
           "zerolinewidth": 2
          },
          "yaxis": {
           "automargin": true,
           "gridcolor": "white",
           "linecolor": "white",
           "ticks": "",
           "title": {
            "standoff": 15
           },
           "zerolinecolor": "white",
           "zerolinewidth": 2
          }
         }
        },
        "title": {
         "text": "CO2 emissions (metric tons per capita) and GDP per cap. Year 1962"
        },
        "xaxis": {
         "anchor": "y",
         "domain": [
          0,
          1
         ],
         "title": {
          "text": "CO2 emissions (metric tons per capita)"
         }
        },
        "yaxis": {
         "anchor": "x",
         "domain": [
          0,
          1
         ],
         "title": {
          "text": "gdpPercap"
         }
        }
       }
      },
      "text/html": [
       "<div>                            <div id=\"51f71a6a-9da3-462c-bda6-f3f7b35367d1\" class=\"plotly-graph-div\" style=\"height:525px; width:100%;\"></div>            <script type=\"text/javascript\">                require([\"plotly\"], function(Plotly) {                    window.PLOTLYENV=window.PLOTLYENV || {};                                    if (document.getElementById(\"51f71a6a-9da3-462c-bda6-f3f7b35367d1\")) {                    Plotly.newPlot(                        \"51f71a6a-9da3-462c-bda6-f3f7b35367d1\",                        [{\"customdata\": [[\"Afghanistan\"]], \"hovertemplate\": \"Country Name=%{customdata[0]}<br>CO2 emissions (metric tons per capita)=%{x}<br>gdpPercap=%{y}<br>pop=%{marker.size}<extra></extra>\", \"legendgroup\": \"Afghanistan\", \"marker\": {\"color\": \"#636efa\", \"size\": [10267083.0], \"sizemode\": \"area\", \"sizeref\": 1664425.0, \"symbol\": \"circle\"}, \"mode\": \"markers\", \"name\": \"Afghanistan\", \"orientation\": \"v\", \"showlegend\": true, \"type\": \"scatter\", \"x\": [0.0737813379863999], \"xaxis\": \"x\", \"y\": [853.1007099999999], \"yaxis\": \"y\"}, {\"customdata\": [[\"Albania\"]], \"hovertemplate\": \"Country Name=%{customdata[0]}<br>CO2 emissions (metric tons per capita)=%{x}<br>gdpPercap=%{y}<br>pop=%{marker.size}<extra></extra>\", \"legendgroup\": \"Albania\", \"marker\": {\"color\": \"#EF553B\", \"size\": [1728137.0], \"sizemode\": \"area\", \"sizeref\": 1664425.0, \"symbol\": \"circle\"}, \"mode\": \"markers\", \"name\": \"Albania\", \"orientation\": \"v\", \"showlegend\": true, \"type\": \"scatter\", \"x\": [1.43995596379], \"xaxis\": \"x\", \"y\": [2312.888958], \"yaxis\": \"y\"}, {\"customdata\": [[\"Algeria\"]], \"hovertemplate\": \"Country Name=%{customdata[0]}<br>CO2 emissions (metric tons per capita)=%{x}<br>gdpPercap=%{y}<br>pop=%{marker.size}<extra></extra>\", \"legendgroup\": \"Algeria\", \"marker\": {\"color\": \"#00cc96\", \"size\": [11000948.0], \"sizemode\": \"area\", \"sizeref\": 1664425.0, \"symbol\": \"circle\"}, \"mode\": \"markers\", \"name\": \"Algeria\", \"orientation\": \"v\", \"showlegend\": true, \"type\": \"scatter\", \"x\": [0.484953660141], \"xaxis\": \"x\", \"y\": [2550.81688], \"yaxis\": \"y\"}, {\"customdata\": [[\"Angola\"]], \"hovertemplate\": \"Country Name=%{customdata[0]}<br>CO2 emissions (metric tons per capita)=%{x}<br>gdpPercap=%{y}<br>pop=%{marker.size}<extra></extra>\", \"legendgroup\": \"Angola\", \"marker\": {\"color\": \"#ab63fa\", \"size\": [4826015.0], \"sizemode\": \"area\", \"sizeref\": 1664425.0, \"symbol\": \"circle\"}, \"mode\": \"markers\", \"name\": \"Angola\", \"orientation\": \"v\", \"showlegend\": true, \"type\": \"scatter\", \"x\": [0.216025342555], \"xaxis\": \"x\", \"y\": [4269.276742], \"yaxis\": \"y\"}, {\"customdata\": [[\"Argentina\"]], \"hovertemplate\": \"Country Name=%{customdata[0]}<br>CO2 emissions (metric tons per capita)=%{x}<br>gdpPercap=%{y}<br>pop=%{marker.size}<extra></extra>\", \"legendgroup\": \"Argentina\", \"marker\": {\"color\": \"#FFA15A\", \"size\": [21283783.0], \"sizemode\": \"area\", \"sizeref\": 1664425.0, \"symbol\": \"circle\"}, \"mode\": \"markers\", \"name\": \"Argentina\", \"orientation\": \"v\", \"showlegend\": true, \"type\": \"scatter\", \"x\": [2.5223921045], \"xaxis\": \"x\", \"y\": [7133.166023000001], \"yaxis\": \"y\"}, {\"customdata\": [[\"Australia\"]], \"hovertemplate\": \"Country Name=%{customdata[0]}<br>CO2 emissions (metric tons per capita)=%{x}<br>gdpPercap=%{y}<br>pop=%{marker.size}<extra></extra>\", \"legendgroup\": \"Australia\", \"marker\": {\"color\": \"#19d3f3\", \"size\": [10794968.0], \"sizemode\": \"area\", \"sizeref\": 1664425.0, \"symbol\": \"circle\"}, \"mode\": \"markers\", \"name\": \"Australia\", \"orientation\": \"v\", \"showlegend\": true, \"type\": \"scatter\", \"x\": [8.83568804692], \"xaxis\": \"x\", \"y\": [12217.22686], \"yaxis\": \"y\"}, {\"customdata\": [[\"Austria\"]], \"hovertemplate\": \"Country Name=%{customdata[0]}<br>CO2 emissions (metric tons per capita)=%{x}<br>gdpPercap=%{y}<br>pop=%{marker.size}<extra></extra>\", \"legendgroup\": \"Austria\", \"marker\": {\"color\": \"#FF6692\", \"size\": [7129864.0], \"sizemode\": \"area\", \"sizeref\": 1664425.0, \"symbol\": \"circle\"}, \"mode\": \"markers\", \"name\": \"Austria\", \"orientation\": \"v\", \"showlegend\": true, \"type\": \"scatter\", \"x\": [4.7553616731], \"xaxis\": \"x\", \"y\": [10750.72111], \"yaxis\": \"y\"}, {\"customdata\": [[\"Bahrain\"]], \"hovertemplate\": \"Country Name=%{customdata[0]}<br>CO2 emissions (metric tons per capita)=%{x}<br>gdpPercap=%{y}<br>pop=%{marker.size}<extra></extra>\", \"legendgroup\": \"Bahrain\", \"marker\": {\"color\": \"#B6E880\", \"size\": [171863.0], \"sizemode\": \"area\", \"sizeref\": 1664425.0, \"symbol\": \"circle\"}, \"mode\": \"markers\", \"name\": \"Bahrain\", \"orientation\": \"v\", \"showlegend\": true, \"type\": \"scatter\", \"x\": [9.19360857735], \"xaxis\": \"x\", \"y\": [12753.27514], \"yaxis\": \"y\"}, {\"customdata\": [[\"Belgium\"]], \"hovertemplate\": \"Country Name=%{customdata[0]}<br>CO2 emissions (metric tons per capita)=%{x}<br>gdpPercap=%{y}<br>pop=%{marker.size}<extra></extra>\", \"legendgroup\": \"Belgium\", \"marker\": {\"color\": \"#FF97FF\", \"size\": [9218400.0], \"sizemode\": \"area\", \"sizeref\": 1664425.0, \"symbol\": \"circle\"}, \"mode\": \"markers\", \"name\": \"Belgium\", \"orientation\": \"v\", \"showlegend\": true, \"type\": \"scatter\", \"x\": [10.6411896304], \"xaxis\": \"x\", \"y\": [10991.20676], \"yaxis\": \"y\"}, {\"customdata\": [[\"Benin\"]], \"hovertemplate\": \"Country Name=%{customdata[0]}<br>CO2 emissions (metric tons per capita)=%{x}<br>gdpPercap=%{y}<br>pop=%{marker.size}<extra></extra>\", \"legendgroup\": \"Benin\", \"marker\": {\"color\": \"#FECB52\", \"size\": [2151895.0], \"sizemode\": \"area\", \"sizeref\": 1664425.0, \"symbol\": \"circle\"}, \"mode\": \"markers\", \"name\": \"Benin\", \"orientation\": \"v\", \"showlegend\": true, \"type\": \"scatter\", \"x\": [0.0542015282643], \"xaxis\": \"x\", \"y\": [949.4990641], \"yaxis\": \"y\"}, {\"customdata\": [[\"Bolivia\"]], \"hovertemplate\": \"Country Name=%{customdata[0]}<br>CO2 emissions (metric tons per capita)=%{x}<br>gdpPercap=%{y}<br>pop=%{marker.size}<extra></extra>\", \"legendgroup\": \"Bolivia\", \"marker\": {\"color\": \"#636efa\", \"size\": [3593918.0], \"sizemode\": \"area\", \"sizeref\": 1664425.0, \"symbol\": \"circle\"}, \"mode\": \"markers\", \"name\": \"Bolivia\", \"orientation\": \"v\", \"showlegend\": true, \"type\": \"scatter\", \"x\": [0.28662649397], \"xaxis\": \"x\", \"y\": [2180.972546], \"yaxis\": \"y\"}, {\"customdata\": [[\"Brazil\"]], \"hovertemplate\": \"Country Name=%{customdata[0]}<br>CO2 emissions (metric tons per capita)=%{x}<br>gdpPercap=%{y}<br>pop=%{marker.size}<extra></extra>\", \"legendgroup\": \"Brazil\", \"marker\": {\"color\": \"#EF553B\", \"size\": [76039390.0], \"sizemode\": \"area\", \"sizeref\": 1664425.0, \"symbol\": \"circle\"}, \"mode\": \"markers\", \"name\": \"Brazil\", \"orientation\": \"v\", \"showlegend\": true, \"type\": \"scatter\", \"x\": [0.6972807432160001], \"xaxis\": \"x\", \"y\": [3336.585802], \"yaxis\": \"y\"}, {\"customdata\": [[\"Bulgaria\"]], \"hovertemplate\": \"Country Name=%{customdata[0]}<br>CO2 emissions (metric tons per capita)=%{x}<br>gdpPercap=%{y}<br>pop=%{marker.size}<extra></extra>\", \"legendgroup\": \"Bulgaria\", \"marker\": {\"color\": \"#00cc96\", \"size\": [8012946.0], \"sizemode\": \"area\", \"sizeref\": 1664425.0, \"symbol\": \"circle\"}, \"mode\": \"markers\", \"name\": \"Bulgaria\", \"orientation\": \"v\", \"showlegend\": true, \"type\": \"scatter\", \"x\": [3.83589181807], \"xaxis\": \"x\", \"y\": [4254.337839], \"yaxis\": \"y\"}, {\"customdata\": [[\"Burkina Faso\"]], \"hovertemplate\": \"Country Name=%{customdata[0]}<br>CO2 emissions (metric tons per capita)=%{x}<br>gdpPercap=%{y}<br>pop=%{marker.size}<extra></extra>\", \"legendgroup\": \"Burkina Faso\", \"marker\": {\"color\": \"#ab63fa\", \"size\": [4919632.0], \"sizemode\": \"area\", \"sizeref\": 1664425.0, \"symbol\": \"circle\"}, \"mode\": \"markers\", \"name\": \"Burkina Faso\", \"orientation\": \"v\", \"showlegend\": true, \"type\": \"scatter\", \"x\": [0.0170031197553], \"xaxis\": \"x\", \"y\": [722.5120206], \"yaxis\": \"y\"}, {\"customdata\": [[\"Burundi\"]], \"hovertemplate\": \"Country Name=%{customdata[0]}<br>CO2 emissions (metric tons per capita)=%{x}<br>gdpPercap=%{y}<br>pop=%{marker.size}<extra></extra>\", \"legendgroup\": \"Burundi\", \"marker\": {\"color\": \"#FFA15A\", \"size\": [2961915.0], \"sizemode\": \"area\", \"sizeref\": 1664425.0, \"symbol\": \"circle\"}, \"mode\": \"markers\", \"name\": \"Burundi\", \"orientation\": \"v\", \"showlegend\": true, \"type\": \"scatter\", \"x\": [0.0152025731471], \"xaxis\": \"x\", \"y\": [355.2032273], \"yaxis\": \"y\"}, {\"customdata\": [[\"Cambodia\"]], \"hovertemplate\": \"Country Name=%{customdata[0]}<br>CO2 emissions (metric tons per capita)=%{x}<br>gdpPercap=%{y}<br>pop=%{marker.size}<extra></extra>\", \"legendgroup\": \"Cambodia\", \"marker\": {\"color\": \"#19d3f3\", \"size\": [6083619.0], \"sizemode\": \"area\", \"sizeref\": 1664425.0, \"symbol\": \"circle\"}, \"mode\": \"markers\", \"name\": \"Cambodia\", \"orientation\": \"v\", \"showlegend\": true, \"type\": \"scatter\", \"x\": [0.0511105919396], \"xaxis\": \"x\", \"y\": [496.9136476], \"yaxis\": \"y\"}, {\"customdata\": [[\"Cameroon\"]], \"hovertemplate\": \"Country Name=%{customdata[0]}<br>CO2 emissions (metric tons per capita)=%{x}<br>gdpPercap=%{y}<br>pop=%{marker.size}<extra></extra>\", \"legendgroup\": \"Cameroon\", \"marker\": {\"color\": \"#FF6692\", \"size\": [5793633.0], \"sizemode\": \"area\", \"sizeref\": 1664425.0, \"symbol\": \"circle\"}, \"mode\": \"markers\", \"name\": \"Cameroon\", \"orientation\": \"v\", \"showlegend\": true, \"type\": \"scatter\", \"x\": [0.0517885260883], \"xaxis\": \"x\", \"y\": [1399.607441], \"yaxis\": \"y\"}, {\"customdata\": [[\"Canada\"]], \"hovertemplate\": \"Country Name=%{customdata[0]}<br>CO2 emissions (metric tons per capita)=%{x}<br>gdpPercap=%{y}<br>pop=%{marker.size}<extra></extra>\", \"legendgroup\": \"Canada\", \"marker\": {\"color\": \"#B6E880\", \"size\": [18985849.0], \"sizemode\": \"area\", \"sizeref\": 1664425.0, \"symbol\": \"circle\"}, \"mode\": \"markers\", \"name\": \"Canada\", \"orientation\": \"v\", \"showlegend\": true, \"type\": \"scatter\", \"x\": [11.1306274847], \"xaxis\": \"x\", \"y\": [13462.48555], \"yaxis\": \"y\"}, {\"customdata\": [[\"Central African Republic\"]], \"hovertemplate\": \"Country Name=%{customdata[0]}<br>CO2 emissions (metric tons per capita)=%{x}<br>gdpPercap=%{y}<br>pop=%{marker.size}<extra></extra>\", \"legendgroup\": \"Central African Republic\", \"marker\": {\"color\": \"#FF97FF\", \"size\": [1523478.0], \"sizemode\": \"area\", \"sizeref\": 1664425.0, \"symbol\": \"circle\"}, \"mode\": \"markers\", \"name\": \"Central African Republic\", \"orientation\": \"v\", \"showlegend\": true, \"type\": \"scatter\", \"x\": [0.0471138131996], \"xaxis\": \"x\", \"y\": [1193.068753], \"yaxis\": \"y\"}, {\"customdata\": [[\"Chad\"]], \"hovertemplate\": \"Country Name=%{customdata[0]}<br>CO2 emissions (metric tons per capita)=%{x}<br>gdpPercap=%{y}<br>pop=%{marker.size}<extra></extra>\", \"legendgroup\": \"Chad\", \"marker\": {\"color\": \"#FECB52\", \"size\": [3150417.0], \"sizemode\": \"area\", \"sizeref\": 1664425.0, \"symbol\": \"circle\"}, \"mode\": \"markers\", \"name\": \"Chad\", \"orientation\": \"v\", \"showlegend\": true, \"type\": \"scatter\", \"x\": [0.0270119656401], \"xaxis\": \"x\", \"y\": [1389.817618], \"yaxis\": \"y\"}, {\"customdata\": [[\"Chile\"]], \"hovertemplate\": \"Country Name=%{customdata[0]}<br>CO2 emissions (metric tons per capita)=%{x}<br>gdpPercap=%{y}<br>pop=%{marker.size}<extra></extra>\", \"legendgroup\": \"Chile\", \"marker\": {\"color\": \"#636efa\", \"size\": [7961258.0], \"sizemode\": \"area\", \"sizeref\": 1664425.0, \"symbol\": \"circle\"}, \"mode\": \"markers\", \"name\": \"Chile\", \"orientation\": \"v\", \"showlegend\": true, \"type\": \"scatter\", \"x\": [2.07658831467], \"xaxis\": \"x\", \"y\": [4519.094331], \"yaxis\": \"y\"}, {\"customdata\": [[\"China\"]], \"hovertemplate\": \"Country Name=%{customdata[0]}<br>CO2 emissions (metric tons per capita)=%{x}<br>gdpPercap=%{y}<br>pop=%{marker.size}<extra></extra>\", \"legendgroup\": \"China\", \"marker\": {\"color\": \"#EF553B\", \"size\": [665770000.0], \"sizemode\": \"area\", \"sizeref\": 1664425.0, \"symbol\": \"circle\"}, \"mode\": \"markers\", \"name\": \"China\", \"orientation\": \"v\", \"showlegend\": true, \"type\": \"scatter\", \"x\": [0.661428164381], \"xaxis\": \"x\", \"y\": [487.6740183], \"yaxis\": \"y\"}, {\"customdata\": [[\"Colombia\"]], \"hovertemplate\": \"Country Name=%{customdata[0]}<br>CO2 emissions (metric tons per capita)=%{x}<br>gdpPercap=%{y}<br>pop=%{marker.size}<extra></extra>\", \"legendgroup\": \"Colombia\", \"marker\": {\"color\": \"#00cc96\", \"size\": [17009885.0], \"sizemode\": \"area\", \"sizeref\": 1664425.0, \"symbol\": \"circle\"}, \"mode\": \"markers\", \"name\": \"Colombia\", \"orientation\": \"v\", \"showlegend\": true, \"type\": \"scatter\", \"x\": [1.11098569008], \"xaxis\": \"x\", \"y\": [2492.351109], \"yaxis\": \"y\"}, {\"customdata\": [[\"Comoros\"]], \"hovertemplate\": \"Country Name=%{customdata[0]}<br>CO2 emissions (metric tons per capita)=%{x}<br>gdpPercap=%{y}<br>pop=%{marker.size}<extra></extra>\", \"legendgroup\": \"Comoros\", \"marker\": {\"color\": \"#ab63fa\", \"size\": [191689.0], \"sizemode\": \"area\", \"sizeref\": 1664425.0, \"symbol\": \"circle\"}, \"mode\": \"markers\", \"name\": \"Comoros\", \"orientation\": \"v\", \"showlegend\": true, \"type\": \"scatter\", \"x\": [0.0564269593763], \"xaxis\": \"x\", \"y\": [1406.648278], \"yaxis\": \"y\"}, {\"customdata\": [[\"Costa Rica\"]], \"hovertemplate\": \"Country Name=%{customdata[0]}<br>CO2 emissions (metric tons per capita)=%{x}<br>gdpPercap=%{y}<br>pop=%{marker.size}<extra></extra>\", \"legendgroup\": \"Costa Rica\", \"marker\": {\"color\": \"#FFA15A\", \"size\": [1345187.0], \"sizemode\": \"area\", \"sizeref\": 1664425.0, \"symbol\": \"circle\"}, \"mode\": \"markers\", \"name\": \"Costa Rica\", \"orientation\": \"v\", \"showlegend\": true, \"type\": \"scatter\", \"x\": [0.383956810879], \"xaxis\": \"x\", \"y\": [3460.937025], \"yaxis\": \"y\"}, {\"customdata\": [[\"Cote d'Ivoire\"]], \"hovertemplate\": \"Country Name=%{customdata[0]}<br>CO2 emissions (metric tons per capita)=%{x}<br>gdpPercap=%{y}<br>pop=%{marker.size}<extra></extra>\", \"legendgroup\": \"Cote d'Ivoire\", \"marker\": {\"color\": \"#19d3f3\", \"size\": [3832408.0], \"sizemode\": \"area\", \"sizeref\": 1664425.0, \"symbol\": \"circle\"}, \"mode\": \"markers\", \"name\": \"Cote d'Ivoire\", \"orientation\": \"v\", \"showlegend\": true, \"type\": \"scatter\", \"x\": [0.156855909486], \"xaxis\": \"x\", \"y\": [1728.8694280000002], \"yaxis\": \"y\"}, {\"customdata\": [[\"Cuba\"]], \"hovertemplate\": \"Country Name=%{customdata[0]}<br>CO2 emissions (metric tons per capita)=%{x}<br>gdpPercap=%{y}<br>pop=%{marker.size}<extra></extra>\", \"legendgroup\": \"Cuba\", \"marker\": {\"color\": \"#FF6692\", \"size\": [7254373.0], \"sizemode\": \"area\", \"sizeref\": 1664425.0, \"symbol\": \"circle\"}, \"mode\": \"markers\", \"name\": \"Cuba\", \"orientation\": \"v\", \"showlegend\": true, \"type\": \"scatter\", \"x\": [1.90181472038], \"xaxis\": \"x\", \"y\": [5180.75591], \"yaxis\": \"y\"}, {\"customdata\": [[\"Denmark\"]], \"hovertemplate\": \"Country Name=%{customdata[0]}<br>CO2 emissions (metric tons per capita)=%{x}<br>gdpPercap=%{y}<br>pop=%{marker.size}<extra></extra>\", \"legendgroup\": \"Denmark\", \"marker\": {\"color\": \"#B6E880\", \"size\": [4646899.0], \"sizemode\": \"area\", \"sizeref\": 1664425.0, \"symbol\": \"circle\"}, \"mode\": \"markers\", \"name\": \"Denmark\", \"orientation\": \"v\", \"showlegend\": true, \"type\": \"scatter\", \"x\": [7.945107361080001], \"xaxis\": \"x\", \"y\": [13583.31351], \"yaxis\": \"y\"}, {\"customdata\": [[\"Djibouti\"]], \"hovertemplate\": \"Country Name=%{customdata[0]}<br>CO2 emissions (metric tons per capita)=%{x}<br>gdpPercap=%{y}<br>pop=%{marker.size}<extra></extra>\", \"legendgroup\": \"Djibouti\", \"marker\": {\"color\": \"#FF97FF\", \"size\": [89898.0], \"sizemode\": \"area\", \"sizeref\": 1664425.0, \"symbol\": \"circle\"}, \"mode\": \"markers\", \"name\": \"Djibouti\", \"orientation\": \"v\", \"showlegend\": true, \"type\": \"scatter\", \"x\": [0.5060615711249999], \"xaxis\": \"x\", \"y\": [3020.989263], \"yaxis\": \"y\"}, {\"customdata\": [[\"Dominican Republic\"]], \"hovertemplate\": \"Country Name=%{customdata[0]}<br>CO2 emissions (metric tons per capita)=%{x}<br>gdpPercap=%{y}<br>pop=%{marker.size}<extra></extra>\", \"legendgroup\": \"Dominican Republic\", \"marker\": {\"color\": \"#FECB52\", \"size\": [3453434.0], \"sizemode\": \"area\", \"sizeref\": 1664425.0, \"symbol\": \"circle\"}, \"mode\": \"markers\", \"name\": \"Dominican Republic\", \"orientation\": \"v\", \"showlegend\": true, \"type\": \"scatter\", \"x\": [0.353029129213], \"xaxis\": \"x\", \"y\": [1662.137359], \"yaxis\": \"y\"}, {\"customdata\": [[\"Ecuador\"]], \"hovertemplate\": \"Country Name=%{customdata[0]}<br>CO2 emissions (metric tons per capita)=%{x}<br>gdpPercap=%{y}<br>pop=%{marker.size}<extra></extra>\", \"legendgroup\": \"Ecuador\", \"marker\": {\"color\": \"#636efa\", \"size\": [4681707.0], \"sizemode\": \"area\", \"sizeref\": 1664425.0, \"symbol\": \"circle\"}, \"mode\": \"markers\", \"name\": \"Ecuador\", \"orientation\": \"v\", \"showlegend\": true, \"type\": \"scatter\", \"x\": [0.325336408962], \"xaxis\": \"x\", \"y\": [4086.114078], \"yaxis\": \"y\"}, {\"customdata\": [[\"El Salvador\"]], \"hovertemplate\": \"Country Name=%{customdata[0]}<br>CO2 emissions (metric tons per capita)=%{x}<br>gdpPercap=%{y}<br>pop=%{marker.size}<extra></extra>\", \"legendgroup\": \"El Salvador\", \"marker\": {\"color\": \"#EF553B\", \"size\": [2747687.0], \"sizemode\": \"area\", \"sizeref\": 1664425.0, \"symbol\": \"circle\"}, \"mode\": \"markers\", \"name\": \"El Salvador\", \"orientation\": \"v\", \"showlegend\": true, \"type\": \"scatter\", \"x\": [0.221683679656], \"xaxis\": \"x\", \"y\": [3776.803627], \"yaxis\": \"y\"}, {\"customdata\": [[\"Equatorial Guinea\"]], \"hovertemplate\": \"Country Name=%{customdata[0]}<br>CO2 emissions (metric tons per capita)=%{x}<br>gdpPercap=%{y}<br>pop=%{marker.size}<extra></extra>\", \"legendgroup\": \"Equatorial Guinea\", \"marker\": {\"color\": \"#00cc96\", \"size\": [249220.0], \"sizemode\": \"area\", \"sizeref\": 1664425.0, \"symbol\": \"circle\"}, \"mode\": \"markers\", \"name\": \"Equatorial Guinea\", \"orientation\": \"v\", \"showlegend\": true, \"type\": \"scatter\", \"x\": [0.0852989067225], \"xaxis\": \"x\", \"y\": [582.8419713999999], \"yaxis\": \"y\"}, {\"customdata\": [[\"Ethiopia\"]], \"hovertemplate\": \"Country Name=%{customdata[0]}<br>CO2 emissions (metric tons per capita)=%{x}<br>gdpPercap=%{y}<br>pop=%{marker.size}<extra></extra>\", \"legendgroup\": \"Ethiopia\", \"marker\": {\"color\": \"#ab63fa\", \"size\": [25145372.0], \"sizemode\": \"area\", \"sizeref\": 1664425.0, \"symbol\": \"circle\"}, \"mode\": \"markers\", \"name\": \"Ethiopia\", \"orientation\": \"v\", \"showlegend\": true, \"type\": \"scatter\", \"x\": [0.0170548363485], \"xaxis\": \"x\", \"y\": [419.4564161], \"yaxis\": \"y\"}, {\"customdata\": [[\"Finland\"]], \"hovertemplate\": \"Country Name=%{customdata[0]}<br>CO2 emissions (metric tons per capita)=%{x}<br>gdpPercap=%{y}<br>pop=%{marker.size}<extra></extra>\", \"legendgroup\": \"Finland\", \"marker\": {\"color\": \"#FFA15A\", \"size\": [4491443.0], \"sizemode\": \"area\", \"sizeref\": 1664425.0, \"symbol\": \"circle\"}, \"mode\": \"markers\", \"name\": \"Finland\", \"orientation\": \"v\", \"showlegend\": true, \"type\": \"scatter\", \"x\": [3.74256736643], \"xaxis\": \"x\", \"y\": [9371.842561], \"yaxis\": \"y\"}, {\"customdata\": [[\"France\"]], \"hovertemplate\": \"Country Name=%{customdata[0]}<br>CO2 emissions (metric tons per capita)=%{x}<br>gdpPercap=%{y}<br>pop=%{marker.size}<extra></extra>\", \"legendgroup\": \"France\", \"marker\": {\"color\": \"#19d3f3\", \"size\": [47124000.0], \"sizemode\": \"area\", \"sizeref\": 1664425.0, \"symbol\": \"circle\"}, \"mode\": \"markers\", \"name\": \"France\", \"orientation\": \"v\", \"showlegend\": true, \"type\": \"scatter\", \"x\": [6.20757823899], \"xaxis\": \"x\", \"y\": [10560.48553], \"yaxis\": \"y\"}, {\"customdata\": [[\"Gabon\"]], \"hovertemplate\": \"Country Name=%{customdata[0]}<br>CO2 emissions (metric tons per capita)=%{x}<br>gdpPercap=%{y}<br>pop=%{marker.size}<extra></extra>\", \"legendgroup\": \"Gabon\", \"marker\": {\"color\": \"#FF6692\", \"size\": [455661.0], \"sizemode\": \"area\", \"sizeref\": 1664425.0, \"symbol\": \"circle\"}, \"mode\": \"markers\", \"name\": \"Gabon\", \"orientation\": \"v\", \"showlegend\": true, \"type\": \"scatter\", \"x\": [0.172630373122], \"xaxis\": \"x\", \"y\": [6631.459222], \"yaxis\": \"y\"}, {\"customdata\": [[\"Ghana\"]], \"hovertemplate\": \"Country Name=%{customdata[0]}<br>CO2 emissions (metric tons per capita)=%{x}<br>gdpPercap=%{y}<br>pop=%{marker.size}<extra></extra>\", \"legendgroup\": \"Ghana\", \"marker\": {\"color\": \"#B6E880\", \"size\": [7355248.0], \"sizemode\": \"area\", \"sizeref\": 1664425.0, \"symbol\": \"circle\"}, \"mode\": \"markers\", \"name\": \"Ghana\", \"orientation\": \"v\", \"showlegend\": true, \"type\": \"scatter\", \"x\": [0.202357559414], \"xaxis\": \"x\", \"y\": [1190.041118], \"yaxis\": \"y\"}, {\"customdata\": [[\"Greece\"]], \"hovertemplate\": \"Country Name=%{customdata[0]}<br>CO2 emissions (metric tons per capita)=%{x}<br>gdpPercap=%{y}<br>pop=%{marker.size}<extra></extra>\", \"legendgroup\": \"Greece\", \"marker\": {\"color\": \"#FF97FF\", \"size\": [8448233.0], \"sizemode\": \"area\", \"sizeref\": 1664425.0, \"symbol\": \"circle\"}, \"mode\": \"markers\", \"name\": \"Greece\", \"orientation\": \"v\", \"showlegend\": true, \"type\": \"scatter\", \"x\": [1.2032011901200002], \"xaxis\": \"x\", \"y\": [6017.190732999999], \"yaxis\": \"y\"}, {\"customdata\": [[\"Guatemala\"]], \"hovertemplate\": \"Country Name=%{customdata[0]}<br>CO2 emissions (metric tons per capita)=%{x}<br>gdpPercap=%{y}<br>pop=%{marker.size}<extra></extra>\", \"legendgroup\": \"Guatemala\", \"marker\": {\"color\": \"#FECB52\", \"size\": [4208858.0], \"sizemode\": \"area\", \"sizeref\": 1664425.0, \"symbol\": \"circle\"}, \"mode\": \"markers\", \"name\": \"Guatemala\", \"orientation\": \"v\", \"showlegend\": true, \"type\": \"scatter\", \"x\": [0.317326737332], \"xaxis\": \"x\", \"y\": [2750.364446], \"yaxis\": \"y\"}, {\"customdata\": [[\"Guinea\"]], \"hovertemplate\": \"Country Name=%{customdata[0]}<br>CO2 emissions (metric tons per capita)=%{x}<br>gdpPercap=%{y}<br>pop=%{marker.size}<extra></extra>\", \"legendgroup\": \"Guinea\", \"marker\": {\"color\": \"#636efa\", \"size\": [3140003.0], \"sizemode\": \"area\", \"sizeref\": 1664425.0, \"symbol\": \"circle\"}, \"mode\": \"markers\", \"name\": \"Guinea\", \"orientation\": \"v\", \"showlegend\": true, \"type\": \"scatter\", \"x\": [0.178831523506], \"xaxis\": \"x\", \"y\": [686.3736739], \"yaxis\": \"y\"}, {\"customdata\": [[\"Guinea-Bissau\"]], \"hovertemplate\": \"Country Name=%{customdata[0]}<br>CO2 emissions (metric tons per capita)=%{x}<br>gdpPercap=%{y}<br>pop=%{marker.size}<extra></extra>\", \"legendgroup\": \"Guinea-Bissau\", \"marker\": {\"color\": \"#EF553B\", \"size\": [627820.0], \"sizemode\": \"area\", \"sizeref\": 1664425.0, \"symbol\": \"circle\"}, \"mode\": \"markers\", \"name\": \"Guinea-Bissau\", \"orientation\": \"v\", \"showlegend\": true, \"type\": \"scatter\", \"x\": [0.0640297282582], \"xaxis\": \"x\", \"y\": [522.0343725], \"yaxis\": \"y\"}, {\"customdata\": [[\"Haiti\"]], \"hovertemplate\": \"Country Name=%{customdata[0]}<br>CO2 emissions (metric tons per capita)=%{x}<br>gdpPercap=%{y}<br>pop=%{marker.size}<extra></extra>\", \"legendgroup\": \"Haiti\", \"marker\": {\"color\": \"#00cc96\", \"size\": [3880130.0], \"sizemode\": \"area\", \"sizeref\": 1664425.0, \"symbol\": \"circle\"}, \"mode\": \"markers\", \"name\": \"Haiti\", \"orientation\": \"v\", \"showlegend\": true, \"type\": \"scatter\", \"x\": [0.0756628306695], \"xaxis\": \"x\", \"y\": [1796.589032], \"yaxis\": \"y\"}, {\"customdata\": [[\"Honduras\"]], \"hovertemplate\": \"Country Name=%{customdata[0]}<br>CO2 emissions (metric tons per capita)=%{x}<br>gdpPercap=%{y}<br>pop=%{marker.size}<extra></extra>\", \"legendgroup\": \"Honduras\", \"marker\": {\"color\": \"#ab63fa\", \"size\": [2090162.0], \"sizemode\": \"area\", \"sizeref\": 1664425.0, \"symbol\": \"circle\"}, \"mode\": \"markers\", \"name\": \"Honduras\", \"orientation\": \"v\", \"showlegend\": true, \"type\": \"scatter\", \"x\": [0.327409489867], \"xaxis\": \"x\", \"y\": [2291.156835], \"yaxis\": \"y\"}, {\"customdata\": [[\"Hungary\"]], \"hovertemplate\": \"Country Name=%{customdata[0]}<br>CO2 emissions (metric tons per capita)=%{x}<br>gdpPercap=%{y}<br>pop=%{marker.size}<extra></extra>\", \"legendgroup\": \"Hungary\", \"marker\": {\"color\": \"#FFA15A\", \"size\": [10063000.0], \"sizemode\": \"area\", \"sizeref\": 1664425.0, \"symbol\": \"circle\"}, \"mode\": \"markers\", \"name\": \"Hungary\", \"orientation\": \"v\", \"showlegend\": true, \"type\": \"scatter\", \"x\": [5.025038030219999], \"xaxis\": \"x\", \"y\": [7550.359877], \"yaxis\": \"y\"}, {\"customdata\": [[\"Iceland\"]], \"hovertemplate\": \"Country Name=%{customdata[0]}<br>CO2 emissions (metric tons per capita)=%{x}<br>gdpPercap=%{y}<br>pop=%{marker.size}<extra></extra>\", \"legendgroup\": \"Iceland\", \"marker\": {\"color\": \"#19d3f3\", \"size\": [182053.0], \"sizemode\": \"area\", \"sizeref\": 1664425.0, \"symbol\": \"circle\"}, \"mode\": \"markers\", \"name\": \"Iceland\", \"orientation\": \"v\", \"showlegend\": true, \"type\": \"scatter\", \"x\": [6.57485551985], \"xaxis\": \"x\", \"y\": [10350.15906], \"yaxis\": \"y\"}, {\"customdata\": [[\"India\"]], \"hovertemplate\": \"Country Name=%{customdata[0]}<br>CO2 emissions (metric tons per capita)=%{x}<br>gdpPercap=%{y}<br>pop=%{marker.size}<extra></extra>\", \"legendgroup\": \"India\", \"marker\": {\"color\": \"#FF6692\", \"size\": [454000000.0], \"sizemode\": \"area\", \"sizeref\": 1664425.0, \"symbol\": \"circle\"}, \"mode\": \"markers\", \"name\": \"India\", \"orientation\": \"v\", \"showlegend\": true, \"type\": \"scatter\", \"x\": [0.306519469024], \"xaxis\": \"x\", \"y\": [658.3471509], \"yaxis\": \"y\"}, {\"customdata\": [[\"Indonesia\"]], \"hovertemplate\": \"Country Name=%{customdata[0]}<br>CO2 emissions (metric tons per capita)=%{x}<br>gdpPercap=%{y}<br>pop=%{marker.size}<extra></extra>\", \"legendgroup\": \"Indonesia\", \"marker\": {\"color\": \"#B6E880\", \"size\": [99028000.0], \"sizemode\": \"area\", \"sizeref\": 1664425.0, \"symbol\": \"circle\"}, \"mode\": \"markers\", \"name\": \"Indonesia\", \"orientation\": \"v\", \"showlegend\": true, \"type\": \"scatter\", \"x\": [0.248446979292], \"xaxis\": \"x\", \"y\": [849.2897700999999], \"yaxis\": \"y\"}, {\"customdata\": [[\"Iraq\"]], \"hovertemplate\": \"Country Name=%{customdata[0]}<br>CO2 emissions (metric tons per capita)=%{x}<br>gdpPercap=%{y}<br>pop=%{marker.size}<extra></extra>\", \"legendgroup\": \"Iraq\", \"marker\": {\"color\": \"#FF97FF\", \"size\": [7240260.0], \"sizemode\": \"area\", \"sizeref\": 1664425.0, \"symbol\": \"circle\"}, \"mode\": \"markers\", \"name\": \"Iraq\", \"orientation\": \"v\", \"showlegend\": true, \"type\": \"scatter\", \"x\": [1.17690410231], \"xaxis\": \"x\", \"y\": [8341.737815], \"yaxis\": \"y\"}, {\"customdata\": [[\"Ireland\"]], \"hovertemplate\": \"Country Name=%{customdata[0]}<br>CO2 emissions (metric tons per capita)=%{x}<br>gdpPercap=%{y}<br>pop=%{marker.size}<extra></extra>\", \"legendgroup\": \"Ireland\", \"marker\": {\"color\": \"#FECB52\", \"size\": [2830000.0], \"sizemode\": \"area\", \"sizeref\": 1664425.0, \"symbol\": \"circle\"}, \"mode\": \"markers\", \"name\": \"Ireland\", \"orientation\": \"v\", \"showlegend\": true, \"type\": \"scatter\", \"x\": [4.62633804058], \"xaxis\": \"x\", \"y\": [6631.597314], \"yaxis\": \"y\"}, {\"customdata\": [[\"Israel\"]], \"hovertemplate\": \"Country Name=%{customdata[0]}<br>CO2 emissions (metric tons per capita)=%{x}<br>gdpPercap=%{y}<br>pop=%{marker.size}<extra></extra>\", \"legendgroup\": \"Israel\", \"marker\": {\"color\": \"#636efa\", \"size\": [2310904.0], \"sizemode\": \"area\", \"sizeref\": 1664425.0, \"symbol\": \"circle\"}, \"mode\": \"markers\", \"name\": \"Israel\", \"orientation\": \"v\", \"showlegend\": true, \"type\": \"scatter\", \"x\": [3.46389969472], \"xaxis\": \"x\", \"y\": [7105.630706], \"yaxis\": \"y\"}, {\"customdata\": [[\"Italy\"]], \"hovertemplate\": \"Country Name=%{customdata[0]}<br>CO2 emissions (metric tons per capita)=%{x}<br>gdpPercap=%{y}<br>pop=%{marker.size}<extra></extra>\", \"legendgroup\": \"Italy\", \"marker\": {\"color\": \"#EF553B\", \"size\": [50843200.0], \"sizemode\": \"area\", \"sizeref\": 1664425.0, \"symbol\": \"circle\"}, \"mode\": \"markers\", \"name\": \"Italy\", \"orientation\": \"v\", \"showlegend\": true, \"type\": \"scatter\", \"x\": [2.87849638705], \"xaxis\": \"x\", \"y\": [8243.58234], \"yaxis\": \"y\"}, {\"customdata\": [[\"Jamaica\"]], \"hovertemplate\": \"Country Name=%{customdata[0]}<br>CO2 emissions (metric tons per capita)=%{x}<br>gdpPercap=%{y}<br>pop=%{marker.size}<extra></extra>\", \"legendgroup\": \"Jamaica\", \"marker\": {\"color\": \"#00cc96\", \"size\": [1665128.0], \"sizemode\": \"area\", \"sizeref\": 1664425.0, \"symbol\": \"circle\"}, \"mode\": \"markers\", \"name\": \"Jamaica\", \"orientation\": \"v\", \"showlegend\": true, \"type\": \"scatter\", \"x\": [1.26277490114], \"xaxis\": \"x\", \"y\": [5246.107524], \"yaxis\": \"y\"}, {\"customdata\": [[\"Japan\"]], \"hovertemplate\": \"Country Name=%{customdata[0]}<br>CO2 emissions (metric tons per capita)=%{x}<br>gdpPercap=%{y}<br>pop=%{marker.size}<extra></extra>\", \"legendgroup\": \"Japan\", \"marker\": {\"color\": \"#ab63fa\", \"size\": [95831757.0], \"sizemode\": \"area\", \"sizeref\": 1664425.0, \"symbol\": \"circle\"}, \"mode\": \"markers\", \"name\": \"Japan\", \"orientation\": \"v\", \"showlegend\": true, \"type\": \"scatter\", \"x\": [3.05973635111], \"xaxis\": \"x\", \"y\": [6576.649461], \"yaxis\": \"y\"}, {\"customdata\": [[\"Jordan\"]], \"hovertemplate\": \"Country Name=%{customdata[0]}<br>CO2 emissions (metric tons per capita)=%{x}<br>gdpPercap=%{y}<br>pop=%{marker.size}<extra></extra>\", \"legendgroup\": \"Jordan\", \"marker\": {\"color\": \"#FFA15A\", \"size\": [933559.0], \"sizemode\": \"area\", \"sizeref\": 1664425.0, \"symbol\": \"circle\"}, \"mode\": \"markers\", \"name\": \"Jordan\", \"orientation\": \"v\", \"showlegend\": true, \"type\": \"scatter\", \"x\": [1.08930257389], \"xaxis\": \"x\", \"y\": [2348.009158], \"yaxis\": \"y\"}, {\"customdata\": [[\"Kenya\"]], \"hovertemplate\": \"Country Name=%{customdata[0]}<br>CO2 emissions (metric tons per capita)=%{x}<br>gdpPercap=%{y}<br>pop=%{marker.size}<extra></extra>\", \"legendgroup\": \"Kenya\", \"marker\": {\"color\": \"#19d3f3\", \"size\": [8678557.0], \"sizemode\": \"area\", \"sizeref\": 1664425.0, \"symbol\": \"circle\"}, \"mode\": \"markers\", \"name\": \"Kenya\", \"orientation\": \"v\", \"showlegend\": true, \"type\": \"scatter\", \"x\": [0.304273984865], \"xaxis\": \"x\", \"y\": [896.9663732], \"yaxis\": \"y\"}, {\"customdata\": [[\"Lebanon\"]], \"hovertemplate\": \"Country Name=%{customdata[0]}<br>CO2 emissions (metric tons per capita)=%{x}<br>gdpPercap=%{y}<br>pop=%{marker.size}<extra></extra>\", \"legendgroup\": \"Lebanon\", \"marker\": {\"color\": \"#FF6692\", \"size\": [1886848.0], \"sizemode\": \"area\", \"sizeref\": 1664425.0, \"symbol\": \"circle\"}, \"mode\": \"markers\", \"name\": \"Lebanon\", \"orientation\": \"v\", \"showlegend\": true, \"type\": \"scatter\", \"x\": [1.48373168315], \"xaxis\": \"x\", \"y\": [5714.560611], \"yaxis\": \"y\"}, {\"customdata\": [[\"Liberia\"]], \"hovertemplate\": \"Country Name=%{customdata[0]}<br>CO2 emissions (metric tons per capita)=%{x}<br>gdpPercap=%{y}<br>pop=%{marker.size}<extra></extra>\", \"legendgroup\": \"Liberia\", \"marker\": {\"color\": \"#B6E880\", \"size\": [1112796.0], \"sizemode\": \"area\", \"sizeref\": 1664425.0, \"symbol\": \"circle\"}, \"mode\": \"markers\", \"name\": \"Liberia\", \"orientation\": \"v\", \"showlegend\": true, \"type\": \"scatter\", \"x\": [0.216209634212], \"xaxis\": \"x\", \"y\": [634.1951625], \"yaxis\": \"y\"}, {\"customdata\": [[\"Libya\"]], \"hovertemplate\": \"Country Name=%{customdata[0]}<br>CO2 emissions (metric tons per capita)=%{x}<br>gdpPercap=%{y}<br>pop=%{marker.size}<extra></extra>\", \"legendgroup\": \"Libya\", \"marker\": {\"color\": \"#FF97FF\", \"size\": [1441863.0], \"sizemode\": \"area\", \"sizeref\": 1664425.0, \"symbol\": \"circle\"}, \"mode\": \"markers\", \"name\": \"Libya\", \"orientation\": \"v\", \"showlegend\": true, \"type\": \"scatter\", \"x\": [0.6827006449699999], \"xaxis\": \"x\", \"y\": [6757.030816], \"yaxis\": \"y\"}, {\"customdata\": [[\"Madagascar\"]], \"hovertemplate\": \"Country Name=%{customdata[0]}<br>CO2 emissions (metric tons per capita)=%{x}<br>gdpPercap=%{y}<br>pop=%{marker.size}<extra></extra>\", \"legendgroup\": \"Madagascar\", \"marker\": {\"color\": \"#FECB52\", \"size\": [5703324.0], \"sizemode\": \"area\", \"sizeref\": 1664425.0, \"symbol\": \"circle\"}, \"mode\": \"markers\", \"name\": \"Madagascar\", \"orientation\": \"v\", \"showlegend\": true, \"type\": \"scatter\", \"x\": [0.0739884401703], \"xaxis\": \"x\", \"y\": [1643.38711], \"yaxis\": \"y\"}, {\"customdata\": [[\"Mali\"]], \"hovertemplate\": \"Country Name=%{customdata[0]}<br>CO2 emissions (metric tons per capita)=%{x}<br>gdpPercap=%{y}<br>pop=%{marker.size}<extra></extra>\", \"legendgroup\": \"Mali\", \"marker\": {\"color\": \"#636efa\", \"size\": [4690372.0], \"sizemode\": \"area\", \"sizeref\": 1664425.0, \"symbol\": \"circle\"}, \"mode\": \"markers\", \"name\": \"Mali\", \"orientation\": \"v\", \"showlegend\": true, \"type\": \"scatter\", \"x\": [0.0258941544429], \"xaxis\": \"x\", \"y\": [496.1743428], \"yaxis\": \"y\"}, {\"customdata\": [[\"Mauritania\"]], \"hovertemplate\": \"Country Name=%{customdata[0]}<br>CO2 emissions (metric tons per capita)=%{x}<br>gdpPercap=%{y}<br>pop=%{marker.size}<extra></extra>\", \"legendgroup\": \"Mauritania\", \"marker\": {\"color\": \"#EF553B\", \"size\": [1146757.0], \"sizemode\": \"area\", \"sizeref\": 1664425.0, \"symbol\": \"circle\"}, \"mode\": \"markers\", \"name\": \"Mauritania\", \"orientation\": \"v\", \"showlegend\": true, \"type\": \"scatter\", \"x\": [0.0685667838429], \"xaxis\": \"x\", \"y\": [1055.896036], \"yaxis\": \"y\"}, {\"customdata\": [[\"Mauritius\"]], \"hovertemplate\": \"Country Name=%{customdata[0]}<br>CO2 emissions (metric tons per capita)=%{x}<br>gdpPercap=%{y}<br>pop=%{marker.size}<extra></extra>\", \"legendgroup\": \"Mauritius\", \"marker\": {\"color\": \"#00cc96\", \"size\": [701016.0], \"sizemode\": \"area\", \"sizeref\": 1664425.0, \"symbol\": \"circle\"}, \"mode\": \"markers\", \"name\": \"Mauritius\", \"orientation\": \"v\", \"showlegend\": true, \"type\": \"scatter\", \"x\": [0.361281304036], \"xaxis\": \"x\", \"y\": [2529.0674870000003], \"yaxis\": \"y\"}, {\"customdata\": [[\"Mexico\"]], \"hovertemplate\": \"Country Name=%{customdata[0]}<br>CO2 emissions (metric tons per capita)=%{x}<br>gdpPercap=%{y}<br>pop=%{marker.size}<extra></extra>\", \"legendgroup\": \"Mexico\", \"marker\": {\"color\": \"#ab63fa\", \"size\": [41121485.0], \"sizemode\": \"area\", \"sizeref\": 1664425.0, \"symbol\": \"circle\"}, \"mode\": \"markers\", \"name\": \"Mexico\", \"orientation\": \"v\", \"showlegend\": true, \"type\": \"scatter\", \"x\": [1.5697444180899998], \"xaxis\": \"x\", \"y\": [4581.609385], \"yaxis\": \"y\"}, {\"customdata\": [[\"Mongolia\"]], \"hovertemplate\": \"Country Name=%{customdata[0]}<br>CO2 emissions (metric tons per capita)=%{x}<br>gdpPercap=%{y}<br>pop=%{marker.size}<extra></extra>\", \"legendgroup\": \"Mongolia\", \"marker\": {\"color\": \"#FFA15A\", \"size\": [1010280.0], \"sizemode\": \"area\", \"sizeref\": 1664425.0, \"symbol\": \"circle\"}, \"mode\": \"markers\", \"name\": \"Mongolia\", \"orientation\": \"v\", \"showlegend\": true, \"type\": \"scatter\", \"x\": [1.95074792748], \"xaxis\": \"x\", \"y\": [1056.353958], \"yaxis\": \"y\"}, {\"customdata\": [[\"Morocco\"]], \"hovertemplate\": \"Country Name=%{customdata[0]}<br>CO2 emissions (metric tons per capita)=%{x}<br>gdpPercap=%{y}<br>pop=%{marker.size}<extra></extra>\", \"legendgroup\": \"Morocco\", \"marker\": {\"color\": \"#19d3f3\", \"size\": [13056604.0], \"sizemode\": \"area\", \"sizeref\": 1664425.0, \"symbol\": \"circle\"}, \"mode\": \"markers\", \"name\": \"Morocco\", \"orientation\": \"v\", \"showlegend\": true, \"type\": \"scatter\", \"x\": [0.235120747573], \"xaxis\": \"x\", \"y\": [1566.353493], \"yaxis\": \"y\"}, {\"customdata\": [[\"Mozambique\"]], \"hovertemplate\": \"Country Name=%{customdata[0]}<br>CO2 emissions (metric tons per capita)=%{x}<br>gdpPercap=%{y}<br>pop=%{marker.size}<extra></extra>\", \"legendgroup\": \"Mozambique\", \"marker\": {\"color\": \"#FF6692\", \"size\": [7788944.0], \"sizemode\": \"area\", \"sizeref\": 1664425.0, \"symbol\": \"circle\"}, \"mode\": \"markers\", \"name\": \"Mozambique\", \"orientation\": \"v\", \"showlegend\": true, \"type\": \"scatter\", \"x\": [0.254829220109], \"xaxis\": \"x\", \"y\": [556.6863539], \"yaxis\": \"y\"}, {\"customdata\": [[\"Myanmar\"]], \"hovertemplate\": \"Country Name=%{customdata[0]}<br>CO2 emissions (metric tons per capita)=%{x}<br>gdpPercap=%{y}<br>pop=%{marker.size}<extra></extra>\", \"legendgroup\": \"Myanmar\", \"marker\": {\"color\": \"#B6E880\", \"size\": [23634436.0], \"sizemode\": \"area\", \"sizeref\": 1664425.0, \"symbol\": \"circle\"}, \"mode\": \"markers\", \"name\": \"Myanmar\", \"orientation\": \"v\", \"showlegend\": true, \"type\": \"scatter\", \"x\": [0.128404767028], \"xaxis\": \"x\", \"y\": [388.0], \"yaxis\": \"y\"}, {\"customdata\": [[\"Nepal\"]], \"hovertemplate\": \"Country Name=%{customdata[0]}<br>CO2 emissions (metric tons per capita)=%{x}<br>gdpPercap=%{y}<br>pop=%{marker.size}<extra></extra>\", \"legendgroup\": \"Nepal\", \"marker\": {\"color\": \"#FF97FF\", \"size\": [10332057.0], \"sizemode\": \"area\", \"sizeref\": 1664425.0, \"symbol\": \"circle\"}, \"mode\": \"markers\", \"name\": \"Nepal\", \"orientation\": \"v\", \"showlegend\": true, \"type\": \"scatter\", \"x\": [0.00848101403663], \"xaxis\": \"x\", \"y\": [652.3968593], \"yaxis\": \"y\"}, {\"customdata\": [[\"Netherlands\"]], \"hovertemplate\": \"Country Name=%{customdata[0]}<br>CO2 emissions (metric tons per capita)=%{x}<br>gdpPercap=%{y}<br>pop=%{marker.size}<extra></extra>\", \"legendgroup\": \"Netherlands\", \"marker\": {\"color\": \"#FECB52\", \"size\": [11805689.0], \"sizemode\": \"area\", \"sizeref\": 1664425.0, \"symbol\": \"circle\"}, \"mode\": \"markers\", \"name\": \"Netherlands\", \"orientation\": \"v\", \"showlegend\": true, \"type\": \"scatter\", \"x\": [7.060853796839999], \"xaxis\": \"x\", \"y\": [12790.84956], \"yaxis\": \"y\"}, {\"customdata\": [[\"New Zealand\"]], \"hovertemplate\": \"Country Name=%{customdata[0]}<br>CO2 emissions (metric tons per capita)=%{x}<br>gdpPercap=%{y}<br>pop=%{marker.size}<extra></extra>\", \"legendgroup\": \"New Zealand\", \"marker\": {\"color\": \"#636efa\", \"size\": [2488550.0], \"sizemode\": \"area\", \"sizeref\": 1664425.0, \"symbol\": \"circle\"}, \"mode\": \"markers\", \"name\": \"New Zealand\", \"orientation\": \"v\", \"showlegend\": true, \"type\": \"scatter\", \"x\": [4.51652659146], \"xaxis\": \"x\", \"y\": [13175.678], \"yaxis\": \"y\"}, {\"customdata\": [[\"Nicaragua\"]], \"hovertemplate\": \"Country Name=%{customdata[0]}<br>CO2 emissions (metric tons per capita)=%{x}<br>gdpPercap=%{y}<br>pop=%{marker.size}<extra></extra>\", \"legendgroup\": \"Nicaragua\", \"marker\": {\"color\": \"#EF553B\", \"size\": [1590597.0], \"sizemode\": \"area\", \"sizeref\": 1664425.0, \"symbol\": \"circle\"}, \"mode\": \"markers\", \"name\": \"Nicaragua\", \"orientation\": \"v\", \"showlegend\": true, \"type\": \"scatter\", \"x\": [0.349874904588], \"xaxis\": \"x\", \"y\": [3634.364406], \"yaxis\": \"y\"}, {\"customdata\": [[\"Niger\"]], \"hovertemplate\": \"Country Name=%{customdata[0]}<br>CO2 emissions (metric tons per capita)=%{x}<br>gdpPercap=%{y}<br>pop=%{marker.size}<extra></extra>\", \"legendgroup\": \"Niger\", \"marker\": {\"color\": \"#00cc96\", \"size\": [4076008.0], \"sizemode\": \"area\", \"sizeref\": 1664425.0, \"symbol\": \"circle\"}, \"mode\": \"markers\", \"name\": \"Niger\", \"orientation\": \"v\", \"showlegend\": true, \"type\": \"scatter\", \"x\": [0.018352266424], \"xaxis\": \"x\", \"y\": [997.7661127], \"yaxis\": \"y\"}, {\"customdata\": [[\"Nigeria\"]], \"hovertemplate\": \"Country Name=%{customdata[0]}<br>CO2 emissions (metric tons per capita)=%{x}<br>gdpPercap=%{y}<br>pop=%{marker.size}<extra></extra>\", \"legendgroup\": \"Nigeria\", \"marker\": {\"color\": \"#ab63fa\", \"size\": [41871351.0], \"sizemode\": \"area\", \"sizeref\": 1664425.0, \"symbol\": \"circle\"}, \"mode\": \"markers\", \"name\": \"Nigeria\", \"orientation\": \"v\", \"showlegend\": true, \"type\": \"scatter\", \"x\": [0.0887217732028], \"xaxis\": \"x\", \"y\": [1150.9274779999998], \"yaxis\": \"y\"}, {\"customdata\": [[\"Norway\"]], \"hovertemplate\": \"Country Name=%{customdata[0]}<br>CO2 emissions (metric tons per capita)=%{x}<br>gdpPercap=%{y}<br>pop=%{marker.size}<extra></extra>\", \"legendgroup\": \"Norway\", \"marker\": {\"color\": \"#FFA15A\", \"size\": [3638919.0], \"sizemode\": \"area\", \"sizeref\": 1664425.0, \"symbol\": \"circle\"}, \"mode\": \"markers\", \"name\": \"Norway\", \"orientation\": \"v\", \"showlegend\": true, \"type\": \"scatter\", \"x\": [3.86862605863], \"xaxis\": \"x\", \"y\": [13450.40151], \"yaxis\": \"y\"}, {\"customdata\": [[\"Pakistan\"]], \"hovertemplate\": \"Country Name=%{customdata[0]}<br>CO2 emissions (metric tons per capita)=%{x}<br>gdpPercap=%{y}<br>pop=%{marker.size}<extra></extra>\", \"legendgroup\": \"Pakistan\", \"marker\": {\"color\": \"#19d3f3\", \"size\": [53100671.0], \"sizemode\": \"area\", \"sizeref\": 1664425.0, \"symbol\": \"circle\"}, \"mode\": \"markers\", \"name\": \"Pakistan\", \"orientation\": \"v\", \"showlegend\": true, \"type\": \"scatter\", \"x\": [0.34177551477], \"xaxis\": \"x\", \"y\": [803.3427418], \"yaxis\": \"y\"}, {\"customdata\": [[\"Panama\"]], \"hovertemplate\": \"Country Name=%{customdata[0]}<br>CO2 emissions (metric tons per capita)=%{x}<br>gdpPercap=%{y}<br>pop=%{marker.size}<extra></extra>\", \"legendgroup\": \"Panama\", \"marker\": {\"color\": \"#FF6692\", \"size\": [1215725.0], \"sizemode\": \"area\", \"sizeref\": 1664425.0, \"symbol\": \"circle\"}, \"mode\": \"markers\", \"name\": \"Panama\", \"orientation\": \"v\", \"showlegend\": true, \"type\": \"scatter\", \"x\": [0.991186587845], \"xaxis\": \"x\", \"y\": [3536.540301], \"yaxis\": \"y\"}, {\"customdata\": [[\"Paraguay\"]], \"hovertemplate\": \"Country Name=%{customdata[0]}<br>CO2 emissions (metric tons per capita)=%{x}<br>gdpPercap=%{y}<br>pop=%{marker.size}<extra></extra>\", \"legendgroup\": \"Paraguay\", \"marker\": {\"color\": \"#B6E880\", \"size\": [2009813.0], \"sizemode\": \"area\", \"sizeref\": 1664425.0, \"symbol\": \"circle\"}, \"mode\": \"markers\", \"name\": \"Paraguay\", \"orientation\": \"v\", \"showlegend\": true, \"type\": \"scatter\", \"x\": [0.195662374952], \"xaxis\": \"x\", \"y\": [2148.027146], \"yaxis\": \"y\"}, {\"customdata\": [[\"Peru\"]], \"hovertemplate\": \"Country Name=%{customdata[0]}<br>CO2 emissions (metric tons per capita)=%{x}<br>gdpPercap=%{y}<br>pop=%{marker.size}<extra></extra>\", \"legendgroup\": \"Peru\", \"marker\": {\"color\": \"#FF97FF\", \"size\": [10516500.0], \"sizemode\": \"area\", \"sizeref\": 1664425.0, \"symbol\": \"circle\"}, \"mode\": \"markers\", \"name\": \"Peru\", \"orientation\": \"v\", \"showlegend\": true, \"type\": \"scatter\", \"x\": [0.93614496813], \"xaxis\": \"x\", \"y\": [4957.037982], \"yaxis\": \"y\"}, {\"customdata\": [[\"Philippines\"]], \"hovertemplate\": \"Country Name=%{customdata[0]}<br>CO2 emissions (metric tons per capita)=%{x}<br>gdpPercap=%{y}<br>pop=%{marker.size}<extra></extra>\", \"legendgroup\": \"Philippines\", \"marker\": {\"color\": \"#FECB52\", \"size\": [30325264.0], \"sizemode\": \"area\", \"sizeref\": 1664425.0, \"symbol\": \"circle\"}, \"mode\": \"markers\", \"name\": \"Philippines\", \"orientation\": \"v\", \"showlegend\": true, \"type\": \"scatter\", \"x\": [0.36851208177], \"xaxis\": \"x\", \"y\": [1649.552153], \"yaxis\": \"y\"}, {\"customdata\": [[\"Poland\"]], \"hovertemplate\": \"Country Name=%{customdata[0]}<br>CO2 emissions (metric tons per capita)=%{x}<br>gdpPercap=%{y}<br>pop=%{marker.size}<extra></extra>\", \"legendgroup\": \"Poland\", \"marker\": {\"color\": \"#636efa\", \"size\": [30329617.0], \"sizemode\": \"area\", \"sizeref\": 1664425.0, \"symbol\": \"circle\"}, \"mode\": \"markers\", \"name\": \"Poland\", \"orientation\": \"v\", \"showlegend\": true, \"type\": \"scatter\", \"x\": [7.15360516027], \"xaxis\": \"x\", \"y\": [5338.752143], \"yaxis\": \"y\"}, {\"customdata\": [[\"Portugal\"]], \"hovertemplate\": \"Country Name=%{customdata[0]}<br>CO2 emissions (metric tons per capita)=%{x}<br>gdpPercap=%{y}<br>pop=%{marker.size}<extra></extra>\", \"legendgroup\": \"Portugal\", \"marker\": {\"color\": \"#EF553B\", \"size\": [9019800.0], \"sizemode\": \"area\", \"sizeref\": 1664425.0, \"symbol\": \"circle\"}, \"mode\": \"markers\", \"name\": \"Portugal\", \"orientation\": \"v\", \"showlegend\": true, \"type\": \"scatter\", \"x\": [1.0343778647600002], \"xaxis\": \"x\", \"y\": [4727.954889], \"yaxis\": \"y\"}, {\"customdata\": [[\"Romania\"]], \"hovertemplate\": \"Country Name=%{customdata[0]}<br>CO2 emissions (metric tons per capita)=%{x}<br>gdpPercap=%{y}<br>pop=%{marker.size}<extra></extra>\", \"legendgroup\": \"Romania\", \"marker\": {\"color\": \"#00cc96\", \"size\": [18680721.0], \"sizemode\": \"area\", \"sizeref\": 1664425.0, \"symbol\": \"circle\"}, \"mode\": \"markers\", \"name\": \"Romania\", \"orientation\": \"v\", \"showlegend\": true, \"type\": \"scatter\", \"x\": [3.4202858664999995], \"xaxis\": \"x\", \"y\": [4734.997586], \"yaxis\": \"y\"}, {\"customdata\": [[\"Rwanda\"]], \"hovertemplate\": \"Country Name=%{customdata[0]}<br>CO2 emissions (metric tons per capita)=%{x}<br>gdpPercap=%{y}<br>pop=%{marker.size}<extra></extra>\", \"legendgroup\": \"Rwanda\", \"marker\": {\"color\": \"#ab63fa\", \"size\": [3051242.0], \"sizemode\": \"area\", \"sizeref\": 1664425.0, \"symbol\": \"circle\"}, \"mode\": \"markers\", \"name\": \"Rwanda\", \"orientation\": \"v\", \"showlegend\": true, \"type\": \"scatter\", \"x\": [0.0276473843144], \"xaxis\": \"x\", \"y\": [597.4730727000001], \"yaxis\": \"y\"}, {\"customdata\": [[\"Sao Tome and Principe\"]], \"hovertemplate\": \"Country Name=%{customdata[0]}<br>CO2 emissions (metric tons per capita)=%{x}<br>gdpPercap=%{y}<br>pop=%{marker.size}<extra></extra>\", \"legendgroup\": \"Sao Tome and Principe\", \"marker\": {\"color\": \"#FFA15A\", \"size\": [65345.0], \"sizemode\": \"area\", \"sizeref\": 1664425.0, \"symbol\": \"circle\"}, \"mode\": \"markers\", \"name\": \"Sao Tome and Principe\", \"orientation\": \"v\", \"showlegend\": true, \"type\": \"scatter\", \"x\": [0.1707460925979999], \"xaxis\": \"x\", \"y\": [1071.551119], \"yaxis\": \"y\"}, {\"customdata\": [[\"Saudi Arabia\"]], \"hovertemplate\": \"Country Name=%{customdata[0]}<br>CO2 emissions (metric tons per capita)=%{x}<br>gdpPercap=%{y}<br>pop=%{marker.size}<extra></extra>\", \"legendgroup\": \"Saudi Arabia\", \"marker\": {\"color\": \"#19d3f3\", \"size\": [4943029.0], \"sizemode\": \"area\", \"sizeref\": 1664425.0, \"symbol\": \"circle\"}, \"mode\": \"markers\", \"name\": \"Saudi Arabia\", \"orientation\": \"v\", \"showlegend\": true, \"type\": \"scatter\", \"x\": [1.43389833694], \"xaxis\": \"x\", \"y\": [11626.41975], \"yaxis\": \"y\"}, {\"customdata\": [[\"Senegal\"]], \"hovertemplate\": \"Country Name=%{customdata[0]}<br>CO2 emissions (metric tons per capita)=%{x}<br>gdpPercap=%{y}<br>pop=%{marker.size}<extra></extra>\", \"legendgroup\": \"Senegal\", \"marker\": {\"color\": \"#FF6692\", \"size\": [3430243.0], \"sizemode\": \"area\", \"sizeref\": 1664425.0, \"symbol\": \"circle\"}, \"mode\": \"markers\", \"name\": \"Senegal\", \"orientation\": \"v\", \"showlegend\": true, \"type\": \"scatter\", \"x\": [0.24254227941], \"xaxis\": \"x\", \"y\": [1654.988723], \"yaxis\": \"y\"}, {\"customdata\": [[\"Sierra Leone\"]], \"hovertemplate\": \"Country Name=%{customdata[0]}<br>CO2 emissions (metric tons per capita)=%{x}<br>gdpPercap=%{y}<br>pop=%{marker.size}<extra></extra>\", \"legendgroup\": \"Sierra Leone\", \"marker\": {\"color\": \"#B6E880\", \"size\": [2467895.0], \"sizemode\": \"area\", \"sizeref\": 1664425.0, \"symbol\": \"circle\"}, \"mode\": \"markers\", \"name\": \"Sierra Leone\", \"orientation\": \"v\", \"showlegend\": true, \"type\": \"scatter\", \"x\": [0.145725026244], \"xaxis\": \"x\", \"y\": [1116.6398769999998], \"yaxis\": \"y\"}, {\"customdata\": [[\"Singapore\"]], \"hovertemplate\": \"Country Name=%{customdata[0]}<br>CO2 emissions (metric tons per capita)=%{x}<br>gdpPercap=%{y}<br>pop=%{marker.size}<extra></extra>\", \"legendgroup\": \"Singapore\", \"marker\": {\"color\": \"#FF97FF\", \"size\": [1750200.0], \"sizemode\": \"area\", \"sizeref\": 1664425.0, \"symbol\": \"circle\"}, \"mode\": \"markers\", \"name\": \"Singapore\", \"orientation\": \"v\", \"showlegend\": true, \"type\": \"scatter\", \"x\": [1.47291795223], \"xaxis\": \"x\", \"y\": [3674.735572], \"yaxis\": \"y\"}, {\"customdata\": [[\"Somalia\"]], \"hovertemplate\": \"Country Name=%{customdata[0]}<br>CO2 emissions (metric tons per capita)=%{x}<br>gdpPercap=%{y}<br>pop=%{marker.size}<extra></extra>\", \"legendgroup\": \"Somalia\", \"marker\": {\"color\": \"#FECB52\", \"size\": [3080153.0], \"sizemode\": \"area\", \"sizeref\": 1664425.0, \"symbol\": \"circle\"}, \"mode\": \"markers\", \"name\": \"Somalia\", \"orientation\": \"v\", \"showlegend\": true, \"type\": \"scatter\", \"x\": [0.0369895900581], \"xaxis\": \"x\", \"y\": [1369.488336], \"yaxis\": \"y\"}, {\"customdata\": [[\"South Africa\"]], \"hovertemplate\": \"Country Name=%{customdata[0]}<br>CO2 emissions (metric tons per capita)=%{x}<br>gdpPercap=%{y}<br>pop=%{marker.size}<extra></extra>\", \"legendgroup\": \"South Africa\", \"marker\": {\"color\": \"#636efa\", \"size\": [18356657.0], \"sizemode\": \"area\", \"sizeref\": 1664425.0, \"symbol\": \"circle\"}, \"mode\": \"markers\", \"name\": \"South Africa\", \"orientation\": \"v\", \"showlegend\": true, \"type\": \"scatter\", \"x\": [5.729711710680001], \"xaxis\": \"x\", \"y\": [5768.729717], \"yaxis\": \"y\"}, {\"customdata\": [[\"Spain\"]], \"hovertemplate\": \"Country Name=%{customdata[0]}<br>CO2 emissions (metric tons per capita)=%{x}<br>gdpPercap=%{y}<br>pop=%{marker.size}<extra></extra>\", \"legendgroup\": \"Spain\", \"marker\": {\"color\": \"#EF553B\", \"size\": [31158061.0], \"sizemode\": \"area\", \"sizeref\": 1664425.0, \"symbol\": \"circle\"}, \"mode\": \"markers\", \"name\": \"Spain\", \"orientation\": \"v\", \"showlegend\": true, \"type\": \"scatter\", \"x\": [1.93578153318], \"xaxis\": \"x\", \"y\": [5693.843879], \"yaxis\": \"y\"}, {\"customdata\": [[\"Sri Lanka\"]], \"hovertemplate\": \"Country Name=%{customdata[0]}<br>CO2 emissions (metric tons per capita)=%{x}<br>gdpPercap=%{y}<br>pop=%{marker.size}<extra></extra>\", \"legendgroup\": \"Sri Lanka\", \"marker\": {\"color\": \"#00cc96\", \"size\": [10421936.0], \"sizemode\": \"area\", \"sizeref\": 1664425.0, \"symbol\": \"circle\"}, \"mode\": \"markers\", \"name\": \"Sri Lanka\", \"orientation\": \"v\", \"showlegend\": true, \"type\": \"scatter\", \"x\": [0.245449870727], \"xaxis\": \"x\", \"y\": [1074.47196], \"yaxis\": \"y\"}, {\"customdata\": [[\"Sudan\"]], \"hovertemplate\": \"Country Name=%{customdata[0]}<br>CO2 emissions (metric tons per capita)=%{x}<br>gdpPercap=%{y}<br>pop=%{marker.size}<extra></extra>\", \"legendgroup\": \"Sudan\", \"marker\": {\"color\": \"#ab63fa\", \"size\": [11183227.0], \"sizemode\": \"area\", \"sizeref\": 1664425.0, \"symbol\": \"circle\"}, \"mode\": \"markers\", \"name\": \"Sudan\", \"orientation\": \"v\", \"showlegend\": true, \"type\": \"scatter\", \"x\": [0.134379625666], \"xaxis\": \"x\", \"y\": [1959.593767], \"yaxis\": \"y\"}, {\"customdata\": [[\"Sweden\"]], \"hovertemplate\": \"Country Name=%{customdata[0]}<br>CO2 emissions (metric tons per capita)=%{x}<br>gdpPercap=%{y}<br>pop=%{marker.size}<extra></extra>\", \"legendgroup\": \"Sweden\", \"marker\": {\"color\": \"#FFA15A\", \"size\": [7561588.0], \"sizemode\": \"area\", \"sizeref\": 1664425.0, \"symbol\": \"circle\"}, \"mode\": \"markers\", \"name\": \"Sweden\", \"orientation\": \"v\", \"showlegend\": true, \"type\": \"scatter\", \"x\": [6.787859772309999], \"xaxis\": \"x\", \"y\": [12329.44192], \"yaxis\": \"y\"}, {\"customdata\": [[\"Switzerland\"]], \"hovertemplate\": \"Country Name=%{customdata[0]}<br>CO2 emissions (metric tons per capita)=%{x}<br>gdpPercap=%{y}<br>pop=%{marker.size}<extra></extra>\", \"legendgroup\": \"Switzerland\", \"marker\": {\"color\": \"#19d3f3\", \"size\": [5666000.0], \"sizemode\": \"area\", \"sizeref\": 1664425.0, \"symbol\": \"circle\"}, \"mode\": \"markers\", \"name\": \"Switzerland\", \"orientation\": \"v\", \"showlegend\": true, \"type\": \"scatter\", \"x\": [4.3335720686800006], \"xaxis\": \"x\", \"y\": [20431.0927], \"yaxis\": \"y\"}, {\"customdata\": [[\"Tanzania\"]], \"hovertemplate\": \"Country Name=%{customdata[0]}<br>CO2 emissions (metric tons per capita)=%{x}<br>gdpPercap=%{y}<br>pop=%{marker.size}<extra></extra>\", \"legendgroup\": \"Tanzania\", \"marker\": {\"color\": \"#FF6692\", \"size\": [10863958.0], \"sizemode\": \"area\", \"sizeref\": 1664425.0, \"symbol\": \"circle\"}, \"mode\": \"markers\", \"name\": \"Tanzania\", \"orientation\": \"v\", \"showlegend\": true, \"type\": \"scatter\", \"x\": [0.0717344659547], \"xaxis\": \"x\", \"y\": [722.0038073], \"yaxis\": \"y\"}, {\"customdata\": [[\"Thailand\"]], \"hovertemplate\": \"Country Name=%{customdata[0]}<br>CO2 emissions (metric tons per capita)=%{x}<br>gdpPercap=%{y}<br>pop=%{marker.size}<extra></extra>\", \"legendgroup\": \"Thailand\", \"marker\": {\"color\": \"#B6E880\", \"size\": [29263397.0], \"sizemode\": \"area\", \"sizeref\": 1664425.0, \"symbol\": \"circle\"}, \"mode\": \"markers\", \"name\": \"Thailand\", \"orientation\": \"v\", \"showlegend\": true, \"type\": \"scatter\", \"x\": [0.173129692727], \"xaxis\": \"x\", \"y\": [1002.199172], \"yaxis\": \"y\"}, {\"customdata\": [[\"Togo\"]], \"hovertemplate\": \"Country Name=%{customdata[0]}<br>CO2 emissions (metric tons per capita)=%{x}<br>gdpPercap=%{y}<br>pop=%{marker.size}<extra></extra>\", \"legendgroup\": \"Togo\", \"marker\": {\"color\": \"#FF97FF\", \"size\": [1528098.0], \"sizemode\": \"area\", \"sizeref\": 1664425.0, \"symbol\": \"circle\"}, \"mode\": \"markers\", \"name\": \"Togo\", \"orientation\": \"v\", \"showlegend\": true, \"type\": \"scatter\", \"x\": [0.0545698734714], \"xaxis\": \"x\", \"y\": [1067.53481], \"yaxis\": \"y\"}, {\"customdata\": [[\"Trinidad and Tobago\"]], \"hovertemplate\": \"Country Name=%{customdata[0]}<br>CO2 emissions (metric tons per capita)=%{x}<br>gdpPercap=%{y}<br>pop=%{marker.size}<extra></extra>\", \"legendgroup\": \"Trinidad and Tobago\", \"marker\": {\"color\": \"#FECB52\", \"size\": [887498.0], \"sizemode\": \"area\", \"sizeref\": 1664425.0, \"symbol\": \"circle\"}, \"mode\": \"markers\", \"name\": \"Trinidad and Tobago\", \"orientation\": \"v\", \"showlegend\": true, \"type\": \"scatter\", \"x\": [8.22557012974], \"xaxis\": \"x\", \"y\": [4997.5239710000005], \"yaxis\": \"y\"}, {\"customdata\": [[\"Tunisia\"]], \"hovertemplate\": \"Country Name=%{customdata[0]}<br>CO2 emissions (metric tons per capita)=%{x}<br>gdpPercap=%{y}<br>pop=%{marker.size}<extra></extra>\", \"legendgroup\": \"Tunisia\", \"marker\": {\"color\": \"#636efa\", \"size\": [4286552.0], \"sizemode\": \"area\", \"sizeref\": 1664425.0, \"symbol\": \"circle\"}, \"mode\": \"markers\", \"name\": \"Tunisia\", \"orientation\": \"v\", \"showlegend\": true, \"type\": \"scatter\", \"x\": [0.4129873717800001], \"xaxis\": \"x\", \"y\": [1660.30321], \"yaxis\": \"y\"}, {\"customdata\": [[\"Turkey\"]], \"hovertemplate\": \"Country Name=%{customdata[0]}<br>CO2 emissions (metric tons per capita)=%{x}<br>gdpPercap=%{y}<br>pop=%{marker.size}<extra></extra>\", \"legendgroup\": \"Turkey\", \"marker\": {\"color\": \"#EF553B\", \"size\": [29788695.0], \"sizemode\": \"area\", \"sizeref\": 1664425.0, \"symbol\": \"circle\"}, \"mode\": \"markers\", \"name\": \"Turkey\", \"orientation\": \"v\", \"showlegend\": true, \"type\": \"scatter\", \"x\": [0.748240893242], \"xaxis\": \"x\", \"y\": [2322.869908], \"yaxis\": \"y\"}, {\"customdata\": [[\"Uganda\"]], \"hovertemplate\": \"Country Name=%{customdata[0]}<br>CO2 emissions (metric tons per capita)=%{x}<br>gdpPercap=%{y}<br>pop=%{marker.size}<extra></extra>\", \"legendgroup\": \"Uganda\", \"marker\": {\"color\": \"#00cc96\", \"size\": [7688797.0], \"sizemode\": \"area\", \"sizeref\": 1664425.0, \"symbol\": \"circle\"}, \"mode\": \"markers\", \"name\": \"Uganda\", \"orientation\": \"v\", \"showlegend\": true, \"type\": \"scatter\", \"x\": [0.0592582617361], \"xaxis\": \"x\", \"y\": [767.2717397999999], \"yaxis\": \"y\"}, {\"customdata\": [[\"United Kingdom\"]], \"hovertemplate\": \"Country Name=%{customdata[0]}<br>CO2 emissions (metric tons per capita)=%{x}<br>gdpPercap=%{y}<br>pop=%{marker.size}<extra></extra>\", \"legendgroup\": \"United Kingdom\", \"marker\": {\"color\": \"#ab63fa\", \"size\": [53292000.0], \"sizemode\": \"area\", \"sizeref\": 1664425.0, \"symbol\": \"circle\"}, \"mode\": \"markers\", \"name\": \"United Kingdom\", \"orientation\": \"v\", \"showlegend\": true, \"type\": \"scatter\", \"x\": [11.1429283944], \"xaxis\": \"x\", \"y\": [12477.17707], \"yaxis\": \"y\"}, {\"customdata\": [[\"United States\"]], \"hovertemplate\": \"Country Name=%{customdata[0]}<br>CO2 emissions (metric tons per capita)=%{x}<br>gdpPercap=%{y}<br>pop=%{marker.size}<extra></extra>\", \"legendgroup\": \"United States\", \"marker\": {\"color\": \"#FFA15A\", \"size\": [186538000.0], \"sizemode\": \"area\", \"sizeref\": 1664425.0, \"symbol\": \"circle\"}, \"mode\": \"markers\", \"name\": \"United States\", \"orientation\": \"v\", \"showlegend\": true, \"type\": \"scatter\", \"x\": [16.013937498], \"xaxis\": \"x\", \"y\": [16173.14586], \"yaxis\": \"y\"}, {\"customdata\": [[\"Uruguay\"]], \"hovertemplate\": \"Country Name=%{customdata[0]}<br>CO2 emissions (metric tons per capita)=%{x}<br>gdpPercap=%{y}<br>pop=%{marker.size}<extra></extra>\", \"legendgroup\": \"Uruguay\", \"marker\": {\"color\": \"#19d3f3\", \"size\": [2598466.0], \"sizemode\": \"area\", \"sizeref\": 1664425.0, \"symbol\": \"circle\"}, \"mode\": \"markers\", \"name\": \"Uruguay\", \"orientation\": \"v\", \"showlegend\": true, \"type\": \"scatter\", \"x\": [1.54065748629], \"xaxis\": \"x\", \"y\": [5603.357717], \"yaxis\": \"y\"}, {\"customdata\": [[\"Vietnam\"]], \"hovertemplate\": \"Country Name=%{customdata[0]}<br>CO2 emissions (metric tons per capita)=%{x}<br>gdpPercap=%{y}<br>pop=%{marker.size}<extra></extra>\", \"legendgroup\": \"Vietnam\", \"marker\": {\"color\": \"#FF6692\", \"size\": [33796140.0], \"sizemode\": \"area\", \"sizeref\": 1664425.0, \"symbol\": \"circle\"}, \"mode\": \"markers\", \"name\": \"Vietnam\", \"orientation\": \"v\", \"showlegend\": true, \"type\": \"scatter\", \"x\": [0.258759875979], \"xaxis\": \"x\", \"y\": [772.0491602000001], \"yaxis\": \"y\"}],                        {\"legend\": {\"itemsizing\": \"constant\", \"title\": {\"text\": \"Country Name\"}, \"tracegroupgap\": 0}, \"template\": {\"data\": {\"bar\": [{\"error_x\": {\"color\": \"#2a3f5f\"}, \"error_y\": {\"color\": \"#2a3f5f\"}, \"marker\": {\"line\": {\"color\": \"#E5ECF6\", \"width\": 0.5}}, \"type\": \"bar\"}], \"barpolar\": [{\"marker\": {\"line\": {\"color\": \"#E5ECF6\", \"width\": 0.5}}, \"type\": \"barpolar\"}], \"carpet\": [{\"aaxis\": {\"endlinecolor\": \"#2a3f5f\", \"gridcolor\": \"white\", \"linecolor\": \"white\", \"minorgridcolor\": \"white\", \"startlinecolor\": \"#2a3f5f\"}, \"baxis\": {\"endlinecolor\": \"#2a3f5f\", \"gridcolor\": \"white\", \"linecolor\": \"white\", \"minorgridcolor\": \"white\", \"startlinecolor\": \"#2a3f5f\"}, \"type\": \"carpet\"}], \"choropleth\": [{\"colorbar\": {\"outlinewidth\": 0, \"ticks\": \"\"}, \"type\": \"choropleth\"}], \"contour\": [{\"colorbar\": {\"outlinewidth\": 0, \"ticks\": \"\"}, \"colorscale\": [[0.0, \"#0d0887\"], [0.1111111111111111, \"#46039f\"], [0.2222222222222222, \"#7201a8\"], [0.3333333333333333, \"#9c179e\"], [0.4444444444444444, \"#bd3786\"], [0.5555555555555556, \"#d8576b\"], [0.6666666666666666, \"#ed7953\"], [0.7777777777777778, \"#fb9f3a\"], [0.8888888888888888, \"#fdca26\"], [1.0, \"#f0f921\"]], \"type\": \"contour\"}], \"contourcarpet\": [{\"colorbar\": {\"outlinewidth\": 0, \"ticks\": \"\"}, \"type\": \"contourcarpet\"}], \"heatmap\": [{\"colorbar\": {\"outlinewidth\": 0, \"ticks\": \"\"}, \"colorscale\": [[0.0, \"#0d0887\"], [0.1111111111111111, \"#46039f\"], [0.2222222222222222, \"#7201a8\"], [0.3333333333333333, \"#9c179e\"], [0.4444444444444444, \"#bd3786\"], [0.5555555555555556, \"#d8576b\"], [0.6666666666666666, \"#ed7953\"], [0.7777777777777778, \"#fb9f3a\"], [0.8888888888888888, \"#fdca26\"], [1.0, \"#f0f921\"]], \"type\": \"heatmap\"}], \"heatmapgl\": [{\"colorbar\": {\"outlinewidth\": 0, \"ticks\": \"\"}, \"colorscale\": [[0.0, \"#0d0887\"], [0.1111111111111111, \"#46039f\"], [0.2222222222222222, \"#7201a8\"], [0.3333333333333333, \"#9c179e\"], [0.4444444444444444, \"#bd3786\"], [0.5555555555555556, \"#d8576b\"], [0.6666666666666666, \"#ed7953\"], [0.7777777777777778, \"#fb9f3a\"], [0.8888888888888888, \"#fdca26\"], [1.0, \"#f0f921\"]], \"type\": \"heatmapgl\"}], \"histogram\": [{\"marker\": {\"colorbar\": {\"outlinewidth\": 0, \"ticks\": \"\"}}, \"type\": \"histogram\"}], \"histogram2d\": [{\"colorbar\": {\"outlinewidth\": 0, \"ticks\": \"\"}, \"colorscale\": [[0.0, \"#0d0887\"], [0.1111111111111111, \"#46039f\"], [0.2222222222222222, \"#7201a8\"], [0.3333333333333333, \"#9c179e\"], [0.4444444444444444, \"#bd3786\"], [0.5555555555555556, \"#d8576b\"], [0.6666666666666666, \"#ed7953\"], [0.7777777777777778, \"#fb9f3a\"], [0.8888888888888888, \"#fdca26\"], [1.0, \"#f0f921\"]], \"type\": \"histogram2d\"}], \"histogram2dcontour\": [{\"colorbar\": {\"outlinewidth\": 0, \"ticks\": \"\"}, \"colorscale\": [[0.0, \"#0d0887\"], [0.1111111111111111, \"#46039f\"], [0.2222222222222222, \"#7201a8\"], [0.3333333333333333, \"#9c179e\"], [0.4444444444444444, \"#bd3786\"], [0.5555555555555556, \"#d8576b\"], [0.6666666666666666, \"#ed7953\"], [0.7777777777777778, \"#fb9f3a\"], [0.8888888888888888, \"#fdca26\"], [1.0, \"#f0f921\"]], \"type\": \"histogram2dcontour\"}], \"mesh3d\": [{\"colorbar\": {\"outlinewidth\": 0, \"ticks\": \"\"}, \"type\": \"mesh3d\"}], \"parcoords\": [{\"line\": {\"colorbar\": {\"outlinewidth\": 0, \"ticks\": \"\"}}, \"type\": \"parcoords\"}], \"pie\": [{\"automargin\": true, \"type\": \"pie\"}], \"scatter\": [{\"marker\": {\"colorbar\": {\"outlinewidth\": 0, \"ticks\": \"\"}}, \"type\": \"scatter\"}], \"scatter3d\": [{\"line\": {\"colorbar\": {\"outlinewidth\": 0, \"ticks\": \"\"}}, \"marker\": {\"colorbar\": {\"outlinewidth\": 0, \"ticks\": \"\"}}, \"type\": \"scatter3d\"}], \"scattercarpet\": [{\"marker\": {\"colorbar\": {\"outlinewidth\": 0, \"ticks\": \"\"}}, \"type\": \"scattercarpet\"}], \"scattergeo\": [{\"marker\": {\"colorbar\": {\"outlinewidth\": 0, \"ticks\": \"\"}}, \"type\": \"scattergeo\"}], \"scattergl\": [{\"marker\": {\"colorbar\": {\"outlinewidth\": 0, \"ticks\": \"\"}}, \"type\": \"scattergl\"}], \"scattermapbox\": [{\"marker\": {\"colorbar\": {\"outlinewidth\": 0, \"ticks\": \"\"}}, \"type\": \"scattermapbox\"}], \"scatterpolar\": [{\"marker\": {\"colorbar\": {\"outlinewidth\": 0, \"ticks\": \"\"}}, \"type\": \"scatterpolar\"}], \"scatterpolargl\": [{\"marker\": {\"colorbar\": {\"outlinewidth\": 0, \"ticks\": \"\"}}, \"type\": \"scatterpolargl\"}], \"scatterternary\": [{\"marker\": {\"colorbar\": {\"outlinewidth\": 0, \"ticks\": \"\"}}, \"type\": \"scatterternary\"}], \"surface\": [{\"colorbar\": {\"outlinewidth\": 0, \"ticks\": \"\"}, \"colorscale\": [[0.0, \"#0d0887\"], [0.1111111111111111, \"#46039f\"], [0.2222222222222222, \"#7201a8\"], [0.3333333333333333, \"#9c179e\"], [0.4444444444444444, \"#bd3786\"], [0.5555555555555556, \"#d8576b\"], [0.6666666666666666, \"#ed7953\"], [0.7777777777777778, \"#fb9f3a\"], [0.8888888888888888, \"#fdca26\"], [1.0, \"#f0f921\"]], \"type\": \"surface\"}], \"table\": [{\"cells\": {\"fill\": {\"color\": \"#EBF0F8\"}, \"line\": {\"color\": \"white\"}}, \"header\": {\"fill\": {\"color\": \"#C8D4E3\"}, \"line\": {\"color\": \"white\"}}, \"type\": \"table\"}]}, \"layout\": {\"annotationdefaults\": {\"arrowcolor\": \"#2a3f5f\", \"arrowhead\": 0, \"arrowwidth\": 1}, \"autotypenumbers\": \"strict\", \"coloraxis\": {\"colorbar\": {\"outlinewidth\": 0, \"ticks\": \"\"}}, \"colorscale\": {\"diverging\": [[0, \"#8e0152\"], [0.1, \"#c51b7d\"], [0.2, \"#de77ae\"], [0.3, \"#f1b6da\"], [0.4, \"#fde0ef\"], [0.5, \"#f7f7f7\"], [0.6, \"#e6f5d0\"], [0.7, \"#b8e186\"], [0.8, \"#7fbc41\"], [0.9, \"#4d9221\"], [1, \"#276419\"]], \"sequential\": [[0.0, \"#0d0887\"], [0.1111111111111111, \"#46039f\"], [0.2222222222222222, \"#7201a8\"], [0.3333333333333333, \"#9c179e\"], [0.4444444444444444, \"#bd3786\"], [0.5555555555555556, \"#d8576b\"], [0.6666666666666666, \"#ed7953\"], [0.7777777777777778, \"#fb9f3a\"], [0.8888888888888888, \"#fdca26\"], [1.0, \"#f0f921\"]], \"sequentialminus\": [[0.0, \"#0d0887\"], [0.1111111111111111, \"#46039f\"], [0.2222222222222222, \"#7201a8\"], [0.3333333333333333, \"#9c179e\"], [0.4444444444444444, \"#bd3786\"], [0.5555555555555556, \"#d8576b\"], [0.6666666666666666, \"#ed7953\"], [0.7777777777777778, \"#fb9f3a\"], [0.8888888888888888, \"#fdca26\"], [1.0, \"#f0f921\"]]}, \"colorway\": [\"#636efa\", \"#EF553B\", \"#00cc96\", \"#ab63fa\", \"#FFA15A\", \"#19d3f3\", \"#FF6692\", \"#B6E880\", \"#FF97FF\", \"#FECB52\"], \"font\": {\"color\": \"#2a3f5f\"}, \"geo\": {\"bgcolor\": \"white\", \"lakecolor\": \"white\", \"landcolor\": \"#E5ECF6\", \"showlakes\": true, \"showland\": true, \"subunitcolor\": \"white\"}, \"hoverlabel\": {\"align\": \"left\"}, \"hovermode\": \"closest\", \"mapbox\": {\"style\": \"light\"}, \"paper_bgcolor\": \"white\", \"plot_bgcolor\": \"#E5ECF6\", \"polar\": {\"angularaxis\": {\"gridcolor\": \"white\", \"linecolor\": \"white\", \"ticks\": \"\"}, \"bgcolor\": \"#E5ECF6\", \"radialaxis\": {\"gridcolor\": \"white\", \"linecolor\": \"white\", \"ticks\": \"\"}}, \"scene\": {\"xaxis\": {\"backgroundcolor\": \"#E5ECF6\", \"gridcolor\": \"white\", \"gridwidth\": 2, \"linecolor\": \"white\", \"showbackground\": true, \"ticks\": \"\", \"zerolinecolor\": \"white\"}, \"yaxis\": {\"backgroundcolor\": \"#E5ECF6\", \"gridcolor\": \"white\", \"gridwidth\": 2, \"linecolor\": \"white\", \"showbackground\": true, \"ticks\": \"\", \"zerolinecolor\": \"white\"}, \"zaxis\": {\"backgroundcolor\": \"#E5ECF6\", \"gridcolor\": \"white\", \"gridwidth\": 2, \"linecolor\": \"white\", \"showbackground\": true, \"ticks\": \"\", \"zerolinecolor\": \"white\"}}, \"shapedefaults\": {\"line\": {\"color\": \"#2a3f5f\"}}, \"ternary\": {\"aaxis\": {\"gridcolor\": \"white\", \"linecolor\": \"white\", \"ticks\": \"\"}, \"baxis\": {\"gridcolor\": \"white\", \"linecolor\": \"white\", \"ticks\": \"\"}, \"bgcolor\": \"#E5ECF6\", \"caxis\": {\"gridcolor\": \"white\", \"linecolor\": \"white\", \"ticks\": \"\"}}, \"title\": {\"x\": 0.05}, \"xaxis\": {\"automargin\": true, \"gridcolor\": \"white\", \"linecolor\": \"white\", \"ticks\": \"\", \"title\": {\"standoff\": 15}, \"zerolinecolor\": \"white\", \"zerolinewidth\": 2}, \"yaxis\": {\"automargin\": true, \"gridcolor\": \"white\", \"linecolor\": \"white\", \"ticks\": \"\", \"title\": {\"standoff\": 15}, \"zerolinecolor\": \"white\", \"zerolinewidth\": 2}}}, \"title\": {\"text\": \"CO2 emissions (metric tons per capita) and GDP per cap. Year 1962\"}, \"xaxis\": {\"anchor\": \"y\", \"domain\": [0.0, 1.0], \"title\": {\"text\": \"CO2 emissions (metric tons per capita)\"}}, \"yaxis\": {\"anchor\": \"x\", \"domain\": [0.0, 1.0], \"title\": {\"text\": \"gdpPercap\"}}},                        {\"responsive\": true}                    ).then(function(){\n",
       "                            \n",
       "var gd = document.getElementById('51f71a6a-9da3-462c-bda6-f3f7b35367d1');\n",
       "var x = new MutationObserver(function (mutations, observer) {{\n",
       "        var display = window.getComputedStyle(gd).display;\n",
       "        if (!display || display === 'none') {{\n",
       "            console.log([gd, 'removed!']);\n",
       "            Plotly.purge(gd);\n",
       "            observer.disconnect();\n",
       "        }}\n",
       "}});\n",
       "\n",
       "// Listen for the removal of the full notebook cells\n",
       "var notebookContainer = gd.closest('#notebook-container');\n",
       "if (notebookContainer) {{\n",
       "    x.observe(notebookContainer, {childList: true});\n",
       "}}\n",
       "\n",
       "// Listen for the clearing of the current output cell\n",
       "var outputEl = gd.closest('.output');\n",
       "if (outputEl) {{\n",
       "    x.observe(outputEl, {childList: true});\n",
       "}}\n",
       "\n",
       "                        })                };                });            </script>        </div>"
      ]
     },
     "metadata": {},
     "output_type": "display_data"
    }
   ],
   "source": [
    "filtered_data = df[(df[\"Year\"] == 1962) & (df[\"Country Name\"] != \"Kuwait\")]\n",
    "\n",
    "# Scatter plot\n",
    "fig = px.scatter(filtered_data, x='CO2 emissions (metric tons per capita)', \n",
    "                 y=\"gdpPercap\", color='Country Name', size='pop', hover_data=['Country Name'], \n",
    "                 title=\"CO2 emissions (metric tons per capita) and GDP per cap. Year 1962\")\n",
    "fig.show()"
   ]
  },
  {
   "cell_type": "code",
   "execution_count": 27,
   "metadata": {},
   "outputs": [
    {
     "name": "stdout",
     "output_type": "stream",
     "text": [
      "\n",
      " Pearson correlation of CO2 emissions (metric tons per capita) and gdpPercap, year 1962: \n",
      " Correlation value:  0.8063294717615218 p-value:  1.0822253072448907e-25\n"
     ]
    }
   ],
   "source": [
    "# Pearson's r\n",
    "from scipy.stats import pearsonr\n",
    "\n",
    "corr, p_value = pearsonr(filtered_data[\"CO2 emissions (metric tons per capita)\"], filtered_data[\"gdpPercap\"])\n",
    "print(\"\\n Pearson correlation of CO2 emissions (metric tons per capita) and gdpPercap, year 1962: \\n\",\n",
    "      \"Correlation value: \",corr,\"p-value: \",p_value)"
   ]
  },
  {
   "cell_type": "markdown",
   "metadata": {},
   "source": [
    "<a id=\"two\"></a>\n",
    "### In what year is the correlation between CO2 emissions (metric tons per capita) and gdpPercap the strongest?\n",
    "<a href=\"#index\">Go to the table of contents</a>"
   ]
  },
  {
   "cell_type": "code",
   "execution_count": 28,
   "metadata": {},
   "outputs": [
    {
     "data": {
      "text/plain": [
       "Year\n",
       "1972    0.859351\n",
       "Name: gdpPercap, dtype: float64"
      ]
     },
     "execution_count": 28,
     "metadata": {},
     "output_type": "execute_result"
    }
   ],
   "source": [
    "unfiltered_data = df[(df[\"Year\"] != 1962) & (df[\"Country Name\"] != \"Kuwait\")]\n",
    "unfiltered_data.groupby(by=[\"Year\"]).corrwith(other=df[\"CO2 emissions (metric tons per capita)\"]).sort_values(\"gdpPercap\", ascending=False)[\"gdpPercap\"].head(1)"
   ]
  },
  {
   "cell_type": "code",
   "execution_count": 29,
   "metadata": {
    "scrolled": true
   },
   "outputs": [
    {
     "data": {
      "application/vnd.plotly.v1+json": {
       "config": {
        "plotlyServerURL": "https://plot.ly"
       },
       "data": [
        {
         "customdata": [
          [
           "Afghanistan"
          ],
          [
           "Bahrain"
          ],
          [
           "Cambodia"
          ],
          [
           "China"
          ],
          [
           "India"
          ],
          [
           "Indonesia"
          ],
          [
           "Iraq"
          ],
          [
           "Israel"
          ],
          [
           "Japan"
          ],
          [
           "Jordan"
          ],
          [
           "Lebanon"
          ],
          [
           "Mongolia"
          ],
          [
           "Myanmar"
          ],
          [
           "Nepal"
          ],
          [
           "Oman"
          ],
          [
           "Pakistan"
          ],
          [
           "Philippines"
          ],
          [
           "Saudi Arabia"
          ],
          [
           "Singapore"
          ],
          [
           "Sri Lanka"
          ],
          [
           "Thailand"
          ],
          [
           "Vietnam"
          ]
         ],
         "hovertemplate": "continent=Asia<br>CO2 emissions (metric tons per capita)=%{x}<br>gdpPercap=%{y}<br>pop=%{marker.size}<br>Country Name=%{customdata[0]}<extra></extra>",
         "legendgroup": "Asia",
         "marker": {
          "color": "#636efa",
          "size": [
           11537966,
           202182,
           6960067,
           754550000,
           506000000,
           109343000,
           8519282,
           2693585,
           100825279,
           1255058,
           2186894,
           1149500,
           25870271,
           11261690,
           714775,
           60641899,
           35356600,
           5618198,
           1977600,
           11737396,
           34024249,
           39463910
          ],
          "sizemode": "area",
          "sizeref": 1886375,
          "symbol": "circle"
         },
         "mode": "markers",
         "name": "Asia",
         "orientation": "v",
         "showlegend": true,
         "type": "scatter",
         "x": [
          0.123782381421,
          5.12101242081,
          0.0624360387486,
          0.574162146975,
          0.331763432432,
          0.23191547809,
          2.05575631533,
          4.93341748634,
          4.86355784562,
          1.0719834839700002,
          1.64225486815,
          1.83477215037,
          0.143519517019,
          0.0188098863912,
          0.205537806177,
          0.402522332305,
          0.555413076261,
          4.90876421118,
          1.54645934466,
          0.25192412202,
          0.360202673298,
          0.574906353177
         ],
         "xaxis": "x",
         "y": [
          836.1971382,
          14804.6727,
          523.4323142,
          612.7056934,
          700.7706107000001,
          762.4317721,
          8931.459811,
          8393.741404,
          9847.788607,
          2741.796252,
          6006.983042,
          1226.04113,
          349,
          676.4422254,
          4720.942687,
          942.4082588,
          1814.12743,
          16903.04886,
          4977.41854,
          1135.514326,
          1295.46066,
          637.1232887
         ],
         "yaxis": "y"
        },
        {
         "customdata": [
          [
           "Albania"
          ],
          [
           "Austria"
          ],
          [
           "Belgium"
          ],
          [
           "Bulgaria"
          ],
          [
           "Denmark"
          ],
          [
           "Finland"
          ],
          [
           "France"
          ],
          [
           "Greece"
          ],
          [
           "Hungary"
          ],
          [
           "Iceland"
          ],
          [
           "Ireland"
          ],
          [
           "Italy"
          ],
          [
           "Netherlands"
          ],
          [
           "Norway"
          ],
          [
           "Poland"
          ],
          [
           "Portugal"
          ],
          [
           "Romania"
          ],
          [
           "Spain"
          ],
          [
           "Sweden"
          ],
          [
           "Switzerland"
          ],
          [
           "Turkey"
          ],
          [
           "United Kingdom"
          ]
         ],
         "hovertemplate": "continent=Europe<br>CO2 emissions (metric tons per capita)=%{x}<br>gdpPercap=%{y}<br>pop=%{marker.size}<br>Country Name=%{customdata[0]}<extra></extra>",
         "legendgroup": "Europe",
         "marker": {
          "color": "#EF553B",
          "size": [
           1984060,
           7376998,
           9556500,
           8310226,
           4838800,
           4605744,
           49569000,
           8716441,
           10223422,
           198676,
           2900100,
           52667100,
           12596822,
           3786019,
           31785378,
           9103000,
           19284814,
           32850275,
           7867931,
           6063000,
           33411317,
           54959000
          ],
          "sizemode": "area",
          "sizeref": 1886375,
          "symbol": "circle"
         },
         "mode": "markers",
         "name": "Europe",
         "orientation": "v",
         "showlegend": true,
         "type": "scatter",
         "x": [
          1.36374630011,
          5.41773672705,
          11.2172567535,
          6.63836916108,
          10.1493005476,
          6.21338658857,
          7.3064221599,
          2.24941398567,
          5.758242269149999,
          7.269387323839999,
          5.65504728764,
          4.43148255688,
          8.47605463669,
          5.1072949704,
          8.105834013680001,
          1.39828723131,
          4.71631855487,
          2.64722755876,
          8.770023402589999,
          5.43460087436,
          1.03313907211,
          10.7841045545
         ],
         "xaxis": "x",
         "y": [
          2760.196931,
          12834.6024,
          13149.04119,
          5577.0028,
          15937.21123,
          10921.63626,
          12999.91766,
          8513.097016,
          9326.64467,
          13319.89568,
          7655.568963,
          10022.40131,
          15363.25136,
          16361.87647,
          6557.152776,
          6361.517993,
          6470.866545,
          7993.512294,
          15258.29697,
          22966.14432,
          2826.3563870000003,
          14142.85089
         ],
         "yaxis": "y"
        },
        {
         "customdata": [
          [
           "Algeria"
          ],
          [
           "Angola"
          ],
          [
           "Benin"
          ],
          [
           "Burkina Faso"
          ],
          [
           "Burundi"
          ],
          [
           "Cameroon"
          ],
          [
           "Central African Republic"
          ],
          [
           "Chad"
          ],
          [
           "Comoros"
          ],
          [
           "Cote d'Ivoire"
          ],
          [
           "Djibouti"
          ],
          [
           "Equatorial Guinea"
          ],
          [
           "Ethiopia"
          ],
          [
           "Gabon"
          ],
          [
           "Ghana"
          ],
          [
           "Guinea"
          ],
          [
           "Guinea-Bissau"
          ],
          [
           "Kenya"
          ],
          [
           "Liberia"
          ],
          [
           "Libya"
          ],
          [
           "Madagascar"
          ],
          [
           "Malawi"
          ],
          [
           "Mali"
          ],
          [
           "Mauritania"
          ],
          [
           "Mauritius"
          ],
          [
           "Morocco"
          ],
          [
           "Mozambique"
          ],
          [
           "Niger"
          ],
          [
           "Nigeria"
          ],
          [
           "Rwanda"
          ],
          [
           "Sao Tome and Principe"
          ],
          [
           "Senegal"
          ],
          [
           "Sierra Leone"
          ],
          [
           "Somalia"
          ],
          [
           "South Africa"
          ],
          [
           "Sudan"
          ],
          [
           "Swaziland"
          ],
          [
           "Tanzania"
          ],
          [
           "Togo"
          ],
          [
           "Tunisia"
          ],
          [
           "Uganda"
          ],
          [
           "Zambia"
          ],
          [
           "Zimbabwe"
          ]
         ],
         "hovertemplate": "continent=Africa<br>CO2 emissions (metric tons per capita)=%{x}<br>gdpPercap=%{y}<br>pop=%{marker.size}<br>Country Name=%{customdata[0]}<extra></extra>",
         "legendgroup": "Africa",
         "marker": {
          "color": "#00cc96",
          "size": [
           12760499,
           5247469,
           2427334,
           5127935,
           3330989,
           6335506,
           1733638,
           3495967,
           217378,
           4744870,
           127617,
           259864,
           27860297,
           489004,
           8490213,
           3451418,
           601287,
           10191512,
           1279406,
           1759224,
           6334556,
           4147252,
           5212416,
           1230542,
           789309,
           14770296,
           8680909,
           4534062,
           47287752,
           3451079,
           70787,
           3965841,
           2662190,
           3428839,
           20997321,
           12716129,
           420690,
           12607312,
           1735550,
           4786986,
           8900294,
           3900000,
           4995432
          ],
          "sizemode": "area",
          "sizeref": 1886375,
          "symbol": "circle"
         },
         "mode": "markers",
         "name": "Africa",
         "orientation": "v",
         "showlegend": true,
         "type": "scatter",
         "x": [
          0.632118426889,
          0.166658588848,
          0.0523195961148,
          0.0192168474009,
          0.0147354429891,
          0.0729810151442,
          0.0533441408437,
          0.0341490827003,
          0.0856623590204,
          0.324270273072,
          0.669756398256,
          0.0908814105401,
          0.0408827807982,
          1.82744493336,
          0.185683744295,
          0.180529006335,
          0.0707397168393,
          0.266146233454,
          0.465652918101,
          9.94130993774,
          0.138895338975,
          0.086039155676,
          0.0392007077217,
          0.188179057955,
          0.6361795955439999,
          0.3615857767970001,
          0.216165510896,
          0.0318543481335,
          0.244682890582,
          0.0118002652184999,
          0.1620797359809999,
          0.181319271624,
          0.105440879922,
          0.0704483235701,
          6.46564779364,
          0.250771072594,
          0.55253014742,
          0.141879278158,
          0.10672264605,
          0.638870927594,
          0.0944460734361,
          1.2636279603,
          1.12296052314
         ],
         "xaxis": "x",
         "y": [
          3246.991771,
          5522.776375,
          1035.831411,
          794.8265597,
          412.97751360000007,
          1508.453148,
          1136.056615,
          1196.810565,
          1876.029643,
          2052.050473,
          3020.050513,
          915.5960025,
          516.1186438,
          8358.761987,
          1125.69716,
          708.7595409,
          715.5806402000001,
          1056.736457,
          713.6036482999999,
          18772.75169,
          1634.047282,
          495.5147806,
          545.0098873,
          1421.145193,
          2475.387562,
          1711.04477,
          566.6691539,
          1054.384891,
          1014.514104,
          510.9637142,
          1384.840593,
          1612.404632,
          1206.043465,
          1284.7331800000002,
          7114.477970999999,
          1687.997641,
          2613.101665,
          848.2186575,
          1477.59676,
          1932.3601670000005,
          908.9185217,
          1777.077318,
          569.7950712
         ],
         "yaxis": "y"
        },
        {
         "customdata": [
          [
           "Argentina"
          ],
          [
           "Bolivia"
          ],
          [
           "Brazil"
          ],
          [
           "Canada"
          ],
          [
           "Chile"
          ],
          [
           "Colombia"
          ],
          [
           "Costa Rica"
          ],
          [
           "Cuba"
          ],
          [
           "Dominican Republic"
          ],
          [
           "Ecuador"
          ],
          [
           "El Salvador"
          ],
          [
           "Guatemala"
          ],
          [
           "Haiti"
          ],
          [
           "Honduras"
          ],
          [
           "Jamaica"
          ],
          [
           "Mexico"
          ],
          [
           "Nicaragua"
          ],
          [
           "Panama"
          ],
          [
           "Paraguay"
          ],
          [
           "Peru"
          ],
          [
           "Trinidad and Tobago"
          ],
          [
           "United States"
          ],
          [
           "Uruguay"
          ]
         ],
         "hovertemplate": "continent=Americas<br>CO2 emissions (metric tons per capita)=%{x}<br>gdpPercap=%{y}<br>pop=%{marker.size}<br>Country Name=%{customdata[0]}<extra></extra>",
         "legendgroup": "Americas",
         "marker": {
          "color": "#ab63fa",
          "size": [
           22934225,
           4040665,
           88049823,
           20819767,
           8858908,
           19764027,
           1588717,
           8139332,
           4049146,
           5432424,
           3232927,
           4690773,
           4318137,
           2500689,
           1861096,
           47995559,
           1865490,
           1405486,
           2287985,
           12132200,
           960155,
           198712000,
           2748579
          ],
          "sizemode": "area",
          "sizeref": 1886375,
          "symbol": "circle"
         },
         "mode": "markers",
         "name": "Americas",
         "orientation": "v",
         "showlegend": true,
         "type": "scatter",
         "x": [
          2.85816254619,
          0.446569679542,
          0.744966530874,
          13.8103545953,
          2.1409901271900003,
          1.21683476874,
          0.517145991263,
          1.90593276713,
          0.380469161164,
          0.465781970972,
          0.342459705043,
          0.397317380131,
          0.0585660070754,
          0.352498584235,
          2.14463346178,
          1.8996986330400003,
          0.493983688604,
          1.21812383412,
          0.213013396786,
          1.1118562074299998,
          5.00989828473,
          18.5983178822,
          1.77610139003
         ],
         "xaxis": "x",
         "y": [
          8052.953020999999,
          2586.886053,
          3429.864357,
          16076.58803,
          5106.654313,
          2678.729839,
          4161.727834,
          5690.268015,
          1653.7230029999998,
          4579.074215,
          4358.595393,
          3242.531147,
          1452.057666,
          2538.269358,
          6124.703450999999,
          5754.733883,
          4643.393534000001,
          4421.009084,
          2299.376311,
          5788.09333,
          5621.368472,
          19530.36557,
          5444.61962
         ],
         "yaxis": "y"
        },
        {
         "customdata": [
          [
           "Australia"
          ],
          [
           "New Zealand"
          ]
         ],
         "hovertemplate": "continent=Oceania<br>CO2 emissions (metric tons per capita)=%{x}<br>gdpPercap=%{y}<br>pop=%{marker.size}<br>Country Name=%{customdata[0]}<extra></extra>",
         "legendgroup": "Oceania",
         "marker": {
          "color": "#FFA15A",
          "size": [
           11872264,
           2728150
          ],
          "sizemode": "area",
          "sizeref": 1886375,
          "symbol": "circle"
         },
         "mode": "markers",
         "name": "Oceania",
         "orientation": "v",
         "showlegend": true,
         "type": "scatter",
         "x": [
          10.9556247987,
          5.00761352373
         ],
         "xaxis": "x",
         "y": [
          14526.12465,
          14463.918930000002
         ],
         "yaxis": "y"
        }
       ],
       "layout": {
        "legend": {
         "itemsizing": "constant",
         "title": {
          "text": "continent"
         },
         "tracegroupgap": 0
        },
        "template": {
         "data": {
          "bar": [
           {
            "error_x": {
             "color": "#2a3f5f"
            },
            "error_y": {
             "color": "#2a3f5f"
            },
            "marker": {
             "line": {
              "color": "#E5ECF6",
              "width": 0.5
             }
            },
            "type": "bar"
           }
          ],
          "barpolar": [
           {
            "marker": {
             "line": {
              "color": "#E5ECF6",
              "width": 0.5
             }
            },
            "type": "barpolar"
           }
          ],
          "carpet": [
           {
            "aaxis": {
             "endlinecolor": "#2a3f5f",
             "gridcolor": "white",
             "linecolor": "white",
             "minorgridcolor": "white",
             "startlinecolor": "#2a3f5f"
            },
            "baxis": {
             "endlinecolor": "#2a3f5f",
             "gridcolor": "white",
             "linecolor": "white",
             "minorgridcolor": "white",
             "startlinecolor": "#2a3f5f"
            },
            "type": "carpet"
           }
          ],
          "choropleth": [
           {
            "colorbar": {
             "outlinewidth": 0,
             "ticks": ""
            },
            "type": "choropleth"
           }
          ],
          "contour": [
           {
            "colorbar": {
             "outlinewidth": 0,
             "ticks": ""
            },
            "colorscale": [
             [
              0,
              "#0d0887"
             ],
             [
              0.1111111111111111,
              "#46039f"
             ],
             [
              0.2222222222222222,
              "#7201a8"
             ],
             [
              0.3333333333333333,
              "#9c179e"
             ],
             [
              0.4444444444444444,
              "#bd3786"
             ],
             [
              0.5555555555555556,
              "#d8576b"
             ],
             [
              0.6666666666666666,
              "#ed7953"
             ],
             [
              0.7777777777777778,
              "#fb9f3a"
             ],
             [
              0.8888888888888888,
              "#fdca26"
             ],
             [
              1,
              "#f0f921"
             ]
            ],
            "type": "contour"
           }
          ],
          "contourcarpet": [
           {
            "colorbar": {
             "outlinewidth": 0,
             "ticks": ""
            },
            "type": "contourcarpet"
           }
          ],
          "heatmap": [
           {
            "colorbar": {
             "outlinewidth": 0,
             "ticks": ""
            },
            "colorscale": [
             [
              0,
              "#0d0887"
             ],
             [
              0.1111111111111111,
              "#46039f"
             ],
             [
              0.2222222222222222,
              "#7201a8"
             ],
             [
              0.3333333333333333,
              "#9c179e"
             ],
             [
              0.4444444444444444,
              "#bd3786"
             ],
             [
              0.5555555555555556,
              "#d8576b"
             ],
             [
              0.6666666666666666,
              "#ed7953"
             ],
             [
              0.7777777777777778,
              "#fb9f3a"
             ],
             [
              0.8888888888888888,
              "#fdca26"
             ],
             [
              1,
              "#f0f921"
             ]
            ],
            "type": "heatmap"
           }
          ],
          "heatmapgl": [
           {
            "colorbar": {
             "outlinewidth": 0,
             "ticks": ""
            },
            "colorscale": [
             [
              0,
              "#0d0887"
             ],
             [
              0.1111111111111111,
              "#46039f"
             ],
             [
              0.2222222222222222,
              "#7201a8"
             ],
             [
              0.3333333333333333,
              "#9c179e"
             ],
             [
              0.4444444444444444,
              "#bd3786"
             ],
             [
              0.5555555555555556,
              "#d8576b"
             ],
             [
              0.6666666666666666,
              "#ed7953"
             ],
             [
              0.7777777777777778,
              "#fb9f3a"
             ],
             [
              0.8888888888888888,
              "#fdca26"
             ],
             [
              1,
              "#f0f921"
             ]
            ],
            "type": "heatmapgl"
           }
          ],
          "histogram": [
           {
            "marker": {
             "colorbar": {
              "outlinewidth": 0,
              "ticks": ""
             }
            },
            "type": "histogram"
           }
          ],
          "histogram2d": [
           {
            "colorbar": {
             "outlinewidth": 0,
             "ticks": ""
            },
            "colorscale": [
             [
              0,
              "#0d0887"
             ],
             [
              0.1111111111111111,
              "#46039f"
             ],
             [
              0.2222222222222222,
              "#7201a8"
             ],
             [
              0.3333333333333333,
              "#9c179e"
             ],
             [
              0.4444444444444444,
              "#bd3786"
             ],
             [
              0.5555555555555556,
              "#d8576b"
             ],
             [
              0.6666666666666666,
              "#ed7953"
             ],
             [
              0.7777777777777778,
              "#fb9f3a"
             ],
             [
              0.8888888888888888,
              "#fdca26"
             ],
             [
              1,
              "#f0f921"
             ]
            ],
            "type": "histogram2d"
           }
          ],
          "histogram2dcontour": [
           {
            "colorbar": {
             "outlinewidth": 0,
             "ticks": ""
            },
            "colorscale": [
             [
              0,
              "#0d0887"
             ],
             [
              0.1111111111111111,
              "#46039f"
             ],
             [
              0.2222222222222222,
              "#7201a8"
             ],
             [
              0.3333333333333333,
              "#9c179e"
             ],
             [
              0.4444444444444444,
              "#bd3786"
             ],
             [
              0.5555555555555556,
              "#d8576b"
             ],
             [
              0.6666666666666666,
              "#ed7953"
             ],
             [
              0.7777777777777778,
              "#fb9f3a"
             ],
             [
              0.8888888888888888,
              "#fdca26"
             ],
             [
              1,
              "#f0f921"
             ]
            ],
            "type": "histogram2dcontour"
           }
          ],
          "mesh3d": [
           {
            "colorbar": {
             "outlinewidth": 0,
             "ticks": ""
            },
            "type": "mesh3d"
           }
          ],
          "parcoords": [
           {
            "line": {
             "colorbar": {
              "outlinewidth": 0,
              "ticks": ""
             }
            },
            "type": "parcoords"
           }
          ],
          "pie": [
           {
            "automargin": true,
            "type": "pie"
           }
          ],
          "scatter": [
           {
            "marker": {
             "colorbar": {
              "outlinewidth": 0,
              "ticks": ""
             }
            },
            "type": "scatter"
           }
          ],
          "scatter3d": [
           {
            "line": {
             "colorbar": {
              "outlinewidth": 0,
              "ticks": ""
             }
            },
            "marker": {
             "colorbar": {
              "outlinewidth": 0,
              "ticks": ""
             }
            },
            "type": "scatter3d"
           }
          ],
          "scattercarpet": [
           {
            "marker": {
             "colorbar": {
              "outlinewidth": 0,
              "ticks": ""
             }
            },
            "type": "scattercarpet"
           }
          ],
          "scattergeo": [
           {
            "marker": {
             "colorbar": {
              "outlinewidth": 0,
              "ticks": ""
             }
            },
            "type": "scattergeo"
           }
          ],
          "scattergl": [
           {
            "marker": {
             "colorbar": {
              "outlinewidth": 0,
              "ticks": ""
             }
            },
            "type": "scattergl"
           }
          ],
          "scattermapbox": [
           {
            "marker": {
             "colorbar": {
              "outlinewidth": 0,
              "ticks": ""
             }
            },
            "type": "scattermapbox"
           }
          ],
          "scatterpolar": [
           {
            "marker": {
             "colorbar": {
              "outlinewidth": 0,
              "ticks": ""
             }
            },
            "type": "scatterpolar"
           }
          ],
          "scatterpolargl": [
           {
            "marker": {
             "colorbar": {
              "outlinewidth": 0,
              "ticks": ""
             }
            },
            "type": "scatterpolargl"
           }
          ],
          "scatterternary": [
           {
            "marker": {
             "colorbar": {
              "outlinewidth": 0,
              "ticks": ""
             }
            },
            "type": "scatterternary"
           }
          ],
          "surface": [
           {
            "colorbar": {
             "outlinewidth": 0,
             "ticks": ""
            },
            "colorscale": [
             [
              0,
              "#0d0887"
             ],
             [
              0.1111111111111111,
              "#46039f"
             ],
             [
              0.2222222222222222,
              "#7201a8"
             ],
             [
              0.3333333333333333,
              "#9c179e"
             ],
             [
              0.4444444444444444,
              "#bd3786"
             ],
             [
              0.5555555555555556,
              "#d8576b"
             ],
             [
              0.6666666666666666,
              "#ed7953"
             ],
             [
              0.7777777777777778,
              "#fb9f3a"
             ],
             [
              0.8888888888888888,
              "#fdca26"
             ],
             [
              1,
              "#f0f921"
             ]
            ],
            "type": "surface"
           }
          ],
          "table": [
           {
            "cells": {
             "fill": {
              "color": "#EBF0F8"
             },
             "line": {
              "color": "white"
             }
            },
            "header": {
             "fill": {
              "color": "#C8D4E3"
             },
             "line": {
              "color": "white"
             }
            },
            "type": "table"
           }
          ]
         },
         "layout": {
          "annotationdefaults": {
           "arrowcolor": "#2a3f5f",
           "arrowhead": 0,
           "arrowwidth": 1
          },
          "autotypenumbers": "strict",
          "coloraxis": {
           "colorbar": {
            "outlinewidth": 0,
            "ticks": ""
           }
          },
          "colorscale": {
           "diverging": [
            [
             0,
             "#8e0152"
            ],
            [
             0.1,
             "#c51b7d"
            ],
            [
             0.2,
             "#de77ae"
            ],
            [
             0.3,
             "#f1b6da"
            ],
            [
             0.4,
             "#fde0ef"
            ],
            [
             0.5,
             "#f7f7f7"
            ],
            [
             0.6,
             "#e6f5d0"
            ],
            [
             0.7,
             "#b8e186"
            ],
            [
             0.8,
             "#7fbc41"
            ],
            [
             0.9,
             "#4d9221"
            ],
            [
             1,
             "#276419"
            ]
           ],
           "sequential": [
            [
             0,
             "#0d0887"
            ],
            [
             0.1111111111111111,
             "#46039f"
            ],
            [
             0.2222222222222222,
             "#7201a8"
            ],
            [
             0.3333333333333333,
             "#9c179e"
            ],
            [
             0.4444444444444444,
             "#bd3786"
            ],
            [
             0.5555555555555556,
             "#d8576b"
            ],
            [
             0.6666666666666666,
             "#ed7953"
            ],
            [
             0.7777777777777778,
             "#fb9f3a"
            ],
            [
             0.8888888888888888,
             "#fdca26"
            ],
            [
             1,
             "#f0f921"
            ]
           ],
           "sequentialminus": [
            [
             0,
             "#0d0887"
            ],
            [
             0.1111111111111111,
             "#46039f"
            ],
            [
             0.2222222222222222,
             "#7201a8"
            ],
            [
             0.3333333333333333,
             "#9c179e"
            ],
            [
             0.4444444444444444,
             "#bd3786"
            ],
            [
             0.5555555555555556,
             "#d8576b"
            ],
            [
             0.6666666666666666,
             "#ed7953"
            ],
            [
             0.7777777777777778,
             "#fb9f3a"
            ],
            [
             0.8888888888888888,
             "#fdca26"
            ],
            [
             1,
             "#f0f921"
            ]
           ]
          },
          "colorway": [
           "#636efa",
           "#EF553B",
           "#00cc96",
           "#ab63fa",
           "#FFA15A",
           "#19d3f3",
           "#FF6692",
           "#B6E880",
           "#FF97FF",
           "#FECB52"
          ],
          "font": {
           "color": "#2a3f5f"
          },
          "geo": {
           "bgcolor": "white",
           "lakecolor": "white",
           "landcolor": "#E5ECF6",
           "showlakes": true,
           "showland": true,
           "subunitcolor": "white"
          },
          "hoverlabel": {
           "align": "left"
          },
          "hovermode": "closest",
          "mapbox": {
           "style": "light"
          },
          "paper_bgcolor": "white",
          "plot_bgcolor": "#E5ECF6",
          "polar": {
           "angularaxis": {
            "gridcolor": "white",
            "linecolor": "white",
            "ticks": ""
           },
           "bgcolor": "#E5ECF6",
           "radialaxis": {
            "gridcolor": "white",
            "linecolor": "white",
            "ticks": ""
           }
          },
          "scene": {
           "xaxis": {
            "backgroundcolor": "#E5ECF6",
            "gridcolor": "white",
            "gridwidth": 2,
            "linecolor": "white",
            "showbackground": true,
            "ticks": "",
            "zerolinecolor": "white"
           },
           "yaxis": {
            "backgroundcolor": "#E5ECF6",
            "gridcolor": "white",
            "gridwidth": 2,
            "linecolor": "white",
            "showbackground": true,
            "ticks": "",
            "zerolinecolor": "white"
           },
           "zaxis": {
            "backgroundcolor": "#E5ECF6",
            "gridcolor": "white",
            "gridwidth": 2,
            "linecolor": "white",
            "showbackground": true,
            "ticks": "",
            "zerolinecolor": "white"
           }
          },
          "shapedefaults": {
           "line": {
            "color": "#2a3f5f"
           }
          },
          "ternary": {
           "aaxis": {
            "gridcolor": "white",
            "linecolor": "white",
            "ticks": ""
           },
           "baxis": {
            "gridcolor": "white",
            "linecolor": "white",
            "ticks": ""
           },
           "bgcolor": "#E5ECF6",
           "caxis": {
            "gridcolor": "white",
            "linecolor": "white",
            "ticks": ""
           }
          },
          "title": {
           "x": 0.05
          },
          "xaxis": {
           "automargin": true,
           "gridcolor": "white",
           "linecolor": "white",
           "ticks": "",
           "title": {
            "standoff": 15
           },
           "zerolinecolor": "white",
           "zerolinewidth": 2
          },
          "yaxis": {
           "automargin": true,
           "gridcolor": "white",
           "linecolor": "white",
           "ticks": "",
           "title": {
            "standoff": 15
           },
           "zerolinecolor": "white",
           "zerolinewidth": 2
          }
         }
        },
        "title": {
         "text": "CO2 emissions (metric tons per capita) and GDP per cap. Year 1967"
        },
        "xaxis": {
         "anchor": "y",
         "domain": [
          0,
          1
         ],
         "title": {
          "text": "CO2 emissions (metric tons per capita)"
         }
        },
        "yaxis": {
         "anchor": "x",
         "domain": [
          0,
          1
         ],
         "title": {
          "text": "gdpPercap"
         }
        }
       }
      },
      "text/html": [
       "<div>                            <div id=\"140378de-bd29-4437-9560-26cdfdb579bf\" class=\"plotly-graph-div\" style=\"height:525px; width:100%;\"></div>            <script type=\"text/javascript\">                require([\"plotly\"], function(Plotly) {                    window.PLOTLYENV=window.PLOTLYENV || {};                                    if (document.getElementById(\"140378de-bd29-4437-9560-26cdfdb579bf\")) {                    Plotly.newPlot(                        \"140378de-bd29-4437-9560-26cdfdb579bf\",                        [{\"customdata\": [[\"Afghanistan\"], [\"Bahrain\"], [\"Cambodia\"], [\"China\"], [\"India\"], [\"Indonesia\"], [\"Iraq\"], [\"Israel\"], [\"Japan\"], [\"Jordan\"], [\"Lebanon\"], [\"Mongolia\"], [\"Myanmar\"], [\"Nepal\"], [\"Oman\"], [\"Pakistan\"], [\"Philippines\"], [\"Saudi Arabia\"], [\"Singapore\"], [\"Sri Lanka\"], [\"Thailand\"], [\"Vietnam\"]], \"hovertemplate\": \"continent=Asia<br>CO2 emissions (metric tons per capita)=%{x}<br>gdpPercap=%{y}<br>pop=%{marker.size}<br>Country Name=%{customdata[0]}<extra></extra>\", \"legendgroup\": \"Asia\", \"marker\": {\"color\": \"#636efa\", \"size\": [11537966.0, 202182.0, 6960067.0, 754550000.0, 506000000.0, 109343000.0, 8519282.0, 2693585.0, 100825279.0, 1255058.0, 2186894.0, 1149500.0, 25870271.0, 11261690.0, 714775.0, 60641899.0, 35356600.0, 5618198.0, 1977600.0, 11737396.0, 34024249.0, 39463910.0], \"sizemode\": \"area\", \"sizeref\": 1886375.0, \"symbol\": \"circle\"}, \"mode\": \"markers\", \"name\": \"Asia\", \"orientation\": \"v\", \"showlegend\": true, \"type\": \"scatter\", \"x\": [0.123782381421, 5.12101242081, 0.0624360387486, 0.574162146975, 0.331763432432, 0.23191547809, 2.05575631533, 4.93341748634, 4.86355784562, 1.0719834839700002, 1.64225486815, 1.83477215037, 0.143519517019, 0.0188098863912, 0.205537806177, 0.402522332305, 0.555413076261, 4.90876421118, 1.54645934466, 0.25192412202, 0.360202673298, 0.574906353177], \"xaxis\": \"x\", \"y\": [836.1971382, 14804.6727, 523.4323142, 612.7056934, 700.7706107000001, 762.4317721, 8931.459811, 8393.741404, 9847.788607, 2741.796252, 6006.983042, 1226.04113, 349.0, 676.4422254, 4720.942687, 942.4082588, 1814.12743, 16903.04886, 4977.41854, 1135.514326, 1295.46066, 637.1232887], \"yaxis\": \"y\"}, {\"customdata\": [[\"Albania\"], [\"Austria\"], [\"Belgium\"], [\"Bulgaria\"], [\"Denmark\"], [\"Finland\"], [\"France\"], [\"Greece\"], [\"Hungary\"], [\"Iceland\"], [\"Ireland\"], [\"Italy\"], [\"Netherlands\"], [\"Norway\"], [\"Poland\"], [\"Portugal\"], [\"Romania\"], [\"Spain\"], [\"Sweden\"], [\"Switzerland\"], [\"Turkey\"], [\"United Kingdom\"]], \"hovertemplate\": \"continent=Europe<br>CO2 emissions (metric tons per capita)=%{x}<br>gdpPercap=%{y}<br>pop=%{marker.size}<br>Country Name=%{customdata[0]}<extra></extra>\", \"legendgroup\": \"Europe\", \"marker\": {\"color\": \"#EF553B\", \"size\": [1984060.0, 7376998.0, 9556500.0, 8310226.0, 4838800.0, 4605744.0, 49569000.0, 8716441.0, 10223422.0, 198676.0, 2900100.0, 52667100.0, 12596822.0, 3786019.0, 31785378.0, 9103000.0, 19284814.0, 32850275.0, 7867931.0, 6063000.0, 33411317.0, 54959000.0], \"sizemode\": \"area\", \"sizeref\": 1886375.0, \"symbol\": \"circle\"}, \"mode\": \"markers\", \"name\": \"Europe\", \"orientation\": \"v\", \"showlegend\": true, \"type\": \"scatter\", \"x\": [1.36374630011, 5.41773672705, 11.2172567535, 6.63836916108, 10.1493005476, 6.21338658857, 7.3064221599, 2.24941398567, 5.758242269149999, 7.269387323839999, 5.65504728764, 4.43148255688, 8.47605463669, 5.1072949704, 8.105834013680001, 1.39828723131, 4.71631855487, 2.64722755876, 8.770023402589999, 5.43460087436, 1.03313907211, 10.7841045545], \"xaxis\": \"x\", \"y\": [2760.196931, 12834.6024, 13149.04119, 5577.0028, 15937.21123, 10921.63626, 12999.91766, 8513.097016, 9326.64467, 13319.89568, 7655.568963, 10022.40131, 15363.25136, 16361.87647, 6557.152776, 6361.517993, 6470.866545, 7993.512294, 15258.29697, 22966.14432, 2826.3563870000003, 14142.85089], \"yaxis\": \"y\"}, {\"customdata\": [[\"Algeria\"], [\"Angola\"], [\"Benin\"], [\"Burkina Faso\"], [\"Burundi\"], [\"Cameroon\"], [\"Central African Republic\"], [\"Chad\"], [\"Comoros\"], [\"Cote d'Ivoire\"], [\"Djibouti\"], [\"Equatorial Guinea\"], [\"Ethiopia\"], [\"Gabon\"], [\"Ghana\"], [\"Guinea\"], [\"Guinea-Bissau\"], [\"Kenya\"], [\"Liberia\"], [\"Libya\"], [\"Madagascar\"], [\"Malawi\"], [\"Mali\"], [\"Mauritania\"], [\"Mauritius\"], [\"Morocco\"], [\"Mozambique\"], [\"Niger\"], [\"Nigeria\"], [\"Rwanda\"], [\"Sao Tome and Principe\"], [\"Senegal\"], [\"Sierra Leone\"], [\"Somalia\"], [\"South Africa\"], [\"Sudan\"], [\"Swaziland\"], [\"Tanzania\"], [\"Togo\"], [\"Tunisia\"], [\"Uganda\"], [\"Zambia\"], [\"Zimbabwe\"]], \"hovertemplate\": \"continent=Africa<br>CO2 emissions (metric tons per capita)=%{x}<br>gdpPercap=%{y}<br>pop=%{marker.size}<br>Country Name=%{customdata[0]}<extra></extra>\", \"legendgroup\": \"Africa\", \"marker\": {\"color\": \"#00cc96\", \"size\": [12760499.0, 5247469.0, 2427334.0, 5127935.0, 3330989.0, 6335506.0, 1733638.0, 3495967.0, 217378.0, 4744870.0, 127617.0, 259864.0, 27860297.0, 489004.0, 8490213.0, 3451418.0, 601287.0, 10191512.0, 1279406.0, 1759224.0, 6334556.0, 4147252.0, 5212416.0, 1230542.0, 789309.0, 14770296.0, 8680909.0, 4534062.0, 47287752.0, 3451079.0, 70787.0, 3965841.0, 2662190.0, 3428839.0, 20997321.0, 12716129.0, 420690.0, 12607312.0, 1735550.0, 4786986.0, 8900294.0, 3900000.0, 4995432.0], \"sizemode\": \"area\", \"sizeref\": 1886375.0, \"symbol\": \"circle\"}, \"mode\": \"markers\", \"name\": \"Africa\", \"orientation\": \"v\", \"showlegend\": true, \"type\": \"scatter\", \"x\": [0.632118426889, 0.166658588848, 0.0523195961148, 0.0192168474009, 0.0147354429891, 0.0729810151442, 0.0533441408437, 0.0341490827003, 0.0856623590204, 0.324270273072, 0.669756398256, 0.0908814105401, 0.0408827807982, 1.82744493336, 0.185683744295, 0.180529006335, 0.0707397168393, 0.266146233454, 0.465652918101, 9.94130993774, 0.138895338975, 0.086039155676, 0.0392007077217, 0.188179057955, 0.6361795955439999, 0.3615857767970001, 0.216165510896, 0.0318543481335, 0.244682890582, 0.0118002652184999, 0.1620797359809999, 0.181319271624, 0.105440879922, 0.0704483235701, 6.46564779364, 0.250771072594, 0.55253014742, 0.141879278158, 0.10672264605, 0.638870927594, 0.0944460734361, 1.2636279603, 1.12296052314], \"xaxis\": \"x\", \"y\": [3246.991771, 5522.776375, 1035.831411, 794.8265597, 412.97751360000007, 1508.453148, 1136.056615, 1196.810565, 1876.029643, 2052.050473, 3020.050513, 915.5960025, 516.1186438, 8358.761987, 1125.69716, 708.7595409, 715.5806402000001, 1056.736457, 713.6036482999999, 18772.75169, 1634.047282, 495.5147806, 545.0098873, 1421.145193, 2475.387562, 1711.04477, 566.6691539, 1054.384891, 1014.514104, 510.9637142, 1384.840593, 1612.404632, 1206.043465, 1284.7331800000002, 7114.477970999999, 1687.997641, 2613.101665, 848.2186575, 1477.59676, 1932.3601670000005, 908.9185217, 1777.077318, 569.7950712], \"yaxis\": \"y\"}, {\"customdata\": [[\"Argentina\"], [\"Bolivia\"], [\"Brazil\"], [\"Canada\"], [\"Chile\"], [\"Colombia\"], [\"Costa Rica\"], [\"Cuba\"], [\"Dominican Republic\"], [\"Ecuador\"], [\"El Salvador\"], [\"Guatemala\"], [\"Haiti\"], [\"Honduras\"], [\"Jamaica\"], [\"Mexico\"], [\"Nicaragua\"], [\"Panama\"], [\"Paraguay\"], [\"Peru\"], [\"Trinidad and Tobago\"], [\"United States\"], [\"Uruguay\"]], \"hovertemplate\": \"continent=Americas<br>CO2 emissions (metric tons per capita)=%{x}<br>gdpPercap=%{y}<br>pop=%{marker.size}<br>Country Name=%{customdata[0]}<extra></extra>\", \"legendgroup\": \"Americas\", \"marker\": {\"color\": \"#ab63fa\", \"size\": [22934225.0, 4040665.0, 88049823.0, 20819767.0, 8858908.0, 19764027.0, 1588717.0, 8139332.0, 4049146.0, 5432424.0, 3232927.0, 4690773.0, 4318137.0, 2500689.0, 1861096.0, 47995559.0, 1865490.0, 1405486.0, 2287985.0, 12132200.0, 960155.0, 198712000.0, 2748579.0], \"sizemode\": \"area\", \"sizeref\": 1886375.0, \"symbol\": \"circle\"}, \"mode\": \"markers\", \"name\": \"Americas\", \"orientation\": \"v\", \"showlegend\": true, \"type\": \"scatter\", \"x\": [2.85816254619, 0.446569679542, 0.744966530874, 13.8103545953, 2.1409901271900003, 1.21683476874, 0.517145991263, 1.90593276713, 0.380469161164, 0.465781970972, 0.342459705043, 0.397317380131, 0.0585660070754, 0.352498584235, 2.14463346178, 1.8996986330400003, 0.493983688604, 1.21812383412, 0.213013396786, 1.1118562074299998, 5.00989828473, 18.5983178822, 1.77610139003], \"xaxis\": \"x\", \"y\": [8052.953020999999, 2586.886053, 3429.864357, 16076.58803, 5106.654313, 2678.729839, 4161.727834, 5690.268015, 1653.7230029999998, 4579.074215, 4358.595393, 3242.531147, 1452.057666, 2538.269358, 6124.703450999999, 5754.733883, 4643.393534000001, 4421.009084, 2299.376311, 5788.09333, 5621.368472, 19530.36557, 5444.61962], \"yaxis\": \"y\"}, {\"customdata\": [[\"Australia\"], [\"New Zealand\"]], \"hovertemplate\": \"continent=Oceania<br>CO2 emissions (metric tons per capita)=%{x}<br>gdpPercap=%{y}<br>pop=%{marker.size}<br>Country Name=%{customdata[0]}<extra></extra>\", \"legendgroup\": \"Oceania\", \"marker\": {\"color\": \"#FFA15A\", \"size\": [11872264.0, 2728150.0], \"sizemode\": \"area\", \"sizeref\": 1886375.0, \"symbol\": \"circle\"}, \"mode\": \"markers\", \"name\": \"Oceania\", \"orientation\": \"v\", \"showlegend\": true, \"type\": \"scatter\", \"x\": [10.9556247987, 5.00761352373], \"xaxis\": \"x\", \"y\": [14526.12465, 14463.918930000002], \"yaxis\": \"y\"}],                        {\"legend\": {\"itemsizing\": \"constant\", \"title\": {\"text\": \"continent\"}, \"tracegroupgap\": 0}, \"template\": {\"data\": {\"bar\": [{\"error_x\": {\"color\": \"#2a3f5f\"}, \"error_y\": {\"color\": \"#2a3f5f\"}, \"marker\": {\"line\": {\"color\": \"#E5ECF6\", \"width\": 0.5}}, \"type\": \"bar\"}], \"barpolar\": [{\"marker\": {\"line\": {\"color\": \"#E5ECF6\", \"width\": 0.5}}, \"type\": \"barpolar\"}], \"carpet\": [{\"aaxis\": {\"endlinecolor\": \"#2a3f5f\", \"gridcolor\": \"white\", \"linecolor\": \"white\", \"minorgridcolor\": \"white\", \"startlinecolor\": \"#2a3f5f\"}, \"baxis\": {\"endlinecolor\": \"#2a3f5f\", \"gridcolor\": \"white\", \"linecolor\": \"white\", \"minorgridcolor\": \"white\", \"startlinecolor\": \"#2a3f5f\"}, \"type\": \"carpet\"}], \"choropleth\": [{\"colorbar\": {\"outlinewidth\": 0, \"ticks\": \"\"}, \"type\": \"choropleth\"}], \"contour\": [{\"colorbar\": {\"outlinewidth\": 0, \"ticks\": \"\"}, \"colorscale\": [[0.0, \"#0d0887\"], [0.1111111111111111, \"#46039f\"], [0.2222222222222222, \"#7201a8\"], [0.3333333333333333, \"#9c179e\"], [0.4444444444444444, \"#bd3786\"], [0.5555555555555556, \"#d8576b\"], [0.6666666666666666, \"#ed7953\"], [0.7777777777777778, \"#fb9f3a\"], [0.8888888888888888, \"#fdca26\"], [1.0, \"#f0f921\"]], \"type\": \"contour\"}], \"contourcarpet\": [{\"colorbar\": {\"outlinewidth\": 0, \"ticks\": \"\"}, \"type\": \"contourcarpet\"}], \"heatmap\": [{\"colorbar\": {\"outlinewidth\": 0, \"ticks\": \"\"}, \"colorscale\": [[0.0, \"#0d0887\"], [0.1111111111111111, \"#46039f\"], [0.2222222222222222, \"#7201a8\"], [0.3333333333333333, \"#9c179e\"], [0.4444444444444444, \"#bd3786\"], [0.5555555555555556, \"#d8576b\"], [0.6666666666666666, \"#ed7953\"], [0.7777777777777778, \"#fb9f3a\"], [0.8888888888888888, \"#fdca26\"], [1.0, \"#f0f921\"]], \"type\": \"heatmap\"}], \"heatmapgl\": [{\"colorbar\": {\"outlinewidth\": 0, \"ticks\": \"\"}, \"colorscale\": [[0.0, \"#0d0887\"], [0.1111111111111111, \"#46039f\"], [0.2222222222222222, \"#7201a8\"], [0.3333333333333333, \"#9c179e\"], [0.4444444444444444, \"#bd3786\"], [0.5555555555555556, \"#d8576b\"], [0.6666666666666666, \"#ed7953\"], [0.7777777777777778, \"#fb9f3a\"], [0.8888888888888888, \"#fdca26\"], [1.0, \"#f0f921\"]], \"type\": \"heatmapgl\"}], \"histogram\": [{\"marker\": {\"colorbar\": {\"outlinewidth\": 0, \"ticks\": \"\"}}, \"type\": \"histogram\"}], \"histogram2d\": [{\"colorbar\": {\"outlinewidth\": 0, \"ticks\": \"\"}, \"colorscale\": [[0.0, \"#0d0887\"], [0.1111111111111111, \"#46039f\"], [0.2222222222222222, \"#7201a8\"], [0.3333333333333333, \"#9c179e\"], [0.4444444444444444, \"#bd3786\"], [0.5555555555555556, \"#d8576b\"], [0.6666666666666666, \"#ed7953\"], [0.7777777777777778, \"#fb9f3a\"], [0.8888888888888888, \"#fdca26\"], [1.0, \"#f0f921\"]], \"type\": \"histogram2d\"}], \"histogram2dcontour\": [{\"colorbar\": {\"outlinewidth\": 0, \"ticks\": \"\"}, \"colorscale\": [[0.0, \"#0d0887\"], [0.1111111111111111, \"#46039f\"], [0.2222222222222222, \"#7201a8\"], [0.3333333333333333, \"#9c179e\"], [0.4444444444444444, \"#bd3786\"], [0.5555555555555556, \"#d8576b\"], [0.6666666666666666, \"#ed7953\"], [0.7777777777777778, \"#fb9f3a\"], [0.8888888888888888, \"#fdca26\"], [1.0, \"#f0f921\"]], \"type\": \"histogram2dcontour\"}], \"mesh3d\": [{\"colorbar\": {\"outlinewidth\": 0, \"ticks\": \"\"}, \"type\": \"mesh3d\"}], \"parcoords\": [{\"line\": {\"colorbar\": {\"outlinewidth\": 0, \"ticks\": \"\"}}, \"type\": \"parcoords\"}], \"pie\": [{\"automargin\": true, \"type\": \"pie\"}], \"scatter\": [{\"marker\": {\"colorbar\": {\"outlinewidth\": 0, \"ticks\": \"\"}}, \"type\": \"scatter\"}], \"scatter3d\": [{\"line\": {\"colorbar\": {\"outlinewidth\": 0, \"ticks\": \"\"}}, \"marker\": {\"colorbar\": {\"outlinewidth\": 0, \"ticks\": \"\"}}, \"type\": \"scatter3d\"}], \"scattercarpet\": [{\"marker\": {\"colorbar\": {\"outlinewidth\": 0, \"ticks\": \"\"}}, \"type\": \"scattercarpet\"}], \"scattergeo\": [{\"marker\": {\"colorbar\": {\"outlinewidth\": 0, \"ticks\": \"\"}}, \"type\": \"scattergeo\"}], \"scattergl\": [{\"marker\": {\"colorbar\": {\"outlinewidth\": 0, \"ticks\": \"\"}}, \"type\": \"scattergl\"}], \"scattermapbox\": [{\"marker\": {\"colorbar\": {\"outlinewidth\": 0, \"ticks\": \"\"}}, \"type\": \"scattermapbox\"}], \"scatterpolar\": [{\"marker\": {\"colorbar\": {\"outlinewidth\": 0, \"ticks\": \"\"}}, \"type\": \"scatterpolar\"}], \"scatterpolargl\": [{\"marker\": {\"colorbar\": {\"outlinewidth\": 0, \"ticks\": \"\"}}, \"type\": \"scatterpolargl\"}], \"scatterternary\": [{\"marker\": {\"colorbar\": {\"outlinewidth\": 0, \"ticks\": \"\"}}, \"type\": \"scatterternary\"}], \"surface\": [{\"colorbar\": {\"outlinewidth\": 0, \"ticks\": \"\"}, \"colorscale\": [[0.0, \"#0d0887\"], [0.1111111111111111, \"#46039f\"], [0.2222222222222222, \"#7201a8\"], [0.3333333333333333, \"#9c179e\"], [0.4444444444444444, \"#bd3786\"], [0.5555555555555556, \"#d8576b\"], [0.6666666666666666, \"#ed7953\"], [0.7777777777777778, \"#fb9f3a\"], [0.8888888888888888, \"#fdca26\"], [1.0, \"#f0f921\"]], \"type\": \"surface\"}], \"table\": [{\"cells\": {\"fill\": {\"color\": \"#EBF0F8\"}, \"line\": {\"color\": \"white\"}}, \"header\": {\"fill\": {\"color\": \"#C8D4E3\"}, \"line\": {\"color\": \"white\"}}, \"type\": \"table\"}]}, \"layout\": {\"annotationdefaults\": {\"arrowcolor\": \"#2a3f5f\", \"arrowhead\": 0, \"arrowwidth\": 1}, \"autotypenumbers\": \"strict\", \"coloraxis\": {\"colorbar\": {\"outlinewidth\": 0, \"ticks\": \"\"}}, \"colorscale\": {\"diverging\": [[0, \"#8e0152\"], [0.1, \"#c51b7d\"], [0.2, \"#de77ae\"], [0.3, \"#f1b6da\"], [0.4, \"#fde0ef\"], [0.5, \"#f7f7f7\"], [0.6, \"#e6f5d0\"], [0.7, \"#b8e186\"], [0.8, \"#7fbc41\"], [0.9, \"#4d9221\"], [1, \"#276419\"]], \"sequential\": [[0.0, \"#0d0887\"], [0.1111111111111111, \"#46039f\"], [0.2222222222222222, \"#7201a8\"], [0.3333333333333333, \"#9c179e\"], [0.4444444444444444, \"#bd3786\"], [0.5555555555555556, \"#d8576b\"], [0.6666666666666666, \"#ed7953\"], [0.7777777777777778, \"#fb9f3a\"], [0.8888888888888888, \"#fdca26\"], [1.0, \"#f0f921\"]], \"sequentialminus\": [[0.0, \"#0d0887\"], [0.1111111111111111, \"#46039f\"], [0.2222222222222222, \"#7201a8\"], [0.3333333333333333, \"#9c179e\"], [0.4444444444444444, \"#bd3786\"], [0.5555555555555556, \"#d8576b\"], [0.6666666666666666, \"#ed7953\"], [0.7777777777777778, \"#fb9f3a\"], [0.8888888888888888, \"#fdca26\"], [1.0, \"#f0f921\"]]}, \"colorway\": [\"#636efa\", \"#EF553B\", \"#00cc96\", \"#ab63fa\", \"#FFA15A\", \"#19d3f3\", \"#FF6692\", \"#B6E880\", \"#FF97FF\", \"#FECB52\"], \"font\": {\"color\": \"#2a3f5f\"}, \"geo\": {\"bgcolor\": \"white\", \"lakecolor\": \"white\", \"landcolor\": \"#E5ECF6\", \"showlakes\": true, \"showland\": true, \"subunitcolor\": \"white\"}, \"hoverlabel\": {\"align\": \"left\"}, \"hovermode\": \"closest\", \"mapbox\": {\"style\": \"light\"}, \"paper_bgcolor\": \"white\", \"plot_bgcolor\": \"#E5ECF6\", \"polar\": {\"angularaxis\": {\"gridcolor\": \"white\", \"linecolor\": \"white\", \"ticks\": \"\"}, \"bgcolor\": \"#E5ECF6\", \"radialaxis\": {\"gridcolor\": \"white\", \"linecolor\": \"white\", \"ticks\": \"\"}}, \"scene\": {\"xaxis\": {\"backgroundcolor\": \"#E5ECF6\", \"gridcolor\": \"white\", \"gridwidth\": 2, \"linecolor\": \"white\", \"showbackground\": true, \"ticks\": \"\", \"zerolinecolor\": \"white\"}, \"yaxis\": {\"backgroundcolor\": \"#E5ECF6\", \"gridcolor\": \"white\", \"gridwidth\": 2, \"linecolor\": \"white\", \"showbackground\": true, \"ticks\": \"\", \"zerolinecolor\": \"white\"}, \"zaxis\": {\"backgroundcolor\": \"#E5ECF6\", \"gridcolor\": \"white\", \"gridwidth\": 2, \"linecolor\": \"white\", \"showbackground\": true, \"ticks\": \"\", \"zerolinecolor\": \"white\"}}, \"shapedefaults\": {\"line\": {\"color\": \"#2a3f5f\"}}, \"ternary\": {\"aaxis\": {\"gridcolor\": \"white\", \"linecolor\": \"white\", \"ticks\": \"\"}, \"baxis\": {\"gridcolor\": \"white\", \"linecolor\": \"white\", \"ticks\": \"\"}, \"bgcolor\": \"#E5ECF6\", \"caxis\": {\"gridcolor\": \"white\", \"linecolor\": \"white\", \"ticks\": \"\"}}, \"title\": {\"x\": 0.05}, \"xaxis\": {\"automargin\": true, \"gridcolor\": \"white\", \"linecolor\": \"white\", \"ticks\": \"\", \"title\": {\"standoff\": 15}, \"zerolinecolor\": \"white\", \"zerolinewidth\": 2}, \"yaxis\": {\"automargin\": true, \"gridcolor\": \"white\", \"linecolor\": \"white\", \"ticks\": \"\", \"title\": {\"standoff\": 15}, \"zerolinecolor\": \"white\", \"zerolinewidth\": 2}}}, \"title\": {\"text\": \"CO2 emissions (metric tons per capita) and GDP per cap. Year 1967\"}, \"xaxis\": {\"anchor\": \"y\", \"domain\": [0.0, 1.0], \"title\": {\"text\": \"CO2 emissions (metric tons per capita)\"}}, \"yaxis\": {\"anchor\": \"x\", \"domain\": [0.0, 1.0], \"title\": {\"text\": \"gdpPercap\"}}},                        {\"responsive\": true}                    ).then(function(){\n",
       "                            \n",
       "var gd = document.getElementById('140378de-bd29-4437-9560-26cdfdb579bf');\n",
       "var x = new MutationObserver(function (mutations, observer) {{\n",
       "        var display = window.getComputedStyle(gd).display;\n",
       "        if (!display || display === 'none') {{\n",
       "            console.log([gd, 'removed!']);\n",
       "            Plotly.purge(gd);\n",
       "            observer.disconnect();\n",
       "        }}\n",
       "}});\n",
       "\n",
       "// Listen for the removal of the full notebook cells\n",
       "var notebookContainer = gd.closest('#notebook-container');\n",
       "if (notebookContainer) {{\n",
       "    x.observe(notebookContainer, {childList: true});\n",
       "}}\n",
       "\n",
       "// Listen for the clearing of the current output cell\n",
       "var outputEl = gd.closest('.output');\n",
       "if (outputEl) {{\n",
       "    x.observe(outputEl, {childList: true});\n",
       "}}\n",
       "\n",
       "                        })                };                });            </script>        </div>"
      ]
     },
     "metadata": {},
     "output_type": "display_data"
    }
   ],
   "source": [
    "new_filtered_data = df[(df[\"Year\"] == 1967) & (df[\"Country Name\"] != \"Kuwait\")]\n",
    "\n",
    "fig = px.scatter(new_filtered_data, x='CO2 emissions (metric tons per capita)', y=\"gdpPercap\", color=\"continent\",\n",
    "                 size='pop', hover_data=['Country Name'], \n",
    "                 title=\"CO2 emissions (metric tons per capita) and GDP per cap. Year 1967\")\n",
    "fig.show()"
   ]
  },
  {
   "cell_type": "markdown",
   "metadata": {},
   "source": [
    "<a id=\"three\"></a>\n",
    "<h3>What is the relationship between continent and 'Energy use (kg of oil equivalent per capita)'?</h3>\n",
    "<a href=\"#index\">Go to the table of contents</a>"
   ]
  },
  {
   "cell_type": "code",
   "execution_count": 30,
   "metadata": {},
   "outputs": [
    {
     "data": {
      "text/html": [
       "<div>\n",
       "<style scoped>\n",
       "    .dataframe tbody tr th:only-of-type {\n",
       "        vertical-align: middle;\n",
       "    }\n",
       "\n",
       "    .dataframe tbody tr th {\n",
       "        vertical-align: top;\n",
       "    }\n",
       "\n",
       "    .dataframe thead th {\n",
       "        text-align: right;\n",
       "    }\n",
       "</style>\n",
       "<table border=\"1\" class=\"dataframe\">\n",
       "  <thead>\n",
       "    <tr style=\"text-align: right;\">\n",
       "      <th></th>\n",
       "      <th>count</th>\n",
       "      <th>mean</th>\n",
       "      <th>std</th>\n",
       "      <th>min</th>\n",
       "      <th>25%</th>\n",
       "      <th>50%</th>\n",
       "      <th>75%</th>\n",
       "      <th>max</th>\n",
       "    </tr>\n",
       "    <tr>\n",
       "      <th>continent</th>\n",
       "      <th></th>\n",
       "      <th></th>\n",
       "      <th></th>\n",
       "      <th></th>\n",
       "      <th></th>\n",
       "      <th></th>\n",
       "      <th></th>\n",
       "      <th></th>\n",
       "    </tr>\n",
       "  </thead>\n",
       "  <tbody>\n",
       "    <tr>\n",
       "      <th>Africa</th>\n",
       "      <td>198.0</td>\n",
       "      <td>700.642721</td>\n",
       "      <td>628.227685</td>\n",
       "      <td>9.715410</td>\n",
       "      <td>377.734680</td>\n",
       "      <td>451.382174</td>\n",
       "      <td>746.247275</td>\n",
       "      <td>3071.774832</td>\n",
       "    </tr>\n",
       "    <tr>\n",
       "      <th>Americas</th>\n",
       "      <td>188.0</td>\n",
       "      <td>1703.620453</td>\n",
       "      <td>2377.181918</td>\n",
       "      <td>219.075497</td>\n",
       "      <td>556.033108</td>\n",
       "      <td>749.029108</td>\n",
       "      <td>1384.585146</td>\n",
       "      <td>14608.009868</td>\n",
       "    </tr>\n",
       "    <tr>\n",
       "      <th>Asia</th>\n",
       "      <td>185.0</td>\n",
       "      <td>1867.280336</td>\n",
       "      <td>2590.043514</td>\n",
       "      <td>86.903767</td>\n",
       "      <td>345.370792</td>\n",
       "      <td>760.140852</td>\n",
       "      <td>1987.087308</td>\n",
       "      <td>12122.050603</td>\n",
       "    </tr>\n",
       "    <tr>\n",
       "      <th>Europe</th>\n",
       "      <td>239.0</td>\n",
       "      <td>3110.604287</td>\n",
       "      <td>1768.370162</td>\n",
       "      <td>350.101258</td>\n",
       "      <td>2045.782889</td>\n",
       "      <td>2954.266739</td>\n",
       "      <td>3853.373983</td>\n",
       "      <td>14746.031339</td>\n",
       "    </tr>\n",
       "    <tr>\n",
       "      <th>Oceania</th>\n",
       "      <td>20.0</td>\n",
       "      <td>3980.314420</td>\n",
       "      <td>1123.410756</td>\n",
       "      <td>1791.461322</td>\n",
       "      <td>3143.501420</td>\n",
       "      <td>4044.850674</td>\n",
       "      <td>4783.650230</td>\n",
       "      <td>5868.347097</td>\n",
       "    </tr>\n",
       "  </tbody>\n",
       "</table>\n",
       "</div>"
      ],
      "text/plain": [
       "           count         mean          std          min          25%  \\\n",
       "continent                                                              \n",
       "Africa     198.0   700.642721   628.227685     9.715410   377.734680   \n",
       "Americas   188.0  1703.620453  2377.181918   219.075497   556.033108   \n",
       "Asia       185.0  1867.280336  2590.043514    86.903767   345.370792   \n",
       "Europe     239.0  3110.604287  1768.370162   350.101258  2045.782889   \n",
       "Oceania     20.0  3980.314420  1123.410756  1791.461322  3143.501420   \n",
       "\n",
       "                   50%          75%           max  \n",
       "continent                                          \n",
       "Africa      451.382174   746.247275   3071.774832  \n",
       "Americas    749.029108  1384.585146  14608.009868  \n",
       "Asia        760.140852  1987.087308  12122.050603  \n",
       "Europe     2954.266739  3853.373983  14746.031339  \n",
       "Oceania    4044.850674  4783.650230   5868.347097  "
      ]
     },
     "execution_count": 30,
     "metadata": {},
     "output_type": "execute_result"
    }
   ],
   "source": [
    "df.groupby(\"continent\")[\"Energy use (kg of oil equivalent per capita)\"].describe()"
   ]
  },
  {
   "cell_type": "code",
   "execution_count": 31,
   "metadata": {
    "scrolled": true
   },
   "outputs": [
    {
     "data": {
      "application/vnd.plotly.v1+json": {
       "config": {
        "plotlyServerURL": "https://plot.ly"
       },
       "data": [
        {
         "alignmentgroup": "True",
         "customdata": [
          [
           "Afghanistan"
          ],
          [
           "Afghanistan"
          ],
          [
           "Afghanistan"
          ],
          [
           "Afghanistan"
          ],
          [
           "Afghanistan"
          ],
          [
           "Afghanistan"
          ],
          [
           "Afghanistan"
          ],
          [
           "Afghanistan"
          ],
          [
           "Afghanistan"
          ],
          [
           "Afghanistan"
          ],
          [
           "Albania"
          ],
          [
           "Albania"
          ],
          [
           "Albania"
          ],
          [
           "Albania"
          ],
          [
           "Albania"
          ],
          [
           "Albania"
          ],
          [
           "Albania"
          ],
          [
           "Albania"
          ],
          [
           "Albania"
          ],
          [
           "Albania"
          ],
          [
           "Algeria"
          ],
          [
           "Algeria"
          ],
          [
           "Algeria"
          ],
          [
           "Algeria"
          ],
          [
           "Algeria"
          ],
          [
           "Algeria"
          ],
          [
           "Algeria"
          ],
          [
           "Algeria"
          ],
          [
           "Algeria"
          ],
          [
           "Algeria"
          ],
          [
           "Angola"
          ],
          [
           "Angola"
          ],
          [
           "Angola"
          ],
          [
           "Angola"
          ],
          [
           "Angola"
          ],
          [
           "Angola"
          ],
          [
           "Angola"
          ],
          [
           "Angola"
          ],
          [
           "Angola"
          ],
          [
           "Angola"
          ],
          [
           "Argentina"
          ],
          [
           "Argentina"
          ],
          [
           "Argentina"
          ],
          [
           "Argentina"
          ],
          [
           "Argentina"
          ],
          [
           "Argentina"
          ],
          [
           "Argentina"
          ],
          [
           "Argentina"
          ],
          [
           "Argentina"
          ],
          [
           "Argentina"
          ],
          [
           "Australia"
          ],
          [
           "Australia"
          ],
          [
           "Australia"
          ],
          [
           "Australia"
          ],
          [
           "Australia"
          ],
          [
           "Australia"
          ],
          [
           "Australia"
          ],
          [
           "Australia"
          ],
          [
           "Australia"
          ],
          [
           "Australia"
          ],
          [
           "Austria"
          ],
          [
           "Austria"
          ],
          [
           "Austria"
          ],
          [
           "Austria"
          ],
          [
           "Austria"
          ],
          [
           "Austria"
          ],
          [
           "Austria"
          ],
          [
           "Austria"
          ],
          [
           "Austria"
          ],
          [
           "Austria"
          ],
          [
           "Bahrain"
          ],
          [
           "Bahrain"
          ],
          [
           "Bahrain"
          ],
          [
           "Bahrain"
          ],
          [
           "Bahrain"
          ],
          [
           "Bahrain"
          ],
          [
           "Bahrain"
          ],
          [
           "Bahrain"
          ],
          [
           "Bahrain"
          ],
          [
           "Bahrain"
          ],
          [
           "Bangladesh"
          ],
          [
           "Bangladesh"
          ],
          [
           "Bangladesh"
          ],
          [
           "Bangladesh"
          ],
          [
           "Bangladesh"
          ],
          [
           "Bangladesh"
          ],
          [
           "Bangladesh"
          ],
          [
           "Bangladesh"
          ],
          [
           "Belgium"
          ],
          [
           "Belgium"
          ],
          [
           "Belgium"
          ],
          [
           "Belgium"
          ],
          [
           "Belgium"
          ],
          [
           "Belgium"
          ],
          [
           "Belgium"
          ],
          [
           "Belgium"
          ],
          [
           "Belgium"
          ],
          [
           "Belgium"
          ],
          [
           "Benin"
          ],
          [
           "Benin"
          ],
          [
           "Benin"
          ],
          [
           "Benin"
          ],
          [
           "Benin"
          ],
          [
           "Benin"
          ],
          [
           "Benin"
          ],
          [
           "Benin"
          ],
          [
           "Benin"
          ],
          [
           "Benin"
          ],
          [
           "Bolivia"
          ],
          [
           "Bolivia"
          ],
          [
           "Bolivia"
          ],
          [
           "Bolivia"
          ],
          [
           "Bolivia"
          ],
          [
           "Bolivia"
          ],
          [
           "Bolivia"
          ],
          [
           "Bolivia"
          ],
          [
           "Bolivia"
          ],
          [
           "Bolivia"
          ],
          [
           "Bosnia and Herzegovina"
          ],
          [
           "Bosnia and Herzegovina"
          ],
          [
           "Bosnia and Herzegovina"
          ],
          [
           "Bosnia and Herzegovina"
          ],
          [
           "Botswana"
          ],
          [
           "Botswana"
          ],
          [
           "Botswana"
          ],
          [
           "Botswana"
          ],
          [
           "Botswana"
          ],
          [
           "Botswana"
          ],
          [
           "Botswana"
          ],
          [
           "Botswana"
          ],
          [
           "Brazil"
          ],
          [
           "Brazil"
          ],
          [
           "Brazil"
          ],
          [
           "Brazil"
          ],
          [
           "Brazil"
          ],
          [
           "Brazil"
          ],
          [
           "Brazil"
          ],
          [
           "Brazil"
          ],
          [
           "Brazil"
          ],
          [
           "Brazil"
          ],
          [
           "Bulgaria"
          ],
          [
           "Bulgaria"
          ],
          [
           "Bulgaria"
          ],
          [
           "Bulgaria"
          ],
          [
           "Bulgaria"
          ],
          [
           "Bulgaria"
          ],
          [
           "Bulgaria"
          ],
          [
           "Bulgaria"
          ],
          [
           "Bulgaria"
          ],
          [
           "Bulgaria"
          ],
          [
           "Burkina Faso"
          ],
          [
           "Burkina Faso"
          ],
          [
           "Burkina Faso"
          ],
          [
           "Burkina Faso"
          ],
          [
           "Burkina Faso"
          ],
          [
           "Burkina Faso"
          ],
          [
           "Burkina Faso"
          ],
          [
           "Burkina Faso"
          ],
          [
           "Burkina Faso"
          ],
          [
           "Burkina Faso"
          ],
          [
           "Burundi"
          ],
          [
           "Burundi"
          ],
          [
           "Burundi"
          ],
          [
           "Burundi"
          ],
          [
           "Burundi"
          ],
          [
           "Burundi"
          ],
          [
           "Burundi"
          ],
          [
           "Burundi"
          ],
          [
           "Burundi"
          ],
          [
           "Burundi"
          ],
          [
           "Cambodia"
          ],
          [
           "Cambodia"
          ],
          [
           "Cambodia"
          ],
          [
           "Cambodia"
          ],
          [
           "Cambodia"
          ],
          [
           "Cambodia"
          ],
          [
           "Cambodia"
          ],
          [
           "Cambodia"
          ],
          [
           "Cambodia"
          ],
          [
           "Cambodia"
          ],
          [
           "Cameroon"
          ],
          [
           "Cameroon"
          ],
          [
           "Cameroon"
          ],
          [
           "Cameroon"
          ],
          [
           "Cameroon"
          ],
          [
           "Cameroon"
          ],
          [
           "Cameroon"
          ],
          [
           "Cameroon"
          ],
          [
           "Cameroon"
          ],
          [
           "Cameroon"
          ],
          [
           "Canada"
          ],
          [
           "Canada"
          ],
          [
           "Canada"
          ],
          [
           "Canada"
          ],
          [
           "Canada"
          ],
          [
           "Canada"
          ],
          [
           "Canada"
          ],
          [
           "Canada"
          ],
          [
           "Canada"
          ],
          [
           "Canada"
          ],
          [
           "Central African Republic"
          ],
          [
           "Central African Republic"
          ],
          [
           "Central African Republic"
          ],
          [
           "Central African Republic"
          ],
          [
           "Central African Republic"
          ],
          [
           "Central African Republic"
          ],
          [
           "Central African Republic"
          ],
          [
           "Central African Republic"
          ],
          [
           "Central African Republic"
          ],
          [
           "Central African Republic"
          ],
          [
           "Chad"
          ],
          [
           "Chad"
          ],
          [
           "Chad"
          ],
          [
           "Chad"
          ],
          [
           "Chad"
          ],
          [
           "Chad"
          ],
          [
           "Chad"
          ],
          [
           "Chad"
          ],
          [
           "Chad"
          ],
          [
           "Chad"
          ],
          [
           "Chile"
          ],
          [
           "Chile"
          ],
          [
           "Chile"
          ],
          [
           "Chile"
          ],
          [
           "Chile"
          ],
          [
           "Chile"
          ],
          [
           "Chile"
          ],
          [
           "Chile"
          ],
          [
           "Chile"
          ],
          [
           "Chile"
          ],
          [
           "China"
          ],
          [
           "China"
          ],
          [
           "China"
          ],
          [
           "China"
          ],
          [
           "China"
          ],
          [
           "China"
          ],
          [
           "China"
          ],
          [
           "China"
          ],
          [
           "China"
          ],
          [
           "China"
          ],
          [
           "Colombia"
          ],
          [
           "Colombia"
          ],
          [
           "Colombia"
          ],
          [
           "Colombia"
          ],
          [
           "Colombia"
          ],
          [
           "Colombia"
          ],
          [
           "Colombia"
          ],
          [
           "Colombia"
          ],
          [
           "Colombia"
          ],
          [
           "Colombia"
          ],
          [
           "Comoros"
          ],
          [
           "Comoros"
          ],
          [
           "Comoros"
          ],
          [
           "Comoros"
          ],
          [
           "Comoros"
          ],
          [
           "Comoros"
          ],
          [
           "Comoros"
          ],
          [
           "Comoros"
          ],
          [
           "Comoros"
          ],
          [
           "Comoros"
          ],
          [
           "Costa Rica"
          ],
          [
           "Costa Rica"
          ],
          [
           "Costa Rica"
          ],
          [
           "Costa Rica"
          ],
          [
           "Costa Rica"
          ],
          [
           "Costa Rica"
          ],
          [
           "Costa Rica"
          ],
          [
           "Costa Rica"
          ],
          [
           "Costa Rica"
          ],
          [
           "Costa Rica"
          ],
          [
           "Cote d'Ivoire"
          ],
          [
           "Cote d'Ivoire"
          ],
          [
           "Cote d'Ivoire"
          ],
          [
           "Cote d'Ivoire"
          ],
          [
           "Cote d'Ivoire"
          ],
          [
           "Cote d'Ivoire"
          ],
          [
           "Cote d'Ivoire"
          ],
          [
           "Cote d'Ivoire"
          ],
          [
           "Cote d'Ivoire"
          ],
          [
           "Cote d'Ivoire"
          ],
          [
           "Croatia"
          ],
          [
           "Croatia"
          ],
          [
           "Croatia"
          ],
          [
           "Croatia"
          ],
          [
           "Cuba"
          ],
          [
           "Cuba"
          ],
          [
           "Cuba"
          ],
          [
           "Cuba"
          ],
          [
           "Cuba"
          ],
          [
           "Cuba"
          ],
          [
           "Cuba"
          ],
          [
           "Cuba"
          ],
          [
           "Cuba"
          ],
          [
           "Cuba"
          ],
          [
           "Czech Republic"
          ],
          [
           "Czech Republic"
          ],
          [
           "Czech Republic"
          ],
          [
           "Czech Republic"
          ],
          [
           "Denmark"
          ],
          [
           "Denmark"
          ],
          [
           "Denmark"
          ],
          [
           "Denmark"
          ],
          [
           "Denmark"
          ],
          [
           "Denmark"
          ],
          [
           "Denmark"
          ],
          [
           "Denmark"
          ],
          [
           "Denmark"
          ],
          [
           "Denmark"
          ],
          [
           "Djibouti"
          ],
          [
           "Djibouti"
          ],
          [
           "Djibouti"
          ],
          [
           "Djibouti"
          ],
          [
           "Djibouti"
          ],
          [
           "Djibouti"
          ],
          [
           "Djibouti"
          ],
          [
           "Djibouti"
          ],
          [
           "Djibouti"
          ],
          [
           "Djibouti"
          ],
          [
           "Dominican Republic"
          ],
          [
           "Dominican Republic"
          ],
          [
           "Dominican Republic"
          ],
          [
           "Dominican Republic"
          ],
          [
           "Dominican Republic"
          ],
          [
           "Dominican Republic"
          ],
          [
           "Dominican Republic"
          ],
          [
           "Dominican Republic"
          ],
          [
           "Dominican Republic"
          ],
          [
           "Dominican Republic"
          ],
          [
           "Ecuador"
          ],
          [
           "Ecuador"
          ],
          [
           "Ecuador"
          ],
          [
           "Ecuador"
          ],
          [
           "Ecuador"
          ],
          [
           "Ecuador"
          ],
          [
           "Ecuador"
          ],
          [
           "Ecuador"
          ],
          [
           "Ecuador"
          ],
          [
           "Ecuador"
          ],
          [
           "El Salvador"
          ],
          [
           "El Salvador"
          ],
          [
           "El Salvador"
          ],
          [
           "El Salvador"
          ],
          [
           "El Salvador"
          ],
          [
           "El Salvador"
          ],
          [
           "El Salvador"
          ],
          [
           "El Salvador"
          ],
          [
           "El Salvador"
          ],
          [
           "El Salvador"
          ],
          [
           "Equatorial Guinea"
          ],
          [
           "Equatorial Guinea"
          ],
          [
           "Equatorial Guinea"
          ],
          [
           "Equatorial Guinea"
          ],
          [
           "Equatorial Guinea"
          ],
          [
           "Equatorial Guinea"
          ],
          [
           "Equatorial Guinea"
          ],
          [
           "Equatorial Guinea"
          ],
          [
           "Equatorial Guinea"
          ],
          [
           "Equatorial Guinea"
          ],
          [
           "Eritrea"
          ],
          [
           "Eritrea"
          ],
          [
           "Eritrea"
          ],
          [
           "Ethiopia"
          ],
          [
           "Ethiopia"
          ],
          [
           "Ethiopia"
          ],
          [
           "Ethiopia"
          ],
          [
           "Ethiopia"
          ],
          [
           "Ethiopia"
          ],
          [
           "Ethiopia"
          ],
          [
           "Ethiopia"
          ],
          [
           "Ethiopia"
          ],
          [
           "Ethiopia"
          ],
          [
           "Finland"
          ],
          [
           "Finland"
          ],
          [
           "Finland"
          ],
          [
           "Finland"
          ],
          [
           "Finland"
          ],
          [
           "Finland"
          ],
          [
           "Finland"
          ],
          [
           "Finland"
          ],
          [
           "Finland"
          ],
          [
           "Finland"
          ],
          [
           "France"
          ],
          [
           "France"
          ],
          [
           "France"
          ],
          [
           "France"
          ],
          [
           "France"
          ],
          [
           "France"
          ],
          [
           "France"
          ],
          [
           "France"
          ],
          [
           "France"
          ],
          [
           "France"
          ],
          [
           "Gabon"
          ],
          [
           "Gabon"
          ],
          [
           "Gabon"
          ],
          [
           "Gabon"
          ],
          [
           "Gabon"
          ],
          [
           "Gabon"
          ],
          [
           "Gabon"
          ],
          [
           "Gabon"
          ],
          [
           "Gabon"
          ],
          [
           "Gabon"
          ],
          [
           "Germany"
          ],
          [
           "Germany"
          ],
          [
           "Germany"
          ],
          [
           "Germany"
          ],
          [
           "Ghana"
          ],
          [
           "Ghana"
          ],
          [
           "Ghana"
          ],
          [
           "Ghana"
          ],
          [
           "Ghana"
          ],
          [
           "Ghana"
          ],
          [
           "Ghana"
          ],
          [
           "Ghana"
          ],
          [
           "Ghana"
          ],
          [
           "Ghana"
          ],
          [
           "Greece"
          ],
          [
           "Greece"
          ],
          [
           "Greece"
          ],
          [
           "Greece"
          ],
          [
           "Greece"
          ],
          [
           "Greece"
          ],
          [
           "Greece"
          ],
          [
           "Greece"
          ],
          [
           "Greece"
          ],
          [
           "Greece"
          ],
          [
           "Guatemala"
          ],
          [
           "Guatemala"
          ],
          [
           "Guatemala"
          ],
          [
           "Guatemala"
          ],
          [
           "Guatemala"
          ],
          [
           "Guatemala"
          ],
          [
           "Guatemala"
          ],
          [
           "Guatemala"
          ],
          [
           "Guatemala"
          ],
          [
           "Guatemala"
          ],
          [
           "Guinea"
          ],
          [
           "Guinea"
          ],
          [
           "Guinea"
          ],
          [
           "Guinea"
          ],
          [
           "Guinea"
          ],
          [
           "Guinea"
          ],
          [
           "Guinea"
          ],
          [
           "Guinea"
          ],
          [
           "Guinea"
          ],
          [
           "Guinea"
          ],
          [
           "Guinea-Bissau"
          ],
          [
           "Guinea-Bissau"
          ],
          [
           "Guinea-Bissau"
          ],
          [
           "Guinea-Bissau"
          ],
          [
           "Guinea-Bissau"
          ],
          [
           "Guinea-Bissau"
          ],
          [
           "Guinea-Bissau"
          ],
          [
           "Guinea-Bissau"
          ],
          [
           "Guinea-Bissau"
          ],
          [
           "Guinea-Bissau"
          ],
          [
           "Haiti"
          ],
          [
           "Haiti"
          ],
          [
           "Haiti"
          ],
          [
           "Haiti"
          ],
          [
           "Haiti"
          ],
          [
           "Haiti"
          ],
          [
           "Haiti"
          ],
          [
           "Haiti"
          ],
          [
           "Haiti"
          ],
          [
           "Haiti"
          ],
          [
           "Honduras"
          ],
          [
           "Honduras"
          ],
          [
           "Honduras"
          ],
          [
           "Honduras"
          ],
          [
           "Honduras"
          ],
          [
           "Honduras"
          ],
          [
           "Honduras"
          ],
          [
           "Honduras"
          ],
          [
           "Honduras"
          ],
          [
           "Honduras"
          ],
          [
           "Hungary"
          ],
          [
           "Hungary"
          ],
          [
           "Hungary"
          ],
          [
           "Hungary"
          ],
          [
           "Hungary"
          ],
          [
           "Hungary"
          ],
          [
           "Hungary"
          ],
          [
           "Hungary"
          ],
          [
           "Hungary"
          ],
          [
           "Hungary"
          ],
          [
           "Iceland"
          ],
          [
           "Iceland"
          ],
          [
           "Iceland"
          ],
          [
           "Iceland"
          ],
          [
           "Iceland"
          ],
          [
           "Iceland"
          ],
          [
           "Iceland"
          ],
          [
           "Iceland"
          ],
          [
           "Iceland"
          ],
          [
           "Iceland"
          ],
          [
           "India"
          ],
          [
           "India"
          ],
          [
           "India"
          ],
          [
           "India"
          ],
          [
           "India"
          ],
          [
           "India"
          ],
          [
           "India"
          ],
          [
           "India"
          ],
          [
           "India"
          ],
          [
           "India"
          ],
          [
           "Indonesia"
          ],
          [
           "Indonesia"
          ],
          [
           "Indonesia"
          ],
          [
           "Indonesia"
          ],
          [
           "Indonesia"
          ],
          [
           "Indonesia"
          ],
          [
           "Indonesia"
          ],
          [
           "Indonesia"
          ],
          [
           "Indonesia"
          ],
          [
           "Indonesia"
          ],
          [
           "Iraq"
          ],
          [
           "Iraq"
          ],
          [
           "Iraq"
          ],
          [
           "Iraq"
          ],
          [
           "Iraq"
          ],
          [
           "Iraq"
          ],
          [
           "Iraq"
          ],
          [
           "Iraq"
          ],
          [
           "Iraq"
          ],
          [
           "Iraq"
          ],
          [
           "Ireland"
          ],
          [
           "Ireland"
          ],
          [
           "Ireland"
          ],
          [
           "Ireland"
          ],
          [
           "Ireland"
          ],
          [
           "Ireland"
          ],
          [
           "Ireland"
          ],
          [
           "Ireland"
          ],
          [
           "Ireland"
          ],
          [
           "Ireland"
          ],
          [
           "Israel"
          ],
          [
           "Israel"
          ],
          [
           "Israel"
          ],
          [
           "Israel"
          ],
          [
           "Israel"
          ],
          [
           "Israel"
          ],
          [
           "Israel"
          ],
          [
           "Israel"
          ],
          [
           "Israel"
          ],
          [
           "Israel"
          ],
          [
           "Italy"
          ],
          [
           "Italy"
          ],
          [
           "Italy"
          ],
          [
           "Italy"
          ],
          [
           "Italy"
          ],
          [
           "Italy"
          ],
          [
           "Italy"
          ],
          [
           "Italy"
          ],
          [
           "Italy"
          ],
          [
           "Italy"
          ],
          [
           "Jamaica"
          ],
          [
           "Jamaica"
          ],
          [
           "Jamaica"
          ],
          [
           "Jamaica"
          ],
          [
           "Jamaica"
          ],
          [
           "Jamaica"
          ],
          [
           "Jamaica"
          ],
          [
           "Jamaica"
          ],
          [
           "Jamaica"
          ],
          [
           "Jamaica"
          ],
          [
           "Japan"
          ],
          [
           "Japan"
          ],
          [
           "Japan"
          ],
          [
           "Japan"
          ],
          [
           "Japan"
          ],
          [
           "Japan"
          ],
          [
           "Japan"
          ],
          [
           "Japan"
          ],
          [
           "Japan"
          ],
          [
           "Japan"
          ],
          [
           "Jordan"
          ],
          [
           "Jordan"
          ],
          [
           "Jordan"
          ],
          [
           "Jordan"
          ],
          [
           "Jordan"
          ],
          [
           "Jordan"
          ],
          [
           "Jordan"
          ],
          [
           "Jordan"
          ],
          [
           "Jordan"
          ],
          [
           "Jordan"
          ],
          [
           "Kenya"
          ],
          [
           "Kenya"
          ],
          [
           "Kenya"
          ],
          [
           "Kenya"
          ],
          [
           "Kenya"
          ],
          [
           "Kenya"
          ],
          [
           "Kenya"
          ],
          [
           "Kenya"
          ],
          [
           "Kenya"
          ],
          [
           "Kenya"
          ],
          [
           "Kuwait"
          ],
          [
           "Kuwait"
          ],
          [
           "Kuwait"
          ],
          [
           "Kuwait"
          ],
          [
           "Kuwait"
          ],
          [
           "Kuwait"
          ],
          [
           "Kuwait"
          ],
          [
           "Kuwait"
          ],
          [
           "Kuwait"
          ],
          [
           "Lebanon"
          ],
          [
           "Lebanon"
          ],
          [
           "Lebanon"
          ],
          [
           "Lebanon"
          ],
          [
           "Lebanon"
          ],
          [
           "Lebanon"
          ],
          [
           "Lebanon"
          ],
          [
           "Lebanon"
          ],
          [
           "Lebanon"
          ],
          [
           "Lebanon"
          ],
          [
           "Lesotho"
          ],
          [
           "Liberia"
          ],
          [
           "Liberia"
          ],
          [
           "Liberia"
          ],
          [
           "Liberia"
          ],
          [
           "Liberia"
          ],
          [
           "Liberia"
          ],
          [
           "Liberia"
          ],
          [
           "Liberia"
          ],
          [
           "Liberia"
          ],
          [
           "Liberia"
          ],
          [
           "Libya"
          ],
          [
           "Libya"
          ],
          [
           "Libya"
          ],
          [
           "Libya"
          ],
          [
           "Libya"
          ],
          [
           "Libya"
          ],
          [
           "Libya"
          ],
          [
           "Libya"
          ],
          [
           "Libya"
          ],
          [
           "Libya"
          ],
          [
           "Madagascar"
          ],
          [
           "Madagascar"
          ],
          [
           "Madagascar"
          ],
          [
           "Madagascar"
          ],
          [
           "Madagascar"
          ],
          [
           "Madagascar"
          ],
          [
           "Madagascar"
          ],
          [
           "Madagascar"
          ],
          [
           "Madagascar"
          ],
          [
           "Madagascar"
          ],
          [
           "Malawi"
          ],
          [
           "Malawi"
          ],
          [
           "Malawi"
          ],
          [
           "Malawi"
          ],
          [
           "Malawi"
          ],
          [
           "Malawi"
          ],
          [
           "Malawi"
          ],
          [
           "Malawi"
          ],
          [
           "Malawi"
          ],
          [
           "Malaysia"
          ],
          [
           "Malaysia"
          ],
          [
           "Malaysia"
          ],
          [
           "Malaysia"
          ],
          [
           "Malaysia"
          ],
          [
           "Malaysia"
          ],
          [
           "Malaysia"
          ],
          [
           "Malaysia"
          ],
          [
           "Mali"
          ],
          [
           "Mali"
          ],
          [
           "Mali"
          ],
          [
           "Mali"
          ],
          [
           "Mali"
          ],
          [
           "Mali"
          ],
          [
           "Mali"
          ],
          [
           "Mali"
          ],
          [
           "Mali"
          ],
          [
           "Mali"
          ],
          [
           "Mauritania"
          ],
          [
           "Mauritania"
          ],
          [
           "Mauritania"
          ],
          [
           "Mauritania"
          ],
          [
           "Mauritania"
          ],
          [
           "Mauritania"
          ],
          [
           "Mauritania"
          ],
          [
           "Mauritania"
          ],
          [
           "Mauritania"
          ],
          [
           "Mauritania"
          ],
          [
           "Mauritius"
          ],
          [
           "Mauritius"
          ],
          [
           "Mauritius"
          ],
          [
           "Mauritius"
          ],
          [
           "Mauritius"
          ],
          [
           "Mauritius"
          ],
          [
           "Mauritius"
          ],
          [
           "Mauritius"
          ],
          [
           "Mauritius"
          ],
          [
           "Mauritius"
          ],
          [
           "Mexico"
          ],
          [
           "Mexico"
          ],
          [
           "Mexico"
          ],
          [
           "Mexico"
          ],
          [
           "Mexico"
          ],
          [
           "Mexico"
          ],
          [
           "Mexico"
          ],
          [
           "Mexico"
          ],
          [
           "Mexico"
          ],
          [
           "Mexico"
          ],
          [
           "Mongolia"
          ],
          [
           "Mongolia"
          ],
          [
           "Mongolia"
          ],
          [
           "Mongolia"
          ],
          [
           "Mongolia"
          ],
          [
           "Mongolia"
          ],
          [
           "Mongolia"
          ],
          [
           "Mongolia"
          ],
          [
           "Mongolia"
          ],
          [
           "Mongolia"
          ],
          [
           "Montenegro"
          ],
          [
           "Morocco"
          ],
          [
           "Morocco"
          ],
          [
           "Morocco"
          ],
          [
           "Morocco"
          ],
          [
           "Morocco"
          ],
          [
           "Morocco"
          ],
          [
           "Morocco"
          ],
          [
           "Morocco"
          ],
          [
           "Morocco"
          ],
          [
           "Morocco"
          ],
          [
           "Mozambique"
          ],
          [
           "Mozambique"
          ],
          [
           "Mozambique"
          ],
          [
           "Mozambique"
          ],
          [
           "Mozambique"
          ],
          [
           "Mozambique"
          ],
          [
           "Mozambique"
          ],
          [
           "Mozambique"
          ],
          [
           "Mozambique"
          ],
          [
           "Mozambique"
          ],
          [
           "Myanmar"
          ],
          [
           "Myanmar"
          ],
          [
           "Myanmar"
          ],
          [
           "Myanmar"
          ],
          [
           "Myanmar"
          ],
          [
           "Myanmar"
          ],
          [
           "Myanmar"
          ],
          [
           "Myanmar"
          ],
          [
           "Myanmar"
          ],
          [
           "Myanmar"
          ],
          [
           "Namibia"
          ],
          [
           "Namibia"
          ],
          [
           "Namibia"
          ],
          [
           "Namibia"
          ],
          [
           "Nepal"
          ],
          [
           "Nepal"
          ],
          [
           "Nepal"
          ],
          [
           "Nepal"
          ],
          [
           "Nepal"
          ],
          [
           "Nepal"
          ],
          [
           "Nepal"
          ],
          [
           "Nepal"
          ],
          [
           "Nepal"
          ],
          [
           "Nepal"
          ],
          [
           "Netherlands"
          ],
          [
           "Netherlands"
          ],
          [
           "Netherlands"
          ],
          [
           "Netherlands"
          ],
          [
           "Netherlands"
          ],
          [
           "Netherlands"
          ],
          [
           "Netherlands"
          ],
          [
           "Netherlands"
          ],
          [
           "Netherlands"
          ],
          [
           "Netherlands"
          ],
          [
           "New Zealand"
          ],
          [
           "New Zealand"
          ],
          [
           "New Zealand"
          ],
          [
           "New Zealand"
          ],
          [
           "New Zealand"
          ],
          [
           "New Zealand"
          ],
          [
           "New Zealand"
          ],
          [
           "New Zealand"
          ],
          [
           "New Zealand"
          ],
          [
           "New Zealand"
          ],
          [
           "Nicaragua"
          ],
          [
           "Nicaragua"
          ],
          [
           "Nicaragua"
          ],
          [
           "Nicaragua"
          ],
          [
           "Nicaragua"
          ],
          [
           "Nicaragua"
          ],
          [
           "Nicaragua"
          ],
          [
           "Nicaragua"
          ],
          [
           "Nicaragua"
          ],
          [
           "Nicaragua"
          ],
          [
           "Niger"
          ],
          [
           "Niger"
          ],
          [
           "Niger"
          ],
          [
           "Niger"
          ],
          [
           "Niger"
          ],
          [
           "Niger"
          ],
          [
           "Niger"
          ],
          [
           "Niger"
          ],
          [
           "Niger"
          ],
          [
           "Niger"
          ],
          [
           "Nigeria"
          ],
          [
           "Nigeria"
          ],
          [
           "Nigeria"
          ],
          [
           "Nigeria"
          ],
          [
           "Nigeria"
          ],
          [
           "Nigeria"
          ],
          [
           "Nigeria"
          ],
          [
           "Nigeria"
          ],
          [
           "Nigeria"
          ],
          [
           "Nigeria"
          ],
          [
           "Norway"
          ],
          [
           "Norway"
          ],
          [
           "Norway"
          ],
          [
           "Norway"
          ],
          [
           "Norway"
          ],
          [
           "Norway"
          ],
          [
           "Norway"
          ],
          [
           "Norway"
          ],
          [
           "Norway"
          ],
          [
           "Norway"
          ],
          [
           "Oman"
          ],
          [
           "Oman"
          ],
          [
           "Oman"
          ],
          [
           "Oman"
          ],
          [
           "Oman"
          ],
          [
           "Oman"
          ],
          [
           "Oman"
          ],
          [
           "Oman"
          ],
          [
           "Oman"
          ],
          [
           "Pakistan"
          ],
          [
           "Pakistan"
          ],
          [
           "Pakistan"
          ],
          [
           "Pakistan"
          ],
          [
           "Pakistan"
          ],
          [
           "Pakistan"
          ],
          [
           "Pakistan"
          ],
          [
           "Pakistan"
          ],
          [
           "Pakistan"
          ],
          [
           "Pakistan"
          ],
          [
           "Panama"
          ],
          [
           "Panama"
          ],
          [
           "Panama"
          ],
          [
           "Panama"
          ],
          [
           "Panama"
          ],
          [
           "Panama"
          ],
          [
           "Panama"
          ],
          [
           "Panama"
          ],
          [
           "Panama"
          ],
          [
           "Panama"
          ],
          [
           "Paraguay"
          ],
          [
           "Paraguay"
          ],
          [
           "Paraguay"
          ],
          [
           "Paraguay"
          ],
          [
           "Paraguay"
          ],
          [
           "Paraguay"
          ],
          [
           "Paraguay"
          ],
          [
           "Paraguay"
          ],
          [
           "Paraguay"
          ],
          [
           "Paraguay"
          ],
          [
           "Peru"
          ],
          [
           "Peru"
          ],
          [
           "Peru"
          ],
          [
           "Peru"
          ],
          [
           "Peru"
          ],
          [
           "Peru"
          ],
          [
           "Peru"
          ],
          [
           "Peru"
          ],
          [
           "Peru"
          ],
          [
           "Peru"
          ],
          [
           "Philippines"
          ],
          [
           "Philippines"
          ],
          [
           "Philippines"
          ],
          [
           "Philippines"
          ],
          [
           "Philippines"
          ],
          [
           "Philippines"
          ],
          [
           "Philippines"
          ],
          [
           "Philippines"
          ],
          [
           "Philippines"
          ],
          [
           "Philippines"
          ],
          [
           "Poland"
          ],
          [
           "Poland"
          ],
          [
           "Poland"
          ],
          [
           "Poland"
          ],
          [
           "Poland"
          ],
          [
           "Poland"
          ],
          [
           "Poland"
          ],
          [
           "Poland"
          ],
          [
           "Poland"
          ],
          [
           "Poland"
          ],
          [
           "Portugal"
          ],
          [
           "Portugal"
          ],
          [
           "Portugal"
          ],
          [
           "Portugal"
          ],
          [
           "Portugal"
          ],
          [
           "Portugal"
          ],
          [
           "Portugal"
          ],
          [
           "Portugal"
          ],
          [
           "Portugal"
          ],
          [
           "Portugal"
          ],
          [
           "Romania"
          ],
          [
           "Romania"
          ],
          [
           "Romania"
          ],
          [
           "Romania"
          ],
          [
           "Romania"
          ],
          [
           "Romania"
          ],
          [
           "Romania"
          ],
          [
           "Romania"
          ],
          [
           "Romania"
          ],
          [
           "Romania"
          ],
          [
           "Rwanda"
          ],
          [
           "Rwanda"
          ],
          [
           "Rwanda"
          ],
          [
           "Rwanda"
          ],
          [
           "Rwanda"
          ],
          [
           "Rwanda"
          ],
          [
           "Rwanda"
          ],
          [
           "Rwanda"
          ],
          [
           "Rwanda"
          ],
          [
           "Rwanda"
          ],
          [
           "Sao Tome and Principe"
          ],
          [
           "Sao Tome and Principe"
          ],
          [
           "Sao Tome and Principe"
          ],
          [
           "Sao Tome and Principe"
          ],
          [
           "Sao Tome and Principe"
          ],
          [
           "Sao Tome and Principe"
          ],
          [
           "Sao Tome and Principe"
          ],
          [
           "Sao Tome and Principe"
          ],
          [
           "Sao Tome and Principe"
          ],
          [
           "Sao Tome and Principe"
          ],
          [
           "Saudi Arabia"
          ],
          [
           "Saudi Arabia"
          ],
          [
           "Saudi Arabia"
          ],
          [
           "Saudi Arabia"
          ],
          [
           "Saudi Arabia"
          ],
          [
           "Saudi Arabia"
          ],
          [
           "Saudi Arabia"
          ],
          [
           "Saudi Arabia"
          ],
          [
           "Saudi Arabia"
          ],
          [
           "Saudi Arabia"
          ],
          [
           "Senegal"
          ],
          [
           "Senegal"
          ],
          [
           "Senegal"
          ],
          [
           "Senegal"
          ],
          [
           "Senegal"
          ],
          [
           "Senegal"
          ],
          [
           "Senegal"
          ],
          [
           "Senegal"
          ],
          [
           "Senegal"
          ],
          [
           "Senegal"
          ],
          [
           "Serbia"
          ],
          [
           "Sierra Leone"
          ],
          [
           "Sierra Leone"
          ],
          [
           "Sierra Leone"
          ],
          [
           "Sierra Leone"
          ],
          [
           "Sierra Leone"
          ],
          [
           "Sierra Leone"
          ],
          [
           "Sierra Leone"
          ],
          [
           "Sierra Leone"
          ],
          [
           "Sierra Leone"
          ],
          [
           "Sierra Leone"
          ],
          [
           "Singapore"
          ],
          [
           "Singapore"
          ],
          [
           "Singapore"
          ],
          [
           "Singapore"
          ],
          [
           "Singapore"
          ],
          [
           "Singapore"
          ],
          [
           "Singapore"
          ],
          [
           "Singapore"
          ],
          [
           "Singapore"
          ],
          [
           "Singapore"
          ],
          [
           "Slovak Republic"
          ],
          [
           "Slovak Republic"
          ],
          [
           "Slovak Republic"
          ],
          [
           "Slovak Republic"
          ],
          [
           "Slovenia"
          ],
          [
           "Slovenia"
          ],
          [
           "Slovenia"
          ],
          [
           "Slovenia"
          ],
          [
           "Somalia"
          ],
          [
           "Somalia"
          ],
          [
           "Somalia"
          ],
          [
           "Somalia"
          ],
          [
           "Somalia"
          ],
          [
           "Somalia"
          ],
          [
           "Somalia"
          ],
          [
           "Somalia"
          ],
          [
           "Somalia"
          ],
          [
           "South Africa"
          ],
          [
           "South Africa"
          ],
          [
           "South Africa"
          ],
          [
           "South Africa"
          ],
          [
           "South Africa"
          ],
          [
           "South Africa"
          ],
          [
           "South Africa"
          ],
          [
           "South Africa"
          ],
          [
           "South Africa"
          ],
          [
           "South Africa"
          ],
          [
           "Spain"
          ],
          [
           "Spain"
          ],
          [
           "Spain"
          ],
          [
           "Spain"
          ],
          [
           "Spain"
          ],
          [
           "Spain"
          ],
          [
           "Spain"
          ],
          [
           "Spain"
          ],
          [
           "Spain"
          ],
          [
           "Spain"
          ],
          [
           "Sri Lanka"
          ],
          [
           "Sri Lanka"
          ],
          [
           "Sri Lanka"
          ],
          [
           "Sri Lanka"
          ],
          [
           "Sri Lanka"
          ],
          [
           "Sri Lanka"
          ],
          [
           "Sri Lanka"
          ],
          [
           "Sri Lanka"
          ],
          [
           "Sri Lanka"
          ],
          [
           "Sri Lanka"
          ],
          [
           "Sudan"
          ],
          [
           "Sudan"
          ],
          [
           "Sudan"
          ],
          [
           "Sudan"
          ],
          [
           "Sudan"
          ],
          [
           "Sudan"
          ],
          [
           "Sudan"
          ],
          [
           "Sudan"
          ],
          [
           "Sudan"
          ],
          [
           "Sudan"
          ],
          [
           "Swaziland"
          ],
          [
           "Swaziland"
          ],
          [
           "Swaziland"
          ],
          [
           "Swaziland"
          ],
          [
           "Swaziland"
          ],
          [
           "Swaziland"
          ],
          [
           "Swaziland"
          ],
          [
           "Swaziland"
          ],
          [
           "Swaziland"
          ],
          [
           "Sweden"
          ],
          [
           "Sweden"
          ],
          [
           "Sweden"
          ],
          [
           "Sweden"
          ],
          [
           "Sweden"
          ],
          [
           "Sweden"
          ],
          [
           "Sweden"
          ],
          [
           "Sweden"
          ],
          [
           "Sweden"
          ],
          [
           "Sweden"
          ],
          [
           "Switzerland"
          ],
          [
           "Switzerland"
          ],
          [
           "Switzerland"
          ],
          [
           "Switzerland"
          ],
          [
           "Switzerland"
          ],
          [
           "Switzerland"
          ],
          [
           "Switzerland"
          ],
          [
           "Switzerland"
          ],
          [
           "Switzerland"
          ],
          [
           "Switzerland"
          ],
          [
           "Tanzania"
          ],
          [
           "Tanzania"
          ],
          [
           "Tanzania"
          ],
          [
           "Tanzania"
          ],
          [
           "Tanzania"
          ],
          [
           "Tanzania"
          ],
          [
           "Tanzania"
          ],
          [
           "Tanzania"
          ],
          [
           "Tanzania"
          ],
          [
           "Tanzania"
          ],
          [
           "Thailand"
          ],
          [
           "Thailand"
          ],
          [
           "Thailand"
          ],
          [
           "Thailand"
          ],
          [
           "Thailand"
          ],
          [
           "Thailand"
          ],
          [
           "Thailand"
          ],
          [
           "Thailand"
          ],
          [
           "Thailand"
          ],
          [
           "Thailand"
          ],
          [
           "Togo"
          ],
          [
           "Togo"
          ],
          [
           "Togo"
          ],
          [
           "Togo"
          ],
          [
           "Togo"
          ],
          [
           "Togo"
          ],
          [
           "Togo"
          ],
          [
           "Togo"
          ],
          [
           "Togo"
          ],
          [
           "Togo"
          ],
          [
           "Trinidad and Tobago"
          ],
          [
           "Trinidad and Tobago"
          ],
          [
           "Trinidad and Tobago"
          ],
          [
           "Trinidad and Tobago"
          ],
          [
           "Trinidad and Tobago"
          ],
          [
           "Trinidad and Tobago"
          ],
          [
           "Trinidad and Tobago"
          ],
          [
           "Trinidad and Tobago"
          ],
          [
           "Trinidad and Tobago"
          ],
          [
           "Trinidad and Tobago"
          ],
          [
           "Tunisia"
          ],
          [
           "Tunisia"
          ],
          [
           "Tunisia"
          ],
          [
           "Tunisia"
          ],
          [
           "Tunisia"
          ],
          [
           "Tunisia"
          ],
          [
           "Tunisia"
          ],
          [
           "Tunisia"
          ],
          [
           "Tunisia"
          ],
          [
           "Tunisia"
          ],
          [
           "Turkey"
          ],
          [
           "Turkey"
          ],
          [
           "Turkey"
          ],
          [
           "Turkey"
          ],
          [
           "Turkey"
          ],
          [
           "Turkey"
          ],
          [
           "Turkey"
          ],
          [
           "Turkey"
          ],
          [
           "Turkey"
          ],
          [
           "Turkey"
          ],
          [
           "Uganda"
          ],
          [
           "Uganda"
          ],
          [
           "Uganda"
          ],
          [
           "Uganda"
          ],
          [
           "Uganda"
          ],
          [
           "Uganda"
          ],
          [
           "Uganda"
          ],
          [
           "Uganda"
          ],
          [
           "Uganda"
          ],
          [
           "Uganda"
          ],
          [
           "United Kingdom"
          ],
          [
           "United Kingdom"
          ],
          [
           "United Kingdom"
          ],
          [
           "United Kingdom"
          ],
          [
           "United Kingdom"
          ],
          [
           "United Kingdom"
          ],
          [
           "United Kingdom"
          ],
          [
           "United Kingdom"
          ],
          [
           "United Kingdom"
          ],
          [
           "United Kingdom"
          ],
          [
           "United States"
          ],
          [
           "United States"
          ],
          [
           "United States"
          ],
          [
           "United States"
          ],
          [
           "United States"
          ],
          [
           "United States"
          ],
          [
           "United States"
          ],
          [
           "United States"
          ],
          [
           "United States"
          ],
          [
           "United States"
          ],
          [
           "Uruguay"
          ],
          [
           "Uruguay"
          ],
          [
           "Uruguay"
          ],
          [
           "Uruguay"
          ],
          [
           "Uruguay"
          ],
          [
           "Uruguay"
          ],
          [
           "Uruguay"
          ],
          [
           "Uruguay"
          ],
          [
           "Uruguay"
          ],
          [
           "Uruguay"
          ],
          [
           "Vietnam"
          ],
          [
           "Vietnam"
          ],
          [
           "Vietnam"
          ],
          [
           "Vietnam"
          ],
          [
           "Vietnam"
          ],
          [
           "Vietnam"
          ],
          [
           "Vietnam"
          ],
          [
           "Vietnam"
          ],
          [
           "Vietnam"
          ],
          [
           "Vietnam"
          ],
          [
           "West Bank and Gaza"
          ],
          [
           "West Bank and Gaza"
          ],
          [
           "West Bank and Gaza"
          ],
          [
           "Zambia"
          ],
          [
           "Zambia"
          ],
          [
           "Zambia"
          ],
          [
           "Zambia"
          ],
          [
           "Zambia"
          ],
          [
           "Zambia"
          ],
          [
           "Zambia"
          ],
          [
           "Zambia"
          ],
          [
           "Zambia"
          ],
          [
           "Zimbabwe"
          ],
          [
           "Zimbabwe"
          ],
          [
           "Zimbabwe"
          ],
          [
           "Zimbabwe"
          ],
          [
           "Zimbabwe"
          ],
          [
           "Zimbabwe"
          ],
          [
           "Zimbabwe"
          ],
          [
           "Zimbabwe"
          ],
          [
           "Zimbabwe"
          ]
         ],
         "hovertemplate": "Energy use (kg of oil equivalent per capita)=%{x}<br>continent=%{y}<br>Country Name=%{customdata[0]}<extra></extra>",
         "legendgroup": "",
         "marker": {
          "color": "#636efa"
         },
         "name": "",
         "notched": false,
         "offsetgroup": "",
         "orientation": "h",
         "showlegend": false,
         "type": "box",
         "x": [
          null,
          null,
          null,
          null,
          null,
          null,
          null,
          null,
          null,
          null,
          null,
          null,
          865.592481207,
          923.728867504,
          966.683283781,
          921.893044018,
          418.286629757,
          384.594958328,
          645.080153785,
          679.861765101,
          null,
          null,
          261.465250751,
          398.656113469,
          771.235497639,
          827.552506829,
          883.7458819,
          804.842705115,
          904.456391853,
          1075.19412704,
          null,
          null,
          629.301934363,
          535.2524622330001,
          514.415934309,
          502.598458911,
          511.237051724,
          494.174484207,
          515.4034564030001,
          561.5501055130001,
          null,
          null,
          1379.81886741,
          1420.56765898,
          1416.53992488,
          1477.07652885,
          1484.0589177000004,
          1614.33824027,
          1502.22488095,
          1846.93675639,
          3172.97486502,
          3692.80794983,
          4035.20634439,
          4671.19567362,
          4817.48952431,
          4772.37046465,
          4959.21491855,
          5469.5999892,
          5569.6409925,
          5868.34709712,
          1675.87362115,
          1920.21212423,
          2627.32249578,
          2797.42192238,
          2830.22178095,
          3174.74539203,
          3239.0639673,
          3542.5214303,
          3765.28296302,
          4029.62695258,
          null,
          null,
          5960.21133509,
          8187.11498635,
          9071.02474414,
          9523.46356521,
          10844.7550254,
          12122.0506027,
          11704.3047293,
          11291.126355,
          86.903766977,
          97.860763105,
          105.482961637,
          106.866835127,
          119.405481659,
          135.210016124,
          149.933182829,
          173.580998621,
          2810.06114801,
          3182.9234575,
          4473.92951273,
          4589.52441,
          4208.25780214,
          4727.68639528,
          5092.96578511,
          5579.51075728,
          5461.40290348,
          5389.28164733,
          null,
          null,
          380.812029086,
          363.746124276,
          355.338045025,
          347.306591796,
          321.349456122,
          350.78972053,
          305.04923703400004,
          368.216084341,
          null,
          null,
          240.157170254,
          331.439253894,
          462.43170312,
          341.493450003,
          399.828007323,
          561.077061465,
          528.760849998,
          561.052703379,
          1034.34415156,
          712.9252777060001,
          1156.99672325,
          1381.12205494,
          null,
          null,
          739.29915268,
          743.685354401,
          979.087310581,
          900.173527778,
          1032.6780741,
          1028.07041536,
          null,
          null,
          741.6918705969998,
          868.475086329,
          867.193602187,
          987.562557183,
          929.003678998,
          1061.83829204,
          1081.26747985,
          1221.36231051,
          null,
          null,
          2262.78654882,
          2954.26673889,
          3309.20642511,
          3411.07339479,
          2396.00726637,
          2504.12268042,
          2401.37660851,
          2666.11144524,
          null,
          null,
          null,
          null,
          null,
          null,
          null,
          null,
          null,
          null,
          null,
          null,
          null,
          null,
          null,
          null,
          null,
          null,
          null,
          null,
          null,
          null,
          null,
          null,
          null,
          null,
          null,
          265.896639422,
          314.97027594400004,
          253.343288148,
          null,
          null,
          386.14642293800006,
          402.624623832,
          423.360959463,
          417.73292245,
          397.277540786,
          396.727156517,
          389.52261441,
          332.30332161,
          4451.56011604,
          5557.29174015,
          6933.60655182,
          7409.53000504,
          7149.344059999999,
          7641.32410546,
          7479.477427399999,
          7965.51932158,
          7920.11022894,
          8130.58019344,
          null,
          null,
          null,
          null,
          null,
          null,
          null,
          null,
          null,
          null,
          null,
          null,
          null,
          null,
          null,
          null,
          null,
          null,
          null,
          null,
          null,
          null,
          891.2738674039999,
          779.391621026,
          763.201224638,
          826.260796732,
          1141.81007039,
          1558.78524634,
          1644.79154564,
          1860.10017433,
          null,
          null,
          477.168708746,
          577.211010594,
          606.830437326,
          694.4223599789999,
          752.628662541,
          871.6462695360001,
          978.61898313,
          1550.53027085,
          null,
          null,
          598.975288294,
          638.025434659,
          635.432893568,
          696.0663928460001,
          704.354798517,
          709.8217022360001,
          606.266720641,
          637.510761494,
          null,
          null,
          null,
          null,
          null,
          null,
          null,
          null,
          null,
          63.1348128438,
          null,
          null,
          442.444664949,
          528.165846592,
          455.822967416,
          491.495062694,
          705.487675532,
          647.0037811669999,
          748.21348058,
          1031.80869969,
          null,
          null,
          453.243100247,
          449.52124719,
          393.432418022,
          383.372484812,
          373.659519455,
          386.175169435,
          406.144021726,
          539.7271851830001,
          1502.13713647,
          1704.81692913,
          1856.86891892,
          2102.14585212,
          null,
          null,
          1154.55654156,
          1424.73743541,
          1536.90510757,
          1578.25907104,
          1214.11700599,
          1125.97333686,
          1053.28051042,
          904.662628457,
          4222.41657552,
          4184.88468363,
          4163.45010589,
          4468.96035161,
          2296.28956262,
          3061.11010693,
          3858.59212164,
          3830.10381024,
          3422.37480485,
          3819.83212874,
          3561.89036948,
          3848.1558436,
          3535.09801372,
          3622.59683256,
          null,
          null,
          null,
          null,
          null,
          null,
          null,
          null,
          null,
          178.904528787,
          null,
          null,
          573.372745636,
          601.951784846,
          596.93367919,
          594.381238984,
          603.781376066,
          749.844735219,
          819.797049144,
          763.408932512,
          null,
          null,
          360.600661999,
          568.073705272,
          666.635807378,
          602.470062495,
          629.220777401,
          721.687588695,
          739.4547575380002,
          833.203582927,
          null,
          null,
          484.967888203,
          622.1297874219999,
          595.2355137530001,
          503.481769676,
          525.453706523,
          624.096762293,
          720.3532811819998,
          748.1199930380002,
          null,
          null,
          null,
          null,
          null,
          null,
          null,
          null,
          null,
          2641.94245101,
          319.16492977400003,
          197.54986892,
          162.700034655,
          null,
          null,
          434.793195834,
          432.458375494,
          434.058222854,
          437.234995296,
          431.15182408,
          435.145404589,
          439.254909387,
          442.86665148300006,
          2361.74387608,
          3126.42604539,
          4188.16067653,
          4516.24806759,
          4805.49388193,
          5960.69258613,
          5380.99306782,
          6276.95169203,
          6705.43983596,
          6967.21323874,
          1852.7357712,
          2241.91139524,
          3160.80483651,
          3155.62146854,
          3272.05274478,
          3690.65145306,
          3954.00370317,
          4049.35046526,
          4225.60695353,
          4120.3058212,
          null,
          null,
          1707.3062928,
          2000.90013642,
          2069.78785109,
          1470.39664628,
          1298.09635297,
          1236.01768782,
          1229.36459426,
          1281.68189093,
          4190.98422047,
          4203.3573666,
          4108.40129887,
          3985.80810152,
          null,
          null,
          348.93189080300004,
          381.515147025,
          376.7088969880001,
          363.852104774,
          366.522645114,
          398.339353834,
          317.525749335,
          278.760989471,
          350.101257861,
          607.702155943,
          1134.78649348,
          1469.54942907,
          1537.27769706,
          1791.83338591,
          2129.89451644,
          2282.13703466,
          2597.74828926,
          2734.92011068,
          null,
          null,
          491.473442413,
          574.359356263,
          482.712477796,
          448.694681999,
          497.344297754,
          526.326033275,
          590.478746775,
          616.892076168,
          null,
          null,
          null,
          null,
          null,
          null,
          null,
          null,
          null,
          null,
          null,
          null,
          null,
          null,
          null,
          null,
          null,
          null,
          null,
          62.1995597581,
          null,
          null,
          317.810225983,
          350.433910995,
          301.847692756,
          226.326971354,
          219.075496949,
          252.463093356,
          261.374331488,
          384.513775199,
          null,
          null,
          499.277043223,
          512.605428263,
          520.393217065,
          481.319956646,
          483.335543947,
          528.901564325,
          516.4041365740001,
          657.398639731,
          null,
          1476.04957577,
          1880.53879751,
          2428.82933004,
          2630.75848148,
          2894.82745315,
          2423.17944795,
          2527.30162599,
          2520.15246577,
          2658.03637311,
          3028.29836932,
          3594.36178937,
          4403.96964669,
          5602.87016623,
          7076.20798768,
          7857.45488268,
          7755.39441578,
          8584.10049866,
          10804.6417156,
          14746.0313385,
          null,
          null,
          268.485083335,
          283.275393642,
          299.592677132,
          325.73809089400004,
          365.379491444,
          399.052528907,
          423.580114419,
          486.292374786,
          null,
          null,
          301.357990782,
          347.868204367,
          388.834624998,
          436.663234979,
          574.344890279,
          690.7954914339999,
          760.140852043,
          788.5836582439999,
          null,
          null,
          405.152489951,
          626.354937731,
          690.323799679,
          958.189471661,
          1311.18896852,
          1861.7960965,
          1130.94271589,
          892.39580238,
          1412.72967684,
          1767.42510638,
          2194.51306452,
          2203.82152215,
          2356.8942567,
          2608.80658136,
          2775.21800345,
          3255.49845122,
          3661.32224061,
          3416.03094562,
          null,
          null,
          1756.33100381,
          1786.48768337,
          1958.31704292,
          2278.47928588,
          2580.96935389,
          2881.12834133,
          2862.7957382,
          2898.15336834,
          1007.04834663,
          1551.51917279,
          2050.73787712,
          2204.17980667,
          2206.54273411,
          2407.25635314,
          2627.34000777,
          2834.40294607,
          3017.97165871,
          3062.36054739,
          null,
          null,
          1331.9860874,
          1153.48652689,
          1040.31180401,
          765.4628605460001,
          1215.0555252,
          1333.59707253,
          1371.65658542,
          1578.42891649,
          1003.75225394,
          1720.54974435,
          2667.04674964,
          2899.90421823,
          2840.60843908,
          3044.11508629,
          3652.07124745,
          4048.98200021,
          4005.94409353,
          4024.99795314,
          null,
          null,
          297.830418297,
          473.5437315580001,
          875.54040491,
          998.355658577,
          1015.41769856,
          991.96787502,
          1024.4838209,
          1251.68193903,
          null,
          null,
          455.513600948,
          455.626061673,
          437.652286948,
          464.00933684,
          445.111805733,
          441.007660811,
          440.968733004,
          462.22025237800005,
          null,
          null,
          7802.76597438,
          6429.99850119,
          7548.12934744,
          8616.57655309,
          8764.51262442,
          10105.8321479,
          10395.1176066,
          null,
          null,
          789.565543378,
          696.1964896339999,
          678.5814280469999,
          996.943321974,
          868.56933067,
          1698.3102702999995,
          1484.22892653,
          1034.92218437,
          9.71541007212,
          null,
          null,
          null,
          null,
          null,
          null,
          null,
          null,
          null,
          null,
          null,
          null,
          952.733553333,
          1455.08414725,
          2397.98259634,
          2700.28315715,
          2452.19740381,
          2991.94395278,
          3071.77483233,
          2725.88792504,
          null,
          null,
          null,
          null,
          null,
          null,
          null,
          null,
          null,
          null,
          null,
          null,
          null,
          null,
          null,
          null,
          null,
          null,
          null,
          536.095210505,
          621.740086559,
          898.6549052380002,
          1078.98626036,
          1566.72481216,
          2063.52696529,
          2183.8734214,
          2742.50027319,
          null,
          null,
          null,
          null,
          null,
          null,
          null,
          null,
          null,
          null,
          null,
          null,
          null,
          null,
          null,
          null,
          null,
          null,
          null,
          null,
          null,
          null,
          435.059790882,
          474.222876797,
          414.601806914,
          512.011597538,
          657.7868228880001,
          712.571976967,
          873.195801833,
          1007.57484088,
          null,
          null,
          856.81120942,
          1063.78037111,
          1465.05024708,
          1379.33314201,
          1452.97190576,
          1398.88398183,
          1412.86939872,
          1551.28978352,
          null,
          null,
          null,
          null,
          null,
          1746.24080026,
          1488.63742731,
          951.851569598,
          1058.16485595,
          1376.98860218,
          1927.97889182,
          null,
          null,
          190.387995598,
          252.036810104,
          268.259441677,
          277.485699249,
          327.952990834,
          362.27042057,
          402.312789339,
          487.448713086,
          null,
          null,
          699.0228986210001,
          608.405141326,
          523.782627433,
          474.548861116,
          420.272139083,
          390.685096382,
          395.127686774,
          407.278749651,
          null,
          null,
          281.931848431,
          276.246179043,
          270.238811656,
          269.30095308,
          251.060745819,
          263.20255292,
          266.385844866,
          307.913041122,
          496.518769708,
          594.756148267,
          579.8782172790001,
          659.366428344,
          null,
          null,
          300.972670494,
          302.06554296,
          305.746943514,
          307.065111322,
          309.74507691900004,
          316.822270368,
          345.37079196,
          357.131793555,
          2081.01162075,
          2762.80248267,
          4381.04179488,
          4560.27311991,
          3785.11593558,
          4387.67068914,
          4501.66087489,
          4579.47478164,
          4687.98228043,
          4843.79608802,
          1791.46132151,
          2188.69351345,
          2617.16105927,
          3055.08108455,
          3012.97138874,
          3452.96268019,
          3808.4772206,
          4258.75677677,
          4337.38052425,
          4054.4950045,
          null,
          null,
          487.96346663800006,
          585.0413863719999,
          469.268615848,
          502.383245685,
          509.839947747,
          503.04461939,
          508.740585366,
          521.961949752,
          null,
          null,
          null,
          null,
          null,
          null,
          null,
          null,
          130.047629217,
          128.026173022,
          null,
          null,
          583.794808164,
          634.258748201,
          689.4945390439999,
          674.47298453,
          719.308370017,
          696.8847876410001,
          721.312209806,
          747.1012487439999,
          2052.05448433,
          2815.68798736,
          3503.4299482,
          4060.10627707,
          4262.39171068,
          5048.49930916,
          5159.65421807,
          5477.88285412,
          5503.46451061,
          5864.97593092,
          null,
          112.054808283,
          761.662333837,
          1151.87126892,
          1412.3831509,
          2756.42578415,
          3027.90856152,
          3890.79215204,
          6881.62081928,
          null,
          null,
          285.16407106400004,
          302.558312012,
          336.92280827900004,
          376.344243754,
          412.405215402,
          448.925191849,
          455.934635667,
          523.2672101530001,
          null,
          null,
          1159.6892715999998,
          899.7691370580002,
          796.469906347,
          730.8000538289999,
          715.38365957,
          777.742373207,
          834.670915895,
          879.523836391,
          null,
          null,
          540.588375968,
          580.530937274,
          630.648885594,
          699.102776962,
          712.691343364,
          877.0448880460001,
          705.433761481,
          708.7828687130002,
          null,
          null,
          648.807999388,
          678.509067152,
          632.7254874390001,
          540.974320389,
          408.43313224,
          440.557973649,
          446.340827194,
          506.633143848,
          null,
          null,
          406.49229803800006,
          456.743021869,
          461.890994003,
          433.357672285,
          460.545976337,
          500.989771655,
          477.457211125,
          434.402352876,
          1976.85979181,
          2199.05462052,
          2693.74527501,
          3251.8025717,
          3412.49866376,
          3535.48197152,
          2569.17533457,
          2643.12353589,
          2314.20257992,
          2526.9949602,
          363.164047972,
          486.585415324,
          745.283954565,
          845.368945104,
          1119.20463053,
          1241.1956653,
          1813.8858461,
          2083.48767635,
          2477.48974988,
          2402.47799385,
          null,
          null,
          2131.63973572,
          2735.43911555,
          2876.73333115,
          3027.56521622,
          2052.96292702,
          1989.99418196,
          1755.13002556,
          1904.09688616,
          null,
          null,
          null,
          null,
          null,
          null,
          null,
          null,
          null,
          null,
          null,
          null,
          null,
          null,
          null,
          null,
          null,
          null,
          null,
          274.890043982,
          null,
          null,
          979.423249943,
          1368.95037047,
          4215.42559694,
          3750.91313869,
          4421.45445335,
          4354.65523263,
          4907.82867485,
          5379.69097885,
          null,
          null,
          280.837670795,
          281.840462003,
          260.719421235,
          254.211898654,
          222.634685966,
          221.005820684,
          253.315356135,
          252.409846662,
          2248.15503566,
          null,
          null,
          null,
          null,
          null,
          null,
          null,
          null,
          null,
          null,
          null,
          null,
          1569.47082327,
          1763.23012084,
          1987.08730813,
          2757.88068931,
          4588.43321165,
          5818.15092473,
          5065.98450652,
          4677.20430572,
          3410.7278847,
          3361.88402225,
          3483.86750611,
          3320.45472221,
          2584.33517088,
          3310.40063325,
          3424.45287862,
          3627.52350948,
          null,
          null,
          null,
          null,
          null,
          null,
          null,
          null,
          null,
          null,
          null,
          1997.49821372,
          2208.54919916,
          2699.72841558,
          2831.14750181,
          2414.3981946,
          2655.26925959,
          2421.00577767,
          2805.48565552,
          605.223527325,
          881.3832485789999,
          1299.43101563,
          1667.64601643,
          1762.40454547,
          1919.44664907,
          2435.96962149,
          2666.2640552,
          3107.86734112,
          3180.03341956,
          null,
          null,
          314.546613794,
          293.833883231,
          324.13036566,
          328.090886835,
          327.882389865,
          380.086721607,
          432.84856645,
          470.83709579,
          null,
          null,
          485.018934669,
          445.524031505,
          431.003010124,
          397.42097884300006,
          386.72897561,
          392.294923579,
          411.137505242,
          366.495542,
          null,
          null,
          null,
          null,
          null,
          null,
          null,
          null,
          372.735499664,
          2887.23625249,
          3630.19413871,
          4527.21372025,
          5054.83376436,
          4877.79989653,
          5763.0704408,
          5369.37035674,
          5672.0081772,
          5802.11010517,
          5472.13539173,
          1568.91106002,
          2040.8279002,
          2727.71921732,
          2877.79290941,
          2984.22326318,
          3430.8555125,
          3613.49260926,
          3526.10543855,
          3553.18855698,
          3410.15494794,
          null,
          null,
          527.0538798619999,
          455.445767964,
          414.717967022,
          394.145177081,
          369.835021604,
          357.261154316,
          416.002267994,
          442.62215764,
          null,
          null,
          367.864327681,
          451.510578157,
          456.467867425,
          531.762695185,
          840.141111806,
          1164.94784692,
          1282.58023503,
          1585.96595222,
          null,
          null,
          332.041867346,
          327.998948608,
          327.324375984,
          328.062332773,
          328.69853999,
          384.078207642,
          424.034097572,
          417.118049767,
          null,
          null,
          2772.88276961,
          2808.51679767,
          3648.18714807,
          4188.6453215,
          5286.28687516,
          5437.91312128,
          9356.78097414,
          14608.0098682,
          null,
          null,
          341.737804158,
          427.302747359,
          493.048630903,
          542.645168334,
          641.6905970619999,
          679.079751272,
          801.489193653,
          883.981281357,
          410.021796967,
          484.393315616,
          605.1364652890001,
          778.4328071839999,
          732.662049648,
          917.976137079,
          960.859171935,
          1165.81161631,
          1139.69490969,
          1438.53526923,
          null,
          null,
          null,
          null,
          null,
          null,
          null,
          null,
          null,
          null,
          3087.34197183,
          3345.55349486,
          3747.96247517,
          3695.38387114,
          3397.12228872,
          3619.07726922,
          3684.72453527,
          3760.71236505,
          3685.8654787,
          3441.68876583,
          5774.58631485,
          6809.82048392,
          7940.99783226,
          8285.57089798,
          7259.07889875,
          7622.17301652,
          7677.40140109,
          7828.5810964,
          7843.34484914,
          7758.16570028,
          null,
          null,
          872.986354117,
          868.792103341,
          766.1430987780002,
          718.448623294,
          855.1247871139999,
          880.633650605,
          762.6981432010001,
          947.838610674,
          null,
          null,
          298.157558425,
          257.872313351,
          271.162299998,
          286.657214575,
          276.1308749,
          335.170556166,
          420.446832131,
          540.08195349,
          null,
          null,
          null,
          null,
          857.0932537580002,
          819.7872201060001,
          756.612333199,
          700.14084375,
          662.721536129,
          617.209365016,
          598.548219754,
          588.018958956,
          null,
          994.184786353,
          921.65469562,
          842.372683813,
          896.673611477,
          923.493407317,
          804.5088922269998,
          772.6766193660001,
          725.6810488469998
         ],
         "x0": " ",
         "xaxis": "x",
         "y": [
          "Asia",
          "Asia",
          "Asia",
          "Asia",
          "Asia",
          "Asia",
          "Asia",
          "Asia",
          "Asia",
          "Asia",
          "Europe",
          "Europe",
          "Europe",
          "Europe",
          "Europe",
          "Europe",
          "Europe",
          "Europe",
          "Europe",
          "Europe",
          "Africa",
          "Africa",
          "Africa",
          "Africa",
          "Africa",
          "Africa",
          "Africa",
          "Africa",
          "Africa",
          "Africa",
          "Africa",
          "Africa",
          "Africa",
          "Africa",
          "Africa",
          "Africa",
          "Africa",
          "Africa",
          "Africa",
          "Africa",
          "Americas",
          "Americas",
          "Americas",
          "Americas",
          "Americas",
          "Americas",
          "Americas",
          "Americas",
          "Americas",
          "Americas",
          "Oceania",
          "Oceania",
          "Oceania",
          "Oceania",
          "Oceania",
          "Oceania",
          "Oceania",
          "Oceania",
          "Oceania",
          "Oceania",
          "Europe",
          "Europe",
          "Europe",
          "Europe",
          "Europe",
          "Europe",
          "Europe",
          "Europe",
          "Europe",
          "Europe",
          "Asia",
          "Asia",
          "Asia",
          "Asia",
          "Asia",
          "Asia",
          "Asia",
          "Asia",
          "Asia",
          "Asia",
          "Asia",
          "Asia",
          "Asia",
          "Asia",
          "Asia",
          "Asia",
          "Asia",
          "Asia",
          "Europe",
          "Europe",
          "Europe",
          "Europe",
          "Europe",
          "Europe",
          "Europe",
          "Europe",
          "Europe",
          "Europe",
          "Africa",
          "Africa",
          "Africa",
          "Africa",
          "Africa",
          "Africa",
          "Africa",
          "Africa",
          "Africa",
          "Africa",
          "Americas",
          "Americas",
          "Americas",
          "Americas",
          "Americas",
          "Americas",
          "Americas",
          "Americas",
          "Americas",
          "Americas",
          "Europe",
          "Europe",
          "Europe",
          "Europe",
          "Africa",
          "Africa",
          "Africa",
          "Africa",
          "Africa",
          "Africa",
          "Africa",
          "Africa",
          "Americas",
          "Americas",
          "Americas",
          "Americas",
          "Americas",
          "Americas",
          "Americas",
          "Americas",
          "Americas",
          "Americas",
          "Europe",
          "Europe",
          "Europe",
          "Europe",
          "Europe",
          "Europe",
          "Europe",
          "Europe",
          "Europe",
          "Europe",
          "Africa",
          "Africa",
          "Africa",
          "Africa",
          "Africa",
          "Africa",
          "Africa",
          "Africa",
          "Africa",
          "Africa",
          "Africa",
          "Africa",
          "Africa",
          "Africa",
          "Africa",
          "Africa",
          "Africa",
          "Africa",
          "Africa",
          "Africa",
          "Asia",
          "Asia",
          "Asia",
          "Asia",
          "Asia",
          "Asia",
          "Asia",
          "Asia",
          "Asia",
          "Asia",
          "Africa",
          "Africa",
          "Africa",
          "Africa",
          "Africa",
          "Africa",
          "Africa",
          "Africa",
          "Africa",
          "Africa",
          "Americas",
          "Americas",
          "Americas",
          "Americas",
          "Americas",
          "Americas",
          "Americas",
          "Americas",
          "Americas",
          "Americas",
          "Africa",
          "Africa",
          "Africa",
          "Africa",
          "Africa",
          "Africa",
          "Africa",
          "Africa",
          "Africa",
          "Africa",
          "Africa",
          "Africa",
          "Africa",
          "Africa",
          "Africa",
          "Africa",
          "Africa",
          "Africa",
          "Africa",
          "Africa",
          "Americas",
          "Americas",
          "Americas",
          "Americas",
          "Americas",
          "Americas",
          "Americas",
          "Americas",
          "Americas",
          "Americas",
          "Asia",
          "Asia",
          "Asia",
          "Asia",
          "Asia",
          "Asia",
          "Asia",
          "Asia",
          "Asia",
          "Asia",
          "Americas",
          "Americas",
          "Americas",
          "Americas",
          "Americas",
          "Americas",
          "Americas",
          "Americas",
          "Americas",
          "Americas",
          "Africa",
          "Africa",
          "Africa",
          "Africa",
          "Africa",
          "Africa",
          "Africa",
          "Africa",
          "Africa",
          "Africa",
          "Americas",
          "Americas",
          "Americas",
          "Americas",
          "Americas",
          "Americas",
          "Americas",
          "Americas",
          "Americas",
          "Americas",
          "Africa",
          "Africa",
          "Africa",
          "Africa",
          "Africa",
          "Africa",
          "Africa",
          "Africa",
          "Africa",
          "Africa",
          "Europe",
          "Europe",
          "Europe",
          "Europe",
          "Americas",
          "Americas",
          "Americas",
          "Americas",
          "Americas",
          "Americas",
          "Americas",
          "Americas",
          "Americas",
          "Americas",
          "Europe",
          "Europe",
          "Europe",
          "Europe",
          "Europe",
          "Europe",
          "Europe",
          "Europe",
          "Europe",
          "Europe",
          "Europe",
          "Europe",
          "Europe",
          "Europe",
          "Africa",
          "Africa",
          "Africa",
          "Africa",
          "Africa",
          "Africa",
          "Africa",
          "Africa",
          "Africa",
          "Africa",
          "Americas",
          "Americas",
          "Americas",
          "Americas",
          "Americas",
          "Americas",
          "Americas",
          "Americas",
          "Americas",
          "Americas",
          "Americas",
          "Americas",
          "Americas",
          "Americas",
          "Americas",
          "Americas",
          "Americas",
          "Americas",
          "Americas",
          "Americas",
          "Americas",
          "Americas",
          "Americas",
          "Americas",
          "Americas",
          "Americas",
          "Americas",
          "Americas",
          "Americas",
          "Americas",
          "Africa",
          "Africa",
          "Africa",
          "Africa",
          "Africa",
          "Africa",
          "Africa",
          "Africa",
          "Africa",
          "Africa",
          "Africa",
          "Africa",
          "Africa",
          "Africa",
          "Africa",
          "Africa",
          "Africa",
          "Africa",
          "Africa",
          "Africa",
          "Africa",
          "Africa",
          "Africa",
          "Europe",
          "Europe",
          "Europe",
          "Europe",
          "Europe",
          "Europe",
          "Europe",
          "Europe",
          "Europe",
          "Europe",
          "Europe",
          "Europe",
          "Europe",
          "Europe",
          "Europe",
          "Europe",
          "Europe",
          "Europe",
          "Europe",
          "Europe",
          "Africa",
          "Africa",
          "Africa",
          "Africa",
          "Africa",
          "Africa",
          "Africa",
          "Africa",
          "Africa",
          "Africa",
          "Europe",
          "Europe",
          "Europe",
          "Europe",
          "Africa",
          "Africa",
          "Africa",
          "Africa",
          "Africa",
          "Africa",
          "Africa",
          "Africa",
          "Africa",
          "Africa",
          "Europe",
          "Europe",
          "Europe",
          "Europe",
          "Europe",
          "Europe",
          "Europe",
          "Europe",
          "Europe",
          "Europe",
          "Americas",
          "Americas",
          "Americas",
          "Americas",
          "Americas",
          "Americas",
          "Americas",
          "Americas",
          "Americas",
          "Americas",
          "Africa",
          "Africa",
          "Africa",
          "Africa",
          "Africa",
          "Africa",
          "Africa",
          "Africa",
          "Africa",
          "Africa",
          "Africa",
          "Africa",
          "Africa",
          "Africa",
          "Africa",
          "Africa",
          "Africa",
          "Africa",
          "Africa",
          "Africa",
          "Americas",
          "Americas",
          "Americas",
          "Americas",
          "Americas",
          "Americas",
          "Americas",
          "Americas",
          "Americas",
          "Americas",
          "Americas",
          "Americas",
          "Americas",
          "Americas",
          "Americas",
          "Americas",
          "Americas",
          "Americas",
          "Americas",
          "Americas",
          "Europe",
          "Europe",
          "Europe",
          "Europe",
          "Europe",
          "Europe",
          "Europe",
          "Europe",
          "Europe",
          "Europe",
          "Europe",
          "Europe",
          "Europe",
          "Europe",
          "Europe",
          "Europe",
          "Europe",
          "Europe",
          "Europe",
          "Europe",
          "Asia",
          "Asia",
          "Asia",
          "Asia",
          "Asia",
          "Asia",
          "Asia",
          "Asia",
          "Asia",
          "Asia",
          "Asia",
          "Asia",
          "Asia",
          "Asia",
          "Asia",
          "Asia",
          "Asia",
          "Asia",
          "Asia",
          "Asia",
          "Asia",
          "Asia",
          "Asia",
          "Asia",
          "Asia",
          "Asia",
          "Asia",
          "Asia",
          "Asia",
          "Asia",
          "Europe",
          "Europe",
          "Europe",
          "Europe",
          "Europe",
          "Europe",
          "Europe",
          "Europe",
          "Europe",
          "Europe",
          "Asia",
          "Asia",
          "Asia",
          "Asia",
          "Asia",
          "Asia",
          "Asia",
          "Asia",
          "Asia",
          "Asia",
          "Europe",
          "Europe",
          "Europe",
          "Europe",
          "Europe",
          "Europe",
          "Europe",
          "Europe",
          "Europe",
          "Europe",
          "Americas",
          "Americas",
          "Americas",
          "Americas",
          "Americas",
          "Americas",
          "Americas",
          "Americas",
          "Americas",
          "Americas",
          "Asia",
          "Asia",
          "Asia",
          "Asia",
          "Asia",
          "Asia",
          "Asia",
          "Asia",
          "Asia",
          "Asia",
          "Asia",
          "Asia",
          "Asia",
          "Asia",
          "Asia",
          "Asia",
          "Asia",
          "Asia",
          "Asia",
          "Asia",
          "Africa",
          "Africa",
          "Africa",
          "Africa",
          "Africa",
          "Africa",
          "Africa",
          "Africa",
          "Africa",
          "Africa",
          "Asia",
          "Asia",
          "Asia",
          "Asia",
          "Asia",
          "Asia",
          "Asia",
          "Asia",
          "Asia",
          "Asia",
          "Asia",
          "Asia",
          "Asia",
          "Asia",
          "Asia",
          "Asia",
          "Asia",
          "Asia",
          "Asia",
          "Africa",
          "Africa",
          "Africa",
          "Africa",
          "Africa",
          "Africa",
          "Africa",
          "Africa",
          "Africa",
          "Africa",
          "Africa",
          "Africa",
          "Africa",
          "Africa",
          "Africa",
          "Africa",
          "Africa",
          "Africa",
          "Africa",
          "Africa",
          "Africa",
          "Africa",
          "Africa",
          "Africa",
          "Africa",
          "Africa",
          "Africa",
          "Africa",
          "Africa",
          "Africa",
          "Africa",
          "Africa",
          "Africa",
          "Africa",
          "Africa",
          "Africa",
          "Africa",
          "Africa",
          "Africa",
          "Africa",
          "Asia",
          "Asia",
          "Asia",
          "Asia",
          "Asia",
          "Asia",
          "Asia",
          "Asia",
          "Africa",
          "Africa",
          "Africa",
          "Africa",
          "Africa",
          "Africa",
          "Africa",
          "Africa",
          "Africa",
          "Africa",
          "Africa",
          "Africa",
          "Africa",
          "Africa",
          "Africa",
          "Africa",
          "Africa",
          "Africa",
          "Africa",
          "Africa",
          "Africa",
          "Africa",
          "Africa",
          "Africa",
          "Africa",
          "Africa",
          "Africa",
          "Africa",
          "Africa",
          "Africa",
          "Americas",
          "Americas",
          "Americas",
          "Americas",
          "Americas",
          "Americas",
          "Americas",
          "Americas",
          "Americas",
          "Americas",
          "Asia",
          "Asia",
          "Asia",
          "Asia",
          "Asia",
          "Asia",
          "Asia",
          "Asia",
          "Asia",
          "Asia",
          "Europe",
          "Africa",
          "Africa",
          "Africa",
          "Africa",
          "Africa",
          "Africa",
          "Africa",
          "Africa",
          "Africa",
          "Africa",
          "Africa",
          "Africa",
          "Africa",
          "Africa",
          "Africa",
          "Africa",
          "Africa",
          "Africa",
          "Africa",
          "Africa",
          "Asia",
          "Asia",
          "Asia",
          "Asia",
          "Asia",
          "Asia",
          "Asia",
          "Asia",
          "Asia",
          "Asia",
          "Africa",
          "Africa",
          "Africa",
          "Africa",
          "Asia",
          "Asia",
          "Asia",
          "Asia",
          "Asia",
          "Asia",
          "Asia",
          "Asia",
          "Asia",
          "Asia",
          "Europe",
          "Europe",
          "Europe",
          "Europe",
          "Europe",
          "Europe",
          "Europe",
          "Europe",
          "Europe",
          "Europe",
          "Oceania",
          "Oceania",
          "Oceania",
          "Oceania",
          "Oceania",
          "Oceania",
          "Oceania",
          "Oceania",
          "Oceania",
          "Oceania",
          "Americas",
          "Americas",
          "Americas",
          "Americas",
          "Americas",
          "Americas",
          "Americas",
          "Americas",
          "Americas",
          "Americas",
          "Africa",
          "Africa",
          "Africa",
          "Africa",
          "Africa",
          "Africa",
          "Africa",
          "Africa",
          "Africa",
          "Africa",
          "Africa",
          "Africa",
          "Africa",
          "Africa",
          "Africa",
          "Africa",
          "Africa",
          "Africa",
          "Africa",
          "Africa",
          "Europe",
          "Europe",
          "Europe",
          "Europe",
          "Europe",
          "Europe",
          "Europe",
          "Europe",
          "Europe",
          "Europe",
          "Asia",
          "Asia",
          "Asia",
          "Asia",
          "Asia",
          "Asia",
          "Asia",
          "Asia",
          "Asia",
          "Asia",
          "Asia",
          "Asia",
          "Asia",
          "Asia",
          "Asia",
          "Asia",
          "Asia",
          "Asia",
          "Asia",
          "Americas",
          "Americas",
          "Americas",
          "Americas",
          "Americas",
          "Americas",
          "Americas",
          "Americas",
          "Americas",
          "Americas",
          "Americas",
          "Americas",
          "Americas",
          "Americas",
          "Americas",
          "Americas",
          "Americas",
          "Americas",
          "Americas",
          "Americas",
          "Americas",
          "Americas",
          "Americas",
          "Americas",
          "Americas",
          "Americas",
          "Americas",
          "Americas",
          "Americas",
          "Americas",
          "Asia",
          "Asia",
          "Asia",
          "Asia",
          "Asia",
          "Asia",
          "Asia",
          "Asia",
          "Asia",
          "Asia",
          "Europe",
          "Europe",
          "Europe",
          "Europe",
          "Europe",
          "Europe",
          "Europe",
          "Europe",
          "Europe",
          "Europe",
          "Europe",
          "Europe",
          "Europe",
          "Europe",
          "Europe",
          "Europe",
          "Europe",
          "Europe",
          "Europe",
          "Europe",
          "Europe",
          "Europe",
          "Europe",
          "Europe",
          "Europe",
          "Europe",
          "Europe",
          "Europe",
          "Europe",
          "Europe",
          "Africa",
          "Africa",
          "Africa",
          "Africa",
          "Africa",
          "Africa",
          "Africa",
          "Africa",
          "Africa",
          "Africa",
          "Africa",
          "Africa",
          "Africa",
          "Africa",
          "Africa",
          "Africa",
          "Africa",
          "Africa",
          "Africa",
          "Africa",
          "Asia",
          "Asia",
          "Asia",
          "Asia",
          "Asia",
          "Asia",
          "Asia",
          "Asia",
          "Asia",
          "Asia",
          "Africa",
          "Africa",
          "Africa",
          "Africa",
          "Africa",
          "Africa",
          "Africa",
          "Africa",
          "Africa",
          "Africa",
          "Europe",
          "Africa",
          "Africa",
          "Africa",
          "Africa",
          "Africa",
          "Africa",
          "Africa",
          "Africa",
          "Africa",
          "Africa",
          "Asia",
          "Asia",
          "Asia",
          "Asia",
          "Asia",
          "Asia",
          "Asia",
          "Asia",
          "Asia",
          "Asia",
          "Europe",
          "Europe",
          "Europe",
          "Europe",
          "Europe",
          "Europe",
          "Europe",
          "Europe",
          "Africa",
          "Africa",
          "Africa",
          "Africa",
          "Africa",
          "Africa",
          "Africa",
          "Africa",
          "Africa",
          "Africa",
          "Africa",
          "Africa",
          "Africa",
          "Africa",
          "Africa",
          "Africa",
          "Africa",
          "Africa",
          "Africa",
          "Europe",
          "Europe",
          "Europe",
          "Europe",
          "Europe",
          "Europe",
          "Europe",
          "Europe",
          "Europe",
          "Europe",
          "Asia",
          "Asia",
          "Asia",
          "Asia",
          "Asia",
          "Asia",
          "Asia",
          "Asia",
          "Asia",
          "Asia",
          "Africa",
          "Africa",
          "Africa",
          "Africa",
          "Africa",
          "Africa",
          "Africa",
          "Africa",
          "Africa",
          "Africa",
          "Africa",
          "Africa",
          "Africa",
          "Africa",
          "Africa",
          "Africa",
          "Africa",
          "Africa",
          "Africa",
          "Europe",
          "Europe",
          "Europe",
          "Europe",
          "Europe",
          "Europe",
          "Europe",
          "Europe",
          "Europe",
          "Europe",
          "Europe",
          "Europe",
          "Europe",
          "Europe",
          "Europe",
          "Europe",
          "Europe",
          "Europe",
          "Europe",
          "Europe",
          "Africa",
          "Africa",
          "Africa",
          "Africa",
          "Africa",
          "Africa",
          "Africa",
          "Africa",
          "Africa",
          "Africa",
          "Asia",
          "Asia",
          "Asia",
          "Asia",
          "Asia",
          "Asia",
          "Asia",
          "Asia",
          "Asia",
          "Asia",
          "Africa",
          "Africa",
          "Africa",
          "Africa",
          "Africa",
          "Africa",
          "Africa",
          "Africa",
          "Africa",
          "Africa",
          "Americas",
          "Americas",
          "Americas",
          "Americas",
          "Americas",
          "Americas",
          "Americas",
          "Americas",
          "Americas",
          "Americas",
          "Africa",
          "Africa",
          "Africa",
          "Africa",
          "Africa",
          "Africa",
          "Africa",
          "Africa",
          "Africa",
          "Africa",
          "Europe",
          "Europe",
          "Europe",
          "Europe",
          "Europe",
          "Europe",
          "Europe",
          "Europe",
          "Europe",
          "Europe",
          "Africa",
          "Africa",
          "Africa",
          "Africa",
          "Africa",
          "Africa",
          "Africa",
          "Africa",
          "Africa",
          "Africa",
          "Europe",
          "Europe",
          "Europe",
          "Europe",
          "Europe",
          "Europe",
          "Europe",
          "Europe",
          "Europe",
          "Europe",
          "Americas",
          "Americas",
          "Americas",
          "Americas",
          "Americas",
          "Americas",
          "Americas",
          "Americas",
          "Americas",
          "Americas",
          "Americas",
          "Americas",
          "Americas",
          "Americas",
          "Americas",
          "Americas",
          "Americas",
          "Americas",
          "Americas",
          "Americas",
          "Asia",
          "Asia",
          "Asia",
          "Asia",
          "Asia",
          "Asia",
          "Asia",
          "Asia",
          "Asia",
          "Asia",
          "Asia",
          "Asia",
          "Asia",
          "Africa",
          "Africa",
          "Africa",
          "Africa",
          "Africa",
          "Africa",
          "Africa",
          "Africa",
          "Africa",
          "Africa",
          "Africa",
          "Africa",
          "Africa",
          "Africa",
          "Africa",
          "Africa",
          "Africa",
          "Africa"
         ],
         "y0": " ",
         "yaxis": "y"
        }
       ],
       "layout": {
        "boxmode": "group",
        "legend": {
         "tracegroupgap": 0
        },
        "margin": {
         "t": 60
        },
        "template": {
         "data": {
          "bar": [
           {
            "error_x": {
             "color": "#2a3f5f"
            },
            "error_y": {
             "color": "#2a3f5f"
            },
            "marker": {
             "line": {
              "color": "#E5ECF6",
              "width": 0.5
             }
            },
            "type": "bar"
           }
          ],
          "barpolar": [
           {
            "marker": {
             "line": {
              "color": "#E5ECF6",
              "width": 0.5
             }
            },
            "type": "barpolar"
           }
          ],
          "carpet": [
           {
            "aaxis": {
             "endlinecolor": "#2a3f5f",
             "gridcolor": "white",
             "linecolor": "white",
             "minorgridcolor": "white",
             "startlinecolor": "#2a3f5f"
            },
            "baxis": {
             "endlinecolor": "#2a3f5f",
             "gridcolor": "white",
             "linecolor": "white",
             "minorgridcolor": "white",
             "startlinecolor": "#2a3f5f"
            },
            "type": "carpet"
           }
          ],
          "choropleth": [
           {
            "colorbar": {
             "outlinewidth": 0,
             "ticks": ""
            },
            "type": "choropleth"
           }
          ],
          "contour": [
           {
            "colorbar": {
             "outlinewidth": 0,
             "ticks": ""
            },
            "colorscale": [
             [
              0,
              "#0d0887"
             ],
             [
              0.1111111111111111,
              "#46039f"
             ],
             [
              0.2222222222222222,
              "#7201a8"
             ],
             [
              0.3333333333333333,
              "#9c179e"
             ],
             [
              0.4444444444444444,
              "#bd3786"
             ],
             [
              0.5555555555555556,
              "#d8576b"
             ],
             [
              0.6666666666666666,
              "#ed7953"
             ],
             [
              0.7777777777777778,
              "#fb9f3a"
             ],
             [
              0.8888888888888888,
              "#fdca26"
             ],
             [
              1,
              "#f0f921"
             ]
            ],
            "type": "contour"
           }
          ],
          "contourcarpet": [
           {
            "colorbar": {
             "outlinewidth": 0,
             "ticks": ""
            },
            "type": "contourcarpet"
           }
          ],
          "heatmap": [
           {
            "colorbar": {
             "outlinewidth": 0,
             "ticks": ""
            },
            "colorscale": [
             [
              0,
              "#0d0887"
             ],
             [
              0.1111111111111111,
              "#46039f"
             ],
             [
              0.2222222222222222,
              "#7201a8"
             ],
             [
              0.3333333333333333,
              "#9c179e"
             ],
             [
              0.4444444444444444,
              "#bd3786"
             ],
             [
              0.5555555555555556,
              "#d8576b"
             ],
             [
              0.6666666666666666,
              "#ed7953"
             ],
             [
              0.7777777777777778,
              "#fb9f3a"
             ],
             [
              0.8888888888888888,
              "#fdca26"
             ],
             [
              1,
              "#f0f921"
             ]
            ],
            "type": "heatmap"
           }
          ],
          "heatmapgl": [
           {
            "colorbar": {
             "outlinewidth": 0,
             "ticks": ""
            },
            "colorscale": [
             [
              0,
              "#0d0887"
             ],
             [
              0.1111111111111111,
              "#46039f"
             ],
             [
              0.2222222222222222,
              "#7201a8"
             ],
             [
              0.3333333333333333,
              "#9c179e"
             ],
             [
              0.4444444444444444,
              "#bd3786"
             ],
             [
              0.5555555555555556,
              "#d8576b"
             ],
             [
              0.6666666666666666,
              "#ed7953"
             ],
             [
              0.7777777777777778,
              "#fb9f3a"
             ],
             [
              0.8888888888888888,
              "#fdca26"
             ],
             [
              1,
              "#f0f921"
             ]
            ],
            "type": "heatmapgl"
           }
          ],
          "histogram": [
           {
            "marker": {
             "colorbar": {
              "outlinewidth": 0,
              "ticks": ""
             }
            },
            "type": "histogram"
           }
          ],
          "histogram2d": [
           {
            "colorbar": {
             "outlinewidth": 0,
             "ticks": ""
            },
            "colorscale": [
             [
              0,
              "#0d0887"
             ],
             [
              0.1111111111111111,
              "#46039f"
             ],
             [
              0.2222222222222222,
              "#7201a8"
             ],
             [
              0.3333333333333333,
              "#9c179e"
             ],
             [
              0.4444444444444444,
              "#bd3786"
             ],
             [
              0.5555555555555556,
              "#d8576b"
             ],
             [
              0.6666666666666666,
              "#ed7953"
             ],
             [
              0.7777777777777778,
              "#fb9f3a"
             ],
             [
              0.8888888888888888,
              "#fdca26"
             ],
             [
              1,
              "#f0f921"
             ]
            ],
            "type": "histogram2d"
           }
          ],
          "histogram2dcontour": [
           {
            "colorbar": {
             "outlinewidth": 0,
             "ticks": ""
            },
            "colorscale": [
             [
              0,
              "#0d0887"
             ],
             [
              0.1111111111111111,
              "#46039f"
             ],
             [
              0.2222222222222222,
              "#7201a8"
             ],
             [
              0.3333333333333333,
              "#9c179e"
             ],
             [
              0.4444444444444444,
              "#bd3786"
             ],
             [
              0.5555555555555556,
              "#d8576b"
             ],
             [
              0.6666666666666666,
              "#ed7953"
             ],
             [
              0.7777777777777778,
              "#fb9f3a"
             ],
             [
              0.8888888888888888,
              "#fdca26"
             ],
             [
              1,
              "#f0f921"
             ]
            ],
            "type": "histogram2dcontour"
           }
          ],
          "mesh3d": [
           {
            "colorbar": {
             "outlinewidth": 0,
             "ticks": ""
            },
            "type": "mesh3d"
           }
          ],
          "parcoords": [
           {
            "line": {
             "colorbar": {
              "outlinewidth": 0,
              "ticks": ""
             }
            },
            "type": "parcoords"
           }
          ],
          "pie": [
           {
            "automargin": true,
            "type": "pie"
           }
          ],
          "scatter": [
           {
            "marker": {
             "colorbar": {
              "outlinewidth": 0,
              "ticks": ""
             }
            },
            "type": "scatter"
           }
          ],
          "scatter3d": [
           {
            "line": {
             "colorbar": {
              "outlinewidth": 0,
              "ticks": ""
             }
            },
            "marker": {
             "colorbar": {
              "outlinewidth": 0,
              "ticks": ""
             }
            },
            "type": "scatter3d"
           }
          ],
          "scattercarpet": [
           {
            "marker": {
             "colorbar": {
              "outlinewidth": 0,
              "ticks": ""
             }
            },
            "type": "scattercarpet"
           }
          ],
          "scattergeo": [
           {
            "marker": {
             "colorbar": {
              "outlinewidth": 0,
              "ticks": ""
             }
            },
            "type": "scattergeo"
           }
          ],
          "scattergl": [
           {
            "marker": {
             "colorbar": {
              "outlinewidth": 0,
              "ticks": ""
             }
            },
            "type": "scattergl"
           }
          ],
          "scattermapbox": [
           {
            "marker": {
             "colorbar": {
              "outlinewidth": 0,
              "ticks": ""
             }
            },
            "type": "scattermapbox"
           }
          ],
          "scatterpolar": [
           {
            "marker": {
             "colorbar": {
              "outlinewidth": 0,
              "ticks": ""
             }
            },
            "type": "scatterpolar"
           }
          ],
          "scatterpolargl": [
           {
            "marker": {
             "colorbar": {
              "outlinewidth": 0,
              "ticks": ""
             }
            },
            "type": "scatterpolargl"
           }
          ],
          "scatterternary": [
           {
            "marker": {
             "colorbar": {
              "outlinewidth": 0,
              "ticks": ""
             }
            },
            "type": "scatterternary"
           }
          ],
          "surface": [
           {
            "colorbar": {
             "outlinewidth": 0,
             "ticks": ""
            },
            "colorscale": [
             [
              0,
              "#0d0887"
             ],
             [
              0.1111111111111111,
              "#46039f"
             ],
             [
              0.2222222222222222,
              "#7201a8"
             ],
             [
              0.3333333333333333,
              "#9c179e"
             ],
             [
              0.4444444444444444,
              "#bd3786"
             ],
             [
              0.5555555555555556,
              "#d8576b"
             ],
             [
              0.6666666666666666,
              "#ed7953"
             ],
             [
              0.7777777777777778,
              "#fb9f3a"
             ],
             [
              0.8888888888888888,
              "#fdca26"
             ],
             [
              1,
              "#f0f921"
             ]
            ],
            "type": "surface"
           }
          ],
          "table": [
           {
            "cells": {
             "fill": {
              "color": "#EBF0F8"
             },
             "line": {
              "color": "white"
             }
            },
            "header": {
             "fill": {
              "color": "#C8D4E3"
             },
             "line": {
              "color": "white"
             }
            },
            "type": "table"
           }
          ]
         },
         "layout": {
          "annotationdefaults": {
           "arrowcolor": "#2a3f5f",
           "arrowhead": 0,
           "arrowwidth": 1
          },
          "autotypenumbers": "strict",
          "coloraxis": {
           "colorbar": {
            "outlinewidth": 0,
            "ticks": ""
           }
          },
          "colorscale": {
           "diverging": [
            [
             0,
             "#8e0152"
            ],
            [
             0.1,
             "#c51b7d"
            ],
            [
             0.2,
             "#de77ae"
            ],
            [
             0.3,
             "#f1b6da"
            ],
            [
             0.4,
             "#fde0ef"
            ],
            [
             0.5,
             "#f7f7f7"
            ],
            [
             0.6,
             "#e6f5d0"
            ],
            [
             0.7,
             "#b8e186"
            ],
            [
             0.8,
             "#7fbc41"
            ],
            [
             0.9,
             "#4d9221"
            ],
            [
             1,
             "#276419"
            ]
           ],
           "sequential": [
            [
             0,
             "#0d0887"
            ],
            [
             0.1111111111111111,
             "#46039f"
            ],
            [
             0.2222222222222222,
             "#7201a8"
            ],
            [
             0.3333333333333333,
             "#9c179e"
            ],
            [
             0.4444444444444444,
             "#bd3786"
            ],
            [
             0.5555555555555556,
             "#d8576b"
            ],
            [
             0.6666666666666666,
             "#ed7953"
            ],
            [
             0.7777777777777778,
             "#fb9f3a"
            ],
            [
             0.8888888888888888,
             "#fdca26"
            ],
            [
             1,
             "#f0f921"
            ]
           ],
           "sequentialminus": [
            [
             0,
             "#0d0887"
            ],
            [
             0.1111111111111111,
             "#46039f"
            ],
            [
             0.2222222222222222,
             "#7201a8"
            ],
            [
             0.3333333333333333,
             "#9c179e"
            ],
            [
             0.4444444444444444,
             "#bd3786"
            ],
            [
             0.5555555555555556,
             "#d8576b"
            ],
            [
             0.6666666666666666,
             "#ed7953"
            ],
            [
             0.7777777777777778,
             "#fb9f3a"
            ],
            [
             0.8888888888888888,
             "#fdca26"
            ],
            [
             1,
             "#f0f921"
            ]
           ]
          },
          "colorway": [
           "#636efa",
           "#EF553B",
           "#00cc96",
           "#ab63fa",
           "#FFA15A",
           "#19d3f3",
           "#FF6692",
           "#B6E880",
           "#FF97FF",
           "#FECB52"
          ],
          "font": {
           "color": "#2a3f5f"
          },
          "geo": {
           "bgcolor": "white",
           "lakecolor": "white",
           "landcolor": "#E5ECF6",
           "showlakes": true,
           "showland": true,
           "subunitcolor": "white"
          },
          "hoverlabel": {
           "align": "left"
          },
          "hovermode": "closest",
          "mapbox": {
           "style": "light"
          },
          "paper_bgcolor": "white",
          "plot_bgcolor": "#E5ECF6",
          "polar": {
           "angularaxis": {
            "gridcolor": "white",
            "linecolor": "white",
            "ticks": ""
           },
           "bgcolor": "#E5ECF6",
           "radialaxis": {
            "gridcolor": "white",
            "linecolor": "white",
            "ticks": ""
           }
          },
          "scene": {
           "xaxis": {
            "backgroundcolor": "#E5ECF6",
            "gridcolor": "white",
            "gridwidth": 2,
            "linecolor": "white",
            "showbackground": true,
            "ticks": "",
            "zerolinecolor": "white"
           },
           "yaxis": {
            "backgroundcolor": "#E5ECF6",
            "gridcolor": "white",
            "gridwidth": 2,
            "linecolor": "white",
            "showbackground": true,
            "ticks": "",
            "zerolinecolor": "white"
           },
           "zaxis": {
            "backgroundcolor": "#E5ECF6",
            "gridcolor": "white",
            "gridwidth": 2,
            "linecolor": "white",
            "showbackground": true,
            "ticks": "",
            "zerolinecolor": "white"
           }
          },
          "shapedefaults": {
           "line": {
            "color": "#2a3f5f"
           }
          },
          "ternary": {
           "aaxis": {
            "gridcolor": "white",
            "linecolor": "white",
            "ticks": ""
           },
           "baxis": {
            "gridcolor": "white",
            "linecolor": "white",
            "ticks": ""
           },
           "bgcolor": "#E5ECF6",
           "caxis": {
            "gridcolor": "white",
            "linecolor": "white",
            "ticks": ""
           }
          },
          "title": {
           "x": 0.05
          },
          "xaxis": {
           "automargin": true,
           "gridcolor": "white",
           "linecolor": "white",
           "ticks": "",
           "title": {
            "standoff": 15
           },
           "zerolinecolor": "white",
           "zerolinewidth": 2
          },
          "yaxis": {
           "automargin": true,
           "gridcolor": "white",
           "linecolor": "white",
           "ticks": "",
           "title": {
            "standoff": 15
           },
           "zerolinecolor": "white",
           "zerolinewidth": 2
          }
         }
        },
        "xaxis": {
         "anchor": "y",
         "domain": [
          0,
          1
         ],
         "title": {
          "text": "Energy use (kg of oil equivalent per capita)"
         }
        },
        "yaxis": {
         "anchor": "x",
         "domain": [
          0,
          1
         ],
         "title": {
          "text": "continent"
         }
        }
       }
      },
      "text/html": [
       "<div>                            <div id=\"5821a203-4595-499a-b053-bc5dfcd3b8dc\" class=\"plotly-graph-div\" style=\"height:525px; width:100%;\"></div>            <script type=\"text/javascript\">                require([\"plotly\"], function(Plotly) {                    window.PLOTLYENV=window.PLOTLYENV || {};                                    if (document.getElementById(\"5821a203-4595-499a-b053-bc5dfcd3b8dc\")) {                    Plotly.newPlot(                        \"5821a203-4595-499a-b053-bc5dfcd3b8dc\",                        [{\"alignmentgroup\": \"True\", \"customdata\": [[\"Afghanistan\"], [\"Afghanistan\"], [\"Afghanistan\"], [\"Afghanistan\"], [\"Afghanistan\"], [\"Afghanistan\"], [\"Afghanistan\"], [\"Afghanistan\"], [\"Afghanistan\"], [\"Afghanistan\"], [\"Albania\"], [\"Albania\"], [\"Albania\"], [\"Albania\"], [\"Albania\"], [\"Albania\"], [\"Albania\"], [\"Albania\"], [\"Albania\"], [\"Albania\"], [\"Algeria\"], [\"Algeria\"], [\"Algeria\"], [\"Algeria\"], [\"Algeria\"], [\"Algeria\"], [\"Algeria\"], [\"Algeria\"], [\"Algeria\"], [\"Algeria\"], [\"Angola\"], [\"Angola\"], [\"Angola\"], [\"Angola\"], [\"Angola\"], [\"Angola\"], [\"Angola\"], [\"Angola\"], [\"Angola\"], [\"Angola\"], [\"Argentina\"], [\"Argentina\"], [\"Argentina\"], [\"Argentina\"], [\"Argentina\"], [\"Argentina\"], [\"Argentina\"], [\"Argentina\"], [\"Argentina\"], [\"Argentina\"], [\"Australia\"], [\"Australia\"], [\"Australia\"], [\"Australia\"], [\"Australia\"], [\"Australia\"], [\"Australia\"], [\"Australia\"], [\"Australia\"], [\"Australia\"], [\"Austria\"], [\"Austria\"], [\"Austria\"], [\"Austria\"], [\"Austria\"], [\"Austria\"], [\"Austria\"], [\"Austria\"], [\"Austria\"], [\"Austria\"], [\"Bahrain\"], [\"Bahrain\"], [\"Bahrain\"], [\"Bahrain\"], [\"Bahrain\"], [\"Bahrain\"], [\"Bahrain\"], [\"Bahrain\"], [\"Bahrain\"], [\"Bahrain\"], [\"Bangladesh\"], [\"Bangladesh\"], [\"Bangladesh\"], [\"Bangladesh\"], [\"Bangladesh\"], [\"Bangladesh\"], [\"Bangladesh\"], [\"Bangladesh\"], [\"Belgium\"], [\"Belgium\"], [\"Belgium\"], [\"Belgium\"], [\"Belgium\"], [\"Belgium\"], [\"Belgium\"], [\"Belgium\"], [\"Belgium\"], [\"Belgium\"], [\"Benin\"], [\"Benin\"], [\"Benin\"], [\"Benin\"], [\"Benin\"], [\"Benin\"], [\"Benin\"], [\"Benin\"], [\"Benin\"], [\"Benin\"], [\"Bolivia\"], [\"Bolivia\"], [\"Bolivia\"], [\"Bolivia\"], [\"Bolivia\"], [\"Bolivia\"], [\"Bolivia\"], [\"Bolivia\"], [\"Bolivia\"], [\"Bolivia\"], [\"Bosnia and Herzegovina\"], [\"Bosnia and Herzegovina\"], [\"Bosnia and Herzegovina\"], [\"Bosnia and Herzegovina\"], [\"Botswana\"], [\"Botswana\"], [\"Botswana\"], [\"Botswana\"], [\"Botswana\"], [\"Botswana\"], [\"Botswana\"], [\"Botswana\"], [\"Brazil\"], [\"Brazil\"], [\"Brazil\"], [\"Brazil\"], [\"Brazil\"], [\"Brazil\"], [\"Brazil\"], [\"Brazil\"], [\"Brazil\"], [\"Brazil\"], [\"Bulgaria\"], [\"Bulgaria\"], [\"Bulgaria\"], [\"Bulgaria\"], [\"Bulgaria\"], [\"Bulgaria\"], [\"Bulgaria\"], [\"Bulgaria\"], [\"Bulgaria\"], [\"Bulgaria\"], [\"Burkina Faso\"], [\"Burkina Faso\"], [\"Burkina Faso\"], [\"Burkina Faso\"], [\"Burkina Faso\"], [\"Burkina Faso\"], [\"Burkina Faso\"], [\"Burkina Faso\"], [\"Burkina Faso\"], [\"Burkina Faso\"], [\"Burundi\"], [\"Burundi\"], [\"Burundi\"], [\"Burundi\"], [\"Burundi\"], [\"Burundi\"], [\"Burundi\"], [\"Burundi\"], [\"Burundi\"], [\"Burundi\"], [\"Cambodia\"], [\"Cambodia\"], [\"Cambodia\"], [\"Cambodia\"], [\"Cambodia\"], [\"Cambodia\"], [\"Cambodia\"], [\"Cambodia\"], [\"Cambodia\"], [\"Cambodia\"], [\"Cameroon\"], [\"Cameroon\"], [\"Cameroon\"], [\"Cameroon\"], [\"Cameroon\"], [\"Cameroon\"], [\"Cameroon\"], [\"Cameroon\"], [\"Cameroon\"], [\"Cameroon\"], [\"Canada\"], [\"Canada\"], [\"Canada\"], [\"Canada\"], [\"Canada\"], [\"Canada\"], [\"Canada\"], [\"Canada\"], [\"Canada\"], [\"Canada\"], [\"Central African Republic\"], [\"Central African Republic\"], [\"Central African Republic\"], [\"Central African Republic\"], [\"Central African Republic\"], [\"Central African Republic\"], [\"Central African Republic\"], [\"Central African Republic\"], [\"Central African Republic\"], [\"Central African Republic\"], [\"Chad\"], [\"Chad\"], [\"Chad\"], [\"Chad\"], [\"Chad\"], [\"Chad\"], [\"Chad\"], [\"Chad\"], [\"Chad\"], [\"Chad\"], [\"Chile\"], [\"Chile\"], [\"Chile\"], [\"Chile\"], [\"Chile\"], [\"Chile\"], [\"Chile\"], [\"Chile\"], [\"Chile\"], [\"Chile\"], [\"China\"], [\"China\"], [\"China\"], [\"China\"], [\"China\"], [\"China\"], [\"China\"], [\"China\"], [\"China\"], [\"China\"], [\"Colombia\"], [\"Colombia\"], [\"Colombia\"], [\"Colombia\"], [\"Colombia\"], [\"Colombia\"], [\"Colombia\"], [\"Colombia\"], [\"Colombia\"], [\"Colombia\"], [\"Comoros\"], [\"Comoros\"], [\"Comoros\"], [\"Comoros\"], [\"Comoros\"], [\"Comoros\"], [\"Comoros\"], [\"Comoros\"], [\"Comoros\"], [\"Comoros\"], [\"Costa Rica\"], [\"Costa Rica\"], [\"Costa Rica\"], [\"Costa Rica\"], [\"Costa Rica\"], [\"Costa Rica\"], [\"Costa Rica\"], [\"Costa Rica\"], [\"Costa Rica\"], [\"Costa Rica\"], [\"Cote d'Ivoire\"], [\"Cote d'Ivoire\"], [\"Cote d'Ivoire\"], [\"Cote d'Ivoire\"], [\"Cote d'Ivoire\"], [\"Cote d'Ivoire\"], [\"Cote d'Ivoire\"], [\"Cote d'Ivoire\"], [\"Cote d'Ivoire\"], [\"Cote d'Ivoire\"], [\"Croatia\"], [\"Croatia\"], [\"Croatia\"], [\"Croatia\"], [\"Cuba\"], [\"Cuba\"], [\"Cuba\"], [\"Cuba\"], [\"Cuba\"], [\"Cuba\"], [\"Cuba\"], [\"Cuba\"], [\"Cuba\"], [\"Cuba\"], [\"Czech Republic\"], [\"Czech Republic\"], [\"Czech Republic\"], [\"Czech Republic\"], [\"Denmark\"], [\"Denmark\"], [\"Denmark\"], [\"Denmark\"], [\"Denmark\"], [\"Denmark\"], [\"Denmark\"], [\"Denmark\"], [\"Denmark\"], [\"Denmark\"], [\"Djibouti\"], [\"Djibouti\"], [\"Djibouti\"], [\"Djibouti\"], [\"Djibouti\"], [\"Djibouti\"], [\"Djibouti\"], [\"Djibouti\"], [\"Djibouti\"], [\"Djibouti\"], [\"Dominican Republic\"], [\"Dominican Republic\"], [\"Dominican Republic\"], [\"Dominican Republic\"], [\"Dominican Republic\"], [\"Dominican Republic\"], [\"Dominican Republic\"], [\"Dominican Republic\"], [\"Dominican Republic\"], [\"Dominican Republic\"], [\"Ecuador\"], [\"Ecuador\"], [\"Ecuador\"], [\"Ecuador\"], [\"Ecuador\"], [\"Ecuador\"], [\"Ecuador\"], [\"Ecuador\"], [\"Ecuador\"], [\"Ecuador\"], [\"El Salvador\"], [\"El Salvador\"], [\"El Salvador\"], [\"El Salvador\"], [\"El Salvador\"], [\"El Salvador\"], [\"El Salvador\"], [\"El Salvador\"], [\"El Salvador\"], [\"El Salvador\"], [\"Equatorial Guinea\"], [\"Equatorial Guinea\"], [\"Equatorial Guinea\"], [\"Equatorial Guinea\"], [\"Equatorial Guinea\"], [\"Equatorial Guinea\"], [\"Equatorial Guinea\"], [\"Equatorial Guinea\"], [\"Equatorial Guinea\"], [\"Equatorial Guinea\"], [\"Eritrea\"], [\"Eritrea\"], [\"Eritrea\"], [\"Ethiopia\"], [\"Ethiopia\"], [\"Ethiopia\"], [\"Ethiopia\"], [\"Ethiopia\"], [\"Ethiopia\"], [\"Ethiopia\"], [\"Ethiopia\"], [\"Ethiopia\"], [\"Ethiopia\"], [\"Finland\"], [\"Finland\"], [\"Finland\"], [\"Finland\"], [\"Finland\"], [\"Finland\"], [\"Finland\"], [\"Finland\"], [\"Finland\"], [\"Finland\"], [\"France\"], [\"France\"], [\"France\"], [\"France\"], [\"France\"], [\"France\"], [\"France\"], [\"France\"], [\"France\"], [\"France\"], [\"Gabon\"], [\"Gabon\"], [\"Gabon\"], [\"Gabon\"], [\"Gabon\"], [\"Gabon\"], [\"Gabon\"], [\"Gabon\"], [\"Gabon\"], [\"Gabon\"], [\"Germany\"], [\"Germany\"], [\"Germany\"], [\"Germany\"], [\"Ghana\"], [\"Ghana\"], [\"Ghana\"], [\"Ghana\"], [\"Ghana\"], [\"Ghana\"], [\"Ghana\"], [\"Ghana\"], [\"Ghana\"], [\"Ghana\"], [\"Greece\"], [\"Greece\"], [\"Greece\"], [\"Greece\"], [\"Greece\"], [\"Greece\"], [\"Greece\"], [\"Greece\"], [\"Greece\"], [\"Greece\"], [\"Guatemala\"], [\"Guatemala\"], [\"Guatemala\"], [\"Guatemala\"], [\"Guatemala\"], [\"Guatemala\"], [\"Guatemala\"], [\"Guatemala\"], [\"Guatemala\"], [\"Guatemala\"], [\"Guinea\"], [\"Guinea\"], [\"Guinea\"], [\"Guinea\"], [\"Guinea\"], [\"Guinea\"], [\"Guinea\"], [\"Guinea\"], [\"Guinea\"], [\"Guinea\"], [\"Guinea-Bissau\"], [\"Guinea-Bissau\"], [\"Guinea-Bissau\"], [\"Guinea-Bissau\"], [\"Guinea-Bissau\"], [\"Guinea-Bissau\"], [\"Guinea-Bissau\"], [\"Guinea-Bissau\"], [\"Guinea-Bissau\"], [\"Guinea-Bissau\"], [\"Haiti\"], [\"Haiti\"], [\"Haiti\"], [\"Haiti\"], [\"Haiti\"], [\"Haiti\"], [\"Haiti\"], [\"Haiti\"], [\"Haiti\"], [\"Haiti\"], [\"Honduras\"], [\"Honduras\"], [\"Honduras\"], [\"Honduras\"], [\"Honduras\"], [\"Honduras\"], [\"Honduras\"], [\"Honduras\"], [\"Honduras\"], [\"Honduras\"], [\"Hungary\"], [\"Hungary\"], [\"Hungary\"], [\"Hungary\"], [\"Hungary\"], [\"Hungary\"], [\"Hungary\"], [\"Hungary\"], [\"Hungary\"], [\"Hungary\"], [\"Iceland\"], [\"Iceland\"], [\"Iceland\"], [\"Iceland\"], [\"Iceland\"], [\"Iceland\"], [\"Iceland\"], [\"Iceland\"], [\"Iceland\"], [\"Iceland\"], [\"India\"], [\"India\"], [\"India\"], [\"India\"], [\"India\"], [\"India\"], [\"India\"], [\"India\"], [\"India\"], [\"India\"], [\"Indonesia\"], [\"Indonesia\"], [\"Indonesia\"], [\"Indonesia\"], [\"Indonesia\"], [\"Indonesia\"], [\"Indonesia\"], [\"Indonesia\"], [\"Indonesia\"], [\"Indonesia\"], [\"Iraq\"], [\"Iraq\"], [\"Iraq\"], [\"Iraq\"], [\"Iraq\"], [\"Iraq\"], [\"Iraq\"], [\"Iraq\"], [\"Iraq\"], [\"Iraq\"], [\"Ireland\"], [\"Ireland\"], [\"Ireland\"], [\"Ireland\"], [\"Ireland\"], [\"Ireland\"], [\"Ireland\"], [\"Ireland\"], [\"Ireland\"], [\"Ireland\"], [\"Israel\"], [\"Israel\"], [\"Israel\"], [\"Israel\"], [\"Israel\"], [\"Israel\"], [\"Israel\"], [\"Israel\"], [\"Israel\"], [\"Israel\"], [\"Italy\"], [\"Italy\"], [\"Italy\"], [\"Italy\"], [\"Italy\"], [\"Italy\"], [\"Italy\"], [\"Italy\"], [\"Italy\"], [\"Italy\"], [\"Jamaica\"], [\"Jamaica\"], [\"Jamaica\"], [\"Jamaica\"], [\"Jamaica\"], [\"Jamaica\"], [\"Jamaica\"], [\"Jamaica\"], [\"Jamaica\"], [\"Jamaica\"], [\"Japan\"], [\"Japan\"], [\"Japan\"], [\"Japan\"], [\"Japan\"], [\"Japan\"], [\"Japan\"], [\"Japan\"], [\"Japan\"], [\"Japan\"], [\"Jordan\"], [\"Jordan\"], [\"Jordan\"], [\"Jordan\"], [\"Jordan\"], [\"Jordan\"], [\"Jordan\"], [\"Jordan\"], [\"Jordan\"], [\"Jordan\"], [\"Kenya\"], [\"Kenya\"], [\"Kenya\"], [\"Kenya\"], [\"Kenya\"], [\"Kenya\"], [\"Kenya\"], [\"Kenya\"], [\"Kenya\"], [\"Kenya\"], [\"Kuwait\"], [\"Kuwait\"], [\"Kuwait\"], [\"Kuwait\"], [\"Kuwait\"], [\"Kuwait\"], [\"Kuwait\"], [\"Kuwait\"], [\"Kuwait\"], [\"Lebanon\"], [\"Lebanon\"], [\"Lebanon\"], [\"Lebanon\"], [\"Lebanon\"], [\"Lebanon\"], [\"Lebanon\"], [\"Lebanon\"], [\"Lebanon\"], [\"Lebanon\"], [\"Lesotho\"], [\"Liberia\"], [\"Liberia\"], [\"Liberia\"], [\"Liberia\"], [\"Liberia\"], [\"Liberia\"], [\"Liberia\"], [\"Liberia\"], [\"Liberia\"], [\"Liberia\"], [\"Libya\"], [\"Libya\"], [\"Libya\"], [\"Libya\"], [\"Libya\"], [\"Libya\"], [\"Libya\"], [\"Libya\"], [\"Libya\"], [\"Libya\"], [\"Madagascar\"], [\"Madagascar\"], [\"Madagascar\"], [\"Madagascar\"], [\"Madagascar\"], [\"Madagascar\"], [\"Madagascar\"], [\"Madagascar\"], [\"Madagascar\"], [\"Madagascar\"], [\"Malawi\"], [\"Malawi\"], [\"Malawi\"], [\"Malawi\"], [\"Malawi\"], [\"Malawi\"], [\"Malawi\"], [\"Malawi\"], [\"Malawi\"], [\"Malaysia\"], [\"Malaysia\"], [\"Malaysia\"], [\"Malaysia\"], [\"Malaysia\"], [\"Malaysia\"], [\"Malaysia\"], [\"Malaysia\"], [\"Mali\"], [\"Mali\"], [\"Mali\"], [\"Mali\"], [\"Mali\"], [\"Mali\"], [\"Mali\"], [\"Mali\"], [\"Mali\"], [\"Mali\"], [\"Mauritania\"], [\"Mauritania\"], [\"Mauritania\"], [\"Mauritania\"], [\"Mauritania\"], [\"Mauritania\"], [\"Mauritania\"], [\"Mauritania\"], [\"Mauritania\"], [\"Mauritania\"], [\"Mauritius\"], [\"Mauritius\"], [\"Mauritius\"], [\"Mauritius\"], [\"Mauritius\"], [\"Mauritius\"], [\"Mauritius\"], [\"Mauritius\"], [\"Mauritius\"], [\"Mauritius\"], [\"Mexico\"], [\"Mexico\"], [\"Mexico\"], [\"Mexico\"], [\"Mexico\"], [\"Mexico\"], [\"Mexico\"], [\"Mexico\"], [\"Mexico\"], [\"Mexico\"], [\"Mongolia\"], [\"Mongolia\"], [\"Mongolia\"], [\"Mongolia\"], [\"Mongolia\"], [\"Mongolia\"], [\"Mongolia\"], [\"Mongolia\"], [\"Mongolia\"], [\"Mongolia\"], [\"Montenegro\"], [\"Morocco\"], [\"Morocco\"], [\"Morocco\"], [\"Morocco\"], [\"Morocco\"], [\"Morocco\"], [\"Morocco\"], [\"Morocco\"], [\"Morocco\"], [\"Morocco\"], [\"Mozambique\"], [\"Mozambique\"], [\"Mozambique\"], [\"Mozambique\"], [\"Mozambique\"], [\"Mozambique\"], [\"Mozambique\"], [\"Mozambique\"], [\"Mozambique\"], [\"Mozambique\"], [\"Myanmar\"], [\"Myanmar\"], [\"Myanmar\"], [\"Myanmar\"], [\"Myanmar\"], [\"Myanmar\"], [\"Myanmar\"], [\"Myanmar\"], [\"Myanmar\"], [\"Myanmar\"], [\"Namibia\"], [\"Namibia\"], [\"Namibia\"], [\"Namibia\"], [\"Nepal\"], [\"Nepal\"], [\"Nepal\"], [\"Nepal\"], [\"Nepal\"], [\"Nepal\"], [\"Nepal\"], [\"Nepal\"], [\"Nepal\"], [\"Nepal\"], [\"Netherlands\"], [\"Netherlands\"], [\"Netherlands\"], [\"Netherlands\"], [\"Netherlands\"], [\"Netherlands\"], [\"Netherlands\"], [\"Netherlands\"], [\"Netherlands\"], [\"Netherlands\"], [\"New Zealand\"], [\"New Zealand\"], [\"New Zealand\"], [\"New Zealand\"], [\"New Zealand\"], [\"New Zealand\"], [\"New Zealand\"], [\"New Zealand\"], [\"New Zealand\"], [\"New Zealand\"], [\"Nicaragua\"], [\"Nicaragua\"], [\"Nicaragua\"], [\"Nicaragua\"], [\"Nicaragua\"], [\"Nicaragua\"], [\"Nicaragua\"], [\"Nicaragua\"], [\"Nicaragua\"], [\"Nicaragua\"], [\"Niger\"], [\"Niger\"], [\"Niger\"], [\"Niger\"], [\"Niger\"], [\"Niger\"], [\"Niger\"], [\"Niger\"], [\"Niger\"], [\"Niger\"], [\"Nigeria\"], [\"Nigeria\"], [\"Nigeria\"], [\"Nigeria\"], [\"Nigeria\"], [\"Nigeria\"], [\"Nigeria\"], [\"Nigeria\"], [\"Nigeria\"], [\"Nigeria\"], [\"Norway\"], [\"Norway\"], [\"Norway\"], [\"Norway\"], [\"Norway\"], [\"Norway\"], [\"Norway\"], [\"Norway\"], [\"Norway\"], [\"Norway\"], [\"Oman\"], [\"Oman\"], [\"Oman\"], [\"Oman\"], [\"Oman\"], [\"Oman\"], [\"Oman\"], [\"Oman\"], [\"Oman\"], [\"Pakistan\"], [\"Pakistan\"], [\"Pakistan\"], [\"Pakistan\"], [\"Pakistan\"], [\"Pakistan\"], [\"Pakistan\"], [\"Pakistan\"], [\"Pakistan\"], [\"Pakistan\"], [\"Panama\"], [\"Panama\"], [\"Panama\"], [\"Panama\"], [\"Panama\"], [\"Panama\"], [\"Panama\"], [\"Panama\"], [\"Panama\"], [\"Panama\"], [\"Paraguay\"], [\"Paraguay\"], [\"Paraguay\"], [\"Paraguay\"], [\"Paraguay\"], [\"Paraguay\"], [\"Paraguay\"], [\"Paraguay\"], [\"Paraguay\"], [\"Paraguay\"], [\"Peru\"], [\"Peru\"], [\"Peru\"], [\"Peru\"], [\"Peru\"], [\"Peru\"], [\"Peru\"], [\"Peru\"], [\"Peru\"], [\"Peru\"], [\"Philippines\"], [\"Philippines\"], [\"Philippines\"], [\"Philippines\"], [\"Philippines\"], [\"Philippines\"], [\"Philippines\"], [\"Philippines\"], [\"Philippines\"], [\"Philippines\"], [\"Poland\"], [\"Poland\"], [\"Poland\"], [\"Poland\"], [\"Poland\"], [\"Poland\"], [\"Poland\"], [\"Poland\"], [\"Poland\"], [\"Poland\"], [\"Portugal\"], [\"Portugal\"], [\"Portugal\"], [\"Portugal\"], [\"Portugal\"], [\"Portugal\"], [\"Portugal\"], [\"Portugal\"], [\"Portugal\"], [\"Portugal\"], [\"Romania\"], [\"Romania\"], [\"Romania\"], [\"Romania\"], [\"Romania\"], [\"Romania\"], [\"Romania\"], [\"Romania\"], [\"Romania\"], [\"Romania\"], [\"Rwanda\"], [\"Rwanda\"], [\"Rwanda\"], [\"Rwanda\"], [\"Rwanda\"], [\"Rwanda\"], [\"Rwanda\"], [\"Rwanda\"], [\"Rwanda\"], [\"Rwanda\"], [\"Sao Tome and Principe\"], [\"Sao Tome and Principe\"], [\"Sao Tome and Principe\"], [\"Sao Tome and Principe\"], [\"Sao Tome and Principe\"], [\"Sao Tome and Principe\"], [\"Sao Tome and Principe\"], [\"Sao Tome and Principe\"], [\"Sao Tome and Principe\"], [\"Sao Tome and Principe\"], [\"Saudi Arabia\"], [\"Saudi Arabia\"], [\"Saudi Arabia\"], [\"Saudi Arabia\"], [\"Saudi Arabia\"], [\"Saudi Arabia\"], [\"Saudi Arabia\"], [\"Saudi Arabia\"], [\"Saudi Arabia\"], [\"Saudi Arabia\"], [\"Senegal\"], [\"Senegal\"], [\"Senegal\"], [\"Senegal\"], [\"Senegal\"], [\"Senegal\"], [\"Senegal\"], [\"Senegal\"], [\"Senegal\"], [\"Senegal\"], [\"Serbia\"], [\"Sierra Leone\"], [\"Sierra Leone\"], [\"Sierra Leone\"], [\"Sierra Leone\"], [\"Sierra Leone\"], [\"Sierra Leone\"], [\"Sierra Leone\"], [\"Sierra Leone\"], [\"Sierra Leone\"], [\"Sierra Leone\"], [\"Singapore\"], [\"Singapore\"], [\"Singapore\"], [\"Singapore\"], [\"Singapore\"], [\"Singapore\"], [\"Singapore\"], [\"Singapore\"], [\"Singapore\"], [\"Singapore\"], [\"Slovak Republic\"], [\"Slovak Republic\"], [\"Slovak Republic\"], [\"Slovak Republic\"], [\"Slovenia\"], [\"Slovenia\"], [\"Slovenia\"], [\"Slovenia\"], [\"Somalia\"], [\"Somalia\"], [\"Somalia\"], [\"Somalia\"], [\"Somalia\"], [\"Somalia\"], [\"Somalia\"], [\"Somalia\"], [\"Somalia\"], [\"South Africa\"], [\"South Africa\"], [\"South Africa\"], [\"South Africa\"], [\"South Africa\"], [\"South Africa\"], [\"South Africa\"], [\"South Africa\"], [\"South Africa\"], [\"South Africa\"], [\"Spain\"], [\"Spain\"], [\"Spain\"], [\"Spain\"], [\"Spain\"], [\"Spain\"], [\"Spain\"], [\"Spain\"], [\"Spain\"], [\"Spain\"], [\"Sri Lanka\"], [\"Sri Lanka\"], [\"Sri Lanka\"], [\"Sri Lanka\"], [\"Sri Lanka\"], [\"Sri Lanka\"], [\"Sri Lanka\"], [\"Sri Lanka\"], [\"Sri Lanka\"], [\"Sri Lanka\"], [\"Sudan\"], [\"Sudan\"], [\"Sudan\"], [\"Sudan\"], [\"Sudan\"], [\"Sudan\"], [\"Sudan\"], [\"Sudan\"], [\"Sudan\"], [\"Sudan\"], [\"Swaziland\"], [\"Swaziland\"], [\"Swaziland\"], [\"Swaziland\"], [\"Swaziland\"], [\"Swaziland\"], [\"Swaziland\"], [\"Swaziland\"], [\"Swaziland\"], [\"Sweden\"], [\"Sweden\"], [\"Sweden\"], [\"Sweden\"], [\"Sweden\"], [\"Sweden\"], [\"Sweden\"], [\"Sweden\"], [\"Sweden\"], [\"Sweden\"], [\"Switzerland\"], [\"Switzerland\"], [\"Switzerland\"], [\"Switzerland\"], [\"Switzerland\"], [\"Switzerland\"], [\"Switzerland\"], [\"Switzerland\"], [\"Switzerland\"], [\"Switzerland\"], [\"Tanzania\"], [\"Tanzania\"], [\"Tanzania\"], [\"Tanzania\"], [\"Tanzania\"], [\"Tanzania\"], [\"Tanzania\"], [\"Tanzania\"], [\"Tanzania\"], [\"Tanzania\"], [\"Thailand\"], [\"Thailand\"], [\"Thailand\"], [\"Thailand\"], [\"Thailand\"], [\"Thailand\"], [\"Thailand\"], [\"Thailand\"], [\"Thailand\"], [\"Thailand\"], [\"Togo\"], [\"Togo\"], [\"Togo\"], [\"Togo\"], [\"Togo\"], [\"Togo\"], [\"Togo\"], [\"Togo\"], [\"Togo\"], [\"Togo\"], [\"Trinidad and Tobago\"], [\"Trinidad and Tobago\"], [\"Trinidad and Tobago\"], [\"Trinidad and Tobago\"], [\"Trinidad and Tobago\"], [\"Trinidad and Tobago\"], [\"Trinidad and Tobago\"], [\"Trinidad and Tobago\"], [\"Trinidad and Tobago\"], [\"Trinidad and Tobago\"], [\"Tunisia\"], [\"Tunisia\"], [\"Tunisia\"], [\"Tunisia\"], [\"Tunisia\"], [\"Tunisia\"], [\"Tunisia\"], [\"Tunisia\"], [\"Tunisia\"], [\"Tunisia\"], [\"Turkey\"], [\"Turkey\"], [\"Turkey\"], [\"Turkey\"], [\"Turkey\"], [\"Turkey\"], [\"Turkey\"], [\"Turkey\"], [\"Turkey\"], [\"Turkey\"], [\"Uganda\"], [\"Uganda\"], [\"Uganda\"], [\"Uganda\"], [\"Uganda\"], [\"Uganda\"], [\"Uganda\"], [\"Uganda\"], [\"Uganda\"], [\"Uganda\"], [\"United Kingdom\"], [\"United Kingdom\"], [\"United Kingdom\"], [\"United Kingdom\"], [\"United Kingdom\"], [\"United Kingdom\"], [\"United Kingdom\"], [\"United Kingdom\"], [\"United Kingdom\"], [\"United Kingdom\"], [\"United States\"], [\"United States\"], [\"United States\"], [\"United States\"], [\"United States\"], [\"United States\"], [\"United States\"], [\"United States\"], [\"United States\"], [\"United States\"], [\"Uruguay\"], [\"Uruguay\"], [\"Uruguay\"], [\"Uruguay\"], [\"Uruguay\"], [\"Uruguay\"], [\"Uruguay\"], [\"Uruguay\"], [\"Uruguay\"], [\"Uruguay\"], [\"Vietnam\"], [\"Vietnam\"], [\"Vietnam\"], [\"Vietnam\"], [\"Vietnam\"], [\"Vietnam\"], [\"Vietnam\"], [\"Vietnam\"], [\"Vietnam\"], [\"Vietnam\"], [\"West Bank and Gaza\"], [\"West Bank and Gaza\"], [\"West Bank and Gaza\"], [\"Zambia\"], [\"Zambia\"], [\"Zambia\"], [\"Zambia\"], [\"Zambia\"], [\"Zambia\"], [\"Zambia\"], [\"Zambia\"], [\"Zambia\"], [\"Zimbabwe\"], [\"Zimbabwe\"], [\"Zimbabwe\"], [\"Zimbabwe\"], [\"Zimbabwe\"], [\"Zimbabwe\"], [\"Zimbabwe\"], [\"Zimbabwe\"], [\"Zimbabwe\"]], \"hovertemplate\": \"Energy use (kg of oil equivalent per capita)=%{x}<br>continent=%{y}<br>Country Name=%{customdata[0]}<extra></extra>\", \"legendgroup\": \"\", \"marker\": {\"color\": \"#636efa\"}, \"name\": \"\", \"notched\": false, \"offsetgroup\": \"\", \"orientation\": \"h\", \"showlegend\": false, \"type\": \"box\", \"x\": [null, null, null, null, null, null, null, null, null, null, null, null, 865.592481207, 923.728867504, 966.683283781, 921.893044018, 418.286629757, 384.594958328, 645.080153785, 679.861765101, null, null, 261.465250751, 398.656113469, 771.235497639, 827.552506829, 883.7458819, 804.842705115, 904.456391853, 1075.19412704, null, null, 629.301934363, 535.2524622330001, 514.415934309, 502.598458911, 511.237051724, 494.174484207, 515.4034564030001, 561.5501055130001, null, null, 1379.81886741, 1420.56765898, 1416.53992488, 1477.07652885, 1484.0589177000004, 1614.33824027, 1502.22488095, 1846.93675639, 3172.97486502, 3692.80794983, 4035.20634439, 4671.19567362, 4817.48952431, 4772.37046465, 4959.21491855, 5469.5999892, 5569.6409925, 5868.34709712, 1675.87362115, 1920.21212423, 2627.32249578, 2797.42192238, 2830.22178095, 3174.74539203, 3239.0639673, 3542.5214303, 3765.28296302, 4029.62695258, null, null, 5960.21133509, 8187.11498635, 9071.02474414, 9523.46356521, 10844.7550254, 12122.0506027, 11704.3047293, 11291.126355, 86.903766977, 97.860763105, 105.482961637, 106.866835127, 119.405481659, 135.210016124, 149.933182829, 173.580998621, 2810.06114801, 3182.9234575, 4473.92951273, 4589.52441, 4208.25780214, 4727.68639528, 5092.96578511, 5579.51075728, 5461.40290348, 5389.28164733, null, null, 380.812029086, 363.746124276, 355.338045025, 347.306591796, 321.349456122, 350.78972053, 305.04923703400004, 368.216084341, null, null, 240.157170254, 331.439253894, 462.43170312, 341.493450003, 399.828007323, 561.077061465, 528.760849998, 561.052703379, 1034.34415156, 712.9252777060001, 1156.99672325, 1381.12205494, null, null, 739.29915268, 743.685354401, 979.087310581, 900.173527778, 1032.6780741, 1028.07041536, null, null, 741.6918705969998, 868.475086329, 867.193602187, 987.562557183, 929.003678998, 1061.83829204, 1081.26747985, 1221.36231051, null, null, 2262.78654882, 2954.26673889, 3309.20642511, 3411.07339479, 2396.00726637, 2504.12268042, 2401.37660851, 2666.11144524, null, null, null, null, null, null, null, null, null, null, null, null, null, null, null, null, null, null, null, null, null, null, null, null, null, null, null, 265.896639422, 314.97027594400004, 253.343288148, null, null, 386.14642293800006, 402.624623832, 423.360959463, 417.73292245, 397.277540786, 396.727156517, 389.52261441, 332.30332161, 4451.56011604, 5557.29174015, 6933.60655182, 7409.53000504, 7149.344059999999, 7641.32410546, 7479.477427399999, 7965.51932158, 7920.11022894, 8130.58019344, null, null, null, null, null, null, null, null, null, null, null, null, null, null, null, null, null, null, null, null, null, null, 891.2738674039999, 779.391621026, 763.201224638, 826.260796732, 1141.81007039, 1558.78524634, 1644.79154564, 1860.10017433, null, null, 477.168708746, 577.211010594, 606.830437326, 694.4223599789999, 752.628662541, 871.6462695360001, 978.61898313, 1550.53027085, null, null, 598.975288294, 638.025434659, 635.432893568, 696.0663928460001, 704.354798517, 709.8217022360001, 606.266720641, 637.510761494, null, null, null, null, null, null, null, null, null, 63.1348128438, null, null, 442.444664949, 528.165846592, 455.822967416, 491.495062694, 705.487675532, 647.0037811669999, 748.21348058, 1031.80869969, null, null, 453.243100247, 449.52124719, 393.432418022, 383.372484812, 373.659519455, 386.175169435, 406.144021726, 539.7271851830001, 1502.13713647, 1704.81692913, 1856.86891892, 2102.14585212, null, null, 1154.55654156, 1424.73743541, 1536.90510757, 1578.25907104, 1214.11700599, 1125.97333686, 1053.28051042, 904.662628457, 4222.41657552, 4184.88468363, 4163.45010589, 4468.96035161, 2296.28956262, 3061.11010693, 3858.59212164, 3830.10381024, 3422.37480485, 3819.83212874, 3561.89036948, 3848.1558436, 3535.09801372, 3622.59683256, null, null, null, null, null, null, null, null, null, 178.904528787, null, null, 573.372745636, 601.951784846, 596.93367919, 594.381238984, 603.781376066, 749.844735219, 819.797049144, 763.408932512, null, null, 360.600661999, 568.073705272, 666.635807378, 602.470062495, 629.220777401, 721.687588695, 739.4547575380002, 833.203582927, null, null, 484.967888203, 622.1297874219999, 595.2355137530001, 503.481769676, 525.453706523, 624.096762293, 720.3532811819998, 748.1199930380002, null, null, null, null, null, null, null, null, null, 2641.94245101, 319.16492977400003, 197.54986892, 162.700034655, null, null, 434.793195834, 432.458375494, 434.058222854, 437.234995296, 431.15182408, 435.145404589, 439.254909387, 442.86665148300006, 2361.74387608, 3126.42604539, 4188.16067653, 4516.24806759, 4805.49388193, 5960.69258613, 5380.99306782, 6276.95169203, 6705.43983596, 6967.21323874, 1852.7357712, 2241.91139524, 3160.80483651, 3155.62146854, 3272.05274478, 3690.65145306, 3954.00370317, 4049.35046526, 4225.60695353, 4120.3058212, null, null, 1707.3062928, 2000.90013642, 2069.78785109, 1470.39664628, 1298.09635297, 1236.01768782, 1229.36459426, 1281.68189093, 4190.98422047, 4203.3573666, 4108.40129887, 3985.80810152, null, null, 348.93189080300004, 381.515147025, 376.7088969880001, 363.852104774, 366.522645114, 398.339353834, 317.525749335, 278.760989471, 350.101257861, 607.702155943, 1134.78649348, 1469.54942907, 1537.27769706, 1791.83338591, 2129.89451644, 2282.13703466, 2597.74828926, 2734.92011068, null, null, 491.473442413, 574.359356263, 482.712477796, 448.694681999, 497.344297754, 526.326033275, 590.478746775, 616.892076168, null, null, null, null, null, null, null, null, null, null, null, null, null, null, null, null, null, null, null, 62.1995597581, null, null, 317.810225983, 350.433910995, 301.847692756, 226.326971354, 219.075496949, 252.463093356, 261.374331488, 384.513775199, null, null, 499.277043223, 512.605428263, 520.393217065, 481.319956646, 483.335543947, 528.901564325, 516.4041365740001, 657.398639731, null, 1476.04957577, 1880.53879751, 2428.82933004, 2630.75848148, 2894.82745315, 2423.17944795, 2527.30162599, 2520.15246577, 2658.03637311, 3028.29836932, 3594.36178937, 4403.96964669, 5602.87016623, 7076.20798768, 7857.45488268, 7755.39441578, 8584.10049866, 10804.6417156, 14746.0313385, null, null, 268.485083335, 283.275393642, 299.592677132, 325.73809089400004, 365.379491444, 399.052528907, 423.580114419, 486.292374786, null, null, 301.357990782, 347.868204367, 388.834624998, 436.663234979, 574.344890279, 690.7954914339999, 760.140852043, 788.5836582439999, null, null, 405.152489951, 626.354937731, 690.323799679, 958.189471661, 1311.18896852, 1861.7960965, 1130.94271589, 892.39580238, 1412.72967684, 1767.42510638, 2194.51306452, 2203.82152215, 2356.8942567, 2608.80658136, 2775.21800345, 3255.49845122, 3661.32224061, 3416.03094562, null, null, 1756.33100381, 1786.48768337, 1958.31704292, 2278.47928588, 2580.96935389, 2881.12834133, 2862.7957382, 2898.15336834, 1007.04834663, 1551.51917279, 2050.73787712, 2204.17980667, 2206.54273411, 2407.25635314, 2627.34000777, 2834.40294607, 3017.97165871, 3062.36054739, null, null, 1331.9860874, 1153.48652689, 1040.31180401, 765.4628605460001, 1215.0555252, 1333.59707253, 1371.65658542, 1578.42891649, 1003.75225394, 1720.54974435, 2667.04674964, 2899.90421823, 2840.60843908, 3044.11508629, 3652.07124745, 4048.98200021, 4005.94409353, 4024.99795314, null, null, 297.830418297, 473.5437315580001, 875.54040491, 998.355658577, 1015.41769856, 991.96787502, 1024.4838209, 1251.68193903, null, null, 455.513600948, 455.626061673, 437.652286948, 464.00933684, 445.111805733, 441.007660811, 440.968733004, 462.22025237800005, null, null, 7802.76597438, 6429.99850119, 7548.12934744, 8616.57655309, 8764.51262442, 10105.8321479, 10395.1176066, null, null, 789.565543378, 696.1964896339999, 678.5814280469999, 996.943321974, 868.56933067, 1698.3102702999995, 1484.22892653, 1034.92218437, 9.71541007212, null, null, null, null, null, null, null, null, null, null, null, null, 952.733553333, 1455.08414725, 2397.98259634, 2700.28315715, 2452.19740381, 2991.94395278, 3071.77483233, 2725.88792504, null, null, null, null, null, null, null, null, null, null, null, null, null, null, null, null, null, null, null, 536.095210505, 621.740086559, 898.6549052380002, 1078.98626036, 1566.72481216, 2063.52696529, 2183.8734214, 2742.50027319, null, null, null, null, null, null, null, null, null, null, null, null, null, null, null, null, null, null, null, null, null, null, 435.059790882, 474.222876797, 414.601806914, 512.011597538, 657.7868228880001, 712.571976967, 873.195801833, 1007.57484088, null, null, 856.81120942, 1063.78037111, 1465.05024708, 1379.33314201, 1452.97190576, 1398.88398183, 1412.86939872, 1551.28978352, null, null, null, null, null, 1746.24080026, 1488.63742731, 951.851569598, 1058.16485595, 1376.98860218, 1927.97889182, null, null, 190.387995598, 252.036810104, 268.259441677, 277.485699249, 327.952990834, 362.27042057, 402.312789339, 487.448713086, null, null, 699.0228986210001, 608.405141326, 523.782627433, 474.548861116, 420.272139083, 390.685096382, 395.127686774, 407.278749651, null, null, 281.931848431, 276.246179043, 270.238811656, 269.30095308, 251.060745819, 263.20255292, 266.385844866, 307.913041122, 496.518769708, 594.756148267, 579.8782172790001, 659.366428344, null, null, 300.972670494, 302.06554296, 305.746943514, 307.065111322, 309.74507691900004, 316.822270368, 345.37079196, 357.131793555, 2081.01162075, 2762.80248267, 4381.04179488, 4560.27311991, 3785.11593558, 4387.67068914, 4501.66087489, 4579.47478164, 4687.98228043, 4843.79608802, 1791.46132151, 2188.69351345, 2617.16105927, 3055.08108455, 3012.97138874, 3452.96268019, 3808.4772206, 4258.75677677, 4337.38052425, 4054.4950045, null, null, 487.96346663800006, 585.0413863719999, 469.268615848, 502.383245685, 509.839947747, 503.04461939, 508.740585366, 521.961949752, null, null, null, null, null, null, null, null, 130.047629217, 128.026173022, null, null, 583.794808164, 634.258748201, 689.4945390439999, 674.47298453, 719.308370017, 696.8847876410001, 721.312209806, 747.1012487439999, 2052.05448433, 2815.68798736, 3503.4299482, 4060.10627707, 4262.39171068, 5048.49930916, 5159.65421807, 5477.88285412, 5503.46451061, 5864.97593092, null, 112.054808283, 761.662333837, 1151.87126892, 1412.3831509, 2756.42578415, 3027.90856152, 3890.79215204, 6881.62081928, null, null, 285.16407106400004, 302.558312012, 336.92280827900004, 376.344243754, 412.405215402, 448.925191849, 455.934635667, 523.2672101530001, null, null, 1159.6892715999998, 899.7691370580002, 796.469906347, 730.8000538289999, 715.38365957, 777.742373207, 834.670915895, 879.523836391, null, null, 540.588375968, 580.530937274, 630.648885594, 699.102776962, 712.691343364, 877.0448880460001, 705.433761481, 708.7828687130002, null, null, 648.807999388, 678.509067152, 632.7254874390001, 540.974320389, 408.43313224, 440.557973649, 446.340827194, 506.633143848, null, null, 406.49229803800006, 456.743021869, 461.890994003, 433.357672285, 460.545976337, 500.989771655, 477.457211125, 434.402352876, 1976.85979181, 2199.05462052, 2693.74527501, 3251.8025717, 3412.49866376, 3535.48197152, 2569.17533457, 2643.12353589, 2314.20257992, 2526.9949602, 363.164047972, 486.585415324, 745.283954565, 845.368945104, 1119.20463053, 1241.1956653, 1813.8858461, 2083.48767635, 2477.48974988, 2402.47799385, null, null, 2131.63973572, 2735.43911555, 2876.73333115, 3027.56521622, 2052.96292702, 1989.99418196, 1755.13002556, 1904.09688616, null, null, null, null, null, null, null, null, null, null, null, null, null, null, null, null, null, null, null, 274.890043982, null, null, 979.423249943, 1368.95037047, 4215.42559694, 3750.91313869, 4421.45445335, 4354.65523263, 4907.82867485, 5379.69097885, null, null, 280.837670795, 281.840462003, 260.719421235, 254.211898654, 222.634685966, 221.005820684, 253.315356135, 252.409846662, 2248.15503566, null, null, null, null, null, null, null, null, null, null, null, null, 1569.47082327, 1763.23012084, 1987.08730813, 2757.88068931, 4588.43321165, 5818.15092473, 5065.98450652, 4677.20430572, 3410.7278847, 3361.88402225, 3483.86750611, 3320.45472221, 2584.33517088, 3310.40063325, 3424.45287862, 3627.52350948, null, null, null, null, null, null, null, null, null, null, null, 1997.49821372, 2208.54919916, 2699.72841558, 2831.14750181, 2414.3981946, 2655.26925959, 2421.00577767, 2805.48565552, 605.223527325, 881.3832485789999, 1299.43101563, 1667.64601643, 1762.40454547, 1919.44664907, 2435.96962149, 2666.2640552, 3107.86734112, 3180.03341956, null, null, 314.546613794, 293.833883231, 324.13036566, 328.090886835, 327.882389865, 380.086721607, 432.84856645, 470.83709579, null, null, 485.018934669, 445.524031505, 431.003010124, 397.42097884300006, 386.72897561, 392.294923579, 411.137505242, 366.495542, null, null, null, null, null, null, null, null, 372.735499664, 2887.23625249, 3630.19413871, 4527.21372025, 5054.83376436, 4877.79989653, 5763.0704408, 5369.37035674, 5672.0081772, 5802.11010517, 5472.13539173, 1568.91106002, 2040.8279002, 2727.71921732, 2877.79290941, 2984.22326318, 3430.8555125, 3613.49260926, 3526.10543855, 3553.18855698, 3410.15494794, null, null, 527.0538798619999, 455.445767964, 414.717967022, 394.145177081, 369.835021604, 357.261154316, 416.002267994, 442.62215764, null, null, 367.864327681, 451.510578157, 456.467867425, 531.762695185, 840.141111806, 1164.94784692, 1282.58023503, 1585.96595222, null, null, 332.041867346, 327.998948608, 327.324375984, 328.062332773, 328.69853999, 384.078207642, 424.034097572, 417.118049767, null, null, 2772.88276961, 2808.51679767, 3648.18714807, 4188.6453215, 5286.28687516, 5437.91312128, 9356.78097414, 14608.0098682, null, null, 341.737804158, 427.302747359, 493.048630903, 542.645168334, 641.6905970619999, 679.079751272, 801.489193653, 883.981281357, 410.021796967, 484.393315616, 605.1364652890001, 778.4328071839999, 732.662049648, 917.976137079, 960.859171935, 1165.81161631, 1139.69490969, 1438.53526923, null, null, null, null, null, null, null, null, null, null, 3087.34197183, 3345.55349486, 3747.96247517, 3695.38387114, 3397.12228872, 3619.07726922, 3684.72453527, 3760.71236505, 3685.8654787, 3441.68876583, 5774.58631485, 6809.82048392, 7940.99783226, 8285.57089798, 7259.07889875, 7622.17301652, 7677.40140109, 7828.5810964, 7843.34484914, 7758.16570028, null, null, 872.986354117, 868.792103341, 766.1430987780002, 718.448623294, 855.1247871139999, 880.633650605, 762.6981432010001, 947.838610674, null, null, 298.157558425, 257.872313351, 271.162299998, 286.657214575, 276.1308749, 335.170556166, 420.446832131, 540.08195349, null, null, null, null, 857.0932537580002, 819.7872201060001, 756.612333199, 700.14084375, 662.721536129, 617.209365016, 598.548219754, 588.018958956, null, 994.184786353, 921.65469562, 842.372683813, 896.673611477, 923.493407317, 804.5088922269998, 772.6766193660001, 725.6810488469998], \"x0\": \" \", \"xaxis\": \"x\", \"y\": [\"Asia\", \"Asia\", \"Asia\", \"Asia\", \"Asia\", \"Asia\", \"Asia\", \"Asia\", \"Asia\", \"Asia\", \"Europe\", \"Europe\", \"Europe\", \"Europe\", \"Europe\", \"Europe\", \"Europe\", \"Europe\", \"Europe\", \"Europe\", \"Africa\", \"Africa\", \"Africa\", \"Africa\", \"Africa\", \"Africa\", \"Africa\", \"Africa\", \"Africa\", \"Africa\", \"Africa\", \"Africa\", \"Africa\", \"Africa\", \"Africa\", \"Africa\", \"Africa\", \"Africa\", \"Africa\", \"Africa\", \"Americas\", \"Americas\", \"Americas\", \"Americas\", \"Americas\", \"Americas\", \"Americas\", \"Americas\", \"Americas\", \"Americas\", \"Oceania\", \"Oceania\", \"Oceania\", \"Oceania\", \"Oceania\", \"Oceania\", \"Oceania\", \"Oceania\", \"Oceania\", \"Oceania\", \"Europe\", \"Europe\", \"Europe\", \"Europe\", \"Europe\", \"Europe\", \"Europe\", \"Europe\", \"Europe\", \"Europe\", \"Asia\", \"Asia\", \"Asia\", \"Asia\", \"Asia\", \"Asia\", \"Asia\", \"Asia\", \"Asia\", \"Asia\", \"Asia\", \"Asia\", \"Asia\", \"Asia\", \"Asia\", \"Asia\", \"Asia\", \"Asia\", \"Europe\", \"Europe\", \"Europe\", \"Europe\", \"Europe\", \"Europe\", \"Europe\", \"Europe\", \"Europe\", \"Europe\", \"Africa\", \"Africa\", \"Africa\", \"Africa\", \"Africa\", \"Africa\", \"Africa\", \"Africa\", \"Africa\", \"Africa\", \"Americas\", \"Americas\", \"Americas\", \"Americas\", \"Americas\", \"Americas\", \"Americas\", \"Americas\", \"Americas\", \"Americas\", \"Europe\", \"Europe\", \"Europe\", \"Europe\", \"Africa\", \"Africa\", \"Africa\", \"Africa\", \"Africa\", \"Africa\", \"Africa\", \"Africa\", \"Americas\", \"Americas\", \"Americas\", \"Americas\", \"Americas\", \"Americas\", \"Americas\", \"Americas\", \"Americas\", \"Americas\", \"Europe\", \"Europe\", \"Europe\", \"Europe\", \"Europe\", \"Europe\", \"Europe\", \"Europe\", \"Europe\", \"Europe\", \"Africa\", \"Africa\", \"Africa\", \"Africa\", \"Africa\", \"Africa\", \"Africa\", \"Africa\", \"Africa\", \"Africa\", \"Africa\", \"Africa\", \"Africa\", \"Africa\", \"Africa\", \"Africa\", \"Africa\", \"Africa\", \"Africa\", \"Africa\", \"Asia\", \"Asia\", \"Asia\", \"Asia\", \"Asia\", \"Asia\", \"Asia\", \"Asia\", \"Asia\", \"Asia\", \"Africa\", \"Africa\", \"Africa\", \"Africa\", \"Africa\", \"Africa\", \"Africa\", \"Africa\", \"Africa\", \"Africa\", \"Americas\", \"Americas\", \"Americas\", \"Americas\", \"Americas\", \"Americas\", \"Americas\", \"Americas\", \"Americas\", \"Americas\", \"Africa\", \"Africa\", \"Africa\", \"Africa\", \"Africa\", \"Africa\", \"Africa\", \"Africa\", \"Africa\", \"Africa\", \"Africa\", \"Africa\", \"Africa\", \"Africa\", \"Africa\", \"Africa\", \"Africa\", \"Africa\", \"Africa\", \"Africa\", \"Americas\", \"Americas\", \"Americas\", \"Americas\", \"Americas\", \"Americas\", \"Americas\", \"Americas\", \"Americas\", \"Americas\", \"Asia\", \"Asia\", \"Asia\", \"Asia\", \"Asia\", \"Asia\", \"Asia\", \"Asia\", \"Asia\", \"Asia\", \"Americas\", \"Americas\", \"Americas\", \"Americas\", \"Americas\", \"Americas\", \"Americas\", \"Americas\", \"Americas\", \"Americas\", \"Africa\", \"Africa\", \"Africa\", \"Africa\", \"Africa\", \"Africa\", \"Africa\", \"Africa\", \"Africa\", \"Africa\", \"Americas\", \"Americas\", \"Americas\", \"Americas\", \"Americas\", \"Americas\", \"Americas\", \"Americas\", \"Americas\", \"Americas\", \"Africa\", \"Africa\", \"Africa\", \"Africa\", \"Africa\", \"Africa\", \"Africa\", \"Africa\", \"Africa\", \"Africa\", \"Europe\", \"Europe\", \"Europe\", \"Europe\", \"Americas\", \"Americas\", \"Americas\", \"Americas\", \"Americas\", \"Americas\", \"Americas\", \"Americas\", \"Americas\", \"Americas\", \"Europe\", \"Europe\", \"Europe\", \"Europe\", \"Europe\", \"Europe\", \"Europe\", \"Europe\", \"Europe\", \"Europe\", \"Europe\", \"Europe\", \"Europe\", \"Europe\", \"Africa\", \"Africa\", \"Africa\", \"Africa\", \"Africa\", \"Africa\", \"Africa\", \"Africa\", \"Africa\", \"Africa\", \"Americas\", \"Americas\", \"Americas\", \"Americas\", \"Americas\", \"Americas\", \"Americas\", \"Americas\", \"Americas\", \"Americas\", \"Americas\", \"Americas\", \"Americas\", \"Americas\", \"Americas\", \"Americas\", \"Americas\", \"Americas\", \"Americas\", \"Americas\", \"Americas\", \"Americas\", \"Americas\", \"Americas\", \"Americas\", \"Americas\", \"Americas\", \"Americas\", \"Americas\", \"Americas\", \"Africa\", \"Africa\", \"Africa\", \"Africa\", \"Africa\", \"Africa\", \"Africa\", \"Africa\", \"Africa\", \"Africa\", \"Africa\", \"Africa\", \"Africa\", \"Africa\", \"Africa\", \"Africa\", \"Africa\", \"Africa\", \"Africa\", \"Africa\", \"Africa\", \"Africa\", \"Africa\", \"Europe\", \"Europe\", \"Europe\", \"Europe\", \"Europe\", \"Europe\", \"Europe\", \"Europe\", \"Europe\", \"Europe\", \"Europe\", \"Europe\", \"Europe\", \"Europe\", \"Europe\", \"Europe\", \"Europe\", \"Europe\", \"Europe\", \"Europe\", \"Africa\", \"Africa\", \"Africa\", \"Africa\", \"Africa\", \"Africa\", \"Africa\", \"Africa\", \"Africa\", \"Africa\", \"Europe\", \"Europe\", \"Europe\", \"Europe\", \"Africa\", \"Africa\", \"Africa\", \"Africa\", \"Africa\", \"Africa\", \"Africa\", \"Africa\", \"Africa\", \"Africa\", \"Europe\", \"Europe\", \"Europe\", \"Europe\", \"Europe\", \"Europe\", \"Europe\", \"Europe\", \"Europe\", \"Europe\", \"Americas\", \"Americas\", \"Americas\", \"Americas\", \"Americas\", \"Americas\", \"Americas\", \"Americas\", \"Americas\", \"Americas\", \"Africa\", \"Africa\", \"Africa\", \"Africa\", \"Africa\", \"Africa\", \"Africa\", \"Africa\", \"Africa\", \"Africa\", \"Africa\", \"Africa\", \"Africa\", \"Africa\", \"Africa\", \"Africa\", \"Africa\", \"Africa\", \"Africa\", \"Africa\", \"Americas\", \"Americas\", \"Americas\", \"Americas\", \"Americas\", \"Americas\", \"Americas\", \"Americas\", \"Americas\", \"Americas\", \"Americas\", \"Americas\", \"Americas\", \"Americas\", \"Americas\", \"Americas\", \"Americas\", \"Americas\", \"Americas\", \"Americas\", \"Europe\", \"Europe\", \"Europe\", \"Europe\", \"Europe\", \"Europe\", \"Europe\", \"Europe\", \"Europe\", \"Europe\", \"Europe\", \"Europe\", \"Europe\", \"Europe\", \"Europe\", \"Europe\", \"Europe\", \"Europe\", \"Europe\", \"Europe\", \"Asia\", \"Asia\", \"Asia\", \"Asia\", \"Asia\", \"Asia\", \"Asia\", \"Asia\", \"Asia\", \"Asia\", \"Asia\", \"Asia\", \"Asia\", \"Asia\", \"Asia\", \"Asia\", \"Asia\", \"Asia\", \"Asia\", \"Asia\", \"Asia\", \"Asia\", \"Asia\", \"Asia\", \"Asia\", \"Asia\", \"Asia\", \"Asia\", \"Asia\", \"Asia\", \"Europe\", \"Europe\", \"Europe\", \"Europe\", \"Europe\", \"Europe\", \"Europe\", \"Europe\", \"Europe\", \"Europe\", \"Asia\", \"Asia\", \"Asia\", \"Asia\", \"Asia\", \"Asia\", \"Asia\", \"Asia\", \"Asia\", \"Asia\", \"Europe\", \"Europe\", \"Europe\", \"Europe\", \"Europe\", \"Europe\", \"Europe\", \"Europe\", \"Europe\", \"Europe\", \"Americas\", \"Americas\", \"Americas\", \"Americas\", \"Americas\", \"Americas\", \"Americas\", \"Americas\", \"Americas\", \"Americas\", \"Asia\", \"Asia\", \"Asia\", \"Asia\", \"Asia\", \"Asia\", \"Asia\", \"Asia\", \"Asia\", \"Asia\", \"Asia\", \"Asia\", \"Asia\", \"Asia\", \"Asia\", \"Asia\", \"Asia\", \"Asia\", \"Asia\", \"Asia\", \"Africa\", \"Africa\", \"Africa\", \"Africa\", \"Africa\", \"Africa\", \"Africa\", \"Africa\", \"Africa\", \"Africa\", \"Asia\", \"Asia\", \"Asia\", \"Asia\", \"Asia\", \"Asia\", \"Asia\", \"Asia\", \"Asia\", \"Asia\", \"Asia\", \"Asia\", \"Asia\", \"Asia\", \"Asia\", \"Asia\", \"Asia\", \"Asia\", \"Asia\", \"Africa\", \"Africa\", \"Africa\", \"Africa\", \"Africa\", \"Africa\", \"Africa\", \"Africa\", \"Africa\", \"Africa\", \"Africa\", \"Africa\", \"Africa\", \"Africa\", \"Africa\", \"Africa\", \"Africa\", \"Africa\", \"Africa\", \"Africa\", \"Africa\", \"Africa\", \"Africa\", \"Africa\", \"Africa\", \"Africa\", \"Africa\", \"Africa\", \"Africa\", \"Africa\", \"Africa\", \"Africa\", \"Africa\", \"Africa\", \"Africa\", \"Africa\", \"Africa\", \"Africa\", \"Africa\", \"Africa\", \"Asia\", \"Asia\", \"Asia\", \"Asia\", \"Asia\", \"Asia\", \"Asia\", \"Asia\", \"Africa\", \"Africa\", \"Africa\", \"Africa\", \"Africa\", \"Africa\", \"Africa\", \"Africa\", \"Africa\", \"Africa\", \"Africa\", \"Africa\", \"Africa\", \"Africa\", \"Africa\", \"Africa\", \"Africa\", \"Africa\", \"Africa\", \"Africa\", \"Africa\", \"Africa\", \"Africa\", \"Africa\", \"Africa\", \"Africa\", \"Africa\", \"Africa\", \"Africa\", \"Africa\", \"Americas\", \"Americas\", \"Americas\", \"Americas\", \"Americas\", \"Americas\", \"Americas\", \"Americas\", \"Americas\", \"Americas\", \"Asia\", \"Asia\", \"Asia\", \"Asia\", \"Asia\", \"Asia\", \"Asia\", \"Asia\", \"Asia\", \"Asia\", \"Europe\", \"Africa\", \"Africa\", \"Africa\", \"Africa\", \"Africa\", \"Africa\", \"Africa\", \"Africa\", \"Africa\", \"Africa\", \"Africa\", \"Africa\", \"Africa\", \"Africa\", \"Africa\", \"Africa\", \"Africa\", \"Africa\", \"Africa\", \"Africa\", \"Asia\", \"Asia\", \"Asia\", \"Asia\", \"Asia\", \"Asia\", \"Asia\", \"Asia\", \"Asia\", \"Asia\", \"Africa\", \"Africa\", \"Africa\", \"Africa\", \"Asia\", \"Asia\", \"Asia\", \"Asia\", \"Asia\", \"Asia\", \"Asia\", \"Asia\", \"Asia\", \"Asia\", \"Europe\", \"Europe\", \"Europe\", \"Europe\", \"Europe\", \"Europe\", \"Europe\", \"Europe\", \"Europe\", \"Europe\", \"Oceania\", \"Oceania\", \"Oceania\", \"Oceania\", \"Oceania\", \"Oceania\", \"Oceania\", \"Oceania\", \"Oceania\", \"Oceania\", \"Americas\", \"Americas\", \"Americas\", \"Americas\", \"Americas\", \"Americas\", \"Americas\", \"Americas\", \"Americas\", \"Americas\", \"Africa\", \"Africa\", \"Africa\", \"Africa\", \"Africa\", \"Africa\", \"Africa\", \"Africa\", \"Africa\", \"Africa\", \"Africa\", \"Africa\", \"Africa\", \"Africa\", \"Africa\", \"Africa\", \"Africa\", \"Africa\", \"Africa\", \"Africa\", \"Europe\", \"Europe\", \"Europe\", \"Europe\", \"Europe\", \"Europe\", \"Europe\", \"Europe\", \"Europe\", \"Europe\", \"Asia\", \"Asia\", \"Asia\", \"Asia\", \"Asia\", \"Asia\", \"Asia\", \"Asia\", \"Asia\", \"Asia\", \"Asia\", \"Asia\", \"Asia\", \"Asia\", \"Asia\", \"Asia\", \"Asia\", \"Asia\", \"Asia\", \"Americas\", \"Americas\", \"Americas\", \"Americas\", \"Americas\", \"Americas\", \"Americas\", \"Americas\", \"Americas\", \"Americas\", \"Americas\", \"Americas\", \"Americas\", \"Americas\", \"Americas\", \"Americas\", \"Americas\", \"Americas\", \"Americas\", \"Americas\", \"Americas\", \"Americas\", \"Americas\", \"Americas\", \"Americas\", \"Americas\", \"Americas\", \"Americas\", \"Americas\", \"Americas\", \"Asia\", \"Asia\", \"Asia\", \"Asia\", \"Asia\", \"Asia\", \"Asia\", \"Asia\", \"Asia\", \"Asia\", \"Europe\", \"Europe\", \"Europe\", \"Europe\", \"Europe\", \"Europe\", \"Europe\", \"Europe\", \"Europe\", \"Europe\", \"Europe\", \"Europe\", \"Europe\", \"Europe\", \"Europe\", \"Europe\", \"Europe\", \"Europe\", \"Europe\", \"Europe\", \"Europe\", \"Europe\", \"Europe\", \"Europe\", \"Europe\", \"Europe\", \"Europe\", \"Europe\", \"Europe\", \"Europe\", \"Africa\", \"Africa\", \"Africa\", \"Africa\", \"Africa\", \"Africa\", \"Africa\", \"Africa\", \"Africa\", \"Africa\", \"Africa\", \"Africa\", \"Africa\", \"Africa\", \"Africa\", \"Africa\", \"Africa\", \"Africa\", \"Africa\", \"Africa\", \"Asia\", \"Asia\", \"Asia\", \"Asia\", \"Asia\", \"Asia\", \"Asia\", \"Asia\", \"Asia\", \"Asia\", \"Africa\", \"Africa\", \"Africa\", \"Africa\", \"Africa\", \"Africa\", \"Africa\", \"Africa\", \"Africa\", \"Africa\", \"Europe\", \"Africa\", \"Africa\", \"Africa\", \"Africa\", \"Africa\", \"Africa\", \"Africa\", \"Africa\", \"Africa\", \"Africa\", \"Asia\", \"Asia\", \"Asia\", \"Asia\", \"Asia\", \"Asia\", \"Asia\", \"Asia\", \"Asia\", \"Asia\", \"Europe\", \"Europe\", \"Europe\", \"Europe\", \"Europe\", \"Europe\", \"Europe\", \"Europe\", \"Africa\", \"Africa\", \"Africa\", \"Africa\", \"Africa\", \"Africa\", \"Africa\", \"Africa\", \"Africa\", \"Africa\", \"Africa\", \"Africa\", \"Africa\", \"Africa\", \"Africa\", \"Africa\", \"Africa\", \"Africa\", \"Africa\", \"Europe\", \"Europe\", \"Europe\", \"Europe\", \"Europe\", \"Europe\", \"Europe\", \"Europe\", \"Europe\", \"Europe\", \"Asia\", \"Asia\", \"Asia\", \"Asia\", \"Asia\", \"Asia\", \"Asia\", \"Asia\", \"Asia\", \"Asia\", \"Africa\", \"Africa\", \"Africa\", \"Africa\", \"Africa\", \"Africa\", \"Africa\", \"Africa\", \"Africa\", \"Africa\", \"Africa\", \"Africa\", \"Africa\", \"Africa\", \"Africa\", \"Africa\", \"Africa\", \"Africa\", \"Africa\", \"Europe\", \"Europe\", \"Europe\", \"Europe\", \"Europe\", \"Europe\", \"Europe\", \"Europe\", \"Europe\", \"Europe\", \"Europe\", \"Europe\", \"Europe\", \"Europe\", \"Europe\", \"Europe\", \"Europe\", \"Europe\", \"Europe\", \"Europe\", \"Africa\", \"Africa\", \"Africa\", \"Africa\", \"Africa\", \"Africa\", \"Africa\", \"Africa\", \"Africa\", \"Africa\", \"Asia\", \"Asia\", \"Asia\", \"Asia\", \"Asia\", \"Asia\", \"Asia\", \"Asia\", \"Asia\", \"Asia\", \"Africa\", \"Africa\", \"Africa\", \"Africa\", \"Africa\", \"Africa\", \"Africa\", \"Africa\", \"Africa\", \"Africa\", \"Americas\", \"Americas\", \"Americas\", \"Americas\", \"Americas\", \"Americas\", \"Americas\", \"Americas\", \"Americas\", \"Americas\", \"Africa\", \"Africa\", \"Africa\", \"Africa\", \"Africa\", \"Africa\", \"Africa\", \"Africa\", \"Africa\", \"Africa\", \"Europe\", \"Europe\", \"Europe\", \"Europe\", \"Europe\", \"Europe\", \"Europe\", \"Europe\", \"Europe\", \"Europe\", \"Africa\", \"Africa\", \"Africa\", \"Africa\", \"Africa\", \"Africa\", \"Africa\", \"Africa\", \"Africa\", \"Africa\", \"Europe\", \"Europe\", \"Europe\", \"Europe\", \"Europe\", \"Europe\", \"Europe\", \"Europe\", \"Europe\", \"Europe\", \"Americas\", \"Americas\", \"Americas\", \"Americas\", \"Americas\", \"Americas\", \"Americas\", \"Americas\", \"Americas\", \"Americas\", \"Americas\", \"Americas\", \"Americas\", \"Americas\", \"Americas\", \"Americas\", \"Americas\", \"Americas\", \"Americas\", \"Americas\", \"Asia\", \"Asia\", \"Asia\", \"Asia\", \"Asia\", \"Asia\", \"Asia\", \"Asia\", \"Asia\", \"Asia\", \"Asia\", \"Asia\", \"Asia\", \"Africa\", \"Africa\", \"Africa\", \"Africa\", \"Africa\", \"Africa\", \"Africa\", \"Africa\", \"Africa\", \"Africa\", \"Africa\", \"Africa\", \"Africa\", \"Africa\", \"Africa\", \"Africa\", \"Africa\", \"Africa\"], \"y0\": \" \", \"yaxis\": \"y\"}],                        {\"boxmode\": \"group\", \"legend\": {\"tracegroupgap\": 0}, \"margin\": {\"t\": 60}, \"template\": {\"data\": {\"bar\": [{\"error_x\": {\"color\": \"#2a3f5f\"}, \"error_y\": {\"color\": \"#2a3f5f\"}, \"marker\": {\"line\": {\"color\": \"#E5ECF6\", \"width\": 0.5}}, \"type\": \"bar\"}], \"barpolar\": [{\"marker\": {\"line\": {\"color\": \"#E5ECF6\", \"width\": 0.5}}, \"type\": \"barpolar\"}], \"carpet\": [{\"aaxis\": {\"endlinecolor\": \"#2a3f5f\", \"gridcolor\": \"white\", \"linecolor\": \"white\", \"minorgridcolor\": \"white\", \"startlinecolor\": \"#2a3f5f\"}, \"baxis\": {\"endlinecolor\": \"#2a3f5f\", \"gridcolor\": \"white\", \"linecolor\": \"white\", \"minorgridcolor\": \"white\", \"startlinecolor\": \"#2a3f5f\"}, \"type\": \"carpet\"}], \"choropleth\": [{\"colorbar\": {\"outlinewidth\": 0, \"ticks\": \"\"}, \"type\": \"choropleth\"}], \"contour\": [{\"colorbar\": {\"outlinewidth\": 0, \"ticks\": \"\"}, \"colorscale\": [[0.0, \"#0d0887\"], [0.1111111111111111, \"#46039f\"], [0.2222222222222222, \"#7201a8\"], [0.3333333333333333, \"#9c179e\"], [0.4444444444444444, \"#bd3786\"], [0.5555555555555556, \"#d8576b\"], [0.6666666666666666, \"#ed7953\"], [0.7777777777777778, \"#fb9f3a\"], [0.8888888888888888, \"#fdca26\"], [1.0, \"#f0f921\"]], \"type\": \"contour\"}], \"contourcarpet\": [{\"colorbar\": {\"outlinewidth\": 0, \"ticks\": \"\"}, \"type\": \"contourcarpet\"}], \"heatmap\": [{\"colorbar\": {\"outlinewidth\": 0, \"ticks\": \"\"}, \"colorscale\": [[0.0, \"#0d0887\"], [0.1111111111111111, \"#46039f\"], [0.2222222222222222, \"#7201a8\"], [0.3333333333333333, \"#9c179e\"], [0.4444444444444444, \"#bd3786\"], [0.5555555555555556, \"#d8576b\"], [0.6666666666666666, \"#ed7953\"], [0.7777777777777778, \"#fb9f3a\"], [0.8888888888888888, \"#fdca26\"], [1.0, \"#f0f921\"]], \"type\": \"heatmap\"}], \"heatmapgl\": [{\"colorbar\": {\"outlinewidth\": 0, \"ticks\": \"\"}, \"colorscale\": [[0.0, \"#0d0887\"], [0.1111111111111111, \"#46039f\"], [0.2222222222222222, \"#7201a8\"], [0.3333333333333333, \"#9c179e\"], [0.4444444444444444, \"#bd3786\"], [0.5555555555555556, \"#d8576b\"], [0.6666666666666666, \"#ed7953\"], [0.7777777777777778, \"#fb9f3a\"], [0.8888888888888888, \"#fdca26\"], [1.0, \"#f0f921\"]], \"type\": \"heatmapgl\"}], \"histogram\": [{\"marker\": {\"colorbar\": {\"outlinewidth\": 0, \"ticks\": \"\"}}, \"type\": \"histogram\"}], \"histogram2d\": [{\"colorbar\": {\"outlinewidth\": 0, \"ticks\": \"\"}, \"colorscale\": [[0.0, \"#0d0887\"], [0.1111111111111111, \"#46039f\"], [0.2222222222222222, \"#7201a8\"], [0.3333333333333333, \"#9c179e\"], [0.4444444444444444, \"#bd3786\"], [0.5555555555555556, \"#d8576b\"], [0.6666666666666666, \"#ed7953\"], [0.7777777777777778, \"#fb9f3a\"], [0.8888888888888888, \"#fdca26\"], [1.0, \"#f0f921\"]], \"type\": \"histogram2d\"}], \"histogram2dcontour\": [{\"colorbar\": {\"outlinewidth\": 0, \"ticks\": \"\"}, \"colorscale\": [[0.0, \"#0d0887\"], [0.1111111111111111, \"#46039f\"], [0.2222222222222222, \"#7201a8\"], [0.3333333333333333, \"#9c179e\"], [0.4444444444444444, \"#bd3786\"], [0.5555555555555556, \"#d8576b\"], [0.6666666666666666, \"#ed7953\"], [0.7777777777777778, \"#fb9f3a\"], [0.8888888888888888, \"#fdca26\"], [1.0, \"#f0f921\"]], \"type\": \"histogram2dcontour\"}], \"mesh3d\": [{\"colorbar\": {\"outlinewidth\": 0, \"ticks\": \"\"}, \"type\": \"mesh3d\"}], \"parcoords\": [{\"line\": {\"colorbar\": {\"outlinewidth\": 0, \"ticks\": \"\"}}, \"type\": \"parcoords\"}], \"pie\": [{\"automargin\": true, \"type\": \"pie\"}], \"scatter\": [{\"marker\": {\"colorbar\": {\"outlinewidth\": 0, \"ticks\": \"\"}}, \"type\": \"scatter\"}], \"scatter3d\": [{\"line\": {\"colorbar\": {\"outlinewidth\": 0, \"ticks\": \"\"}}, \"marker\": {\"colorbar\": {\"outlinewidth\": 0, \"ticks\": \"\"}}, \"type\": \"scatter3d\"}], \"scattercarpet\": [{\"marker\": {\"colorbar\": {\"outlinewidth\": 0, \"ticks\": \"\"}}, \"type\": \"scattercarpet\"}], \"scattergeo\": [{\"marker\": {\"colorbar\": {\"outlinewidth\": 0, \"ticks\": \"\"}}, \"type\": \"scattergeo\"}], \"scattergl\": [{\"marker\": {\"colorbar\": {\"outlinewidth\": 0, \"ticks\": \"\"}}, \"type\": \"scattergl\"}], \"scattermapbox\": [{\"marker\": {\"colorbar\": {\"outlinewidth\": 0, \"ticks\": \"\"}}, \"type\": \"scattermapbox\"}], \"scatterpolar\": [{\"marker\": {\"colorbar\": {\"outlinewidth\": 0, \"ticks\": \"\"}}, \"type\": \"scatterpolar\"}], \"scatterpolargl\": [{\"marker\": {\"colorbar\": {\"outlinewidth\": 0, \"ticks\": \"\"}}, \"type\": \"scatterpolargl\"}], \"scatterternary\": [{\"marker\": {\"colorbar\": {\"outlinewidth\": 0, \"ticks\": \"\"}}, \"type\": \"scatterternary\"}], \"surface\": [{\"colorbar\": {\"outlinewidth\": 0, \"ticks\": \"\"}, \"colorscale\": [[0.0, \"#0d0887\"], [0.1111111111111111, \"#46039f\"], [0.2222222222222222, \"#7201a8\"], [0.3333333333333333, \"#9c179e\"], [0.4444444444444444, \"#bd3786\"], [0.5555555555555556, \"#d8576b\"], [0.6666666666666666, \"#ed7953\"], [0.7777777777777778, \"#fb9f3a\"], [0.8888888888888888, \"#fdca26\"], [1.0, \"#f0f921\"]], \"type\": \"surface\"}], \"table\": [{\"cells\": {\"fill\": {\"color\": \"#EBF0F8\"}, \"line\": {\"color\": \"white\"}}, \"header\": {\"fill\": {\"color\": \"#C8D4E3\"}, \"line\": {\"color\": \"white\"}}, \"type\": \"table\"}]}, \"layout\": {\"annotationdefaults\": {\"arrowcolor\": \"#2a3f5f\", \"arrowhead\": 0, \"arrowwidth\": 1}, \"autotypenumbers\": \"strict\", \"coloraxis\": {\"colorbar\": {\"outlinewidth\": 0, \"ticks\": \"\"}}, \"colorscale\": {\"diverging\": [[0, \"#8e0152\"], [0.1, \"#c51b7d\"], [0.2, \"#de77ae\"], [0.3, \"#f1b6da\"], [0.4, \"#fde0ef\"], [0.5, \"#f7f7f7\"], [0.6, \"#e6f5d0\"], [0.7, \"#b8e186\"], [0.8, \"#7fbc41\"], [0.9, \"#4d9221\"], [1, \"#276419\"]], \"sequential\": [[0.0, \"#0d0887\"], [0.1111111111111111, \"#46039f\"], [0.2222222222222222, \"#7201a8\"], [0.3333333333333333, \"#9c179e\"], [0.4444444444444444, \"#bd3786\"], [0.5555555555555556, \"#d8576b\"], [0.6666666666666666, \"#ed7953\"], [0.7777777777777778, \"#fb9f3a\"], [0.8888888888888888, \"#fdca26\"], [1.0, \"#f0f921\"]], \"sequentialminus\": [[0.0, \"#0d0887\"], [0.1111111111111111, \"#46039f\"], [0.2222222222222222, \"#7201a8\"], [0.3333333333333333, \"#9c179e\"], [0.4444444444444444, \"#bd3786\"], [0.5555555555555556, \"#d8576b\"], [0.6666666666666666, \"#ed7953\"], [0.7777777777777778, \"#fb9f3a\"], [0.8888888888888888, \"#fdca26\"], [1.0, \"#f0f921\"]]}, \"colorway\": [\"#636efa\", \"#EF553B\", \"#00cc96\", \"#ab63fa\", \"#FFA15A\", \"#19d3f3\", \"#FF6692\", \"#B6E880\", \"#FF97FF\", \"#FECB52\"], \"font\": {\"color\": \"#2a3f5f\"}, \"geo\": {\"bgcolor\": \"white\", \"lakecolor\": \"white\", \"landcolor\": \"#E5ECF6\", \"showlakes\": true, \"showland\": true, \"subunitcolor\": \"white\"}, \"hoverlabel\": {\"align\": \"left\"}, \"hovermode\": \"closest\", \"mapbox\": {\"style\": \"light\"}, \"paper_bgcolor\": \"white\", \"plot_bgcolor\": \"#E5ECF6\", \"polar\": {\"angularaxis\": {\"gridcolor\": \"white\", \"linecolor\": \"white\", \"ticks\": \"\"}, \"bgcolor\": \"#E5ECF6\", \"radialaxis\": {\"gridcolor\": \"white\", \"linecolor\": \"white\", \"ticks\": \"\"}}, \"scene\": {\"xaxis\": {\"backgroundcolor\": \"#E5ECF6\", \"gridcolor\": \"white\", \"gridwidth\": 2, \"linecolor\": \"white\", \"showbackground\": true, \"ticks\": \"\", \"zerolinecolor\": \"white\"}, \"yaxis\": {\"backgroundcolor\": \"#E5ECF6\", \"gridcolor\": \"white\", \"gridwidth\": 2, \"linecolor\": \"white\", \"showbackground\": true, \"ticks\": \"\", \"zerolinecolor\": \"white\"}, \"zaxis\": {\"backgroundcolor\": \"#E5ECF6\", \"gridcolor\": \"white\", \"gridwidth\": 2, \"linecolor\": \"white\", \"showbackground\": true, \"ticks\": \"\", \"zerolinecolor\": \"white\"}}, \"shapedefaults\": {\"line\": {\"color\": \"#2a3f5f\"}}, \"ternary\": {\"aaxis\": {\"gridcolor\": \"white\", \"linecolor\": \"white\", \"ticks\": \"\"}, \"baxis\": {\"gridcolor\": \"white\", \"linecolor\": \"white\", \"ticks\": \"\"}, \"bgcolor\": \"#E5ECF6\", \"caxis\": {\"gridcolor\": \"white\", \"linecolor\": \"white\", \"ticks\": \"\"}}, \"title\": {\"x\": 0.05}, \"xaxis\": {\"automargin\": true, \"gridcolor\": \"white\", \"linecolor\": \"white\", \"ticks\": \"\", \"title\": {\"standoff\": 15}, \"zerolinecolor\": \"white\", \"zerolinewidth\": 2}, \"yaxis\": {\"automargin\": true, \"gridcolor\": \"white\", \"linecolor\": \"white\", \"ticks\": \"\", \"title\": {\"standoff\": 15}, \"zerolinecolor\": \"white\", \"zerolinewidth\": 2}}}, \"xaxis\": {\"anchor\": \"y\", \"domain\": [0.0, 1.0], \"title\": {\"text\": \"Energy use (kg of oil equivalent per capita)\"}}, \"yaxis\": {\"anchor\": \"x\", \"domain\": [0.0, 1.0], \"title\": {\"text\": \"continent\"}}},                        {\"responsive\": true}                    ).then(function(){\n",
       "                            \n",
       "var gd = document.getElementById('5821a203-4595-499a-b053-bc5dfcd3b8dc');\n",
       "var x = new MutationObserver(function (mutations, observer) {{\n",
       "        var display = window.getComputedStyle(gd).display;\n",
       "        if (!display || display === 'none') {{\n",
       "            console.log([gd, 'removed!']);\n",
       "            Plotly.purge(gd);\n",
       "            observer.disconnect();\n",
       "        }}\n",
       "}});\n",
       "\n",
       "// Listen for the removal of the full notebook cells\n",
       "var notebookContainer = gd.closest('#notebook-container');\n",
       "if (notebookContainer) {{\n",
       "    x.observe(notebookContainer, {childList: true});\n",
       "}}\n",
       "\n",
       "// Listen for the clearing of the current output cell\n",
       "var outputEl = gd.closest('.output');\n",
       "if (outputEl) {{\n",
       "    x.observe(outputEl, {childList: true});\n",
       "}}\n",
       "\n",
       "                        })                };                });            </script>        </div>"
      ]
     },
     "metadata": {},
     "output_type": "display_data"
    }
   ],
   "source": [
    "fig = px.box(df, x=\"Energy use (kg of oil equivalent per capita)\", y=\"continent\", hover_data=['Country Name'])\n",
    "fig.show()"
   ]
  },
  {
   "cell_type": "markdown",
   "metadata": {},
   "source": [
    "I need to know if the data satisfy parametric requirements to use parametric tests.\n",
    "1. The population from which samples are drawn should be normally distributed. -> Shapiro-Wilk test.\n",
    "2. Independence of cases: the sample cases should be independent of each other. -> I assume that this condition is satisfied.\n",
    "3. Homogeneity of variance: Homogeneity means that the variance among the groups should be approximately equal. -> Levene test"
   ]
  },
  {
   "cell_type": "markdown",
   "metadata": {},
   "source": [
    "First, I separate the \"Energy use\" data per continent, (I'll have five series, one per each continent), and I remove missing values to avoid errors on tests."
   ]
  },
  {
   "cell_type": "code",
   "execution_count": 32,
   "metadata": {},
   "outputs": [],
   "source": [
    "americas_energy = df[df[\"continent\"] == \"Americas\"][\"Energy use (kg of oil equivalent per capita)\"].dropna()\n",
    "oceania_energy = df[df[\"continent\"] == \"Oceania\"][\"Energy use (kg of oil equivalent per capita)\"].dropna()\n",
    "africa_energy = df[df[\"continent\"] == \"Africa\"][\"Energy use (kg of oil equivalent per capita)\"].dropna()\n",
    "europe_energy = df[df[\"continent\"] == \"Europe\"][\"Energy use (kg of oil equivalent per capita)\"].dropna()\n",
    "asia_energy = df[df[\"continent\"] == \"Asia\"][\"Energy use (kg of oil equivalent per capita)\"].dropna()"
   ]
  },
  {
   "cell_type": "markdown",
   "metadata": {},
   "source": [
    "##### Shapiro-Wilk test\n",
    "The Shapiro-Wilk test tests the null hypothesis that the data was drawn from a normal distribution (first requeriment to use parametric tests)."
   ]
  },
  {
   "cell_type": "code",
   "execution_count": 33,
   "metadata": {},
   "outputs": [
    {
     "name": "stdout",
     "output_type": "stream",
     "text": [
      "\n",
      " Americas:  ShapiroResult(statistic=0.5632225871086121, pvalue=1.5868403861741054e-21)  Reject null hypotesis \n",
      " Oceania:  ShapiroResult(statistic=0.9818098545074463, pvalue=0.9552662372589111) Can not reject null hypotesis \n",
      " Africa:  ShapiroResult(statistic=0.6753993034362793, pvalue=2.724574480963581e-19)  Reject null hypotesis \n",
      " Europe:  ShapiroResult(statistic=0.889901876449585, pvalue=3.4700315537650184e-12)  Reject null hypotesis \n",
      " Asia:  ShapiroResult(statistic=0.6609910130500793, pvalue=4.943039538112358e-19)  Reject null hypotesis\n"
     ]
    }
   ],
   "source": [
    "import scipy.stats as stats\n",
    "print(\"\\n\",\n",
    "\"Americas: \",stats.shapiro(americas_energy), \" Reject null hypotesis\",\"\\n\",\n",
    "\"Oceania: \",stats.shapiro(oceania_energy),\"Can not reject null hypotesis\",\"\\n\",\n",
    "\"Africa: \",stats.shapiro(africa_energy),\" Reject null hypotesis\",\"\\n\",\n",
    "\"Europe: \",stats.shapiro(europe_energy),\" Reject null hypotesis\",\"\\n\",\n",
    "\"Asia: \",stats.shapiro(asia_energy),\" Reject null hypotesis\")"
   ]
  },
  {
   "cell_type": "markdown",
   "metadata": {},
   "source": [
    "Shapiro-Wilk tests: rejected 4/5 null hypotheses. Data is not normal distributed."
   ]
  },
  {
   "cell_type": "markdown",
   "metadata": {},
   "source": [
    "##### Levene test\n",
    "\n",
    "The Levene test tests the null hypothesis that all input samples are from populations with equal variances (third requeriment to use parametric tests). "
   ]
  },
  {
   "cell_type": "code",
   "execution_count": 34,
   "metadata": {},
   "outputs": [
    {
     "data": {
      "text/plain": [
       "LeveneResult(statistic=12.113489871462216, pvalue=1.4250677574810339e-09)"
      ]
     },
     "execution_count": 34,
     "metadata": {},
     "output_type": "execute_result"
    }
   ],
   "source": [
    "import scipy.stats as stats\n",
    "stats.levene(*[americas_energy, oceania_energy, africa_energy,europe_energy, asia_energy], \n",
    "             center='median', proportiontocut=0.05)"
   ]
  },
  {
   "cell_type": "markdown",
   "metadata": {},
   "source": [
    "<p>Leneve test: rejected null hypothesis. </p>\n",
    "<p>Shapiro-Wilk and Leneve tests were rejected. Data doesn't satisfy parametric requeriments. So I need to use non-parametric tests.</p>\n",
    "\n",
    "####  Kruskal-Wallis H-test\n",
    "<p>The Kruskal-Wallis H-test tests the null hypothesis that the population median of all of the groups are equal. </p>"
   ]
  },
  {
   "cell_type": "code",
   "execution_count": 35,
   "metadata": {},
   "outputs": [
    {
     "data": {
      "text/plain": [
       "KruskalResult(statistic=302.0114932359461, pvalue=3.989307514095183e-64)"
      ]
     },
     "execution_count": 35,
     "metadata": {},
     "output_type": "execute_result"
    }
   ],
   "source": [
    "stats.kruskal(*[americas_energy, oceania_energy, africa_energy,europe_energy, asia_energy])\n"
   ]
  },
  {
   "cell_type": "markdown",
   "metadata": {},
   "source": [
    "<p>Kruskal-Wallis H-test: rejected null hypothesis.</p>\n",
    "<p>So I have to compare the means to detect the differences and similarities between continents.</p>\n",
    "\n",
    "#### Dunn’s test\n",
    "<p>Post hoc pairwise test for multiple comparisons of mean rank sums. \n",
    "This test is run after Kruskal-Wallis's one-way analysis of variance by ranks to do pairwise comparisons.</p>"
   ]
  },
  {
   "cell_type": "code",
   "execution_count": 36,
   "metadata": {},
   "outputs": [
    {
     "data": {
      "text/html": [
       "<div>\n",
       "<style scoped>\n",
       "    .dataframe tbody tr th:only-of-type {\n",
       "        vertical-align: middle;\n",
       "    }\n",
       "\n",
       "    .dataframe tbody tr th {\n",
       "        vertical-align: top;\n",
       "    }\n",
       "\n",
       "    .dataframe thead th {\n",
       "        text-align: right;\n",
       "    }\n",
       "</style>\n",
       "<table border=\"1\" class=\"dataframe\">\n",
       "  <thead>\n",
       "    <tr style=\"text-align: right;\">\n",
       "      <th></th>\n",
       "      <th>America</th>\n",
       "      <th>Oceania</th>\n",
       "      <th>Africa</th>\n",
       "      <th>Europe</th>\n",
       "      <th>Asia</th>\n",
       "    </tr>\n",
       "  </thead>\n",
       "  <tbody>\n",
       "    <tr>\n",
       "      <th>America</th>\n",
       "      <td>1.000000e+00</td>\n",
       "      <td>5.358423e-08</td>\n",
       "      <td>6.438289e-10</td>\n",
       "      <td>1.025511e-20</td>\n",
       "      <td>1.858753e-01</td>\n",
       "    </tr>\n",
       "    <tr>\n",
       "      <th>Oceania</th>\n",
       "      <td>5.358423e-08</td>\n",
       "      <td>1.000000e+00</td>\n",
       "      <td>4.148905e-16</td>\n",
       "      <td>1.125350e-01</td>\n",
       "      <td>1.779352e-09</td>\n",
       "    </tr>\n",
       "    <tr>\n",
       "      <th>Africa</th>\n",
       "      <td>6.438289e-10</td>\n",
       "      <td>4.148905e-16</td>\n",
       "      <td>1.000000e+00</td>\n",
       "      <td>9.844921e-58</td>\n",
       "      <td>1.479379e-06</td>\n",
       "    </tr>\n",
       "    <tr>\n",
       "      <th>Europe</th>\n",
       "      <td>1.025511e-20</td>\n",
       "      <td>1.125350e-01</td>\n",
       "      <td>9.844921e-58</td>\n",
       "      <td>1.000000e+00</td>\n",
       "      <td>1.130215e-26</td>\n",
       "    </tr>\n",
       "    <tr>\n",
       "      <th>Asia</th>\n",
       "      <td>1.858753e-01</td>\n",
       "      <td>1.779352e-09</td>\n",
       "      <td>1.479379e-06</td>\n",
       "      <td>1.130215e-26</td>\n",
       "      <td>1.000000e+00</td>\n",
       "    </tr>\n",
       "  </tbody>\n",
       "</table>\n",
       "</div>"
      ],
      "text/plain": [
       "              America       Oceania        Africa        Europe          Asia\n",
       "America  1.000000e+00  5.358423e-08  6.438289e-10  1.025511e-20  1.858753e-01\n",
       "Oceania  5.358423e-08  1.000000e+00  4.148905e-16  1.125350e-01  1.779352e-09\n",
       "Africa   6.438289e-10  4.148905e-16  1.000000e+00  9.844921e-58  1.479379e-06\n",
       "Europe   1.025511e-20  1.125350e-01  9.844921e-58  1.000000e+00  1.130215e-26\n",
       "Asia     1.858753e-01  1.779352e-09  1.479379e-06  1.130215e-26  1.000000e+00"
      ]
     },
     "execution_count": 36,
     "metadata": {},
     "output_type": "execute_result"
    }
   ],
   "source": [
    "import scikit_posthocs as sp\n",
    "\n",
    "dunn_test = sp.posthoc_dunn([americas_energy, oceania_energy, africa_energy,europe_energy, asia_energy])\n",
    "dunn_test.columns =[\"America\",\"Oceania\",\"Africa\",\"Europe\",\"Asia\"]\n",
    "dunn_test.index =[\"America\",\"Oceania\",\"Africa\",\"Europe\",\"Asia\"]\n",
    "dunn_test"
   ]
  },
  {
   "cell_type": "code",
   "execution_count": 37,
   "metadata": {},
   "outputs": [
    {
     "data": {
      "application/vnd.plotly.v1+json": {
       "config": {
        "plotlyServerURL": "https://plot.ly"
       },
       "data": [
        {
         "coloraxis": "coloraxis",
         "hovertemplate": "x: %{x}<br>y: %{y}<br>color: %{z}<extra></extra>",
         "name": "0",
         "type": "heatmap",
         "x": [
          "America",
          "Oceania",
          "Africa",
          "Europe",
          "Asia"
         ],
         "xaxis": "x",
         "y": [
          "America",
          "Oceania",
          "Africa",
          "Europe",
          "Asia"
         ],
         "yaxis": "y",
         "z": [
          [
           1,
           5.3584226648039945e-08,
           6.438289009049293e-10,
           1.0255110661565035e-20,
           0.18587533746038798
          ],
          [
           5.3584226648039945e-08,
           1,
           4.148905400249782e-16,
           0.11253504139811153,
           1.7793518574105207e-09
          ],
          [
           6.438289009049293e-10,
           4.148905400249782e-16,
           1,
           9.844920732304242e-58,
           1.4793788926259072e-06
          ],
          [
           1.0255110661565035e-20,
           0.11253504139811153,
           9.844920732304242e-58,
           1,
           1.1302148685405632e-26
          ],
          [
           0.18587533746038798,
           1.7793518574105207e-09,
           1.4793788926259072e-06,
           1.1302148685405632e-26,
           1
          ]
         ]
        }
       ],
       "layout": {
        "coloraxis": {
         "colorscale": [
          [
           0,
           "#0d0887"
          ],
          [
           0.1111111111111111,
           "#46039f"
          ],
          [
           0.2222222222222222,
           "#7201a8"
          ],
          [
           0.3333333333333333,
           "#9c179e"
          ],
          [
           0.4444444444444444,
           "#bd3786"
          ],
          [
           0.5555555555555556,
           "#d8576b"
          ],
          [
           0.6666666666666666,
           "#ed7953"
          ],
          [
           0.7777777777777778,
           "#fb9f3a"
          ],
          [
           0.8888888888888888,
           "#fdca26"
          ],
          [
           1,
           "#f0f921"
          ]
         ]
        },
        "template": {
         "data": {
          "bar": [
           {
            "error_x": {
             "color": "#2a3f5f"
            },
            "error_y": {
             "color": "#2a3f5f"
            },
            "marker": {
             "line": {
              "color": "#E5ECF6",
              "width": 0.5
             }
            },
            "type": "bar"
           }
          ],
          "barpolar": [
           {
            "marker": {
             "line": {
              "color": "#E5ECF6",
              "width": 0.5
             }
            },
            "type": "barpolar"
           }
          ],
          "carpet": [
           {
            "aaxis": {
             "endlinecolor": "#2a3f5f",
             "gridcolor": "white",
             "linecolor": "white",
             "minorgridcolor": "white",
             "startlinecolor": "#2a3f5f"
            },
            "baxis": {
             "endlinecolor": "#2a3f5f",
             "gridcolor": "white",
             "linecolor": "white",
             "minorgridcolor": "white",
             "startlinecolor": "#2a3f5f"
            },
            "type": "carpet"
           }
          ],
          "choropleth": [
           {
            "colorbar": {
             "outlinewidth": 0,
             "ticks": ""
            },
            "type": "choropleth"
           }
          ],
          "contour": [
           {
            "colorbar": {
             "outlinewidth": 0,
             "ticks": ""
            },
            "colorscale": [
             [
              0,
              "#0d0887"
             ],
             [
              0.1111111111111111,
              "#46039f"
             ],
             [
              0.2222222222222222,
              "#7201a8"
             ],
             [
              0.3333333333333333,
              "#9c179e"
             ],
             [
              0.4444444444444444,
              "#bd3786"
             ],
             [
              0.5555555555555556,
              "#d8576b"
             ],
             [
              0.6666666666666666,
              "#ed7953"
             ],
             [
              0.7777777777777778,
              "#fb9f3a"
             ],
             [
              0.8888888888888888,
              "#fdca26"
             ],
             [
              1,
              "#f0f921"
             ]
            ],
            "type": "contour"
           }
          ],
          "contourcarpet": [
           {
            "colorbar": {
             "outlinewidth": 0,
             "ticks": ""
            },
            "type": "contourcarpet"
           }
          ],
          "heatmap": [
           {
            "colorbar": {
             "outlinewidth": 0,
             "ticks": ""
            },
            "colorscale": [
             [
              0,
              "#0d0887"
             ],
             [
              0.1111111111111111,
              "#46039f"
             ],
             [
              0.2222222222222222,
              "#7201a8"
             ],
             [
              0.3333333333333333,
              "#9c179e"
             ],
             [
              0.4444444444444444,
              "#bd3786"
             ],
             [
              0.5555555555555556,
              "#d8576b"
             ],
             [
              0.6666666666666666,
              "#ed7953"
             ],
             [
              0.7777777777777778,
              "#fb9f3a"
             ],
             [
              0.8888888888888888,
              "#fdca26"
             ],
             [
              1,
              "#f0f921"
             ]
            ],
            "type": "heatmap"
           }
          ],
          "heatmapgl": [
           {
            "colorbar": {
             "outlinewidth": 0,
             "ticks": ""
            },
            "colorscale": [
             [
              0,
              "#0d0887"
             ],
             [
              0.1111111111111111,
              "#46039f"
             ],
             [
              0.2222222222222222,
              "#7201a8"
             ],
             [
              0.3333333333333333,
              "#9c179e"
             ],
             [
              0.4444444444444444,
              "#bd3786"
             ],
             [
              0.5555555555555556,
              "#d8576b"
             ],
             [
              0.6666666666666666,
              "#ed7953"
             ],
             [
              0.7777777777777778,
              "#fb9f3a"
             ],
             [
              0.8888888888888888,
              "#fdca26"
             ],
             [
              1,
              "#f0f921"
             ]
            ],
            "type": "heatmapgl"
           }
          ],
          "histogram": [
           {
            "marker": {
             "colorbar": {
              "outlinewidth": 0,
              "ticks": ""
             }
            },
            "type": "histogram"
           }
          ],
          "histogram2d": [
           {
            "colorbar": {
             "outlinewidth": 0,
             "ticks": ""
            },
            "colorscale": [
             [
              0,
              "#0d0887"
             ],
             [
              0.1111111111111111,
              "#46039f"
             ],
             [
              0.2222222222222222,
              "#7201a8"
             ],
             [
              0.3333333333333333,
              "#9c179e"
             ],
             [
              0.4444444444444444,
              "#bd3786"
             ],
             [
              0.5555555555555556,
              "#d8576b"
             ],
             [
              0.6666666666666666,
              "#ed7953"
             ],
             [
              0.7777777777777778,
              "#fb9f3a"
             ],
             [
              0.8888888888888888,
              "#fdca26"
             ],
             [
              1,
              "#f0f921"
             ]
            ],
            "type": "histogram2d"
           }
          ],
          "histogram2dcontour": [
           {
            "colorbar": {
             "outlinewidth": 0,
             "ticks": ""
            },
            "colorscale": [
             [
              0,
              "#0d0887"
             ],
             [
              0.1111111111111111,
              "#46039f"
             ],
             [
              0.2222222222222222,
              "#7201a8"
             ],
             [
              0.3333333333333333,
              "#9c179e"
             ],
             [
              0.4444444444444444,
              "#bd3786"
             ],
             [
              0.5555555555555556,
              "#d8576b"
             ],
             [
              0.6666666666666666,
              "#ed7953"
             ],
             [
              0.7777777777777778,
              "#fb9f3a"
             ],
             [
              0.8888888888888888,
              "#fdca26"
             ],
             [
              1,
              "#f0f921"
             ]
            ],
            "type": "histogram2dcontour"
           }
          ],
          "mesh3d": [
           {
            "colorbar": {
             "outlinewidth": 0,
             "ticks": ""
            },
            "type": "mesh3d"
           }
          ],
          "parcoords": [
           {
            "line": {
             "colorbar": {
              "outlinewidth": 0,
              "ticks": ""
             }
            },
            "type": "parcoords"
           }
          ],
          "pie": [
           {
            "automargin": true,
            "type": "pie"
           }
          ],
          "scatter": [
           {
            "marker": {
             "colorbar": {
              "outlinewidth": 0,
              "ticks": ""
             }
            },
            "type": "scatter"
           }
          ],
          "scatter3d": [
           {
            "line": {
             "colorbar": {
              "outlinewidth": 0,
              "ticks": ""
             }
            },
            "marker": {
             "colorbar": {
              "outlinewidth": 0,
              "ticks": ""
             }
            },
            "type": "scatter3d"
           }
          ],
          "scattercarpet": [
           {
            "marker": {
             "colorbar": {
              "outlinewidth": 0,
              "ticks": ""
             }
            },
            "type": "scattercarpet"
           }
          ],
          "scattergeo": [
           {
            "marker": {
             "colorbar": {
              "outlinewidth": 0,
              "ticks": ""
             }
            },
            "type": "scattergeo"
           }
          ],
          "scattergl": [
           {
            "marker": {
             "colorbar": {
              "outlinewidth": 0,
              "ticks": ""
             }
            },
            "type": "scattergl"
           }
          ],
          "scattermapbox": [
           {
            "marker": {
             "colorbar": {
              "outlinewidth": 0,
              "ticks": ""
             }
            },
            "type": "scattermapbox"
           }
          ],
          "scatterpolar": [
           {
            "marker": {
             "colorbar": {
              "outlinewidth": 0,
              "ticks": ""
             }
            },
            "type": "scatterpolar"
           }
          ],
          "scatterpolargl": [
           {
            "marker": {
             "colorbar": {
              "outlinewidth": 0,
              "ticks": ""
             }
            },
            "type": "scatterpolargl"
           }
          ],
          "scatterternary": [
           {
            "marker": {
             "colorbar": {
              "outlinewidth": 0,
              "ticks": ""
             }
            },
            "type": "scatterternary"
           }
          ],
          "surface": [
           {
            "colorbar": {
             "outlinewidth": 0,
             "ticks": ""
            },
            "colorscale": [
             [
              0,
              "#0d0887"
             ],
             [
              0.1111111111111111,
              "#46039f"
             ],
             [
              0.2222222222222222,
              "#7201a8"
             ],
             [
              0.3333333333333333,
              "#9c179e"
             ],
             [
              0.4444444444444444,
              "#bd3786"
             ],
             [
              0.5555555555555556,
              "#d8576b"
             ],
             [
              0.6666666666666666,
              "#ed7953"
             ],
             [
              0.7777777777777778,
              "#fb9f3a"
             ],
             [
              0.8888888888888888,
              "#fdca26"
             ],
             [
              1,
              "#f0f921"
             ]
            ],
            "type": "surface"
           }
          ],
          "table": [
           {
            "cells": {
             "fill": {
              "color": "#EBF0F8"
             },
             "line": {
              "color": "white"
             }
            },
            "header": {
             "fill": {
              "color": "#C8D4E3"
             },
             "line": {
              "color": "white"
             }
            },
            "type": "table"
           }
          ]
         },
         "layout": {
          "annotationdefaults": {
           "arrowcolor": "#2a3f5f",
           "arrowhead": 0,
           "arrowwidth": 1
          },
          "autotypenumbers": "strict",
          "coloraxis": {
           "colorbar": {
            "outlinewidth": 0,
            "ticks": ""
           }
          },
          "colorscale": {
           "diverging": [
            [
             0,
             "#8e0152"
            ],
            [
             0.1,
             "#c51b7d"
            ],
            [
             0.2,
             "#de77ae"
            ],
            [
             0.3,
             "#f1b6da"
            ],
            [
             0.4,
             "#fde0ef"
            ],
            [
             0.5,
             "#f7f7f7"
            ],
            [
             0.6,
             "#e6f5d0"
            ],
            [
             0.7,
             "#b8e186"
            ],
            [
             0.8,
             "#7fbc41"
            ],
            [
             0.9,
             "#4d9221"
            ],
            [
             1,
             "#276419"
            ]
           ],
           "sequential": [
            [
             0,
             "#0d0887"
            ],
            [
             0.1111111111111111,
             "#46039f"
            ],
            [
             0.2222222222222222,
             "#7201a8"
            ],
            [
             0.3333333333333333,
             "#9c179e"
            ],
            [
             0.4444444444444444,
             "#bd3786"
            ],
            [
             0.5555555555555556,
             "#d8576b"
            ],
            [
             0.6666666666666666,
             "#ed7953"
            ],
            [
             0.7777777777777778,
             "#fb9f3a"
            ],
            [
             0.8888888888888888,
             "#fdca26"
            ],
            [
             1,
             "#f0f921"
            ]
           ],
           "sequentialminus": [
            [
             0,
             "#0d0887"
            ],
            [
             0.1111111111111111,
             "#46039f"
            ],
            [
             0.2222222222222222,
             "#7201a8"
            ],
            [
             0.3333333333333333,
             "#9c179e"
            ],
            [
             0.4444444444444444,
             "#bd3786"
            ],
            [
             0.5555555555555556,
             "#d8576b"
            ],
            [
             0.6666666666666666,
             "#ed7953"
            ],
            [
             0.7777777777777778,
             "#fb9f3a"
            ],
            [
             0.8888888888888888,
             "#fdca26"
            ],
            [
             1,
             "#f0f921"
            ]
           ]
          },
          "colorway": [
           "#636efa",
           "#EF553B",
           "#00cc96",
           "#ab63fa",
           "#FFA15A",
           "#19d3f3",
           "#FF6692",
           "#B6E880",
           "#FF97FF",
           "#FECB52"
          ],
          "font": {
           "color": "#2a3f5f"
          },
          "geo": {
           "bgcolor": "white",
           "lakecolor": "white",
           "landcolor": "#E5ECF6",
           "showlakes": true,
           "showland": true,
           "subunitcolor": "white"
          },
          "hoverlabel": {
           "align": "left"
          },
          "hovermode": "closest",
          "mapbox": {
           "style": "light"
          },
          "paper_bgcolor": "white",
          "plot_bgcolor": "#E5ECF6",
          "polar": {
           "angularaxis": {
            "gridcolor": "white",
            "linecolor": "white",
            "ticks": ""
           },
           "bgcolor": "#E5ECF6",
           "radialaxis": {
            "gridcolor": "white",
            "linecolor": "white",
            "ticks": ""
           }
          },
          "scene": {
           "xaxis": {
            "backgroundcolor": "#E5ECF6",
            "gridcolor": "white",
            "gridwidth": 2,
            "linecolor": "white",
            "showbackground": true,
            "ticks": "",
            "zerolinecolor": "white"
           },
           "yaxis": {
            "backgroundcolor": "#E5ECF6",
            "gridcolor": "white",
            "gridwidth": 2,
            "linecolor": "white",
            "showbackground": true,
            "ticks": "",
            "zerolinecolor": "white"
           },
           "zaxis": {
            "backgroundcolor": "#E5ECF6",
            "gridcolor": "white",
            "gridwidth": 2,
            "linecolor": "white",
            "showbackground": true,
            "ticks": "",
            "zerolinecolor": "white"
           }
          },
          "shapedefaults": {
           "line": {
            "color": "#2a3f5f"
           }
          },
          "ternary": {
           "aaxis": {
            "gridcolor": "white",
            "linecolor": "white",
            "ticks": ""
           },
           "baxis": {
            "gridcolor": "white",
            "linecolor": "white",
            "ticks": ""
           },
           "bgcolor": "#E5ECF6",
           "caxis": {
            "gridcolor": "white",
            "linecolor": "white",
            "ticks": ""
           }
          },
          "title": {
           "x": 0.05
          },
          "xaxis": {
           "automargin": true,
           "gridcolor": "white",
           "linecolor": "white",
           "ticks": "",
           "title": {
            "standoff": 15
           },
           "zerolinecolor": "white",
           "zerolinewidth": 2
          },
          "yaxis": {
           "automargin": true,
           "gridcolor": "white",
           "linecolor": "white",
           "ticks": "",
           "title": {
            "standoff": 15
           },
           "zerolinecolor": "white",
           "zerolinewidth": 2
          }
         }
        },
        "title": {
         "text": "Dunn's test between continents' energy use means"
        },
        "xaxis": {
         "anchor": "y",
         "constrain": "domain",
         "domain": [
          0,
          1
         ],
         "scaleanchor": "y"
        },
        "yaxis": {
         "anchor": "x",
         "autorange": "reversed",
         "constrain": "domain",
         "domain": [
          0,
          1
         ]
        }
       }
      },
      "text/html": [
       "<div>                            <div id=\"1a073e92-c1e7-457d-b51b-9f6242432ed7\" class=\"plotly-graph-div\" style=\"height:525px; width:100%;\"></div>            <script type=\"text/javascript\">                require([\"plotly\"], function(Plotly) {                    window.PLOTLYENV=window.PLOTLYENV || {};                                    if (document.getElementById(\"1a073e92-c1e7-457d-b51b-9f6242432ed7\")) {                    Plotly.newPlot(                        \"1a073e92-c1e7-457d-b51b-9f6242432ed7\",                        [{\"coloraxis\": \"coloraxis\", \"hovertemplate\": \"x: %{x}<br>y: %{y}<br>color: %{z}<extra></extra>\", \"name\": \"0\", \"type\": \"heatmap\", \"x\": [\"America\", \"Oceania\", \"Africa\", \"Europe\", \"Asia\"], \"xaxis\": \"x\", \"y\": [\"America\", \"Oceania\", \"Africa\", \"Europe\", \"Asia\"], \"yaxis\": \"y\", \"z\": [[1.0, 5.3584226648039945e-08, 6.438289009049293e-10, 1.0255110661565035e-20, 0.18587533746038798], [5.3584226648039945e-08, 1.0, 4.148905400249782e-16, 0.11253504139811153, 1.7793518574105207e-09], [6.438289009049293e-10, 4.148905400249782e-16, 1.0, 9.844920732304242e-58, 1.4793788926259072e-06], [1.0255110661565035e-20, 0.11253504139811153, 9.844920732304242e-58, 1.0, 1.1302148685405632e-26], [0.18587533746038798, 1.7793518574105207e-09, 1.4793788926259072e-06, 1.1302148685405632e-26, 1.0]]}],                        {\"coloraxis\": {\"colorscale\": [[0.0, \"#0d0887\"], [0.1111111111111111, \"#46039f\"], [0.2222222222222222, \"#7201a8\"], [0.3333333333333333, \"#9c179e\"], [0.4444444444444444, \"#bd3786\"], [0.5555555555555556, \"#d8576b\"], [0.6666666666666666, \"#ed7953\"], [0.7777777777777778, \"#fb9f3a\"], [0.8888888888888888, \"#fdca26\"], [1.0, \"#f0f921\"]]}, \"template\": {\"data\": {\"bar\": [{\"error_x\": {\"color\": \"#2a3f5f\"}, \"error_y\": {\"color\": \"#2a3f5f\"}, \"marker\": {\"line\": {\"color\": \"#E5ECF6\", \"width\": 0.5}}, \"type\": \"bar\"}], \"barpolar\": [{\"marker\": {\"line\": {\"color\": \"#E5ECF6\", \"width\": 0.5}}, \"type\": \"barpolar\"}], \"carpet\": [{\"aaxis\": {\"endlinecolor\": \"#2a3f5f\", \"gridcolor\": \"white\", \"linecolor\": \"white\", \"minorgridcolor\": \"white\", \"startlinecolor\": \"#2a3f5f\"}, \"baxis\": {\"endlinecolor\": \"#2a3f5f\", \"gridcolor\": \"white\", \"linecolor\": \"white\", \"minorgridcolor\": \"white\", \"startlinecolor\": \"#2a3f5f\"}, \"type\": \"carpet\"}], \"choropleth\": [{\"colorbar\": {\"outlinewidth\": 0, \"ticks\": \"\"}, \"type\": \"choropleth\"}], \"contour\": [{\"colorbar\": {\"outlinewidth\": 0, \"ticks\": \"\"}, \"colorscale\": [[0.0, \"#0d0887\"], [0.1111111111111111, \"#46039f\"], [0.2222222222222222, \"#7201a8\"], [0.3333333333333333, \"#9c179e\"], [0.4444444444444444, \"#bd3786\"], [0.5555555555555556, \"#d8576b\"], [0.6666666666666666, \"#ed7953\"], [0.7777777777777778, \"#fb9f3a\"], [0.8888888888888888, \"#fdca26\"], [1.0, \"#f0f921\"]], \"type\": \"contour\"}], \"contourcarpet\": [{\"colorbar\": {\"outlinewidth\": 0, \"ticks\": \"\"}, \"type\": \"contourcarpet\"}], \"heatmap\": [{\"colorbar\": {\"outlinewidth\": 0, \"ticks\": \"\"}, \"colorscale\": [[0.0, \"#0d0887\"], [0.1111111111111111, \"#46039f\"], [0.2222222222222222, \"#7201a8\"], [0.3333333333333333, \"#9c179e\"], [0.4444444444444444, \"#bd3786\"], [0.5555555555555556, \"#d8576b\"], [0.6666666666666666, \"#ed7953\"], [0.7777777777777778, \"#fb9f3a\"], [0.8888888888888888, \"#fdca26\"], [1.0, \"#f0f921\"]], \"type\": \"heatmap\"}], \"heatmapgl\": [{\"colorbar\": {\"outlinewidth\": 0, \"ticks\": \"\"}, \"colorscale\": [[0.0, \"#0d0887\"], [0.1111111111111111, \"#46039f\"], [0.2222222222222222, \"#7201a8\"], [0.3333333333333333, \"#9c179e\"], [0.4444444444444444, \"#bd3786\"], [0.5555555555555556, \"#d8576b\"], [0.6666666666666666, \"#ed7953\"], [0.7777777777777778, \"#fb9f3a\"], [0.8888888888888888, \"#fdca26\"], [1.0, \"#f0f921\"]], \"type\": \"heatmapgl\"}], \"histogram\": [{\"marker\": {\"colorbar\": {\"outlinewidth\": 0, \"ticks\": \"\"}}, \"type\": \"histogram\"}], \"histogram2d\": [{\"colorbar\": {\"outlinewidth\": 0, \"ticks\": \"\"}, \"colorscale\": [[0.0, \"#0d0887\"], [0.1111111111111111, \"#46039f\"], [0.2222222222222222, \"#7201a8\"], [0.3333333333333333, \"#9c179e\"], [0.4444444444444444, \"#bd3786\"], [0.5555555555555556, \"#d8576b\"], [0.6666666666666666, \"#ed7953\"], [0.7777777777777778, \"#fb9f3a\"], [0.8888888888888888, \"#fdca26\"], [1.0, \"#f0f921\"]], \"type\": \"histogram2d\"}], \"histogram2dcontour\": [{\"colorbar\": {\"outlinewidth\": 0, \"ticks\": \"\"}, \"colorscale\": [[0.0, \"#0d0887\"], [0.1111111111111111, \"#46039f\"], [0.2222222222222222, \"#7201a8\"], [0.3333333333333333, \"#9c179e\"], [0.4444444444444444, \"#bd3786\"], [0.5555555555555556, \"#d8576b\"], [0.6666666666666666, \"#ed7953\"], [0.7777777777777778, \"#fb9f3a\"], [0.8888888888888888, \"#fdca26\"], [1.0, \"#f0f921\"]], \"type\": \"histogram2dcontour\"}], \"mesh3d\": [{\"colorbar\": {\"outlinewidth\": 0, \"ticks\": \"\"}, \"type\": \"mesh3d\"}], \"parcoords\": [{\"line\": {\"colorbar\": {\"outlinewidth\": 0, \"ticks\": \"\"}}, \"type\": \"parcoords\"}], \"pie\": [{\"automargin\": true, \"type\": \"pie\"}], \"scatter\": [{\"marker\": {\"colorbar\": {\"outlinewidth\": 0, \"ticks\": \"\"}}, \"type\": \"scatter\"}], \"scatter3d\": [{\"line\": {\"colorbar\": {\"outlinewidth\": 0, \"ticks\": \"\"}}, \"marker\": {\"colorbar\": {\"outlinewidth\": 0, \"ticks\": \"\"}}, \"type\": \"scatter3d\"}], \"scattercarpet\": [{\"marker\": {\"colorbar\": {\"outlinewidth\": 0, \"ticks\": \"\"}}, \"type\": \"scattercarpet\"}], \"scattergeo\": [{\"marker\": {\"colorbar\": {\"outlinewidth\": 0, \"ticks\": \"\"}}, \"type\": \"scattergeo\"}], \"scattergl\": [{\"marker\": {\"colorbar\": {\"outlinewidth\": 0, \"ticks\": \"\"}}, \"type\": \"scattergl\"}], \"scattermapbox\": [{\"marker\": {\"colorbar\": {\"outlinewidth\": 0, \"ticks\": \"\"}}, \"type\": \"scattermapbox\"}], \"scatterpolar\": [{\"marker\": {\"colorbar\": {\"outlinewidth\": 0, \"ticks\": \"\"}}, \"type\": \"scatterpolar\"}], \"scatterpolargl\": [{\"marker\": {\"colorbar\": {\"outlinewidth\": 0, \"ticks\": \"\"}}, \"type\": \"scatterpolargl\"}], \"scatterternary\": [{\"marker\": {\"colorbar\": {\"outlinewidth\": 0, \"ticks\": \"\"}}, \"type\": \"scatterternary\"}], \"surface\": [{\"colorbar\": {\"outlinewidth\": 0, \"ticks\": \"\"}, \"colorscale\": [[0.0, \"#0d0887\"], [0.1111111111111111, \"#46039f\"], [0.2222222222222222, \"#7201a8\"], [0.3333333333333333, \"#9c179e\"], [0.4444444444444444, \"#bd3786\"], [0.5555555555555556, \"#d8576b\"], [0.6666666666666666, \"#ed7953\"], [0.7777777777777778, \"#fb9f3a\"], [0.8888888888888888, \"#fdca26\"], [1.0, \"#f0f921\"]], \"type\": \"surface\"}], \"table\": [{\"cells\": {\"fill\": {\"color\": \"#EBF0F8\"}, \"line\": {\"color\": \"white\"}}, \"header\": {\"fill\": {\"color\": \"#C8D4E3\"}, \"line\": {\"color\": \"white\"}}, \"type\": \"table\"}]}, \"layout\": {\"annotationdefaults\": {\"arrowcolor\": \"#2a3f5f\", \"arrowhead\": 0, \"arrowwidth\": 1}, \"autotypenumbers\": \"strict\", \"coloraxis\": {\"colorbar\": {\"outlinewidth\": 0, \"ticks\": \"\"}}, \"colorscale\": {\"diverging\": [[0, \"#8e0152\"], [0.1, \"#c51b7d\"], [0.2, \"#de77ae\"], [0.3, \"#f1b6da\"], [0.4, \"#fde0ef\"], [0.5, \"#f7f7f7\"], [0.6, \"#e6f5d0\"], [0.7, \"#b8e186\"], [0.8, \"#7fbc41\"], [0.9, \"#4d9221\"], [1, \"#276419\"]], \"sequential\": [[0.0, \"#0d0887\"], [0.1111111111111111, \"#46039f\"], [0.2222222222222222, \"#7201a8\"], [0.3333333333333333, \"#9c179e\"], [0.4444444444444444, \"#bd3786\"], [0.5555555555555556, \"#d8576b\"], [0.6666666666666666, \"#ed7953\"], [0.7777777777777778, \"#fb9f3a\"], [0.8888888888888888, \"#fdca26\"], [1.0, \"#f0f921\"]], \"sequentialminus\": [[0.0, \"#0d0887\"], [0.1111111111111111, \"#46039f\"], [0.2222222222222222, \"#7201a8\"], [0.3333333333333333, \"#9c179e\"], [0.4444444444444444, \"#bd3786\"], [0.5555555555555556, \"#d8576b\"], [0.6666666666666666, \"#ed7953\"], [0.7777777777777778, \"#fb9f3a\"], [0.8888888888888888, \"#fdca26\"], [1.0, \"#f0f921\"]]}, \"colorway\": [\"#636efa\", \"#EF553B\", \"#00cc96\", \"#ab63fa\", \"#FFA15A\", \"#19d3f3\", \"#FF6692\", \"#B6E880\", \"#FF97FF\", \"#FECB52\"], \"font\": {\"color\": \"#2a3f5f\"}, \"geo\": {\"bgcolor\": \"white\", \"lakecolor\": \"white\", \"landcolor\": \"#E5ECF6\", \"showlakes\": true, \"showland\": true, \"subunitcolor\": \"white\"}, \"hoverlabel\": {\"align\": \"left\"}, \"hovermode\": \"closest\", \"mapbox\": {\"style\": \"light\"}, \"paper_bgcolor\": \"white\", \"plot_bgcolor\": \"#E5ECF6\", \"polar\": {\"angularaxis\": {\"gridcolor\": \"white\", \"linecolor\": \"white\", \"ticks\": \"\"}, \"bgcolor\": \"#E5ECF6\", \"radialaxis\": {\"gridcolor\": \"white\", \"linecolor\": \"white\", \"ticks\": \"\"}}, \"scene\": {\"xaxis\": {\"backgroundcolor\": \"#E5ECF6\", \"gridcolor\": \"white\", \"gridwidth\": 2, \"linecolor\": \"white\", \"showbackground\": true, \"ticks\": \"\", \"zerolinecolor\": \"white\"}, \"yaxis\": {\"backgroundcolor\": \"#E5ECF6\", \"gridcolor\": \"white\", \"gridwidth\": 2, \"linecolor\": \"white\", \"showbackground\": true, \"ticks\": \"\", \"zerolinecolor\": \"white\"}, \"zaxis\": {\"backgroundcolor\": \"#E5ECF6\", \"gridcolor\": \"white\", \"gridwidth\": 2, \"linecolor\": \"white\", \"showbackground\": true, \"ticks\": \"\", \"zerolinecolor\": \"white\"}}, \"shapedefaults\": {\"line\": {\"color\": \"#2a3f5f\"}}, \"ternary\": {\"aaxis\": {\"gridcolor\": \"white\", \"linecolor\": \"white\", \"ticks\": \"\"}, \"baxis\": {\"gridcolor\": \"white\", \"linecolor\": \"white\", \"ticks\": \"\"}, \"bgcolor\": \"#E5ECF6\", \"caxis\": {\"gridcolor\": \"white\", \"linecolor\": \"white\", \"ticks\": \"\"}}, \"title\": {\"x\": 0.05}, \"xaxis\": {\"automargin\": true, \"gridcolor\": \"white\", \"linecolor\": \"white\", \"ticks\": \"\", \"title\": {\"standoff\": 15}, \"zerolinecolor\": \"white\", \"zerolinewidth\": 2}, \"yaxis\": {\"automargin\": true, \"gridcolor\": \"white\", \"linecolor\": \"white\", \"ticks\": \"\", \"title\": {\"standoff\": 15}, \"zerolinecolor\": \"white\", \"zerolinewidth\": 2}}}, \"title\": {\"text\": \"Dunn's test between continents' energy use means\"}, \"xaxis\": {\"anchor\": \"y\", \"constrain\": \"domain\", \"domain\": [0.0, 1.0], \"scaleanchor\": \"y\"}, \"yaxis\": {\"anchor\": \"x\", \"autorange\": \"reversed\", \"constrain\": \"domain\", \"domain\": [0.0, 1.0]}},                        {\"responsive\": true}                    ).then(function(){\n",
       "                            \n",
       "var gd = document.getElementById('1a073e92-c1e7-457d-b51b-9f6242432ed7');\n",
       "var x = new MutationObserver(function (mutations, observer) {{\n",
       "        var display = window.getComputedStyle(gd).display;\n",
       "        if (!display || display === 'none') {{\n",
       "            console.log([gd, 'removed!']);\n",
       "            Plotly.purge(gd);\n",
       "            observer.disconnect();\n",
       "        }}\n",
       "}});\n",
       "\n",
       "// Listen for the removal of the full notebook cells\n",
       "var notebookContainer = gd.closest('#notebook-container');\n",
       "if (notebookContainer) {{\n",
       "    x.observe(notebookContainer, {childList: true});\n",
       "}}\n",
       "\n",
       "// Listen for the clearing of the current output cell\n",
       "var outputEl = gd.closest('.output');\n",
       "if (outputEl) {{\n",
       "    x.observe(outputEl, {childList: true});\n",
       "}}\n",
       "\n",
       "                        })                };                });            </script>        </div>"
      ]
     },
     "metadata": {},
     "output_type": "display_data"
    }
   ],
   "source": [
    "fig = px.imshow(dunn_test, title=\"Dunn's test between continents' energy use means\")\n",
    "fig.show()"
   ]
  },
  {
   "cell_type": "markdown",
   "metadata": {},
   "source": [
    "<p>Asia's and Americas' energy use means are similar.</p>\n",
    "<p>Oceania's and Europe's energy use means are similar.</p>"
   ]
  },
  {
   "cell_type": "markdown",
   "metadata": {},
   "source": [
    "<a id=\"four\"></a>\n",
    "### Is there a significant difference between Europe and Asia with respect to 'Imports of goods and services (% of GDP)' in the years after 1990?\n",
    "<a href=\"#index\">Go to the table of contents</a>"
   ]
  },
  {
   "cell_type": "code",
   "execution_count": 38,
   "metadata": {
    "scrolled": true
   },
   "outputs": [
    {
     "data": {
      "text/html": [
       "<div>\n",
       "<style scoped>\n",
       "    .dataframe tbody tr th:only-of-type {\n",
       "        vertical-align: middle;\n",
       "    }\n",
       "\n",
       "    .dataframe tbody tr th {\n",
       "        vertical-align: top;\n",
       "    }\n",
       "\n",
       "    .dataframe thead th {\n",
       "        text-align: right;\n",
       "    }\n",
       "</style>\n",
       "<table border=\"1\" class=\"dataframe\">\n",
       "  <thead>\n",
       "    <tr style=\"text-align: right;\">\n",
       "      <th></th>\n",
       "      <th>count</th>\n",
       "      <th>mean</th>\n",
       "      <th>std</th>\n",
       "      <th>min</th>\n",
       "      <th>25%</th>\n",
       "      <th>50%</th>\n",
       "      <th>75%</th>\n",
       "      <th>max</th>\n",
       "    </tr>\n",
       "    <tr>\n",
       "      <th>continent</th>\n",
       "      <th></th>\n",
       "      <th></th>\n",
       "      <th></th>\n",
       "      <th></th>\n",
       "      <th></th>\n",
       "      <th></th>\n",
       "      <th></th>\n",
       "      <th></th>\n",
       "    </tr>\n",
       "  </thead>\n",
       "  <tbody>\n",
       "    <tr>\n",
       "      <th>Asia</th>\n",
       "      <td>93.0</td>\n",
       "      <td>41.713928</td>\n",
       "      <td>23.454248</td>\n",
       "      <td>0.079506</td>\n",
       "      <td>25.393531</td>\n",
       "      <td>38.831290</td>\n",
       "      <td>58.350047</td>\n",
       "      <td>96.742045</td>\n",
       "    </tr>\n",
       "    <tr>\n",
       "      <th>Europe</th>\n",
       "      <td>111.0</td>\n",
       "      <td>41.761071</td>\n",
       "      <td>16.818978</td>\n",
       "      <td>17.345130</td>\n",
       "      <td>28.462519</td>\n",
       "      <td>37.691245</td>\n",
       "      <td>51.129504</td>\n",
       "      <td>88.512248</td>\n",
       "    </tr>\n",
       "  </tbody>\n",
       "</table>\n",
       "</div>"
      ],
      "text/plain": [
       "           count       mean        std        min        25%        50%  \\\n",
       "continent                                                                 \n",
       "Asia        93.0  41.713928  23.454248   0.079506  25.393531  38.831290   \n",
       "Europe     111.0  41.761071  16.818978  17.345130  28.462519  37.691245   \n",
       "\n",
       "                 75%        max  \n",
       "continent                        \n",
       "Asia       58.350047  96.742045  \n",
       "Europe     51.129504  88.512248  "
      ]
     },
     "execution_count": 38,
     "metadata": {},
     "output_type": "execute_result"
    }
   ],
   "source": [
    "europe_and_asia_after_1990 = df[((df[\"continent\"] == \"Europe\") |\n",
    "                (df[\"continent\"] == \"Asia\")) & (df[\"Year\"] > 1990) & \n",
    "                (df['Imports of goods and services (% of GDP)'] < 97 ) ] # Deleted Outliers (Singapore is an exception)\n",
    "europe_and_asia_after_1990.groupby(\"continent\")[\"Imports of goods and services (% of GDP)\"].describe()"
   ]
  },
  {
   "cell_type": "code",
   "execution_count": 39,
   "metadata": {},
   "outputs": [
    {
     "data": {
      "application/vnd.plotly.v1+json": {
       "config": {
        "plotlyServerURL": "https://plot.ly"
       },
       "data": [
        {
         "alignmentgroup": "True",
         "customdata": [
          [
           "Afghanistan",
           2002
          ],
          [
           "Afghanistan",
           2007
          ],
          [
           "Albania",
           1992
          ],
          [
           "Albania",
           1997
          ],
          [
           "Albania",
           2002
          ],
          [
           "Albania",
           2007
          ],
          [
           "Austria",
           1992
          ],
          [
           "Austria",
           1997
          ],
          [
           "Austria",
           2002
          ],
          [
           "Austria",
           2007
          ],
          [
           "Bahrain",
           1992
          ],
          [
           "Bahrain",
           1997
          ],
          [
           "Bahrain",
           2002
          ],
          [
           "Bahrain",
           2007
          ],
          [
           "Bangladesh",
           1992
          ],
          [
           "Bangladesh",
           1997
          ],
          [
           "Bangladesh",
           2002
          ],
          [
           "Bangladesh",
           2007
          ],
          [
           "Belgium",
           1992
          ],
          [
           "Belgium",
           1997
          ],
          [
           "Belgium",
           2002
          ],
          [
           "Belgium",
           2007
          ],
          [
           "Bosnia and Herzegovina",
           1997
          ],
          [
           "Bosnia and Herzegovina",
           2002
          ],
          [
           "Bosnia and Herzegovina",
           2007
          ],
          [
           "Bulgaria",
           1992
          ],
          [
           "Bulgaria",
           1997
          ],
          [
           "Bulgaria",
           2002
          ],
          [
           "Bulgaria",
           2007
          ],
          [
           "Cambodia",
           1997
          ],
          [
           "Cambodia",
           2002
          ],
          [
           "Cambodia",
           2007
          ],
          [
           "China",
           1992
          ],
          [
           "China",
           1997
          ],
          [
           "China",
           2002
          ],
          [
           "China",
           2007
          ],
          [
           "Croatia",
           1997
          ],
          [
           "Croatia",
           2002
          ],
          [
           "Croatia",
           2007
          ],
          [
           "Czech Republic",
           1992
          ],
          [
           "Czech Republic",
           1997
          ],
          [
           "Czech Republic",
           2002
          ],
          [
           "Czech Republic",
           2007
          ],
          [
           "Denmark",
           1992
          ],
          [
           "Denmark",
           1997
          ],
          [
           "Denmark",
           2002
          ],
          [
           "Denmark",
           2007
          ],
          [
           "Finland",
           1992
          ],
          [
           "Finland",
           1997
          ],
          [
           "Finland",
           2002
          ],
          [
           "Finland",
           2007
          ],
          [
           "France",
           1992
          ],
          [
           "France",
           1997
          ],
          [
           "France",
           2002
          ],
          [
           "France",
           2007
          ],
          [
           "Germany",
           1992
          ],
          [
           "Germany",
           1997
          ],
          [
           "Germany",
           2002
          ],
          [
           "Germany",
           2007
          ],
          [
           "Greece",
           1992
          ],
          [
           "Greece",
           1997
          ],
          [
           "Greece",
           2002
          ],
          [
           "Greece",
           2007
          ],
          [
           "Hungary",
           1992
          ],
          [
           "Hungary",
           1997
          ],
          [
           "Hungary",
           2002
          ],
          [
           "Hungary",
           2007
          ],
          [
           "Iceland",
           1992
          ],
          [
           "Iceland",
           1997
          ],
          [
           "Iceland",
           2002
          ],
          [
           "Iceland",
           2007
          ],
          [
           "India",
           1992
          ],
          [
           "India",
           1997
          ],
          [
           "India",
           2002
          ],
          [
           "India",
           2007
          ],
          [
           "Indonesia",
           1992
          ],
          [
           "Indonesia",
           1997
          ],
          [
           "Indonesia",
           2002
          ],
          [
           "Indonesia",
           2007
          ],
          [
           "Iraq",
           1992
          ],
          [
           "Iraq",
           1997
          ],
          [
           "Iraq",
           2002
          ],
          [
           "Iraq",
           2007
          ],
          [
           "Ireland",
           1992
          ],
          [
           "Ireland",
           1997
          ],
          [
           "Ireland",
           2002
          ],
          [
           "Ireland",
           2007
          ],
          [
           "Israel",
           1992
          ],
          [
           "Israel",
           1997
          ],
          [
           "Israel",
           2002
          ],
          [
           "Israel",
           2007
          ],
          [
           "Italy",
           1992
          ],
          [
           "Italy",
           1997
          ],
          [
           "Italy",
           2002
          ],
          [
           "Italy",
           2007
          ],
          [
           "Japan",
           1992
          ],
          [
           "Japan",
           1997
          ],
          [
           "Japan",
           2002
          ],
          [
           "Japan",
           2007
          ],
          [
           "Jordan",
           1992
          ],
          [
           "Jordan",
           1997
          ],
          [
           "Jordan",
           2002
          ],
          [
           "Jordan",
           2007
          ],
          [
           "Kuwait",
           1997
          ],
          [
           "Kuwait",
           2002
          ],
          [
           "Kuwait",
           2007
          ],
          [
           "Lebanon",
           1992
          ],
          [
           "Lebanon",
           1997
          ],
          [
           "Lebanon",
           2002
          ],
          [
           "Lebanon",
           2007
          ],
          [
           "Malaysia",
           1992
          ],
          [
           "Malaysia",
           1997
          ],
          [
           "Malaysia",
           2002
          ],
          [
           "Malaysia",
           2007
          ],
          [
           "Mongolia",
           1992
          ],
          [
           "Mongolia",
           1997
          ],
          [
           "Mongolia",
           2002
          ],
          [
           "Mongolia",
           2007
          ],
          [
           "Montenegro",
           2007
          ],
          [
           "Myanmar",
           2002
          ],
          [
           "Myanmar",
           2007
          ],
          [
           "Nepal",
           1992
          ],
          [
           "Nepal",
           1997
          ],
          [
           "Nepal",
           2002
          ],
          [
           "Nepal",
           2007
          ],
          [
           "Netherlands",
           1992
          ],
          [
           "Netherlands",
           1997
          ],
          [
           "Netherlands",
           2002
          ],
          [
           "Netherlands",
           2007
          ],
          [
           "Norway",
           1992
          ],
          [
           "Norway",
           1997
          ],
          [
           "Norway",
           2002
          ],
          [
           "Norway",
           2007
          ],
          [
           "Oman",
           1992
          ],
          [
           "Oman",
           1997
          ],
          [
           "Oman",
           2002
          ],
          [
           "Oman",
           2007
          ],
          [
           "Pakistan",
           1992
          ],
          [
           "Pakistan",
           1997
          ],
          [
           "Pakistan",
           2002
          ],
          [
           "Pakistan",
           2007
          ],
          [
           "Philippines",
           1992
          ],
          [
           "Philippines",
           1997
          ],
          [
           "Philippines",
           2002
          ],
          [
           "Philippines",
           2007
          ],
          [
           "Poland",
           1992
          ],
          [
           "Poland",
           1997
          ],
          [
           "Poland",
           2002
          ],
          [
           "Poland",
           2007
          ],
          [
           "Portugal",
           1992
          ],
          [
           "Portugal",
           1997
          ],
          [
           "Portugal",
           2002
          ],
          [
           "Portugal",
           2007
          ],
          [
           "Romania",
           1992
          ],
          [
           "Romania",
           1997
          ],
          [
           "Romania",
           2002
          ],
          [
           "Romania",
           2007
          ],
          [
           "Saudi Arabia",
           1992
          ],
          [
           "Saudi Arabia",
           1997
          ],
          [
           "Saudi Arabia",
           2002
          ],
          [
           "Saudi Arabia",
           2007
          ],
          [
           "Serbia",
           2007
          ],
          [
           "Slovak Republic",
           1992
          ],
          [
           "Slovak Republic",
           1997
          ],
          [
           "Slovak Republic",
           2002
          ],
          [
           "Slovak Republic",
           2007
          ],
          [
           "Slovenia",
           1997
          ],
          [
           "Slovenia",
           2002
          ],
          [
           "Slovenia",
           2007
          ],
          [
           "Spain",
           1992
          ],
          [
           "Spain",
           1997
          ],
          [
           "Spain",
           2002
          ],
          [
           "Spain",
           2007
          ],
          [
           "Sri Lanka",
           1992
          ],
          [
           "Sri Lanka",
           1997
          ],
          [
           "Sri Lanka",
           2002
          ],
          [
           "Sri Lanka",
           2007
          ],
          [
           "Sweden",
           1992
          ],
          [
           "Sweden",
           1997
          ],
          [
           "Sweden",
           2002
          ],
          [
           "Sweden",
           2007
          ],
          [
           "Switzerland",
           1992
          ],
          [
           "Switzerland",
           1997
          ],
          [
           "Switzerland",
           2002
          ],
          [
           "Switzerland",
           2007
          ],
          [
           "Thailand",
           1992
          ],
          [
           "Thailand",
           1997
          ],
          [
           "Thailand",
           2002
          ],
          [
           "Thailand",
           2007
          ],
          [
           "Turkey",
           1992
          ],
          [
           "Turkey",
           1997
          ],
          [
           "Turkey",
           2002
          ],
          [
           "Turkey",
           2007
          ],
          [
           "United Kingdom",
           1992
          ],
          [
           "United Kingdom",
           1997
          ],
          [
           "United Kingdom",
           2002
          ],
          [
           "United Kingdom",
           2007
          ],
          [
           "Vietnam",
           1992
          ],
          [
           "Vietnam",
           1997
          ],
          [
           "Vietnam",
           2002
          ],
          [
           "Vietnam",
           2007
          ],
          [
           "West Bank and Gaza",
           1997
          ],
          [
           "West Bank and Gaza",
           2002
          ],
          [
           "West Bank and Gaza",
           2007
          ]
         ],
         "hovertemplate": "Imports of goods and services (% of GDP)=%{x}<br>continent=%{y}<br>Country Name=%{customdata[0]}<br>Year=%{customdata[1]}<extra></extra>",
         "legendgroup": "",
         "marker": {
          "color": "#636efa"
         },
         "name": "",
         "notched": false,
         "offsetgroup": "",
         "orientation": "h",
         "showlegend": false,
         "type": "box",
         "x": [
          65.2877040065,
          58.3500468255,
          88.5122484875,
          34.1899954311,
          44.3353664726,
          54.7882006817,
          34.5289764917,
          37.8834640896,
          41.6507009529,
          48.3336828443,
          96.7420454545,
          69.5052959617,
          58.389862877,
          58.105521340200006,
          12.3473285921,
          15.8051428327,
          16.557411789,
          22.9470478067,
          56.0198770682,
          60.4699234894,
          64.8101122243,
          73.6727852921,
          72.797329856,
          70.9293545706,
          56.4586949513,
          52.938247012,
          37.2840983857,
          41.7304308008,
          70.6481778799,
          45.3177088819,
          64.2708081103,
          72.94217881899999,
          14.4875132406,
          15.0398612938,
          20.1026620472,
          26.7164353002,
          44.2274001589,
          45.5475127824,
          46.26795219,
          39.0048670058,
          44.7363476681,
          46.5234495636,
          64.1024536911,
          30.1104077732,
          33.4544366297,
          38.8921703701,
          48.502240028,
          24.6770848065,
          30.4628943994,
          30.2045330402,
          39.1791364747,
          20.5079690124,
          22.3386387575,
          25.3757388229,
          28.4193105717,
          22.7863176274,
          24.2090600837,
          28.1989688995,
          36.3606196011,
          23.9437536025,
          23.0519635059,
          30.2361418116,
          35.0041044594,
          27.8478918237,
          46.9886021788,
          60.117586376800006,
          77.6183100564,
          29.731456037,
          34.9518564867,
          34.5066481223,
          42.5353946584,
          9.42488847372,
          11.723082627,
          14.9815485884,
          25.1519079066,
          27.1201247208,
          28.1346335393,
          26.3918424154,
          25.3935314931,
          1.3387380938299998,
          42.3411609934,
          49.1919962299,
          28.1930139321,
          51.0894327446,
          65.17606264310001,
          73.295336366,
          72.4776748214,
          44.3365198368,
          32.587292588400004,
          35.6972911543,
          41.0701019971,
          17.4871644619,
          20.4814697289,
          23.7262338729,
          27.7864496661,
          7.643451906869999,
          9.49188652841,
          9.66739032943,
          15.6005719141,
          81.4065893831,
          71.5829118173,
          66.632176737,
          91.7584082453,
          39.5915918101,
          36.6091466782,
          28.3171173383,
          75.8579855593,
          47.5546391753,
          34.9438902743,
          63.0607287449,
          74.6278561995,
          92.3753082915,
          91.0509065478,
          86.2975320889,
          36.3626536496,
          47.32510391939999,
          67.7906371355,
          58.2659779932,
          86.6989968539,
          0.225449347209,
          0.0795059581624,
          25.7356870079,
          37.7076998214,
          28.4935889762,
          31.7236101436,
          48.7843340291,
          54.20113381979999,
          53.959648211,
          61.4482781111,
          30.5310708615,
          32.5057564723,
          27.2520303734,
          29.8897253923,
          35.5479437749,
          38.5910173249,
          27.9151441594,
          39.9893707746,
          20.5285578209,
          20.7703128758,
          15.3140127214,
          19.7758151542,
          34.0281852291,
          59.29383539999999,
          55.6880751307,
          43.3586106398,
          19.9467339483,
          27.1144798245,
          32.1662388033,
          42.0974145444,
          31.8454729567,
          35.141898248800004,
          35.2155009835,
          38.6473370483,
          36.1988323492,
          34.7505362196,
          40.8248050842,
          43.4469976538,
          36.1921329627,
          26.1824690647,
          23.7762475126,
          34.9258769575,
          52.66337379310001,
          69.7293093289,
          64.4734963454,
          64.7137426173,
          84.3950908526,
          48.7322747634,
          51.1695761128,
          68.8949043961,
          19.7473148836,
          25.5385108358,
          28.5057281045,
          31.6987214183,
          41.0333824771,
          43.5994352288,
          41.4218015848,
          39.4915119731,
          25.0010584659,
          33.102555836,
          35.7735159206,
          41.2817143067,
          37.6912446806,
          42.1233310838,
          42.258312305100006,
          50.2696323325,
          40.9821700246,
          46.8148412659,
          54.3239904201,
          61.0009114941,
          17.3451299105,
          30.3886058881,
          23.5827728271,
          27.4838724792,
          22.8596273413,
          25.1006811488,
          26.6895890682,
          27.4732345237,
          38.8312898757,
          51.2417759691,
          57.249342474,
          84.0875093943,
          73.04111867479999,
          62.8156816898,
          77.8106722688
         ],
         "x0": " ",
         "xaxis": "x",
         "y": [
          "Asia",
          "Asia",
          "Europe",
          "Europe",
          "Europe",
          "Europe",
          "Europe",
          "Europe",
          "Europe",
          "Europe",
          "Asia",
          "Asia",
          "Asia",
          "Asia",
          "Asia",
          "Asia",
          "Asia",
          "Asia",
          "Europe",
          "Europe",
          "Europe",
          "Europe",
          "Europe",
          "Europe",
          "Europe",
          "Europe",
          "Europe",
          "Europe",
          "Europe",
          "Asia",
          "Asia",
          "Asia",
          "Asia",
          "Asia",
          "Asia",
          "Asia",
          "Europe",
          "Europe",
          "Europe",
          "Europe",
          "Europe",
          "Europe",
          "Europe",
          "Europe",
          "Europe",
          "Europe",
          "Europe",
          "Europe",
          "Europe",
          "Europe",
          "Europe",
          "Europe",
          "Europe",
          "Europe",
          "Europe",
          "Europe",
          "Europe",
          "Europe",
          "Europe",
          "Europe",
          "Europe",
          "Europe",
          "Europe",
          "Europe",
          "Europe",
          "Europe",
          "Europe",
          "Europe",
          "Europe",
          "Europe",
          "Europe",
          "Asia",
          "Asia",
          "Asia",
          "Asia",
          "Asia",
          "Asia",
          "Asia",
          "Asia",
          "Asia",
          "Asia",
          "Asia",
          "Asia",
          "Europe",
          "Europe",
          "Europe",
          "Europe",
          "Asia",
          "Asia",
          "Asia",
          "Asia",
          "Europe",
          "Europe",
          "Europe",
          "Europe",
          "Asia",
          "Asia",
          "Asia",
          "Asia",
          "Asia",
          "Asia",
          "Asia",
          "Asia",
          "Asia",
          "Asia",
          "Asia",
          "Asia",
          "Asia",
          "Asia",
          "Asia",
          "Asia",
          "Asia",
          "Asia",
          "Asia",
          "Asia",
          "Asia",
          "Asia",
          "Asia",
          "Europe",
          "Asia",
          "Asia",
          "Asia",
          "Asia",
          "Asia",
          "Asia",
          "Europe",
          "Europe",
          "Europe",
          "Europe",
          "Europe",
          "Europe",
          "Europe",
          "Europe",
          "Asia",
          "Asia",
          "Asia",
          "Asia",
          "Asia",
          "Asia",
          "Asia",
          "Asia",
          "Asia",
          "Asia",
          "Asia",
          "Asia",
          "Europe",
          "Europe",
          "Europe",
          "Europe",
          "Europe",
          "Europe",
          "Europe",
          "Europe",
          "Europe",
          "Europe",
          "Europe",
          "Europe",
          "Asia",
          "Asia",
          "Asia",
          "Asia",
          "Europe",
          "Europe",
          "Europe",
          "Europe",
          "Europe",
          "Europe",
          "Europe",
          "Europe",
          "Europe",
          "Europe",
          "Europe",
          "Europe",
          "Asia",
          "Asia",
          "Asia",
          "Asia",
          "Europe",
          "Europe",
          "Europe",
          "Europe",
          "Europe",
          "Europe",
          "Europe",
          "Europe",
          "Asia",
          "Asia",
          "Asia",
          "Asia",
          "Europe",
          "Europe",
          "Europe",
          "Europe",
          "Europe",
          "Europe",
          "Europe",
          "Europe",
          "Asia",
          "Asia",
          "Asia",
          "Asia",
          "Asia",
          "Asia",
          "Asia"
         ],
         "y0": " ",
         "yaxis": "y"
        }
       ],
       "layout": {
        "boxmode": "group",
        "legend": {
         "tracegroupgap": 0
        },
        "margin": {
         "t": 60
        },
        "template": {
         "data": {
          "bar": [
           {
            "error_x": {
             "color": "#2a3f5f"
            },
            "error_y": {
             "color": "#2a3f5f"
            },
            "marker": {
             "line": {
              "color": "#E5ECF6",
              "width": 0.5
             }
            },
            "type": "bar"
           }
          ],
          "barpolar": [
           {
            "marker": {
             "line": {
              "color": "#E5ECF6",
              "width": 0.5
             }
            },
            "type": "barpolar"
           }
          ],
          "carpet": [
           {
            "aaxis": {
             "endlinecolor": "#2a3f5f",
             "gridcolor": "white",
             "linecolor": "white",
             "minorgridcolor": "white",
             "startlinecolor": "#2a3f5f"
            },
            "baxis": {
             "endlinecolor": "#2a3f5f",
             "gridcolor": "white",
             "linecolor": "white",
             "minorgridcolor": "white",
             "startlinecolor": "#2a3f5f"
            },
            "type": "carpet"
           }
          ],
          "choropleth": [
           {
            "colorbar": {
             "outlinewidth": 0,
             "ticks": ""
            },
            "type": "choropleth"
           }
          ],
          "contour": [
           {
            "colorbar": {
             "outlinewidth": 0,
             "ticks": ""
            },
            "colorscale": [
             [
              0,
              "#0d0887"
             ],
             [
              0.1111111111111111,
              "#46039f"
             ],
             [
              0.2222222222222222,
              "#7201a8"
             ],
             [
              0.3333333333333333,
              "#9c179e"
             ],
             [
              0.4444444444444444,
              "#bd3786"
             ],
             [
              0.5555555555555556,
              "#d8576b"
             ],
             [
              0.6666666666666666,
              "#ed7953"
             ],
             [
              0.7777777777777778,
              "#fb9f3a"
             ],
             [
              0.8888888888888888,
              "#fdca26"
             ],
             [
              1,
              "#f0f921"
             ]
            ],
            "type": "contour"
           }
          ],
          "contourcarpet": [
           {
            "colorbar": {
             "outlinewidth": 0,
             "ticks": ""
            },
            "type": "contourcarpet"
           }
          ],
          "heatmap": [
           {
            "colorbar": {
             "outlinewidth": 0,
             "ticks": ""
            },
            "colorscale": [
             [
              0,
              "#0d0887"
             ],
             [
              0.1111111111111111,
              "#46039f"
             ],
             [
              0.2222222222222222,
              "#7201a8"
             ],
             [
              0.3333333333333333,
              "#9c179e"
             ],
             [
              0.4444444444444444,
              "#bd3786"
             ],
             [
              0.5555555555555556,
              "#d8576b"
             ],
             [
              0.6666666666666666,
              "#ed7953"
             ],
             [
              0.7777777777777778,
              "#fb9f3a"
             ],
             [
              0.8888888888888888,
              "#fdca26"
             ],
             [
              1,
              "#f0f921"
             ]
            ],
            "type": "heatmap"
           }
          ],
          "heatmapgl": [
           {
            "colorbar": {
             "outlinewidth": 0,
             "ticks": ""
            },
            "colorscale": [
             [
              0,
              "#0d0887"
             ],
             [
              0.1111111111111111,
              "#46039f"
             ],
             [
              0.2222222222222222,
              "#7201a8"
             ],
             [
              0.3333333333333333,
              "#9c179e"
             ],
             [
              0.4444444444444444,
              "#bd3786"
             ],
             [
              0.5555555555555556,
              "#d8576b"
             ],
             [
              0.6666666666666666,
              "#ed7953"
             ],
             [
              0.7777777777777778,
              "#fb9f3a"
             ],
             [
              0.8888888888888888,
              "#fdca26"
             ],
             [
              1,
              "#f0f921"
             ]
            ],
            "type": "heatmapgl"
           }
          ],
          "histogram": [
           {
            "marker": {
             "colorbar": {
              "outlinewidth": 0,
              "ticks": ""
             }
            },
            "type": "histogram"
           }
          ],
          "histogram2d": [
           {
            "colorbar": {
             "outlinewidth": 0,
             "ticks": ""
            },
            "colorscale": [
             [
              0,
              "#0d0887"
             ],
             [
              0.1111111111111111,
              "#46039f"
             ],
             [
              0.2222222222222222,
              "#7201a8"
             ],
             [
              0.3333333333333333,
              "#9c179e"
             ],
             [
              0.4444444444444444,
              "#bd3786"
             ],
             [
              0.5555555555555556,
              "#d8576b"
             ],
             [
              0.6666666666666666,
              "#ed7953"
             ],
             [
              0.7777777777777778,
              "#fb9f3a"
             ],
             [
              0.8888888888888888,
              "#fdca26"
             ],
             [
              1,
              "#f0f921"
             ]
            ],
            "type": "histogram2d"
           }
          ],
          "histogram2dcontour": [
           {
            "colorbar": {
             "outlinewidth": 0,
             "ticks": ""
            },
            "colorscale": [
             [
              0,
              "#0d0887"
             ],
             [
              0.1111111111111111,
              "#46039f"
             ],
             [
              0.2222222222222222,
              "#7201a8"
             ],
             [
              0.3333333333333333,
              "#9c179e"
             ],
             [
              0.4444444444444444,
              "#bd3786"
             ],
             [
              0.5555555555555556,
              "#d8576b"
             ],
             [
              0.6666666666666666,
              "#ed7953"
             ],
             [
              0.7777777777777778,
              "#fb9f3a"
             ],
             [
              0.8888888888888888,
              "#fdca26"
             ],
             [
              1,
              "#f0f921"
             ]
            ],
            "type": "histogram2dcontour"
           }
          ],
          "mesh3d": [
           {
            "colorbar": {
             "outlinewidth": 0,
             "ticks": ""
            },
            "type": "mesh3d"
           }
          ],
          "parcoords": [
           {
            "line": {
             "colorbar": {
              "outlinewidth": 0,
              "ticks": ""
             }
            },
            "type": "parcoords"
           }
          ],
          "pie": [
           {
            "automargin": true,
            "type": "pie"
           }
          ],
          "scatter": [
           {
            "marker": {
             "colorbar": {
              "outlinewidth": 0,
              "ticks": ""
             }
            },
            "type": "scatter"
           }
          ],
          "scatter3d": [
           {
            "line": {
             "colorbar": {
              "outlinewidth": 0,
              "ticks": ""
             }
            },
            "marker": {
             "colorbar": {
              "outlinewidth": 0,
              "ticks": ""
             }
            },
            "type": "scatter3d"
           }
          ],
          "scattercarpet": [
           {
            "marker": {
             "colorbar": {
              "outlinewidth": 0,
              "ticks": ""
             }
            },
            "type": "scattercarpet"
           }
          ],
          "scattergeo": [
           {
            "marker": {
             "colorbar": {
              "outlinewidth": 0,
              "ticks": ""
             }
            },
            "type": "scattergeo"
           }
          ],
          "scattergl": [
           {
            "marker": {
             "colorbar": {
              "outlinewidth": 0,
              "ticks": ""
             }
            },
            "type": "scattergl"
           }
          ],
          "scattermapbox": [
           {
            "marker": {
             "colorbar": {
              "outlinewidth": 0,
              "ticks": ""
             }
            },
            "type": "scattermapbox"
           }
          ],
          "scatterpolar": [
           {
            "marker": {
             "colorbar": {
              "outlinewidth": 0,
              "ticks": ""
             }
            },
            "type": "scatterpolar"
           }
          ],
          "scatterpolargl": [
           {
            "marker": {
             "colorbar": {
              "outlinewidth": 0,
              "ticks": ""
             }
            },
            "type": "scatterpolargl"
           }
          ],
          "scatterternary": [
           {
            "marker": {
             "colorbar": {
              "outlinewidth": 0,
              "ticks": ""
             }
            },
            "type": "scatterternary"
           }
          ],
          "surface": [
           {
            "colorbar": {
             "outlinewidth": 0,
             "ticks": ""
            },
            "colorscale": [
             [
              0,
              "#0d0887"
             ],
             [
              0.1111111111111111,
              "#46039f"
             ],
             [
              0.2222222222222222,
              "#7201a8"
             ],
             [
              0.3333333333333333,
              "#9c179e"
             ],
             [
              0.4444444444444444,
              "#bd3786"
             ],
             [
              0.5555555555555556,
              "#d8576b"
             ],
             [
              0.6666666666666666,
              "#ed7953"
             ],
             [
              0.7777777777777778,
              "#fb9f3a"
             ],
             [
              0.8888888888888888,
              "#fdca26"
             ],
             [
              1,
              "#f0f921"
             ]
            ],
            "type": "surface"
           }
          ],
          "table": [
           {
            "cells": {
             "fill": {
              "color": "#EBF0F8"
             },
             "line": {
              "color": "white"
             }
            },
            "header": {
             "fill": {
              "color": "#C8D4E3"
             },
             "line": {
              "color": "white"
             }
            },
            "type": "table"
           }
          ]
         },
         "layout": {
          "annotationdefaults": {
           "arrowcolor": "#2a3f5f",
           "arrowhead": 0,
           "arrowwidth": 1
          },
          "autotypenumbers": "strict",
          "coloraxis": {
           "colorbar": {
            "outlinewidth": 0,
            "ticks": ""
           }
          },
          "colorscale": {
           "diverging": [
            [
             0,
             "#8e0152"
            ],
            [
             0.1,
             "#c51b7d"
            ],
            [
             0.2,
             "#de77ae"
            ],
            [
             0.3,
             "#f1b6da"
            ],
            [
             0.4,
             "#fde0ef"
            ],
            [
             0.5,
             "#f7f7f7"
            ],
            [
             0.6,
             "#e6f5d0"
            ],
            [
             0.7,
             "#b8e186"
            ],
            [
             0.8,
             "#7fbc41"
            ],
            [
             0.9,
             "#4d9221"
            ],
            [
             1,
             "#276419"
            ]
           ],
           "sequential": [
            [
             0,
             "#0d0887"
            ],
            [
             0.1111111111111111,
             "#46039f"
            ],
            [
             0.2222222222222222,
             "#7201a8"
            ],
            [
             0.3333333333333333,
             "#9c179e"
            ],
            [
             0.4444444444444444,
             "#bd3786"
            ],
            [
             0.5555555555555556,
             "#d8576b"
            ],
            [
             0.6666666666666666,
             "#ed7953"
            ],
            [
             0.7777777777777778,
             "#fb9f3a"
            ],
            [
             0.8888888888888888,
             "#fdca26"
            ],
            [
             1,
             "#f0f921"
            ]
           ],
           "sequentialminus": [
            [
             0,
             "#0d0887"
            ],
            [
             0.1111111111111111,
             "#46039f"
            ],
            [
             0.2222222222222222,
             "#7201a8"
            ],
            [
             0.3333333333333333,
             "#9c179e"
            ],
            [
             0.4444444444444444,
             "#bd3786"
            ],
            [
             0.5555555555555556,
             "#d8576b"
            ],
            [
             0.6666666666666666,
             "#ed7953"
            ],
            [
             0.7777777777777778,
             "#fb9f3a"
            ],
            [
             0.8888888888888888,
             "#fdca26"
            ],
            [
             1,
             "#f0f921"
            ]
           ]
          },
          "colorway": [
           "#636efa",
           "#EF553B",
           "#00cc96",
           "#ab63fa",
           "#FFA15A",
           "#19d3f3",
           "#FF6692",
           "#B6E880",
           "#FF97FF",
           "#FECB52"
          ],
          "font": {
           "color": "#2a3f5f"
          },
          "geo": {
           "bgcolor": "white",
           "lakecolor": "white",
           "landcolor": "#E5ECF6",
           "showlakes": true,
           "showland": true,
           "subunitcolor": "white"
          },
          "hoverlabel": {
           "align": "left"
          },
          "hovermode": "closest",
          "mapbox": {
           "style": "light"
          },
          "paper_bgcolor": "white",
          "plot_bgcolor": "#E5ECF6",
          "polar": {
           "angularaxis": {
            "gridcolor": "white",
            "linecolor": "white",
            "ticks": ""
           },
           "bgcolor": "#E5ECF6",
           "radialaxis": {
            "gridcolor": "white",
            "linecolor": "white",
            "ticks": ""
           }
          },
          "scene": {
           "xaxis": {
            "backgroundcolor": "#E5ECF6",
            "gridcolor": "white",
            "gridwidth": 2,
            "linecolor": "white",
            "showbackground": true,
            "ticks": "",
            "zerolinecolor": "white"
           },
           "yaxis": {
            "backgroundcolor": "#E5ECF6",
            "gridcolor": "white",
            "gridwidth": 2,
            "linecolor": "white",
            "showbackground": true,
            "ticks": "",
            "zerolinecolor": "white"
           },
           "zaxis": {
            "backgroundcolor": "#E5ECF6",
            "gridcolor": "white",
            "gridwidth": 2,
            "linecolor": "white",
            "showbackground": true,
            "ticks": "",
            "zerolinecolor": "white"
           }
          },
          "shapedefaults": {
           "line": {
            "color": "#2a3f5f"
           }
          },
          "ternary": {
           "aaxis": {
            "gridcolor": "white",
            "linecolor": "white",
            "ticks": ""
           },
           "baxis": {
            "gridcolor": "white",
            "linecolor": "white",
            "ticks": ""
           },
           "bgcolor": "#E5ECF6",
           "caxis": {
            "gridcolor": "white",
            "linecolor": "white",
            "ticks": ""
           }
          },
          "title": {
           "x": 0.05
          },
          "xaxis": {
           "automargin": true,
           "gridcolor": "white",
           "linecolor": "white",
           "ticks": "",
           "title": {
            "standoff": 15
           },
           "zerolinecolor": "white",
           "zerolinewidth": 2
          },
          "yaxis": {
           "automargin": true,
           "gridcolor": "white",
           "linecolor": "white",
           "ticks": "",
           "title": {
            "standoff": 15
           },
           "zerolinecolor": "white",
           "zerolinewidth": 2
          }
         }
        },
        "xaxis": {
         "anchor": "y",
         "domain": [
          0,
          1
         ],
         "title": {
          "text": "Imports of goods and services (% of GDP)"
         }
        },
        "yaxis": {
         "anchor": "x",
         "domain": [
          0,
          1
         ],
         "title": {
          "text": "continent"
         }
        }
       }
      },
      "text/html": [
       "<div>                            <div id=\"16a56abb-9b6f-4800-a671-e8673e9da624\" class=\"plotly-graph-div\" style=\"height:525px; width:100%;\"></div>            <script type=\"text/javascript\">                require([\"plotly\"], function(Plotly) {                    window.PLOTLYENV=window.PLOTLYENV || {};                                    if (document.getElementById(\"16a56abb-9b6f-4800-a671-e8673e9da624\")) {                    Plotly.newPlot(                        \"16a56abb-9b6f-4800-a671-e8673e9da624\",                        [{\"alignmentgroup\": \"True\", \"customdata\": [[\"Afghanistan\", 2002], [\"Afghanistan\", 2007], [\"Albania\", 1992], [\"Albania\", 1997], [\"Albania\", 2002], [\"Albania\", 2007], [\"Austria\", 1992], [\"Austria\", 1997], [\"Austria\", 2002], [\"Austria\", 2007], [\"Bahrain\", 1992], [\"Bahrain\", 1997], [\"Bahrain\", 2002], [\"Bahrain\", 2007], [\"Bangladesh\", 1992], [\"Bangladesh\", 1997], [\"Bangladesh\", 2002], [\"Bangladesh\", 2007], [\"Belgium\", 1992], [\"Belgium\", 1997], [\"Belgium\", 2002], [\"Belgium\", 2007], [\"Bosnia and Herzegovina\", 1997], [\"Bosnia and Herzegovina\", 2002], [\"Bosnia and Herzegovina\", 2007], [\"Bulgaria\", 1992], [\"Bulgaria\", 1997], [\"Bulgaria\", 2002], [\"Bulgaria\", 2007], [\"Cambodia\", 1997], [\"Cambodia\", 2002], [\"Cambodia\", 2007], [\"China\", 1992], [\"China\", 1997], [\"China\", 2002], [\"China\", 2007], [\"Croatia\", 1997], [\"Croatia\", 2002], [\"Croatia\", 2007], [\"Czech Republic\", 1992], [\"Czech Republic\", 1997], [\"Czech Republic\", 2002], [\"Czech Republic\", 2007], [\"Denmark\", 1992], [\"Denmark\", 1997], [\"Denmark\", 2002], [\"Denmark\", 2007], [\"Finland\", 1992], [\"Finland\", 1997], [\"Finland\", 2002], [\"Finland\", 2007], [\"France\", 1992], [\"France\", 1997], [\"France\", 2002], [\"France\", 2007], [\"Germany\", 1992], [\"Germany\", 1997], [\"Germany\", 2002], [\"Germany\", 2007], [\"Greece\", 1992], [\"Greece\", 1997], [\"Greece\", 2002], [\"Greece\", 2007], [\"Hungary\", 1992], [\"Hungary\", 1997], [\"Hungary\", 2002], [\"Hungary\", 2007], [\"Iceland\", 1992], [\"Iceland\", 1997], [\"Iceland\", 2002], [\"Iceland\", 2007], [\"India\", 1992], [\"India\", 1997], [\"India\", 2002], [\"India\", 2007], [\"Indonesia\", 1992], [\"Indonesia\", 1997], [\"Indonesia\", 2002], [\"Indonesia\", 2007], [\"Iraq\", 1992], [\"Iraq\", 1997], [\"Iraq\", 2002], [\"Iraq\", 2007], [\"Ireland\", 1992], [\"Ireland\", 1997], [\"Ireland\", 2002], [\"Ireland\", 2007], [\"Israel\", 1992], [\"Israel\", 1997], [\"Israel\", 2002], [\"Israel\", 2007], [\"Italy\", 1992], [\"Italy\", 1997], [\"Italy\", 2002], [\"Italy\", 2007], [\"Japan\", 1992], [\"Japan\", 1997], [\"Japan\", 2002], [\"Japan\", 2007], [\"Jordan\", 1992], [\"Jordan\", 1997], [\"Jordan\", 2002], [\"Jordan\", 2007], [\"Kuwait\", 1997], [\"Kuwait\", 2002], [\"Kuwait\", 2007], [\"Lebanon\", 1992], [\"Lebanon\", 1997], [\"Lebanon\", 2002], [\"Lebanon\", 2007], [\"Malaysia\", 1992], [\"Malaysia\", 1997], [\"Malaysia\", 2002], [\"Malaysia\", 2007], [\"Mongolia\", 1992], [\"Mongolia\", 1997], [\"Mongolia\", 2002], [\"Mongolia\", 2007], [\"Montenegro\", 2007], [\"Myanmar\", 2002], [\"Myanmar\", 2007], [\"Nepal\", 1992], [\"Nepal\", 1997], [\"Nepal\", 2002], [\"Nepal\", 2007], [\"Netherlands\", 1992], [\"Netherlands\", 1997], [\"Netherlands\", 2002], [\"Netherlands\", 2007], [\"Norway\", 1992], [\"Norway\", 1997], [\"Norway\", 2002], [\"Norway\", 2007], [\"Oman\", 1992], [\"Oman\", 1997], [\"Oman\", 2002], [\"Oman\", 2007], [\"Pakistan\", 1992], [\"Pakistan\", 1997], [\"Pakistan\", 2002], [\"Pakistan\", 2007], [\"Philippines\", 1992], [\"Philippines\", 1997], [\"Philippines\", 2002], [\"Philippines\", 2007], [\"Poland\", 1992], [\"Poland\", 1997], [\"Poland\", 2002], [\"Poland\", 2007], [\"Portugal\", 1992], [\"Portugal\", 1997], [\"Portugal\", 2002], [\"Portugal\", 2007], [\"Romania\", 1992], [\"Romania\", 1997], [\"Romania\", 2002], [\"Romania\", 2007], [\"Saudi Arabia\", 1992], [\"Saudi Arabia\", 1997], [\"Saudi Arabia\", 2002], [\"Saudi Arabia\", 2007], [\"Serbia\", 2007], [\"Slovak Republic\", 1992], [\"Slovak Republic\", 1997], [\"Slovak Republic\", 2002], [\"Slovak Republic\", 2007], [\"Slovenia\", 1997], [\"Slovenia\", 2002], [\"Slovenia\", 2007], [\"Spain\", 1992], [\"Spain\", 1997], [\"Spain\", 2002], [\"Spain\", 2007], [\"Sri Lanka\", 1992], [\"Sri Lanka\", 1997], [\"Sri Lanka\", 2002], [\"Sri Lanka\", 2007], [\"Sweden\", 1992], [\"Sweden\", 1997], [\"Sweden\", 2002], [\"Sweden\", 2007], [\"Switzerland\", 1992], [\"Switzerland\", 1997], [\"Switzerland\", 2002], [\"Switzerland\", 2007], [\"Thailand\", 1992], [\"Thailand\", 1997], [\"Thailand\", 2002], [\"Thailand\", 2007], [\"Turkey\", 1992], [\"Turkey\", 1997], [\"Turkey\", 2002], [\"Turkey\", 2007], [\"United Kingdom\", 1992], [\"United Kingdom\", 1997], [\"United Kingdom\", 2002], [\"United Kingdom\", 2007], [\"Vietnam\", 1992], [\"Vietnam\", 1997], [\"Vietnam\", 2002], [\"Vietnam\", 2007], [\"West Bank and Gaza\", 1997], [\"West Bank and Gaza\", 2002], [\"West Bank and Gaza\", 2007]], \"hovertemplate\": \"Imports of goods and services (% of GDP)=%{x}<br>continent=%{y}<br>Country Name=%{customdata[0]}<br>Year=%{customdata[1]}<extra></extra>\", \"legendgroup\": \"\", \"marker\": {\"color\": \"#636efa\"}, \"name\": \"\", \"notched\": false, \"offsetgroup\": \"\", \"orientation\": \"h\", \"showlegend\": false, \"type\": \"box\", \"x\": [65.2877040065, 58.3500468255, 88.5122484875, 34.1899954311, 44.3353664726, 54.7882006817, 34.5289764917, 37.8834640896, 41.6507009529, 48.3336828443, 96.7420454545, 69.5052959617, 58.389862877, 58.105521340200006, 12.3473285921, 15.8051428327, 16.557411789, 22.9470478067, 56.0198770682, 60.4699234894, 64.8101122243, 73.6727852921, 72.797329856, 70.9293545706, 56.4586949513, 52.938247012, 37.2840983857, 41.7304308008, 70.6481778799, 45.3177088819, 64.2708081103, 72.94217881899999, 14.4875132406, 15.0398612938, 20.1026620472, 26.7164353002, 44.2274001589, 45.5475127824, 46.26795219, 39.0048670058, 44.7363476681, 46.5234495636, 64.1024536911, 30.1104077732, 33.4544366297, 38.8921703701, 48.502240028, 24.6770848065, 30.4628943994, 30.2045330402, 39.1791364747, 20.5079690124, 22.3386387575, 25.3757388229, 28.4193105717, 22.7863176274, 24.2090600837, 28.1989688995, 36.3606196011, 23.9437536025, 23.0519635059, 30.2361418116, 35.0041044594, 27.8478918237, 46.9886021788, 60.117586376800006, 77.6183100564, 29.731456037, 34.9518564867, 34.5066481223, 42.5353946584, 9.42488847372, 11.723082627, 14.9815485884, 25.1519079066, 27.1201247208, 28.1346335393, 26.3918424154, 25.3935314931, 1.3387380938299998, 42.3411609934, 49.1919962299, 28.1930139321, 51.0894327446, 65.17606264310001, 73.295336366, 72.4776748214, 44.3365198368, 32.587292588400004, 35.6972911543, 41.0701019971, 17.4871644619, 20.4814697289, 23.7262338729, 27.7864496661, 7.643451906869999, 9.49188652841, 9.66739032943, 15.6005719141, 81.4065893831, 71.5829118173, 66.632176737, 91.7584082453, 39.5915918101, 36.6091466782, 28.3171173383, 75.8579855593, 47.5546391753, 34.9438902743, 63.0607287449, 74.6278561995, 92.3753082915, 91.0509065478, 86.2975320889, 36.3626536496, 47.32510391939999, 67.7906371355, 58.2659779932, 86.6989968539, 0.225449347209, 0.0795059581624, 25.7356870079, 37.7076998214, 28.4935889762, 31.7236101436, 48.7843340291, 54.20113381979999, 53.959648211, 61.4482781111, 30.5310708615, 32.5057564723, 27.2520303734, 29.8897253923, 35.5479437749, 38.5910173249, 27.9151441594, 39.9893707746, 20.5285578209, 20.7703128758, 15.3140127214, 19.7758151542, 34.0281852291, 59.29383539999999, 55.6880751307, 43.3586106398, 19.9467339483, 27.1144798245, 32.1662388033, 42.0974145444, 31.8454729567, 35.141898248800004, 35.2155009835, 38.6473370483, 36.1988323492, 34.7505362196, 40.8248050842, 43.4469976538, 36.1921329627, 26.1824690647, 23.7762475126, 34.9258769575, 52.66337379310001, 69.7293093289, 64.4734963454, 64.7137426173, 84.3950908526, 48.7322747634, 51.1695761128, 68.8949043961, 19.7473148836, 25.5385108358, 28.5057281045, 31.6987214183, 41.0333824771, 43.5994352288, 41.4218015848, 39.4915119731, 25.0010584659, 33.102555836, 35.7735159206, 41.2817143067, 37.6912446806, 42.1233310838, 42.258312305100006, 50.2696323325, 40.9821700246, 46.8148412659, 54.3239904201, 61.0009114941, 17.3451299105, 30.3886058881, 23.5827728271, 27.4838724792, 22.8596273413, 25.1006811488, 26.6895890682, 27.4732345237, 38.8312898757, 51.2417759691, 57.249342474, 84.0875093943, 73.04111867479999, 62.8156816898, 77.8106722688], \"x0\": \" \", \"xaxis\": \"x\", \"y\": [\"Asia\", \"Asia\", \"Europe\", \"Europe\", \"Europe\", \"Europe\", \"Europe\", \"Europe\", \"Europe\", \"Europe\", \"Asia\", \"Asia\", \"Asia\", \"Asia\", \"Asia\", \"Asia\", \"Asia\", \"Asia\", \"Europe\", \"Europe\", \"Europe\", \"Europe\", \"Europe\", \"Europe\", \"Europe\", \"Europe\", \"Europe\", \"Europe\", \"Europe\", \"Asia\", \"Asia\", \"Asia\", \"Asia\", \"Asia\", \"Asia\", \"Asia\", \"Europe\", \"Europe\", \"Europe\", \"Europe\", \"Europe\", \"Europe\", \"Europe\", \"Europe\", \"Europe\", \"Europe\", \"Europe\", \"Europe\", \"Europe\", \"Europe\", \"Europe\", \"Europe\", \"Europe\", \"Europe\", \"Europe\", \"Europe\", \"Europe\", \"Europe\", \"Europe\", \"Europe\", \"Europe\", \"Europe\", \"Europe\", \"Europe\", \"Europe\", \"Europe\", \"Europe\", \"Europe\", \"Europe\", \"Europe\", \"Europe\", \"Asia\", \"Asia\", \"Asia\", \"Asia\", \"Asia\", \"Asia\", \"Asia\", \"Asia\", \"Asia\", \"Asia\", \"Asia\", \"Asia\", \"Europe\", \"Europe\", \"Europe\", \"Europe\", \"Asia\", \"Asia\", \"Asia\", \"Asia\", \"Europe\", \"Europe\", \"Europe\", \"Europe\", \"Asia\", \"Asia\", \"Asia\", \"Asia\", \"Asia\", \"Asia\", \"Asia\", \"Asia\", \"Asia\", \"Asia\", \"Asia\", \"Asia\", \"Asia\", \"Asia\", \"Asia\", \"Asia\", \"Asia\", \"Asia\", \"Asia\", \"Asia\", \"Asia\", \"Asia\", \"Asia\", \"Europe\", \"Asia\", \"Asia\", \"Asia\", \"Asia\", \"Asia\", \"Asia\", \"Europe\", \"Europe\", \"Europe\", \"Europe\", \"Europe\", \"Europe\", \"Europe\", \"Europe\", \"Asia\", \"Asia\", \"Asia\", \"Asia\", \"Asia\", \"Asia\", \"Asia\", \"Asia\", \"Asia\", \"Asia\", \"Asia\", \"Asia\", \"Europe\", \"Europe\", \"Europe\", \"Europe\", \"Europe\", \"Europe\", \"Europe\", \"Europe\", \"Europe\", \"Europe\", \"Europe\", \"Europe\", \"Asia\", \"Asia\", \"Asia\", \"Asia\", \"Europe\", \"Europe\", \"Europe\", \"Europe\", \"Europe\", \"Europe\", \"Europe\", \"Europe\", \"Europe\", \"Europe\", \"Europe\", \"Europe\", \"Asia\", \"Asia\", \"Asia\", \"Asia\", \"Europe\", \"Europe\", \"Europe\", \"Europe\", \"Europe\", \"Europe\", \"Europe\", \"Europe\", \"Asia\", \"Asia\", \"Asia\", \"Asia\", \"Europe\", \"Europe\", \"Europe\", \"Europe\", \"Europe\", \"Europe\", \"Europe\", \"Europe\", \"Asia\", \"Asia\", \"Asia\", \"Asia\", \"Asia\", \"Asia\", \"Asia\"], \"y0\": \" \", \"yaxis\": \"y\"}],                        {\"boxmode\": \"group\", \"legend\": {\"tracegroupgap\": 0}, \"margin\": {\"t\": 60}, \"template\": {\"data\": {\"bar\": [{\"error_x\": {\"color\": \"#2a3f5f\"}, \"error_y\": {\"color\": \"#2a3f5f\"}, \"marker\": {\"line\": {\"color\": \"#E5ECF6\", \"width\": 0.5}}, \"type\": \"bar\"}], \"barpolar\": [{\"marker\": {\"line\": {\"color\": \"#E5ECF6\", \"width\": 0.5}}, \"type\": \"barpolar\"}], \"carpet\": [{\"aaxis\": {\"endlinecolor\": \"#2a3f5f\", \"gridcolor\": \"white\", \"linecolor\": \"white\", \"minorgridcolor\": \"white\", \"startlinecolor\": \"#2a3f5f\"}, \"baxis\": {\"endlinecolor\": \"#2a3f5f\", \"gridcolor\": \"white\", \"linecolor\": \"white\", \"minorgridcolor\": \"white\", \"startlinecolor\": \"#2a3f5f\"}, \"type\": \"carpet\"}], \"choropleth\": [{\"colorbar\": {\"outlinewidth\": 0, \"ticks\": \"\"}, \"type\": \"choropleth\"}], \"contour\": [{\"colorbar\": {\"outlinewidth\": 0, \"ticks\": \"\"}, \"colorscale\": [[0.0, \"#0d0887\"], [0.1111111111111111, \"#46039f\"], [0.2222222222222222, \"#7201a8\"], [0.3333333333333333, \"#9c179e\"], [0.4444444444444444, \"#bd3786\"], [0.5555555555555556, \"#d8576b\"], [0.6666666666666666, \"#ed7953\"], [0.7777777777777778, \"#fb9f3a\"], [0.8888888888888888, \"#fdca26\"], [1.0, \"#f0f921\"]], \"type\": \"contour\"}], \"contourcarpet\": [{\"colorbar\": {\"outlinewidth\": 0, \"ticks\": \"\"}, \"type\": \"contourcarpet\"}], \"heatmap\": [{\"colorbar\": {\"outlinewidth\": 0, \"ticks\": \"\"}, \"colorscale\": [[0.0, \"#0d0887\"], [0.1111111111111111, \"#46039f\"], [0.2222222222222222, \"#7201a8\"], [0.3333333333333333, \"#9c179e\"], [0.4444444444444444, \"#bd3786\"], [0.5555555555555556, \"#d8576b\"], [0.6666666666666666, \"#ed7953\"], [0.7777777777777778, \"#fb9f3a\"], [0.8888888888888888, \"#fdca26\"], [1.0, \"#f0f921\"]], \"type\": \"heatmap\"}], \"heatmapgl\": [{\"colorbar\": {\"outlinewidth\": 0, \"ticks\": \"\"}, \"colorscale\": [[0.0, \"#0d0887\"], [0.1111111111111111, \"#46039f\"], [0.2222222222222222, \"#7201a8\"], [0.3333333333333333, \"#9c179e\"], [0.4444444444444444, \"#bd3786\"], [0.5555555555555556, \"#d8576b\"], [0.6666666666666666, \"#ed7953\"], [0.7777777777777778, \"#fb9f3a\"], [0.8888888888888888, \"#fdca26\"], [1.0, \"#f0f921\"]], \"type\": \"heatmapgl\"}], \"histogram\": [{\"marker\": {\"colorbar\": {\"outlinewidth\": 0, \"ticks\": \"\"}}, \"type\": \"histogram\"}], \"histogram2d\": [{\"colorbar\": {\"outlinewidth\": 0, \"ticks\": \"\"}, \"colorscale\": [[0.0, \"#0d0887\"], [0.1111111111111111, \"#46039f\"], [0.2222222222222222, \"#7201a8\"], [0.3333333333333333, \"#9c179e\"], [0.4444444444444444, \"#bd3786\"], [0.5555555555555556, \"#d8576b\"], [0.6666666666666666, \"#ed7953\"], [0.7777777777777778, \"#fb9f3a\"], [0.8888888888888888, \"#fdca26\"], [1.0, \"#f0f921\"]], \"type\": \"histogram2d\"}], \"histogram2dcontour\": [{\"colorbar\": {\"outlinewidth\": 0, \"ticks\": \"\"}, \"colorscale\": [[0.0, \"#0d0887\"], [0.1111111111111111, \"#46039f\"], [0.2222222222222222, \"#7201a8\"], [0.3333333333333333, \"#9c179e\"], [0.4444444444444444, \"#bd3786\"], [0.5555555555555556, \"#d8576b\"], [0.6666666666666666, \"#ed7953\"], [0.7777777777777778, \"#fb9f3a\"], [0.8888888888888888, \"#fdca26\"], [1.0, \"#f0f921\"]], \"type\": \"histogram2dcontour\"}], \"mesh3d\": [{\"colorbar\": {\"outlinewidth\": 0, \"ticks\": \"\"}, \"type\": \"mesh3d\"}], \"parcoords\": [{\"line\": {\"colorbar\": {\"outlinewidth\": 0, \"ticks\": \"\"}}, \"type\": \"parcoords\"}], \"pie\": [{\"automargin\": true, \"type\": \"pie\"}], \"scatter\": [{\"marker\": {\"colorbar\": {\"outlinewidth\": 0, \"ticks\": \"\"}}, \"type\": \"scatter\"}], \"scatter3d\": [{\"line\": {\"colorbar\": {\"outlinewidth\": 0, \"ticks\": \"\"}}, \"marker\": {\"colorbar\": {\"outlinewidth\": 0, \"ticks\": \"\"}}, \"type\": \"scatter3d\"}], \"scattercarpet\": [{\"marker\": {\"colorbar\": {\"outlinewidth\": 0, \"ticks\": \"\"}}, \"type\": \"scattercarpet\"}], \"scattergeo\": [{\"marker\": {\"colorbar\": {\"outlinewidth\": 0, \"ticks\": \"\"}}, \"type\": \"scattergeo\"}], \"scattergl\": [{\"marker\": {\"colorbar\": {\"outlinewidth\": 0, \"ticks\": \"\"}}, \"type\": \"scattergl\"}], \"scattermapbox\": [{\"marker\": {\"colorbar\": {\"outlinewidth\": 0, \"ticks\": \"\"}}, \"type\": \"scattermapbox\"}], \"scatterpolar\": [{\"marker\": {\"colorbar\": {\"outlinewidth\": 0, \"ticks\": \"\"}}, \"type\": \"scatterpolar\"}], \"scatterpolargl\": [{\"marker\": {\"colorbar\": {\"outlinewidth\": 0, \"ticks\": \"\"}}, \"type\": \"scatterpolargl\"}], \"scatterternary\": [{\"marker\": {\"colorbar\": {\"outlinewidth\": 0, \"ticks\": \"\"}}, \"type\": \"scatterternary\"}], \"surface\": [{\"colorbar\": {\"outlinewidth\": 0, \"ticks\": \"\"}, \"colorscale\": [[0.0, \"#0d0887\"], [0.1111111111111111, \"#46039f\"], [0.2222222222222222, \"#7201a8\"], [0.3333333333333333, \"#9c179e\"], [0.4444444444444444, \"#bd3786\"], [0.5555555555555556, \"#d8576b\"], [0.6666666666666666, \"#ed7953\"], [0.7777777777777778, \"#fb9f3a\"], [0.8888888888888888, \"#fdca26\"], [1.0, \"#f0f921\"]], \"type\": \"surface\"}], \"table\": [{\"cells\": {\"fill\": {\"color\": \"#EBF0F8\"}, \"line\": {\"color\": \"white\"}}, \"header\": {\"fill\": {\"color\": \"#C8D4E3\"}, \"line\": {\"color\": \"white\"}}, \"type\": \"table\"}]}, \"layout\": {\"annotationdefaults\": {\"arrowcolor\": \"#2a3f5f\", \"arrowhead\": 0, \"arrowwidth\": 1}, \"autotypenumbers\": \"strict\", \"coloraxis\": {\"colorbar\": {\"outlinewidth\": 0, \"ticks\": \"\"}}, \"colorscale\": {\"diverging\": [[0, \"#8e0152\"], [0.1, \"#c51b7d\"], [0.2, \"#de77ae\"], [0.3, \"#f1b6da\"], [0.4, \"#fde0ef\"], [0.5, \"#f7f7f7\"], [0.6, \"#e6f5d0\"], [0.7, \"#b8e186\"], [0.8, \"#7fbc41\"], [0.9, \"#4d9221\"], [1, \"#276419\"]], \"sequential\": [[0.0, \"#0d0887\"], [0.1111111111111111, \"#46039f\"], [0.2222222222222222, \"#7201a8\"], [0.3333333333333333, \"#9c179e\"], [0.4444444444444444, \"#bd3786\"], [0.5555555555555556, \"#d8576b\"], [0.6666666666666666, \"#ed7953\"], [0.7777777777777778, \"#fb9f3a\"], [0.8888888888888888, \"#fdca26\"], [1.0, \"#f0f921\"]], \"sequentialminus\": [[0.0, \"#0d0887\"], [0.1111111111111111, \"#46039f\"], [0.2222222222222222, \"#7201a8\"], [0.3333333333333333, \"#9c179e\"], [0.4444444444444444, \"#bd3786\"], [0.5555555555555556, \"#d8576b\"], [0.6666666666666666, \"#ed7953\"], [0.7777777777777778, \"#fb9f3a\"], [0.8888888888888888, \"#fdca26\"], [1.0, \"#f0f921\"]]}, \"colorway\": [\"#636efa\", \"#EF553B\", \"#00cc96\", \"#ab63fa\", \"#FFA15A\", \"#19d3f3\", \"#FF6692\", \"#B6E880\", \"#FF97FF\", \"#FECB52\"], \"font\": {\"color\": \"#2a3f5f\"}, \"geo\": {\"bgcolor\": \"white\", \"lakecolor\": \"white\", \"landcolor\": \"#E5ECF6\", \"showlakes\": true, \"showland\": true, \"subunitcolor\": \"white\"}, \"hoverlabel\": {\"align\": \"left\"}, \"hovermode\": \"closest\", \"mapbox\": {\"style\": \"light\"}, \"paper_bgcolor\": \"white\", \"plot_bgcolor\": \"#E5ECF6\", \"polar\": {\"angularaxis\": {\"gridcolor\": \"white\", \"linecolor\": \"white\", \"ticks\": \"\"}, \"bgcolor\": \"#E5ECF6\", \"radialaxis\": {\"gridcolor\": \"white\", \"linecolor\": \"white\", \"ticks\": \"\"}}, \"scene\": {\"xaxis\": {\"backgroundcolor\": \"#E5ECF6\", \"gridcolor\": \"white\", \"gridwidth\": 2, \"linecolor\": \"white\", \"showbackground\": true, \"ticks\": \"\", \"zerolinecolor\": \"white\"}, \"yaxis\": {\"backgroundcolor\": \"#E5ECF6\", \"gridcolor\": \"white\", \"gridwidth\": 2, \"linecolor\": \"white\", \"showbackground\": true, \"ticks\": \"\", \"zerolinecolor\": \"white\"}, \"zaxis\": {\"backgroundcolor\": \"#E5ECF6\", \"gridcolor\": \"white\", \"gridwidth\": 2, \"linecolor\": \"white\", \"showbackground\": true, \"ticks\": \"\", \"zerolinecolor\": \"white\"}}, \"shapedefaults\": {\"line\": {\"color\": \"#2a3f5f\"}}, \"ternary\": {\"aaxis\": {\"gridcolor\": \"white\", \"linecolor\": \"white\", \"ticks\": \"\"}, \"baxis\": {\"gridcolor\": \"white\", \"linecolor\": \"white\", \"ticks\": \"\"}, \"bgcolor\": \"#E5ECF6\", \"caxis\": {\"gridcolor\": \"white\", \"linecolor\": \"white\", \"ticks\": \"\"}}, \"title\": {\"x\": 0.05}, \"xaxis\": {\"automargin\": true, \"gridcolor\": \"white\", \"linecolor\": \"white\", \"ticks\": \"\", \"title\": {\"standoff\": 15}, \"zerolinecolor\": \"white\", \"zerolinewidth\": 2}, \"yaxis\": {\"automargin\": true, \"gridcolor\": \"white\", \"linecolor\": \"white\", \"ticks\": \"\", \"title\": {\"standoff\": 15}, \"zerolinecolor\": \"white\", \"zerolinewidth\": 2}}}, \"xaxis\": {\"anchor\": \"y\", \"domain\": [0.0, 1.0], \"title\": {\"text\": \"Imports of goods and services (% of GDP)\"}}, \"yaxis\": {\"anchor\": \"x\", \"domain\": [0.0, 1.0], \"title\": {\"text\": \"continent\"}}},                        {\"responsive\": true}                    ).then(function(){\n",
       "                            \n",
       "var gd = document.getElementById('16a56abb-9b6f-4800-a671-e8673e9da624');\n",
       "var x = new MutationObserver(function (mutations, observer) {{\n",
       "        var display = window.getComputedStyle(gd).display;\n",
       "        if (!display || display === 'none') {{\n",
       "            console.log([gd, 'removed!']);\n",
       "            Plotly.purge(gd);\n",
       "            observer.disconnect();\n",
       "        }}\n",
       "}});\n",
       "\n",
       "// Listen for the removal of the full notebook cells\n",
       "var notebookContainer = gd.closest('#notebook-container');\n",
       "if (notebookContainer) {{\n",
       "    x.observe(notebookContainer, {childList: true});\n",
       "}}\n",
       "\n",
       "// Listen for the clearing of the current output cell\n",
       "var outputEl = gd.closest('.output');\n",
       "if (outputEl) {{\n",
       "    x.observe(outputEl, {childList: true});\n",
       "}}\n",
       "\n",
       "                        })                };                });            </script>        </div>"
      ]
     },
     "metadata": {},
     "output_type": "display_data"
    }
   ],
   "source": [
    "fig = px.box(europe_and_asia_after_1990, x=\"Imports of goods and services (% of GDP)\", y=\"continent\", hover_data=['Country Name', \"Year\"])\n",
    "fig.show()"
   ]
  },
  {
   "cell_type": "code",
   "execution_count": 40,
   "metadata": {},
   "outputs": [
    {
     "name": "stdout",
     "output_type": "stream",
     "text": [
      "\n",
      " ShapiroResult(statistic=0.9278804063796997, pvalue=1.486705423303647e-05) \n",
      " ShapiroResult(statistic=0.9704142212867737, pvalue=0.032892148941755295)\n"
     ]
    },
    {
     "data": {
      "text/plain": [
       "LeveneResult(statistic=9.881593643140366, pvalue=0.0019207769451392669)"
      ]
     },
     "execution_count": 40,
     "metadata": {},
     "output_type": "execute_result"
    }
   ],
   "source": [
    "europe_imports = europe_and_asia_after_1990[europe_and_asia_after_1990[\"continent\"] == \"Europe\"][\"Imports of goods and services (% of GDP)\"].dropna()\n",
    "asia_imports = europe_and_asia_after_1990[europe_and_asia_after_1990[\"continent\"] == \"Asia\"][\"Imports of goods and services (% of GDP)\"].dropna()\n",
    "print(\"\\n\", stats.shapiro(europe_imports), \"\\n\", stats.shapiro(asia_imports))\n",
    "stats.levene(*[europe_imports,asia_imports], center='median', proportiontocut=0.05)\n"
   ]
  },
  {
   "cell_type": "markdown",
   "metadata": {},
   "source": [
    "<ul>\n",
    "    <li>Shapiro-Wilk tests: rejected 1/2 null hypotheses. Data is not normal distributed.</li>\n",
    "    <li>Leneve test: rejected null hypothesis.</li>\n",
    "</ul>\n",
    "<p>Like the anterior case, parametric requirements are not satisfied. I need to compare two means using a non-parametric test.</p>\n",
    "\n",
    "#### Mann-Whitney U test\n",
    "\n",
    "<p>The Mann-Whitney U test is used to compare differences between two independent groups when the dependent variable is either ordinal or continuous, but not normally distributed. \n",
    "</p>"
   ]
  },
  {
   "cell_type": "code",
   "execution_count": 41,
   "metadata": {},
   "outputs": [
    {
     "data": {
      "text/plain": [
       "MannwhitneyuResult(statistic=5034.0, pvalue=0.3811649093378452)"
      ]
     },
     "execution_count": 41,
     "metadata": {},
     "output_type": "execute_result"
    }
   ],
   "source": [
    "stats.mannwhitneyu(x=europe_imports, y=asia_imports)"
   ]
  },
  {
   "cell_type": "markdown",
   "metadata": {},
   "source": [
    "Can not reject the null hypothesis of identical average scores."
   ]
  },
  {
   "cell_type": "markdown",
   "metadata": {},
   "source": [
    "<a id=\"five\"></a>\n",
    "### What is the country (or countries) that has the highest 'Population density (people per sq. km of land area)' across all years? (i.e., which country has the highest average ranking in this category across each time point in the dataset?)\n",
    "<a href=\"#index\">Go to the table of contents</a>"
   ]
  },
  {
   "cell_type": "markdown",
   "metadata": {},
   "source": [
    "<p>I'll group the records by Country Name, then I'll calculate the pop density mean per country</p>"
   ]
  },
  {
   "cell_type": "code",
   "execution_count": 42,
   "metadata": {},
   "outputs": [
    {
     "data": {
      "text/plain": [
       "Country Name\n",
       "Singapore             4361.499928\n",
       "Bangladesh             810.312621\n",
       "Bahrain                648.618703\n",
       "West Bank and Gaza     513.642691\n",
       "Mauritius              490.801823\n",
       "Name: Population density (people per sq. km of land area), dtype: float64"
      ]
     },
     "execution_count": 42,
     "metadata": {},
     "output_type": "execute_result"
    }
   ],
   "source": [
    "df.groupby(\"Country Name\")[\"Population density (people per sq. km of land area)\"].mean().sort_values(ascending=False).head()"
   ]
  },
  {
   "cell_type": "code",
   "execution_count": 43,
   "metadata": {},
   "outputs": [
    {
     "data": {
      "application/vnd.plotly.v1+json": {
       "config": {
        "plotlyServerURL": "https://plot.ly"
       },
       "data": [
        {
         "hovertemplate": "<b>%{hovertext}</b><br><br>Country Name=Afghanistan<br>Year=%{x}<br>Population density (people per sq. km of land area)=%{y}<extra></extra>",
         "hovertext": [
          "Afghanistan",
          "Afghanistan",
          "Afghanistan",
          "Afghanistan",
          "Afghanistan",
          "Afghanistan",
          "Afghanistan",
          "Afghanistan",
          "Afghanistan",
          "Afghanistan"
         ],
         "legendgroup": "Afghanistan",
         "line": {
          "color": "#636efa",
          "dash": "solid"
         },
         "mode": "lines",
         "name": "Afghanistan",
         "showlegend": true,
         "type": "scattergl",
         "x": [
          1962,
          1967,
          1972,
          1977,
          1982,
          1987,
          1992,
          1997,
          2002,
          2007
         ],
         "xaxis": "x",
         "y": [
          14.3120607787,
          15.8818123334,
          17.9470269277,
          19.9989262629,
          19.4023236222,
          17.3665594461,
          21.0544833502,
          27.6232729835,
          32.912230799899994,
          39.637202463
         ],
         "yaxis": "y"
        },
        {
         "hovertemplate": "<b>%{hovertext}</b><br><br>Country Name=Albania<br>Year=%{x}<br>Population density (people per sq. km of land area)=%{y}<extra></extra>",
         "hovertext": [
          "Albania",
          "Albania",
          "Albania",
          "Albania",
          "Albania",
          "Albania",
          "Albania",
          "Albania",
          "Albania",
          "Albania"
         ],
         "legendgroup": "Albania",
         "line": {
          "color": "#EF553B",
          "dash": "solid"
         },
         "mode": "lines",
         "name": "Albania",
         "showlegend": true,
         "type": "scattergl",
         "x": [
          1962,
          1967,
          1972,
          1977,
          1982,
          1987,
          1992,
          1997,
          2002,
          2007
         ],
         "xaxis": "x",
         "y": [
          62.456897810200005,
          71.7371532847,
          81.8659124088,
          91.7352554745,
          101.615985401,
          112.540328467,
          118.505072993,
          114.900766423,
          111.350729927,
          108.394781022
         ],
         "yaxis": "y"
        },
        {
         "hovertemplate": "<b>%{hovertext}</b><br><br>Country Name=Algeria<br>Year=%{x}<br>Population density (people per sq. km of land area)=%{y}<extra></extra>",
         "hovertext": [
          "Algeria",
          "Algeria",
          "Algeria",
          "Algeria",
          "Algeria",
          "Algeria",
          "Algeria",
          "Algeria",
          "Algeria",
          "Algeria"
         ],
         "legendgroup": "Algeria",
         "line": {
          "color": "#00cc96",
          "dash": "solid"
         },
         "mode": "lines",
         "name": "Algeria",
         "showlegend": true,
         "type": "scattergl",
         "x": [
          1962,
          1967,
          1972,
          1977,
          1982,
          1987,
          1992,
          1997,
          2002,
          2007
         ],
         "xaxis": "x",
         "y": [
          4.90824019414,
          5.60690797484,
          6.456244174430001,
          7.427420289369999,
          8.63893665975,
          10.0421914231,
          11.4122116604,
          12.5486900333,
          13.4315193934,
          14.385269173
         ],
         "yaxis": "y"
        },
        {
         "hovertemplate": "<b>%{hovertext}</b><br><br>Country Name=Angola<br>Year=%{x}<br>Population density (people per sq. km of land area)=%{y}<extra></extra>",
         "hovertext": [
          "Angola",
          "Angola",
          "Angola",
          "Angola",
          "Angola",
          "Angola",
          "Angola",
          "Angola",
          "Angola",
          "Angola"
         ],
         "legendgroup": "Angola",
         "line": {
          "color": "#ab63fa",
          "dash": "solid"
         },
         "mode": "lines",
         "name": "Angola",
         "showlegend": true,
         "type": "scattergl",
         "x": [
          1962,
          1967,
          1972,
          1977,
          1982,
          1987,
          1992,
          1997,
          2002,
          2007
         ],
         "xaxis": "x",
         "y": [
          4.384298548169999,
          4.782891633909999,
          5.2840675383,
          6.016940723509999,
          7.06465950108,
          8.25035052539,
          9.5042680677,
          11.0707211037,
          12.9218705382,
          15.387749258
         ],
         "yaxis": "y"
        },
        {
         "hovertemplate": "<b>%{hovertext}</b><br><br>Country Name=Argentina<br>Year=%{x}<br>Population density (people per sq. km of land area)=%{y}<extra></extra>",
         "hovertext": [
          "Argentina",
          "Argentina",
          "Argentina",
          "Argentina",
          "Argentina",
          "Argentina",
          "Argentina",
          "Argentina",
          "Argentina",
          "Argentina"
         ],
         "legendgroup": "Argentina",
         "line": {
          "color": "#FFA15A",
          "dash": "solid"
         },
         "mode": "lines",
         "name": "Argentina",
         "showlegend": true,
         "type": "scattergl",
         "x": [
          1962,
          1967,
          1972,
          1977,
          1982,
          1987,
          1992,
          1997,
          2002,
          2007
         ],
         "xaxis": "x",
         "y": [
          7.778623811980001,
          8.37953915131,
          9.05581194801,
          9.82156071751,
          10.5945463315,
          11.446847469,
          12.2977571446,
          13.0939072383,
          13.8449890196,
          14.6051993467
         ],
         "yaxis": "y"
        },
        {
         "hovertemplate": "<b>%{hovertext}</b><br><br>Country Name=Australia<br>Year=%{x}<br>Population density (people per sq. km of land area)=%{y}<extra></extra>",
         "hovertext": [
          "Australia",
          "Australia",
          "Australia",
          "Australia",
          "Australia",
          "Australia",
          "Australia",
          "Australia",
          "Australia",
          "Australia"
         ],
         "legendgroup": "Australia",
         "line": {
          "color": "#19d3f3",
          "dash": "solid"
         },
         "mode": "lines",
         "name": "Australia",
         "showlegend": true,
         "type": "scattergl",
         "x": [
          1962,
          1967,
          1972,
          1977,
          1982,
          1987,
          1992,
          1997,
          2002,
          2007
         ],
         "xaxis": "x",
         "y": [
          1.3982791611899998,
          1.53586816448,
          1.7152415292299998,
          1.84736341981,
          1.97571039923,
          2.11706129675,
          2.2773127839300003,
          2.41034585996,
          2.55800997097,
          2.7111151608200004
         ],
         "yaxis": "y"
        },
        {
         "hovertemplate": "<b>%{hovertext}</b><br><br>Country Name=Austria<br>Year=%{x}<br>Population density (people per sq. km of land area)=%{y}<extra></extra>",
         "hovertext": [
          "Austria",
          "Austria",
          "Austria",
          "Austria",
          "Austria",
          "Austria",
          "Austria",
          "Austria",
          "Austria",
          "Austria"
         ],
         "legendgroup": "Austria",
         "line": {
          "color": "#FF6692",
          "dash": "solid"
         },
         "mode": "lines",
         "name": "Austria",
         "showlegend": true,
         "type": "scattergl",
         "x": [
          1962,
          1967,
          1972,
          1977,
          1982,
          1987,
          1992,
          1997,
          2002,
          2007
         ],
         "xaxis": "x",
         "y": [
          86.3388713974,
          89.33153305889999,
          91.3562727053,
          91.6496730443,
          91.7188181158,
          91.7242189392,
          94.946827319,
          96.4887503027,
          97.8682126423,
          100.456380634
         ],
         "yaxis": "y"
        },
        {
         "hovertemplate": "<b>%{hovertext}</b><br><br>Country Name=Bahrain<br>Year=%{x}<br>Population density (people per sq. km of land area)=%{y}<extra></extra>",
         "hovertext": [
          "Bahrain",
          "Bahrain",
          "Bahrain",
          "Bahrain",
          "Bahrain",
          "Bahrain",
          "Bahrain",
          "Bahrain",
          "Bahrain",
          "Bahrain"
         ],
         "legendgroup": "Bahrain",
         "line": {
          "color": "#B6E880",
          "dash": "solid"
         },
         "mode": "lines",
         "name": "Bahrain",
         "showlegend": true,
         "type": "scattergl",
         "x": [
          1962,
          1967,
          1972,
          1977,
          1982,
          1987,
          1992,
          1997,
          2002,
          2007
         ],
         "xaxis": "x",
         "y": [
          250.879710145,
          284.352173913,
          332.736231884,
          439.472463768,
          559.3478260869999,
          650.715942029,
          736.2647887319998,
          842.01971831,
          1021.64084507,
          1368.75733333
         ],
         "yaxis": "y"
        },
        {
         "hovertemplate": "<b>%{hovertext}</b><br><br>Country Name=Bangladesh<br>Year=%{x}<br>Population density (people per sq. km of land area)=%{y}<extra></extra>",
         "hovertext": [
          "Bangladesh",
          "Bangladesh",
          "Bangladesh",
          "Bangladesh",
          "Bangladesh",
          "Bangladesh",
          "Bangladesh",
          "Bangladesh"
         ],
         "legendgroup": "Bangladesh",
         "line": {
          "color": "#FF97FF",
          "dash": "solid"
         },
         "mode": "lines",
         "name": "Bangladesh",
         "showlegend": true,
         "type": "scattergl",
         "x": [
          1972,
          1977,
          1982,
          1987,
          1992,
          1997,
          2002,
          2007
         ],
         "xaxis": "x",
         "y": [
          519.155611892,
          575.005500499,
          659.66219559,
          754.008312207,
          852.634700776,
          949.328624107,
          1046.54264423,
          1126.16337866
         ],
         "yaxis": "y"
        },
        {
         "hovertemplate": "<b>%{hovertext}</b><br><br>Country Name=Belgium<br>Year=%{x}<br>Population density (people per sq. km of land area)=%{y}<extra></extra>",
         "hovertext": [
          "Belgium",
          "Belgium",
          "Belgium",
          "Belgium",
          "Belgium",
          "Belgium",
          "Belgium",
          "Belgium",
          "Belgium",
          "Belgium"
         ],
         "legendgroup": "Belgium",
         "line": {
          "color": "#FECB52",
          "dash": "solid"
         },
         "mode": "lines",
         "name": "Belgium",
         "showlegend": true,
         "type": "scattergl",
         "x": [
          1962,
          1967,
          1972,
          1977,
          1982,
          1987,
          1992,
          1997,
          2002,
          2007
         ],
         "xaxis": "x",
         "y": [
          null,
          null,
          null,
          null,
          null,
          null,
          null,
          null,
          341.241248349,
          350.914795244
         ],
         "yaxis": "y"
        },
        {
         "hovertemplate": "<b>%{hovertext}</b><br><br>Country Name=Benin<br>Year=%{x}<br>Population density (people per sq. km of land area)=%{y}<extra></extra>",
         "hovertext": [
          "Benin",
          "Benin",
          "Benin",
          "Benin",
          "Benin",
          "Benin",
          "Benin",
          "Benin",
          "Benin",
          "Benin"
         ],
         "legendgroup": "Benin",
         "line": {
          "color": "#636efa",
          "dash": "solid"
         },
         "mode": "lines",
         "name": "Benin",
         "showlegend": true,
         "type": "scattergl",
         "x": [
          1962,
          1967,
          1972,
          1977,
          1982,
          1987,
          1992,
          1997,
          2002,
          2007
         ],
         "xaxis": "x",
         "y": [
          22.1996452643,
          24.2413089748,
          26.9537069883,
          30.4386484569,
          34.864801348,
          40.3169208939,
          47.6962220646,
          56.4145175594,
          65.7568641362,
          77.2227474282
         ],
         "yaxis": "y"
        },
        {
         "hovertemplate": "<b>%{hovertext}</b><br><br>Country Name=Bolivia<br>Year=%{x}<br>Population density (people per sq. km of land area)=%{y}<extra></extra>",
         "hovertext": [
          "Bolivia",
          "Bolivia",
          "Bolivia",
          "Bolivia",
          "Bolivia",
          "Bolivia",
          "Bolivia",
          "Bolivia",
          "Bolivia",
          "Bolivia"
         ],
         "legendgroup": "Bolivia",
         "line": {
          "color": "#EF553B",
          "dash": "solid"
         },
         "mode": "lines",
         "name": "Bolivia",
         "showlegend": true,
         "type": "scattergl",
         "x": [
          1962,
          1967,
          1972,
          1977,
          1982,
          1987,
          1992,
          1997,
          2002,
          2007
         ],
         "xaxis": "x",
         "y": [
          3.54296686052,
          3.91131357888,
          4.33683190252,
          4.83123511493,
          5.386491276649999,
          5.96763223484,
          6.583309332590001,
          7.2656327887,
          7.98794701375,
          8.71548232253
         ],
         "yaxis": "y"
        },
        {
         "hovertemplate": "<b>%{hovertext}</b><br><br>Country Name=Bosnia and Herzegovina<br>Year=%{x}<br>Population density (people per sq. km of land area)=%{y}<extra></extra>",
         "hovertext": [
          "Bosnia and Herzegovina",
          "Bosnia and Herzegovina",
          "Bosnia and Herzegovina",
          "Bosnia and Herzegovina"
         ],
         "legendgroup": "Bosnia and Herzegovina",
         "line": {
          "color": "#00cc96",
          "dash": "solid"
         },
         "mode": "lines",
         "name": "Bosnia and Herzegovina",
         "showlegend": true,
         "type": "scattergl",
         "x": [
          1992,
          1997,
          2002,
          2007
         ],
         "xaxis": "x",
         "y": [
          84.0072070313,
          73.8155078125,
          74.3817773438,
          75.0081640625
         ],
         "yaxis": "y"
        },
        {
         "hovertemplate": "<b>%{hovertext}</b><br><br>Country Name=Botswana<br>Year=%{x}<br>Population density (people per sq. km of land area)=%{y}<extra></extra>",
         "hovertext": [
          "Botswana",
          "Botswana",
          "Botswana",
          "Botswana",
          "Botswana",
          "Botswana",
          "Botswana",
          "Botswana"
         ],
         "legendgroup": "Botswana",
         "line": {
          "color": "#ab63fa",
          "dash": "solid"
         },
         "mode": "lines",
         "name": "Botswana",
         "showlegend": true,
         "type": "scattergl",
         "x": [
          1972,
          1977,
          1982,
          1987,
          1992,
          1997,
          2002,
          2007
         ],
         "xaxis": "x",
         "y": [
          1.3053023485600002,
          1.56651844794,
          1.88795722831,
          2.22455137367,
          2.57698198437,
          2.9041095407,
          3.15259823902,
          3.4062622412800003
         ],
         "yaxis": "y"
        },
        {
         "hovertemplate": "<b>%{hovertext}</b><br><br>Country Name=Brazil<br>Year=%{x}<br>Population density (people per sq. km of land area)=%{y}<extra></extra>",
         "hovertext": [
          "Brazil",
          "Brazil",
          "Brazil",
          "Brazil",
          "Brazil",
          "Brazil",
          "Brazil",
          "Brazil",
          "Brazil",
          "Brazil"
         ],
         "legendgroup": "Brazil",
         "line": {
          "color": "#FFA15A",
          "dash": "solid"
         },
         "mode": "lines",
         "name": "Brazil",
         "showlegend": true,
         "type": "scattergl",
         "x": [
          1962,
          1967,
          1972,
          1977,
          1982,
          1987,
          1992,
          1997,
          2002,
          2007
         ],
         "xaxis": "x",
         "y": [
          9.21347919513,
          10.6307957273,
          12.0654106057,
          13.6126538919,
          15.320963396199998,
          17.041767546400006,
          18.5901419455,
          20.0874638376,
          21.6609906032,
          23.0654811956
         ],
         "yaxis": "y"
        },
        {
         "hovertemplate": "<b>%{hovertext}</b><br><br>Country Name=Bulgaria<br>Year=%{x}<br>Population density (people per sq. km of land area)=%{y}<extra></extra>",
         "hovertext": [
          "Bulgaria",
          "Bulgaria",
          "Bulgaria",
          "Bulgaria",
          "Bulgaria",
          "Bulgaria",
          "Bulgaria",
          "Bulgaria",
          "Bulgaria",
          "Bulgaria"
         ],
         "legendgroup": "Bulgaria",
         "line": {
          "color": "#19d3f3",
          "dash": "solid"
         },
         "mode": "lines",
         "name": "Bulgaria",
         "showlegend": true,
         "type": "scattergl",
         "x": [
          1962,
          1967,
          1972,
          1977,
          1982,
          1987,
          1992,
          1997,
          2002,
          2007
         ],
         "xaxis": "x",
         "y": [
          72.430136491,
          75.1172918738,
          77.5214679563,
          79.5822380909,
          80.6061375757,
          81.09336527159999,
          77.1957335262,
          75.1339419687,
          72.0327297794,
          69.4718534205
         ],
         "yaxis": "y"
        },
        {
         "hovertemplate": "<b>%{hovertext}</b><br><br>Country Name=Burkina Faso<br>Year=%{x}<br>Population density (people per sq. km of land area)=%{y}<extra></extra>",
         "hovertext": [
          "Burkina Faso",
          "Burkina Faso",
          "Burkina Faso",
          "Burkina Faso",
          "Burkina Faso",
          "Burkina Faso",
          "Burkina Faso",
          "Burkina Faso",
          "Burkina Faso",
          "Burkina Faso"
         ],
         "legendgroup": "Burkina Faso",
         "line": {
          "color": "#FF6692",
          "dash": "solid"
         },
         "mode": "lines",
         "name": "Burkina Faso",
         "showlegend": true,
         "type": "scattergl",
         "x": [
          1962,
          1967,
          1972,
          1977,
          1982,
          1987,
          1992,
          1997,
          2002,
          2007
         ],
         "xaxis": "x",
         "y": [
          18.1298428363,
          19.5285818713,
          21.2908296784,
          23.3879276316,
          26.1632163743,
          29.7517397661,
          33.980687134499995,
          38.9831176901,
          44.9231871345,
          52.1345102339
         ],
         "yaxis": "y"
        },
        {
         "hovertemplate": "<b>%{hovertext}</b><br><br>Country Name=Burundi<br>Year=%{x}<br>Population density (people per sq. km of land area)=%{y}<extra></extra>",
         "hovertext": [
          "Burundi",
          "Burundi",
          "Burundi",
          "Burundi",
          "Burundi",
          "Burundi",
          "Burundi",
          "Burundi",
          "Burundi",
          "Burundi"
         ],
         "legendgroup": "Burundi",
         "line": {
          "color": "#B6E880",
          "dash": "solid"
         },
         "mode": "lines",
         "name": "Burundi",
         "showlegend": true,
         "type": "scattergl",
         "x": [
          1962,
          1967,
          1972,
          1977,
          1982,
          1987,
          1992,
          1997,
          2002,
          2007
         ],
         "xaxis": "x",
         "y": [
          112.714563863,
          125.97838785,
          138.136098131,
          148.967445483,
          169.747741433,
          198.932281931,
          229.561176012,
          250.015459502,
          278.813006231,
          331.564563863
         ],
         "yaxis": "y"
        },
        {
         "hovertemplate": "<b>%{hovertext}</b><br><br>Country Name=Cambodia<br>Year=%{x}<br>Population density (people per sq. km of land area)=%{y}<extra></extra>",
         "hovertext": [
          "Cambodia",
          "Cambodia",
          "Cambodia",
          "Cambodia",
          "Cambodia",
          "Cambodia",
          "Cambodia",
          "Cambodia",
          "Cambodia",
          "Cambodia"
         ],
         "legendgroup": "Cambodia",
         "line": {
          "color": "#FF97FF",
          "dash": "solid"
         },
         "mode": "lines",
         "name": "Cambodia",
         "showlegend": true,
         "type": "scattergl",
         "x": [
          1962,
          1967,
          1972,
          1977,
          1982,
          1987,
          1992,
          1997,
          2002,
          2007
         ],
         "xaxis": "x",
         "y": [
          34.1417176524,
          37.9303195105,
          41.531622479,
          40.9134942216,
          39.3442839338,
          46.613800136,
          54.7203602991,
          64.2348345797,
          71.8444595513,
          77.77418989350001
         ],
         "yaxis": "y"
        },
        {
         "hovertemplate": "<b>%{hovertext}</b><br><br>Country Name=Cameroon<br>Year=%{x}<br>Population density (people per sq. km of land area)=%{y}<extra></extra>",
         "hovertext": [
          "Cameroon",
          "Cameroon",
          "Cameroon",
          "Cameroon",
          "Cameroon",
          "Cameroon",
          "Cameroon",
          "Cameroon",
          "Cameroon",
          "Cameroon"
         ],
         "legendgroup": "Cameroon",
         "line": {
          "color": "#FECB52",
          "dash": "solid"
         },
         "mode": "lines",
         "name": "Cameroon",
         "showlegend": true,
         "type": "scattergl",
         "x": [
          1962,
          1967,
          1972,
          1977,
          1982,
          1987,
          1992,
          1997,
          2002,
          2007
         ],
         "xaxis": "x",
         "y": [
          11.833403143599998,
          13.28667259,
          15.0924964566,
          17.3210636542,
          20.055928582,
          23.3367498043,
          27.0710139409,
          31.1183622094,
          35.496253517,
          40.3589938863
         ],
         "yaxis": "y"
        },
        {
         "hovertemplate": "<b>%{hovertext}</b><br><br>Country Name=Canada<br>Year=%{x}<br>Population density (people per sq. km of land area)=%{y}<extra></extra>",
         "hovertext": [
          "Canada",
          "Canada",
          "Canada",
          "Canada",
          "Canada",
          "Canada",
          "Canada",
          "Canada",
          "Canada",
          "Canada"
         ],
         "legendgroup": "Canada",
         "line": {
          "color": "#636efa",
          "dash": "solid"
         },
         "mode": "lines",
         "name": "Canada",
         "showlegend": true,
         "type": "scattergl",
         "x": [
          1962,
          1967,
          1972,
          1977,
          1982,
          1987,
          1992,
          1997,
          2002,
          2007
         ],
         "xaxis": "x",
         "y": [
          2.04695436636,
          2.24467779768,
          2.41860744641,
          2.61681133028,
          2.7714270947099995,
          2.91966468393,
          3.13625838648,
          3.29764854275,
          3.4488332888,
          3.61663736005
         ],
         "yaxis": "y"
        },
        {
         "hovertemplate": "<b>%{hovertext}</b><br><br>Country Name=Central African Republic<br>Year=%{x}<br>Population density (people per sq. km of land area)=%{y}<extra></extra>",
         "hovertext": [
          "Central African Republic",
          "Central African Republic",
          "Central African Republic",
          "Central African Republic",
          "Central African Republic",
          "Central African Republic",
          "Central African Republic",
          "Central African Republic",
          "Central African Republic",
          "Central African Republic"
         ],
         "legendgroup": "Central African Republic",
         "line": {
          "color": "#EF553B",
          "dash": "solid"
         },
         "mode": "lines",
         "name": "Central African Republic",
         "showlegend": true,
         "type": "scattergl",
         "x": [
          1962,
          1967,
          1972,
          1977,
          1982,
          1987,
          1992,
          1997,
          2002,
          2007
         ],
         "xaxis": "x",
         "y": [
          2.49872548075,
          2.75860862307,
          3.0509839802200003,
          3.3844055989,
          3.87122058493,
          4.41613374426,
          4.95865196314,
          5.61480304344,
          6.195678833990001,
          6.74516677903
         ],
         "yaxis": "y"
        },
        {
         "hovertemplate": "<b>%{hovertext}</b><br><br>Country Name=Chad<br>Year=%{x}<br>Population density (people per sq. km of land area)=%{y}<extra></extra>",
         "hovertext": [
          "Chad",
          "Chad",
          "Chad",
          "Chad",
          "Chad",
          "Chad",
          "Chad",
          "Chad",
          "Chad",
          "Chad"
         ],
         "legendgroup": "Chad",
         "line": {
          "color": "#00cc96",
          "dash": "solid"
         },
         "mode": "lines",
         "name": "Chad",
         "showlegend": true,
         "type": "scattergl",
         "x": [
          1962,
          1967,
          1972,
          1977,
          1982,
          1987,
          1992,
          1997,
          2002,
          2007
         ],
         "xaxis": "x",
         "y": [
          2.47806111111,
          2.72716428571,
          3.02880873016,
          3.3789469504400005,
          3.7452930432,
          4.29580289072,
          5.043022553999999,
          5.951511277000001,
          7.149064485389999,
          8.56059720457
         ],
         "yaxis": "y"
        },
        {
         "hovertemplate": "<b>%{hovertext}</b><br><br>Country Name=Chile<br>Year=%{x}<br>Population density (people per sq. km of land area)=%{y}<extra></extra>",
         "hovertext": [
          "Chile",
          "Chile",
          "Chile",
          "Chile",
          "Chile",
          "Chile",
          "Chile",
          "Chile",
          "Chile",
          "Chile"
         ],
         "legendgroup": "Chile",
         "line": {
          "color": "#ab63fa",
          "dash": "solid"
         },
         "mode": "lines",
         "name": "Chile",
         "showlegend": true,
         "type": "scattergl",
         "x": [
          1962,
          1967,
          1972,
          1977,
          1982,
          1987,
          1992,
          1997,
          2002,
          2007
         ],
         "xaxis": "x",
         "y": [
          10.8323058053,
          12.098215006199998,
          13.3370964531,
          14.4530807013,
          15.5597001878,
          16.821721190199998,
          18.2466148061,
          19.6280321493,
          20.9063685221,
          22.1412138281
         ],
         "yaxis": "y"
        },
        {
         "hovertemplate": "<b>%{hovertext}</b><br><br>Country Name=China<br>Year=%{x}<br>Population density (people per sq. km of land area)=%{y}<extra></extra>",
         "hovertext": [
          "China",
          "China",
          "China",
          "China",
          "China",
          "China",
          "China",
          "China",
          "China",
          "China"
         ],
         "legendgroup": "China",
         "line": {
          "color": "#FFA15A",
          "dash": "solid"
         },
         "mode": "lines",
         "name": "China",
         "showlegend": true,
         "type": "scattergl",
         "x": [
          1962,
          1967,
          1972,
          1977,
          1982,
          1987,
          1992,
          1997,
          2002,
          2007
         ],
         "xaxis": "x",
         "y": [
          70.9152397944,
          80.3717412723,
          91.8200942668,
          100.493169654,
          107.435358027,
          115.467206348,
          124.088088834,
          131.023100201,
          136.38377961,
          140.37658805
         ],
         "yaxis": "y"
        },
        {
         "hovertemplate": "<b>%{hovertext}</b><br><br>Country Name=Colombia<br>Year=%{x}<br>Population density (people per sq. km of land area)=%{y}<extra></extra>",
         "hovertext": [
          "Colombia",
          "Colombia",
          "Colombia",
          "Colombia",
          "Colombia",
          "Colombia",
          "Colombia",
          "Colombia",
          "Colombia",
          "Colombia"
         ],
         "legendgroup": "Colombia",
         "line": {
          "color": "#19d3f3",
          "dash": "solid"
         },
         "mode": "lines",
         "name": "Colombia",
         "showlegend": true,
         "type": "scattergl",
         "x": [
          1962,
          1967,
          1972,
          1977,
          1982,
          1987,
          1992,
          1997,
          2002,
          2007
         ],
         "xaxis": "x",
         "y": [
          15.7730202794,
          18.3067769265,
          20.8623731411,
          23.348466877,
          26.162377647600003,
          29.134137899999995,
          32.0492861649,
          34.8313735917,
          37.4695745831,
          39.9951753042
         ],
         "yaxis": "y"
        },
        {
         "hovertemplate": "<b>%{hovertext}</b><br><br>Country Name=Comoros<br>Year=%{x}<br>Population density (people per sq. km of land area)=%{y}<extra></extra>",
         "hovertext": [
          "Comoros",
          "Comoros",
          "Comoros",
          "Comoros",
          "Comoros",
          "Comoros",
          "Comoros",
          "Comoros",
          "Comoros",
          "Comoros"
         ],
         "legendgroup": "Comoros",
         "line": {
          "color": "#FF6692",
          "dash": "solid"
         },
         "mode": "lines",
         "name": "Comoros",
         "showlegend": true,
         "type": "scattergl",
         "x": [
          1962,
          1967,
          1972,
          1977,
          1982,
          1987,
          1992,
          1997,
          2002,
          2007
         ],
         "xaxis": "x",
         "y": [
          104.760881247,
          115.012358947,
          127.779150994,
          148.036539495,
          176.440085975,
          203.970445997,
          236.567436862,
          272.178936056,
          309.203653949,
          348.954325631
         ],
         "yaxis": "y"
        },
        {
         "hovertemplate": "<b>%{hovertext}</b><br><br>Country Name=Costa Rica<br>Year=%{x}<br>Population density (people per sq. km of land area)=%{y}<extra></extra>",
         "hovertext": [
          "Costa Rica",
          "Costa Rica",
          "Costa Rica",
          "Costa Rica",
          "Costa Rica",
          "Costa Rica",
          "Costa Rica",
          "Costa Rica",
          "Costa Rica",
          "Costa Rica"
         ],
         "legendgroup": "Costa Rica",
         "line": {
          "color": "#B6E880",
          "dash": "solid"
         },
         "mode": "lines",
         "name": "Costa Rica",
         "showlegend": true,
         "type": "scattergl",
         "x": [
          1962,
          1967,
          1972,
          1977,
          1982,
          1987,
          1992,
          1997,
          2002,
          2007
         ],
         "xaxis": "x",
         "y": [
          28.0568546808,
          33.1905797101,
          38.1325499412,
          43.2378965922,
          49.3764786526,
          56.2517430474,
          63.7967685076,
          72.125440658,
          79.577124951,
          85.5751077164
         ],
         "yaxis": "y"
        },
        {
         "hovertemplate": "<b>%{hovertext}</b><br><br>Country Name=Cote d'Ivoire<br>Year=%{x}<br>Population density (people per sq. km of land area)=%{y}<extra></extra>",
         "hovertext": [
          "Cote d'Ivoire",
          "Cote d'Ivoire",
          "Cote d'Ivoire",
          "Cote d'Ivoire",
          "Cote d'Ivoire",
          "Cote d'Ivoire",
          "Cote d'Ivoire",
          "Cote d'Ivoire",
          "Cote d'Ivoire",
          "Cote d'Ivoire"
         ],
         "legendgroup": "Cote d'Ivoire",
         "line": {
          "color": "#FF97FF",
          "dash": "solid"
         },
         "mode": "lines",
         "name": "Cote d'Ivoire",
         "showlegend": true,
         "type": "scattergl",
         "x": [
          1962,
          1967,
          1972,
          1977,
          1982,
          1987,
          1992,
          1997,
          2002,
          2007
         ],
         "xaxis": "x",
         "y": [
          11.7625880503,
          14.4378553459,
          18.0743176101,
          22.7592798742,
          28.3094339623,
          34.402474842800004,
          41.028009434,
          48.1018553459,
          54.0422044025,
          59.3150062893
         ],
         "yaxis": "y"
        },
        {
         "hovertemplate": "<b>%{hovertext}</b><br><br>Country Name=Croatia<br>Year=%{x}<br>Population density (people per sq. km of land area)=%{y}<extra></extra>",
         "hovertext": [
          "Croatia",
          "Croatia",
          "Croatia",
          "Croatia"
         ],
         "legendgroup": "Croatia",
         "line": {
          "color": "#FECB52",
          "dash": "solid"
         },
         "mode": "lines",
         "name": "Croatia",
         "showlegend": true,
         "type": "scattergl",
         "x": [
          1992,
          1997,
          2002,
          2007
         ],
         "xaxis": "x",
         "y": [
          79.9499195135,
          81.6720257235,
          79.4133428725,
          79.2709077913
         ],
         "yaxis": "y"
        },
        {
         "hovertemplate": "<b>%{hovertext}</b><br><br>Country Name=Cuba<br>Year=%{x}<br>Population density (people per sq. km of land area)=%{y}<extra></extra>",
         "hovertext": [
          "Cuba",
          "Cuba",
          "Cuba",
          "Cuba",
          "Cuba",
          "Cuba",
          "Cuba",
          "Cuba",
          "Cuba",
          "Cuba"
         ],
         "legendgroup": "Cuba",
         "line": {
          "color": "#636efa",
          "dash": "solid"
         },
         "mode": "lines",
         "name": "Cuba",
         "showlegend": true,
         "type": "scattergl",
         "x": [
          1962,
          1967,
          1972,
          1977,
          1982,
          1987,
          1992,
          1997,
          2002,
          2007
         ],
         "xaxis": "x",
         "y": [
          69.3706145251,
          76.9417783985,
          84.0344413408,
          89.7083519553,
          92.4172998138,
          95.6170949721,
          99.9606610801,
          102.424869646,
          105.127737569,
          106.013181135
         ],
         "yaxis": "y"
        },
        {
         "hovertemplate": "<b>%{hovertext}</b><br><br>Country Name=Czech Republic<br>Year=%{x}<br>Population density (people per sq. km of land area)=%{y}<extra></extra>",
         "hovertext": [
          "Czech Republic",
          "Czech Republic",
          "Czech Republic",
          "Czech Republic"
         ],
         "legendgroup": "Czech Republic",
         "line": {
          "color": "#EF553B",
          "dash": "solid"
         },
         "mode": "lines",
         "name": "Czech Republic",
         "showlegend": true,
         "type": "scattergl",
         "x": [
          1992,
          1997,
          2002,
          2007
         ],
         "xaxis": "x",
         "y": [
          133.546305164,
          133.35228419799998,
          131.964746991,
          133.318161812
         ],
         "yaxis": "y"
        },
        {
         "hovertemplate": "<b>%{hovertext}</b><br><br>Country Name=Denmark<br>Year=%{x}<br>Population density (people per sq. km of land area)=%{y}<extra></extra>",
         "hovertext": [
          "Denmark",
          "Denmark",
          "Denmark",
          "Denmark",
          "Denmark",
          "Denmark",
          "Denmark",
          "Denmark",
          "Denmark",
          "Denmark"
         ],
         "legendgroup": "Denmark",
         "line": {
          "color": "#00cc96",
          "dash": "solid"
         },
         "mode": "lines",
         "name": "Denmark",
         "showlegend": true,
         "type": "scattergl",
         "x": [
          1962,
          1967,
          1972,
          1977,
          1982,
          1987,
          1992,
          1997,
          2002,
          2007
         ],
         "xaxis": "x",
         "y": [
          109.69381638,
          114.122114704,
          117.809676658,
          120.09485485,
          120.760028315,
          120.948903043,
          121.880037709,
          124.557883573,
          126.701178412,
          128.716427056
         ],
         "yaxis": "y"
        },
        {
         "hovertemplate": "<b>%{hovertext}</b><br><br>Country Name=Djibouti<br>Year=%{x}<br>Population density (people per sq. km of land area)=%{y}<extra></extra>",
         "hovertext": [
          "Djibouti",
          "Djibouti",
          "Djibouti",
          "Djibouti",
          "Djibouti",
          "Djibouti",
          "Djibouti",
          "Djibouti",
          "Djibouti",
          "Djibouti"
         ],
         "legendgroup": "Djibouti",
         "line": {
          "color": "#ab63fa",
          "dash": "solid"
         },
         "mode": "lines",
         "name": "Djibouti",
         "showlegend": true,
         "type": "scattergl",
         "x": [
          1962,
          1967,
          1972,
          1977,
          1982,
          1987,
          1992,
          1997,
          2002,
          2007
         ],
         "xaxis": "x",
         "y": [
          4.06384814495,
          5.668809318380001,
          7.73132010354,
          11.9767903365,
          16.598058671300002,
          20.9475841242,
          27.0518981881,
          29.579119931,
          32.1595772217,
          34.482700604
         ],
         "yaxis": "y"
        },
        {
         "hovertemplate": "<b>%{hovertext}</b><br><br>Country Name=Dominican Republic<br>Year=%{x}<br>Population density (people per sq. km of land area)=%{y}<extra></extra>",
         "hovertext": [
          "Dominican Republic",
          "Dominican Republic",
          "Dominican Republic",
          "Dominican Republic",
          "Dominican Republic",
          "Dominican Republic",
          "Dominican Republic",
          "Dominican Republic",
          "Dominican Republic",
          "Dominican Republic"
         ],
         "legendgroup": "Dominican Republic",
         "line": {
          "color": "#FFA15A",
          "dash": "solid"
         },
         "mode": "lines",
         "name": "Dominican Republic",
         "showlegend": true,
         "type": "scattergl",
         "x": [
          1962,
          1967,
          1972,
          1977,
          1982,
          1987,
          1992,
          1997,
          2002,
          2007
         ],
         "xaxis": "x",
         "y": [
          72.88917408399999,
          85.3882632995,
          98.5289795073,
          112.023742496,
          125.829352101,
          140.02531567,
          154.596377562,
          168.981039122,
          182.825212171,
          196.736410681
         ],
         "yaxis": "y"
        },
        {
         "hovertemplate": "<b>%{hovertext}</b><br><br>Country Name=Ecuador<br>Year=%{x}<br>Population density (people per sq. km of land area)=%{y}<extra></extra>",
         "hovertext": [
          "Ecuador",
          "Ecuador",
          "Ecuador",
          "Ecuador",
          "Ecuador",
          "Ecuador",
          "Ecuador",
          "Ecuador",
          "Ecuador",
          "Ecuador"
         ],
         "legendgroup": "Ecuador",
         "line": {
          "color": "#19d3f3",
          "dash": "solid"
         },
         "mode": "lines",
         "name": "Ecuador",
         "showlegend": true,
         "type": "scattergl",
         "x": [
          1962,
          1967,
          1972,
          1977,
          1982,
          1987,
          1992,
          1997,
          2002,
          2007
         ],
         "xaxis": "x",
         "y": [
          17.3851033088,
          20.1056819824,
          23.2217418003,
          26.6371730964,
          30.3169159081,
          34.3307758994,
          38.6709651784,
          43.075390117,
          52.6334997584,
          57.1971291673
         ],
         "yaxis": "y"
        },
        {
         "hovertemplate": "<b>%{hovertext}</b><br><br>Country Name=El Salvador<br>Year=%{x}<br>Population density (people per sq. km of land area)=%{y}<extra></extra>",
         "hovertext": [
          "El Salvador",
          "El Salvador",
          "El Salvador",
          "El Salvador",
          "El Salvador",
          "El Salvador",
          "El Salvador",
          "El Salvador",
          "El Salvador",
          "El Salvador"
         ],
         "legendgroup": "El Salvador",
         "line": {
          "color": "#FF6692",
          "dash": "solid"
         },
         "mode": "lines",
         "name": "El Salvador",
         "showlegend": true,
         "type": "scattergl",
         "x": [
          1962,
          1967,
          1972,
          1977,
          1982,
          1987,
          1992,
          1997,
          2002,
          2007
         ],
         "xaxis": "x",
         "y": [
          140.42498801,
          162.28652278200002,
          185.234148681,
          208.919739382,
          227.908880309,
          243.816843629,
          260.23851351400003,
          274.724903475,
          283.508735521,
          288.919594595
         ],
         "yaxis": "y"
        },
        {
         "hovertemplate": "<b>%{hovertext}</b><br><br>Country Name=Equatorial Guinea<br>Year=%{x}<br>Population density (people per sq. km of land area)=%{y}<extra></extra>",
         "hovertext": [
          "Equatorial Guinea",
          "Equatorial Guinea",
          "Equatorial Guinea",
          "Equatorial Guinea",
          "Equatorial Guinea",
          "Equatorial Guinea",
          "Equatorial Guinea",
          "Equatorial Guinea",
          "Equatorial Guinea",
          "Equatorial Guinea"
         ],
         "legendgroup": "Equatorial Guinea",
         "line": {
          "color": "#B6E880",
          "dash": "solid"
         },
         "mode": "lines",
         "name": "Equatorial Guinea",
         "showlegend": true,
         "type": "scattergl",
         "x": [
          1962,
          1967,
          1972,
          1977,
          1982,
          1987,
          1992,
          1997,
          2002,
          2007
         ],
         "xaxis": "x",
         "y": [
          9.19572192513,
          10.0693404635,
          9.80057040998,
          7.855686274510001,
          8.95903743316,
          12.2385026738,
          14.4057397504,
          17.1064527629,
          20.2375757576,
          23.736114082
         ],
         "yaxis": "y"
        },
        {
         "hovertemplate": "<b>%{hovertext}</b><br><br>Country Name=Eritrea<br>Year=%{x}<br>Population density (people per sq. km of land area)=%{y}<extra></extra>",
         "hovertext": [
          "Eritrea",
          "Eritrea",
          "Eritrea"
         ],
         "legendgroup": "Eritrea",
         "line": {
          "color": "#FF97FF",
          "dash": "solid"
         },
         "mode": "lines",
         "name": "Eritrea",
         "showlegend": true,
         "type": "scattergl",
         "x": [
          1997,
          2002,
          2007
         ],
         "xaxis": "x",
         "y": [
          32.2832871287,
          37.5102178218,
          43.62672277229999
         ],
         "yaxis": "y"
        },
        {
         "hovertemplate": "<b>%{hovertext}</b><br><br>Country Name=Ethiopia<br>Year=%{x}<br>Population density (people per sq. km of land area)=%{y}<extra></extra>",
         "hovertext": [
          "Ethiopia",
          "Ethiopia",
          "Ethiopia",
          "Ethiopia",
          "Ethiopia",
          "Ethiopia",
          "Ethiopia",
          "Ethiopia",
          "Ethiopia",
          "Ethiopia"
         ],
         "legendgroup": "Ethiopia",
         "line": {
          "color": "#FECB52",
          "dash": "solid"
         },
         "mode": "lines",
         "name": "Ethiopia",
         "showlegend": true,
         "type": "scattergl",
         "x": [
          1962,
          1967,
          1972,
          1977,
          1982,
          1987,
          1992,
          1997,
          2002,
          2007
         ],
         "xaxis": "x",
         "y": [
          21.0911271571,
          23.8699100817,
          27.3705785649,
          30.5305658492,
          33.705283378699995,
          39.4824877384,
          46.8690063579,
          60.893264,
          70.39116999999997,
          80.891968
         ],
         "yaxis": "y"
        },
        {
         "hovertemplate": "<b>%{hovertext}</b><br><br>Country Name=Finland<br>Year=%{x}<br>Population density (people per sq. km of land area)=%{y}<extra></extra>",
         "hovertext": [
          "Finland",
          "Finland",
          "Finland",
          "Finland",
          "Finland",
          "Finland",
          "Finland",
          "Finland",
          "Finland",
          "Finland"
         ],
         "legendgroup": "Finland",
         "line": {
          "color": "#636efa",
          "dash": "solid"
         },
         "mode": "lines",
         "name": "Finland",
         "showlegend": true,
         "type": "scattergl",
         "x": [
          1962,
          1967,
          1972,
          1977,
          1982,
          1987,
          1992,
          1997,
          2002,
          2007
         ],
         "xaxis": "x",
         "y": [
          14.7458649332,
          15.1211267606,
          15.2324665944,
          15.55829804,
          15.8473127811,
          16.1926622673,
          16.5533733872,
          16.874601923900002,
          17.0740930431,
          17.391956328699994
         ],
         "yaxis": "y"
        },
        {
         "hovertemplate": "<b>%{hovertext}</b><br><br>Country Name=France<br>Year=%{x}<br>Population density (people per sq. km of land area)=%{y}<extra></extra>",
         "hovertext": [
          "France",
          "France",
          "France",
          "France",
          "France",
          "France",
          "France",
          "France",
          "France",
          "France"
         ],
         "legendgroup": "France",
         "line": {
          "color": "#EF553B",
          "dash": "solid"
         },
         "mode": "lines",
         "name": "France",
         "showlegend": true,
         "type": "scattergl",
         "x": [
          1962,
          1967,
          1972,
          1977,
          1982,
          1987,
          1992,
          1997,
          2002,
          2007
         ],
         "xaxis": "x",
         "y": [
          87.87917620889999,
          92.985057509,
          96.7175244628,
          100.014358087,
          102.012774716,
          104.978378862,
          107.477849246,
          109.511629648,
          112.87251971,
          116.912447471
         ],
         "yaxis": "y"
        },
        {
         "hovertemplate": "<b>%{hovertext}</b><br><br>Country Name=Gabon<br>Year=%{x}<br>Population density (people per sq. km of land area)=%{y}<extra></extra>",
         "hovertext": [
          "Gabon",
          "Gabon",
          "Gabon",
          "Gabon",
          "Gabon",
          "Gabon",
          "Gabon",
          "Gabon",
          "Gabon",
          "Gabon"
         ],
         "legendgroup": "Gabon",
         "line": {
          "color": "#00cc96",
          "dash": "solid"
         },
         "mode": "lines",
         "name": "Gabon",
         "showlegend": true,
         "type": "scattergl",
         "x": [
          1962,
          1967,
          1972,
          1977,
          1982,
          1987,
          1992,
          1997,
          2002,
          2007
         ],
         "xaxis": "x",
         "y": [
          1.97852291691,
          2.14937322932,
          2.37951255482,
          2.63432297124,
          2.9761594287299995,
          3.4031008654500003,
          3.89877750611,
          4.43915861373,
          5.00326774557,
          5.5920440874
         ],
         "yaxis": "y"
        },
        {
         "hovertemplate": "<b>%{hovertext}</b><br><br>Country Name=Germany<br>Year=%{x}<br>Population density (people per sq. km of land area)=%{y}<extra></extra>",
         "hovertext": [
          "Germany",
          "Germany",
          "Germany",
          "Germany"
         ],
         "legendgroup": "Germany",
         "line": {
          "color": "#ab63fa",
          "dash": "solid"
         },
         "mode": "lines",
         "name": "Germany",
         "showlegend": true,
         "type": "scattergl",
         "x": [
          1992,
          1997,
          2002,
          2007
         ],
         "xaxis": "x",
         "y": [
          230.930020336,
          235.022979516,
          236.451570831,
          235.943361918
         ],
         "yaxis": "y"
        },
        {
         "hovertemplate": "<b>%{hovertext}</b><br><br>Country Name=Ghana<br>Year=%{x}<br>Population density (people per sq. km of land area)=%{y}<extra></extra>",
         "hovertext": [
          "Ghana",
          "Ghana",
          "Ghana",
          "Ghana",
          "Ghana",
          "Ghana",
          "Ghana",
          "Ghana",
          "Ghana",
          "Ghana"
         ],
         "legendgroup": "Ghana",
         "line": {
          "color": "#FFA15A",
          "dash": "solid"
         },
         "mode": "lines",
         "name": "Ghana",
         "showlegend": true,
         "type": "scattergl",
         "x": [
          1962,
          1967,
          1972,
          1977,
          1982,
          1987,
          1992,
          1997,
          2002,
          2007
         ],
         "xaxis": "x",
         "y": [
          31.1394172453,
          35.4111013448,
          39.920783159,
          44.782846972,
          50.4883185374,
          59.2440054496,
          67.9947569658,
          77.210965105,
          86.9657247077,
          99.0069482289
         ],
         "yaxis": "y"
        },
        {
         "hovertemplate": "<b>%{hovertext}</b><br><br>Country Name=Greece<br>Year=%{x}<br>Population density (people per sq. km of land area)=%{y}<extra></extra>",
         "hovertext": [
          "Greece",
          "Greece",
          "Greece",
          "Greece",
          "Greece",
          "Greece",
          "Greece",
          "Greece",
          "Greece",
          "Greece"
         ],
         "legendgroup": "Greece",
         "line": {
          "color": "#19d3f3",
          "dash": "solid"
         },
         "mode": "lines",
         "name": "Greece",
         "showlegend": true,
         "type": "scattergl",
         "x": [
          1962,
          1967,
          1972,
          1977,
          1982,
          1987,
          1992,
          1997,
          2002,
          2007
         ],
         "xaxis": "x",
         "y": [
          65.5409852599,
          67.3707370054,
          68.9575484872,
          72.2147323507,
          75.9465709853,
          77.5841349884,
          80.6754150504,
          82.7095345229,
          84.5773622964,
          85.7135221102
         ],
         "yaxis": "y"
        },
        {
         "hovertemplate": "<b>%{hovertext}</b><br><br>Country Name=Guatemala<br>Year=%{x}<br>Population density (people per sq. km of land area)=%{y}<extra></extra>",
         "hovertext": [
          "Guatemala",
          "Guatemala",
          "Guatemala",
          "Guatemala",
          "Guatemala",
          "Guatemala",
          "Guatemala",
          "Guatemala",
          "Guatemala",
          "Guatemala"
         ],
         "legendgroup": "Guatemala",
         "line": {
          "color": "#FF6692",
          "dash": "solid"
         },
         "mode": "lines",
         "name": "Guatemala",
         "showlegend": true,
         "type": "scattergl",
         "x": [
          1962,
          1967,
          1972,
          1977,
          1982,
          1987,
          1992,
          1997,
          2002,
          2007
         ],
         "xaxis": "x",
         "y": [
          40.6548992161,
          46.5948488242,
          53.5434863755,
          61.4008025383,
          70.0649589399,
          79.5425998507,
          89.76402575590002,
          101.453770063,
          114.522284434,
          128.757269504
         ],
         "yaxis": "y"
        },
        {
         "hovertemplate": "<b>%{hovertext}</b><br><br>Country Name=Guinea<br>Year=%{x}<br>Population density (people per sq. km of land area)=%{y}<extra></extra>",
         "hovertext": [
          "Guinea",
          "Guinea",
          "Guinea",
          "Guinea",
          "Guinea",
          "Guinea",
          "Guinea",
          "Guinea",
          "Guinea",
          "Guinea"
         ],
         "legendgroup": "Guinea",
         "line": {
          "color": "#B6E880",
          "dash": "solid"
         },
         "mode": "lines",
         "name": "Guinea",
         "showlegend": true,
         "type": "scattergl",
         "x": [
          1962,
          1967,
          1972,
          1977,
          1982,
          1987,
          1992,
          1997,
          2002,
          2007
         ],
         "xaxis": "x",
         "y": [
          15.0209995116,
          16.3677356341,
          17.4719518151,
          17.8803149927,
          19.0663845027,
          21.8747273319,
          27.4759645125,
          33.9059335829,
          37.0921658799,
          41.3174385479
         ],
         "yaxis": "y"
        },
        {
         "hovertemplate": "<b>%{hovertext}</b><br><br>Country Name=Guinea-Bissau<br>Year=%{x}<br>Population density (people per sq. km of land area)=%{y}<extra></extra>",
         "hovertext": [
          "Guinea-Bissau",
          "Guinea-Bissau",
          "Guinea-Bissau",
          "Guinea-Bissau",
          "Guinea-Bissau",
          "Guinea-Bissau",
          "Guinea-Bissau",
          "Guinea-Bissau",
          "Guinea-Bissau",
          "Guinea-Bissau"
         ],
         "legendgroup": "Guinea-Bissau",
         "line": {
          "color": "#FF97FF",
          "dash": "solid"
         },
         "mode": "lines",
         "name": "Guinea-Bissau",
         "showlegend": true,
         "type": "scattergl",
         "x": [
          1962,
          1967,
          1972,
          1977,
          1982,
          1987,
          1992,
          1997,
          2002,
          2007
         ],
         "xaxis": "x",
         "y": [
          22.4030227596,
          23.9649004267,
          26.248826458000003,
          28.6444167852,
          31.4781650071,
          35.1251066856,
          39.2854907539,
          43.86628734,
          48.8039473684,
          54.3151493599
         ],
         "yaxis": "y"
        },
        {
         "hovertemplate": "<b>%{hovertext}</b><br><br>Country Name=Haiti<br>Year=%{x}<br>Population density (people per sq. km of land area)=%{y}<extra></extra>",
         "hovertext": [
          "Haiti",
          "Haiti",
          "Haiti",
          "Haiti",
          "Haiti",
          "Haiti",
          "Haiti",
          "Haiti",
          "Haiti",
          "Haiti"
         ],
         "legendgroup": "Haiti",
         "line": {
          "color": "#FECB52",
          "dash": "solid"
         },
         "mode": "lines",
         "name": "Haiti",
         "showlegend": true,
         "type": "scattergl",
         "x": [
          1962,
          1967,
          1972,
          1977,
          1982,
          1987,
          1992,
          1997,
          2002,
          2007
         ],
         "xaxis": "x",
         "y": [
          145.95776487700002,
          161.30373730000005,
          176.943323657,
          193.810522496,
          216.083635704,
          242.037953556,
          268.032438316,
          294.337953556,
          320.563824383,
          346.7691582
         ],
         "yaxis": "y"
        },
        {
         "hovertemplate": "<b>%{hovertext}</b><br><br>Country Name=Honduras<br>Year=%{x}<br>Population density (people per sq. km of land area)=%{y}<extra></extra>",
         "hovertext": [
          "Honduras",
          "Honduras",
          "Honduras",
          "Honduras",
          "Honduras",
          "Honduras",
          "Honduras",
          "Honduras",
          "Honduras",
          "Honduras"
         ],
         "legendgroup": "Honduras",
         "line": {
          "color": "#636efa",
          "dash": "solid"
         },
         "mode": "lines",
         "name": "Honduras",
         "showlegend": true,
         "type": "scattergl",
         "x": [
          1962,
          1967,
          1972,
          1977,
          1982,
          1987,
          1992,
          1997,
          2002,
          2007
         ],
         "xaxis": "x",
         "y": [
          19.1188488694,
          22.2208240236,
          25.4290821342,
          29.5557064975,
          34.5723120922,
          40.199079453,
          46.2915095183,
          52.3366341943,
          58.083841272700006,
          63.7566985432
         ],
         "yaxis": "y"
        },
        {
         "hovertemplate": "<b>%{hovertext}</b><br><br>Country Name=Hungary<br>Year=%{x}<br>Population density (people per sq. km of land area)=%{y}<extra></extra>",
         "hovertext": [
          "Hungary",
          "Hungary",
          "Hungary",
          "Hungary",
          "Hungary",
          "Hungary",
          "Hungary",
          "Hungary",
          "Hungary",
          "Hungary"
         ],
         "legendgroup": "Hungary",
         "line": {
          "color": "#EF553B",
          "dash": "solid"
         },
         "mode": "lines",
         "name": "Hungary",
         "showlegend": true,
         "type": "scattergl",
         "x": [
          1962,
          1967,
          1972,
          1977,
          1982,
          1987,
          1992,
          1997,
          2002,
          2007
         ],
         "xaxis": "x",
         "y": [
          111.772206176,
          113.517822222,
          115.577292431,
          118.364061805,
          119.095950606,
          118.076780151,
          115.381562257,
          114.593385301,
          113.352019638,
          112.217163263
         ],
         "yaxis": "y"
        },
        {
         "hovertemplate": "<b>%{hovertext}</b><br><br>Country Name=Iceland<br>Year=%{x}<br>Population density (people per sq. km of land area)=%{y}<extra></extra>",
         "hovertext": [
          "Iceland",
          "Iceland",
          "Iceland",
          "Iceland",
          "Iceland",
          "Iceland",
          "Iceland",
          "Iceland",
          "Iceland",
          "Iceland"
         ],
         "legendgroup": "Iceland",
         "line": {
          "color": "#00cc96",
          "dash": "solid"
         },
         "mode": "lines",
         "name": "Iceland",
         "showlegend": true,
         "type": "scattergl",
         "x": [
          1962,
          1967,
          1972,
          1977,
          1982,
          1987,
          1992,
          1997,
          2002,
          2007
         ],
         "xaxis": "x",
         "y": [
          1.8192319202,
          1.98255361596,
          2.08615461347,
          2.21245885287,
          2.3327680798,
          2.45245885287,
          2.60405985037,
          2.70451870324,
          2.86805985037,
          3.10789027431
         ],
         "yaxis": "y"
        },
        {
         "hovertemplate": "<b>%{hovertext}</b><br><br>Country Name=India<br>Year=%{x}<br>Population density (people per sq. km of land area)=%{y}<extra></extra>",
         "hovertext": [
          "India",
          "India",
          "India",
          "India",
          "India",
          "India",
          "India",
          "India",
          "India",
          "India"
         ],
         "legendgroup": "India",
         "line": {
          "color": "#ab63fa",
          "dash": "solid"
         },
         "mode": "lines",
         "name": "India",
         "showlegend": true,
         "type": "scattergl",
         "x": [
          1962,
          1967,
          1972,
          1977,
          1982,
          1987,
          1992,
          1997,
          2002,
          2007
         ],
         "xaxis": "x",
         "y": [
          157.424902209,
          174.614494533,
          195.009613244,
          218.925651909,
          245.62959683,
          274.867143035,
          304.878382478,
          335.604939476,
          366.673289632,
          396.774384079
         ],
         "yaxis": "y"
        },
        {
         "hovertemplate": "<b>%{hovertext}</b><br><br>Country Name=Indonesia<br>Year=%{x}<br>Population density (people per sq. km of land area)=%{y}<extra></extra>",
         "hovertext": [
          "Indonesia",
          "Indonesia",
          "Indonesia",
          "Indonesia",
          "Indonesia",
          "Indonesia",
          "Indonesia",
          "Indonesia",
          "Indonesia",
          "Indonesia"
         ],
         "legendgroup": "Indonesia",
         "line": {
          "color": "#FFA15A",
          "dash": "solid"
         },
         "mode": "lines",
         "name": "Indonesia",
         "showlegend": true,
         "type": "scattergl",
         "x": [
          1962,
          1967,
          1972,
          1977,
          1982,
          1987,
          1992,
          1997,
          2002,
          2007
         ],
         "xaxis": "x",
         "y": [
          51.0927019105,
          58.4616675039,
          66.8257428639,
          75.80282406970001,
          85.2885982877,
          94.7956281016,
          103.646062255,
          111.97682121,
          119.989339082,
          128.229563307
         ],
         "yaxis": "y"
        },
        {
         "hovertemplate": "<b>%{hovertext}</b><br><br>Country Name=Iraq<br>Year=%{x}<br>Population density (people per sq. km of land area)=%{y}<extra></extra>",
         "hovertext": [
          "Iraq",
          "Iraq",
          "Iraq",
          "Iraq",
          "Iraq",
          "Iraq",
          "Iraq",
          "Iraq",
          "Iraq",
          "Iraq"
         ],
         "legendgroup": "Iraq",
         "line": {
          "color": "#19d3f3",
          "dash": "solid"
         },
         "mode": "lines",
         "name": "Iraq",
         "showlegend": true,
         "type": "scattergl",
         "x": [
          1962,
          1967,
          1972,
          1977,
          1982,
          1987,
          1992,
          1997,
          2002,
          2007
         ],
         "xaxis": "x",
         "y": [
          17.5462880399,
          20.4572764479,
          24.2354208108,
          28.4907446784,
          33.0101767382,
          37.2538560029,
          42.226309532,
          49.201719368,
          57.0313304525,
          64.9873973981
         ],
         "yaxis": "y"
        },
        {
         "hovertemplate": "<b>%{hovertext}</b><br><br>Country Name=Ireland<br>Year=%{x}<br>Population density (people per sq. km of land area)=%{y}<extra></extra>",
         "hovertext": [
          "Ireland",
          "Ireland",
          "Ireland",
          "Ireland",
          "Ireland",
          "Ireland",
          "Ireland",
          "Ireland",
          "Ireland",
          "Ireland"
         ],
         "legendgroup": "Ireland",
         "line": {
          "color": "#FF6692",
          "dash": "solid"
         },
         "mode": "lines",
         "name": "Ireland",
         "showlegend": true,
         "type": "scattergl",
         "x": [
          1962,
          1967,
          1972,
          1977,
          1982,
          1987,
          1992,
          1997,
          2002,
          2007
         ],
         "xaxis": "x",
         "y": [
          41.1678037451,
          42.1316591668,
          44.082595442,
          47.6440702569,
          50.5995064596,
          51.3870953694,
          51.6537959065,
          53.3338800987,
          57.0757294237,
          63.85457976479999
         ],
         "yaxis": "y"
        },
        {
         "hovertemplate": "<b>%{hovertext}</b><br><br>Country Name=Israel<br>Year=%{x}<br>Population density (people per sq. km of land area)=%{y}<extra></extra>",
         "hovertext": [
          "Israel",
          "Israel",
          "Israel",
          "Israel",
          "Israel",
          "Israel",
          "Israel",
          "Israel",
          "Israel",
          "Israel"
         ],
         "legendgroup": "Israel",
         "line": {
          "color": "#B6E880",
          "dash": "solid"
         },
         "mode": "lines",
         "name": "Israel",
         "showlegend": true,
         "type": "scattergl",
         "x": [
          1962,
          1967,
          1972,
          1977,
          1982,
          1987,
          1992,
          1997,
          2002,
          2007
         ],
         "xaxis": "x",
         "y": [
          105.961182994,
          126.848428835,
          145.471349353,
          166.959334566,
          186.275415896,
          201.894639556,
          236.737523105,
          269.685767098,
          303.60443622900004,
          331.797597043
         ],
         "yaxis": "y"
        },
        {
         "hovertemplate": "<b>%{hovertext}</b><br><br>Country Name=Italy<br>Year=%{x}<br>Population density (people per sq. km of land area)=%{y}<extra></extra>",
         "hovertext": [
          "Italy",
          "Italy",
          "Italy",
          "Italy",
          "Italy",
          "Italy",
          "Italy",
          "Italy",
          "Italy",
          "Italy"
         ],
         "legendgroup": "Italy",
         "line": {
          "color": "#FF97FF",
          "dash": "solid"
         },
         "mode": "lines",
         "name": "Italy",
         "showlegend": true,
         "type": "scattergl",
         "x": [
          1962,
          1967,
          1972,
          1977,
          1982,
          1987,
          1992,
          1997,
          2002,
          2007
         ],
         "xaxis": "x",
         "y": [
          172.99462786,
          179.86637652599998,
          184.901380436,
          190.253343987,
          192.25306178,
          192.451569141,
          193.115116793,
          193.43229404,
          194.005667947,
          198.675154688
         ],
         "yaxis": "y"
        },
        {
         "hovertemplate": "<b>%{hovertext}</b><br><br>Country Name=Jamaica<br>Year=%{x}<br>Population density (people per sq. km of land area)=%{y}<extra></extra>",
         "hovertext": [
          "Jamaica",
          "Jamaica",
          "Jamaica",
          "Jamaica",
          "Jamaica",
          "Jamaica",
          "Jamaica",
          "Jamaica",
          "Jamaica",
          "Jamaica"
         ],
         "legendgroup": "Jamaica",
         "line": {
          "color": "#FECB52",
          "dash": "solid"
         },
         "mode": "lines",
         "name": "Jamaica",
         "showlegend": true,
         "type": "scattergl",
         "x": [
          1962,
          1967,
          1972,
          1977,
          1982,
          1987,
          1992,
          1997,
          2002,
          2007
         ],
         "xaxis": "x",
         "y": [
          155.237488458,
          166.91043398,
          178.16768236400003,
          190.789196676,
          204.284395199,
          216.857987073,
          223.710341644,
          234.112927054,
          243.285226223,
          249.732779317
         ],
         "yaxis": "y"
        },
        {
         "hovertemplate": "<b>%{hovertext}</b><br><br>Country Name=Japan<br>Year=%{x}<br>Population density (people per sq. km of land area)=%{y}<extra></extra>",
         "hovertext": [
          "Japan",
          "Japan",
          "Japan",
          "Japan",
          "Japan",
          "Japan",
          "Japan",
          "Japan",
          "Japan",
          "Japan"
         ],
         "legendgroup": "Japan",
         "line": {
          "color": "#636efa",
          "dash": "solid"
         },
         "mode": "lines",
         "name": "Japan",
         "showlegend": true,
         "type": "scattergl",
         "x": [
          1962,
          1967,
          1972,
          1977,
          1982,
          1987,
          1992,
          1997,
          2002,
          2007
         ],
         "xaxis": "x",
         "y": [
          261.33624216,
          274.679574584,
          292.384069831,
          310.761462882,
          323.454396505,
          334.862863412,
          340.726823917,
          345.83539094699995,
          349.643347051,
          351.16872428
         ],
         "yaxis": "y"
        },
        {
         "hovertemplate": "<b>%{hovertext}</b><br><br>Country Name=Jordan<br>Year=%{x}<br>Population density (people per sq. km of land area)=%{y}<extra></extra>",
         "hovertext": [
          "Jordan",
          "Jordan",
          "Jordan",
          "Jordan",
          "Jordan",
          "Jordan",
          "Jordan",
          "Jordan",
          "Jordan",
          "Jordan"
         ],
         "legendgroup": "Jordan",
         "line": {
          "color": "#EF553B",
          "dash": "solid"
         },
         "mode": "lines",
         "name": "Jordan",
         "showlegend": true,
         "type": "scattergl",
         "x": [
          1962,
          1967,
          1972,
          1977,
          1982,
          1987,
          1992,
          1997,
          2002,
          2007
         ],
         "xaxis": "x",
         "y": [
          10.9109587489,
          14.9638939257,
          20.5334315503,
          23.704850408,
          27.9121486854,
          33.7981527652,
          42.4291024479,
          51.5100634633,
          55.9716115141,
          65.2699909338
         ],
         "yaxis": "y"
        },
        {
         "hovertemplate": "<b>%{hovertext}</b><br><br>Country Name=Kenya<br>Year=%{x}<br>Population density (people per sq. km of land area)=%{y}<extra></extra>",
         "hovertext": [
          "Kenya",
          "Kenya",
          "Kenya",
          "Kenya",
          "Kenya",
          "Kenya",
          "Kenya",
          "Kenya",
          "Kenya",
          "Kenya"
         ],
         "legendgroup": "Kenya",
         "line": {
          "color": "#00cc96",
          "dash": "solid"
         },
         "mode": "lines",
         "name": "Kenya",
         "showlegend": true,
         "type": "scattergl",
         "x": [
          1962,
          1967,
          1972,
          1977,
          1982,
          1987,
          1992,
          1997,
          2002,
          2007
         ],
         "xaxis": "x",
         "y": [
          15.161424254100002,
          17.8418122079,
          21.2305671715,
          25.5248040904,
          30.8531784798,
          37.144365182600005,
          43.9782021998,
          50.6768896932,
          57.4410162702,
          65.45057455109999
         ],
         "yaxis": "y"
        },
        {
         "hovertemplate": "<b>%{hovertext}</b><br><br>Country Name=Kuwait<br>Year=%{x}<br>Population density (people per sq. km of land area)=%{y}<extra></extra>",
         "hovertext": [
          "Kuwait",
          "Kuwait",
          "Kuwait",
          "Kuwait",
          "Kuwait",
          "Kuwait",
          "Kuwait",
          "Kuwait",
          "Kuwait"
         ],
         "legendgroup": "Kuwait",
         "line": {
          "color": "#ab63fa",
          "dash": "solid"
         },
         "mode": "lines",
         "name": "Kuwait",
         "showlegend": true,
         "type": "scattergl",
         "x": [
          1962,
          1967,
          1972,
          1977,
          1982,
          1987,
          1997,
          2002,
          2007
         ],
         "xaxis": "x",
         "y": [
          18.8081369248,
          32.8749158249,
          48.6390011223,
          66.2704264871,
          85.2331649832,
          107.629068462,
          94.6271604938,
          114.602413019,
          142.457407407
         ],
         "yaxis": "y"
        },
        {
         "hovertemplate": "<b>%{hovertext}</b><br><br>Country Name=Lebanon<br>Year=%{x}<br>Population density (people per sq. km of land area)=%{y}<extra></extra>",
         "hovertext": [
          "Lebanon",
          "Lebanon",
          "Lebanon",
          "Lebanon",
          "Lebanon",
          "Lebanon",
          "Lebanon",
          "Lebanon",
          "Lebanon",
          "Lebanon"
         ],
         "legendgroup": "Lebanon",
         "line": {
          "color": "#FFA15A",
          "dash": "solid"
         },
         "mode": "lines",
         "name": "Lebanon",
         "showlegend": true,
         "type": "scattergl",
         "x": [
          1962,
          1967,
          1972,
          1977,
          1982,
          1987,
          1992,
          1997,
          2002,
          2007
         ],
         "xaxis": "x",
         "y": [
          188.199022483,
          212.595307918,
          236.240762463,
          254.76285435,
          257.309970674,
          261.210361681,
          275.842424242,
          302.315151515,
          344.363831867,
          399.357380254
         ],
         "yaxis": "y"
        },
        {
         "hovertemplate": "<b>%{hovertext}</b><br><br>Country Name=Lesotho<br>Year=%{x}<br>Population density (people per sq. km of land area)=%{y}<extra></extra>",
         "hovertext": [
          "Lesotho"
         ],
         "legendgroup": "Lesotho",
         "line": {
          "color": "#19d3f3",
          "dash": "solid"
         },
         "mode": "lines",
         "name": "Lesotho",
         "showlegend": true,
         "type": "scattergl",
         "x": [
          2007
         ],
         "xaxis": "x",
         "y": [
          64.4155467721
         ],
         "yaxis": "y"
        },
        {
         "hovertemplate": "<b>%{hovertext}</b><br><br>Country Name=Liberia<br>Year=%{x}<br>Population density (people per sq. km of land area)=%{y}<extra></extra>",
         "hovertext": [
          "Liberia",
          "Liberia",
          "Liberia",
          "Liberia",
          "Liberia",
          "Liberia",
          "Liberia",
          "Liberia",
          "Liberia",
          "Liberia"
         ],
         "legendgroup": "Liberia",
         "line": {
          "color": "#FF6692",
          "dash": "solid"
         },
         "mode": "lines",
         "name": "Liberia",
         "showlegend": true,
         "type": "scattergl",
         "x": [
          1962,
          1967,
          1972,
          1977,
          1982,
          1987,
          1992,
          1997,
          2002,
          2007
         ],
         "xaxis": "x",
         "y": [
          12.1497819767,
          13.653644103,
          15.5456395349,
          17.9019206811,
          21.1412479236,
          22.8011212625,
          21.0617940199,
          24.5565822259,
          31.8799107143,
          36.5691133721
         ],
         "yaxis": "y"
        },
        {
         "hovertemplate": "<b>%{hovertext}</b><br><br>Country Name=Libya<br>Year=%{x}<br>Population density (people per sq. km of land area)=%{y}<extra></extra>",
         "hovertext": [
          "Libya",
          "Libya",
          "Libya",
          "Libya",
          "Libya",
          "Libya",
          "Libya",
          "Libya",
          "Libya",
          "Libya"
         ],
         "legendgroup": "Libya",
         "line": {
          "color": "#B6E880",
          "dash": "solid"
         },
         "mode": "lines",
         "name": "Libya",
         "showlegend": true,
         "type": "scattergl",
         "x": [
          1962,
          1967,
          1972,
          1977,
          1982,
          1987,
          1992,
          1997,
          2002,
          2007
         ],
         "xaxis": "x",
         "y": [
          0.873066824284,
          1.0580384645999998,
          1.3109494527,
          1.61427304864,
          1.96078406856,
          2.31701922093,
          2.61250724621,
          2.87697921048,
          3.13624072201,
          3.42009502484
         ],
         "yaxis": "y"
        },
        {
         "hovertemplate": "<b>%{hovertext}</b><br><br>Country Name=Madagascar<br>Year=%{x}<br>Population density (people per sq. km of land area)=%{y}<extra></extra>",
         "hovertext": [
          "Madagascar",
          "Madagascar",
          "Madagascar",
          "Madagascar",
          "Madagascar",
          "Madagascar",
          "Madagascar",
          "Madagascar",
          "Madagascar",
          "Madagascar"
         ],
         "legendgroup": "Madagascar",
         "line": {
          "color": "#FF97FF",
          "dash": "solid"
         },
         "mode": "lines",
         "name": "Madagascar",
         "showlegend": true,
         "type": "scattergl",
         "x": [
          1962,
          1967,
          1972,
          1977,
          1982,
          1987,
          1992,
          1997,
          2002,
          2007
         ],
         "xaxis": "x",
         "y": [
          9.20430924786,
          10.4417065034,
          11.9551243251,
          13.810896928800002,
          15.855647075,
          18.1646851463,
          21.0886594215,
          24.640160608,
          28.7788097121,
          33.3098858204
         ],
         "yaxis": "y"
        },
        {
         "hovertemplate": "<b>%{hovertext}</b><br><br>Country Name=Malawi<br>Year=%{x}<br>Population density (people per sq. km of land area)=%{y}<extra></extra>",
         "hovertext": [
          "Malawi",
          "Malawi",
          "Malawi",
          "Malawi",
          "Malawi",
          "Malawi",
          "Malawi",
          "Malawi",
          "Malawi"
         ],
         "legendgroup": "Malawi",
         "line": {
          "color": "#FECB52",
          "dash": "solid"
         },
         "mode": "lines",
         "name": "Malawi",
         "showlegend": true,
         "type": "scattergl",
         "x": [
          1967,
          1972,
          1977,
          1982,
          1987,
          1992,
          1997,
          2002,
          2007
         ],
         "xaxis": "x",
         "y": [
          45.2059079338,
          51.5440072126,
          59.6922783199,
          68.769314807,
          86.0042851082,
          102.703839627,
          108.829242681,
          125.039573611,
          143.17328171399998
         ],
         "yaxis": "y"
        },
        {
         "hovertemplate": "<b>%{hovertext}</b><br><br>Country Name=Malaysia<br>Year=%{x}<br>Population density (people per sq. km of land area)=%{y}<extra></extra>",
         "hovertext": [
          "Malaysia",
          "Malaysia",
          "Malaysia",
          "Malaysia",
          "Malaysia",
          "Malaysia",
          "Malaysia",
          "Malaysia"
         ],
         "legendgroup": "Malaysia",
         "line": {
          "color": "#636efa",
          "dash": "solid"
         },
         "mode": "lines",
         "name": "Malaysia",
         "showlegend": true,
         "type": "scattergl",
         "x": [
          1972,
          1977,
          1982,
          1987,
          1992,
          1997,
          2002,
          2007
         ],
         "xaxis": "x",
         "y": [
          34.8807791813,
          39.2382133617,
          44.26597169380001,
          50.8400547862,
          58.4528991021,
          66.376883275,
          74.2717303302,
          81.3593273474
         ],
         "yaxis": "y"
        },
        {
         "hovertemplate": "<b>%{hovertext}</b><br><br>Country Name=Mali<br>Year=%{x}<br>Population density (people per sq. km of land area)=%{y}<extra></extra>",
         "hovertext": [
          "Mali",
          "Mali",
          "Mali",
          "Mali",
          "Mali",
          "Mali",
          "Mali",
          "Mali",
          "Mali",
          "Mali"
         ],
         "legendgroup": "Mali",
         "line": {
          "color": "#EF553B",
          "dash": "solid"
         },
         "mode": "lines",
         "name": "Mali",
         "showlegend": true,
         "type": "scattergl",
         "x": [
          1962,
          1967,
          1972,
          1977,
          1982,
          1987,
          1992,
          1997,
          2002,
          2007
         ],
         "xaxis": "x",
         "y": [
          4.4102713511800005,
          4.67648317065,
          5.03811619502,
          5.50122931675,
          6.05370393135,
          6.61632860456,
          7.2866856801,
          8.333128447210001,
          9.60753407256,
          11.2762979536
         ],
         "yaxis": "y"
        },
        {
         "hovertemplate": "<b>%{hovertext}</b><br><br>Country Name=Mauritania<br>Year=%{x}<br>Population density (people per sq. km of land area)=%{y}<extra></extra>",
         "hovertext": [
          "Mauritania",
          "Mauritania",
          "Mauritania",
          "Mauritania",
          "Mauritania",
          "Mauritania",
          "Mauritania",
          "Mauritania",
          "Mauritania",
          "Mauritania"
         ],
         "legendgroup": "Mauritania",
         "line": {
          "color": "#00cc96",
          "dash": "solid"
         },
         "mode": "lines",
         "name": "Mauritania",
         "showlegend": true,
         "type": "scattergl",
         "x": [
          1962,
          1967,
          1972,
          1977,
          1982,
          1987,
          1992,
          1997,
          2002,
          2007
         ],
         "xaxis": "x",
         "y": [
          0.8820917822840001,
          1.0209420781999998,
          1.18163578151,
          1.36569418842,
          1.5759289803,
          1.80979528476,
          2.07650140681,
          2.40243329776,
          2.79875036383,
          3.2291500921700003
         ],
         "yaxis": "y"
        },
        {
         "hovertemplate": "<b>%{hovertext}</b><br><br>Country Name=Mauritius<br>Year=%{x}<br>Population density (people per sq. km of land area)=%{y}<extra></extra>",
         "hovertext": [
          "Mauritius",
          "Mauritius",
          "Mauritius",
          "Mauritius",
          "Mauritius",
          "Mauritius",
          "Mauritius",
          "Mauritius",
          "Mauritius",
          "Mauritius"
         ],
         "legendgroup": "Mauritius",
         "line": {
          "color": "#ab63fa",
          "dash": "solid"
         },
         "mode": "lines",
         "name": "Mauritius",
         "showlegend": true,
         "type": "scattergl",
         "x": [
          1962,
          1967,
          1972,
          1977,
          1982,
          1987,
          1992,
          1997,
          2002,
          2007
         ],
         "xaxis": "x",
         "y": [
          344.9995073890001,
          386.166009852,
          419.730541872,
          453.881280788,
          488.926600985,
          510.385221675,
          534.207389163,
          565.6571428569999,
          593.409359606,
          610.655172414
         ],
         "yaxis": "y"
        },
        {
         "hovertemplate": "<b>%{hovertext}</b><br><br>Country Name=Mexico<br>Year=%{x}<br>Population density (people per sq. km of land area)=%{y}<extra></extra>",
         "hovertext": [
          "Mexico",
          "Mexico",
          "Mexico",
          "Mexico",
          "Mexico",
          "Mexico",
          "Mexico",
          "Mexico",
          "Mexico",
          "Mexico"
         ],
         "legendgroup": "Mexico",
         "line": {
          "color": "#FFA15A",
          "dash": "solid"
         },
         "mode": "lines",
         "name": "Mexico",
         "showlegend": true,
         "type": "scattergl",
         "x": [
          1962,
          1967,
          1972,
          1977,
          1982,
          1987,
          1992,
          1997,
          2002,
          2007
         ],
         "xaxis": "x",
         "y": [
          20.9108207516,
          24.3985457445,
          28.5398930014,
          33.0963728491,
          37.3198873428,
          41.4470881453,
          45.83967848970001,
          50.3746624142,
          54.3112204532,
          58.2007633941
         ],
         "yaxis": "y"
        },
        {
         "hovertemplate": "<b>%{hovertext}</b><br><br>Country Name=Mongolia<br>Year=%{x}<br>Population density (people per sq. km of land area)=%{y}<extra></extra>",
         "hovertext": [
          "Mongolia",
          "Mongolia",
          "Mongolia",
          "Mongolia",
          "Mongolia",
          "Mongolia",
          "Mongolia",
          "Mongolia",
          "Mongolia",
          "Mongolia"
         ],
         "legendgroup": "Mongolia",
         "line": {
          "color": "#19d3f3",
          "dash": "solid"
         },
         "mode": "lines",
         "name": "Mongolia",
         "showlegend": true,
         "type": "scattergl",
         "x": [
          1962,
          1967,
          1972,
          1977,
          1982,
          1987,
          1992,
          1997,
          2002,
          2007
         ],
         "xaxis": "x",
         "y": [
          0.650974535905,
          0.755159762095,
          0.8732646309119999,
          1.00556914442,
          1.14429246376,
          1.30882939829,
          1.4441064394,
          1.5034462782299998,
          1.57284108757,
          1.66892556451
         ],
         "yaxis": "y"
        },
        {
         "hovertemplate": "<b>%{hovertext}</b><br><br>Country Name=Montenegro<br>Year=%{x}<br>Population density (people per sq. km of land area)=%{y}<extra></extra>",
         "hovertext": [
          "Montenegro"
         ],
         "legendgroup": "Montenegro",
         "line": {
          "color": "#FF6692",
          "dash": "solid"
         },
         "mode": "lines",
         "name": "Montenegro",
         "showlegend": true,
         "type": "scattergl",
         "x": [
          2007
         ],
         "xaxis": "x",
         "y": [
          45.7899628253
         ],
         "yaxis": "y"
        },
        {
         "hovertemplate": "<b>%{hovertext}</b><br><br>Country Name=Morocco<br>Year=%{x}<br>Population density (people per sq. km of land area)=%{y}<extra></extra>",
         "hovertext": [
          "Morocco",
          "Morocco",
          "Morocco",
          "Morocco",
          "Morocco",
          "Morocco",
          "Morocco",
          "Morocco",
          "Morocco",
          "Morocco"
         ],
         "legendgroup": "Morocco",
         "line": {
          "color": "#B6E880",
          "dash": "solid"
         },
         "mode": "lines",
         "name": "Morocco",
         "showlegend": true,
         "type": "scattergl",
         "x": [
          1962,
          1967,
          1972,
          1977,
          1982,
          1987,
          1992,
          1997,
          2002,
          2007
         ],
         "xaxis": "x",
         "y": [
          29.3517116996,
          33.559405386,
          37.5062172335,
          41.8749316603,
          47.2118462917,
          52.7914519382,
          57.9575285682,
          62.5902173426,
          66.1787833296,
          69.4853730674
         ],
         "yaxis": "y"
        },
        {
         "hovertemplate": "<b>%{hovertext}</b><br><br>Country Name=Mozambique<br>Year=%{x}<br>Population density (people per sq. km of land area)=%{y}<extra></extra>",
         "hovertext": [
          "Mozambique",
          "Mozambique",
          "Mozambique",
          "Mozambique",
          "Mozambique",
          "Mozambique",
          "Mozambique",
          "Mozambique",
          "Mozambique",
          "Mozambique"
         ],
         "legendgroup": "Mozambique",
         "line": {
          "color": "#FF97FF",
          "dash": "solid"
         },
         "mode": "lines",
         "name": "Mozambique",
         "showlegend": true,
         "type": "scattergl",
         "x": [
          1962,
          1967,
          1972,
          1977,
          1982,
          1987,
          1992,
          1997,
          2002,
          2007
         ],
         "xaxis": "x",
         "y": [
          9.9181006638,
          11.0233335029,
          12.3092563392,
          13.990575803,
          15.9107098349,
          16.712678348900006,
          18.0624977746,
          21.4564154734,
          24.6047903049,
          28.43362878
         ],
         "yaxis": "y"
        },
        {
         "hovertemplate": "<b>%{hovertext}</b><br><br>Country Name=Myanmar<br>Year=%{x}<br>Population density (people per sq. km of land area)=%{y}<extra></extra>",
         "hovertext": [
          "Myanmar",
          "Myanmar",
          "Myanmar",
          "Myanmar",
          "Myanmar",
          "Myanmar",
          "Myanmar",
          "Myanmar",
          "Myanmar",
          "Myanmar"
         ],
         "legendgroup": "Myanmar",
         "line": {
          "color": "#FECB52",
          "dash": "solid"
         },
         "mode": "lines",
         "name": "Myanmar",
         "showlegend": true,
         "type": "scattergl",
         "x": [
          1962,
          1967,
          1972,
          1977,
          1982,
          1987,
          1992,
          1997,
          2002,
          2007
         ],
         "xaxis": "x",
         "y": [
          34.3463139211,
          38.5873473697,
          43.6351087921,
          49.1640848303,
          55.2359580133,
          61.2133442482,
          65.9887076537,
          70.22675123180001,
          74.5018698167,
          77.5780603501
         ],
         "yaxis": "y"
        },
        {
         "hovertemplate": "<b>%{hovertext}</b><br><br>Country Name=Namibia<br>Year=%{x}<br>Population density (people per sq. km of land area)=%{y}<extra></extra>",
         "hovertext": [
          "Namibia",
          "Namibia",
          "Namibia",
          "Namibia"
         ],
         "legendgroup": "Namibia",
         "line": {
          "color": "#636efa",
          "dash": "solid"
         },
         "mode": "lines",
         "name": "Namibia",
         "showlegend": true,
         "type": "scattergl",
         "x": [
          1992,
          1997,
          2002,
          2007
         ],
         "xaxis": "x",
         "y": [
          1.83858543162,
          2.13545287809,
          2.3779579492,
          2.5303040241
         ],
         "yaxis": "y"
        },
        {
         "hovertemplate": "<b>%{hovertext}</b><br><br>Country Name=Nepal<br>Year=%{x}<br>Population density (people per sq. km of land area)=%{y}<extra></extra>",
         "hovertext": [
          "Nepal",
          "Nepal",
          "Nepal",
          "Nepal",
          "Nepal",
          "Nepal",
          "Nepal",
          "Nepal",
          "Nepal",
          "Nepal"
         ],
         "legendgroup": "Nepal",
         "line": {
          "color": "#EF553B",
          "dash": "solid"
         },
         "mode": "lines",
         "name": "Nepal",
         "showlegend": true,
         "type": "scattergl",
         "x": [
          1962,
          1967,
          1972,
          1977,
          1982,
          1987,
          1992,
          1997,
          2002,
          2007
         ],
         "xaxis": "x",
         "y": [
          72.5668601399,
          79.0709020979,
          87.32716783219999,
          97.2991258741,
          109.063020979,
          122.182783217,
          138.220769231,
          156.610118881,
          171.028733868,
          181.818060691
         ],
         "yaxis": "y"
        },
        {
         "hovertemplate": "<b>%{hovertext}</b><br><br>Country Name=Netherlands<br>Year=%{x}<br>Population density (people per sq. km of land area)=%{y}<extra></extra>",
         "hovertext": [
          "Netherlands",
          "Netherlands",
          "Netherlands",
          "Netherlands",
          "Netherlands",
          "Netherlands",
          "Netherlands",
          "Netherlands",
          "Netherlands",
          "Netherlands"
         ],
         "legendgroup": "Netherlands",
         "line": {
          "color": "#00cc96",
          "dash": "solid"
         },
         "mode": "lines",
         "name": "Netherlands",
         "showlegend": true,
         "type": "scattergl",
         "x": [
          1962,
          1967,
          1972,
          1977,
          1982,
          1987,
          1992,
          1997,
          2002,
          2007
         ],
         "xaxis": "x",
         "y": [
          349.694579384,
          373.1694609,
          394.804295024,
          410.432020142,
          423.954087678,
          434.390906398,
          449.767950237,
          462.400770142,
          478.34505331800005,
          485.239810427
         ],
         "yaxis": "y"
        },
        {
         "hovertemplate": "<b>%{hovertext}</b><br><br>Country Name=New Zealand<br>Year=%{x}<br>Population density (people per sq. km of land area)=%{y}<extra></extra>",
         "hovertext": [
          "New Zealand",
          "New Zealand",
          "New Zealand",
          "New Zealand",
          "New Zealand",
          "New Zealand",
          "New Zealand",
          "New Zealand",
          "New Zealand",
          "New Zealand"
         ],
         "legendgroup": "New Zealand",
         "line": {
          "color": "#ab63fa",
          "dash": "solid"
         },
         "mode": "lines",
         "name": "New Zealand",
         "showlegend": true,
         "type": "scattergl",
         "x": [
          1962,
          1967,
          1972,
          1977,
          1982,
          1987,
          1992,
          1997,
          2002,
          2007
         ],
         "xaxis": "x",
         "y": [
          9.426151684330002,
          10.3456002431,
          11.0284455585,
          11.8499107516,
          11.9862519464,
          12.4355322624,
          13.4127074551,
          14.3606395503,
          14.9956325244,
          16.0411682048
         ],
         "yaxis": "y"
        },
        {
         "hovertemplate": "<b>%{hovertext}</b><br><br>Country Name=Nicaragua<br>Year=%{x}<br>Population density (people per sq. km of land area)=%{y}<extra></extra>",
         "hovertext": [
          "Nicaragua",
          "Nicaragua",
          "Nicaragua",
          "Nicaragua",
          "Nicaragua",
          "Nicaragua",
          "Nicaragua",
          "Nicaragua",
          "Nicaragua",
          "Nicaragua"
         ],
         "legendgroup": "Nicaragua",
         "line": {
          "color": "#FFA15A",
          "dash": "solid"
         },
         "mode": "lines",
         "name": "Nicaragua",
         "showlegend": true,
         "type": "scattergl",
         "x": [
          1962,
          1967,
          1972,
          1977,
          1982,
          1987,
          1992,
          1997,
          2002,
          2007
         ],
         "xaxis": "x",
         "y": [
          15.6769154063,
          18.197440585,
          21.1881253116,
          24.711691873000003,
          28.548504238000003,
          32.2664118331,
          35.9919644341,
          39.7759764002,
          42.9760345687,
          45.8876433439
         ],
         "yaxis": "y"
        },
        {
         "hovertemplate": "<b>%{hovertext}</b><br><br>Country Name=Niger<br>Year=%{x}<br>Population density (people per sq. km of land area)=%{y}<extra></extra>",
         "hovertext": [
          "Niger",
          "Niger",
          "Niger",
          "Niger",
          "Niger",
          "Niger",
          "Niger",
          "Niger",
          "Niger",
          "Niger"
         ],
         "legendgroup": "Niger",
         "line": {
          "color": "#19d3f3",
          "dash": "solid"
         },
         "mode": "lines",
         "name": "Niger",
         "showlegend": true,
         "type": "scattergl",
         "x": [
          1962,
          1967,
          1972,
          1977,
          1982,
          1987,
          1992,
          1997,
          2002,
          2007
         ],
         "xaxis": "x",
         "y": [
          2.83935659588,
          3.27168074524,
          3.75231230757,
          4.32320675772,
          4.97303465698,
          5.71049340807,
          6.66482197837,
          7.94107523486,
          9.53342622563,
          11.468880555799998
         ],
         "yaxis": "y"
        },
        {
         "hovertemplate": "<b>%{hovertext}</b><br><br>Country Name=Nigeria<br>Year=%{x}<br>Population density (people per sq. km of land area)=%{y}<extra></extra>",
         "hovertext": [
          "Nigeria",
          "Nigeria",
          "Nigeria",
          "Nigeria",
          "Nigeria",
          "Nigeria",
          "Nigeria",
          "Nigeria",
          "Nigeria",
          "Nigeria"
         ],
         "legendgroup": "Nigeria",
         "line": {
          "color": "#FF6692",
          "dash": "solid"
         },
         "mode": "lines",
         "name": "Nigeria",
         "showlegend": true,
         "type": "scattergl",
         "x": [
          1962,
          1967,
          1972,
          1977,
          1982,
          1987,
          1992,
          1997,
          2002,
          2007
         ],
         "xaxis": "x",
         "y": [
          51.734092032,
          57.60904838760001,
          64.5929477256,
          74.0312427946,
          85.3451497085,
          97.0749113388,
          110.447706885,
          125.141424289,
          141.908805736,
          161.569333641
         ],
         "yaxis": "y"
        },
        {
         "hovertemplate": "<b>%{hovertext}</b><br><br>Country Name=Norway<br>Year=%{x}<br>Population density (people per sq. km of land area)=%{y}<extra></extra>",
         "hovertext": [
          "Norway",
          "Norway",
          "Norway",
          "Norway",
          "Norway",
          "Norway",
          "Norway",
          "Norway",
          "Norway",
          "Norway"
         ],
         "legendgroup": "Norway",
         "line": {
          "color": "#B6E880",
          "dash": "solid"
         },
         "mode": "lines",
         "name": "Norway",
         "showlegend": true,
         "type": "scattergl",
         "x": [
          1962,
          1967,
          1972,
          1977,
          1982,
          1987,
          1992,
          1997,
          2002,
          2007
         ],
         "xaxis": "x",
         "y": [
          9.96295089597,
          10.3616449233,
          10.7681255048,
          11.0698435297,
          11.2658270476,
          11.4632780736,
          11.7356870046,
          12.0608276636,
          12.4249722789,
          12.8931347452
         ],
         "yaxis": "y"
        },
        {
         "hovertemplate": "<b>%{hovertext}</b><br><br>Country Name=Oman<br>Year=%{x}<br>Population density (people per sq. km of land area)=%{y}<extra></extra>",
         "hovertext": [
          "Oman",
          "Oman",
          "Oman",
          "Oman",
          "Oman",
          "Oman",
          "Oman",
          "Oman",
          "Oman"
         ],
         "legendgroup": "Oman",
         "line": {
          "color": "#FF97FF",
          "dash": "solid"
         },
         "mode": "lines",
         "name": "Oman",
         "showlegend": true,
         "type": "scattergl",
         "x": [
          1967,
          1972,
          1977,
          1982,
          1987,
          1992,
          1997,
          2002,
          2007
         ],
         "xaxis": "x",
         "y": [
          2.1328497576700003,
          2.50849434572,
          3.1593085622,
          4.1680355412,
          5.23610016155,
          6.39713731826,
          7.19740226171,
          7.50631017771,
          8.380452342489999
         ],
         "yaxis": "y"
        },
        {
         "hovertemplate": "<b>%{hovertext}</b><br><br>Country Name=Pakistan<br>Year=%{x}<br>Population density (people per sq. km of land area)=%{y}<extra></extra>",
         "hovertext": [
          "Pakistan",
          "Pakistan",
          "Pakistan",
          "Pakistan",
          "Pakistan",
          "Pakistan",
          "Pakistan",
          "Pakistan",
          "Pakistan",
          "Pakistan"
         ],
         "legendgroup": "Pakistan",
         "line": {
          "color": "#FECB52",
          "dash": "solid"
         },
         "mode": "lines",
         "name": "Pakistan",
         "showlegend": true,
         "type": "scattergl",
         "x": [
          1962,
          1967,
          1972,
          1977,
          1982,
          1987,
          1992,
          1997,
          2002,
          2007
         ],
         "xaxis": "x",
         "y": [
          61.12875025939999,
          69.5237196451,
          79.5730269303,
          92.0425708281,
          108.223746887,
          127.518740919,
          147.385021015,
          167.141049191,
          187.151808323,
          207.253621835
         ],
         "yaxis": "y"
        },
        {
         "hovertemplate": "<b>%{hovertext}</b><br><br>Country Name=Panama<br>Year=%{x}<br>Population density (people per sq. km of land area)=%{y}<extra></extra>",
         "hovertext": [
          "Panama",
          "Panama",
          "Panama",
          "Panama",
          "Panama",
          "Panama",
          "Panama",
          "Panama",
          "Panama",
          "Panama"
         ],
         "legendgroup": "Panama",
         "line": {
          "color": "#636efa",
          "dash": "solid"
         },
         "mode": "lines",
         "name": "Panama",
         "showlegend": true,
         "type": "scattergl",
         "x": [
          1962,
          1967,
          1972,
          1977,
          1982,
          1987,
          1992,
          1997,
          2002,
          2007
         ],
         "xaxis": "x",
         "y": [
          16.1739574926,
          18.7489911219,
          21.6281275222,
          24.7227199354,
          27.8965025558,
          31.1870325531,
          34.6425881087,
          38.3742130751,
          42.3019639494,
          46.2523271455
         ],
         "yaxis": "y"
        },
        {
         "hovertemplate": "<b>%{hovertext}</b><br><br>Country Name=Paraguay<br>Year=%{x}<br>Population density (people per sq. km of land area)=%{y}<extra></extra>",
         "hovertext": [
          "Paraguay",
          "Paraguay",
          "Paraguay",
          "Paraguay",
          "Paraguay",
          "Paraguay",
          "Paraguay",
          "Paraguay",
          "Paraguay",
          "Paraguay"
         ],
         "legendgroup": "Paraguay",
         "line": {
          "color": "#EF553B",
          "dash": "solid"
         },
         "mode": "lines",
         "name": "Paraguay",
         "showlegend": true,
         "type": "scattergl",
         "x": [
          1962,
          1967,
          1972,
          1977,
          1982,
          1987,
          1992,
          1997,
          2002,
          2007
         ],
         "xaxis": "x",
         "y": [
          5.047412534609999,
          5.76284671533,
          6.5359702995200015,
          7.38830858293,
          8.47401459854,
          9.77959476466,
          11.1571558017,
          12.535479486500002,
          13.865127108,
          15.0167631513
         ],
         "yaxis": "y"
        },
        {
         "hovertemplate": "<b>%{hovertext}</b><br><br>Country Name=Peru<br>Year=%{x}<br>Population density (people per sq. km of land area)=%{y}<extra></extra>",
         "hovertext": [
          "Peru",
          "Peru",
          "Peru",
          "Peru",
          "Peru",
          "Peru",
          "Peru",
          "Peru",
          "Peru",
          "Peru"
         ],
         "legendgroup": "Peru",
         "line": {
          "color": "#00cc96",
          "dash": "solid"
         },
         "mode": "lines",
         "name": "Peru",
         "showlegend": true,
         "type": "scattergl",
         "x": [
          1962,
          1967,
          1972,
          1977,
          1982,
          1987,
          1992,
          1997,
          2002,
          2007
         ],
         "xaxis": "x",
         "y": [
          8.3208375,
          9.59537578125,
          10.994121875,
          12.547911718800002,
          14.2388492187,
          15.9779,
          17.763325,
          19.3964132812,
          20.7823929687,
          22.103725
         ],
         "yaxis": "y"
        },
        {
         "hovertemplate": "<b>%{hovertext}</b><br><br>Country Name=Philippines<br>Year=%{x}<br>Population density (people per sq. km of land area)=%{y}<extra></extra>",
         "hovertext": [
          "Philippines",
          "Philippines",
          "Philippines",
          "Philippines",
          "Philippines",
          "Philippines",
          "Philippines",
          "Philippines",
          "Philippines",
          "Philippines"
         ],
         "legendgroup": "Philippines",
         "line": {
          "color": "#ab63fa",
          "dash": "solid"
         },
         "mode": "lines",
         "name": "Philippines",
         "showlegend": true,
         "type": "scattergl",
         "x": [
          1962,
          1967,
          1972,
          1977,
          1982,
          1987,
          1992,
          1997,
          2002,
          2007
         ],
         "xaxis": "x",
         "y": [
          94.1501844029,
          110.060356736,
          127.155501911,
          146.394114096,
          167.919284301,
          192.215159137,
          218.261062481,
          244.969664956,
          272.644390784,
          298.371761076
         ],
         "yaxis": "y"
        },
        {
         "hovertemplate": "<b>%{hovertext}</b><br><br>Country Name=Poland<br>Year=%{x}<br>Population density (people per sq. km of land area)=%{y}<extra></extra>",
         "hovertext": [
          "Poland",
          "Poland",
          "Poland",
          "Poland",
          "Poland",
          "Poland",
          "Poland",
          "Poland",
          "Poland",
          "Poland"
         ],
         "legendgroup": "Poland",
         "line": {
          "color": "#FFA15A",
          "dash": "solid"
         },
         "mode": "lines",
         "name": "Poland",
         "showlegend": true,
         "type": "scattergl",
         "x": [
          1962,
          1967,
          1972,
          1977,
          1982,
          1987,
          1992,
          1997,
          2002,
          2007
         ],
         "xaxis": "x",
         "y": [
          98.9536060596,
          104.434212674,
          107.922720298,
          113.255574782,
          118.288161546,
          122.981635052,
          125.252757191,
          126.186489928,
          124.817538934,
          124.446852964
         ],
         "yaxis": "y"
        },
        {
         "hovertemplate": "<b>%{hovertext}</b><br><br>Country Name=Portugal<br>Year=%{x}<br>Population density (people per sq. km of land area)=%{y}<extra></extra>",
         "hovertext": [
          "Portugal",
          "Portugal",
          "Portugal",
          "Portugal",
          "Portugal",
          "Portugal",
          "Portugal",
          "Portugal",
          "Portugal",
          "Portugal"
         ],
         "legendgroup": "Portugal",
         "line": {
          "color": "#19d3f3",
          "dash": "solid"
         },
         "mode": "lines",
         "name": "Portugal",
         "showlegend": true,
         "type": "scattergl",
         "x": [
          1962,
          1967,
          1972,
          1977,
          1982,
          1987,
          1992,
          1997,
          2002,
          2007
         ],
         "xaxis": "x",
         "y": [
          98.2949180328,
          96.9892896175,
          94.3216393443,
          103.340710383,
          108.32536612,
          109.617825137,
          108.77042623,
          110.480622951,
          113.875748634,
          115.26144091
         ],
         "yaxis": "y"
        },
        {
         "hovertemplate": "<b>%{hovertext}</b><br><br>Country Name=Romania<br>Year=%{x}<br>Population density (people per sq. km of land area)=%{y}<extra></extra>",
         "hovertext": [
          "Romania",
          "Romania",
          "Romania",
          "Romania",
          "Romania",
          "Romania",
          "Romania",
          "Romania",
          "Romania",
          "Romania"
         ],
         "legendgroup": "Romania",
         "line": {
          "color": "#FF6692",
          "dash": "solid"
         },
         "mode": "lines",
         "name": "Romania",
         "showlegend": true,
         "type": "scattergl",
         "x": [
          1962,
          1967,
          1972,
          1977,
          1982,
          1987,
          1992,
          1997,
          2002,
          2007
         ],
         "xaxis": "x",
         "y": [
          81.08253017279999,
          84.8061213858,
          89.68462707299999,
          94.4520969002,
          97.7484978727,
          99.6328470956,
          99.338812865,
          98.2615692938,
          94.5338495671,
          90.8390186611
         ],
         "yaxis": "y"
        },
        {
         "hovertemplate": "<b>%{hovertext}</b><br><br>Country Name=Rwanda<br>Year=%{x}<br>Population density (people per sq. km of land area)=%{y}<extra></extra>",
         "hovertext": [
          "Rwanda",
          "Rwanda",
          "Rwanda",
          "Rwanda",
          "Rwanda",
          "Rwanda",
          "Rwanda",
          "Rwanda",
          "Rwanda",
          "Rwanda"
         ],
         "legendgroup": "Rwanda",
         "line": {
          "color": "#B6E880",
          "dash": "solid"
         },
         "mode": "lines",
         "name": "Rwanda",
         "showlegend": true,
         "type": "scattergl",
         "x": [
          1962,
          1967,
          1972,
          1977,
          1982,
          1987,
          1992,
          1997,
          2002,
          2007
         ],
         "xaxis": "x",
         "y": [
          123.656100527,
          138.561532225,
          161.479813539,
          188.409809485,
          222.392825294,
          273.30320227,
          272.108796109,
          263.725901905,
          346.130077017,
          384.316295095
         ],
         "yaxis": "y"
        },
        {
         "hovertemplate": "<b>%{hovertext}</b><br><br>Country Name=Sao Tome and Principe<br>Year=%{x}<br>Population density (people per sq. km of land area)=%{y}<extra></extra>",
         "hovertext": [
          "Sao Tome and Principe",
          "Sao Tome and Principe",
          "Sao Tome and Principe",
          "Sao Tome and Principe",
          "Sao Tome and Principe",
          "Sao Tome and Principe",
          "Sao Tome and Principe",
          "Sao Tome and Principe",
          "Sao Tome and Principe",
          "Sao Tome and Principe"
         ],
         "legendgroup": "Sao Tome and Principe",
         "line": {
          "color": "#FF97FF",
          "dash": "solid"
         },
         "mode": "lines",
         "name": "Sao Tome and Principe",
         "showlegend": true,
         "type": "scattergl",
         "x": [
          1962,
          1967,
          1972,
          1977,
          1982,
          1987,
          1992,
          1997,
          2002,
          2007
         ],
         "xaxis": "x",
         "y": [
          67.1135416667,
          70.7020833333,
          80.7666666667,
          91.0791666667,
          102.804166667,
          111.733333333,
          123.277083333,
          135.53125,
          149.046875,
          166.733333333
         ],
         "yaxis": "y"
        },
        {
         "hovertemplate": "<b>%{hovertext}</b><br><br>Country Name=Saudi Arabia<br>Year=%{x}<br>Population density (people per sq. km of land area)=%{y}<extra></extra>",
         "hovertext": [
          "Saudi Arabia",
          "Saudi Arabia",
          "Saudi Arabia",
          "Saudi Arabia",
          "Saudi Arabia",
          "Saudi Arabia",
          "Saudi Arabia",
          "Saudi Arabia",
          "Saudi Arabia",
          "Saudi Arabia"
         ],
         "legendgroup": "Saudi Arabia",
         "line": {
          "color": "#FECB52",
          "dash": "solid"
         },
         "mode": "lines",
         "name": "Saudi Arabia",
         "showlegend": true,
         "type": "scattergl",
         "x": [
          1962,
          1967,
          1972,
          1977,
          1982,
          1987,
          1992,
          1997,
          2002,
          2007
         ],
         "xaxis": "x",
         "y": [
          2.02953123474,
          2.41725504608,
          2.96884946202,
          3.8588745354,
          5.2319567007300005,
          6.81137931516,
          8.09350324931,
          9.21511148119,
          10.5448236723,
          12.1336201964
         ],
         "yaxis": "y"
        },
        {
         "hovertemplate": "<b>%{hovertext}</b><br><br>Country Name=Senegal<br>Year=%{x}<br>Population density (people per sq. km of land area)=%{y}<extra></extra>",
         "hovertext": [
          "Senegal",
          "Senegal",
          "Senegal",
          "Senegal",
          "Senegal",
          "Senegal",
          "Senegal",
          "Senegal",
          "Senegal",
          "Senegal"
         ],
         "legendgroup": "Senegal",
         "line": {
          "color": "#636efa",
          "dash": "solid"
         },
         "mode": "lines",
         "name": "Senegal",
         "showlegend": true,
         "type": "scattergl",
         "x": [
          1962,
          1967,
          1972,
          1977,
          1982,
          1987,
          1992,
          1997,
          2002,
          2007
         ],
         "xaxis": "x",
         "y": [
          17.4332363787,
          20.0632784501,
          23.2968472446,
          26.8026437438,
          30.5836025554,
          35.560982704000004,
          41.5038487508,
          47.5935386693,
          53.96279540850001,
          61.7941619488
         ],
         "yaxis": "y"
        },
        {
         "hovertemplate": "<b>%{hovertext}</b><br><br>Country Name=Serbia<br>Year=%{x}<br>Population density (people per sq. km of land area)=%{y}<extra></extra>",
         "hovertext": [
          "Serbia"
         ],
         "legendgroup": "Serbia",
         "line": {
          "color": "#EF553B",
          "dash": "solid"
         },
         "mode": "lines",
         "name": "Serbia",
         "showlegend": true,
         "type": "scattergl",
         "x": [
          2007
         ],
         "xaxis": "x",
         "y": [
          84.3994854791
         ],
         "yaxis": "y"
        },
        {
         "hovertemplate": "<b>%{hovertext}</b><br><br>Country Name=Sierra Leone<br>Year=%{x}<br>Population density (people per sq. km of land area)=%{y}<extra></extra>",
         "hovertext": [
          "Sierra Leone",
          "Sierra Leone",
          "Sierra Leone",
          "Sierra Leone",
          "Sierra Leone",
          "Sierra Leone",
          "Sierra Leone",
          "Sierra Leone",
          "Sierra Leone",
          "Sierra Leone"
         ],
         "legendgroup": "Sierra Leone",
         "line": {
          "color": "#00cc96",
          "dash": "solid"
         },
         "mode": "lines",
         "name": "Sierra Leone",
         "showlegend": true,
         "type": "scattergl",
         "x": [
          1962,
          1967,
          1972,
          1977,
          1982,
          1987,
          1992,
          1997,
          2002,
          2007
         ],
         "xaxis": "x",
         "y": [
          31.0277223608,
          33.2455943475,
          36.1019257412,
          39.9917844278,
          44.6709060682,
          51.0105985037,
          54.43588251590001,
          53.2484344694,
          61.2656414519,
          74.68977556109999
         ],
         "yaxis": "y"
        },
        {
         "hovertemplate": "<b>%{hovertext}</b><br><br>Country Name=Singapore<br>Year=%{x}<br>Population density (people per sq. km of land area)=%{y}<extra></extra>",
         "hovertext": [
          "Singapore",
          "Singapore",
          "Singapore",
          "Singapore",
          "Singapore",
          "Singapore",
          "Singapore",
          "Singapore",
          "Singapore",
          "Singapore"
         ],
         "legendgroup": "Singapore",
         "line": {
          "color": "#ab63fa",
          "dash": "solid"
         },
         "mode": "lines",
         "name": "Singapore",
         "showlegend": true,
         "type": "scattergl",
         "x": [
          1962,
          1967,
          1972,
          1977,
          1982,
          1987,
          1992,
          1997,
          2002,
          2007
         ],
         "xaxis": "x",
         "y": [
          2612.23880597,
          2951.64179104,
          3212.53731343,
          3470.59701493,
          3949.94925373,
          4141.4761194,
          4821.93731343,
          5665.72835821,
          6186.59259259,
          6602.30071942
         ],
         "yaxis": "y"
        },
        {
         "hovertemplate": "<b>%{hovertext}</b><br><br>Country Name=Slovak Republic<br>Year=%{x}<br>Population density (people per sq. km of land area)=%{y}<extra></extra>",
         "hovertext": [
          "Slovak Republic",
          "Slovak Republic",
          "Slovak Republic",
          "Slovak Republic"
         ],
         "legendgroup": "Slovak Republic",
         "line": {
          "color": "#FFA15A",
          "dash": "solid"
         },
         "mode": "lines",
         "name": "Slovak Republic",
         "showlegend": true,
         "type": "scattergl",
         "x": [
          1992,
          1997,
          2002,
          2007
         ],
         "xaxis": "x",
         "y": [
          110.291392931,
          111.918731809,
          111.786112266,
          111.738503119
         ],
         "yaxis": "y"
        },
        {
         "hovertemplate": "<b>%{hovertext}</b><br><br>Country Name=Slovenia<br>Year=%{x}<br>Population density (people per sq. km of land area)=%{y}<extra></extra>",
         "hovertext": [
          "Slovenia",
          "Slovenia",
          "Slovenia",
          "Slovenia"
         ],
         "legendgroup": "Slovenia",
         "line": {
          "color": "#19d3f3",
          "dash": "solid"
         },
         "mode": "lines",
         "name": "Slovenia",
         "showlegend": true,
         "type": "scattergl",
         "x": [
          1992,
          1997,
          2002,
          2007
         ],
         "xaxis": "x",
         "y": [
          99.1309831182,
          98.6075471698,
          99.0332671301,
          100.204667329
         ],
         "yaxis": "y"
        },
        {
         "hovertemplate": "<b>%{hovertext}</b><br><br>Country Name=Somalia<br>Year=%{x}<br>Population density (people per sq. km of land area)=%{y}<extra></extra>",
         "hovertext": [
          "Somalia",
          "Somalia",
          "Somalia",
          "Somalia",
          "Somalia",
          "Somalia",
          "Somalia",
          "Somalia",
          "Somalia"
         ],
         "legendgroup": "Somalia",
         "line": {
          "color": "#FF6692",
          "dash": "solid"
         },
         "mode": "lines",
         "name": "Somalia",
         "showlegend": true,
         "type": "scattergl",
         "x": [
          1962,
          1967,
          1972,
          1977,
          1982,
          1987,
          1992,
          2002,
          2007
         ],
         "xaxis": "x",
         "y": [
          4.58275257436,
          5.14433162241,
          5.56364172538,
          7.578265374439999,
          9.99703191252,
          9.7856138617,
          10.0328641566,
          12.4768116173,
          14.2012545031
         ],
         "yaxis": "y"
        },
        {
         "hovertemplate": "<b>%{hovertext}</b><br><br>Country Name=South Africa<br>Year=%{x}<br>Population density (people per sq. km of land area)=%{y}<extra></extra>",
         "hovertext": [
          "South Africa",
          "South Africa",
          "South Africa",
          "South Africa",
          "South Africa",
          "South Africa",
          "South Africa",
          "South Africa",
          "South Africa",
          "South Africa"
         ],
         "legendgroup": "South Africa",
         "line": {
          "color": "#B6E880",
          "dash": "solid"
         },
         "mode": "lines",
         "name": "South Africa",
         "showlegend": true,
         "type": "scattergl",
         "x": [
          1962,
          1967,
          1972,
          1977,
          1982,
          1987,
          1992,
          1997,
          2002,
          2007
         ],
         "xaxis": "x",
         "y": [
          15.103854619200002,
          17.1823896001,
          19.5669645286,
          22.265252372,
          25.2340766143,
          28.409332366100006,
          31.8581374836,
          35.3819634157,
          37.8005612798,
          40.2969647684
         ],
         "yaxis": "y"
        },
        {
         "hovertemplate": "<b>%{hovertext}</b><br><br>Country Name=Spain<br>Year=%{x}<br>Population density (people per sq. km of land area)=%{y}<extra></extra>",
         "hovertext": [
          "Spain",
          "Spain",
          "Spain",
          "Spain",
          "Spain",
          "Spain",
          "Spain",
          "Spain",
          "Spain",
          "Spain"
         ],
         "legendgroup": "Spain",
         "line": {
          "color": "#FF97FF",
          "dash": "solid"
         },
         "mode": "lines",
         "name": "Spain",
         "showlegend": true,
         "type": "scattergl",
         "x": [
          1962,
          1967,
          1972,
          1977,
          1982,
          1987,
          1992,
          1997,
          2002,
          2007
         ],
         "xaxis": "x",
         "y": [
          62.0740445796,
          65.3946676538,
          69.2394033375,
          73.09051927770001,
          76.05416249550001,
          77.4563811469,
          78.4031815634,
          80.20460716,
          83.0225192369,
          90.61490052290002
         ],
         "yaxis": "y"
        },
        {
         "hovertemplate": "<b>%{hovertext}</b><br><br>Country Name=Sri Lanka<br>Year=%{x}<br>Population density (people per sq. km of land area)=%{y}<extra></extra>",
         "hovertext": [
          "Sri Lanka",
          "Sri Lanka",
          "Sri Lanka",
          "Sri Lanka",
          "Sri Lanka",
          "Sri Lanka",
          "Sri Lanka",
          "Sri Lanka",
          "Sri Lanka",
          "Sri Lanka"
         ],
         "legendgroup": "Sri Lanka",
         "line": {
          "color": "#FECB52",
          "dash": "solid"
         },
         "mode": "lines",
         "name": "Sri Lanka",
         "showlegend": true,
         "type": "scattergl",
         "x": [
          1962,
          1967,
          1972,
          1977,
          1982,
          1987,
          1992,
          1997,
          2002,
          2007
         ],
         "xaxis": "x",
         "y": [
          166.52846436,
          186.620953596,
          205.08690798900005,
          222.32498804,
          240.727156753,
          260.548556849,
          279.445064583,
          292.186254186,
          302.009248924,
          313.634189125
         ],
         "yaxis": "y"
        },
        {
         "hovertemplate": "<b>%{hovertext}</b><br><br>Country Name=Sudan<br>Year=%{x}<br>Population density (people per sq. km of land area)=%{y}<extra></extra>",
         "hovertext": [
          "Sudan",
          "Sudan",
          "Sudan",
          "Sudan",
          "Sudan",
          "Sudan",
          "Sudan",
          "Sudan",
          "Sudan",
          "Sudan"
         ],
         "legendgroup": "Sudan",
         "line": {
          "color": "#636efa",
          "dash": "solid"
         },
         "mode": "lines",
         "name": "Sudan",
         "showlegend": true,
         "type": "scattergl",
         "x": [
          1962,
          1967,
          1972,
          1977,
          1982,
          1987,
          1992,
          1997,
          2002,
          2007
         ],
         "xaxis": "x",
         "y": [
          4.65142550505,
          5.34818981481,
          6.204436868689999,
          7.27591624579,
          8.6185016835,
          10.0129015152,
          11.537851430999998,
          13.4495265152,
          15.4895686027,
          17.8676157407
         ],
         "yaxis": "y"
        },
        {
         "hovertemplate": "<b>%{hovertext}</b><br><br>Country Name=Swaziland<br>Year=%{x}<br>Population density (people per sq. km of land area)=%{y}<extra></extra>",
         "hovertext": [
          "Swaziland",
          "Swaziland",
          "Swaziland",
          "Swaziland",
          "Swaziland",
          "Swaziland",
          "Swaziland",
          "Swaziland",
          "Swaziland"
         ],
         "legendgroup": "Swaziland",
         "line": {
          "color": "#EF553B",
          "dash": "solid"
         },
         "mode": "lines",
         "name": "Swaziland",
         "showlegend": true,
         "type": "scattergl",
         "x": [
          1967,
          1972,
          1977,
          1982,
          1987,
          1992,
          1997,
          2002,
          2007
         ],
         "xaxis": "x",
         "y": [
          23.9231395349,
          27.4614534884,
          31.9845930233,
          37.1705232558,
          44.6172674419,
          52.7876162791,
          58.5325581395,
          62.9183139535,
          65.97982558140001
         ],
         "yaxis": "y"
        },
        {
         "hovertemplate": "<b>%{hovertext}</b><br><br>Country Name=Sweden<br>Year=%{x}<br>Population density (people per sq. km of land area)=%{y}<extra></extra>",
         "hovertext": [
          "Sweden",
          "Sweden",
          "Sweden",
          "Sweden",
          "Sweden",
          "Sweden",
          "Sweden",
          "Sweden",
          "Sweden",
          "Sweden"
         ],
         "legendgroup": "Sweden",
         "line": {
          "color": "#00cc96",
          "dash": "solid"
         },
         "mode": "lines",
         "name": "Sweden",
         "showlegend": true,
         "type": "scattergl",
         "x": [
          1962,
          1967,
          1972,
          1977,
          1982,
          1987,
          1992,
          1997,
          2002,
          2007
         ],
         "xaxis": "x",
         "y": [
          18.4276161232,
          19.1741750743,
          19.7940732076,
          20.1090315348,
          20.2886947409,
          20.465477409,
          21.1241092752,
          21.5578837062,
          21.7501535312,
          22.2939318614
         ],
         "yaxis": "y"
        },
        {
         "hovertemplate": "<b>%{hovertext}</b><br><br>Country Name=Switzerland<br>Year=%{x}<br>Population density (people per sq. km of land area)=%{y}<extra></extra>",
         "hovertext": [
          "Switzerland",
          "Switzerland",
          "Switzerland",
          "Switzerland",
          "Switzerland",
          "Switzerland",
          "Switzerland",
          "Switzerland",
          "Switzerland",
          "Switzerland"
         ],
         "legendgroup": "Switzerland",
         "line": {
          "color": "#ab63fa",
          "dash": "solid"
         },
         "mode": "lines",
         "name": "Switzerland",
         "showlegend": true,
         "type": "scattergl",
         "x": [
          1962,
          1967,
          1972,
          1977,
          1982,
          1987,
          1992,
          1997,
          2002,
          2007
         ],
         "xaxis": "x",
         "y": [
          141.009284558,
          151.583308035,
          158.392936652,
          158.90442218200002,
          161.690674965,
          165.57732297799998,
          173.93215107900002,
          179.34338553400002,
          184.321466525,
          191.090115396
         ],
         "yaxis": "y"
        },
        {
         "hovertemplate": "<b>%{hovertext}</b><br><br>Country Name=Tanzania<br>Year=%{x}<br>Population density (people per sq. km of land area)=%{y}<extra></extra>",
         "hovertext": [
          "Tanzania",
          "Tanzania",
          "Tanzania",
          "Tanzania",
          "Tanzania",
          "Tanzania",
          "Tanzania",
          "Tanzania",
          "Tanzania",
          "Tanzania"
         ],
         "legendgroup": "Tanzania",
         "line": {
          "color": "#FFA15A",
          "dash": "solid"
         },
         "mode": "lines",
         "name": "Tanzania",
         "showlegend": true,
         "type": "scattergl",
         "x": [
          1962,
          1967,
          1972,
          1977,
          1982,
          1987,
          1992,
          1997,
          2002,
          2007
         ],
         "xaxis": "x",
         "y": [
          12.0612869722,
          14.0054639874,
          16.3767170919,
          19.2120264168,
          22.4595585911,
          26.1957394446,
          30.7110690901,
          35.5992108828,
          40.4780763152,
          46.8751456311
         ],
         "yaxis": "y"
        },
        {
         "hovertemplate": "<b>%{hovertext}</b><br><br>Country Name=Thailand<br>Year=%{x}<br>Population density (people per sq. km of land area)=%{y}<extra></extra>",
         "hovertext": [
          "Thailand",
          "Thailand",
          "Thailand",
          "Thailand",
          "Thailand",
          "Thailand",
          "Thailand",
          "Thailand",
          "Thailand",
          "Thailand"
         ],
         "legendgroup": "Thailand",
         "line": {
          "color": "#19d3f3",
          "dash": "solid"
         },
         "mode": "lines",
         "name": "Thailand",
         "showlegend": true,
         "type": "scattergl",
         "x": [
          1962,
          1967,
          1972,
          1977,
          1982,
          1987,
          1992,
          1997,
          2002,
          2007
         ],
         "xaxis": "x",
         "y": [
          56.9223061716,
          66.1169723424,
          76.4587269275,
          86.9384936092,
          96.4309283799,
          105.657779561,
          113.060686253,
          118.508753352,
          125.539096479,
          129.878392609
         ],
         "yaxis": "y"
        },
        {
         "hovertemplate": "<b>%{hovertext}</b><br><br>Country Name=Togo<br>Year=%{x}<br>Population density (people per sq. km of land area)=%{y}<extra></extra>",
         "hovertext": [
          "Togo",
          "Togo",
          "Togo",
          "Togo",
          "Togo",
          "Togo",
          "Togo",
          "Togo",
          "Togo",
          "Togo"
         ],
         "legendgroup": "Togo",
         "line": {
          "color": "#FF6692",
          "dash": "solid"
         },
         "mode": "lines",
         "name": "Togo",
         "showlegend": true,
         "type": "scattergl",
         "x": [
          1962,
          1967,
          1972,
          1977,
          1982,
          1987,
          1992,
          1997,
          2002,
          2007
         ],
         "xaxis": "x",
         "y": [
          29.6517374517,
          34.1137157566,
          41.323313109,
          46.305681191400005,
          53.5971318257,
          63.8437028866,
          73.2553042839,
          82.8546607832,
          94.5471410186,
          108.299577128
         ],
         "yaxis": "y"
        },
        {
         "hovertemplate": "<b>%{hovertext}</b><br><br>Country Name=Trinidad and Tobago<br>Year=%{x}<br>Population density (people per sq. km of land area)=%{y}<extra></extra>",
         "hovertext": [
          "Trinidad and Tobago",
          "Trinidad and Tobago",
          "Trinidad and Tobago",
          "Trinidad and Tobago",
          "Trinidad and Tobago",
          "Trinidad and Tobago",
          "Trinidad and Tobago",
          "Trinidad and Tobago",
          "Trinidad and Tobago",
          "Trinidad and Tobago"
         ],
         "legendgroup": "Trinidad and Tobago",
         "line": {
          "color": "#B6E880",
          "dash": "solid"
         },
         "mode": "lines",
         "name": "Trinidad and Tobago",
         "showlegend": true,
         "type": "scattergl",
         "x": [
          1962,
          1967,
          1972,
          1977,
          1982,
          1987,
          1992,
          1997,
          2002,
          2007
         ],
         "xaxis": "x",
         "y": [
          171.543664717,
          180.490838207,
          188.838596491,
          202.681676413,
          218.442495127,
          232.990838207,
          241.225341131,
          245.746003899,
          249.09161793400003,
          255.21637426900003
         ],
         "yaxis": "y"
        },
        {
         "hovertemplate": "<b>%{hovertext}</b><br><br>Country Name=Tunisia<br>Year=%{x}<br>Population density (people per sq. km of land area)=%{y}<extra></extra>",
         "hovertext": [
          "Tunisia",
          "Tunisia",
          "Tunisia",
          "Tunisia",
          "Tunisia",
          "Tunisia",
          "Tunisia",
          "Tunisia",
          "Tunisia",
          "Tunisia"
         ],
         "legendgroup": "Tunisia",
         "line": {
          "color": "#FF97FF",
          "dash": "solid"
         },
         "mode": "lines",
         "name": "Tunisia",
         "showlegend": true,
         "type": "scattergl",
         "x": [
          1962,
          1967,
          1972,
          1977,
          1982,
          1987,
          1992,
          1997,
          2002,
          2007
         ],
         "xaxis": "x",
         "y": [
          27.6977986612,
          30.4945481462,
          34.034165808400004,
          38.0729016478,
          43.3442198764,
          49.51239701340001,
          55.3760684861,
          60.4026197219,
          63.4925785273,
          66.28937306899999
         ],
         "yaxis": "y"
        },
        {
         "hovertemplate": "<b>%{hovertext}</b><br><br>Country Name=Turkey<br>Year=%{x}<br>Population density (people per sq. km of land area)=%{y}<extra></extra>",
         "hovertext": [
          "Turkey",
          "Turkey",
          "Turkey",
          "Turkey",
          "Turkey",
          "Turkey",
          "Turkey",
          "Turkey",
          "Turkey",
          "Turkey"
         ],
         "legendgroup": "Turkey",
         "line": {
          "color": "#FECB52",
          "dash": "solid"
         },
         "mode": "lines",
         "name": "Turkey",
         "showlegend": true,
         "type": "scattergl",
         "x": [
          1962,
          1967,
          1972,
          1977,
          1982,
          1987,
          1992,
          1997,
          2002,
          2007
         ],
         "xaxis": "x",
         "y": [
          37.5634850513,
          42.1610436184,
          47.3933656432,
          53.29861232020001,
          59.7663032886,
          66.4849875914,
          72.5168379611,
          78.47160843520001,
          84.6195782389,
          90.3232618271
         ],
         "yaxis": "y"
        },
        {
         "hovertemplate": "<b>%{hovertext}</b><br><br>Country Name=Uganda<br>Year=%{x}<br>Population density (people per sq. km of land area)=%{y}<extra></extra>",
         "hovertext": [
          "Uganda",
          "Uganda",
          "Uganda",
          "Uganda",
          "Uganda",
          "Uganda",
          "Uganda",
          "Uganda",
          "Uganda",
          "Uganda"
         ],
         "legendgroup": "Uganda",
         "line": {
          "color": "#636efa",
          "dash": "solid"
         },
         "mode": "lines",
         "name": "Uganda",
         "showlegend": true,
         "type": "scattergl",
         "x": [
          1962,
          1967,
          1972,
          1977,
          1982,
          1987,
          1992,
          1997,
          2002,
          2007
         ],
         "xaxis": "x",
         "y": [
          36.2351984385,
          42.9439567589,
          49.9890946399,
          57.4082428307,
          66.654066363,
          78.4158850908,
          92.945933637,
          108.500560533,
          126.899524548,
          150.102387268
         ],
         "yaxis": "y"
        },
        {
         "hovertemplate": "<b>%{hovertext}</b><br><br>Country Name=United Kingdom<br>Year=%{x}<br>Population density (people per sq. km of land area)=%{y}<extra></extra>",
         "hovertext": [
          "United Kingdom",
          "United Kingdom",
          "United Kingdom",
          "United Kingdom",
          "United Kingdom",
          "United Kingdom",
          "United Kingdom",
          "United Kingdom",
          "United Kingdom",
          "United Kingdom"
         ],
         "legendgroup": "United Kingdom",
         "line": {
          "color": "#EF553B",
          "dash": "solid"
         },
         "mode": "lines",
         "name": "United Kingdom",
         "showlegend": true,
         "type": "scattergl",
         "x": [
          1962,
          1967,
          1972,
          1977,
          1982,
          1987,
          1992,
          1997,
          2002,
          2007
         ],
         "xaxis": "x",
         "y": [
          220.104989046,
          227.105361055,
          231.82765676,
          232.271698425,
          232.768325549,
          234.787128508,
          238.00438969900003,
          241.048873641,
          245.403542347,
          253.471925764
         ],
         "yaxis": "y"
        },
        {
         "hovertemplate": "<b>%{hovertext}</b><br><br>Country Name=United States<br>Year=%{x}<br>Population density (people per sq. km of land area)=%{y}<extra></extra>",
         "hovertext": [
          "United States",
          "United States",
          "United States",
          "United States",
          "United States",
          "United States",
          "United States",
          "United States",
          "United States",
          "United States"
         ],
         "legendgroup": "United States",
         "line": {
          "color": "#00cc96",
          "dash": "solid"
         },
         "mode": "lines",
         "name": "United States",
         "showlegend": true,
         "type": "scattergl",
         "x": [
          1962,
          1967,
          1972,
          1977,
          1982,
          1987,
          1992,
          1997,
          2002,
          2007
         ],
         "xaxis": "x",
         "y": [
          20.3667228594,
          21.6959130731,
          22.9170124119,
          24.0462890983,
          25.2937014683,
          26.4537676767,
          28.0068916121,
          29.76942797,
          31.393549932800003,
          32.8786113609
         ],
         "yaxis": "y"
        },
        {
         "hovertemplate": "<b>%{hovertext}</b><br><br>Country Name=Uruguay<br>Year=%{x}<br>Population density (people per sq. km of land area)=%{y}<extra></extra>",
         "hovertext": [
          "Uruguay",
          "Uruguay",
          "Uruguay",
          "Uruguay",
          "Uruguay",
          "Uruguay",
          "Uruguay",
          "Uruguay",
          "Uruguay",
          "Uruguay"
         ],
         "legendgroup": "Uruguay",
         "line": {
          "color": "#ab63fa",
          "dash": "solid"
         },
         "mode": "lines",
         "name": "Uruguay",
         "showlegend": true,
         "type": "scattergl",
         "x": [
          1962,
          1967,
          1972,
          1977,
          1982,
          1987,
          1992,
          1997,
          2002,
          2007
         ],
         "xaxis": "x",
         "y": [
          14.8776539824,
          15.713021369000002,
          16.1206547823,
          16.3244600617,
          16.8796766084,
          17.426362701400002,
          18.0256713518,
          18.6893726431,
          19.0136555822,
          19.0821049023
         ],
         "yaxis": "y"
        },
        {
         "hovertemplate": "<b>%{hovertext}</b><br><br>Country Name=Vietnam<br>Year=%{x}<br>Population density (people per sq. km of land area)=%{y}<extra></extra>",
         "hovertext": [
          "Vietnam",
          "Vietnam",
          "Vietnam",
          "Vietnam",
          "Vietnam",
          "Vietnam",
          "Vietnam",
          "Vietnam",
          "Vietnam",
          "Vietnam"
         ],
         "legendgroup": "Vietnam",
         "line": {
          "color": "#FFA15A",
          "dash": "solid"
         },
         "mode": "lines",
         "name": "Vietnam",
         "showlegend": true,
         "type": "scattergl",
         "x": [
          1962,
          1967,
          1972,
          1977,
          1982,
          1987,
          1992,
          1997,
          2002,
          2007
         ],
         "xaxis": "x",
         "y": [
          110.98036806,
          122.830194476,
          137.509600909,
          154.520876217,
          171.086669329,
          189.713969707,
          210.298626686,
          228.292420658,
          256.118821446,
          271.611249073
         ],
         "yaxis": "y"
        },
        {
         "hovertemplate": "<b>%{hovertext}</b><br><br>Country Name=West Bank and Gaza<br>Year=%{x}<br>Population density (people per sq. km of land area)=%{y}<extra></extra>",
         "hovertext": [
          "West Bank and Gaza",
          "West Bank and Gaza",
          "West Bank and Gaza"
         ],
         "legendgroup": "West Bank and Gaza",
         "line": {
          "color": "#19d3f3",
          "dash": "solid"
         },
         "mode": "lines",
         "name": "West Bank and Gaza",
         "showlegend": true,
         "type": "scattergl",
         "x": [
          1997,
          2002,
          2007
         ],
         "xaxis": "x",
         "y": [
          449.587707641,
          510.859302326,
          580.481063123
         ],
         "yaxis": "y"
        },
        {
         "hovertemplate": "<b>%{hovertext}</b><br><br>Country Name=Zambia<br>Year=%{x}<br>Population density (people per sq. km of land area)=%{y}<extra></extra>",
         "hovertext": [
          "Zambia",
          "Zambia",
          "Zambia",
          "Zambia",
          "Zambia",
          "Zambia",
          "Zambia",
          "Zambia",
          "Zambia"
         ],
         "legendgroup": "Zambia",
         "line": {
          "color": "#FF6692",
          "dash": "solid"
         },
         "mode": "lines",
         "name": "Zambia",
         "showlegend": true,
         "type": "scattergl",
         "x": [
          1967,
          1972,
          1977,
          1982,
          1987,
          1992,
          1997,
          2002,
          2007
         ],
         "xaxis": "x",
         "y": [
          5.10211867257,
          6.032016841769999,
          7.18808431644,
          8.545394745689999,
          10.0475793325,
          11.5376679805,
          13.134077671199998,
          14.9853751059,
          17.135925960799998
         ],
         "yaxis": "y"
        },
        {
         "hovertemplate": "<b>%{hovertext}</b><br><br>Country Name=Zimbabwe<br>Year=%{x}<br>Population density (people per sq. km of land area)=%{y}<extra></extra>",
         "hovertext": [
          "Zimbabwe",
          "Zimbabwe",
          "Zimbabwe",
          "Zimbabwe",
          "Zimbabwe",
          "Zimbabwe",
          "Zimbabwe",
          "Zimbabwe",
          "Zimbabwe"
         ],
         "legendgroup": "Zimbabwe",
         "line": {
          "color": "#B6E880",
          "dash": "solid"
         },
         "mode": "lines",
         "name": "Zimbabwe",
         "showlegend": true,
         "type": "scattergl",
         "x": [
          1967,
          1972,
          1977,
          1982,
          1987,
          1992,
          1997,
          2002,
          2007
         ],
         "xaxis": "x",
         "y": [
          12.197523588,
          14.4069070699,
          17.011086984600002,
          20.3603825772,
          24.6494946362,
          28.4857619232,
          31.1745069148,
          32.807111283400005,
          34.3745586145
         ],
         "yaxis": "y"
        }
       ],
       "layout": {
        "legend": {
         "title": {
          "text": "Country Name"
         },
         "tracegroupgap": 0
        },
        "template": {
         "data": {
          "bar": [
           {
            "error_x": {
             "color": "#2a3f5f"
            },
            "error_y": {
             "color": "#2a3f5f"
            },
            "marker": {
             "line": {
              "color": "#E5ECF6",
              "width": 0.5
             }
            },
            "type": "bar"
           }
          ],
          "barpolar": [
           {
            "marker": {
             "line": {
              "color": "#E5ECF6",
              "width": 0.5
             }
            },
            "type": "barpolar"
           }
          ],
          "carpet": [
           {
            "aaxis": {
             "endlinecolor": "#2a3f5f",
             "gridcolor": "white",
             "linecolor": "white",
             "minorgridcolor": "white",
             "startlinecolor": "#2a3f5f"
            },
            "baxis": {
             "endlinecolor": "#2a3f5f",
             "gridcolor": "white",
             "linecolor": "white",
             "minorgridcolor": "white",
             "startlinecolor": "#2a3f5f"
            },
            "type": "carpet"
           }
          ],
          "choropleth": [
           {
            "colorbar": {
             "outlinewidth": 0,
             "ticks": ""
            },
            "type": "choropleth"
           }
          ],
          "contour": [
           {
            "colorbar": {
             "outlinewidth": 0,
             "ticks": ""
            },
            "colorscale": [
             [
              0,
              "#0d0887"
             ],
             [
              0.1111111111111111,
              "#46039f"
             ],
             [
              0.2222222222222222,
              "#7201a8"
             ],
             [
              0.3333333333333333,
              "#9c179e"
             ],
             [
              0.4444444444444444,
              "#bd3786"
             ],
             [
              0.5555555555555556,
              "#d8576b"
             ],
             [
              0.6666666666666666,
              "#ed7953"
             ],
             [
              0.7777777777777778,
              "#fb9f3a"
             ],
             [
              0.8888888888888888,
              "#fdca26"
             ],
             [
              1,
              "#f0f921"
             ]
            ],
            "type": "contour"
           }
          ],
          "contourcarpet": [
           {
            "colorbar": {
             "outlinewidth": 0,
             "ticks": ""
            },
            "type": "contourcarpet"
           }
          ],
          "heatmap": [
           {
            "colorbar": {
             "outlinewidth": 0,
             "ticks": ""
            },
            "colorscale": [
             [
              0,
              "#0d0887"
             ],
             [
              0.1111111111111111,
              "#46039f"
             ],
             [
              0.2222222222222222,
              "#7201a8"
             ],
             [
              0.3333333333333333,
              "#9c179e"
             ],
             [
              0.4444444444444444,
              "#bd3786"
             ],
             [
              0.5555555555555556,
              "#d8576b"
             ],
             [
              0.6666666666666666,
              "#ed7953"
             ],
             [
              0.7777777777777778,
              "#fb9f3a"
             ],
             [
              0.8888888888888888,
              "#fdca26"
             ],
             [
              1,
              "#f0f921"
             ]
            ],
            "type": "heatmap"
           }
          ],
          "heatmapgl": [
           {
            "colorbar": {
             "outlinewidth": 0,
             "ticks": ""
            },
            "colorscale": [
             [
              0,
              "#0d0887"
             ],
             [
              0.1111111111111111,
              "#46039f"
             ],
             [
              0.2222222222222222,
              "#7201a8"
             ],
             [
              0.3333333333333333,
              "#9c179e"
             ],
             [
              0.4444444444444444,
              "#bd3786"
             ],
             [
              0.5555555555555556,
              "#d8576b"
             ],
             [
              0.6666666666666666,
              "#ed7953"
             ],
             [
              0.7777777777777778,
              "#fb9f3a"
             ],
             [
              0.8888888888888888,
              "#fdca26"
             ],
             [
              1,
              "#f0f921"
             ]
            ],
            "type": "heatmapgl"
           }
          ],
          "histogram": [
           {
            "marker": {
             "colorbar": {
              "outlinewidth": 0,
              "ticks": ""
             }
            },
            "type": "histogram"
           }
          ],
          "histogram2d": [
           {
            "colorbar": {
             "outlinewidth": 0,
             "ticks": ""
            },
            "colorscale": [
             [
              0,
              "#0d0887"
             ],
             [
              0.1111111111111111,
              "#46039f"
             ],
             [
              0.2222222222222222,
              "#7201a8"
             ],
             [
              0.3333333333333333,
              "#9c179e"
             ],
             [
              0.4444444444444444,
              "#bd3786"
             ],
             [
              0.5555555555555556,
              "#d8576b"
             ],
             [
              0.6666666666666666,
              "#ed7953"
             ],
             [
              0.7777777777777778,
              "#fb9f3a"
             ],
             [
              0.8888888888888888,
              "#fdca26"
             ],
             [
              1,
              "#f0f921"
             ]
            ],
            "type": "histogram2d"
           }
          ],
          "histogram2dcontour": [
           {
            "colorbar": {
             "outlinewidth": 0,
             "ticks": ""
            },
            "colorscale": [
             [
              0,
              "#0d0887"
             ],
             [
              0.1111111111111111,
              "#46039f"
             ],
             [
              0.2222222222222222,
              "#7201a8"
             ],
             [
              0.3333333333333333,
              "#9c179e"
             ],
             [
              0.4444444444444444,
              "#bd3786"
             ],
             [
              0.5555555555555556,
              "#d8576b"
             ],
             [
              0.6666666666666666,
              "#ed7953"
             ],
             [
              0.7777777777777778,
              "#fb9f3a"
             ],
             [
              0.8888888888888888,
              "#fdca26"
             ],
             [
              1,
              "#f0f921"
             ]
            ],
            "type": "histogram2dcontour"
           }
          ],
          "mesh3d": [
           {
            "colorbar": {
             "outlinewidth": 0,
             "ticks": ""
            },
            "type": "mesh3d"
           }
          ],
          "parcoords": [
           {
            "line": {
             "colorbar": {
              "outlinewidth": 0,
              "ticks": ""
             }
            },
            "type": "parcoords"
           }
          ],
          "pie": [
           {
            "automargin": true,
            "type": "pie"
           }
          ],
          "scatter": [
           {
            "marker": {
             "colorbar": {
              "outlinewidth": 0,
              "ticks": ""
             }
            },
            "type": "scatter"
           }
          ],
          "scatter3d": [
           {
            "line": {
             "colorbar": {
              "outlinewidth": 0,
              "ticks": ""
             }
            },
            "marker": {
             "colorbar": {
              "outlinewidth": 0,
              "ticks": ""
             }
            },
            "type": "scatter3d"
           }
          ],
          "scattercarpet": [
           {
            "marker": {
             "colorbar": {
              "outlinewidth": 0,
              "ticks": ""
             }
            },
            "type": "scattercarpet"
           }
          ],
          "scattergeo": [
           {
            "marker": {
             "colorbar": {
              "outlinewidth": 0,
              "ticks": ""
             }
            },
            "type": "scattergeo"
           }
          ],
          "scattergl": [
           {
            "marker": {
             "colorbar": {
              "outlinewidth": 0,
              "ticks": ""
             }
            },
            "type": "scattergl"
           }
          ],
          "scattermapbox": [
           {
            "marker": {
             "colorbar": {
              "outlinewidth": 0,
              "ticks": ""
             }
            },
            "type": "scattermapbox"
           }
          ],
          "scatterpolar": [
           {
            "marker": {
             "colorbar": {
              "outlinewidth": 0,
              "ticks": ""
             }
            },
            "type": "scatterpolar"
           }
          ],
          "scatterpolargl": [
           {
            "marker": {
             "colorbar": {
              "outlinewidth": 0,
              "ticks": ""
             }
            },
            "type": "scatterpolargl"
           }
          ],
          "scatterternary": [
           {
            "marker": {
             "colorbar": {
              "outlinewidth": 0,
              "ticks": ""
             }
            },
            "type": "scatterternary"
           }
          ],
          "surface": [
           {
            "colorbar": {
             "outlinewidth": 0,
             "ticks": ""
            },
            "colorscale": [
             [
              0,
              "#0d0887"
             ],
             [
              0.1111111111111111,
              "#46039f"
             ],
             [
              0.2222222222222222,
              "#7201a8"
             ],
             [
              0.3333333333333333,
              "#9c179e"
             ],
             [
              0.4444444444444444,
              "#bd3786"
             ],
             [
              0.5555555555555556,
              "#d8576b"
             ],
             [
              0.6666666666666666,
              "#ed7953"
             ],
             [
              0.7777777777777778,
              "#fb9f3a"
             ],
             [
              0.8888888888888888,
              "#fdca26"
             ],
             [
              1,
              "#f0f921"
             ]
            ],
            "type": "surface"
           }
          ],
          "table": [
           {
            "cells": {
             "fill": {
              "color": "#EBF0F8"
             },
             "line": {
              "color": "white"
             }
            },
            "header": {
             "fill": {
              "color": "#C8D4E3"
             },
             "line": {
              "color": "white"
             }
            },
            "type": "table"
           }
          ]
         },
         "layout": {
          "annotationdefaults": {
           "arrowcolor": "#2a3f5f",
           "arrowhead": 0,
           "arrowwidth": 1
          },
          "autotypenumbers": "strict",
          "coloraxis": {
           "colorbar": {
            "outlinewidth": 0,
            "ticks": ""
           }
          },
          "colorscale": {
           "diverging": [
            [
             0,
             "#8e0152"
            ],
            [
             0.1,
             "#c51b7d"
            ],
            [
             0.2,
             "#de77ae"
            ],
            [
             0.3,
             "#f1b6da"
            ],
            [
             0.4,
             "#fde0ef"
            ],
            [
             0.5,
             "#f7f7f7"
            ],
            [
             0.6,
             "#e6f5d0"
            ],
            [
             0.7,
             "#b8e186"
            ],
            [
             0.8,
             "#7fbc41"
            ],
            [
             0.9,
             "#4d9221"
            ],
            [
             1,
             "#276419"
            ]
           ],
           "sequential": [
            [
             0,
             "#0d0887"
            ],
            [
             0.1111111111111111,
             "#46039f"
            ],
            [
             0.2222222222222222,
             "#7201a8"
            ],
            [
             0.3333333333333333,
             "#9c179e"
            ],
            [
             0.4444444444444444,
             "#bd3786"
            ],
            [
             0.5555555555555556,
             "#d8576b"
            ],
            [
             0.6666666666666666,
             "#ed7953"
            ],
            [
             0.7777777777777778,
             "#fb9f3a"
            ],
            [
             0.8888888888888888,
             "#fdca26"
            ],
            [
             1,
             "#f0f921"
            ]
           ],
           "sequentialminus": [
            [
             0,
             "#0d0887"
            ],
            [
             0.1111111111111111,
             "#46039f"
            ],
            [
             0.2222222222222222,
             "#7201a8"
            ],
            [
             0.3333333333333333,
             "#9c179e"
            ],
            [
             0.4444444444444444,
             "#bd3786"
            ],
            [
             0.5555555555555556,
             "#d8576b"
            ],
            [
             0.6666666666666666,
             "#ed7953"
            ],
            [
             0.7777777777777778,
             "#fb9f3a"
            ],
            [
             0.8888888888888888,
             "#fdca26"
            ],
            [
             1,
             "#f0f921"
            ]
           ]
          },
          "colorway": [
           "#636efa",
           "#EF553B",
           "#00cc96",
           "#ab63fa",
           "#FFA15A",
           "#19d3f3",
           "#FF6692",
           "#B6E880",
           "#FF97FF",
           "#FECB52"
          ],
          "font": {
           "color": "#2a3f5f"
          },
          "geo": {
           "bgcolor": "white",
           "lakecolor": "white",
           "landcolor": "#E5ECF6",
           "showlakes": true,
           "showland": true,
           "subunitcolor": "white"
          },
          "hoverlabel": {
           "align": "left"
          },
          "hovermode": "closest",
          "mapbox": {
           "style": "light"
          },
          "paper_bgcolor": "white",
          "plot_bgcolor": "#E5ECF6",
          "polar": {
           "angularaxis": {
            "gridcolor": "white",
            "linecolor": "white",
            "ticks": ""
           },
           "bgcolor": "#E5ECF6",
           "radialaxis": {
            "gridcolor": "white",
            "linecolor": "white",
            "ticks": ""
           }
          },
          "scene": {
           "xaxis": {
            "backgroundcolor": "#E5ECF6",
            "gridcolor": "white",
            "gridwidth": 2,
            "linecolor": "white",
            "showbackground": true,
            "ticks": "",
            "zerolinecolor": "white"
           },
           "yaxis": {
            "backgroundcolor": "#E5ECF6",
            "gridcolor": "white",
            "gridwidth": 2,
            "linecolor": "white",
            "showbackground": true,
            "ticks": "",
            "zerolinecolor": "white"
           },
           "zaxis": {
            "backgroundcolor": "#E5ECF6",
            "gridcolor": "white",
            "gridwidth": 2,
            "linecolor": "white",
            "showbackground": true,
            "ticks": "",
            "zerolinecolor": "white"
           }
          },
          "shapedefaults": {
           "line": {
            "color": "#2a3f5f"
           }
          },
          "ternary": {
           "aaxis": {
            "gridcolor": "white",
            "linecolor": "white",
            "ticks": ""
           },
           "baxis": {
            "gridcolor": "white",
            "linecolor": "white",
            "ticks": ""
           },
           "bgcolor": "#E5ECF6",
           "caxis": {
            "gridcolor": "white",
            "linecolor": "white",
            "ticks": ""
           }
          },
          "title": {
           "x": 0.05
          },
          "xaxis": {
           "automargin": true,
           "gridcolor": "white",
           "linecolor": "white",
           "ticks": "",
           "title": {
            "standoff": 15
           },
           "zerolinecolor": "white",
           "zerolinewidth": 2
          },
          "yaxis": {
           "automargin": true,
           "gridcolor": "white",
           "linecolor": "white",
           "ticks": "",
           "title": {
            "standoff": 15
           },
           "zerolinecolor": "white",
           "zerolinewidth": 2
          }
         }
        },
        "title": {
         "text": "Population density (people per sq. km of land area) across all years"
        },
        "xaxis": {
         "anchor": "y",
         "domain": [
          0,
          1
         ],
         "title": {
          "text": "Year"
         }
        },
        "yaxis": {
         "anchor": "x",
         "domain": [
          0,
          1
         ],
         "title": {
          "text": "Population density (people per sq. km of land area)"
         }
        }
       }
      },
      "text/html": [
       "<div>                            <div id=\"6dfc3101-bc7a-4ad1-b485-e2b86a2cc619\" class=\"plotly-graph-div\" style=\"height:525px; width:100%;\"></div>            <script type=\"text/javascript\">                require([\"plotly\"], function(Plotly) {                    window.PLOTLYENV=window.PLOTLYENV || {};                                    if (document.getElementById(\"6dfc3101-bc7a-4ad1-b485-e2b86a2cc619\")) {                    Plotly.newPlot(                        \"6dfc3101-bc7a-4ad1-b485-e2b86a2cc619\",                        [{\"hovertemplate\": \"<b>%{hovertext}</b><br><br>Country Name=Afghanistan<br>Year=%{x}<br>Population density (people per sq. km of land area)=%{y}<extra></extra>\", \"hovertext\": [\"Afghanistan\", \"Afghanistan\", \"Afghanistan\", \"Afghanistan\", \"Afghanistan\", \"Afghanistan\", \"Afghanistan\", \"Afghanistan\", \"Afghanistan\", \"Afghanistan\"], \"legendgroup\": \"Afghanistan\", \"line\": {\"color\": \"#636efa\", \"dash\": \"solid\"}, \"mode\": \"lines\", \"name\": \"Afghanistan\", \"showlegend\": true, \"type\": \"scattergl\", \"x\": [1962, 1967, 1972, 1977, 1982, 1987, 1992, 1997, 2002, 2007], \"xaxis\": \"x\", \"y\": [14.3120607787, 15.8818123334, 17.9470269277, 19.9989262629, 19.4023236222, 17.3665594461, 21.0544833502, 27.6232729835, 32.912230799899994, 39.637202463], \"yaxis\": \"y\"}, {\"hovertemplate\": \"<b>%{hovertext}</b><br><br>Country Name=Albania<br>Year=%{x}<br>Population density (people per sq. km of land area)=%{y}<extra></extra>\", \"hovertext\": [\"Albania\", \"Albania\", \"Albania\", \"Albania\", \"Albania\", \"Albania\", \"Albania\", \"Albania\", \"Albania\", \"Albania\"], \"legendgroup\": \"Albania\", \"line\": {\"color\": \"#EF553B\", \"dash\": \"solid\"}, \"mode\": \"lines\", \"name\": \"Albania\", \"showlegend\": true, \"type\": \"scattergl\", \"x\": [1962, 1967, 1972, 1977, 1982, 1987, 1992, 1997, 2002, 2007], \"xaxis\": \"x\", \"y\": [62.456897810200005, 71.7371532847, 81.8659124088, 91.7352554745, 101.615985401, 112.540328467, 118.505072993, 114.900766423, 111.350729927, 108.394781022], \"yaxis\": \"y\"}, {\"hovertemplate\": \"<b>%{hovertext}</b><br><br>Country Name=Algeria<br>Year=%{x}<br>Population density (people per sq. km of land area)=%{y}<extra></extra>\", \"hovertext\": [\"Algeria\", \"Algeria\", \"Algeria\", \"Algeria\", \"Algeria\", \"Algeria\", \"Algeria\", \"Algeria\", \"Algeria\", \"Algeria\"], \"legendgroup\": \"Algeria\", \"line\": {\"color\": \"#00cc96\", \"dash\": \"solid\"}, \"mode\": \"lines\", \"name\": \"Algeria\", \"showlegend\": true, \"type\": \"scattergl\", \"x\": [1962, 1967, 1972, 1977, 1982, 1987, 1992, 1997, 2002, 2007], \"xaxis\": \"x\", \"y\": [4.90824019414, 5.60690797484, 6.456244174430001, 7.427420289369999, 8.63893665975, 10.0421914231, 11.4122116604, 12.5486900333, 13.4315193934, 14.385269173], \"yaxis\": \"y\"}, {\"hovertemplate\": \"<b>%{hovertext}</b><br><br>Country Name=Angola<br>Year=%{x}<br>Population density (people per sq. km of land area)=%{y}<extra></extra>\", \"hovertext\": [\"Angola\", \"Angola\", \"Angola\", \"Angola\", \"Angola\", \"Angola\", \"Angola\", \"Angola\", \"Angola\", \"Angola\"], \"legendgroup\": \"Angola\", \"line\": {\"color\": \"#ab63fa\", \"dash\": \"solid\"}, \"mode\": \"lines\", \"name\": \"Angola\", \"showlegend\": true, \"type\": \"scattergl\", \"x\": [1962, 1967, 1972, 1977, 1982, 1987, 1992, 1997, 2002, 2007], \"xaxis\": \"x\", \"y\": [4.384298548169999, 4.782891633909999, 5.2840675383, 6.016940723509999, 7.06465950108, 8.25035052539, 9.5042680677, 11.0707211037, 12.9218705382, 15.387749258], \"yaxis\": \"y\"}, {\"hovertemplate\": \"<b>%{hovertext}</b><br><br>Country Name=Argentina<br>Year=%{x}<br>Population density (people per sq. km of land area)=%{y}<extra></extra>\", \"hovertext\": [\"Argentina\", \"Argentina\", \"Argentina\", \"Argentina\", \"Argentina\", \"Argentina\", \"Argentina\", \"Argentina\", \"Argentina\", \"Argentina\"], \"legendgroup\": \"Argentina\", \"line\": {\"color\": \"#FFA15A\", \"dash\": \"solid\"}, \"mode\": \"lines\", \"name\": \"Argentina\", \"showlegend\": true, \"type\": \"scattergl\", \"x\": [1962, 1967, 1972, 1977, 1982, 1987, 1992, 1997, 2002, 2007], \"xaxis\": \"x\", \"y\": [7.778623811980001, 8.37953915131, 9.05581194801, 9.82156071751, 10.5945463315, 11.446847469, 12.2977571446, 13.0939072383, 13.8449890196, 14.6051993467], \"yaxis\": \"y\"}, {\"hovertemplate\": \"<b>%{hovertext}</b><br><br>Country Name=Australia<br>Year=%{x}<br>Population density (people per sq. km of land area)=%{y}<extra></extra>\", \"hovertext\": [\"Australia\", \"Australia\", \"Australia\", \"Australia\", \"Australia\", \"Australia\", \"Australia\", \"Australia\", \"Australia\", \"Australia\"], \"legendgroup\": \"Australia\", \"line\": {\"color\": \"#19d3f3\", \"dash\": \"solid\"}, \"mode\": \"lines\", \"name\": \"Australia\", \"showlegend\": true, \"type\": \"scattergl\", \"x\": [1962, 1967, 1972, 1977, 1982, 1987, 1992, 1997, 2002, 2007], \"xaxis\": \"x\", \"y\": [1.3982791611899998, 1.53586816448, 1.7152415292299998, 1.84736341981, 1.97571039923, 2.11706129675, 2.2773127839300003, 2.41034585996, 2.55800997097, 2.7111151608200004], \"yaxis\": \"y\"}, {\"hovertemplate\": \"<b>%{hovertext}</b><br><br>Country Name=Austria<br>Year=%{x}<br>Population density (people per sq. km of land area)=%{y}<extra></extra>\", \"hovertext\": [\"Austria\", \"Austria\", \"Austria\", \"Austria\", \"Austria\", \"Austria\", \"Austria\", \"Austria\", \"Austria\", \"Austria\"], \"legendgroup\": \"Austria\", \"line\": {\"color\": \"#FF6692\", \"dash\": \"solid\"}, \"mode\": \"lines\", \"name\": \"Austria\", \"showlegend\": true, \"type\": \"scattergl\", \"x\": [1962, 1967, 1972, 1977, 1982, 1987, 1992, 1997, 2002, 2007], \"xaxis\": \"x\", \"y\": [86.3388713974, 89.33153305889999, 91.3562727053, 91.6496730443, 91.7188181158, 91.7242189392, 94.946827319, 96.4887503027, 97.8682126423, 100.456380634], \"yaxis\": \"y\"}, {\"hovertemplate\": \"<b>%{hovertext}</b><br><br>Country Name=Bahrain<br>Year=%{x}<br>Population density (people per sq. km of land area)=%{y}<extra></extra>\", \"hovertext\": [\"Bahrain\", \"Bahrain\", \"Bahrain\", \"Bahrain\", \"Bahrain\", \"Bahrain\", \"Bahrain\", \"Bahrain\", \"Bahrain\", \"Bahrain\"], \"legendgroup\": \"Bahrain\", \"line\": {\"color\": \"#B6E880\", \"dash\": \"solid\"}, \"mode\": \"lines\", \"name\": \"Bahrain\", \"showlegend\": true, \"type\": \"scattergl\", \"x\": [1962, 1967, 1972, 1977, 1982, 1987, 1992, 1997, 2002, 2007], \"xaxis\": \"x\", \"y\": [250.879710145, 284.352173913, 332.736231884, 439.472463768, 559.3478260869999, 650.715942029, 736.2647887319998, 842.01971831, 1021.64084507, 1368.75733333], \"yaxis\": \"y\"}, {\"hovertemplate\": \"<b>%{hovertext}</b><br><br>Country Name=Bangladesh<br>Year=%{x}<br>Population density (people per sq. km of land area)=%{y}<extra></extra>\", \"hovertext\": [\"Bangladesh\", \"Bangladesh\", \"Bangladesh\", \"Bangladesh\", \"Bangladesh\", \"Bangladesh\", \"Bangladesh\", \"Bangladesh\"], \"legendgroup\": \"Bangladesh\", \"line\": {\"color\": \"#FF97FF\", \"dash\": \"solid\"}, \"mode\": \"lines\", \"name\": \"Bangladesh\", \"showlegend\": true, \"type\": \"scattergl\", \"x\": [1972, 1977, 1982, 1987, 1992, 1997, 2002, 2007], \"xaxis\": \"x\", \"y\": [519.155611892, 575.005500499, 659.66219559, 754.008312207, 852.634700776, 949.328624107, 1046.54264423, 1126.16337866], \"yaxis\": \"y\"}, {\"hovertemplate\": \"<b>%{hovertext}</b><br><br>Country Name=Belgium<br>Year=%{x}<br>Population density (people per sq. km of land area)=%{y}<extra></extra>\", \"hovertext\": [\"Belgium\", \"Belgium\", \"Belgium\", \"Belgium\", \"Belgium\", \"Belgium\", \"Belgium\", \"Belgium\", \"Belgium\", \"Belgium\"], \"legendgroup\": \"Belgium\", \"line\": {\"color\": \"#FECB52\", \"dash\": \"solid\"}, \"mode\": \"lines\", \"name\": \"Belgium\", \"showlegend\": true, \"type\": \"scattergl\", \"x\": [1962, 1967, 1972, 1977, 1982, 1987, 1992, 1997, 2002, 2007], \"xaxis\": \"x\", \"y\": [null, null, null, null, null, null, null, null, 341.241248349, 350.914795244], \"yaxis\": \"y\"}, {\"hovertemplate\": \"<b>%{hovertext}</b><br><br>Country Name=Benin<br>Year=%{x}<br>Population density (people per sq. km of land area)=%{y}<extra></extra>\", \"hovertext\": [\"Benin\", \"Benin\", \"Benin\", \"Benin\", \"Benin\", \"Benin\", \"Benin\", \"Benin\", \"Benin\", \"Benin\"], \"legendgroup\": \"Benin\", \"line\": {\"color\": \"#636efa\", \"dash\": \"solid\"}, \"mode\": \"lines\", \"name\": \"Benin\", \"showlegend\": true, \"type\": \"scattergl\", \"x\": [1962, 1967, 1972, 1977, 1982, 1987, 1992, 1997, 2002, 2007], \"xaxis\": \"x\", \"y\": [22.1996452643, 24.2413089748, 26.9537069883, 30.4386484569, 34.864801348, 40.3169208939, 47.6962220646, 56.4145175594, 65.7568641362, 77.2227474282], \"yaxis\": \"y\"}, {\"hovertemplate\": \"<b>%{hovertext}</b><br><br>Country Name=Bolivia<br>Year=%{x}<br>Population density (people per sq. km of land area)=%{y}<extra></extra>\", \"hovertext\": [\"Bolivia\", \"Bolivia\", \"Bolivia\", \"Bolivia\", \"Bolivia\", \"Bolivia\", \"Bolivia\", \"Bolivia\", \"Bolivia\", \"Bolivia\"], \"legendgroup\": \"Bolivia\", \"line\": {\"color\": \"#EF553B\", \"dash\": \"solid\"}, \"mode\": \"lines\", \"name\": \"Bolivia\", \"showlegend\": true, \"type\": \"scattergl\", \"x\": [1962, 1967, 1972, 1977, 1982, 1987, 1992, 1997, 2002, 2007], \"xaxis\": \"x\", \"y\": [3.54296686052, 3.91131357888, 4.33683190252, 4.83123511493, 5.386491276649999, 5.96763223484, 6.583309332590001, 7.2656327887, 7.98794701375, 8.71548232253], \"yaxis\": \"y\"}, {\"hovertemplate\": \"<b>%{hovertext}</b><br><br>Country Name=Bosnia and Herzegovina<br>Year=%{x}<br>Population density (people per sq. km of land area)=%{y}<extra></extra>\", \"hovertext\": [\"Bosnia and Herzegovina\", \"Bosnia and Herzegovina\", \"Bosnia and Herzegovina\", \"Bosnia and Herzegovina\"], \"legendgroup\": \"Bosnia and Herzegovina\", \"line\": {\"color\": \"#00cc96\", \"dash\": \"solid\"}, \"mode\": \"lines\", \"name\": \"Bosnia and Herzegovina\", \"showlegend\": true, \"type\": \"scattergl\", \"x\": [1992, 1997, 2002, 2007], \"xaxis\": \"x\", \"y\": [84.0072070313, 73.8155078125, 74.3817773438, 75.0081640625], \"yaxis\": \"y\"}, {\"hovertemplate\": \"<b>%{hovertext}</b><br><br>Country Name=Botswana<br>Year=%{x}<br>Population density (people per sq. km of land area)=%{y}<extra></extra>\", \"hovertext\": [\"Botswana\", \"Botswana\", \"Botswana\", \"Botswana\", \"Botswana\", \"Botswana\", \"Botswana\", \"Botswana\"], \"legendgroup\": \"Botswana\", \"line\": {\"color\": \"#ab63fa\", \"dash\": \"solid\"}, \"mode\": \"lines\", \"name\": \"Botswana\", \"showlegend\": true, \"type\": \"scattergl\", \"x\": [1972, 1977, 1982, 1987, 1992, 1997, 2002, 2007], \"xaxis\": \"x\", \"y\": [1.3053023485600002, 1.56651844794, 1.88795722831, 2.22455137367, 2.57698198437, 2.9041095407, 3.15259823902, 3.4062622412800003], \"yaxis\": \"y\"}, {\"hovertemplate\": \"<b>%{hovertext}</b><br><br>Country Name=Brazil<br>Year=%{x}<br>Population density (people per sq. km of land area)=%{y}<extra></extra>\", \"hovertext\": [\"Brazil\", \"Brazil\", \"Brazil\", \"Brazil\", \"Brazil\", \"Brazil\", \"Brazil\", \"Brazil\", \"Brazil\", \"Brazil\"], \"legendgroup\": \"Brazil\", \"line\": {\"color\": \"#FFA15A\", \"dash\": \"solid\"}, \"mode\": \"lines\", \"name\": \"Brazil\", \"showlegend\": true, \"type\": \"scattergl\", \"x\": [1962, 1967, 1972, 1977, 1982, 1987, 1992, 1997, 2002, 2007], \"xaxis\": \"x\", \"y\": [9.21347919513, 10.6307957273, 12.0654106057, 13.6126538919, 15.320963396199998, 17.041767546400006, 18.5901419455, 20.0874638376, 21.6609906032, 23.0654811956], \"yaxis\": \"y\"}, {\"hovertemplate\": \"<b>%{hovertext}</b><br><br>Country Name=Bulgaria<br>Year=%{x}<br>Population density (people per sq. km of land area)=%{y}<extra></extra>\", \"hovertext\": [\"Bulgaria\", \"Bulgaria\", \"Bulgaria\", \"Bulgaria\", \"Bulgaria\", \"Bulgaria\", \"Bulgaria\", \"Bulgaria\", \"Bulgaria\", \"Bulgaria\"], \"legendgroup\": \"Bulgaria\", \"line\": {\"color\": \"#19d3f3\", \"dash\": \"solid\"}, \"mode\": \"lines\", \"name\": \"Bulgaria\", \"showlegend\": true, \"type\": \"scattergl\", \"x\": [1962, 1967, 1972, 1977, 1982, 1987, 1992, 1997, 2002, 2007], \"xaxis\": \"x\", \"y\": [72.430136491, 75.1172918738, 77.5214679563, 79.5822380909, 80.6061375757, 81.09336527159999, 77.1957335262, 75.1339419687, 72.0327297794, 69.4718534205], \"yaxis\": \"y\"}, {\"hovertemplate\": \"<b>%{hovertext}</b><br><br>Country Name=Burkina Faso<br>Year=%{x}<br>Population density (people per sq. km of land area)=%{y}<extra></extra>\", \"hovertext\": [\"Burkina Faso\", \"Burkina Faso\", \"Burkina Faso\", \"Burkina Faso\", \"Burkina Faso\", \"Burkina Faso\", \"Burkina Faso\", \"Burkina Faso\", \"Burkina Faso\", \"Burkina Faso\"], \"legendgroup\": \"Burkina Faso\", \"line\": {\"color\": \"#FF6692\", \"dash\": \"solid\"}, \"mode\": \"lines\", \"name\": \"Burkina Faso\", \"showlegend\": true, \"type\": \"scattergl\", \"x\": [1962, 1967, 1972, 1977, 1982, 1987, 1992, 1997, 2002, 2007], \"xaxis\": \"x\", \"y\": [18.1298428363, 19.5285818713, 21.2908296784, 23.3879276316, 26.1632163743, 29.7517397661, 33.980687134499995, 38.9831176901, 44.9231871345, 52.1345102339], \"yaxis\": \"y\"}, {\"hovertemplate\": \"<b>%{hovertext}</b><br><br>Country Name=Burundi<br>Year=%{x}<br>Population density (people per sq. km of land area)=%{y}<extra></extra>\", \"hovertext\": [\"Burundi\", \"Burundi\", \"Burundi\", \"Burundi\", \"Burundi\", \"Burundi\", \"Burundi\", \"Burundi\", \"Burundi\", \"Burundi\"], \"legendgroup\": \"Burundi\", \"line\": {\"color\": \"#B6E880\", \"dash\": \"solid\"}, \"mode\": \"lines\", \"name\": \"Burundi\", \"showlegend\": true, \"type\": \"scattergl\", \"x\": [1962, 1967, 1972, 1977, 1982, 1987, 1992, 1997, 2002, 2007], \"xaxis\": \"x\", \"y\": [112.714563863, 125.97838785, 138.136098131, 148.967445483, 169.747741433, 198.932281931, 229.561176012, 250.015459502, 278.813006231, 331.564563863], \"yaxis\": \"y\"}, {\"hovertemplate\": \"<b>%{hovertext}</b><br><br>Country Name=Cambodia<br>Year=%{x}<br>Population density (people per sq. km of land area)=%{y}<extra></extra>\", \"hovertext\": [\"Cambodia\", \"Cambodia\", \"Cambodia\", \"Cambodia\", \"Cambodia\", \"Cambodia\", \"Cambodia\", \"Cambodia\", \"Cambodia\", \"Cambodia\"], \"legendgroup\": \"Cambodia\", \"line\": {\"color\": \"#FF97FF\", \"dash\": \"solid\"}, \"mode\": \"lines\", \"name\": \"Cambodia\", \"showlegend\": true, \"type\": \"scattergl\", \"x\": [1962, 1967, 1972, 1977, 1982, 1987, 1992, 1997, 2002, 2007], \"xaxis\": \"x\", \"y\": [34.1417176524, 37.9303195105, 41.531622479, 40.9134942216, 39.3442839338, 46.613800136, 54.7203602991, 64.2348345797, 71.8444595513, 77.77418989350001], \"yaxis\": \"y\"}, {\"hovertemplate\": \"<b>%{hovertext}</b><br><br>Country Name=Cameroon<br>Year=%{x}<br>Population density (people per sq. km of land area)=%{y}<extra></extra>\", \"hovertext\": [\"Cameroon\", \"Cameroon\", \"Cameroon\", \"Cameroon\", \"Cameroon\", \"Cameroon\", \"Cameroon\", \"Cameroon\", \"Cameroon\", \"Cameroon\"], \"legendgroup\": \"Cameroon\", \"line\": {\"color\": \"#FECB52\", \"dash\": \"solid\"}, \"mode\": \"lines\", \"name\": \"Cameroon\", \"showlegend\": true, \"type\": \"scattergl\", \"x\": [1962, 1967, 1972, 1977, 1982, 1987, 1992, 1997, 2002, 2007], \"xaxis\": \"x\", \"y\": [11.833403143599998, 13.28667259, 15.0924964566, 17.3210636542, 20.055928582, 23.3367498043, 27.0710139409, 31.1183622094, 35.496253517, 40.3589938863], \"yaxis\": \"y\"}, {\"hovertemplate\": \"<b>%{hovertext}</b><br><br>Country Name=Canada<br>Year=%{x}<br>Population density (people per sq. km of land area)=%{y}<extra></extra>\", \"hovertext\": [\"Canada\", \"Canada\", \"Canada\", \"Canada\", \"Canada\", \"Canada\", \"Canada\", \"Canada\", \"Canada\", \"Canada\"], \"legendgroup\": \"Canada\", \"line\": {\"color\": \"#636efa\", \"dash\": \"solid\"}, \"mode\": \"lines\", \"name\": \"Canada\", \"showlegend\": true, \"type\": \"scattergl\", \"x\": [1962, 1967, 1972, 1977, 1982, 1987, 1992, 1997, 2002, 2007], \"xaxis\": \"x\", \"y\": [2.04695436636, 2.24467779768, 2.41860744641, 2.61681133028, 2.7714270947099995, 2.91966468393, 3.13625838648, 3.29764854275, 3.4488332888, 3.61663736005], \"yaxis\": \"y\"}, {\"hovertemplate\": \"<b>%{hovertext}</b><br><br>Country Name=Central African Republic<br>Year=%{x}<br>Population density (people per sq. km of land area)=%{y}<extra></extra>\", \"hovertext\": [\"Central African Republic\", \"Central African Republic\", \"Central African Republic\", \"Central African Republic\", \"Central African Republic\", \"Central African Republic\", \"Central African Republic\", \"Central African Republic\", \"Central African Republic\", \"Central African Republic\"], \"legendgroup\": \"Central African Republic\", \"line\": {\"color\": \"#EF553B\", \"dash\": \"solid\"}, \"mode\": \"lines\", \"name\": \"Central African Republic\", \"showlegend\": true, \"type\": \"scattergl\", \"x\": [1962, 1967, 1972, 1977, 1982, 1987, 1992, 1997, 2002, 2007], \"xaxis\": \"x\", \"y\": [2.49872548075, 2.75860862307, 3.0509839802200003, 3.3844055989, 3.87122058493, 4.41613374426, 4.95865196314, 5.61480304344, 6.195678833990001, 6.74516677903], \"yaxis\": \"y\"}, {\"hovertemplate\": \"<b>%{hovertext}</b><br><br>Country Name=Chad<br>Year=%{x}<br>Population density (people per sq. km of land area)=%{y}<extra></extra>\", \"hovertext\": [\"Chad\", \"Chad\", \"Chad\", \"Chad\", \"Chad\", \"Chad\", \"Chad\", \"Chad\", \"Chad\", \"Chad\"], \"legendgroup\": \"Chad\", \"line\": {\"color\": \"#00cc96\", \"dash\": \"solid\"}, \"mode\": \"lines\", \"name\": \"Chad\", \"showlegend\": true, \"type\": \"scattergl\", \"x\": [1962, 1967, 1972, 1977, 1982, 1987, 1992, 1997, 2002, 2007], \"xaxis\": \"x\", \"y\": [2.47806111111, 2.72716428571, 3.02880873016, 3.3789469504400005, 3.7452930432, 4.29580289072, 5.043022553999999, 5.951511277000001, 7.149064485389999, 8.56059720457], \"yaxis\": \"y\"}, {\"hovertemplate\": \"<b>%{hovertext}</b><br><br>Country Name=Chile<br>Year=%{x}<br>Population density (people per sq. km of land area)=%{y}<extra></extra>\", \"hovertext\": [\"Chile\", \"Chile\", \"Chile\", \"Chile\", \"Chile\", \"Chile\", \"Chile\", \"Chile\", \"Chile\", \"Chile\"], \"legendgroup\": \"Chile\", \"line\": {\"color\": \"#ab63fa\", \"dash\": \"solid\"}, \"mode\": \"lines\", \"name\": \"Chile\", \"showlegend\": true, \"type\": \"scattergl\", \"x\": [1962, 1967, 1972, 1977, 1982, 1987, 1992, 1997, 2002, 2007], \"xaxis\": \"x\", \"y\": [10.8323058053, 12.098215006199998, 13.3370964531, 14.4530807013, 15.5597001878, 16.821721190199998, 18.2466148061, 19.6280321493, 20.9063685221, 22.1412138281], \"yaxis\": \"y\"}, {\"hovertemplate\": \"<b>%{hovertext}</b><br><br>Country Name=China<br>Year=%{x}<br>Population density (people per sq. km of land area)=%{y}<extra></extra>\", \"hovertext\": [\"China\", \"China\", \"China\", \"China\", \"China\", \"China\", \"China\", \"China\", \"China\", \"China\"], \"legendgroup\": \"China\", \"line\": {\"color\": \"#FFA15A\", \"dash\": \"solid\"}, \"mode\": \"lines\", \"name\": \"China\", \"showlegend\": true, \"type\": \"scattergl\", \"x\": [1962, 1967, 1972, 1977, 1982, 1987, 1992, 1997, 2002, 2007], \"xaxis\": \"x\", \"y\": [70.9152397944, 80.3717412723, 91.8200942668, 100.493169654, 107.435358027, 115.467206348, 124.088088834, 131.023100201, 136.38377961, 140.37658805], \"yaxis\": \"y\"}, {\"hovertemplate\": \"<b>%{hovertext}</b><br><br>Country Name=Colombia<br>Year=%{x}<br>Population density (people per sq. km of land area)=%{y}<extra></extra>\", \"hovertext\": [\"Colombia\", \"Colombia\", \"Colombia\", \"Colombia\", \"Colombia\", \"Colombia\", \"Colombia\", \"Colombia\", \"Colombia\", \"Colombia\"], \"legendgroup\": \"Colombia\", \"line\": {\"color\": \"#19d3f3\", \"dash\": \"solid\"}, \"mode\": \"lines\", \"name\": \"Colombia\", \"showlegend\": true, \"type\": \"scattergl\", \"x\": [1962, 1967, 1972, 1977, 1982, 1987, 1992, 1997, 2002, 2007], \"xaxis\": \"x\", \"y\": [15.7730202794, 18.3067769265, 20.8623731411, 23.348466877, 26.162377647600003, 29.134137899999995, 32.0492861649, 34.8313735917, 37.4695745831, 39.9951753042], \"yaxis\": \"y\"}, {\"hovertemplate\": \"<b>%{hovertext}</b><br><br>Country Name=Comoros<br>Year=%{x}<br>Population density (people per sq. km of land area)=%{y}<extra></extra>\", \"hovertext\": [\"Comoros\", \"Comoros\", \"Comoros\", \"Comoros\", \"Comoros\", \"Comoros\", \"Comoros\", \"Comoros\", \"Comoros\", \"Comoros\"], \"legendgroup\": \"Comoros\", \"line\": {\"color\": \"#FF6692\", \"dash\": \"solid\"}, \"mode\": \"lines\", \"name\": \"Comoros\", \"showlegend\": true, \"type\": \"scattergl\", \"x\": [1962, 1967, 1972, 1977, 1982, 1987, 1992, 1997, 2002, 2007], \"xaxis\": \"x\", \"y\": [104.760881247, 115.012358947, 127.779150994, 148.036539495, 176.440085975, 203.970445997, 236.567436862, 272.178936056, 309.203653949, 348.954325631], \"yaxis\": \"y\"}, {\"hovertemplate\": \"<b>%{hovertext}</b><br><br>Country Name=Costa Rica<br>Year=%{x}<br>Population density (people per sq. km of land area)=%{y}<extra></extra>\", \"hovertext\": [\"Costa Rica\", \"Costa Rica\", \"Costa Rica\", \"Costa Rica\", \"Costa Rica\", \"Costa Rica\", \"Costa Rica\", \"Costa Rica\", \"Costa Rica\", \"Costa Rica\"], \"legendgroup\": \"Costa Rica\", \"line\": {\"color\": \"#B6E880\", \"dash\": \"solid\"}, \"mode\": \"lines\", \"name\": \"Costa Rica\", \"showlegend\": true, \"type\": \"scattergl\", \"x\": [1962, 1967, 1972, 1977, 1982, 1987, 1992, 1997, 2002, 2007], \"xaxis\": \"x\", \"y\": [28.0568546808, 33.1905797101, 38.1325499412, 43.2378965922, 49.3764786526, 56.2517430474, 63.7967685076, 72.125440658, 79.577124951, 85.5751077164], \"yaxis\": \"y\"}, {\"hovertemplate\": \"<b>%{hovertext}</b><br><br>Country Name=Cote d'Ivoire<br>Year=%{x}<br>Population density (people per sq. km of land area)=%{y}<extra></extra>\", \"hovertext\": [\"Cote d'Ivoire\", \"Cote d'Ivoire\", \"Cote d'Ivoire\", \"Cote d'Ivoire\", \"Cote d'Ivoire\", \"Cote d'Ivoire\", \"Cote d'Ivoire\", \"Cote d'Ivoire\", \"Cote d'Ivoire\", \"Cote d'Ivoire\"], \"legendgroup\": \"Cote d'Ivoire\", \"line\": {\"color\": \"#FF97FF\", \"dash\": \"solid\"}, \"mode\": \"lines\", \"name\": \"Cote d'Ivoire\", \"showlegend\": true, \"type\": \"scattergl\", \"x\": [1962, 1967, 1972, 1977, 1982, 1987, 1992, 1997, 2002, 2007], \"xaxis\": \"x\", \"y\": [11.7625880503, 14.4378553459, 18.0743176101, 22.7592798742, 28.3094339623, 34.402474842800004, 41.028009434, 48.1018553459, 54.0422044025, 59.3150062893], \"yaxis\": \"y\"}, {\"hovertemplate\": \"<b>%{hovertext}</b><br><br>Country Name=Croatia<br>Year=%{x}<br>Population density (people per sq. km of land area)=%{y}<extra></extra>\", \"hovertext\": [\"Croatia\", \"Croatia\", \"Croatia\", \"Croatia\"], \"legendgroup\": \"Croatia\", \"line\": {\"color\": \"#FECB52\", \"dash\": \"solid\"}, \"mode\": \"lines\", \"name\": \"Croatia\", \"showlegend\": true, \"type\": \"scattergl\", \"x\": [1992, 1997, 2002, 2007], \"xaxis\": \"x\", \"y\": [79.9499195135, 81.6720257235, 79.4133428725, 79.2709077913], \"yaxis\": \"y\"}, {\"hovertemplate\": \"<b>%{hovertext}</b><br><br>Country Name=Cuba<br>Year=%{x}<br>Population density (people per sq. km of land area)=%{y}<extra></extra>\", \"hovertext\": [\"Cuba\", \"Cuba\", \"Cuba\", \"Cuba\", \"Cuba\", \"Cuba\", \"Cuba\", \"Cuba\", \"Cuba\", \"Cuba\"], \"legendgroup\": \"Cuba\", \"line\": {\"color\": \"#636efa\", \"dash\": \"solid\"}, \"mode\": \"lines\", \"name\": \"Cuba\", \"showlegend\": true, \"type\": \"scattergl\", \"x\": [1962, 1967, 1972, 1977, 1982, 1987, 1992, 1997, 2002, 2007], \"xaxis\": \"x\", \"y\": [69.3706145251, 76.9417783985, 84.0344413408, 89.7083519553, 92.4172998138, 95.6170949721, 99.9606610801, 102.424869646, 105.127737569, 106.013181135], \"yaxis\": \"y\"}, {\"hovertemplate\": \"<b>%{hovertext}</b><br><br>Country Name=Czech Republic<br>Year=%{x}<br>Population density (people per sq. km of land area)=%{y}<extra></extra>\", \"hovertext\": [\"Czech Republic\", \"Czech Republic\", \"Czech Republic\", \"Czech Republic\"], \"legendgroup\": \"Czech Republic\", \"line\": {\"color\": \"#EF553B\", \"dash\": \"solid\"}, \"mode\": \"lines\", \"name\": \"Czech Republic\", \"showlegend\": true, \"type\": \"scattergl\", \"x\": [1992, 1997, 2002, 2007], \"xaxis\": \"x\", \"y\": [133.546305164, 133.35228419799998, 131.964746991, 133.318161812], \"yaxis\": \"y\"}, {\"hovertemplate\": \"<b>%{hovertext}</b><br><br>Country Name=Denmark<br>Year=%{x}<br>Population density (people per sq. km of land area)=%{y}<extra></extra>\", \"hovertext\": [\"Denmark\", \"Denmark\", \"Denmark\", \"Denmark\", \"Denmark\", \"Denmark\", \"Denmark\", \"Denmark\", \"Denmark\", \"Denmark\"], \"legendgroup\": \"Denmark\", \"line\": {\"color\": \"#00cc96\", \"dash\": \"solid\"}, \"mode\": \"lines\", \"name\": \"Denmark\", \"showlegend\": true, \"type\": \"scattergl\", \"x\": [1962, 1967, 1972, 1977, 1982, 1987, 1992, 1997, 2002, 2007], \"xaxis\": \"x\", \"y\": [109.69381638, 114.122114704, 117.809676658, 120.09485485, 120.760028315, 120.948903043, 121.880037709, 124.557883573, 126.701178412, 128.716427056], \"yaxis\": \"y\"}, {\"hovertemplate\": \"<b>%{hovertext}</b><br><br>Country Name=Djibouti<br>Year=%{x}<br>Population density (people per sq. km of land area)=%{y}<extra></extra>\", \"hovertext\": [\"Djibouti\", \"Djibouti\", \"Djibouti\", \"Djibouti\", \"Djibouti\", \"Djibouti\", \"Djibouti\", \"Djibouti\", \"Djibouti\", \"Djibouti\"], \"legendgroup\": \"Djibouti\", \"line\": {\"color\": \"#ab63fa\", \"dash\": \"solid\"}, \"mode\": \"lines\", \"name\": \"Djibouti\", \"showlegend\": true, \"type\": \"scattergl\", \"x\": [1962, 1967, 1972, 1977, 1982, 1987, 1992, 1997, 2002, 2007], \"xaxis\": \"x\", \"y\": [4.06384814495, 5.668809318380001, 7.73132010354, 11.9767903365, 16.598058671300002, 20.9475841242, 27.0518981881, 29.579119931, 32.1595772217, 34.482700604], \"yaxis\": \"y\"}, {\"hovertemplate\": \"<b>%{hovertext}</b><br><br>Country Name=Dominican Republic<br>Year=%{x}<br>Population density (people per sq. km of land area)=%{y}<extra></extra>\", \"hovertext\": [\"Dominican Republic\", \"Dominican Republic\", \"Dominican Republic\", \"Dominican Republic\", \"Dominican Republic\", \"Dominican Republic\", \"Dominican Republic\", \"Dominican Republic\", \"Dominican Republic\", \"Dominican Republic\"], \"legendgroup\": \"Dominican Republic\", \"line\": {\"color\": \"#FFA15A\", \"dash\": \"solid\"}, \"mode\": \"lines\", \"name\": \"Dominican Republic\", \"showlegend\": true, \"type\": \"scattergl\", \"x\": [1962, 1967, 1972, 1977, 1982, 1987, 1992, 1997, 2002, 2007], \"xaxis\": \"x\", \"y\": [72.88917408399999, 85.3882632995, 98.5289795073, 112.023742496, 125.829352101, 140.02531567, 154.596377562, 168.981039122, 182.825212171, 196.736410681], \"yaxis\": \"y\"}, {\"hovertemplate\": \"<b>%{hovertext}</b><br><br>Country Name=Ecuador<br>Year=%{x}<br>Population density (people per sq. km of land area)=%{y}<extra></extra>\", \"hovertext\": [\"Ecuador\", \"Ecuador\", \"Ecuador\", \"Ecuador\", \"Ecuador\", \"Ecuador\", \"Ecuador\", \"Ecuador\", \"Ecuador\", \"Ecuador\"], \"legendgroup\": \"Ecuador\", \"line\": {\"color\": \"#19d3f3\", \"dash\": \"solid\"}, \"mode\": \"lines\", \"name\": \"Ecuador\", \"showlegend\": true, \"type\": \"scattergl\", \"x\": [1962, 1967, 1972, 1977, 1982, 1987, 1992, 1997, 2002, 2007], \"xaxis\": \"x\", \"y\": [17.3851033088, 20.1056819824, 23.2217418003, 26.6371730964, 30.3169159081, 34.3307758994, 38.6709651784, 43.075390117, 52.6334997584, 57.1971291673], \"yaxis\": \"y\"}, {\"hovertemplate\": \"<b>%{hovertext}</b><br><br>Country Name=El Salvador<br>Year=%{x}<br>Population density (people per sq. km of land area)=%{y}<extra></extra>\", \"hovertext\": [\"El Salvador\", \"El Salvador\", \"El Salvador\", \"El Salvador\", \"El Salvador\", \"El Salvador\", \"El Salvador\", \"El Salvador\", \"El Salvador\", \"El Salvador\"], \"legendgroup\": \"El Salvador\", \"line\": {\"color\": \"#FF6692\", \"dash\": \"solid\"}, \"mode\": \"lines\", \"name\": \"El Salvador\", \"showlegend\": true, \"type\": \"scattergl\", \"x\": [1962, 1967, 1972, 1977, 1982, 1987, 1992, 1997, 2002, 2007], \"xaxis\": \"x\", \"y\": [140.42498801, 162.28652278200002, 185.234148681, 208.919739382, 227.908880309, 243.816843629, 260.23851351400003, 274.724903475, 283.508735521, 288.919594595], \"yaxis\": \"y\"}, {\"hovertemplate\": \"<b>%{hovertext}</b><br><br>Country Name=Equatorial Guinea<br>Year=%{x}<br>Population density (people per sq. km of land area)=%{y}<extra></extra>\", \"hovertext\": [\"Equatorial Guinea\", \"Equatorial Guinea\", \"Equatorial Guinea\", \"Equatorial Guinea\", \"Equatorial Guinea\", \"Equatorial Guinea\", \"Equatorial Guinea\", \"Equatorial Guinea\", \"Equatorial Guinea\", \"Equatorial Guinea\"], \"legendgroup\": \"Equatorial Guinea\", \"line\": {\"color\": \"#B6E880\", \"dash\": \"solid\"}, \"mode\": \"lines\", \"name\": \"Equatorial Guinea\", \"showlegend\": true, \"type\": \"scattergl\", \"x\": [1962, 1967, 1972, 1977, 1982, 1987, 1992, 1997, 2002, 2007], \"xaxis\": \"x\", \"y\": [9.19572192513, 10.0693404635, 9.80057040998, 7.855686274510001, 8.95903743316, 12.2385026738, 14.4057397504, 17.1064527629, 20.2375757576, 23.736114082], \"yaxis\": \"y\"}, {\"hovertemplate\": \"<b>%{hovertext}</b><br><br>Country Name=Eritrea<br>Year=%{x}<br>Population density (people per sq. km of land area)=%{y}<extra></extra>\", \"hovertext\": [\"Eritrea\", \"Eritrea\", \"Eritrea\"], \"legendgroup\": \"Eritrea\", \"line\": {\"color\": \"#FF97FF\", \"dash\": \"solid\"}, \"mode\": \"lines\", \"name\": \"Eritrea\", \"showlegend\": true, \"type\": \"scattergl\", \"x\": [1997, 2002, 2007], \"xaxis\": \"x\", \"y\": [32.2832871287, 37.5102178218, 43.62672277229999], \"yaxis\": \"y\"}, {\"hovertemplate\": \"<b>%{hovertext}</b><br><br>Country Name=Ethiopia<br>Year=%{x}<br>Population density (people per sq. km of land area)=%{y}<extra></extra>\", \"hovertext\": [\"Ethiopia\", \"Ethiopia\", \"Ethiopia\", \"Ethiopia\", \"Ethiopia\", \"Ethiopia\", \"Ethiopia\", \"Ethiopia\", \"Ethiopia\", \"Ethiopia\"], \"legendgroup\": \"Ethiopia\", \"line\": {\"color\": \"#FECB52\", \"dash\": \"solid\"}, \"mode\": \"lines\", \"name\": \"Ethiopia\", \"showlegend\": true, \"type\": \"scattergl\", \"x\": [1962, 1967, 1972, 1977, 1982, 1987, 1992, 1997, 2002, 2007], \"xaxis\": \"x\", \"y\": [21.0911271571, 23.8699100817, 27.3705785649, 30.5305658492, 33.705283378699995, 39.4824877384, 46.8690063579, 60.893264, 70.39116999999997, 80.891968], \"yaxis\": \"y\"}, {\"hovertemplate\": \"<b>%{hovertext}</b><br><br>Country Name=Finland<br>Year=%{x}<br>Population density (people per sq. km of land area)=%{y}<extra></extra>\", \"hovertext\": [\"Finland\", \"Finland\", \"Finland\", \"Finland\", \"Finland\", \"Finland\", \"Finland\", \"Finland\", \"Finland\", \"Finland\"], \"legendgroup\": \"Finland\", \"line\": {\"color\": \"#636efa\", \"dash\": \"solid\"}, \"mode\": \"lines\", \"name\": \"Finland\", \"showlegend\": true, \"type\": \"scattergl\", \"x\": [1962, 1967, 1972, 1977, 1982, 1987, 1992, 1997, 2002, 2007], \"xaxis\": \"x\", \"y\": [14.7458649332, 15.1211267606, 15.2324665944, 15.55829804, 15.8473127811, 16.1926622673, 16.5533733872, 16.874601923900002, 17.0740930431, 17.391956328699994], \"yaxis\": \"y\"}, {\"hovertemplate\": \"<b>%{hovertext}</b><br><br>Country Name=France<br>Year=%{x}<br>Population density (people per sq. km of land area)=%{y}<extra></extra>\", \"hovertext\": [\"France\", \"France\", \"France\", \"France\", \"France\", \"France\", \"France\", \"France\", \"France\", \"France\"], \"legendgroup\": \"France\", \"line\": {\"color\": \"#EF553B\", \"dash\": \"solid\"}, \"mode\": \"lines\", \"name\": \"France\", \"showlegend\": true, \"type\": \"scattergl\", \"x\": [1962, 1967, 1972, 1977, 1982, 1987, 1992, 1997, 2002, 2007], \"xaxis\": \"x\", \"y\": [87.87917620889999, 92.985057509, 96.7175244628, 100.014358087, 102.012774716, 104.978378862, 107.477849246, 109.511629648, 112.87251971, 116.912447471], \"yaxis\": \"y\"}, {\"hovertemplate\": \"<b>%{hovertext}</b><br><br>Country Name=Gabon<br>Year=%{x}<br>Population density (people per sq. km of land area)=%{y}<extra></extra>\", \"hovertext\": [\"Gabon\", \"Gabon\", \"Gabon\", \"Gabon\", \"Gabon\", \"Gabon\", \"Gabon\", \"Gabon\", \"Gabon\", \"Gabon\"], \"legendgroup\": \"Gabon\", \"line\": {\"color\": \"#00cc96\", \"dash\": \"solid\"}, \"mode\": \"lines\", \"name\": \"Gabon\", \"showlegend\": true, \"type\": \"scattergl\", \"x\": [1962, 1967, 1972, 1977, 1982, 1987, 1992, 1997, 2002, 2007], \"xaxis\": \"x\", \"y\": [1.97852291691, 2.14937322932, 2.37951255482, 2.63432297124, 2.9761594287299995, 3.4031008654500003, 3.89877750611, 4.43915861373, 5.00326774557, 5.5920440874], \"yaxis\": \"y\"}, {\"hovertemplate\": \"<b>%{hovertext}</b><br><br>Country Name=Germany<br>Year=%{x}<br>Population density (people per sq. km of land area)=%{y}<extra></extra>\", \"hovertext\": [\"Germany\", \"Germany\", \"Germany\", \"Germany\"], \"legendgroup\": \"Germany\", \"line\": {\"color\": \"#ab63fa\", \"dash\": \"solid\"}, \"mode\": \"lines\", \"name\": \"Germany\", \"showlegend\": true, \"type\": \"scattergl\", \"x\": [1992, 1997, 2002, 2007], \"xaxis\": \"x\", \"y\": [230.930020336, 235.022979516, 236.451570831, 235.943361918], \"yaxis\": \"y\"}, {\"hovertemplate\": \"<b>%{hovertext}</b><br><br>Country Name=Ghana<br>Year=%{x}<br>Population density (people per sq. km of land area)=%{y}<extra></extra>\", \"hovertext\": [\"Ghana\", \"Ghana\", \"Ghana\", \"Ghana\", \"Ghana\", \"Ghana\", \"Ghana\", \"Ghana\", \"Ghana\", \"Ghana\"], \"legendgroup\": \"Ghana\", \"line\": {\"color\": \"#FFA15A\", \"dash\": \"solid\"}, \"mode\": \"lines\", \"name\": \"Ghana\", \"showlegend\": true, \"type\": \"scattergl\", \"x\": [1962, 1967, 1972, 1977, 1982, 1987, 1992, 1997, 2002, 2007], \"xaxis\": \"x\", \"y\": [31.1394172453, 35.4111013448, 39.920783159, 44.782846972, 50.4883185374, 59.2440054496, 67.9947569658, 77.210965105, 86.9657247077, 99.0069482289], \"yaxis\": \"y\"}, {\"hovertemplate\": \"<b>%{hovertext}</b><br><br>Country Name=Greece<br>Year=%{x}<br>Population density (people per sq. km of land area)=%{y}<extra></extra>\", \"hovertext\": [\"Greece\", \"Greece\", \"Greece\", \"Greece\", \"Greece\", \"Greece\", \"Greece\", \"Greece\", \"Greece\", \"Greece\"], \"legendgroup\": \"Greece\", \"line\": {\"color\": \"#19d3f3\", \"dash\": \"solid\"}, \"mode\": \"lines\", \"name\": \"Greece\", \"showlegend\": true, \"type\": \"scattergl\", \"x\": [1962, 1967, 1972, 1977, 1982, 1987, 1992, 1997, 2002, 2007], \"xaxis\": \"x\", \"y\": [65.5409852599, 67.3707370054, 68.9575484872, 72.2147323507, 75.9465709853, 77.5841349884, 80.6754150504, 82.7095345229, 84.5773622964, 85.7135221102], \"yaxis\": \"y\"}, {\"hovertemplate\": \"<b>%{hovertext}</b><br><br>Country Name=Guatemala<br>Year=%{x}<br>Population density (people per sq. km of land area)=%{y}<extra></extra>\", \"hovertext\": [\"Guatemala\", \"Guatemala\", \"Guatemala\", \"Guatemala\", \"Guatemala\", \"Guatemala\", \"Guatemala\", \"Guatemala\", \"Guatemala\", \"Guatemala\"], \"legendgroup\": \"Guatemala\", \"line\": {\"color\": \"#FF6692\", \"dash\": \"solid\"}, \"mode\": \"lines\", \"name\": \"Guatemala\", \"showlegend\": true, \"type\": \"scattergl\", \"x\": [1962, 1967, 1972, 1977, 1982, 1987, 1992, 1997, 2002, 2007], \"xaxis\": \"x\", \"y\": [40.6548992161, 46.5948488242, 53.5434863755, 61.4008025383, 70.0649589399, 79.5425998507, 89.76402575590002, 101.453770063, 114.522284434, 128.757269504], \"yaxis\": \"y\"}, {\"hovertemplate\": \"<b>%{hovertext}</b><br><br>Country Name=Guinea<br>Year=%{x}<br>Population density (people per sq. km of land area)=%{y}<extra></extra>\", \"hovertext\": [\"Guinea\", \"Guinea\", \"Guinea\", \"Guinea\", \"Guinea\", \"Guinea\", \"Guinea\", \"Guinea\", \"Guinea\", \"Guinea\"], \"legendgroup\": \"Guinea\", \"line\": {\"color\": \"#B6E880\", \"dash\": \"solid\"}, \"mode\": \"lines\", \"name\": \"Guinea\", \"showlegend\": true, \"type\": \"scattergl\", \"x\": [1962, 1967, 1972, 1977, 1982, 1987, 1992, 1997, 2002, 2007], \"xaxis\": \"x\", \"y\": [15.0209995116, 16.3677356341, 17.4719518151, 17.8803149927, 19.0663845027, 21.8747273319, 27.4759645125, 33.9059335829, 37.0921658799, 41.3174385479], \"yaxis\": \"y\"}, {\"hovertemplate\": \"<b>%{hovertext}</b><br><br>Country Name=Guinea-Bissau<br>Year=%{x}<br>Population density (people per sq. km of land area)=%{y}<extra></extra>\", \"hovertext\": [\"Guinea-Bissau\", \"Guinea-Bissau\", \"Guinea-Bissau\", \"Guinea-Bissau\", \"Guinea-Bissau\", \"Guinea-Bissau\", \"Guinea-Bissau\", \"Guinea-Bissau\", \"Guinea-Bissau\", \"Guinea-Bissau\"], \"legendgroup\": \"Guinea-Bissau\", \"line\": {\"color\": \"#FF97FF\", \"dash\": \"solid\"}, \"mode\": \"lines\", \"name\": \"Guinea-Bissau\", \"showlegend\": true, \"type\": \"scattergl\", \"x\": [1962, 1967, 1972, 1977, 1982, 1987, 1992, 1997, 2002, 2007], \"xaxis\": \"x\", \"y\": [22.4030227596, 23.9649004267, 26.248826458000003, 28.6444167852, 31.4781650071, 35.1251066856, 39.2854907539, 43.86628734, 48.8039473684, 54.3151493599], \"yaxis\": \"y\"}, {\"hovertemplate\": \"<b>%{hovertext}</b><br><br>Country Name=Haiti<br>Year=%{x}<br>Population density (people per sq. km of land area)=%{y}<extra></extra>\", \"hovertext\": [\"Haiti\", \"Haiti\", \"Haiti\", \"Haiti\", \"Haiti\", \"Haiti\", \"Haiti\", \"Haiti\", \"Haiti\", \"Haiti\"], \"legendgroup\": \"Haiti\", \"line\": {\"color\": \"#FECB52\", \"dash\": \"solid\"}, \"mode\": \"lines\", \"name\": \"Haiti\", \"showlegend\": true, \"type\": \"scattergl\", \"x\": [1962, 1967, 1972, 1977, 1982, 1987, 1992, 1997, 2002, 2007], \"xaxis\": \"x\", \"y\": [145.95776487700002, 161.30373730000005, 176.943323657, 193.810522496, 216.083635704, 242.037953556, 268.032438316, 294.337953556, 320.563824383, 346.7691582], \"yaxis\": \"y\"}, {\"hovertemplate\": \"<b>%{hovertext}</b><br><br>Country Name=Honduras<br>Year=%{x}<br>Population density (people per sq. km of land area)=%{y}<extra></extra>\", \"hovertext\": [\"Honduras\", \"Honduras\", \"Honduras\", \"Honduras\", \"Honduras\", \"Honduras\", \"Honduras\", \"Honduras\", \"Honduras\", \"Honduras\"], \"legendgroup\": \"Honduras\", \"line\": {\"color\": \"#636efa\", \"dash\": \"solid\"}, \"mode\": \"lines\", \"name\": \"Honduras\", \"showlegend\": true, \"type\": \"scattergl\", \"x\": [1962, 1967, 1972, 1977, 1982, 1987, 1992, 1997, 2002, 2007], \"xaxis\": \"x\", \"y\": [19.1188488694, 22.2208240236, 25.4290821342, 29.5557064975, 34.5723120922, 40.199079453, 46.2915095183, 52.3366341943, 58.083841272700006, 63.7566985432], \"yaxis\": \"y\"}, {\"hovertemplate\": \"<b>%{hovertext}</b><br><br>Country Name=Hungary<br>Year=%{x}<br>Population density (people per sq. km of land area)=%{y}<extra></extra>\", \"hovertext\": [\"Hungary\", \"Hungary\", \"Hungary\", \"Hungary\", \"Hungary\", \"Hungary\", \"Hungary\", \"Hungary\", \"Hungary\", \"Hungary\"], \"legendgroup\": \"Hungary\", \"line\": {\"color\": \"#EF553B\", \"dash\": \"solid\"}, \"mode\": \"lines\", \"name\": \"Hungary\", \"showlegend\": true, \"type\": \"scattergl\", \"x\": [1962, 1967, 1972, 1977, 1982, 1987, 1992, 1997, 2002, 2007], \"xaxis\": \"x\", \"y\": [111.772206176, 113.517822222, 115.577292431, 118.364061805, 119.095950606, 118.076780151, 115.381562257, 114.593385301, 113.352019638, 112.217163263], \"yaxis\": \"y\"}, {\"hovertemplate\": \"<b>%{hovertext}</b><br><br>Country Name=Iceland<br>Year=%{x}<br>Population density (people per sq. km of land area)=%{y}<extra></extra>\", \"hovertext\": [\"Iceland\", \"Iceland\", \"Iceland\", \"Iceland\", \"Iceland\", \"Iceland\", \"Iceland\", \"Iceland\", \"Iceland\", \"Iceland\"], \"legendgroup\": \"Iceland\", \"line\": {\"color\": \"#00cc96\", \"dash\": \"solid\"}, \"mode\": \"lines\", \"name\": \"Iceland\", \"showlegend\": true, \"type\": \"scattergl\", \"x\": [1962, 1967, 1972, 1977, 1982, 1987, 1992, 1997, 2002, 2007], \"xaxis\": \"x\", \"y\": [1.8192319202, 1.98255361596, 2.08615461347, 2.21245885287, 2.3327680798, 2.45245885287, 2.60405985037, 2.70451870324, 2.86805985037, 3.10789027431], \"yaxis\": \"y\"}, {\"hovertemplate\": \"<b>%{hovertext}</b><br><br>Country Name=India<br>Year=%{x}<br>Population density (people per sq. km of land area)=%{y}<extra></extra>\", \"hovertext\": [\"India\", \"India\", \"India\", \"India\", \"India\", \"India\", \"India\", \"India\", \"India\", \"India\"], \"legendgroup\": \"India\", \"line\": {\"color\": \"#ab63fa\", \"dash\": \"solid\"}, \"mode\": \"lines\", \"name\": \"India\", \"showlegend\": true, \"type\": \"scattergl\", \"x\": [1962, 1967, 1972, 1977, 1982, 1987, 1992, 1997, 2002, 2007], \"xaxis\": \"x\", \"y\": [157.424902209, 174.614494533, 195.009613244, 218.925651909, 245.62959683, 274.867143035, 304.878382478, 335.604939476, 366.673289632, 396.774384079], \"yaxis\": \"y\"}, {\"hovertemplate\": \"<b>%{hovertext}</b><br><br>Country Name=Indonesia<br>Year=%{x}<br>Population density (people per sq. km of land area)=%{y}<extra></extra>\", \"hovertext\": [\"Indonesia\", \"Indonesia\", \"Indonesia\", \"Indonesia\", \"Indonesia\", \"Indonesia\", \"Indonesia\", \"Indonesia\", \"Indonesia\", \"Indonesia\"], \"legendgroup\": \"Indonesia\", \"line\": {\"color\": \"#FFA15A\", \"dash\": \"solid\"}, \"mode\": \"lines\", \"name\": \"Indonesia\", \"showlegend\": true, \"type\": \"scattergl\", \"x\": [1962, 1967, 1972, 1977, 1982, 1987, 1992, 1997, 2002, 2007], \"xaxis\": \"x\", \"y\": [51.0927019105, 58.4616675039, 66.8257428639, 75.80282406970001, 85.2885982877, 94.7956281016, 103.646062255, 111.97682121, 119.989339082, 128.229563307], \"yaxis\": \"y\"}, {\"hovertemplate\": \"<b>%{hovertext}</b><br><br>Country Name=Iraq<br>Year=%{x}<br>Population density (people per sq. km of land area)=%{y}<extra></extra>\", \"hovertext\": [\"Iraq\", \"Iraq\", \"Iraq\", \"Iraq\", \"Iraq\", \"Iraq\", \"Iraq\", \"Iraq\", \"Iraq\", \"Iraq\"], \"legendgroup\": \"Iraq\", \"line\": {\"color\": \"#19d3f3\", \"dash\": \"solid\"}, \"mode\": \"lines\", \"name\": \"Iraq\", \"showlegend\": true, \"type\": \"scattergl\", \"x\": [1962, 1967, 1972, 1977, 1982, 1987, 1992, 1997, 2002, 2007], \"xaxis\": \"x\", \"y\": [17.5462880399, 20.4572764479, 24.2354208108, 28.4907446784, 33.0101767382, 37.2538560029, 42.226309532, 49.201719368, 57.0313304525, 64.9873973981], \"yaxis\": \"y\"}, {\"hovertemplate\": \"<b>%{hovertext}</b><br><br>Country Name=Ireland<br>Year=%{x}<br>Population density (people per sq. km of land area)=%{y}<extra></extra>\", \"hovertext\": [\"Ireland\", \"Ireland\", \"Ireland\", \"Ireland\", \"Ireland\", \"Ireland\", \"Ireland\", \"Ireland\", \"Ireland\", \"Ireland\"], \"legendgroup\": \"Ireland\", \"line\": {\"color\": \"#FF6692\", \"dash\": \"solid\"}, \"mode\": \"lines\", \"name\": \"Ireland\", \"showlegend\": true, \"type\": \"scattergl\", \"x\": [1962, 1967, 1972, 1977, 1982, 1987, 1992, 1997, 2002, 2007], \"xaxis\": \"x\", \"y\": [41.1678037451, 42.1316591668, 44.082595442, 47.6440702569, 50.5995064596, 51.3870953694, 51.6537959065, 53.3338800987, 57.0757294237, 63.85457976479999], \"yaxis\": \"y\"}, {\"hovertemplate\": \"<b>%{hovertext}</b><br><br>Country Name=Israel<br>Year=%{x}<br>Population density (people per sq. km of land area)=%{y}<extra></extra>\", \"hovertext\": [\"Israel\", \"Israel\", \"Israel\", \"Israel\", \"Israel\", \"Israel\", \"Israel\", \"Israel\", \"Israel\", \"Israel\"], \"legendgroup\": \"Israel\", \"line\": {\"color\": \"#B6E880\", \"dash\": \"solid\"}, \"mode\": \"lines\", \"name\": \"Israel\", \"showlegend\": true, \"type\": \"scattergl\", \"x\": [1962, 1967, 1972, 1977, 1982, 1987, 1992, 1997, 2002, 2007], \"xaxis\": \"x\", \"y\": [105.961182994, 126.848428835, 145.471349353, 166.959334566, 186.275415896, 201.894639556, 236.737523105, 269.685767098, 303.60443622900004, 331.797597043], \"yaxis\": \"y\"}, {\"hovertemplate\": \"<b>%{hovertext}</b><br><br>Country Name=Italy<br>Year=%{x}<br>Population density (people per sq. km of land area)=%{y}<extra></extra>\", \"hovertext\": [\"Italy\", \"Italy\", \"Italy\", \"Italy\", \"Italy\", \"Italy\", \"Italy\", \"Italy\", \"Italy\", \"Italy\"], \"legendgroup\": \"Italy\", \"line\": {\"color\": \"#FF97FF\", \"dash\": \"solid\"}, \"mode\": \"lines\", \"name\": \"Italy\", \"showlegend\": true, \"type\": \"scattergl\", \"x\": [1962, 1967, 1972, 1977, 1982, 1987, 1992, 1997, 2002, 2007], \"xaxis\": \"x\", \"y\": [172.99462786, 179.86637652599998, 184.901380436, 190.253343987, 192.25306178, 192.451569141, 193.115116793, 193.43229404, 194.005667947, 198.675154688], \"yaxis\": \"y\"}, {\"hovertemplate\": \"<b>%{hovertext}</b><br><br>Country Name=Jamaica<br>Year=%{x}<br>Population density (people per sq. km of land area)=%{y}<extra></extra>\", \"hovertext\": [\"Jamaica\", \"Jamaica\", \"Jamaica\", \"Jamaica\", \"Jamaica\", \"Jamaica\", \"Jamaica\", \"Jamaica\", \"Jamaica\", \"Jamaica\"], \"legendgroup\": \"Jamaica\", \"line\": {\"color\": \"#FECB52\", \"dash\": \"solid\"}, \"mode\": \"lines\", \"name\": \"Jamaica\", \"showlegend\": true, \"type\": \"scattergl\", \"x\": [1962, 1967, 1972, 1977, 1982, 1987, 1992, 1997, 2002, 2007], \"xaxis\": \"x\", \"y\": [155.237488458, 166.91043398, 178.16768236400003, 190.789196676, 204.284395199, 216.857987073, 223.710341644, 234.112927054, 243.285226223, 249.732779317], \"yaxis\": \"y\"}, {\"hovertemplate\": \"<b>%{hovertext}</b><br><br>Country Name=Japan<br>Year=%{x}<br>Population density (people per sq. km of land area)=%{y}<extra></extra>\", \"hovertext\": [\"Japan\", \"Japan\", \"Japan\", \"Japan\", \"Japan\", \"Japan\", \"Japan\", \"Japan\", \"Japan\", \"Japan\"], \"legendgroup\": \"Japan\", \"line\": {\"color\": \"#636efa\", \"dash\": \"solid\"}, \"mode\": \"lines\", \"name\": \"Japan\", \"showlegend\": true, \"type\": \"scattergl\", \"x\": [1962, 1967, 1972, 1977, 1982, 1987, 1992, 1997, 2002, 2007], \"xaxis\": \"x\", \"y\": [261.33624216, 274.679574584, 292.384069831, 310.761462882, 323.454396505, 334.862863412, 340.726823917, 345.83539094699995, 349.643347051, 351.16872428], \"yaxis\": \"y\"}, {\"hovertemplate\": \"<b>%{hovertext}</b><br><br>Country Name=Jordan<br>Year=%{x}<br>Population density (people per sq. km of land area)=%{y}<extra></extra>\", \"hovertext\": [\"Jordan\", \"Jordan\", \"Jordan\", \"Jordan\", \"Jordan\", \"Jordan\", \"Jordan\", \"Jordan\", \"Jordan\", \"Jordan\"], \"legendgroup\": \"Jordan\", \"line\": {\"color\": \"#EF553B\", \"dash\": \"solid\"}, \"mode\": \"lines\", \"name\": \"Jordan\", \"showlegend\": true, \"type\": \"scattergl\", \"x\": [1962, 1967, 1972, 1977, 1982, 1987, 1992, 1997, 2002, 2007], \"xaxis\": \"x\", \"y\": [10.9109587489, 14.9638939257, 20.5334315503, 23.704850408, 27.9121486854, 33.7981527652, 42.4291024479, 51.5100634633, 55.9716115141, 65.2699909338], \"yaxis\": \"y\"}, {\"hovertemplate\": \"<b>%{hovertext}</b><br><br>Country Name=Kenya<br>Year=%{x}<br>Population density (people per sq. km of land area)=%{y}<extra></extra>\", \"hovertext\": [\"Kenya\", \"Kenya\", \"Kenya\", \"Kenya\", \"Kenya\", \"Kenya\", \"Kenya\", \"Kenya\", \"Kenya\", \"Kenya\"], \"legendgroup\": \"Kenya\", \"line\": {\"color\": \"#00cc96\", \"dash\": \"solid\"}, \"mode\": \"lines\", \"name\": \"Kenya\", \"showlegend\": true, \"type\": \"scattergl\", \"x\": [1962, 1967, 1972, 1977, 1982, 1987, 1992, 1997, 2002, 2007], \"xaxis\": \"x\", \"y\": [15.161424254100002, 17.8418122079, 21.2305671715, 25.5248040904, 30.8531784798, 37.144365182600005, 43.9782021998, 50.6768896932, 57.4410162702, 65.45057455109999], \"yaxis\": \"y\"}, {\"hovertemplate\": \"<b>%{hovertext}</b><br><br>Country Name=Kuwait<br>Year=%{x}<br>Population density (people per sq. km of land area)=%{y}<extra></extra>\", \"hovertext\": [\"Kuwait\", \"Kuwait\", \"Kuwait\", \"Kuwait\", \"Kuwait\", \"Kuwait\", \"Kuwait\", \"Kuwait\", \"Kuwait\"], \"legendgroup\": \"Kuwait\", \"line\": {\"color\": \"#ab63fa\", \"dash\": \"solid\"}, \"mode\": \"lines\", \"name\": \"Kuwait\", \"showlegend\": true, \"type\": \"scattergl\", \"x\": [1962, 1967, 1972, 1977, 1982, 1987, 1997, 2002, 2007], \"xaxis\": \"x\", \"y\": [18.8081369248, 32.8749158249, 48.6390011223, 66.2704264871, 85.2331649832, 107.629068462, 94.6271604938, 114.602413019, 142.457407407], \"yaxis\": \"y\"}, {\"hovertemplate\": \"<b>%{hovertext}</b><br><br>Country Name=Lebanon<br>Year=%{x}<br>Population density (people per sq. km of land area)=%{y}<extra></extra>\", \"hovertext\": [\"Lebanon\", \"Lebanon\", \"Lebanon\", \"Lebanon\", \"Lebanon\", \"Lebanon\", \"Lebanon\", \"Lebanon\", \"Lebanon\", \"Lebanon\"], \"legendgroup\": \"Lebanon\", \"line\": {\"color\": \"#FFA15A\", \"dash\": \"solid\"}, \"mode\": \"lines\", \"name\": \"Lebanon\", \"showlegend\": true, \"type\": \"scattergl\", \"x\": [1962, 1967, 1972, 1977, 1982, 1987, 1992, 1997, 2002, 2007], \"xaxis\": \"x\", \"y\": [188.199022483, 212.595307918, 236.240762463, 254.76285435, 257.309970674, 261.210361681, 275.842424242, 302.315151515, 344.363831867, 399.357380254], \"yaxis\": \"y\"}, {\"hovertemplate\": \"<b>%{hovertext}</b><br><br>Country Name=Lesotho<br>Year=%{x}<br>Population density (people per sq. km of land area)=%{y}<extra></extra>\", \"hovertext\": [\"Lesotho\"], \"legendgroup\": \"Lesotho\", \"line\": {\"color\": \"#19d3f3\", \"dash\": \"solid\"}, \"mode\": \"lines\", \"name\": \"Lesotho\", \"showlegend\": true, \"type\": \"scattergl\", \"x\": [2007], \"xaxis\": \"x\", \"y\": [64.4155467721], \"yaxis\": \"y\"}, {\"hovertemplate\": \"<b>%{hovertext}</b><br><br>Country Name=Liberia<br>Year=%{x}<br>Population density (people per sq. km of land area)=%{y}<extra></extra>\", \"hovertext\": [\"Liberia\", \"Liberia\", \"Liberia\", \"Liberia\", \"Liberia\", \"Liberia\", \"Liberia\", \"Liberia\", \"Liberia\", \"Liberia\"], \"legendgroup\": \"Liberia\", \"line\": {\"color\": \"#FF6692\", \"dash\": \"solid\"}, \"mode\": \"lines\", \"name\": \"Liberia\", \"showlegend\": true, \"type\": \"scattergl\", \"x\": [1962, 1967, 1972, 1977, 1982, 1987, 1992, 1997, 2002, 2007], \"xaxis\": \"x\", \"y\": [12.1497819767, 13.653644103, 15.5456395349, 17.9019206811, 21.1412479236, 22.8011212625, 21.0617940199, 24.5565822259, 31.8799107143, 36.5691133721], \"yaxis\": \"y\"}, {\"hovertemplate\": \"<b>%{hovertext}</b><br><br>Country Name=Libya<br>Year=%{x}<br>Population density (people per sq. km of land area)=%{y}<extra></extra>\", \"hovertext\": [\"Libya\", \"Libya\", \"Libya\", \"Libya\", \"Libya\", \"Libya\", \"Libya\", \"Libya\", \"Libya\", \"Libya\"], \"legendgroup\": \"Libya\", \"line\": {\"color\": \"#B6E880\", \"dash\": \"solid\"}, \"mode\": \"lines\", \"name\": \"Libya\", \"showlegend\": true, \"type\": \"scattergl\", \"x\": [1962, 1967, 1972, 1977, 1982, 1987, 1992, 1997, 2002, 2007], \"xaxis\": \"x\", \"y\": [0.873066824284, 1.0580384645999998, 1.3109494527, 1.61427304864, 1.96078406856, 2.31701922093, 2.61250724621, 2.87697921048, 3.13624072201, 3.42009502484], \"yaxis\": \"y\"}, {\"hovertemplate\": \"<b>%{hovertext}</b><br><br>Country Name=Madagascar<br>Year=%{x}<br>Population density (people per sq. km of land area)=%{y}<extra></extra>\", \"hovertext\": [\"Madagascar\", \"Madagascar\", \"Madagascar\", \"Madagascar\", \"Madagascar\", \"Madagascar\", \"Madagascar\", \"Madagascar\", \"Madagascar\", \"Madagascar\"], \"legendgroup\": \"Madagascar\", \"line\": {\"color\": \"#FF97FF\", \"dash\": \"solid\"}, \"mode\": \"lines\", \"name\": \"Madagascar\", \"showlegend\": true, \"type\": \"scattergl\", \"x\": [1962, 1967, 1972, 1977, 1982, 1987, 1992, 1997, 2002, 2007], \"xaxis\": \"x\", \"y\": [9.20430924786, 10.4417065034, 11.9551243251, 13.810896928800002, 15.855647075, 18.1646851463, 21.0886594215, 24.640160608, 28.7788097121, 33.3098858204], \"yaxis\": \"y\"}, {\"hovertemplate\": \"<b>%{hovertext}</b><br><br>Country Name=Malawi<br>Year=%{x}<br>Population density (people per sq. km of land area)=%{y}<extra></extra>\", \"hovertext\": [\"Malawi\", \"Malawi\", \"Malawi\", \"Malawi\", \"Malawi\", \"Malawi\", \"Malawi\", \"Malawi\", \"Malawi\"], \"legendgroup\": \"Malawi\", \"line\": {\"color\": \"#FECB52\", \"dash\": \"solid\"}, \"mode\": \"lines\", \"name\": \"Malawi\", \"showlegend\": true, \"type\": \"scattergl\", \"x\": [1967, 1972, 1977, 1982, 1987, 1992, 1997, 2002, 2007], \"xaxis\": \"x\", \"y\": [45.2059079338, 51.5440072126, 59.6922783199, 68.769314807, 86.0042851082, 102.703839627, 108.829242681, 125.039573611, 143.17328171399998], \"yaxis\": \"y\"}, {\"hovertemplate\": \"<b>%{hovertext}</b><br><br>Country Name=Malaysia<br>Year=%{x}<br>Population density (people per sq. km of land area)=%{y}<extra></extra>\", \"hovertext\": [\"Malaysia\", \"Malaysia\", \"Malaysia\", \"Malaysia\", \"Malaysia\", \"Malaysia\", \"Malaysia\", \"Malaysia\"], \"legendgroup\": \"Malaysia\", \"line\": {\"color\": \"#636efa\", \"dash\": \"solid\"}, \"mode\": \"lines\", \"name\": \"Malaysia\", \"showlegend\": true, \"type\": \"scattergl\", \"x\": [1972, 1977, 1982, 1987, 1992, 1997, 2002, 2007], \"xaxis\": \"x\", \"y\": [34.8807791813, 39.2382133617, 44.26597169380001, 50.8400547862, 58.4528991021, 66.376883275, 74.2717303302, 81.3593273474], \"yaxis\": \"y\"}, {\"hovertemplate\": \"<b>%{hovertext}</b><br><br>Country Name=Mali<br>Year=%{x}<br>Population density (people per sq. km of land area)=%{y}<extra></extra>\", \"hovertext\": [\"Mali\", \"Mali\", \"Mali\", \"Mali\", \"Mali\", \"Mali\", \"Mali\", \"Mali\", \"Mali\", \"Mali\"], \"legendgroup\": \"Mali\", \"line\": {\"color\": \"#EF553B\", \"dash\": \"solid\"}, \"mode\": \"lines\", \"name\": \"Mali\", \"showlegend\": true, \"type\": \"scattergl\", \"x\": [1962, 1967, 1972, 1977, 1982, 1987, 1992, 1997, 2002, 2007], \"xaxis\": \"x\", \"y\": [4.4102713511800005, 4.67648317065, 5.03811619502, 5.50122931675, 6.05370393135, 6.61632860456, 7.2866856801, 8.333128447210001, 9.60753407256, 11.2762979536], \"yaxis\": \"y\"}, {\"hovertemplate\": \"<b>%{hovertext}</b><br><br>Country Name=Mauritania<br>Year=%{x}<br>Population density (people per sq. km of land area)=%{y}<extra></extra>\", \"hovertext\": [\"Mauritania\", \"Mauritania\", \"Mauritania\", \"Mauritania\", \"Mauritania\", \"Mauritania\", \"Mauritania\", \"Mauritania\", \"Mauritania\", \"Mauritania\"], \"legendgroup\": \"Mauritania\", \"line\": {\"color\": \"#00cc96\", \"dash\": \"solid\"}, \"mode\": \"lines\", \"name\": \"Mauritania\", \"showlegend\": true, \"type\": \"scattergl\", \"x\": [1962, 1967, 1972, 1977, 1982, 1987, 1992, 1997, 2002, 2007], \"xaxis\": \"x\", \"y\": [0.8820917822840001, 1.0209420781999998, 1.18163578151, 1.36569418842, 1.5759289803, 1.80979528476, 2.07650140681, 2.40243329776, 2.79875036383, 3.2291500921700003], \"yaxis\": \"y\"}, {\"hovertemplate\": \"<b>%{hovertext}</b><br><br>Country Name=Mauritius<br>Year=%{x}<br>Population density (people per sq. km of land area)=%{y}<extra></extra>\", \"hovertext\": [\"Mauritius\", \"Mauritius\", \"Mauritius\", \"Mauritius\", \"Mauritius\", \"Mauritius\", \"Mauritius\", \"Mauritius\", \"Mauritius\", \"Mauritius\"], \"legendgroup\": \"Mauritius\", \"line\": {\"color\": \"#ab63fa\", \"dash\": \"solid\"}, \"mode\": \"lines\", \"name\": \"Mauritius\", \"showlegend\": true, \"type\": \"scattergl\", \"x\": [1962, 1967, 1972, 1977, 1982, 1987, 1992, 1997, 2002, 2007], \"xaxis\": \"x\", \"y\": [344.9995073890001, 386.166009852, 419.730541872, 453.881280788, 488.926600985, 510.385221675, 534.207389163, 565.6571428569999, 593.409359606, 610.655172414], \"yaxis\": \"y\"}, {\"hovertemplate\": \"<b>%{hovertext}</b><br><br>Country Name=Mexico<br>Year=%{x}<br>Population density (people per sq. km of land area)=%{y}<extra></extra>\", \"hovertext\": [\"Mexico\", \"Mexico\", \"Mexico\", \"Mexico\", \"Mexico\", \"Mexico\", \"Mexico\", \"Mexico\", \"Mexico\", \"Mexico\"], \"legendgroup\": \"Mexico\", \"line\": {\"color\": \"#FFA15A\", \"dash\": \"solid\"}, \"mode\": \"lines\", \"name\": \"Mexico\", \"showlegend\": true, \"type\": \"scattergl\", \"x\": [1962, 1967, 1972, 1977, 1982, 1987, 1992, 1997, 2002, 2007], \"xaxis\": \"x\", \"y\": [20.9108207516, 24.3985457445, 28.5398930014, 33.0963728491, 37.3198873428, 41.4470881453, 45.83967848970001, 50.3746624142, 54.3112204532, 58.2007633941], \"yaxis\": \"y\"}, {\"hovertemplate\": \"<b>%{hovertext}</b><br><br>Country Name=Mongolia<br>Year=%{x}<br>Population density (people per sq. km of land area)=%{y}<extra></extra>\", \"hovertext\": [\"Mongolia\", \"Mongolia\", \"Mongolia\", \"Mongolia\", \"Mongolia\", \"Mongolia\", \"Mongolia\", \"Mongolia\", \"Mongolia\", \"Mongolia\"], \"legendgroup\": \"Mongolia\", \"line\": {\"color\": \"#19d3f3\", \"dash\": \"solid\"}, \"mode\": \"lines\", \"name\": \"Mongolia\", \"showlegend\": true, \"type\": \"scattergl\", \"x\": [1962, 1967, 1972, 1977, 1982, 1987, 1992, 1997, 2002, 2007], \"xaxis\": \"x\", \"y\": [0.650974535905, 0.755159762095, 0.8732646309119999, 1.00556914442, 1.14429246376, 1.30882939829, 1.4441064394, 1.5034462782299998, 1.57284108757, 1.66892556451], \"yaxis\": \"y\"}, {\"hovertemplate\": \"<b>%{hovertext}</b><br><br>Country Name=Montenegro<br>Year=%{x}<br>Population density (people per sq. km of land area)=%{y}<extra></extra>\", \"hovertext\": [\"Montenegro\"], \"legendgroup\": \"Montenegro\", \"line\": {\"color\": \"#FF6692\", \"dash\": \"solid\"}, \"mode\": \"lines\", \"name\": \"Montenegro\", \"showlegend\": true, \"type\": \"scattergl\", \"x\": [2007], \"xaxis\": \"x\", \"y\": [45.7899628253], \"yaxis\": \"y\"}, {\"hovertemplate\": \"<b>%{hovertext}</b><br><br>Country Name=Morocco<br>Year=%{x}<br>Population density (people per sq. km of land area)=%{y}<extra></extra>\", \"hovertext\": [\"Morocco\", \"Morocco\", \"Morocco\", \"Morocco\", \"Morocco\", \"Morocco\", \"Morocco\", \"Morocco\", \"Morocco\", \"Morocco\"], \"legendgroup\": \"Morocco\", \"line\": {\"color\": \"#B6E880\", \"dash\": \"solid\"}, \"mode\": \"lines\", \"name\": \"Morocco\", \"showlegend\": true, \"type\": \"scattergl\", \"x\": [1962, 1967, 1972, 1977, 1982, 1987, 1992, 1997, 2002, 2007], \"xaxis\": \"x\", \"y\": [29.3517116996, 33.559405386, 37.5062172335, 41.8749316603, 47.2118462917, 52.7914519382, 57.9575285682, 62.5902173426, 66.1787833296, 69.4853730674], \"yaxis\": \"y\"}, {\"hovertemplate\": \"<b>%{hovertext}</b><br><br>Country Name=Mozambique<br>Year=%{x}<br>Population density (people per sq. km of land area)=%{y}<extra></extra>\", \"hovertext\": [\"Mozambique\", \"Mozambique\", \"Mozambique\", \"Mozambique\", \"Mozambique\", \"Mozambique\", \"Mozambique\", \"Mozambique\", \"Mozambique\", \"Mozambique\"], \"legendgroup\": \"Mozambique\", \"line\": {\"color\": \"#FF97FF\", \"dash\": \"solid\"}, \"mode\": \"lines\", \"name\": \"Mozambique\", \"showlegend\": true, \"type\": \"scattergl\", \"x\": [1962, 1967, 1972, 1977, 1982, 1987, 1992, 1997, 2002, 2007], \"xaxis\": \"x\", \"y\": [9.9181006638, 11.0233335029, 12.3092563392, 13.990575803, 15.9107098349, 16.712678348900006, 18.0624977746, 21.4564154734, 24.6047903049, 28.43362878], \"yaxis\": \"y\"}, {\"hovertemplate\": \"<b>%{hovertext}</b><br><br>Country Name=Myanmar<br>Year=%{x}<br>Population density (people per sq. km of land area)=%{y}<extra></extra>\", \"hovertext\": [\"Myanmar\", \"Myanmar\", \"Myanmar\", \"Myanmar\", \"Myanmar\", \"Myanmar\", \"Myanmar\", \"Myanmar\", \"Myanmar\", \"Myanmar\"], \"legendgroup\": \"Myanmar\", \"line\": {\"color\": \"#FECB52\", \"dash\": \"solid\"}, \"mode\": \"lines\", \"name\": \"Myanmar\", \"showlegend\": true, \"type\": \"scattergl\", \"x\": [1962, 1967, 1972, 1977, 1982, 1987, 1992, 1997, 2002, 2007], \"xaxis\": \"x\", \"y\": [34.3463139211, 38.5873473697, 43.6351087921, 49.1640848303, 55.2359580133, 61.2133442482, 65.9887076537, 70.22675123180001, 74.5018698167, 77.5780603501], \"yaxis\": \"y\"}, {\"hovertemplate\": \"<b>%{hovertext}</b><br><br>Country Name=Namibia<br>Year=%{x}<br>Population density (people per sq. km of land area)=%{y}<extra></extra>\", \"hovertext\": [\"Namibia\", \"Namibia\", \"Namibia\", \"Namibia\"], \"legendgroup\": \"Namibia\", \"line\": {\"color\": \"#636efa\", \"dash\": \"solid\"}, \"mode\": \"lines\", \"name\": \"Namibia\", \"showlegend\": true, \"type\": \"scattergl\", \"x\": [1992, 1997, 2002, 2007], \"xaxis\": \"x\", \"y\": [1.83858543162, 2.13545287809, 2.3779579492, 2.5303040241], \"yaxis\": \"y\"}, {\"hovertemplate\": \"<b>%{hovertext}</b><br><br>Country Name=Nepal<br>Year=%{x}<br>Population density (people per sq. km of land area)=%{y}<extra></extra>\", \"hovertext\": [\"Nepal\", \"Nepal\", \"Nepal\", \"Nepal\", \"Nepal\", \"Nepal\", \"Nepal\", \"Nepal\", \"Nepal\", \"Nepal\"], \"legendgroup\": \"Nepal\", \"line\": {\"color\": \"#EF553B\", \"dash\": \"solid\"}, \"mode\": \"lines\", \"name\": \"Nepal\", \"showlegend\": true, \"type\": \"scattergl\", \"x\": [1962, 1967, 1972, 1977, 1982, 1987, 1992, 1997, 2002, 2007], \"xaxis\": \"x\", \"y\": [72.5668601399, 79.0709020979, 87.32716783219999, 97.2991258741, 109.063020979, 122.182783217, 138.220769231, 156.610118881, 171.028733868, 181.818060691], \"yaxis\": \"y\"}, {\"hovertemplate\": \"<b>%{hovertext}</b><br><br>Country Name=Netherlands<br>Year=%{x}<br>Population density (people per sq. km of land area)=%{y}<extra></extra>\", \"hovertext\": [\"Netherlands\", \"Netherlands\", \"Netherlands\", \"Netherlands\", \"Netherlands\", \"Netherlands\", \"Netherlands\", \"Netherlands\", \"Netherlands\", \"Netherlands\"], \"legendgroup\": \"Netherlands\", \"line\": {\"color\": \"#00cc96\", \"dash\": \"solid\"}, \"mode\": \"lines\", \"name\": \"Netherlands\", \"showlegend\": true, \"type\": \"scattergl\", \"x\": [1962, 1967, 1972, 1977, 1982, 1987, 1992, 1997, 2002, 2007], \"xaxis\": \"x\", \"y\": [349.694579384, 373.1694609, 394.804295024, 410.432020142, 423.954087678, 434.390906398, 449.767950237, 462.400770142, 478.34505331800005, 485.239810427], \"yaxis\": \"y\"}, {\"hovertemplate\": \"<b>%{hovertext}</b><br><br>Country Name=New Zealand<br>Year=%{x}<br>Population density (people per sq. km of land area)=%{y}<extra></extra>\", \"hovertext\": [\"New Zealand\", \"New Zealand\", \"New Zealand\", \"New Zealand\", \"New Zealand\", \"New Zealand\", \"New Zealand\", \"New Zealand\", \"New Zealand\", \"New Zealand\"], \"legendgroup\": \"New Zealand\", \"line\": {\"color\": \"#ab63fa\", \"dash\": \"solid\"}, \"mode\": \"lines\", \"name\": \"New Zealand\", \"showlegend\": true, \"type\": \"scattergl\", \"x\": [1962, 1967, 1972, 1977, 1982, 1987, 1992, 1997, 2002, 2007], \"xaxis\": \"x\", \"y\": [9.426151684330002, 10.3456002431, 11.0284455585, 11.8499107516, 11.9862519464, 12.4355322624, 13.4127074551, 14.3606395503, 14.9956325244, 16.0411682048], \"yaxis\": \"y\"}, {\"hovertemplate\": \"<b>%{hovertext}</b><br><br>Country Name=Nicaragua<br>Year=%{x}<br>Population density (people per sq. km of land area)=%{y}<extra></extra>\", \"hovertext\": [\"Nicaragua\", \"Nicaragua\", \"Nicaragua\", \"Nicaragua\", \"Nicaragua\", \"Nicaragua\", \"Nicaragua\", \"Nicaragua\", \"Nicaragua\", \"Nicaragua\"], \"legendgroup\": \"Nicaragua\", \"line\": {\"color\": \"#FFA15A\", \"dash\": \"solid\"}, \"mode\": \"lines\", \"name\": \"Nicaragua\", \"showlegend\": true, \"type\": \"scattergl\", \"x\": [1962, 1967, 1972, 1977, 1982, 1987, 1992, 1997, 2002, 2007], \"xaxis\": \"x\", \"y\": [15.6769154063, 18.197440585, 21.1881253116, 24.711691873000003, 28.548504238000003, 32.2664118331, 35.9919644341, 39.7759764002, 42.9760345687, 45.8876433439], \"yaxis\": \"y\"}, {\"hovertemplate\": \"<b>%{hovertext}</b><br><br>Country Name=Niger<br>Year=%{x}<br>Population density (people per sq. km of land area)=%{y}<extra></extra>\", \"hovertext\": [\"Niger\", \"Niger\", \"Niger\", \"Niger\", \"Niger\", \"Niger\", \"Niger\", \"Niger\", \"Niger\", \"Niger\"], \"legendgroup\": \"Niger\", \"line\": {\"color\": \"#19d3f3\", \"dash\": \"solid\"}, \"mode\": \"lines\", \"name\": \"Niger\", \"showlegend\": true, \"type\": \"scattergl\", \"x\": [1962, 1967, 1972, 1977, 1982, 1987, 1992, 1997, 2002, 2007], \"xaxis\": \"x\", \"y\": [2.83935659588, 3.27168074524, 3.75231230757, 4.32320675772, 4.97303465698, 5.71049340807, 6.66482197837, 7.94107523486, 9.53342622563, 11.468880555799998], \"yaxis\": \"y\"}, {\"hovertemplate\": \"<b>%{hovertext}</b><br><br>Country Name=Nigeria<br>Year=%{x}<br>Population density (people per sq. km of land area)=%{y}<extra></extra>\", \"hovertext\": [\"Nigeria\", \"Nigeria\", \"Nigeria\", \"Nigeria\", \"Nigeria\", \"Nigeria\", \"Nigeria\", \"Nigeria\", \"Nigeria\", \"Nigeria\"], \"legendgroup\": \"Nigeria\", \"line\": {\"color\": \"#FF6692\", \"dash\": \"solid\"}, \"mode\": \"lines\", \"name\": \"Nigeria\", \"showlegend\": true, \"type\": \"scattergl\", \"x\": [1962, 1967, 1972, 1977, 1982, 1987, 1992, 1997, 2002, 2007], \"xaxis\": \"x\", \"y\": [51.734092032, 57.60904838760001, 64.5929477256, 74.0312427946, 85.3451497085, 97.0749113388, 110.447706885, 125.141424289, 141.908805736, 161.569333641], \"yaxis\": \"y\"}, {\"hovertemplate\": \"<b>%{hovertext}</b><br><br>Country Name=Norway<br>Year=%{x}<br>Population density (people per sq. km of land area)=%{y}<extra></extra>\", \"hovertext\": [\"Norway\", \"Norway\", \"Norway\", \"Norway\", \"Norway\", \"Norway\", \"Norway\", \"Norway\", \"Norway\", \"Norway\"], \"legendgroup\": \"Norway\", \"line\": {\"color\": \"#B6E880\", \"dash\": \"solid\"}, \"mode\": \"lines\", \"name\": \"Norway\", \"showlegend\": true, \"type\": \"scattergl\", \"x\": [1962, 1967, 1972, 1977, 1982, 1987, 1992, 1997, 2002, 2007], \"xaxis\": \"x\", \"y\": [9.96295089597, 10.3616449233, 10.7681255048, 11.0698435297, 11.2658270476, 11.4632780736, 11.7356870046, 12.0608276636, 12.4249722789, 12.8931347452], \"yaxis\": \"y\"}, {\"hovertemplate\": \"<b>%{hovertext}</b><br><br>Country Name=Oman<br>Year=%{x}<br>Population density (people per sq. km of land area)=%{y}<extra></extra>\", \"hovertext\": [\"Oman\", \"Oman\", \"Oman\", \"Oman\", \"Oman\", \"Oman\", \"Oman\", \"Oman\", \"Oman\"], \"legendgroup\": \"Oman\", \"line\": {\"color\": \"#FF97FF\", \"dash\": \"solid\"}, \"mode\": \"lines\", \"name\": \"Oman\", \"showlegend\": true, \"type\": \"scattergl\", \"x\": [1967, 1972, 1977, 1982, 1987, 1992, 1997, 2002, 2007], \"xaxis\": \"x\", \"y\": [2.1328497576700003, 2.50849434572, 3.1593085622, 4.1680355412, 5.23610016155, 6.39713731826, 7.19740226171, 7.50631017771, 8.380452342489999], \"yaxis\": \"y\"}, {\"hovertemplate\": \"<b>%{hovertext}</b><br><br>Country Name=Pakistan<br>Year=%{x}<br>Population density (people per sq. km of land area)=%{y}<extra></extra>\", \"hovertext\": [\"Pakistan\", \"Pakistan\", \"Pakistan\", \"Pakistan\", \"Pakistan\", \"Pakistan\", \"Pakistan\", \"Pakistan\", \"Pakistan\", \"Pakistan\"], \"legendgroup\": \"Pakistan\", \"line\": {\"color\": \"#FECB52\", \"dash\": \"solid\"}, \"mode\": \"lines\", \"name\": \"Pakistan\", \"showlegend\": true, \"type\": \"scattergl\", \"x\": [1962, 1967, 1972, 1977, 1982, 1987, 1992, 1997, 2002, 2007], \"xaxis\": \"x\", \"y\": [61.12875025939999, 69.5237196451, 79.5730269303, 92.0425708281, 108.223746887, 127.518740919, 147.385021015, 167.141049191, 187.151808323, 207.253621835], \"yaxis\": \"y\"}, {\"hovertemplate\": \"<b>%{hovertext}</b><br><br>Country Name=Panama<br>Year=%{x}<br>Population density (people per sq. km of land area)=%{y}<extra></extra>\", \"hovertext\": [\"Panama\", \"Panama\", \"Panama\", \"Panama\", \"Panama\", \"Panama\", \"Panama\", \"Panama\", \"Panama\", \"Panama\"], \"legendgroup\": \"Panama\", \"line\": {\"color\": \"#636efa\", \"dash\": \"solid\"}, \"mode\": \"lines\", \"name\": \"Panama\", \"showlegend\": true, \"type\": \"scattergl\", \"x\": [1962, 1967, 1972, 1977, 1982, 1987, 1992, 1997, 2002, 2007], \"xaxis\": \"x\", \"y\": [16.1739574926, 18.7489911219, 21.6281275222, 24.7227199354, 27.8965025558, 31.1870325531, 34.6425881087, 38.3742130751, 42.3019639494, 46.2523271455], \"yaxis\": \"y\"}, {\"hovertemplate\": \"<b>%{hovertext}</b><br><br>Country Name=Paraguay<br>Year=%{x}<br>Population density (people per sq. km of land area)=%{y}<extra></extra>\", \"hovertext\": [\"Paraguay\", \"Paraguay\", \"Paraguay\", \"Paraguay\", \"Paraguay\", \"Paraguay\", \"Paraguay\", \"Paraguay\", \"Paraguay\", \"Paraguay\"], \"legendgroup\": \"Paraguay\", \"line\": {\"color\": \"#EF553B\", \"dash\": \"solid\"}, \"mode\": \"lines\", \"name\": \"Paraguay\", \"showlegend\": true, \"type\": \"scattergl\", \"x\": [1962, 1967, 1972, 1977, 1982, 1987, 1992, 1997, 2002, 2007], \"xaxis\": \"x\", \"y\": [5.047412534609999, 5.76284671533, 6.5359702995200015, 7.38830858293, 8.47401459854, 9.77959476466, 11.1571558017, 12.535479486500002, 13.865127108, 15.0167631513], \"yaxis\": \"y\"}, {\"hovertemplate\": \"<b>%{hovertext}</b><br><br>Country Name=Peru<br>Year=%{x}<br>Population density (people per sq. km of land area)=%{y}<extra></extra>\", \"hovertext\": [\"Peru\", \"Peru\", \"Peru\", \"Peru\", \"Peru\", \"Peru\", \"Peru\", \"Peru\", \"Peru\", \"Peru\"], \"legendgroup\": \"Peru\", \"line\": {\"color\": \"#00cc96\", \"dash\": \"solid\"}, \"mode\": \"lines\", \"name\": \"Peru\", \"showlegend\": true, \"type\": \"scattergl\", \"x\": [1962, 1967, 1972, 1977, 1982, 1987, 1992, 1997, 2002, 2007], \"xaxis\": \"x\", \"y\": [8.3208375, 9.59537578125, 10.994121875, 12.547911718800002, 14.2388492187, 15.9779, 17.763325, 19.3964132812, 20.7823929687, 22.103725], \"yaxis\": \"y\"}, {\"hovertemplate\": \"<b>%{hovertext}</b><br><br>Country Name=Philippines<br>Year=%{x}<br>Population density (people per sq. km of land area)=%{y}<extra></extra>\", \"hovertext\": [\"Philippines\", \"Philippines\", \"Philippines\", \"Philippines\", \"Philippines\", \"Philippines\", \"Philippines\", \"Philippines\", \"Philippines\", \"Philippines\"], \"legendgroup\": \"Philippines\", \"line\": {\"color\": \"#ab63fa\", \"dash\": \"solid\"}, \"mode\": \"lines\", \"name\": \"Philippines\", \"showlegend\": true, \"type\": \"scattergl\", \"x\": [1962, 1967, 1972, 1977, 1982, 1987, 1992, 1997, 2002, 2007], \"xaxis\": \"x\", \"y\": [94.1501844029, 110.060356736, 127.155501911, 146.394114096, 167.919284301, 192.215159137, 218.261062481, 244.969664956, 272.644390784, 298.371761076], \"yaxis\": \"y\"}, {\"hovertemplate\": \"<b>%{hovertext}</b><br><br>Country Name=Poland<br>Year=%{x}<br>Population density (people per sq. km of land area)=%{y}<extra></extra>\", \"hovertext\": [\"Poland\", \"Poland\", \"Poland\", \"Poland\", \"Poland\", \"Poland\", \"Poland\", \"Poland\", \"Poland\", \"Poland\"], \"legendgroup\": \"Poland\", \"line\": {\"color\": \"#FFA15A\", \"dash\": \"solid\"}, \"mode\": \"lines\", \"name\": \"Poland\", \"showlegend\": true, \"type\": \"scattergl\", \"x\": [1962, 1967, 1972, 1977, 1982, 1987, 1992, 1997, 2002, 2007], \"xaxis\": \"x\", \"y\": [98.9536060596, 104.434212674, 107.922720298, 113.255574782, 118.288161546, 122.981635052, 125.252757191, 126.186489928, 124.817538934, 124.446852964], \"yaxis\": \"y\"}, {\"hovertemplate\": \"<b>%{hovertext}</b><br><br>Country Name=Portugal<br>Year=%{x}<br>Population density (people per sq. km of land area)=%{y}<extra></extra>\", \"hovertext\": [\"Portugal\", \"Portugal\", \"Portugal\", \"Portugal\", \"Portugal\", \"Portugal\", \"Portugal\", \"Portugal\", \"Portugal\", \"Portugal\"], \"legendgroup\": \"Portugal\", \"line\": {\"color\": \"#19d3f3\", \"dash\": \"solid\"}, \"mode\": \"lines\", \"name\": \"Portugal\", \"showlegend\": true, \"type\": \"scattergl\", \"x\": [1962, 1967, 1972, 1977, 1982, 1987, 1992, 1997, 2002, 2007], \"xaxis\": \"x\", \"y\": [98.2949180328, 96.9892896175, 94.3216393443, 103.340710383, 108.32536612, 109.617825137, 108.77042623, 110.480622951, 113.875748634, 115.26144091], \"yaxis\": \"y\"}, {\"hovertemplate\": \"<b>%{hovertext}</b><br><br>Country Name=Romania<br>Year=%{x}<br>Population density (people per sq. km of land area)=%{y}<extra></extra>\", \"hovertext\": [\"Romania\", \"Romania\", \"Romania\", \"Romania\", \"Romania\", \"Romania\", \"Romania\", \"Romania\", \"Romania\", \"Romania\"], \"legendgroup\": \"Romania\", \"line\": {\"color\": \"#FF6692\", \"dash\": \"solid\"}, \"mode\": \"lines\", \"name\": \"Romania\", \"showlegend\": true, \"type\": \"scattergl\", \"x\": [1962, 1967, 1972, 1977, 1982, 1987, 1992, 1997, 2002, 2007], \"xaxis\": \"x\", \"y\": [81.08253017279999, 84.8061213858, 89.68462707299999, 94.4520969002, 97.7484978727, 99.6328470956, 99.338812865, 98.2615692938, 94.5338495671, 90.8390186611], \"yaxis\": \"y\"}, {\"hovertemplate\": \"<b>%{hovertext}</b><br><br>Country Name=Rwanda<br>Year=%{x}<br>Population density (people per sq. km of land area)=%{y}<extra></extra>\", \"hovertext\": [\"Rwanda\", \"Rwanda\", \"Rwanda\", \"Rwanda\", \"Rwanda\", \"Rwanda\", \"Rwanda\", \"Rwanda\", \"Rwanda\", \"Rwanda\"], \"legendgroup\": \"Rwanda\", \"line\": {\"color\": \"#B6E880\", \"dash\": \"solid\"}, \"mode\": \"lines\", \"name\": \"Rwanda\", \"showlegend\": true, \"type\": \"scattergl\", \"x\": [1962, 1967, 1972, 1977, 1982, 1987, 1992, 1997, 2002, 2007], \"xaxis\": \"x\", \"y\": [123.656100527, 138.561532225, 161.479813539, 188.409809485, 222.392825294, 273.30320227, 272.108796109, 263.725901905, 346.130077017, 384.316295095], \"yaxis\": \"y\"}, {\"hovertemplate\": \"<b>%{hovertext}</b><br><br>Country Name=Sao Tome and Principe<br>Year=%{x}<br>Population density (people per sq. km of land area)=%{y}<extra></extra>\", \"hovertext\": [\"Sao Tome and Principe\", \"Sao Tome and Principe\", \"Sao Tome and Principe\", \"Sao Tome and Principe\", \"Sao Tome and Principe\", \"Sao Tome and Principe\", \"Sao Tome and Principe\", \"Sao Tome and Principe\", \"Sao Tome and Principe\", \"Sao Tome and Principe\"], \"legendgroup\": \"Sao Tome and Principe\", \"line\": {\"color\": \"#FF97FF\", \"dash\": \"solid\"}, \"mode\": \"lines\", \"name\": \"Sao Tome and Principe\", \"showlegend\": true, \"type\": \"scattergl\", \"x\": [1962, 1967, 1972, 1977, 1982, 1987, 1992, 1997, 2002, 2007], \"xaxis\": \"x\", \"y\": [67.1135416667, 70.7020833333, 80.7666666667, 91.0791666667, 102.804166667, 111.733333333, 123.277083333, 135.53125, 149.046875, 166.733333333], \"yaxis\": \"y\"}, {\"hovertemplate\": \"<b>%{hovertext}</b><br><br>Country Name=Saudi Arabia<br>Year=%{x}<br>Population density (people per sq. km of land area)=%{y}<extra></extra>\", \"hovertext\": [\"Saudi Arabia\", \"Saudi Arabia\", \"Saudi Arabia\", \"Saudi Arabia\", \"Saudi Arabia\", \"Saudi Arabia\", \"Saudi Arabia\", \"Saudi Arabia\", \"Saudi Arabia\", \"Saudi Arabia\"], \"legendgroup\": \"Saudi Arabia\", \"line\": {\"color\": \"#FECB52\", \"dash\": \"solid\"}, \"mode\": \"lines\", \"name\": \"Saudi Arabia\", \"showlegend\": true, \"type\": \"scattergl\", \"x\": [1962, 1967, 1972, 1977, 1982, 1987, 1992, 1997, 2002, 2007], \"xaxis\": \"x\", \"y\": [2.02953123474, 2.41725504608, 2.96884946202, 3.8588745354, 5.2319567007300005, 6.81137931516, 8.09350324931, 9.21511148119, 10.5448236723, 12.1336201964], \"yaxis\": \"y\"}, {\"hovertemplate\": \"<b>%{hovertext}</b><br><br>Country Name=Senegal<br>Year=%{x}<br>Population density (people per sq. km of land area)=%{y}<extra></extra>\", \"hovertext\": [\"Senegal\", \"Senegal\", \"Senegal\", \"Senegal\", \"Senegal\", \"Senegal\", \"Senegal\", \"Senegal\", \"Senegal\", \"Senegal\"], \"legendgroup\": \"Senegal\", \"line\": {\"color\": \"#636efa\", \"dash\": \"solid\"}, \"mode\": \"lines\", \"name\": \"Senegal\", \"showlegend\": true, \"type\": \"scattergl\", \"x\": [1962, 1967, 1972, 1977, 1982, 1987, 1992, 1997, 2002, 2007], \"xaxis\": \"x\", \"y\": [17.4332363787, 20.0632784501, 23.2968472446, 26.8026437438, 30.5836025554, 35.560982704000004, 41.5038487508, 47.5935386693, 53.96279540850001, 61.7941619488], \"yaxis\": \"y\"}, {\"hovertemplate\": \"<b>%{hovertext}</b><br><br>Country Name=Serbia<br>Year=%{x}<br>Population density (people per sq. km of land area)=%{y}<extra></extra>\", \"hovertext\": [\"Serbia\"], \"legendgroup\": \"Serbia\", \"line\": {\"color\": \"#EF553B\", \"dash\": \"solid\"}, \"mode\": \"lines\", \"name\": \"Serbia\", \"showlegend\": true, \"type\": \"scattergl\", \"x\": [2007], \"xaxis\": \"x\", \"y\": [84.3994854791], \"yaxis\": \"y\"}, {\"hovertemplate\": \"<b>%{hovertext}</b><br><br>Country Name=Sierra Leone<br>Year=%{x}<br>Population density (people per sq. km of land area)=%{y}<extra></extra>\", \"hovertext\": [\"Sierra Leone\", \"Sierra Leone\", \"Sierra Leone\", \"Sierra Leone\", \"Sierra Leone\", \"Sierra Leone\", \"Sierra Leone\", \"Sierra Leone\", \"Sierra Leone\", \"Sierra Leone\"], \"legendgroup\": \"Sierra Leone\", \"line\": {\"color\": \"#00cc96\", \"dash\": \"solid\"}, \"mode\": \"lines\", \"name\": \"Sierra Leone\", \"showlegend\": true, \"type\": \"scattergl\", \"x\": [1962, 1967, 1972, 1977, 1982, 1987, 1992, 1997, 2002, 2007], \"xaxis\": \"x\", \"y\": [31.0277223608, 33.2455943475, 36.1019257412, 39.9917844278, 44.6709060682, 51.0105985037, 54.43588251590001, 53.2484344694, 61.2656414519, 74.68977556109999], \"yaxis\": \"y\"}, {\"hovertemplate\": \"<b>%{hovertext}</b><br><br>Country Name=Singapore<br>Year=%{x}<br>Population density (people per sq. km of land area)=%{y}<extra></extra>\", \"hovertext\": [\"Singapore\", \"Singapore\", \"Singapore\", \"Singapore\", \"Singapore\", \"Singapore\", \"Singapore\", \"Singapore\", \"Singapore\", \"Singapore\"], \"legendgroup\": \"Singapore\", \"line\": {\"color\": \"#ab63fa\", \"dash\": \"solid\"}, \"mode\": \"lines\", \"name\": \"Singapore\", \"showlegend\": true, \"type\": \"scattergl\", \"x\": [1962, 1967, 1972, 1977, 1982, 1987, 1992, 1997, 2002, 2007], \"xaxis\": \"x\", \"y\": [2612.23880597, 2951.64179104, 3212.53731343, 3470.59701493, 3949.94925373, 4141.4761194, 4821.93731343, 5665.72835821, 6186.59259259, 6602.30071942], \"yaxis\": \"y\"}, {\"hovertemplate\": \"<b>%{hovertext}</b><br><br>Country Name=Slovak Republic<br>Year=%{x}<br>Population density (people per sq. km of land area)=%{y}<extra></extra>\", \"hovertext\": [\"Slovak Republic\", \"Slovak Republic\", \"Slovak Republic\", \"Slovak Republic\"], \"legendgroup\": \"Slovak Republic\", \"line\": {\"color\": \"#FFA15A\", \"dash\": \"solid\"}, \"mode\": \"lines\", \"name\": \"Slovak Republic\", \"showlegend\": true, \"type\": \"scattergl\", \"x\": [1992, 1997, 2002, 2007], \"xaxis\": \"x\", \"y\": [110.291392931, 111.918731809, 111.786112266, 111.738503119], \"yaxis\": \"y\"}, {\"hovertemplate\": \"<b>%{hovertext}</b><br><br>Country Name=Slovenia<br>Year=%{x}<br>Population density (people per sq. km of land area)=%{y}<extra></extra>\", \"hovertext\": [\"Slovenia\", \"Slovenia\", \"Slovenia\", \"Slovenia\"], \"legendgroup\": \"Slovenia\", \"line\": {\"color\": \"#19d3f3\", \"dash\": \"solid\"}, \"mode\": \"lines\", \"name\": \"Slovenia\", \"showlegend\": true, \"type\": \"scattergl\", \"x\": [1992, 1997, 2002, 2007], \"xaxis\": \"x\", \"y\": [99.1309831182, 98.6075471698, 99.0332671301, 100.204667329], \"yaxis\": \"y\"}, {\"hovertemplate\": \"<b>%{hovertext}</b><br><br>Country Name=Somalia<br>Year=%{x}<br>Population density (people per sq. km of land area)=%{y}<extra></extra>\", \"hovertext\": [\"Somalia\", \"Somalia\", \"Somalia\", \"Somalia\", \"Somalia\", \"Somalia\", \"Somalia\", \"Somalia\", \"Somalia\"], \"legendgroup\": \"Somalia\", \"line\": {\"color\": \"#FF6692\", \"dash\": \"solid\"}, \"mode\": \"lines\", \"name\": \"Somalia\", \"showlegend\": true, \"type\": \"scattergl\", \"x\": [1962, 1967, 1972, 1977, 1982, 1987, 1992, 2002, 2007], \"xaxis\": \"x\", \"y\": [4.58275257436, 5.14433162241, 5.56364172538, 7.578265374439999, 9.99703191252, 9.7856138617, 10.0328641566, 12.4768116173, 14.2012545031], \"yaxis\": \"y\"}, {\"hovertemplate\": \"<b>%{hovertext}</b><br><br>Country Name=South Africa<br>Year=%{x}<br>Population density (people per sq. km of land area)=%{y}<extra></extra>\", \"hovertext\": [\"South Africa\", \"South Africa\", \"South Africa\", \"South Africa\", \"South Africa\", \"South Africa\", \"South Africa\", \"South Africa\", \"South Africa\", \"South Africa\"], \"legendgroup\": \"South Africa\", \"line\": {\"color\": \"#B6E880\", \"dash\": \"solid\"}, \"mode\": \"lines\", \"name\": \"South Africa\", \"showlegend\": true, \"type\": \"scattergl\", \"x\": [1962, 1967, 1972, 1977, 1982, 1987, 1992, 1997, 2002, 2007], \"xaxis\": \"x\", \"y\": [15.103854619200002, 17.1823896001, 19.5669645286, 22.265252372, 25.2340766143, 28.409332366100006, 31.8581374836, 35.3819634157, 37.8005612798, 40.2969647684], \"yaxis\": \"y\"}, {\"hovertemplate\": \"<b>%{hovertext}</b><br><br>Country Name=Spain<br>Year=%{x}<br>Population density (people per sq. km of land area)=%{y}<extra></extra>\", \"hovertext\": [\"Spain\", \"Spain\", \"Spain\", \"Spain\", \"Spain\", \"Spain\", \"Spain\", \"Spain\", \"Spain\", \"Spain\"], \"legendgroup\": \"Spain\", \"line\": {\"color\": \"#FF97FF\", \"dash\": \"solid\"}, \"mode\": \"lines\", \"name\": \"Spain\", \"showlegend\": true, \"type\": \"scattergl\", \"x\": [1962, 1967, 1972, 1977, 1982, 1987, 1992, 1997, 2002, 2007], \"xaxis\": \"x\", \"y\": [62.0740445796, 65.3946676538, 69.2394033375, 73.09051927770001, 76.05416249550001, 77.4563811469, 78.4031815634, 80.20460716, 83.0225192369, 90.61490052290002], \"yaxis\": \"y\"}, {\"hovertemplate\": \"<b>%{hovertext}</b><br><br>Country Name=Sri Lanka<br>Year=%{x}<br>Population density (people per sq. km of land area)=%{y}<extra></extra>\", \"hovertext\": [\"Sri Lanka\", \"Sri Lanka\", \"Sri Lanka\", \"Sri Lanka\", \"Sri Lanka\", \"Sri Lanka\", \"Sri Lanka\", \"Sri Lanka\", \"Sri Lanka\", \"Sri Lanka\"], \"legendgroup\": \"Sri Lanka\", \"line\": {\"color\": \"#FECB52\", \"dash\": \"solid\"}, \"mode\": \"lines\", \"name\": \"Sri Lanka\", \"showlegend\": true, \"type\": \"scattergl\", \"x\": [1962, 1967, 1972, 1977, 1982, 1987, 1992, 1997, 2002, 2007], \"xaxis\": \"x\", \"y\": [166.52846436, 186.620953596, 205.08690798900005, 222.32498804, 240.727156753, 260.548556849, 279.445064583, 292.186254186, 302.009248924, 313.634189125], \"yaxis\": \"y\"}, {\"hovertemplate\": \"<b>%{hovertext}</b><br><br>Country Name=Sudan<br>Year=%{x}<br>Population density (people per sq. km of land area)=%{y}<extra></extra>\", \"hovertext\": [\"Sudan\", \"Sudan\", \"Sudan\", \"Sudan\", \"Sudan\", \"Sudan\", \"Sudan\", \"Sudan\", \"Sudan\", \"Sudan\"], \"legendgroup\": \"Sudan\", \"line\": {\"color\": \"#636efa\", \"dash\": \"solid\"}, \"mode\": \"lines\", \"name\": \"Sudan\", \"showlegend\": true, \"type\": \"scattergl\", \"x\": [1962, 1967, 1972, 1977, 1982, 1987, 1992, 1997, 2002, 2007], \"xaxis\": \"x\", \"y\": [4.65142550505, 5.34818981481, 6.204436868689999, 7.27591624579, 8.6185016835, 10.0129015152, 11.537851430999998, 13.4495265152, 15.4895686027, 17.8676157407], \"yaxis\": \"y\"}, {\"hovertemplate\": \"<b>%{hovertext}</b><br><br>Country Name=Swaziland<br>Year=%{x}<br>Population density (people per sq. km of land area)=%{y}<extra></extra>\", \"hovertext\": [\"Swaziland\", \"Swaziland\", \"Swaziland\", \"Swaziland\", \"Swaziland\", \"Swaziland\", \"Swaziland\", \"Swaziland\", \"Swaziland\"], \"legendgroup\": \"Swaziland\", \"line\": {\"color\": \"#EF553B\", \"dash\": \"solid\"}, \"mode\": \"lines\", \"name\": \"Swaziland\", \"showlegend\": true, \"type\": \"scattergl\", \"x\": [1967, 1972, 1977, 1982, 1987, 1992, 1997, 2002, 2007], \"xaxis\": \"x\", \"y\": [23.9231395349, 27.4614534884, 31.9845930233, 37.1705232558, 44.6172674419, 52.7876162791, 58.5325581395, 62.9183139535, 65.97982558140001], \"yaxis\": \"y\"}, {\"hovertemplate\": \"<b>%{hovertext}</b><br><br>Country Name=Sweden<br>Year=%{x}<br>Population density (people per sq. km of land area)=%{y}<extra></extra>\", \"hovertext\": [\"Sweden\", \"Sweden\", \"Sweden\", \"Sweden\", \"Sweden\", \"Sweden\", \"Sweden\", \"Sweden\", \"Sweden\", \"Sweden\"], \"legendgroup\": \"Sweden\", \"line\": {\"color\": \"#00cc96\", \"dash\": \"solid\"}, \"mode\": \"lines\", \"name\": \"Sweden\", \"showlegend\": true, \"type\": \"scattergl\", \"x\": [1962, 1967, 1972, 1977, 1982, 1987, 1992, 1997, 2002, 2007], \"xaxis\": \"x\", \"y\": [18.4276161232, 19.1741750743, 19.7940732076, 20.1090315348, 20.2886947409, 20.465477409, 21.1241092752, 21.5578837062, 21.7501535312, 22.2939318614], \"yaxis\": \"y\"}, {\"hovertemplate\": \"<b>%{hovertext}</b><br><br>Country Name=Switzerland<br>Year=%{x}<br>Population density (people per sq. km of land area)=%{y}<extra></extra>\", \"hovertext\": [\"Switzerland\", \"Switzerland\", \"Switzerland\", \"Switzerland\", \"Switzerland\", \"Switzerland\", \"Switzerland\", \"Switzerland\", \"Switzerland\", \"Switzerland\"], \"legendgroup\": \"Switzerland\", \"line\": {\"color\": \"#ab63fa\", \"dash\": \"solid\"}, \"mode\": \"lines\", \"name\": \"Switzerland\", \"showlegend\": true, \"type\": \"scattergl\", \"x\": [1962, 1967, 1972, 1977, 1982, 1987, 1992, 1997, 2002, 2007], \"xaxis\": \"x\", \"y\": [141.009284558, 151.583308035, 158.392936652, 158.90442218200002, 161.690674965, 165.57732297799998, 173.93215107900002, 179.34338553400002, 184.321466525, 191.090115396], \"yaxis\": \"y\"}, {\"hovertemplate\": \"<b>%{hovertext}</b><br><br>Country Name=Tanzania<br>Year=%{x}<br>Population density (people per sq. km of land area)=%{y}<extra></extra>\", \"hovertext\": [\"Tanzania\", \"Tanzania\", \"Tanzania\", \"Tanzania\", \"Tanzania\", \"Tanzania\", \"Tanzania\", \"Tanzania\", \"Tanzania\", \"Tanzania\"], \"legendgroup\": \"Tanzania\", \"line\": {\"color\": \"#FFA15A\", \"dash\": \"solid\"}, \"mode\": \"lines\", \"name\": \"Tanzania\", \"showlegend\": true, \"type\": \"scattergl\", \"x\": [1962, 1967, 1972, 1977, 1982, 1987, 1992, 1997, 2002, 2007], \"xaxis\": \"x\", \"y\": [12.0612869722, 14.0054639874, 16.3767170919, 19.2120264168, 22.4595585911, 26.1957394446, 30.7110690901, 35.5992108828, 40.4780763152, 46.8751456311], \"yaxis\": \"y\"}, {\"hovertemplate\": \"<b>%{hovertext}</b><br><br>Country Name=Thailand<br>Year=%{x}<br>Population density (people per sq. km of land area)=%{y}<extra></extra>\", \"hovertext\": [\"Thailand\", \"Thailand\", \"Thailand\", \"Thailand\", \"Thailand\", \"Thailand\", \"Thailand\", \"Thailand\", \"Thailand\", \"Thailand\"], \"legendgroup\": \"Thailand\", \"line\": {\"color\": \"#19d3f3\", \"dash\": \"solid\"}, \"mode\": \"lines\", \"name\": \"Thailand\", \"showlegend\": true, \"type\": \"scattergl\", \"x\": [1962, 1967, 1972, 1977, 1982, 1987, 1992, 1997, 2002, 2007], \"xaxis\": \"x\", \"y\": [56.9223061716, 66.1169723424, 76.4587269275, 86.9384936092, 96.4309283799, 105.657779561, 113.060686253, 118.508753352, 125.539096479, 129.878392609], \"yaxis\": \"y\"}, {\"hovertemplate\": \"<b>%{hovertext}</b><br><br>Country Name=Togo<br>Year=%{x}<br>Population density (people per sq. km of land area)=%{y}<extra></extra>\", \"hovertext\": [\"Togo\", \"Togo\", \"Togo\", \"Togo\", \"Togo\", \"Togo\", \"Togo\", \"Togo\", \"Togo\", \"Togo\"], \"legendgroup\": \"Togo\", \"line\": {\"color\": \"#FF6692\", \"dash\": \"solid\"}, \"mode\": \"lines\", \"name\": \"Togo\", \"showlegend\": true, \"type\": \"scattergl\", \"x\": [1962, 1967, 1972, 1977, 1982, 1987, 1992, 1997, 2002, 2007], \"xaxis\": \"x\", \"y\": [29.6517374517, 34.1137157566, 41.323313109, 46.305681191400005, 53.5971318257, 63.8437028866, 73.2553042839, 82.8546607832, 94.5471410186, 108.299577128], \"yaxis\": \"y\"}, {\"hovertemplate\": \"<b>%{hovertext}</b><br><br>Country Name=Trinidad and Tobago<br>Year=%{x}<br>Population density (people per sq. km of land area)=%{y}<extra></extra>\", \"hovertext\": [\"Trinidad and Tobago\", \"Trinidad and Tobago\", \"Trinidad and Tobago\", \"Trinidad and Tobago\", \"Trinidad and Tobago\", \"Trinidad and Tobago\", \"Trinidad and Tobago\", \"Trinidad and Tobago\", \"Trinidad and Tobago\", \"Trinidad and Tobago\"], \"legendgroup\": \"Trinidad and Tobago\", \"line\": {\"color\": \"#B6E880\", \"dash\": \"solid\"}, \"mode\": \"lines\", \"name\": \"Trinidad and Tobago\", \"showlegend\": true, \"type\": \"scattergl\", \"x\": [1962, 1967, 1972, 1977, 1982, 1987, 1992, 1997, 2002, 2007], \"xaxis\": \"x\", \"y\": [171.543664717, 180.490838207, 188.838596491, 202.681676413, 218.442495127, 232.990838207, 241.225341131, 245.746003899, 249.09161793400003, 255.21637426900003], \"yaxis\": \"y\"}, {\"hovertemplate\": \"<b>%{hovertext}</b><br><br>Country Name=Tunisia<br>Year=%{x}<br>Population density (people per sq. km of land area)=%{y}<extra></extra>\", \"hovertext\": [\"Tunisia\", \"Tunisia\", \"Tunisia\", \"Tunisia\", \"Tunisia\", \"Tunisia\", \"Tunisia\", \"Tunisia\", \"Tunisia\", \"Tunisia\"], \"legendgroup\": \"Tunisia\", \"line\": {\"color\": \"#FF97FF\", \"dash\": \"solid\"}, \"mode\": \"lines\", \"name\": \"Tunisia\", \"showlegend\": true, \"type\": \"scattergl\", \"x\": [1962, 1967, 1972, 1977, 1982, 1987, 1992, 1997, 2002, 2007], \"xaxis\": \"x\", \"y\": [27.6977986612, 30.4945481462, 34.034165808400004, 38.0729016478, 43.3442198764, 49.51239701340001, 55.3760684861, 60.4026197219, 63.4925785273, 66.28937306899999], \"yaxis\": \"y\"}, {\"hovertemplate\": \"<b>%{hovertext}</b><br><br>Country Name=Turkey<br>Year=%{x}<br>Population density (people per sq. km of land area)=%{y}<extra></extra>\", \"hovertext\": [\"Turkey\", \"Turkey\", \"Turkey\", \"Turkey\", \"Turkey\", \"Turkey\", \"Turkey\", \"Turkey\", \"Turkey\", \"Turkey\"], \"legendgroup\": \"Turkey\", \"line\": {\"color\": \"#FECB52\", \"dash\": \"solid\"}, \"mode\": \"lines\", \"name\": \"Turkey\", \"showlegend\": true, \"type\": \"scattergl\", \"x\": [1962, 1967, 1972, 1977, 1982, 1987, 1992, 1997, 2002, 2007], \"xaxis\": \"x\", \"y\": [37.5634850513, 42.1610436184, 47.3933656432, 53.29861232020001, 59.7663032886, 66.4849875914, 72.5168379611, 78.47160843520001, 84.6195782389, 90.3232618271], \"yaxis\": \"y\"}, {\"hovertemplate\": \"<b>%{hovertext}</b><br><br>Country Name=Uganda<br>Year=%{x}<br>Population density (people per sq. km of land area)=%{y}<extra></extra>\", \"hovertext\": [\"Uganda\", \"Uganda\", \"Uganda\", \"Uganda\", \"Uganda\", \"Uganda\", \"Uganda\", \"Uganda\", \"Uganda\", \"Uganda\"], \"legendgroup\": \"Uganda\", \"line\": {\"color\": \"#636efa\", \"dash\": \"solid\"}, \"mode\": \"lines\", \"name\": \"Uganda\", \"showlegend\": true, \"type\": \"scattergl\", \"x\": [1962, 1967, 1972, 1977, 1982, 1987, 1992, 1997, 2002, 2007], \"xaxis\": \"x\", \"y\": [36.2351984385, 42.9439567589, 49.9890946399, 57.4082428307, 66.654066363, 78.4158850908, 92.945933637, 108.500560533, 126.899524548, 150.102387268], \"yaxis\": \"y\"}, {\"hovertemplate\": \"<b>%{hovertext}</b><br><br>Country Name=United Kingdom<br>Year=%{x}<br>Population density (people per sq. km of land area)=%{y}<extra></extra>\", \"hovertext\": [\"United Kingdom\", \"United Kingdom\", \"United Kingdom\", \"United Kingdom\", \"United Kingdom\", \"United Kingdom\", \"United Kingdom\", \"United Kingdom\", \"United Kingdom\", \"United Kingdom\"], \"legendgroup\": \"United Kingdom\", \"line\": {\"color\": \"#EF553B\", \"dash\": \"solid\"}, \"mode\": \"lines\", \"name\": \"United Kingdom\", \"showlegend\": true, \"type\": \"scattergl\", \"x\": [1962, 1967, 1972, 1977, 1982, 1987, 1992, 1997, 2002, 2007], \"xaxis\": \"x\", \"y\": [220.104989046, 227.105361055, 231.82765676, 232.271698425, 232.768325549, 234.787128508, 238.00438969900003, 241.048873641, 245.403542347, 253.471925764], \"yaxis\": \"y\"}, {\"hovertemplate\": \"<b>%{hovertext}</b><br><br>Country Name=United States<br>Year=%{x}<br>Population density (people per sq. km of land area)=%{y}<extra></extra>\", \"hovertext\": [\"United States\", \"United States\", \"United States\", \"United States\", \"United States\", \"United States\", \"United States\", \"United States\", \"United States\", \"United States\"], \"legendgroup\": \"United States\", \"line\": {\"color\": \"#00cc96\", \"dash\": \"solid\"}, \"mode\": \"lines\", \"name\": \"United States\", \"showlegend\": true, \"type\": \"scattergl\", \"x\": [1962, 1967, 1972, 1977, 1982, 1987, 1992, 1997, 2002, 2007], \"xaxis\": \"x\", \"y\": [20.3667228594, 21.6959130731, 22.9170124119, 24.0462890983, 25.2937014683, 26.4537676767, 28.0068916121, 29.76942797, 31.393549932800003, 32.8786113609], \"yaxis\": \"y\"}, {\"hovertemplate\": \"<b>%{hovertext}</b><br><br>Country Name=Uruguay<br>Year=%{x}<br>Population density (people per sq. km of land area)=%{y}<extra></extra>\", \"hovertext\": [\"Uruguay\", \"Uruguay\", \"Uruguay\", \"Uruguay\", \"Uruguay\", \"Uruguay\", \"Uruguay\", \"Uruguay\", \"Uruguay\", \"Uruguay\"], \"legendgroup\": \"Uruguay\", \"line\": {\"color\": \"#ab63fa\", \"dash\": \"solid\"}, \"mode\": \"lines\", \"name\": \"Uruguay\", \"showlegend\": true, \"type\": \"scattergl\", \"x\": [1962, 1967, 1972, 1977, 1982, 1987, 1992, 1997, 2002, 2007], \"xaxis\": \"x\", \"y\": [14.8776539824, 15.713021369000002, 16.1206547823, 16.3244600617, 16.8796766084, 17.426362701400002, 18.0256713518, 18.6893726431, 19.0136555822, 19.0821049023], \"yaxis\": \"y\"}, {\"hovertemplate\": \"<b>%{hovertext}</b><br><br>Country Name=Vietnam<br>Year=%{x}<br>Population density (people per sq. km of land area)=%{y}<extra></extra>\", \"hovertext\": [\"Vietnam\", \"Vietnam\", \"Vietnam\", \"Vietnam\", \"Vietnam\", \"Vietnam\", \"Vietnam\", \"Vietnam\", \"Vietnam\", \"Vietnam\"], \"legendgroup\": \"Vietnam\", \"line\": {\"color\": \"#FFA15A\", \"dash\": \"solid\"}, \"mode\": \"lines\", \"name\": \"Vietnam\", \"showlegend\": true, \"type\": \"scattergl\", \"x\": [1962, 1967, 1972, 1977, 1982, 1987, 1992, 1997, 2002, 2007], \"xaxis\": \"x\", \"y\": [110.98036806, 122.830194476, 137.509600909, 154.520876217, 171.086669329, 189.713969707, 210.298626686, 228.292420658, 256.118821446, 271.611249073], \"yaxis\": \"y\"}, {\"hovertemplate\": \"<b>%{hovertext}</b><br><br>Country Name=West Bank and Gaza<br>Year=%{x}<br>Population density (people per sq. km of land area)=%{y}<extra></extra>\", \"hovertext\": [\"West Bank and Gaza\", \"West Bank and Gaza\", \"West Bank and Gaza\"], \"legendgroup\": \"West Bank and Gaza\", \"line\": {\"color\": \"#19d3f3\", \"dash\": \"solid\"}, \"mode\": \"lines\", \"name\": \"West Bank and Gaza\", \"showlegend\": true, \"type\": \"scattergl\", \"x\": [1997, 2002, 2007], \"xaxis\": \"x\", \"y\": [449.587707641, 510.859302326, 580.481063123], \"yaxis\": \"y\"}, {\"hovertemplate\": \"<b>%{hovertext}</b><br><br>Country Name=Zambia<br>Year=%{x}<br>Population density (people per sq. km of land area)=%{y}<extra></extra>\", \"hovertext\": [\"Zambia\", \"Zambia\", \"Zambia\", \"Zambia\", \"Zambia\", \"Zambia\", \"Zambia\", \"Zambia\", \"Zambia\"], \"legendgroup\": \"Zambia\", \"line\": {\"color\": \"#FF6692\", \"dash\": \"solid\"}, \"mode\": \"lines\", \"name\": \"Zambia\", \"showlegend\": true, \"type\": \"scattergl\", \"x\": [1967, 1972, 1977, 1982, 1987, 1992, 1997, 2002, 2007], \"xaxis\": \"x\", \"y\": [5.10211867257, 6.032016841769999, 7.18808431644, 8.545394745689999, 10.0475793325, 11.5376679805, 13.134077671199998, 14.9853751059, 17.135925960799998], \"yaxis\": \"y\"}, {\"hovertemplate\": \"<b>%{hovertext}</b><br><br>Country Name=Zimbabwe<br>Year=%{x}<br>Population density (people per sq. km of land area)=%{y}<extra></extra>\", \"hovertext\": [\"Zimbabwe\", \"Zimbabwe\", \"Zimbabwe\", \"Zimbabwe\", \"Zimbabwe\", \"Zimbabwe\", \"Zimbabwe\", \"Zimbabwe\", \"Zimbabwe\"], \"legendgroup\": \"Zimbabwe\", \"line\": {\"color\": \"#B6E880\", \"dash\": \"solid\"}, \"mode\": \"lines\", \"name\": \"Zimbabwe\", \"showlegend\": true, \"type\": \"scattergl\", \"x\": [1967, 1972, 1977, 1982, 1987, 1992, 1997, 2002, 2007], \"xaxis\": \"x\", \"y\": [12.197523588, 14.4069070699, 17.011086984600002, 20.3603825772, 24.6494946362, 28.4857619232, 31.1745069148, 32.807111283400005, 34.3745586145], \"yaxis\": \"y\"}],                        {\"legend\": {\"title\": {\"text\": \"Country Name\"}, \"tracegroupgap\": 0}, \"template\": {\"data\": {\"bar\": [{\"error_x\": {\"color\": \"#2a3f5f\"}, \"error_y\": {\"color\": \"#2a3f5f\"}, \"marker\": {\"line\": {\"color\": \"#E5ECF6\", \"width\": 0.5}}, \"type\": \"bar\"}], \"barpolar\": [{\"marker\": {\"line\": {\"color\": \"#E5ECF6\", \"width\": 0.5}}, \"type\": \"barpolar\"}], \"carpet\": [{\"aaxis\": {\"endlinecolor\": \"#2a3f5f\", \"gridcolor\": \"white\", \"linecolor\": \"white\", \"minorgridcolor\": \"white\", \"startlinecolor\": \"#2a3f5f\"}, \"baxis\": {\"endlinecolor\": \"#2a3f5f\", \"gridcolor\": \"white\", \"linecolor\": \"white\", \"minorgridcolor\": \"white\", \"startlinecolor\": \"#2a3f5f\"}, \"type\": \"carpet\"}], \"choropleth\": [{\"colorbar\": {\"outlinewidth\": 0, \"ticks\": \"\"}, \"type\": \"choropleth\"}], \"contour\": [{\"colorbar\": {\"outlinewidth\": 0, \"ticks\": \"\"}, \"colorscale\": [[0.0, \"#0d0887\"], [0.1111111111111111, \"#46039f\"], [0.2222222222222222, \"#7201a8\"], [0.3333333333333333, \"#9c179e\"], [0.4444444444444444, \"#bd3786\"], [0.5555555555555556, \"#d8576b\"], [0.6666666666666666, \"#ed7953\"], [0.7777777777777778, \"#fb9f3a\"], [0.8888888888888888, \"#fdca26\"], [1.0, \"#f0f921\"]], \"type\": \"contour\"}], \"contourcarpet\": [{\"colorbar\": {\"outlinewidth\": 0, \"ticks\": \"\"}, \"type\": \"contourcarpet\"}], \"heatmap\": [{\"colorbar\": {\"outlinewidth\": 0, \"ticks\": \"\"}, \"colorscale\": [[0.0, \"#0d0887\"], [0.1111111111111111, \"#46039f\"], [0.2222222222222222, \"#7201a8\"], [0.3333333333333333, \"#9c179e\"], [0.4444444444444444, \"#bd3786\"], [0.5555555555555556, \"#d8576b\"], [0.6666666666666666, \"#ed7953\"], [0.7777777777777778, \"#fb9f3a\"], [0.8888888888888888, \"#fdca26\"], [1.0, \"#f0f921\"]], \"type\": \"heatmap\"}], \"heatmapgl\": [{\"colorbar\": {\"outlinewidth\": 0, \"ticks\": \"\"}, \"colorscale\": [[0.0, \"#0d0887\"], [0.1111111111111111, \"#46039f\"], [0.2222222222222222, \"#7201a8\"], [0.3333333333333333, \"#9c179e\"], [0.4444444444444444, \"#bd3786\"], [0.5555555555555556, \"#d8576b\"], [0.6666666666666666, \"#ed7953\"], [0.7777777777777778, \"#fb9f3a\"], [0.8888888888888888, \"#fdca26\"], [1.0, \"#f0f921\"]], \"type\": \"heatmapgl\"}], \"histogram\": [{\"marker\": {\"colorbar\": {\"outlinewidth\": 0, \"ticks\": \"\"}}, \"type\": \"histogram\"}], \"histogram2d\": [{\"colorbar\": {\"outlinewidth\": 0, \"ticks\": \"\"}, \"colorscale\": [[0.0, \"#0d0887\"], [0.1111111111111111, \"#46039f\"], [0.2222222222222222, \"#7201a8\"], [0.3333333333333333, \"#9c179e\"], [0.4444444444444444, \"#bd3786\"], [0.5555555555555556, \"#d8576b\"], [0.6666666666666666, \"#ed7953\"], [0.7777777777777778, \"#fb9f3a\"], [0.8888888888888888, \"#fdca26\"], [1.0, \"#f0f921\"]], \"type\": \"histogram2d\"}], \"histogram2dcontour\": [{\"colorbar\": {\"outlinewidth\": 0, \"ticks\": \"\"}, \"colorscale\": [[0.0, \"#0d0887\"], [0.1111111111111111, \"#46039f\"], [0.2222222222222222, \"#7201a8\"], [0.3333333333333333, \"#9c179e\"], [0.4444444444444444, \"#bd3786\"], [0.5555555555555556, \"#d8576b\"], [0.6666666666666666, \"#ed7953\"], [0.7777777777777778, \"#fb9f3a\"], [0.8888888888888888, \"#fdca26\"], [1.0, \"#f0f921\"]], \"type\": \"histogram2dcontour\"}], \"mesh3d\": [{\"colorbar\": {\"outlinewidth\": 0, \"ticks\": \"\"}, \"type\": \"mesh3d\"}], \"parcoords\": [{\"line\": {\"colorbar\": {\"outlinewidth\": 0, \"ticks\": \"\"}}, \"type\": \"parcoords\"}], \"pie\": [{\"automargin\": true, \"type\": \"pie\"}], \"scatter\": [{\"marker\": {\"colorbar\": {\"outlinewidth\": 0, \"ticks\": \"\"}}, \"type\": \"scatter\"}], \"scatter3d\": [{\"line\": {\"colorbar\": {\"outlinewidth\": 0, \"ticks\": \"\"}}, \"marker\": {\"colorbar\": {\"outlinewidth\": 0, \"ticks\": \"\"}}, \"type\": \"scatter3d\"}], \"scattercarpet\": [{\"marker\": {\"colorbar\": {\"outlinewidth\": 0, \"ticks\": \"\"}}, \"type\": \"scattercarpet\"}], \"scattergeo\": [{\"marker\": {\"colorbar\": {\"outlinewidth\": 0, \"ticks\": \"\"}}, \"type\": \"scattergeo\"}], \"scattergl\": [{\"marker\": {\"colorbar\": {\"outlinewidth\": 0, \"ticks\": \"\"}}, \"type\": \"scattergl\"}], \"scattermapbox\": [{\"marker\": {\"colorbar\": {\"outlinewidth\": 0, \"ticks\": \"\"}}, \"type\": \"scattermapbox\"}], \"scatterpolar\": [{\"marker\": {\"colorbar\": {\"outlinewidth\": 0, \"ticks\": \"\"}}, \"type\": \"scatterpolar\"}], \"scatterpolargl\": [{\"marker\": {\"colorbar\": {\"outlinewidth\": 0, \"ticks\": \"\"}}, \"type\": \"scatterpolargl\"}], \"scatterternary\": [{\"marker\": {\"colorbar\": {\"outlinewidth\": 0, \"ticks\": \"\"}}, \"type\": \"scatterternary\"}], \"surface\": [{\"colorbar\": {\"outlinewidth\": 0, \"ticks\": \"\"}, \"colorscale\": [[0.0, \"#0d0887\"], [0.1111111111111111, \"#46039f\"], [0.2222222222222222, \"#7201a8\"], [0.3333333333333333, \"#9c179e\"], [0.4444444444444444, \"#bd3786\"], [0.5555555555555556, \"#d8576b\"], [0.6666666666666666, \"#ed7953\"], [0.7777777777777778, \"#fb9f3a\"], [0.8888888888888888, \"#fdca26\"], [1.0, \"#f0f921\"]], \"type\": \"surface\"}], \"table\": [{\"cells\": {\"fill\": {\"color\": \"#EBF0F8\"}, \"line\": {\"color\": \"white\"}}, \"header\": {\"fill\": {\"color\": \"#C8D4E3\"}, \"line\": {\"color\": \"white\"}}, \"type\": \"table\"}]}, \"layout\": {\"annotationdefaults\": {\"arrowcolor\": \"#2a3f5f\", \"arrowhead\": 0, \"arrowwidth\": 1}, \"autotypenumbers\": \"strict\", \"coloraxis\": {\"colorbar\": {\"outlinewidth\": 0, \"ticks\": \"\"}}, \"colorscale\": {\"diverging\": [[0, \"#8e0152\"], [0.1, \"#c51b7d\"], [0.2, \"#de77ae\"], [0.3, \"#f1b6da\"], [0.4, \"#fde0ef\"], [0.5, \"#f7f7f7\"], [0.6, \"#e6f5d0\"], [0.7, \"#b8e186\"], [0.8, \"#7fbc41\"], [0.9, \"#4d9221\"], [1, \"#276419\"]], \"sequential\": [[0.0, \"#0d0887\"], [0.1111111111111111, \"#46039f\"], [0.2222222222222222, \"#7201a8\"], [0.3333333333333333, \"#9c179e\"], [0.4444444444444444, \"#bd3786\"], [0.5555555555555556, \"#d8576b\"], [0.6666666666666666, \"#ed7953\"], [0.7777777777777778, \"#fb9f3a\"], [0.8888888888888888, \"#fdca26\"], [1.0, \"#f0f921\"]], \"sequentialminus\": [[0.0, \"#0d0887\"], [0.1111111111111111, \"#46039f\"], [0.2222222222222222, \"#7201a8\"], [0.3333333333333333, \"#9c179e\"], [0.4444444444444444, \"#bd3786\"], [0.5555555555555556, \"#d8576b\"], [0.6666666666666666, \"#ed7953\"], [0.7777777777777778, \"#fb9f3a\"], [0.8888888888888888, \"#fdca26\"], [1.0, \"#f0f921\"]]}, \"colorway\": [\"#636efa\", \"#EF553B\", \"#00cc96\", \"#ab63fa\", \"#FFA15A\", \"#19d3f3\", \"#FF6692\", \"#B6E880\", \"#FF97FF\", \"#FECB52\"], \"font\": {\"color\": \"#2a3f5f\"}, \"geo\": {\"bgcolor\": \"white\", \"lakecolor\": \"white\", \"landcolor\": \"#E5ECF6\", \"showlakes\": true, \"showland\": true, \"subunitcolor\": \"white\"}, \"hoverlabel\": {\"align\": \"left\"}, \"hovermode\": \"closest\", \"mapbox\": {\"style\": \"light\"}, \"paper_bgcolor\": \"white\", \"plot_bgcolor\": \"#E5ECF6\", \"polar\": {\"angularaxis\": {\"gridcolor\": \"white\", \"linecolor\": \"white\", \"ticks\": \"\"}, \"bgcolor\": \"#E5ECF6\", \"radialaxis\": {\"gridcolor\": \"white\", \"linecolor\": \"white\", \"ticks\": \"\"}}, \"scene\": {\"xaxis\": {\"backgroundcolor\": \"#E5ECF6\", \"gridcolor\": \"white\", \"gridwidth\": 2, \"linecolor\": \"white\", \"showbackground\": true, \"ticks\": \"\", \"zerolinecolor\": \"white\"}, \"yaxis\": {\"backgroundcolor\": \"#E5ECF6\", \"gridcolor\": \"white\", \"gridwidth\": 2, \"linecolor\": \"white\", \"showbackground\": true, \"ticks\": \"\", \"zerolinecolor\": \"white\"}, \"zaxis\": {\"backgroundcolor\": \"#E5ECF6\", \"gridcolor\": \"white\", \"gridwidth\": 2, \"linecolor\": \"white\", \"showbackground\": true, \"ticks\": \"\", \"zerolinecolor\": \"white\"}}, \"shapedefaults\": {\"line\": {\"color\": \"#2a3f5f\"}}, \"ternary\": {\"aaxis\": {\"gridcolor\": \"white\", \"linecolor\": \"white\", \"ticks\": \"\"}, \"baxis\": {\"gridcolor\": \"white\", \"linecolor\": \"white\", \"ticks\": \"\"}, \"bgcolor\": \"#E5ECF6\", \"caxis\": {\"gridcolor\": \"white\", \"linecolor\": \"white\", \"ticks\": \"\"}}, \"title\": {\"x\": 0.05}, \"xaxis\": {\"automargin\": true, \"gridcolor\": \"white\", \"linecolor\": \"white\", \"ticks\": \"\", \"title\": {\"standoff\": 15}, \"zerolinecolor\": \"white\", \"zerolinewidth\": 2}, \"yaxis\": {\"automargin\": true, \"gridcolor\": \"white\", \"linecolor\": \"white\", \"ticks\": \"\", \"title\": {\"standoff\": 15}, \"zerolinecolor\": \"white\", \"zerolinewidth\": 2}}}, \"title\": {\"text\": \"Population density (people per sq. km of land area) across all years\"}, \"xaxis\": {\"anchor\": \"y\", \"domain\": [0.0, 1.0], \"title\": {\"text\": \"Year\"}}, \"yaxis\": {\"anchor\": \"x\", \"domain\": [0.0, 1.0], \"title\": {\"text\": \"Population density (people per sq. km of land area)\"}}},                        {\"responsive\": true}                    ).then(function(){\n",
       "                            \n",
       "var gd = document.getElementById('6dfc3101-bc7a-4ad1-b485-e2b86a2cc619');\n",
       "var x = new MutationObserver(function (mutations, observer) {{\n",
       "        var display = window.getComputedStyle(gd).display;\n",
       "        if (!display || display === 'none') {{\n",
       "            console.log([gd, 'removed!']);\n",
       "            Plotly.purge(gd);\n",
       "            observer.disconnect();\n",
       "        }}\n",
       "}});\n",
       "\n",
       "// Listen for the removal of the full notebook cells\n",
       "var notebookContainer = gd.closest('#notebook-container');\n",
       "if (notebookContainer) {{\n",
       "    x.observe(notebookContainer, {childList: true});\n",
       "}}\n",
       "\n",
       "// Listen for the clearing of the current output cell\n",
       "var outputEl = gd.closest('.output');\n",
       "if (outputEl) {{\n",
       "    x.observe(outputEl, {childList: true});\n",
       "}}\n",
       "\n",
       "                        })                };                });            </script>        </div>"
      ]
     },
     "metadata": {},
     "output_type": "display_data"
    }
   ],
   "source": [
    "fig = px.line(df, x=\"Year\", y=\"Population density (people per sq. km of land area)\", color=\"Country Name\",\n",
    "              line_group=\"Country Name\", hover_name=\"Country Name\", \n",
    "              title=\"Population density (people per sq. km of land area) across all years\")\n",
    "fig.show()"
   ]
  },
  {
   "cell_type": "markdown",
   "metadata": {},
   "source": [
    "<a id=\"six\"></a>\n",
    "### What country (or countries) has shown the greatest increase in 'Life expectancy at birth, total (years)' since 1962?\n",
    "<a href=\"#index\">Go to the table of contents</a>"
   ]
  },
  {
   "cell_type": "markdown",
   "metadata": {},
   "source": [
    "<p>I'll extract the first and the last record that contains the \"Life expectancy at birth\" value for each country (not the minimum and maximum values), I'll subtract the last minus the first value and then I'll calculate the relative increment, in percentage:</p>\n",
    "<code>relative increment (%) = (last record - first record)/first record * 100</code>"
   ]
  },
  {
   "cell_type": "code",
   "execution_count": 44,
   "metadata": {},
   "outputs": [
    {
     "data": {
      "text/html": [
       "<div>\n",
       "<style scoped>\n",
       "    .dataframe tbody tr th:only-of-type {\n",
       "        vertical-align: middle;\n",
       "    }\n",
       "\n",
       "    .dataframe tbody tr th {\n",
       "        vertical-align: top;\n",
       "    }\n",
       "\n",
       "    .dataframe thead th {\n",
       "        text-align: right;\n",
       "    }\n",
       "</style>\n",
       "<table border=\"1\" class=\"dataframe\">\n",
       "  <thead>\n",
       "    <tr style=\"text-align: right;\">\n",
       "      <th></th>\n",
       "      <th>last</th>\n",
       "      <th>first</th>\n",
       "      <th>diff</th>\n",
       "      <th>percentage</th>\n",
       "      <th>Country Name</th>\n",
       "    </tr>\n",
       "    <tr>\n",
       "      <th>Country Name</th>\n",
       "      <th></th>\n",
       "      <th></th>\n",
       "      <th></th>\n",
       "      <th></th>\n",
       "      <th></th>\n",
       "    </tr>\n",
       "  </thead>\n",
       "  <tbody>\n",
       "    <tr>\n",
       "      <th>Mali</th>\n",
       "      <td>54.261927</td>\n",
       "      <td>28.548463</td>\n",
       "      <td>25.713463</td>\n",
       "      <td>90.069518</td>\n",
       "      <td>Mali</td>\n",
       "    </tr>\n",
       "    <tr>\n",
       "      <th>Nepal</th>\n",
       "      <td>66.551927</td>\n",
       "      <td>35.952293</td>\n",
       "      <td>30.599634</td>\n",
       "      <td>85.111774</td>\n",
       "      <td>Nepal</td>\n",
       "    </tr>\n",
       "    <tr>\n",
       "      <th>Afghanistan</th>\n",
       "      <td>57.833829</td>\n",
       "      <td>33.219902</td>\n",
       "      <td>24.613927</td>\n",
       "      <td>74.093917</td>\n",
       "      <td>Afghanistan</td>\n",
       "    </tr>\n",
       "    <tr>\n",
       "      <th>Tunisia</th>\n",
       "      <td>74.202439</td>\n",
       "      <td>43.341683</td>\n",
       "      <td>30.860756</td>\n",
       "      <td>71.203410</td>\n",
       "      <td>Tunisia</td>\n",
       "    </tr>\n",
       "    <tr>\n",
       "      <th>China</th>\n",
       "      <td>74.340439</td>\n",
       "      <td>44.398341</td>\n",
       "      <td>29.942098</td>\n",
       "      <td>67.439676</td>\n",
       "      <td>China</td>\n",
       "    </tr>\n",
       "  </tbody>\n",
       "</table>\n",
       "</div>"
      ],
      "text/plain": [
       "                   last      first       diff  percentage Country Name\n",
       "Country Name                                                          \n",
       "Mali          54.261927  28.548463  25.713463   90.069518         Mali\n",
       "Nepal         66.551927  35.952293  30.599634   85.111774        Nepal\n",
       "Afghanistan   57.833829  33.219902  24.613927   74.093917  Afghanistan\n",
       "Tunisia       74.202439  43.341683  30.860756   71.203410      Tunisia\n",
       "China         74.340439  44.398341  29.942098   67.439676        China"
      ]
     },
     "execution_count": 44,
     "metadata": {},
     "output_type": "execute_result"
    }
   ],
   "source": [
    "life_expectancy_by_country = df.groupby('Country Name')['Life expectancy at birth, total (years)'].agg(['last','first'])\n",
    "life_expectancy_by_country['diff'] = life_expectancy_by_country['last'] - life_expectancy_by_country['first']\n",
    "life_expectancy_by_country['percentage'] = life_expectancy_by_country['diff'] / life_expectancy_by_country['first'] * 100\n",
    "life_expectancy_by_country[\"Country Name\"] = life_expectancy_by_country.index\n",
    "life_expectancy_by_country.sort_values(by=\"percentage\", ascending=False).head()"
   ]
  },
  {
   "cell_type": "code",
   "execution_count": 45,
   "metadata": {},
   "outputs": [
    {
     "data": {
      "application/vnd.plotly.v1+json": {
       "config": {
        "plotlyServerURL": "https://plot.ly"
       },
       "data": [
        {
         "customdata": [
          [
           "Afghanistan"
          ],
          [
           "Albania"
          ],
          [
           "Algeria"
          ],
          [
           "Angola"
          ],
          [
           "Argentina"
          ],
          [
           "Australia"
          ],
          [
           "Austria"
          ],
          [
           "Bahrain"
          ],
          [
           "Bangladesh"
          ],
          [
           "Belgium"
          ],
          [
           "Benin"
          ],
          [
           "Bolivia"
          ],
          [
           "Bosnia and Herzegovina"
          ],
          [
           "Botswana"
          ],
          [
           "Brazil"
          ],
          [
           "Bulgaria"
          ],
          [
           "Burkina Faso"
          ],
          [
           "Burundi"
          ],
          [
           "Cambodia"
          ],
          [
           "Cameroon"
          ],
          [
           "Canada"
          ],
          [
           "Central African Republic"
          ],
          [
           "Chad"
          ],
          [
           "Chile"
          ],
          [
           "China"
          ],
          [
           "Colombia"
          ],
          [
           "Comoros"
          ],
          [
           "Costa Rica"
          ],
          [
           "Cote d'Ivoire"
          ],
          [
           "Croatia"
          ],
          [
           "Cuba"
          ],
          [
           "Czech Republic"
          ],
          [
           "Denmark"
          ],
          [
           "Djibouti"
          ],
          [
           "Dominican Republic"
          ],
          [
           "Ecuador"
          ],
          [
           "El Salvador"
          ],
          [
           "Equatorial Guinea"
          ],
          [
           "Eritrea"
          ],
          [
           "Ethiopia"
          ],
          [
           "Finland"
          ],
          [
           "France"
          ],
          [
           "Gabon"
          ],
          [
           "Germany"
          ],
          [
           "Ghana"
          ],
          [
           "Greece"
          ],
          [
           "Guatemala"
          ],
          [
           "Guinea"
          ],
          [
           "Guinea-Bissau"
          ],
          [
           "Haiti"
          ],
          [
           "Honduras"
          ],
          [
           "Hungary"
          ],
          [
           "Iceland"
          ],
          [
           "India"
          ],
          [
           "Indonesia"
          ],
          [
           "Iraq"
          ],
          [
           "Ireland"
          ],
          [
           "Israel"
          ],
          [
           "Italy"
          ],
          [
           "Jamaica"
          ],
          [
           "Japan"
          ],
          [
           "Jordan"
          ],
          [
           "Kenya"
          ],
          [
           "Kuwait"
          ],
          [
           "Lebanon"
          ],
          [
           "Liberia"
          ],
          [
           "Libya"
          ],
          [
           "Madagascar"
          ],
          [
           "Malawi"
          ],
          [
           "Malaysia"
          ],
          [
           "Mali"
          ],
          [
           "Mauritania"
          ],
          [
           "Mauritius"
          ],
          [
           "Mexico"
          ],
          [
           "Mongolia"
          ],
          [
           "Morocco"
          ],
          [
           "Mozambique"
          ],
          [
           "Myanmar"
          ],
          [
           "Nepal"
          ],
          [
           "Netherlands"
          ],
          [
           "New Zealand"
          ],
          [
           "Nicaragua"
          ],
          [
           "Niger"
          ],
          [
           "Nigeria"
          ],
          [
           "Norway"
          ],
          [
           "Oman"
          ],
          [
           "Pakistan"
          ],
          [
           "Panama"
          ],
          [
           "Paraguay"
          ],
          [
           "Peru"
          ],
          [
           "Philippines"
          ],
          [
           "Poland"
          ],
          [
           "Portugal"
          ],
          [
           "Romania"
          ],
          [
           "Rwanda"
          ],
          [
           "Sao Tome and Principe"
          ],
          [
           "Saudi Arabia"
          ],
          [
           "Senegal"
          ],
          [
           "Sierra Leone"
          ],
          [
           "Singapore"
          ],
          [
           "Slovak Republic"
          ],
          [
           "Slovenia"
          ],
          [
           "Somalia"
          ],
          [
           "South Africa"
          ],
          [
           "Spain"
          ],
          [
           "Sri Lanka"
          ],
          [
           "Sudan"
          ],
          [
           "Swaziland"
          ],
          [
           "Sweden"
          ],
          [
           "Switzerland"
          ],
          [
           "Tanzania"
          ],
          [
           "Thailand"
          ],
          [
           "Togo"
          ],
          [
           "Trinidad and Tobago"
          ],
          [
           "Tunisia"
          ],
          [
           "Turkey"
          ],
          [
           "Uganda"
          ],
          [
           "United Kingdom"
          ],
          [
           "United States"
          ],
          [
           "Uruguay"
          ],
          [
           "Vietnam"
          ],
          [
           "West Bank and Gaza"
          ],
          [
           "Zambia"
          ]
         ],
         "hovertemplate": "Difference between first and last record, (percentage)=%{marker.color}<br>Life expectancy at birth, total (years). Last record.=%{y}<br>Country Name=%{customdata[0]}<extra></extra>",
         "legendgroup": "",
         "marker": {
          "color": [
           74.09391666485863,
           19.181564289370666,
           54.95454533680518,
           46.313301681489285,
           14.635575533508707,
           14.589636393583994,
           15.684680595066355,
           38.1067998962707,
           46.40368967754435,
           13.619312261282479,
           51.527303569165475,
           51.30633146201787,
           6.882548664253599,
           6.224886212244078,
           31.10159485166057,
           4.563785242671472,
           55.87469629176588,
           27.7008476491443,
           55.48247430546541,
           23.754201550295452,
           12.98542403586299,
           22.424660309668496,
           26.033387711464307,
           35.54303620775754,
           67.43967583942954,
           25.92049703709226,
           43.739504823860045,
           26.372280710785965,
           27.58028740988011,
           6.266219316018611,
           20.43496999070865,
           6.161031878302496,
           8.12415053733148,
           31.097664377290986,
           35.332721051887205,
           36.97076401544124,
           38.13872522000136,
           46.029442797959184,
           10.479255272457822,
           47.12839716271775,
           15.581731983270272,
           15.356065073501037,
           49.583346925744294,
           4.899311587288283,
           27.747671871693353,
           15.30905623935967,
           50.1677968050408,
           53.144895536832124,
           37.403909315142265,
           38.63179721023332,
           50.85928935237259,
           7.787960467271045,
           10.487659630819577,
           53.9472398016073,
           35.44480613782349,
           35.26623331683241,
           13.630708722402007,
           11.63836839608222,
           17.7649075530526,
           13.16988045184781,
           20.281682127931678,
           34.48737222960917,
           16.887030119676506,
           19.340023692790005,
           21.501876410125643,
           61.76669640089535,
           56.39146517875196,
           51.57871846066499,
           30.8379279156892,
           13.087736578049059,
           90.06951807273049,
           36.395833355952014,
           19.700543468004707,
           29.92026461096,
           31.714725838513104,
           44.61579648739293,
           43.745020894415035,
           45.16806374502858,
           85.11177413993994,
           9.237995130217172,
           12.521828453996307,
           50.26470470890047,
           55.48662229774634,
           30.801887215639884,
           9.458485672589303,
           56.159177444731014,
           36.55106439794068,
           23.293932304489452,
           11.627412417082887,
           49.72879595609304,
           15.489214942664587,
           11.593416530969982,
           22.965697349285655,
           8.260267113793631,
           35.26867712845377,
           26.339962060846922,
           57.074289296027004,
           60.70376822478283,
           47.916270113350514,
           21.087981813141614,
           3.3598314989138087,
           7.170187988718755,
           40.40504841076593,
           4.382805059882067,
           16.33243049811927,
           22.611433005043207,
           23.80995022215191,
           0.6879786198903113,
           10.292381715552382,
           14.811718921201903,
           31.510030641001368,
           30.72769227942713,
           33.39744646978043,
           8.62522990100206,
           71.20340977465248,
           56.23872249444653,
           18.843086737209727,
           12.015130673984313,
           11.221259869873776,
           11.207565847979165,
           23.296129894832355,
           2.290632445889103,
           10.057751133182643
          ],
          "coloraxis": "coloraxis",
          "size": [
           74.09391666485863,
           19.181564289370666,
           54.95454533680518,
           46.313301681489285,
           14.635575533508707,
           14.589636393583994,
           15.684680595066355,
           38.1067998962707,
           46.40368967754435,
           13.619312261282479,
           51.527303569165475,
           51.30633146201787,
           6.882548664253599,
           6.224886212244078,
           31.10159485166057,
           4.563785242671472,
           55.87469629176588,
           27.7008476491443,
           55.48247430546541,
           23.754201550295452,
           12.98542403586299,
           22.424660309668496,
           26.033387711464307,
           35.54303620775754,
           67.43967583942954,
           25.92049703709226,
           43.739504823860045,
           26.372280710785965,
           27.58028740988011,
           6.266219316018611,
           20.43496999070865,
           6.161031878302496,
           8.12415053733148,
           31.097664377290986,
           35.332721051887205,
           36.97076401544124,
           38.13872522000136,
           46.029442797959184,
           10.479255272457822,
           47.12839716271775,
           15.581731983270272,
           15.356065073501037,
           49.583346925744294,
           4.899311587288283,
           27.747671871693353,
           15.30905623935967,
           50.1677968050408,
           53.144895536832124,
           37.403909315142265,
           38.63179721023332,
           50.85928935237259,
           7.787960467271045,
           10.487659630819577,
           53.9472398016073,
           35.44480613782349,
           35.26623331683241,
           13.630708722402007,
           11.63836839608222,
           17.7649075530526,
           13.16988045184781,
           20.281682127931678,
           34.48737222960917,
           16.887030119676506,
           19.340023692790005,
           21.501876410125643,
           61.76669640089535,
           56.39146517875196,
           51.57871846066499,
           30.8379279156892,
           13.087736578049059,
           90.06951807273049,
           36.395833355952014,
           19.700543468004707,
           29.92026461096,
           31.714725838513104,
           44.61579648739293,
           43.745020894415035,
           45.16806374502858,
           85.11177413993994,
           9.237995130217172,
           12.521828453996307,
           50.26470470890047,
           55.48662229774634,
           30.801887215639884,
           9.458485672589303,
           56.159177444731014,
           36.55106439794068,
           23.293932304489452,
           11.627412417082887,
           49.72879595609304,
           15.489214942664587,
           11.593416530969982,
           22.965697349285655,
           8.260267113793631,
           35.26867712845377,
           26.339962060846922,
           57.074289296027004,
           60.70376822478283,
           47.916270113350514,
           21.087981813141614,
           3.3598314989138087,
           7.170187988718755,
           40.40504841076593,
           4.382805059882067,
           16.33243049811927,
           22.611433005043207,
           23.80995022215191,
           0.6879786198903113,
           10.292381715552382,
           14.811718921201903,
           31.510030641001368,
           30.72769227942713,
           33.39744646978043,
           8.62522990100206,
           71.20340977465248,
           56.23872249444653,
           18.843086737209727,
           12.015130673984313,
           11.221259869873776,
           11.207565847979165,
           23.296129894832355,
           2.290632445889103,
           10.057751133182643
          ],
          "sizemode": "area",
          "sizeref": 0.22517379518182623,
          "symbol": "circle"
         },
         "mode": "markers",
         "name": "",
         "orientation": "v",
         "showlegend": false,
         "type": "scatter",
         "x": [
          74.09391666485863,
          19.181564289370666,
          54.95454533680518,
          46.313301681489285,
          14.635575533508707,
          14.589636393583994,
          15.684680595066355,
          38.1067998962707,
          46.40368967754435,
          13.619312261282479,
          51.527303569165475,
          51.30633146201787,
          6.882548664253599,
          6.224886212244078,
          31.10159485166057,
          4.563785242671472,
          55.87469629176588,
          27.7008476491443,
          55.48247430546541,
          23.754201550295452,
          12.98542403586299,
          22.424660309668496,
          26.033387711464307,
          35.54303620775754,
          67.43967583942954,
          25.92049703709226,
          43.739504823860045,
          26.372280710785965,
          27.58028740988011,
          6.266219316018611,
          20.43496999070865,
          6.161031878302496,
          8.12415053733148,
          31.097664377290986,
          35.332721051887205,
          36.97076401544124,
          38.13872522000136,
          46.029442797959184,
          10.479255272457822,
          47.12839716271775,
          15.581731983270272,
          15.356065073501037,
          49.583346925744294,
          4.899311587288283,
          27.747671871693353,
          15.30905623935967,
          50.1677968050408,
          53.144895536832124,
          37.403909315142265,
          38.63179721023332,
          50.85928935237259,
          7.787960467271045,
          10.487659630819577,
          53.9472398016073,
          35.44480613782349,
          35.26623331683241,
          13.630708722402007,
          11.63836839608222,
          17.7649075530526,
          13.16988045184781,
          20.281682127931678,
          34.48737222960917,
          16.887030119676506,
          19.340023692790005,
          21.501876410125643,
          61.76669640089535,
          56.39146517875196,
          51.57871846066499,
          30.8379279156892,
          13.087736578049059,
          90.06951807273049,
          36.395833355952014,
          19.700543468004707,
          29.92026461096,
          31.714725838513104,
          44.61579648739293,
          43.745020894415035,
          45.16806374502858,
          85.11177413993994,
          9.237995130217172,
          12.521828453996307,
          50.26470470890047,
          55.48662229774634,
          30.801887215639884,
          9.458485672589303,
          56.159177444731014,
          36.55106439794068,
          23.293932304489452,
          11.627412417082887,
          49.72879595609304,
          15.489214942664587,
          11.593416530969982,
          22.965697349285655,
          8.260267113793631,
          35.26867712845377,
          26.339962060846922,
          57.074289296027004,
          60.70376822478283,
          47.916270113350514,
          21.087981813141614,
          3.3598314989138087,
          7.170187988718755,
          40.40504841076593,
          4.382805059882067,
          16.33243049811927,
          22.611433005043207,
          23.80995022215191,
          0.6879786198903113,
          10.292381715552382,
          14.811718921201903,
          31.510030641001368,
          30.72769227942713,
          33.39744646978043,
          8.62522990100206,
          71.20340977465248,
          56.23872249444653,
          18.843086737209727,
          12.015130673984313,
          11.221259869873776,
          11.207565847979165,
          23.296129894832355,
          2.290632445889103,
          10.057751133182643
         ],
         "xaxis": "x",
         "y": [
          57.8338292683,
          76.4702926829,
          72.8983658537,
          49.43573170729999,
          75.0090487805,
          81.2926829268,
          80.1804878049,
          75.7077560976,
          68.85997560979999,
          79.78292682930001,
          57.867390243900005,
          64.6941219512,
          75.3714878049,
          59.0745609756,
          72.4148292683,
          72.6634146341,
          55.188804878,
          53.4560731707,
          64.5523414634,
          52.4791463415,
          80.6343902439,
          45.687390243900005,
          48.5592195122,
          79.3135365854,
          74.3404390244,
          72.7055121951,
          60.7123414634,
          78.33031707319999,
          48.7788292683,
          75.7056097561,
          78.44919512199999,
          76.7243902439,
          78.1951219512,
          58.8293414634,
          72.1313170732,
          74.4950243902,
          70.7804634146,
          54.5163170732,
          59.6694146341,
          58.408,
          79.2634146341,
          81.112195122,
          60.3927804878,
          79.53414634149999,
          59.6358536585,
          79.4390243902,
          70.1107804878,
          53.9994878049,
          52.8554634146,
          59.9773902439,
          71.8587317073,
          73.1512195122,
          81.4536585366,
          65.30043902439999,
          67.5677317073,
          68.19902439020001,
          79.6414634146,
          80.5048780488,
          81.4341463415,
          74.0092926829,
          82.5070731707,
          72.9611707317,
          55.6992926829,
          73.81,
          77.615902439,
          57.191195122,
          71.7386341463,
          62.053,
          51.5124878049,
          73.81826829270001,
          54.2619268293,
          61.1397317073,
          72.5707317073,
          75.5879268293,
          66.06817073170001,
          71.2776341463,
          51.622097561,
          64.0936829268,
          66.5519268293,
          80.0975609756,
          80.1512195122,
          72.5716585366,
          55.4550243902,
          49.8081463415,
          80.3951219512,
          75.1236097561,
          64.3387317073,
          76.3144634146,
          71.6948292683,
          72.9969512195,
          67.47902439020001,
          75.243902439,
          78.3219512195,
          72.5658536585,
          57.94600000000001,
          65.188,
          73.34507317069999,
          61.7841707317,
          45.4883658537,
          80.4414634146,
          74.2073170732,
          78.5609756098,
          53.0186585366,
          51.9965121951,
          80.8731707317,
          74.1941219512,
          60.7008780488,
          46.772390243900006,
          80.9,
          81.7414634146,
          58.0777804878,
          72.87443902439999,
          55.4334390244,
          69.2596585366,
          74.2024390244,
          73.1770731707,
          53.6541463415,
          79.4487804878,
          77.987804878,
          75.9510243902,
          74.48385365850001,
          71.74704878050001,
          52.4771463415
         ],
         "yaxis": "y"
        }
       ],
       "layout": {
        "coloraxis": {
         "colorbar": {
          "title": {
           "text": "Difference between first and last record, (percentage)"
          }
         },
         "colorscale": [
          [
           0,
           "#0d0887"
          ],
          [
           0.1111111111111111,
           "#46039f"
          ],
          [
           0.2222222222222222,
           "#7201a8"
          ],
          [
           0.3333333333333333,
           "#9c179e"
          ],
          [
           0.4444444444444444,
           "#bd3786"
          ],
          [
           0.5555555555555556,
           "#d8576b"
          ],
          [
           0.6666666666666666,
           "#ed7953"
          ],
          [
           0.7777777777777778,
           "#fb9f3a"
          ],
          [
           0.8888888888888888,
           "#fdca26"
          ],
          [
           1,
           "#f0f921"
          ]
         ]
        },
        "legend": {
         "itemsizing": "constant",
         "tracegroupgap": 0
        },
        "template": {
         "data": {
          "bar": [
           {
            "error_x": {
             "color": "#2a3f5f"
            },
            "error_y": {
             "color": "#2a3f5f"
            },
            "marker": {
             "line": {
              "color": "#E5ECF6",
              "width": 0.5
             }
            },
            "type": "bar"
           }
          ],
          "barpolar": [
           {
            "marker": {
             "line": {
              "color": "#E5ECF6",
              "width": 0.5
             }
            },
            "type": "barpolar"
           }
          ],
          "carpet": [
           {
            "aaxis": {
             "endlinecolor": "#2a3f5f",
             "gridcolor": "white",
             "linecolor": "white",
             "minorgridcolor": "white",
             "startlinecolor": "#2a3f5f"
            },
            "baxis": {
             "endlinecolor": "#2a3f5f",
             "gridcolor": "white",
             "linecolor": "white",
             "minorgridcolor": "white",
             "startlinecolor": "#2a3f5f"
            },
            "type": "carpet"
           }
          ],
          "choropleth": [
           {
            "colorbar": {
             "outlinewidth": 0,
             "ticks": ""
            },
            "type": "choropleth"
           }
          ],
          "contour": [
           {
            "colorbar": {
             "outlinewidth": 0,
             "ticks": ""
            },
            "colorscale": [
             [
              0,
              "#0d0887"
             ],
             [
              0.1111111111111111,
              "#46039f"
             ],
             [
              0.2222222222222222,
              "#7201a8"
             ],
             [
              0.3333333333333333,
              "#9c179e"
             ],
             [
              0.4444444444444444,
              "#bd3786"
             ],
             [
              0.5555555555555556,
              "#d8576b"
             ],
             [
              0.6666666666666666,
              "#ed7953"
             ],
             [
              0.7777777777777778,
              "#fb9f3a"
             ],
             [
              0.8888888888888888,
              "#fdca26"
             ],
             [
              1,
              "#f0f921"
             ]
            ],
            "type": "contour"
           }
          ],
          "contourcarpet": [
           {
            "colorbar": {
             "outlinewidth": 0,
             "ticks": ""
            },
            "type": "contourcarpet"
           }
          ],
          "heatmap": [
           {
            "colorbar": {
             "outlinewidth": 0,
             "ticks": ""
            },
            "colorscale": [
             [
              0,
              "#0d0887"
             ],
             [
              0.1111111111111111,
              "#46039f"
             ],
             [
              0.2222222222222222,
              "#7201a8"
             ],
             [
              0.3333333333333333,
              "#9c179e"
             ],
             [
              0.4444444444444444,
              "#bd3786"
             ],
             [
              0.5555555555555556,
              "#d8576b"
             ],
             [
              0.6666666666666666,
              "#ed7953"
             ],
             [
              0.7777777777777778,
              "#fb9f3a"
             ],
             [
              0.8888888888888888,
              "#fdca26"
             ],
             [
              1,
              "#f0f921"
             ]
            ],
            "type": "heatmap"
           }
          ],
          "heatmapgl": [
           {
            "colorbar": {
             "outlinewidth": 0,
             "ticks": ""
            },
            "colorscale": [
             [
              0,
              "#0d0887"
             ],
             [
              0.1111111111111111,
              "#46039f"
             ],
             [
              0.2222222222222222,
              "#7201a8"
             ],
             [
              0.3333333333333333,
              "#9c179e"
             ],
             [
              0.4444444444444444,
              "#bd3786"
             ],
             [
              0.5555555555555556,
              "#d8576b"
             ],
             [
              0.6666666666666666,
              "#ed7953"
             ],
             [
              0.7777777777777778,
              "#fb9f3a"
             ],
             [
              0.8888888888888888,
              "#fdca26"
             ],
             [
              1,
              "#f0f921"
             ]
            ],
            "type": "heatmapgl"
           }
          ],
          "histogram": [
           {
            "marker": {
             "colorbar": {
              "outlinewidth": 0,
              "ticks": ""
             }
            },
            "type": "histogram"
           }
          ],
          "histogram2d": [
           {
            "colorbar": {
             "outlinewidth": 0,
             "ticks": ""
            },
            "colorscale": [
             [
              0,
              "#0d0887"
             ],
             [
              0.1111111111111111,
              "#46039f"
             ],
             [
              0.2222222222222222,
              "#7201a8"
             ],
             [
              0.3333333333333333,
              "#9c179e"
             ],
             [
              0.4444444444444444,
              "#bd3786"
             ],
             [
              0.5555555555555556,
              "#d8576b"
             ],
             [
              0.6666666666666666,
              "#ed7953"
             ],
             [
              0.7777777777777778,
              "#fb9f3a"
             ],
             [
              0.8888888888888888,
              "#fdca26"
             ],
             [
              1,
              "#f0f921"
             ]
            ],
            "type": "histogram2d"
           }
          ],
          "histogram2dcontour": [
           {
            "colorbar": {
             "outlinewidth": 0,
             "ticks": ""
            },
            "colorscale": [
             [
              0,
              "#0d0887"
             ],
             [
              0.1111111111111111,
              "#46039f"
             ],
             [
              0.2222222222222222,
              "#7201a8"
             ],
             [
              0.3333333333333333,
              "#9c179e"
             ],
             [
              0.4444444444444444,
              "#bd3786"
             ],
             [
              0.5555555555555556,
              "#d8576b"
             ],
             [
              0.6666666666666666,
              "#ed7953"
             ],
             [
              0.7777777777777778,
              "#fb9f3a"
             ],
             [
              0.8888888888888888,
              "#fdca26"
             ],
             [
              1,
              "#f0f921"
             ]
            ],
            "type": "histogram2dcontour"
           }
          ],
          "mesh3d": [
           {
            "colorbar": {
             "outlinewidth": 0,
             "ticks": ""
            },
            "type": "mesh3d"
           }
          ],
          "parcoords": [
           {
            "line": {
             "colorbar": {
              "outlinewidth": 0,
              "ticks": ""
             }
            },
            "type": "parcoords"
           }
          ],
          "pie": [
           {
            "automargin": true,
            "type": "pie"
           }
          ],
          "scatter": [
           {
            "marker": {
             "colorbar": {
              "outlinewidth": 0,
              "ticks": ""
             }
            },
            "type": "scatter"
           }
          ],
          "scatter3d": [
           {
            "line": {
             "colorbar": {
              "outlinewidth": 0,
              "ticks": ""
             }
            },
            "marker": {
             "colorbar": {
              "outlinewidth": 0,
              "ticks": ""
             }
            },
            "type": "scatter3d"
           }
          ],
          "scattercarpet": [
           {
            "marker": {
             "colorbar": {
              "outlinewidth": 0,
              "ticks": ""
             }
            },
            "type": "scattercarpet"
           }
          ],
          "scattergeo": [
           {
            "marker": {
             "colorbar": {
              "outlinewidth": 0,
              "ticks": ""
             }
            },
            "type": "scattergeo"
           }
          ],
          "scattergl": [
           {
            "marker": {
             "colorbar": {
              "outlinewidth": 0,
              "ticks": ""
             }
            },
            "type": "scattergl"
           }
          ],
          "scattermapbox": [
           {
            "marker": {
             "colorbar": {
              "outlinewidth": 0,
              "ticks": ""
             }
            },
            "type": "scattermapbox"
           }
          ],
          "scatterpolar": [
           {
            "marker": {
             "colorbar": {
              "outlinewidth": 0,
              "ticks": ""
             }
            },
            "type": "scatterpolar"
           }
          ],
          "scatterpolargl": [
           {
            "marker": {
             "colorbar": {
              "outlinewidth": 0,
              "ticks": ""
             }
            },
            "type": "scatterpolargl"
           }
          ],
          "scatterternary": [
           {
            "marker": {
             "colorbar": {
              "outlinewidth": 0,
              "ticks": ""
             }
            },
            "type": "scatterternary"
           }
          ],
          "surface": [
           {
            "colorbar": {
             "outlinewidth": 0,
             "ticks": ""
            },
            "colorscale": [
             [
              0,
              "#0d0887"
             ],
             [
              0.1111111111111111,
              "#46039f"
             ],
             [
              0.2222222222222222,
              "#7201a8"
             ],
             [
              0.3333333333333333,
              "#9c179e"
             ],
             [
              0.4444444444444444,
              "#bd3786"
             ],
             [
              0.5555555555555556,
              "#d8576b"
             ],
             [
              0.6666666666666666,
              "#ed7953"
             ],
             [
              0.7777777777777778,
              "#fb9f3a"
             ],
             [
              0.8888888888888888,
              "#fdca26"
             ],
             [
              1,
              "#f0f921"
             ]
            ],
            "type": "surface"
           }
          ],
          "table": [
           {
            "cells": {
             "fill": {
              "color": "#EBF0F8"
             },
             "line": {
              "color": "white"
             }
            },
            "header": {
             "fill": {
              "color": "#C8D4E3"
             },
             "line": {
              "color": "white"
             }
            },
            "type": "table"
           }
          ]
         },
         "layout": {
          "annotationdefaults": {
           "arrowcolor": "#2a3f5f",
           "arrowhead": 0,
           "arrowwidth": 1
          },
          "autotypenumbers": "strict",
          "coloraxis": {
           "colorbar": {
            "outlinewidth": 0,
            "ticks": ""
           }
          },
          "colorscale": {
           "diverging": [
            [
             0,
             "#8e0152"
            ],
            [
             0.1,
             "#c51b7d"
            ],
            [
             0.2,
             "#de77ae"
            ],
            [
             0.3,
             "#f1b6da"
            ],
            [
             0.4,
             "#fde0ef"
            ],
            [
             0.5,
             "#f7f7f7"
            ],
            [
             0.6,
             "#e6f5d0"
            ],
            [
             0.7,
             "#b8e186"
            ],
            [
             0.8,
             "#7fbc41"
            ],
            [
             0.9,
             "#4d9221"
            ],
            [
             1,
             "#276419"
            ]
           ],
           "sequential": [
            [
             0,
             "#0d0887"
            ],
            [
             0.1111111111111111,
             "#46039f"
            ],
            [
             0.2222222222222222,
             "#7201a8"
            ],
            [
             0.3333333333333333,
             "#9c179e"
            ],
            [
             0.4444444444444444,
             "#bd3786"
            ],
            [
             0.5555555555555556,
             "#d8576b"
            ],
            [
             0.6666666666666666,
             "#ed7953"
            ],
            [
             0.7777777777777778,
             "#fb9f3a"
            ],
            [
             0.8888888888888888,
             "#fdca26"
            ],
            [
             1,
             "#f0f921"
            ]
           ],
           "sequentialminus": [
            [
             0,
             "#0d0887"
            ],
            [
             0.1111111111111111,
             "#46039f"
            ],
            [
             0.2222222222222222,
             "#7201a8"
            ],
            [
             0.3333333333333333,
             "#9c179e"
            ],
            [
             0.4444444444444444,
             "#bd3786"
            ],
            [
             0.5555555555555556,
             "#d8576b"
            ],
            [
             0.6666666666666666,
             "#ed7953"
            ],
            [
             0.7777777777777778,
             "#fb9f3a"
            ],
            [
             0.8888888888888888,
             "#fdca26"
            ],
            [
             1,
             "#f0f921"
            ]
           ]
          },
          "colorway": [
           "#636efa",
           "#EF553B",
           "#00cc96",
           "#ab63fa",
           "#FFA15A",
           "#19d3f3",
           "#FF6692",
           "#B6E880",
           "#FF97FF",
           "#FECB52"
          ],
          "font": {
           "color": "#2a3f5f"
          },
          "geo": {
           "bgcolor": "white",
           "lakecolor": "white",
           "landcolor": "#E5ECF6",
           "showlakes": true,
           "showland": true,
           "subunitcolor": "white"
          },
          "hoverlabel": {
           "align": "left"
          },
          "hovermode": "closest",
          "mapbox": {
           "style": "light"
          },
          "paper_bgcolor": "white",
          "plot_bgcolor": "#E5ECF6",
          "polar": {
           "angularaxis": {
            "gridcolor": "white",
            "linecolor": "white",
            "ticks": ""
           },
           "bgcolor": "#E5ECF6",
           "radialaxis": {
            "gridcolor": "white",
            "linecolor": "white",
            "ticks": ""
           }
          },
          "scene": {
           "xaxis": {
            "backgroundcolor": "#E5ECF6",
            "gridcolor": "white",
            "gridwidth": 2,
            "linecolor": "white",
            "showbackground": true,
            "ticks": "",
            "zerolinecolor": "white"
           },
           "yaxis": {
            "backgroundcolor": "#E5ECF6",
            "gridcolor": "white",
            "gridwidth": 2,
            "linecolor": "white",
            "showbackground": true,
            "ticks": "",
            "zerolinecolor": "white"
           },
           "zaxis": {
            "backgroundcolor": "#E5ECF6",
            "gridcolor": "white",
            "gridwidth": 2,
            "linecolor": "white",
            "showbackground": true,
            "ticks": "",
            "zerolinecolor": "white"
           }
          },
          "shapedefaults": {
           "line": {
            "color": "#2a3f5f"
           }
          },
          "ternary": {
           "aaxis": {
            "gridcolor": "white",
            "linecolor": "white",
            "ticks": ""
           },
           "baxis": {
            "gridcolor": "white",
            "linecolor": "white",
            "ticks": ""
           },
           "bgcolor": "#E5ECF6",
           "caxis": {
            "gridcolor": "white",
            "linecolor": "white",
            "ticks": ""
           }
          },
          "title": {
           "x": 0.05
          },
          "xaxis": {
           "automargin": true,
           "gridcolor": "white",
           "linecolor": "white",
           "ticks": "",
           "title": {
            "standoff": 15
           },
           "zerolinecolor": "white",
           "zerolinewidth": 2
          },
          "yaxis": {
           "automargin": true,
           "gridcolor": "white",
           "linecolor": "white",
           "ticks": "",
           "title": {
            "standoff": 15
           },
           "zerolinecolor": "white",
           "zerolinewidth": 2
          }
         }
        },
        "title": {
         "text": "Changes in life expectancy at birth, relative value (%)"
        },
        "xaxis": {
         "anchor": "y",
         "domain": [
          0,
          1
         ],
         "title": {
          "text": "Difference between first and last record, (percentage)"
         }
        },
        "yaxis": {
         "anchor": "x",
         "domain": [
          0,
          1
         ],
         "title": {
          "text": "Life expectancy at birth, total (years). Last record."
         }
        }
       }
      },
      "text/html": [
       "<div>                            <div id=\"74cba12e-9e5d-42d3-9ec5-896e7fe4145e\" class=\"plotly-graph-div\" style=\"height:525px; width:100%;\"></div>            <script type=\"text/javascript\">                require([\"plotly\"], function(Plotly) {                    window.PLOTLYENV=window.PLOTLYENV || {};                                    if (document.getElementById(\"74cba12e-9e5d-42d3-9ec5-896e7fe4145e\")) {                    Plotly.newPlot(                        \"74cba12e-9e5d-42d3-9ec5-896e7fe4145e\",                        [{\"customdata\": [[\"Afghanistan\"], [\"Albania\"], [\"Algeria\"], [\"Angola\"], [\"Argentina\"], [\"Australia\"], [\"Austria\"], [\"Bahrain\"], [\"Bangladesh\"], [\"Belgium\"], [\"Benin\"], [\"Bolivia\"], [\"Bosnia and Herzegovina\"], [\"Botswana\"], [\"Brazil\"], [\"Bulgaria\"], [\"Burkina Faso\"], [\"Burundi\"], [\"Cambodia\"], [\"Cameroon\"], [\"Canada\"], [\"Central African Republic\"], [\"Chad\"], [\"Chile\"], [\"China\"], [\"Colombia\"], [\"Comoros\"], [\"Costa Rica\"], [\"Cote d'Ivoire\"], [\"Croatia\"], [\"Cuba\"], [\"Czech Republic\"], [\"Denmark\"], [\"Djibouti\"], [\"Dominican Republic\"], [\"Ecuador\"], [\"El Salvador\"], [\"Equatorial Guinea\"], [\"Eritrea\"], [\"Ethiopia\"], [\"Finland\"], [\"France\"], [\"Gabon\"], [\"Germany\"], [\"Ghana\"], [\"Greece\"], [\"Guatemala\"], [\"Guinea\"], [\"Guinea-Bissau\"], [\"Haiti\"], [\"Honduras\"], [\"Hungary\"], [\"Iceland\"], [\"India\"], [\"Indonesia\"], [\"Iraq\"], [\"Ireland\"], [\"Israel\"], [\"Italy\"], [\"Jamaica\"], [\"Japan\"], [\"Jordan\"], [\"Kenya\"], [\"Kuwait\"], [\"Lebanon\"], [\"Liberia\"], [\"Libya\"], [\"Madagascar\"], [\"Malawi\"], [\"Malaysia\"], [\"Mali\"], [\"Mauritania\"], [\"Mauritius\"], [\"Mexico\"], [\"Mongolia\"], [\"Morocco\"], [\"Mozambique\"], [\"Myanmar\"], [\"Nepal\"], [\"Netherlands\"], [\"New Zealand\"], [\"Nicaragua\"], [\"Niger\"], [\"Nigeria\"], [\"Norway\"], [\"Oman\"], [\"Pakistan\"], [\"Panama\"], [\"Paraguay\"], [\"Peru\"], [\"Philippines\"], [\"Poland\"], [\"Portugal\"], [\"Romania\"], [\"Rwanda\"], [\"Sao Tome and Principe\"], [\"Saudi Arabia\"], [\"Senegal\"], [\"Sierra Leone\"], [\"Singapore\"], [\"Slovak Republic\"], [\"Slovenia\"], [\"Somalia\"], [\"South Africa\"], [\"Spain\"], [\"Sri Lanka\"], [\"Sudan\"], [\"Swaziland\"], [\"Sweden\"], [\"Switzerland\"], [\"Tanzania\"], [\"Thailand\"], [\"Togo\"], [\"Trinidad and Tobago\"], [\"Tunisia\"], [\"Turkey\"], [\"Uganda\"], [\"United Kingdom\"], [\"United States\"], [\"Uruguay\"], [\"Vietnam\"], [\"West Bank and Gaza\"], [\"Zambia\"]], \"hovertemplate\": \"Difference between first and last record, (percentage)=%{marker.color}<br>Life expectancy at birth, total (years). Last record.=%{y}<br>Country Name=%{customdata[0]}<extra></extra>\", \"legendgroup\": \"\", \"marker\": {\"color\": [74.09391666485863, 19.181564289370666, 54.95454533680518, 46.313301681489285, 14.635575533508707, 14.589636393583994, 15.684680595066355, 38.1067998962707, 46.40368967754435, 13.619312261282479, 51.527303569165475, 51.30633146201787, 6.882548664253599, 6.224886212244078, 31.10159485166057, 4.563785242671472, 55.87469629176588, 27.7008476491443, 55.48247430546541, 23.754201550295452, 12.98542403586299, 22.424660309668496, 26.033387711464307, 35.54303620775754, 67.43967583942954, 25.92049703709226, 43.739504823860045, 26.372280710785965, 27.58028740988011, 6.266219316018611, 20.43496999070865, 6.161031878302496, 8.12415053733148, 31.097664377290986, 35.332721051887205, 36.97076401544124, 38.13872522000136, 46.029442797959184, 10.479255272457822, 47.12839716271775, 15.581731983270272, 15.356065073501037, 49.583346925744294, 4.899311587288283, 27.747671871693353, 15.30905623935967, 50.1677968050408, 53.144895536832124, 37.403909315142265, 38.63179721023332, 50.85928935237259, 7.787960467271045, 10.487659630819577, 53.9472398016073, 35.44480613782349, 35.26623331683241, 13.630708722402007, 11.63836839608222, 17.7649075530526, 13.16988045184781, 20.281682127931678, 34.48737222960917, 16.887030119676506, 19.340023692790005, 21.501876410125643, 61.76669640089535, 56.39146517875196, 51.57871846066499, 30.8379279156892, 13.087736578049059, 90.06951807273049, 36.395833355952014, 19.700543468004707, 29.92026461096, 31.714725838513104, 44.61579648739293, 43.745020894415035, 45.16806374502858, 85.11177413993994, 9.237995130217172, 12.521828453996307, 50.26470470890047, 55.48662229774634, 30.801887215639884, 9.458485672589303, 56.159177444731014, 36.55106439794068, 23.293932304489452, 11.627412417082887, 49.72879595609304, 15.489214942664587, 11.593416530969982, 22.965697349285655, 8.260267113793631, 35.26867712845377, 26.339962060846922, 57.074289296027004, 60.70376822478283, 47.916270113350514, 21.087981813141614, 3.3598314989138087, 7.170187988718755, 40.40504841076593, 4.382805059882067, 16.33243049811927, 22.611433005043207, 23.80995022215191, 0.6879786198903113, 10.292381715552382, 14.811718921201903, 31.510030641001368, 30.72769227942713, 33.39744646978043, 8.62522990100206, 71.20340977465248, 56.23872249444653, 18.843086737209727, 12.015130673984313, 11.221259869873776, 11.207565847979165, 23.296129894832355, 2.290632445889103, 10.057751133182643], \"coloraxis\": \"coloraxis\", \"size\": [74.09391666485863, 19.181564289370666, 54.95454533680518, 46.313301681489285, 14.635575533508707, 14.589636393583994, 15.684680595066355, 38.1067998962707, 46.40368967754435, 13.619312261282479, 51.527303569165475, 51.30633146201787, 6.882548664253599, 6.224886212244078, 31.10159485166057, 4.563785242671472, 55.87469629176588, 27.7008476491443, 55.48247430546541, 23.754201550295452, 12.98542403586299, 22.424660309668496, 26.033387711464307, 35.54303620775754, 67.43967583942954, 25.92049703709226, 43.739504823860045, 26.372280710785965, 27.58028740988011, 6.266219316018611, 20.43496999070865, 6.161031878302496, 8.12415053733148, 31.097664377290986, 35.332721051887205, 36.97076401544124, 38.13872522000136, 46.029442797959184, 10.479255272457822, 47.12839716271775, 15.581731983270272, 15.356065073501037, 49.583346925744294, 4.899311587288283, 27.747671871693353, 15.30905623935967, 50.1677968050408, 53.144895536832124, 37.403909315142265, 38.63179721023332, 50.85928935237259, 7.787960467271045, 10.487659630819577, 53.9472398016073, 35.44480613782349, 35.26623331683241, 13.630708722402007, 11.63836839608222, 17.7649075530526, 13.16988045184781, 20.281682127931678, 34.48737222960917, 16.887030119676506, 19.340023692790005, 21.501876410125643, 61.76669640089535, 56.39146517875196, 51.57871846066499, 30.8379279156892, 13.087736578049059, 90.06951807273049, 36.395833355952014, 19.700543468004707, 29.92026461096, 31.714725838513104, 44.61579648739293, 43.745020894415035, 45.16806374502858, 85.11177413993994, 9.237995130217172, 12.521828453996307, 50.26470470890047, 55.48662229774634, 30.801887215639884, 9.458485672589303, 56.159177444731014, 36.55106439794068, 23.293932304489452, 11.627412417082887, 49.72879595609304, 15.489214942664587, 11.593416530969982, 22.965697349285655, 8.260267113793631, 35.26867712845377, 26.339962060846922, 57.074289296027004, 60.70376822478283, 47.916270113350514, 21.087981813141614, 3.3598314989138087, 7.170187988718755, 40.40504841076593, 4.382805059882067, 16.33243049811927, 22.611433005043207, 23.80995022215191, 0.6879786198903113, 10.292381715552382, 14.811718921201903, 31.510030641001368, 30.72769227942713, 33.39744646978043, 8.62522990100206, 71.20340977465248, 56.23872249444653, 18.843086737209727, 12.015130673984313, 11.221259869873776, 11.207565847979165, 23.296129894832355, 2.290632445889103, 10.057751133182643], \"sizemode\": \"area\", \"sizeref\": 0.22517379518182623, \"symbol\": \"circle\"}, \"mode\": \"markers\", \"name\": \"\", \"orientation\": \"v\", \"showlegend\": false, \"type\": \"scatter\", \"x\": [74.09391666485863, 19.181564289370666, 54.95454533680518, 46.313301681489285, 14.635575533508707, 14.589636393583994, 15.684680595066355, 38.1067998962707, 46.40368967754435, 13.619312261282479, 51.527303569165475, 51.30633146201787, 6.882548664253599, 6.224886212244078, 31.10159485166057, 4.563785242671472, 55.87469629176588, 27.7008476491443, 55.48247430546541, 23.754201550295452, 12.98542403586299, 22.424660309668496, 26.033387711464307, 35.54303620775754, 67.43967583942954, 25.92049703709226, 43.739504823860045, 26.372280710785965, 27.58028740988011, 6.266219316018611, 20.43496999070865, 6.161031878302496, 8.12415053733148, 31.097664377290986, 35.332721051887205, 36.97076401544124, 38.13872522000136, 46.029442797959184, 10.479255272457822, 47.12839716271775, 15.581731983270272, 15.356065073501037, 49.583346925744294, 4.899311587288283, 27.747671871693353, 15.30905623935967, 50.1677968050408, 53.144895536832124, 37.403909315142265, 38.63179721023332, 50.85928935237259, 7.787960467271045, 10.487659630819577, 53.9472398016073, 35.44480613782349, 35.26623331683241, 13.630708722402007, 11.63836839608222, 17.7649075530526, 13.16988045184781, 20.281682127931678, 34.48737222960917, 16.887030119676506, 19.340023692790005, 21.501876410125643, 61.76669640089535, 56.39146517875196, 51.57871846066499, 30.8379279156892, 13.087736578049059, 90.06951807273049, 36.395833355952014, 19.700543468004707, 29.92026461096, 31.714725838513104, 44.61579648739293, 43.745020894415035, 45.16806374502858, 85.11177413993994, 9.237995130217172, 12.521828453996307, 50.26470470890047, 55.48662229774634, 30.801887215639884, 9.458485672589303, 56.159177444731014, 36.55106439794068, 23.293932304489452, 11.627412417082887, 49.72879595609304, 15.489214942664587, 11.593416530969982, 22.965697349285655, 8.260267113793631, 35.26867712845377, 26.339962060846922, 57.074289296027004, 60.70376822478283, 47.916270113350514, 21.087981813141614, 3.3598314989138087, 7.170187988718755, 40.40504841076593, 4.382805059882067, 16.33243049811927, 22.611433005043207, 23.80995022215191, 0.6879786198903113, 10.292381715552382, 14.811718921201903, 31.510030641001368, 30.72769227942713, 33.39744646978043, 8.62522990100206, 71.20340977465248, 56.23872249444653, 18.843086737209727, 12.015130673984313, 11.221259869873776, 11.207565847979165, 23.296129894832355, 2.290632445889103, 10.057751133182643], \"xaxis\": \"x\", \"y\": [57.8338292683, 76.4702926829, 72.8983658537, 49.43573170729999, 75.0090487805, 81.2926829268, 80.1804878049, 75.7077560976, 68.85997560979999, 79.78292682930001, 57.867390243900005, 64.6941219512, 75.3714878049, 59.0745609756, 72.4148292683, 72.6634146341, 55.188804878, 53.4560731707, 64.5523414634, 52.4791463415, 80.6343902439, 45.687390243900005, 48.5592195122, 79.3135365854, 74.3404390244, 72.7055121951, 60.7123414634, 78.33031707319999, 48.7788292683, 75.7056097561, 78.44919512199999, 76.7243902439, 78.1951219512, 58.8293414634, 72.1313170732, 74.4950243902, 70.7804634146, 54.5163170732, 59.6694146341, 58.408, 79.2634146341, 81.112195122, 60.3927804878, 79.53414634149999, 59.6358536585, 79.4390243902, 70.1107804878, 53.9994878049, 52.8554634146, 59.9773902439, 71.8587317073, 73.1512195122, 81.4536585366, 65.30043902439999, 67.5677317073, 68.19902439020001, 79.6414634146, 80.5048780488, 81.4341463415, 74.0092926829, 82.5070731707, 72.9611707317, 55.6992926829, 73.81, 77.615902439, 57.191195122, 71.7386341463, 62.053, 51.5124878049, 73.81826829270001, 54.2619268293, 61.1397317073, 72.5707317073, 75.5879268293, 66.06817073170001, 71.2776341463, 51.622097561, 64.0936829268, 66.5519268293, 80.0975609756, 80.1512195122, 72.5716585366, 55.4550243902, 49.8081463415, 80.3951219512, 75.1236097561, 64.3387317073, 76.3144634146, 71.6948292683, 72.9969512195, 67.47902439020001, 75.243902439, 78.3219512195, 72.5658536585, 57.94600000000001, 65.188, 73.34507317069999, 61.7841707317, 45.4883658537, 80.4414634146, 74.2073170732, 78.5609756098, 53.0186585366, 51.9965121951, 80.8731707317, 74.1941219512, 60.7008780488, 46.772390243900006, 80.9, 81.7414634146, 58.0777804878, 72.87443902439999, 55.4334390244, 69.2596585366, 74.2024390244, 73.1770731707, 53.6541463415, 79.4487804878, 77.987804878, 75.9510243902, 74.48385365850001, 71.74704878050001, 52.4771463415], \"yaxis\": \"y\"}],                        {\"coloraxis\": {\"colorbar\": {\"title\": {\"text\": \"Difference between first and last record, (percentage)\"}}, \"colorscale\": [[0.0, \"#0d0887\"], [0.1111111111111111, \"#46039f\"], [0.2222222222222222, \"#7201a8\"], [0.3333333333333333, \"#9c179e\"], [0.4444444444444444, \"#bd3786\"], [0.5555555555555556, \"#d8576b\"], [0.6666666666666666, \"#ed7953\"], [0.7777777777777778, \"#fb9f3a\"], [0.8888888888888888, \"#fdca26\"], [1.0, \"#f0f921\"]]}, \"legend\": {\"itemsizing\": \"constant\", \"tracegroupgap\": 0}, \"template\": {\"data\": {\"bar\": [{\"error_x\": {\"color\": \"#2a3f5f\"}, \"error_y\": {\"color\": \"#2a3f5f\"}, \"marker\": {\"line\": {\"color\": \"#E5ECF6\", \"width\": 0.5}}, \"type\": \"bar\"}], \"barpolar\": [{\"marker\": {\"line\": {\"color\": \"#E5ECF6\", \"width\": 0.5}}, \"type\": \"barpolar\"}], \"carpet\": [{\"aaxis\": {\"endlinecolor\": \"#2a3f5f\", \"gridcolor\": \"white\", \"linecolor\": \"white\", \"minorgridcolor\": \"white\", \"startlinecolor\": \"#2a3f5f\"}, \"baxis\": {\"endlinecolor\": \"#2a3f5f\", \"gridcolor\": \"white\", \"linecolor\": \"white\", \"minorgridcolor\": \"white\", \"startlinecolor\": \"#2a3f5f\"}, \"type\": \"carpet\"}], \"choropleth\": [{\"colorbar\": {\"outlinewidth\": 0, \"ticks\": \"\"}, \"type\": \"choropleth\"}], \"contour\": [{\"colorbar\": {\"outlinewidth\": 0, \"ticks\": \"\"}, \"colorscale\": [[0.0, \"#0d0887\"], [0.1111111111111111, \"#46039f\"], [0.2222222222222222, \"#7201a8\"], [0.3333333333333333, \"#9c179e\"], [0.4444444444444444, \"#bd3786\"], [0.5555555555555556, \"#d8576b\"], [0.6666666666666666, \"#ed7953\"], [0.7777777777777778, \"#fb9f3a\"], [0.8888888888888888, \"#fdca26\"], [1.0, \"#f0f921\"]], \"type\": \"contour\"}], \"contourcarpet\": [{\"colorbar\": {\"outlinewidth\": 0, \"ticks\": \"\"}, \"type\": \"contourcarpet\"}], \"heatmap\": [{\"colorbar\": {\"outlinewidth\": 0, \"ticks\": \"\"}, \"colorscale\": [[0.0, \"#0d0887\"], [0.1111111111111111, \"#46039f\"], [0.2222222222222222, \"#7201a8\"], [0.3333333333333333, \"#9c179e\"], [0.4444444444444444, \"#bd3786\"], [0.5555555555555556, \"#d8576b\"], [0.6666666666666666, \"#ed7953\"], [0.7777777777777778, \"#fb9f3a\"], [0.8888888888888888, \"#fdca26\"], [1.0, \"#f0f921\"]], \"type\": \"heatmap\"}], \"heatmapgl\": [{\"colorbar\": {\"outlinewidth\": 0, \"ticks\": \"\"}, \"colorscale\": [[0.0, \"#0d0887\"], [0.1111111111111111, \"#46039f\"], [0.2222222222222222, \"#7201a8\"], [0.3333333333333333, \"#9c179e\"], [0.4444444444444444, \"#bd3786\"], [0.5555555555555556, \"#d8576b\"], [0.6666666666666666, \"#ed7953\"], [0.7777777777777778, \"#fb9f3a\"], [0.8888888888888888, \"#fdca26\"], [1.0, \"#f0f921\"]], \"type\": \"heatmapgl\"}], \"histogram\": [{\"marker\": {\"colorbar\": {\"outlinewidth\": 0, \"ticks\": \"\"}}, \"type\": \"histogram\"}], \"histogram2d\": [{\"colorbar\": {\"outlinewidth\": 0, \"ticks\": \"\"}, \"colorscale\": [[0.0, \"#0d0887\"], [0.1111111111111111, \"#46039f\"], [0.2222222222222222, \"#7201a8\"], [0.3333333333333333, \"#9c179e\"], [0.4444444444444444, \"#bd3786\"], [0.5555555555555556, \"#d8576b\"], [0.6666666666666666, \"#ed7953\"], [0.7777777777777778, \"#fb9f3a\"], [0.8888888888888888, \"#fdca26\"], [1.0, \"#f0f921\"]], \"type\": \"histogram2d\"}], \"histogram2dcontour\": [{\"colorbar\": {\"outlinewidth\": 0, \"ticks\": \"\"}, \"colorscale\": [[0.0, \"#0d0887\"], [0.1111111111111111, \"#46039f\"], [0.2222222222222222, \"#7201a8\"], [0.3333333333333333, \"#9c179e\"], [0.4444444444444444, \"#bd3786\"], [0.5555555555555556, \"#d8576b\"], [0.6666666666666666, \"#ed7953\"], [0.7777777777777778, \"#fb9f3a\"], [0.8888888888888888, \"#fdca26\"], [1.0, \"#f0f921\"]], \"type\": \"histogram2dcontour\"}], \"mesh3d\": [{\"colorbar\": {\"outlinewidth\": 0, \"ticks\": \"\"}, \"type\": \"mesh3d\"}], \"parcoords\": [{\"line\": {\"colorbar\": {\"outlinewidth\": 0, \"ticks\": \"\"}}, \"type\": \"parcoords\"}], \"pie\": [{\"automargin\": true, \"type\": \"pie\"}], \"scatter\": [{\"marker\": {\"colorbar\": {\"outlinewidth\": 0, \"ticks\": \"\"}}, \"type\": \"scatter\"}], \"scatter3d\": [{\"line\": {\"colorbar\": {\"outlinewidth\": 0, \"ticks\": \"\"}}, \"marker\": {\"colorbar\": {\"outlinewidth\": 0, \"ticks\": \"\"}}, \"type\": \"scatter3d\"}], \"scattercarpet\": [{\"marker\": {\"colorbar\": {\"outlinewidth\": 0, \"ticks\": \"\"}}, \"type\": \"scattercarpet\"}], \"scattergeo\": [{\"marker\": {\"colorbar\": {\"outlinewidth\": 0, \"ticks\": \"\"}}, \"type\": \"scattergeo\"}], \"scattergl\": [{\"marker\": {\"colorbar\": {\"outlinewidth\": 0, \"ticks\": \"\"}}, \"type\": \"scattergl\"}], \"scattermapbox\": [{\"marker\": {\"colorbar\": {\"outlinewidth\": 0, \"ticks\": \"\"}}, \"type\": \"scattermapbox\"}], \"scatterpolar\": [{\"marker\": {\"colorbar\": {\"outlinewidth\": 0, \"ticks\": \"\"}}, \"type\": \"scatterpolar\"}], \"scatterpolargl\": [{\"marker\": {\"colorbar\": {\"outlinewidth\": 0, \"ticks\": \"\"}}, \"type\": \"scatterpolargl\"}], \"scatterternary\": [{\"marker\": {\"colorbar\": {\"outlinewidth\": 0, \"ticks\": \"\"}}, \"type\": \"scatterternary\"}], \"surface\": [{\"colorbar\": {\"outlinewidth\": 0, \"ticks\": \"\"}, \"colorscale\": [[0.0, \"#0d0887\"], [0.1111111111111111, \"#46039f\"], [0.2222222222222222, \"#7201a8\"], [0.3333333333333333, \"#9c179e\"], [0.4444444444444444, \"#bd3786\"], [0.5555555555555556, \"#d8576b\"], [0.6666666666666666, \"#ed7953\"], [0.7777777777777778, \"#fb9f3a\"], [0.8888888888888888, \"#fdca26\"], [1.0, \"#f0f921\"]], \"type\": \"surface\"}], \"table\": [{\"cells\": {\"fill\": {\"color\": \"#EBF0F8\"}, \"line\": {\"color\": \"white\"}}, \"header\": {\"fill\": {\"color\": \"#C8D4E3\"}, \"line\": {\"color\": \"white\"}}, \"type\": \"table\"}]}, \"layout\": {\"annotationdefaults\": {\"arrowcolor\": \"#2a3f5f\", \"arrowhead\": 0, \"arrowwidth\": 1}, \"autotypenumbers\": \"strict\", \"coloraxis\": {\"colorbar\": {\"outlinewidth\": 0, \"ticks\": \"\"}}, \"colorscale\": {\"diverging\": [[0, \"#8e0152\"], [0.1, \"#c51b7d\"], [0.2, \"#de77ae\"], [0.3, \"#f1b6da\"], [0.4, \"#fde0ef\"], [0.5, \"#f7f7f7\"], [0.6, \"#e6f5d0\"], [0.7, \"#b8e186\"], [0.8, \"#7fbc41\"], [0.9, \"#4d9221\"], [1, \"#276419\"]], \"sequential\": [[0.0, \"#0d0887\"], [0.1111111111111111, \"#46039f\"], [0.2222222222222222, \"#7201a8\"], [0.3333333333333333, \"#9c179e\"], [0.4444444444444444, \"#bd3786\"], [0.5555555555555556, \"#d8576b\"], [0.6666666666666666, \"#ed7953\"], [0.7777777777777778, \"#fb9f3a\"], [0.8888888888888888, \"#fdca26\"], [1.0, \"#f0f921\"]], \"sequentialminus\": [[0.0, \"#0d0887\"], [0.1111111111111111, \"#46039f\"], [0.2222222222222222, \"#7201a8\"], [0.3333333333333333, \"#9c179e\"], [0.4444444444444444, \"#bd3786\"], [0.5555555555555556, \"#d8576b\"], [0.6666666666666666, \"#ed7953\"], [0.7777777777777778, \"#fb9f3a\"], [0.8888888888888888, \"#fdca26\"], [1.0, \"#f0f921\"]]}, \"colorway\": [\"#636efa\", \"#EF553B\", \"#00cc96\", \"#ab63fa\", \"#FFA15A\", \"#19d3f3\", \"#FF6692\", \"#B6E880\", \"#FF97FF\", \"#FECB52\"], \"font\": {\"color\": \"#2a3f5f\"}, \"geo\": {\"bgcolor\": \"white\", \"lakecolor\": \"white\", \"landcolor\": \"#E5ECF6\", \"showlakes\": true, \"showland\": true, \"subunitcolor\": \"white\"}, \"hoverlabel\": {\"align\": \"left\"}, \"hovermode\": \"closest\", \"mapbox\": {\"style\": \"light\"}, \"paper_bgcolor\": \"white\", \"plot_bgcolor\": \"#E5ECF6\", \"polar\": {\"angularaxis\": {\"gridcolor\": \"white\", \"linecolor\": \"white\", \"ticks\": \"\"}, \"bgcolor\": \"#E5ECF6\", \"radialaxis\": {\"gridcolor\": \"white\", \"linecolor\": \"white\", \"ticks\": \"\"}}, \"scene\": {\"xaxis\": {\"backgroundcolor\": \"#E5ECF6\", \"gridcolor\": \"white\", \"gridwidth\": 2, \"linecolor\": \"white\", \"showbackground\": true, \"ticks\": \"\", \"zerolinecolor\": \"white\"}, \"yaxis\": {\"backgroundcolor\": \"#E5ECF6\", \"gridcolor\": \"white\", \"gridwidth\": 2, \"linecolor\": \"white\", \"showbackground\": true, \"ticks\": \"\", \"zerolinecolor\": \"white\"}, \"zaxis\": {\"backgroundcolor\": \"#E5ECF6\", \"gridcolor\": \"white\", \"gridwidth\": 2, \"linecolor\": \"white\", \"showbackground\": true, \"ticks\": \"\", \"zerolinecolor\": \"white\"}}, \"shapedefaults\": {\"line\": {\"color\": \"#2a3f5f\"}}, \"ternary\": {\"aaxis\": {\"gridcolor\": \"white\", \"linecolor\": \"white\", \"ticks\": \"\"}, \"baxis\": {\"gridcolor\": \"white\", \"linecolor\": \"white\", \"ticks\": \"\"}, \"bgcolor\": \"#E5ECF6\", \"caxis\": {\"gridcolor\": \"white\", \"linecolor\": \"white\", \"ticks\": \"\"}}, \"title\": {\"x\": 0.05}, \"xaxis\": {\"automargin\": true, \"gridcolor\": \"white\", \"linecolor\": \"white\", \"ticks\": \"\", \"title\": {\"standoff\": 15}, \"zerolinecolor\": \"white\", \"zerolinewidth\": 2}, \"yaxis\": {\"automargin\": true, \"gridcolor\": \"white\", \"linecolor\": \"white\", \"ticks\": \"\", \"title\": {\"standoff\": 15}, \"zerolinecolor\": \"white\", \"zerolinewidth\": 2}}}, \"title\": {\"text\": \"Changes in life expectancy at birth, relative value (%)\"}, \"xaxis\": {\"anchor\": \"y\", \"domain\": [0.0, 1.0], \"title\": {\"text\": \"Difference between first and last record, (percentage)\"}}, \"yaxis\": {\"anchor\": \"x\", \"domain\": [0.0, 1.0], \"title\": {\"text\": \"Life expectancy at birth, total (years). Last record.\"}}},                        {\"responsive\": true}                    ).then(function(){\n",
       "                            \n",
       "var gd = document.getElementById('74cba12e-9e5d-42d3-9ec5-896e7fe4145e');\n",
       "var x = new MutationObserver(function (mutations, observer) {{\n",
       "        var display = window.getComputedStyle(gd).display;\n",
       "        if (!display || display === 'none') {{\n",
       "            console.log([gd, 'removed!']);\n",
       "            Plotly.purge(gd);\n",
       "            observer.disconnect();\n",
       "        }}\n",
       "}});\n",
       "\n",
       "// Listen for the removal of the full notebook cells\n",
       "var notebookContainer = gd.closest('#notebook-container');\n",
       "if (notebookContainer) {{\n",
       "    x.observe(notebookContainer, {childList: true});\n",
       "}}\n",
       "\n",
       "// Listen for the clearing of the current output cell\n",
       "var outputEl = gd.closest('.output');\n",
       "if (outputEl) {{\n",
       "    x.observe(outputEl, {childList: true});\n",
       "}}\n",
       "\n",
       "                        })                };                });            </script>        </div>"
      ]
     },
     "metadata": {},
     "output_type": "display_data"
    }
   ],
   "source": [
    "life_expectancy_by_country_values_greater_than_zero = life_expectancy_by_country[life_expectancy_by_country[\"percentage\"] > 0] #Removed negative values because cause error\n",
    "fig = px.scatter(life_expectancy_by_country_values_greater_than_zero, x='percentage', y=\"last\", color=\"percentage\", \n",
    "                 title=\"Changes in life expectancy at birth, relative value (%)\",\n",
    "                 size='percentage', hover_data=['Country Name'],\n",
    "                labels={\n",
    "                     \"last\": \"Life expectancy at birth, total (years). Last record.\",\n",
    "                     \"percentage\": \"Difference between first and last record, (percentage)\"\n",
    "                 },)\n",
    "fig.show()"
   ]
  },
  {
   "cell_type": "markdown",
   "metadata": {},
   "source": [
    "#### Changes in life expectancy at birth, absolute value (Years)\n",
    "<p>Also I can compare between absolute values, getting different results:<p>\n",
    "<code>absolute increment (years) = last record - first record</code>"
   ]
  },
  {
   "cell_type": "code",
   "execution_count": 46,
   "metadata": {},
   "outputs": [
    {
     "data": {
      "text/html": [
       "<div>\n",
       "<style scoped>\n",
       "    .dataframe tbody tr th:only-of-type {\n",
       "        vertical-align: middle;\n",
       "    }\n",
       "\n",
       "    .dataframe tbody tr th {\n",
       "        vertical-align: top;\n",
       "    }\n",
       "\n",
       "    .dataframe thead th {\n",
       "        text-align: right;\n",
       "    }\n",
       "</style>\n",
       "<table border=\"1\" class=\"dataframe\">\n",
       "  <thead>\n",
       "    <tr style=\"text-align: right;\">\n",
       "      <th></th>\n",
       "      <th>last</th>\n",
       "      <th>first</th>\n",
       "      <th>diff</th>\n",
       "      <th>percentage</th>\n",
       "      <th>Country Name</th>\n",
       "    </tr>\n",
       "    <tr>\n",
       "      <th>Country Name</th>\n",
       "      <th></th>\n",
       "      <th></th>\n",
       "      <th></th>\n",
       "      <th></th>\n",
       "      <th></th>\n",
       "    </tr>\n",
       "  </thead>\n",
       "  <tbody>\n",
       "    <tr>\n",
       "      <th>Tunisia</th>\n",
       "      <td>74.202439</td>\n",
       "      <td>43.341683</td>\n",
       "      <td>30.860756</td>\n",
       "      <td>71.203410</td>\n",
       "      <td>Tunisia</td>\n",
       "    </tr>\n",
       "    <tr>\n",
       "      <th>Nepal</th>\n",
       "      <td>66.551927</td>\n",
       "      <td>35.952293</td>\n",
       "      <td>30.599634</td>\n",
       "      <td>85.111774</td>\n",
       "      <td>Nepal</td>\n",
       "    </tr>\n",
       "    <tr>\n",
       "      <th>China</th>\n",
       "      <td>74.340439</td>\n",
       "      <td>44.398341</td>\n",
       "      <td>29.942098</td>\n",
       "      <td>67.439676</td>\n",
       "      <td>China</td>\n",
       "    </tr>\n",
       "    <tr>\n",
       "      <th>Oman</th>\n",
       "      <td>75.123610</td>\n",
       "      <td>48.107073</td>\n",
       "      <td>27.016537</td>\n",
       "      <td>56.159177</td>\n",
       "      <td>Oman</td>\n",
       "    </tr>\n",
       "    <tr>\n",
       "      <th>Saudi Arabia</th>\n",
       "      <td>73.345073</td>\n",
       "      <td>46.694512</td>\n",
       "      <td>26.650561</td>\n",
       "      <td>57.074289</td>\n",
       "      <td>Saudi Arabia</td>\n",
       "    </tr>\n",
       "  </tbody>\n",
       "</table>\n",
       "</div>"
      ],
      "text/plain": [
       "                   last      first       diff  percentage  Country Name\n",
       "Country Name                                                           \n",
       "Tunisia       74.202439  43.341683  30.860756   71.203410       Tunisia\n",
       "Nepal         66.551927  35.952293  30.599634   85.111774         Nepal\n",
       "China         74.340439  44.398341  29.942098   67.439676         China\n",
       "Oman          75.123610  48.107073  27.016537   56.159177          Oman\n",
       "Saudi Arabia  73.345073  46.694512  26.650561   57.074289  Saudi Arabia"
      ]
     },
     "execution_count": 46,
     "metadata": {},
     "output_type": "execute_result"
    }
   ],
   "source": [
    "life_expectancy_by_country.sort_values(by=\"diff\", ascending=False).head()"
   ]
  },
  {
   "cell_type": "code",
   "execution_count": 47,
   "metadata": {},
   "outputs": [
    {
     "data": {
      "application/vnd.plotly.v1+json": {
       "config": {
        "plotlyServerURL": "https://plot.ly"
       },
       "data": [
        {
         "customdata": [
          [
           "Afghanistan"
          ],
          [
           "Albania"
          ],
          [
           "Algeria"
          ],
          [
           "Angola"
          ],
          [
           "Argentina"
          ],
          [
           "Australia"
          ],
          [
           "Austria"
          ],
          [
           "Bahrain"
          ],
          [
           "Bangladesh"
          ],
          [
           "Belgium"
          ],
          [
           "Benin"
          ],
          [
           "Bolivia"
          ],
          [
           "Bosnia and Herzegovina"
          ],
          [
           "Botswana"
          ],
          [
           "Brazil"
          ],
          [
           "Bulgaria"
          ],
          [
           "Burkina Faso"
          ],
          [
           "Burundi"
          ],
          [
           "Cambodia"
          ],
          [
           "Cameroon"
          ],
          [
           "Canada"
          ],
          [
           "Central African Republic"
          ],
          [
           "Chad"
          ],
          [
           "Chile"
          ],
          [
           "China"
          ],
          [
           "Colombia"
          ],
          [
           "Comoros"
          ],
          [
           "Costa Rica"
          ],
          [
           "Cote d'Ivoire"
          ],
          [
           "Croatia"
          ],
          [
           "Cuba"
          ],
          [
           "Czech Republic"
          ],
          [
           "Denmark"
          ],
          [
           "Djibouti"
          ],
          [
           "Dominican Republic"
          ],
          [
           "Ecuador"
          ],
          [
           "El Salvador"
          ],
          [
           "Equatorial Guinea"
          ],
          [
           "Eritrea"
          ],
          [
           "Ethiopia"
          ],
          [
           "Finland"
          ],
          [
           "France"
          ],
          [
           "Gabon"
          ],
          [
           "Germany"
          ],
          [
           "Ghana"
          ],
          [
           "Greece"
          ],
          [
           "Guatemala"
          ],
          [
           "Guinea"
          ],
          [
           "Guinea-Bissau"
          ],
          [
           "Haiti"
          ],
          [
           "Honduras"
          ],
          [
           "Hungary"
          ],
          [
           "Iceland"
          ],
          [
           "India"
          ],
          [
           "Indonesia"
          ],
          [
           "Iraq"
          ],
          [
           "Ireland"
          ],
          [
           "Israel"
          ],
          [
           "Italy"
          ],
          [
           "Jamaica"
          ],
          [
           "Japan"
          ],
          [
           "Jordan"
          ],
          [
           "Kenya"
          ],
          [
           "Kuwait"
          ],
          [
           "Lebanon"
          ],
          [
           "Liberia"
          ],
          [
           "Libya"
          ],
          [
           "Madagascar"
          ],
          [
           "Malawi"
          ],
          [
           "Malaysia"
          ],
          [
           "Mali"
          ],
          [
           "Mauritania"
          ],
          [
           "Mauritius"
          ],
          [
           "Mexico"
          ],
          [
           "Mongolia"
          ],
          [
           "Morocco"
          ],
          [
           "Mozambique"
          ],
          [
           "Myanmar"
          ],
          [
           "Nepal"
          ],
          [
           "Netherlands"
          ],
          [
           "New Zealand"
          ],
          [
           "Nicaragua"
          ],
          [
           "Niger"
          ],
          [
           "Nigeria"
          ],
          [
           "Norway"
          ],
          [
           "Oman"
          ],
          [
           "Pakistan"
          ],
          [
           "Panama"
          ],
          [
           "Paraguay"
          ],
          [
           "Peru"
          ],
          [
           "Philippines"
          ],
          [
           "Poland"
          ],
          [
           "Portugal"
          ],
          [
           "Romania"
          ],
          [
           "Rwanda"
          ],
          [
           "Sao Tome and Principe"
          ],
          [
           "Saudi Arabia"
          ],
          [
           "Senegal"
          ],
          [
           "Sierra Leone"
          ],
          [
           "Singapore"
          ],
          [
           "Slovak Republic"
          ],
          [
           "Slovenia"
          ],
          [
           "Somalia"
          ],
          [
           "South Africa"
          ],
          [
           "Spain"
          ],
          [
           "Sri Lanka"
          ],
          [
           "Sudan"
          ],
          [
           "Swaziland"
          ],
          [
           "Sweden"
          ],
          [
           "Switzerland"
          ],
          [
           "Tanzania"
          ],
          [
           "Thailand"
          ],
          [
           "Togo"
          ],
          [
           "Trinidad and Tobago"
          ],
          [
           "Tunisia"
          ],
          [
           "Turkey"
          ],
          [
           "Uganda"
          ],
          [
           "United Kingdom"
          ],
          [
           "United States"
          ],
          [
           "Uruguay"
          ],
          [
           "Vietnam"
          ],
          [
           "West Bank and Gaza"
          ],
          [
           "Zambia"
          ]
         ],
         "hovertemplate": "Difference between first and last record, (years)=%{marker.color}<br>Life expectancy at birth, total (years). Last record.=%{y}<br>Country Name=%{customdata[0]}<extra></extra>",
         "legendgroup": "",
         "marker": {
          "color": [
           24.6139268293,
           12.307439024399997,
           25.853365853699998,
           15.648146341399993,
           9.576439024400003,
           10.350243902399995,
           10.870975609799999,
           20.8894878049,
           21.82565853659999,
           9.5634146342,
           19.677975609800008,
           21.937073170700003,
           4.853439024400004,
           3.461829268300008,
           17.179170731699998,
           3.171463414599998,
           19.7829268292,
           11.595682926800002,
           23.034902439,
           10.073195122000001,
           9.267317073200005,
           8.3686097561,
           10.030365853700005,
           20.7981463415,
           29.942097560999997,
           14.966292682899997,
           18.474585365799996,
           16.346536585399996,
           10.545000000000002,
           4.464146341499998,
           13.310975609799996,
           4.4526829268000085,
           5.8753658535999875,
           13.954902439000001,
           18.832073170799994,
           20.1074878048,
           19.541780487800004,
           17.183902439100002,
           5.659804878000003,
           18.7093414634,
           10.685609756100007,
           10.797560975700009,
           20.0187804878,
           3.7146341463999875,
           12.953317073099996,
           10.546756097499994,
           23.4224878049,
           18.739097561,
           14.3882439024,
           16.713585365899995,
           24.225780487799994,
           5.2853658537,
           7.731707317100003,
           22.883024390299994,
           17.681926829299996,
           17.780658536500006,
           9.5534878048,
           8.392682926799992,
           12.284390243899992,
           8.612658536599994,
           13.912195121899998,
           18.709853658499995,
           8.047048780499999,
           11.9615121951,
           13.735487804899996,
           21.837073170800004,
           25.867439024299998,
           21.115195121999996,
           12.141268292699998,
           8.543048780500015,
           25.7134634147,
           16.3145121951,
           11.9438292683,
           17.4076829269,
           15.908121951200009,
           21.990048780400002,
           15.709829268299998,
           19.9423170731,
           30.5996341464,
           6.77365853660001,
           8.919512195099998,
           24.2757804878,
           19.789560975600004,
           11.7290731708,
           6.947073170699994,
           27.016536585399997,
           17.2217560975,
           14.418097560900001,
           7.467926829299998,
           24.244170731700002,
           9.050170731700007,
           7.817073170699999,
           14.627804877999992,
           5.5367804878000015,
           15.108292682900014,
           13.590707317100005,
           26.650560975599987,
           23.338170731700004,
           14.7355853659,
           14.00921951219999,
           2.412195122,
           5.25609756099999,
           15.2574390244,
           2.1832195122000044,
           11.354146341499998,
           13.682536585300006,
           11.6734146342,
           0.31958536590000364,
           7.549512195100007,
           10.545365853600003,
           13.915536585399998,
           17.129219512199988,
           13.878341463400005,
           5.499463414600001,
           30.860756097599996,
           26.340365853599998,
           8.507097561000002,
           8.521951219499996,
           7.868292682900005,
           7.6543902438999964,
           14.073317073100007,
           1.6066585366000083,
           4.7956829269
          ],
          "coloraxis": "coloraxis",
          "size": [
           24.6139268293,
           12.307439024399997,
           25.853365853699998,
           15.648146341399993,
           9.576439024400003,
           10.350243902399995,
           10.870975609799999,
           20.8894878049,
           21.82565853659999,
           9.5634146342,
           19.677975609800008,
           21.937073170700003,
           4.853439024400004,
           3.461829268300008,
           17.179170731699998,
           3.171463414599998,
           19.7829268292,
           11.595682926800002,
           23.034902439,
           10.073195122000001,
           9.267317073200005,
           8.3686097561,
           10.030365853700005,
           20.7981463415,
           29.942097560999997,
           14.966292682899997,
           18.474585365799996,
           16.346536585399996,
           10.545000000000002,
           4.464146341499998,
           13.310975609799996,
           4.4526829268000085,
           5.8753658535999875,
           13.954902439000001,
           18.832073170799994,
           20.1074878048,
           19.541780487800004,
           17.183902439100002,
           5.659804878000003,
           18.7093414634,
           10.685609756100007,
           10.797560975700009,
           20.0187804878,
           3.7146341463999875,
           12.953317073099996,
           10.546756097499994,
           23.4224878049,
           18.739097561,
           14.3882439024,
           16.713585365899995,
           24.225780487799994,
           5.2853658537,
           7.731707317100003,
           22.883024390299994,
           17.681926829299996,
           17.780658536500006,
           9.5534878048,
           8.392682926799992,
           12.284390243899992,
           8.612658536599994,
           13.912195121899998,
           18.709853658499995,
           8.047048780499999,
           11.9615121951,
           13.735487804899996,
           21.837073170800004,
           25.867439024299998,
           21.115195121999996,
           12.141268292699998,
           8.543048780500015,
           25.7134634147,
           16.3145121951,
           11.9438292683,
           17.4076829269,
           15.908121951200009,
           21.990048780400002,
           15.709829268299998,
           19.9423170731,
           30.5996341464,
           6.77365853660001,
           8.919512195099998,
           24.2757804878,
           19.789560975600004,
           11.7290731708,
           6.947073170699994,
           27.016536585399997,
           17.2217560975,
           14.418097560900001,
           7.467926829299998,
           24.244170731700002,
           9.050170731700007,
           7.817073170699999,
           14.627804877999992,
           5.5367804878000015,
           15.108292682900014,
           13.590707317100005,
           26.650560975599987,
           23.338170731700004,
           14.7355853659,
           14.00921951219999,
           2.412195122,
           5.25609756099999,
           15.2574390244,
           2.1832195122000044,
           11.354146341499998,
           13.682536585300006,
           11.6734146342,
           0.31958536590000364,
           7.549512195100007,
           10.545365853600003,
           13.915536585399998,
           17.129219512199988,
           13.878341463400005,
           5.499463414600001,
           30.860756097599996,
           26.340365853599998,
           8.507097561000002,
           8.521951219499996,
           7.868292682900005,
           7.6543902438999964,
           14.073317073100007,
           1.6066585366000083,
           4.7956829269
          ],
          "sizemode": "area",
          "sizeref": 0.07715189024399999,
          "symbol": "circle"
         },
         "mode": "markers",
         "name": "",
         "orientation": "v",
         "showlegend": false,
         "type": "scatter",
         "x": [
          24.6139268293,
          12.307439024399997,
          25.853365853699998,
          15.648146341399993,
          9.576439024400003,
          10.350243902399995,
          10.870975609799999,
          20.8894878049,
          21.82565853659999,
          9.5634146342,
          19.677975609800008,
          21.937073170700003,
          4.853439024400004,
          3.461829268300008,
          17.179170731699998,
          3.171463414599998,
          19.7829268292,
          11.595682926800002,
          23.034902439,
          10.073195122000001,
          9.267317073200005,
          8.3686097561,
          10.030365853700005,
          20.7981463415,
          29.942097560999997,
          14.966292682899997,
          18.474585365799996,
          16.346536585399996,
          10.545000000000002,
          4.464146341499998,
          13.310975609799996,
          4.4526829268000085,
          5.8753658535999875,
          13.954902439000001,
          18.832073170799994,
          20.1074878048,
          19.541780487800004,
          17.183902439100002,
          5.659804878000003,
          18.7093414634,
          10.685609756100007,
          10.797560975700009,
          20.0187804878,
          3.7146341463999875,
          12.953317073099996,
          10.546756097499994,
          23.4224878049,
          18.739097561,
          14.3882439024,
          16.713585365899995,
          24.225780487799994,
          5.2853658537,
          7.731707317100003,
          22.883024390299994,
          17.681926829299996,
          17.780658536500006,
          9.5534878048,
          8.392682926799992,
          12.284390243899992,
          8.612658536599994,
          13.912195121899998,
          18.709853658499995,
          8.047048780499999,
          11.9615121951,
          13.735487804899996,
          21.837073170800004,
          25.867439024299998,
          21.115195121999996,
          12.141268292699998,
          8.543048780500015,
          25.7134634147,
          16.3145121951,
          11.9438292683,
          17.4076829269,
          15.908121951200009,
          21.990048780400002,
          15.709829268299998,
          19.9423170731,
          30.5996341464,
          6.77365853660001,
          8.919512195099998,
          24.2757804878,
          19.789560975600004,
          11.7290731708,
          6.947073170699994,
          27.016536585399997,
          17.2217560975,
          14.418097560900001,
          7.467926829299998,
          24.244170731700002,
          9.050170731700007,
          7.817073170699999,
          14.627804877999992,
          5.5367804878000015,
          15.108292682900014,
          13.590707317100005,
          26.650560975599987,
          23.338170731700004,
          14.7355853659,
          14.00921951219999,
          2.412195122,
          5.25609756099999,
          15.2574390244,
          2.1832195122000044,
          11.354146341499998,
          13.682536585300006,
          11.6734146342,
          0.31958536590000364,
          7.549512195100007,
          10.545365853600003,
          13.915536585399998,
          17.129219512199988,
          13.878341463400005,
          5.499463414600001,
          30.860756097599996,
          26.340365853599998,
          8.507097561000002,
          8.521951219499996,
          7.868292682900005,
          7.6543902438999964,
          14.073317073100007,
          1.6066585366000083,
          4.7956829269
         ],
         "xaxis": "x",
         "y": [
          57.8338292683,
          76.4702926829,
          72.8983658537,
          49.43573170729999,
          75.0090487805,
          81.2926829268,
          80.1804878049,
          75.7077560976,
          68.85997560979999,
          79.78292682930001,
          57.867390243900005,
          64.6941219512,
          75.3714878049,
          59.0745609756,
          72.4148292683,
          72.6634146341,
          55.188804878,
          53.4560731707,
          64.5523414634,
          52.4791463415,
          80.6343902439,
          45.687390243900005,
          48.5592195122,
          79.3135365854,
          74.3404390244,
          72.7055121951,
          60.7123414634,
          78.33031707319999,
          48.7788292683,
          75.7056097561,
          78.44919512199999,
          76.7243902439,
          78.1951219512,
          58.8293414634,
          72.1313170732,
          74.4950243902,
          70.7804634146,
          54.5163170732,
          59.6694146341,
          58.408,
          79.2634146341,
          81.112195122,
          60.3927804878,
          79.53414634149999,
          59.6358536585,
          79.4390243902,
          70.1107804878,
          53.9994878049,
          52.8554634146,
          59.9773902439,
          71.8587317073,
          73.1512195122,
          81.4536585366,
          65.30043902439999,
          67.5677317073,
          68.19902439020001,
          79.6414634146,
          80.5048780488,
          81.4341463415,
          74.0092926829,
          82.5070731707,
          72.9611707317,
          55.6992926829,
          73.81,
          77.615902439,
          57.191195122,
          71.7386341463,
          62.053,
          51.5124878049,
          73.81826829270001,
          54.2619268293,
          61.1397317073,
          72.5707317073,
          75.5879268293,
          66.06817073170001,
          71.2776341463,
          51.622097561,
          64.0936829268,
          66.5519268293,
          80.0975609756,
          80.1512195122,
          72.5716585366,
          55.4550243902,
          49.8081463415,
          80.3951219512,
          75.1236097561,
          64.3387317073,
          76.3144634146,
          71.6948292683,
          72.9969512195,
          67.47902439020001,
          75.243902439,
          78.3219512195,
          72.5658536585,
          57.94600000000001,
          65.188,
          73.34507317069999,
          61.7841707317,
          45.4883658537,
          80.4414634146,
          74.2073170732,
          78.5609756098,
          53.0186585366,
          51.9965121951,
          80.8731707317,
          74.1941219512,
          60.7008780488,
          46.772390243900006,
          80.9,
          81.7414634146,
          58.0777804878,
          72.87443902439999,
          55.4334390244,
          69.2596585366,
          74.2024390244,
          73.1770731707,
          53.6541463415,
          79.4487804878,
          77.987804878,
          75.9510243902,
          74.48385365850001,
          71.74704878050001,
          52.4771463415
         ],
         "yaxis": "y"
        }
       ],
       "layout": {
        "coloraxis": {
         "colorbar": {
          "title": {
           "text": "Difference between first and last record, (years)"
          }
         },
         "colorscale": [
          [
           0,
           "#0d0887"
          ],
          [
           0.1111111111111111,
           "#46039f"
          ],
          [
           0.2222222222222222,
           "#7201a8"
          ],
          [
           0.3333333333333333,
           "#9c179e"
          ],
          [
           0.4444444444444444,
           "#bd3786"
          ],
          [
           0.5555555555555556,
           "#d8576b"
          ],
          [
           0.6666666666666666,
           "#ed7953"
          ],
          [
           0.7777777777777778,
           "#fb9f3a"
          ],
          [
           0.8888888888888888,
           "#fdca26"
          ],
          [
           1,
           "#f0f921"
          ]
         ]
        },
        "legend": {
         "itemsizing": "constant",
         "tracegroupgap": 0
        },
        "template": {
         "data": {
          "bar": [
           {
            "error_x": {
             "color": "#2a3f5f"
            },
            "error_y": {
             "color": "#2a3f5f"
            },
            "marker": {
             "line": {
              "color": "#E5ECF6",
              "width": 0.5
             }
            },
            "type": "bar"
           }
          ],
          "barpolar": [
           {
            "marker": {
             "line": {
              "color": "#E5ECF6",
              "width": 0.5
             }
            },
            "type": "barpolar"
           }
          ],
          "carpet": [
           {
            "aaxis": {
             "endlinecolor": "#2a3f5f",
             "gridcolor": "white",
             "linecolor": "white",
             "minorgridcolor": "white",
             "startlinecolor": "#2a3f5f"
            },
            "baxis": {
             "endlinecolor": "#2a3f5f",
             "gridcolor": "white",
             "linecolor": "white",
             "minorgridcolor": "white",
             "startlinecolor": "#2a3f5f"
            },
            "type": "carpet"
           }
          ],
          "choropleth": [
           {
            "colorbar": {
             "outlinewidth": 0,
             "ticks": ""
            },
            "type": "choropleth"
           }
          ],
          "contour": [
           {
            "colorbar": {
             "outlinewidth": 0,
             "ticks": ""
            },
            "colorscale": [
             [
              0,
              "#0d0887"
             ],
             [
              0.1111111111111111,
              "#46039f"
             ],
             [
              0.2222222222222222,
              "#7201a8"
             ],
             [
              0.3333333333333333,
              "#9c179e"
             ],
             [
              0.4444444444444444,
              "#bd3786"
             ],
             [
              0.5555555555555556,
              "#d8576b"
             ],
             [
              0.6666666666666666,
              "#ed7953"
             ],
             [
              0.7777777777777778,
              "#fb9f3a"
             ],
             [
              0.8888888888888888,
              "#fdca26"
             ],
             [
              1,
              "#f0f921"
             ]
            ],
            "type": "contour"
           }
          ],
          "contourcarpet": [
           {
            "colorbar": {
             "outlinewidth": 0,
             "ticks": ""
            },
            "type": "contourcarpet"
           }
          ],
          "heatmap": [
           {
            "colorbar": {
             "outlinewidth": 0,
             "ticks": ""
            },
            "colorscale": [
             [
              0,
              "#0d0887"
             ],
             [
              0.1111111111111111,
              "#46039f"
             ],
             [
              0.2222222222222222,
              "#7201a8"
             ],
             [
              0.3333333333333333,
              "#9c179e"
             ],
             [
              0.4444444444444444,
              "#bd3786"
             ],
             [
              0.5555555555555556,
              "#d8576b"
             ],
             [
              0.6666666666666666,
              "#ed7953"
             ],
             [
              0.7777777777777778,
              "#fb9f3a"
             ],
             [
              0.8888888888888888,
              "#fdca26"
             ],
             [
              1,
              "#f0f921"
             ]
            ],
            "type": "heatmap"
           }
          ],
          "heatmapgl": [
           {
            "colorbar": {
             "outlinewidth": 0,
             "ticks": ""
            },
            "colorscale": [
             [
              0,
              "#0d0887"
             ],
             [
              0.1111111111111111,
              "#46039f"
             ],
             [
              0.2222222222222222,
              "#7201a8"
             ],
             [
              0.3333333333333333,
              "#9c179e"
             ],
             [
              0.4444444444444444,
              "#bd3786"
             ],
             [
              0.5555555555555556,
              "#d8576b"
             ],
             [
              0.6666666666666666,
              "#ed7953"
             ],
             [
              0.7777777777777778,
              "#fb9f3a"
             ],
             [
              0.8888888888888888,
              "#fdca26"
             ],
             [
              1,
              "#f0f921"
             ]
            ],
            "type": "heatmapgl"
           }
          ],
          "histogram": [
           {
            "marker": {
             "colorbar": {
              "outlinewidth": 0,
              "ticks": ""
             }
            },
            "type": "histogram"
           }
          ],
          "histogram2d": [
           {
            "colorbar": {
             "outlinewidth": 0,
             "ticks": ""
            },
            "colorscale": [
             [
              0,
              "#0d0887"
             ],
             [
              0.1111111111111111,
              "#46039f"
             ],
             [
              0.2222222222222222,
              "#7201a8"
             ],
             [
              0.3333333333333333,
              "#9c179e"
             ],
             [
              0.4444444444444444,
              "#bd3786"
             ],
             [
              0.5555555555555556,
              "#d8576b"
             ],
             [
              0.6666666666666666,
              "#ed7953"
             ],
             [
              0.7777777777777778,
              "#fb9f3a"
             ],
             [
              0.8888888888888888,
              "#fdca26"
             ],
             [
              1,
              "#f0f921"
             ]
            ],
            "type": "histogram2d"
           }
          ],
          "histogram2dcontour": [
           {
            "colorbar": {
             "outlinewidth": 0,
             "ticks": ""
            },
            "colorscale": [
             [
              0,
              "#0d0887"
             ],
             [
              0.1111111111111111,
              "#46039f"
             ],
             [
              0.2222222222222222,
              "#7201a8"
             ],
             [
              0.3333333333333333,
              "#9c179e"
             ],
             [
              0.4444444444444444,
              "#bd3786"
             ],
             [
              0.5555555555555556,
              "#d8576b"
             ],
             [
              0.6666666666666666,
              "#ed7953"
             ],
             [
              0.7777777777777778,
              "#fb9f3a"
             ],
             [
              0.8888888888888888,
              "#fdca26"
             ],
             [
              1,
              "#f0f921"
             ]
            ],
            "type": "histogram2dcontour"
           }
          ],
          "mesh3d": [
           {
            "colorbar": {
             "outlinewidth": 0,
             "ticks": ""
            },
            "type": "mesh3d"
           }
          ],
          "parcoords": [
           {
            "line": {
             "colorbar": {
              "outlinewidth": 0,
              "ticks": ""
             }
            },
            "type": "parcoords"
           }
          ],
          "pie": [
           {
            "automargin": true,
            "type": "pie"
           }
          ],
          "scatter": [
           {
            "marker": {
             "colorbar": {
              "outlinewidth": 0,
              "ticks": ""
             }
            },
            "type": "scatter"
           }
          ],
          "scatter3d": [
           {
            "line": {
             "colorbar": {
              "outlinewidth": 0,
              "ticks": ""
             }
            },
            "marker": {
             "colorbar": {
              "outlinewidth": 0,
              "ticks": ""
             }
            },
            "type": "scatter3d"
           }
          ],
          "scattercarpet": [
           {
            "marker": {
             "colorbar": {
              "outlinewidth": 0,
              "ticks": ""
             }
            },
            "type": "scattercarpet"
           }
          ],
          "scattergeo": [
           {
            "marker": {
             "colorbar": {
              "outlinewidth": 0,
              "ticks": ""
             }
            },
            "type": "scattergeo"
           }
          ],
          "scattergl": [
           {
            "marker": {
             "colorbar": {
              "outlinewidth": 0,
              "ticks": ""
             }
            },
            "type": "scattergl"
           }
          ],
          "scattermapbox": [
           {
            "marker": {
             "colorbar": {
              "outlinewidth": 0,
              "ticks": ""
             }
            },
            "type": "scattermapbox"
           }
          ],
          "scatterpolar": [
           {
            "marker": {
             "colorbar": {
              "outlinewidth": 0,
              "ticks": ""
             }
            },
            "type": "scatterpolar"
           }
          ],
          "scatterpolargl": [
           {
            "marker": {
             "colorbar": {
              "outlinewidth": 0,
              "ticks": ""
             }
            },
            "type": "scatterpolargl"
           }
          ],
          "scatterternary": [
           {
            "marker": {
             "colorbar": {
              "outlinewidth": 0,
              "ticks": ""
             }
            },
            "type": "scatterternary"
           }
          ],
          "surface": [
           {
            "colorbar": {
             "outlinewidth": 0,
             "ticks": ""
            },
            "colorscale": [
             [
              0,
              "#0d0887"
             ],
             [
              0.1111111111111111,
              "#46039f"
             ],
             [
              0.2222222222222222,
              "#7201a8"
             ],
             [
              0.3333333333333333,
              "#9c179e"
             ],
             [
              0.4444444444444444,
              "#bd3786"
             ],
             [
              0.5555555555555556,
              "#d8576b"
             ],
             [
              0.6666666666666666,
              "#ed7953"
             ],
             [
              0.7777777777777778,
              "#fb9f3a"
             ],
             [
              0.8888888888888888,
              "#fdca26"
             ],
             [
              1,
              "#f0f921"
             ]
            ],
            "type": "surface"
           }
          ],
          "table": [
           {
            "cells": {
             "fill": {
              "color": "#EBF0F8"
             },
             "line": {
              "color": "white"
             }
            },
            "header": {
             "fill": {
              "color": "#C8D4E3"
             },
             "line": {
              "color": "white"
             }
            },
            "type": "table"
           }
          ]
         },
         "layout": {
          "annotationdefaults": {
           "arrowcolor": "#2a3f5f",
           "arrowhead": 0,
           "arrowwidth": 1
          },
          "autotypenumbers": "strict",
          "coloraxis": {
           "colorbar": {
            "outlinewidth": 0,
            "ticks": ""
           }
          },
          "colorscale": {
           "diverging": [
            [
             0,
             "#8e0152"
            ],
            [
             0.1,
             "#c51b7d"
            ],
            [
             0.2,
             "#de77ae"
            ],
            [
             0.3,
             "#f1b6da"
            ],
            [
             0.4,
             "#fde0ef"
            ],
            [
             0.5,
             "#f7f7f7"
            ],
            [
             0.6,
             "#e6f5d0"
            ],
            [
             0.7,
             "#b8e186"
            ],
            [
             0.8,
             "#7fbc41"
            ],
            [
             0.9,
             "#4d9221"
            ],
            [
             1,
             "#276419"
            ]
           ],
           "sequential": [
            [
             0,
             "#0d0887"
            ],
            [
             0.1111111111111111,
             "#46039f"
            ],
            [
             0.2222222222222222,
             "#7201a8"
            ],
            [
             0.3333333333333333,
             "#9c179e"
            ],
            [
             0.4444444444444444,
             "#bd3786"
            ],
            [
             0.5555555555555556,
             "#d8576b"
            ],
            [
             0.6666666666666666,
             "#ed7953"
            ],
            [
             0.7777777777777778,
             "#fb9f3a"
            ],
            [
             0.8888888888888888,
             "#fdca26"
            ],
            [
             1,
             "#f0f921"
            ]
           ],
           "sequentialminus": [
            [
             0,
             "#0d0887"
            ],
            [
             0.1111111111111111,
             "#46039f"
            ],
            [
             0.2222222222222222,
             "#7201a8"
            ],
            [
             0.3333333333333333,
             "#9c179e"
            ],
            [
             0.4444444444444444,
             "#bd3786"
            ],
            [
             0.5555555555555556,
             "#d8576b"
            ],
            [
             0.6666666666666666,
             "#ed7953"
            ],
            [
             0.7777777777777778,
             "#fb9f3a"
            ],
            [
             0.8888888888888888,
             "#fdca26"
            ],
            [
             1,
             "#f0f921"
            ]
           ]
          },
          "colorway": [
           "#636efa",
           "#EF553B",
           "#00cc96",
           "#ab63fa",
           "#FFA15A",
           "#19d3f3",
           "#FF6692",
           "#B6E880",
           "#FF97FF",
           "#FECB52"
          ],
          "font": {
           "color": "#2a3f5f"
          },
          "geo": {
           "bgcolor": "white",
           "lakecolor": "white",
           "landcolor": "#E5ECF6",
           "showlakes": true,
           "showland": true,
           "subunitcolor": "white"
          },
          "hoverlabel": {
           "align": "left"
          },
          "hovermode": "closest",
          "mapbox": {
           "style": "light"
          },
          "paper_bgcolor": "white",
          "plot_bgcolor": "#E5ECF6",
          "polar": {
           "angularaxis": {
            "gridcolor": "white",
            "linecolor": "white",
            "ticks": ""
           },
           "bgcolor": "#E5ECF6",
           "radialaxis": {
            "gridcolor": "white",
            "linecolor": "white",
            "ticks": ""
           }
          },
          "scene": {
           "xaxis": {
            "backgroundcolor": "#E5ECF6",
            "gridcolor": "white",
            "gridwidth": 2,
            "linecolor": "white",
            "showbackground": true,
            "ticks": "",
            "zerolinecolor": "white"
           },
           "yaxis": {
            "backgroundcolor": "#E5ECF6",
            "gridcolor": "white",
            "gridwidth": 2,
            "linecolor": "white",
            "showbackground": true,
            "ticks": "",
            "zerolinecolor": "white"
           },
           "zaxis": {
            "backgroundcolor": "#E5ECF6",
            "gridcolor": "white",
            "gridwidth": 2,
            "linecolor": "white",
            "showbackground": true,
            "ticks": "",
            "zerolinecolor": "white"
           }
          },
          "shapedefaults": {
           "line": {
            "color": "#2a3f5f"
           }
          },
          "ternary": {
           "aaxis": {
            "gridcolor": "white",
            "linecolor": "white",
            "ticks": ""
           },
           "baxis": {
            "gridcolor": "white",
            "linecolor": "white",
            "ticks": ""
           },
           "bgcolor": "#E5ECF6",
           "caxis": {
            "gridcolor": "white",
            "linecolor": "white",
            "ticks": ""
           }
          },
          "title": {
           "x": 0.05
          },
          "xaxis": {
           "automargin": true,
           "gridcolor": "white",
           "linecolor": "white",
           "ticks": "",
           "title": {
            "standoff": 15
           },
           "zerolinecolor": "white",
           "zerolinewidth": 2
          },
          "yaxis": {
           "automargin": true,
           "gridcolor": "white",
           "linecolor": "white",
           "ticks": "",
           "title": {
            "standoff": 15
           },
           "zerolinecolor": "white",
           "zerolinewidth": 2
          }
         }
        },
        "title": {
         "text": "Changes in life expectancy at birth, absolute value (Years)"
        },
        "xaxis": {
         "anchor": "y",
         "domain": [
          0,
          1
         ],
         "title": {
          "text": "Difference between first and last record, (years)"
         }
        },
        "yaxis": {
         "anchor": "x",
         "domain": [
          0,
          1
         ],
         "title": {
          "text": "Life expectancy at birth, total (years). Last record."
         }
        }
       }
      },
      "text/html": [
       "<div>                            <div id=\"d983d365-5879-4e24-acde-aa2cfea59573\" class=\"plotly-graph-div\" style=\"height:525px; width:100%;\"></div>            <script type=\"text/javascript\">                require([\"plotly\"], function(Plotly) {                    window.PLOTLYENV=window.PLOTLYENV || {};                                    if (document.getElementById(\"d983d365-5879-4e24-acde-aa2cfea59573\")) {                    Plotly.newPlot(                        \"d983d365-5879-4e24-acde-aa2cfea59573\",                        [{\"customdata\": [[\"Afghanistan\"], [\"Albania\"], [\"Algeria\"], [\"Angola\"], [\"Argentina\"], [\"Australia\"], [\"Austria\"], [\"Bahrain\"], [\"Bangladesh\"], [\"Belgium\"], [\"Benin\"], [\"Bolivia\"], [\"Bosnia and Herzegovina\"], [\"Botswana\"], [\"Brazil\"], [\"Bulgaria\"], [\"Burkina Faso\"], [\"Burundi\"], [\"Cambodia\"], [\"Cameroon\"], [\"Canada\"], [\"Central African Republic\"], [\"Chad\"], [\"Chile\"], [\"China\"], [\"Colombia\"], [\"Comoros\"], [\"Costa Rica\"], [\"Cote d'Ivoire\"], [\"Croatia\"], [\"Cuba\"], [\"Czech Republic\"], [\"Denmark\"], [\"Djibouti\"], [\"Dominican Republic\"], [\"Ecuador\"], [\"El Salvador\"], [\"Equatorial Guinea\"], [\"Eritrea\"], [\"Ethiopia\"], [\"Finland\"], [\"France\"], [\"Gabon\"], [\"Germany\"], [\"Ghana\"], [\"Greece\"], [\"Guatemala\"], [\"Guinea\"], [\"Guinea-Bissau\"], [\"Haiti\"], [\"Honduras\"], [\"Hungary\"], [\"Iceland\"], [\"India\"], [\"Indonesia\"], [\"Iraq\"], [\"Ireland\"], [\"Israel\"], [\"Italy\"], [\"Jamaica\"], [\"Japan\"], [\"Jordan\"], [\"Kenya\"], [\"Kuwait\"], [\"Lebanon\"], [\"Liberia\"], [\"Libya\"], [\"Madagascar\"], [\"Malawi\"], [\"Malaysia\"], [\"Mali\"], [\"Mauritania\"], [\"Mauritius\"], [\"Mexico\"], [\"Mongolia\"], [\"Morocco\"], [\"Mozambique\"], [\"Myanmar\"], [\"Nepal\"], [\"Netherlands\"], [\"New Zealand\"], [\"Nicaragua\"], [\"Niger\"], [\"Nigeria\"], [\"Norway\"], [\"Oman\"], [\"Pakistan\"], [\"Panama\"], [\"Paraguay\"], [\"Peru\"], [\"Philippines\"], [\"Poland\"], [\"Portugal\"], [\"Romania\"], [\"Rwanda\"], [\"Sao Tome and Principe\"], [\"Saudi Arabia\"], [\"Senegal\"], [\"Sierra Leone\"], [\"Singapore\"], [\"Slovak Republic\"], [\"Slovenia\"], [\"Somalia\"], [\"South Africa\"], [\"Spain\"], [\"Sri Lanka\"], [\"Sudan\"], [\"Swaziland\"], [\"Sweden\"], [\"Switzerland\"], [\"Tanzania\"], [\"Thailand\"], [\"Togo\"], [\"Trinidad and Tobago\"], [\"Tunisia\"], [\"Turkey\"], [\"Uganda\"], [\"United Kingdom\"], [\"United States\"], [\"Uruguay\"], [\"Vietnam\"], [\"West Bank and Gaza\"], [\"Zambia\"]], \"hovertemplate\": \"Difference between first and last record, (years)=%{marker.color}<br>Life expectancy at birth, total (years). Last record.=%{y}<br>Country Name=%{customdata[0]}<extra></extra>\", \"legendgroup\": \"\", \"marker\": {\"color\": [24.6139268293, 12.307439024399997, 25.853365853699998, 15.648146341399993, 9.576439024400003, 10.350243902399995, 10.870975609799999, 20.8894878049, 21.82565853659999, 9.5634146342, 19.677975609800008, 21.937073170700003, 4.853439024400004, 3.461829268300008, 17.179170731699998, 3.171463414599998, 19.7829268292, 11.595682926800002, 23.034902439, 10.073195122000001, 9.267317073200005, 8.3686097561, 10.030365853700005, 20.7981463415, 29.942097560999997, 14.966292682899997, 18.474585365799996, 16.346536585399996, 10.545000000000002, 4.464146341499998, 13.310975609799996, 4.4526829268000085, 5.8753658535999875, 13.954902439000001, 18.832073170799994, 20.1074878048, 19.541780487800004, 17.183902439100002, 5.659804878000003, 18.7093414634, 10.685609756100007, 10.797560975700009, 20.0187804878, 3.7146341463999875, 12.953317073099996, 10.546756097499994, 23.4224878049, 18.739097561, 14.3882439024, 16.713585365899995, 24.225780487799994, 5.2853658537, 7.731707317100003, 22.883024390299994, 17.681926829299996, 17.780658536500006, 9.5534878048, 8.392682926799992, 12.284390243899992, 8.612658536599994, 13.912195121899998, 18.709853658499995, 8.047048780499999, 11.9615121951, 13.735487804899996, 21.837073170800004, 25.867439024299998, 21.115195121999996, 12.141268292699998, 8.543048780500015, 25.7134634147, 16.3145121951, 11.9438292683, 17.4076829269, 15.908121951200009, 21.990048780400002, 15.709829268299998, 19.9423170731, 30.5996341464, 6.77365853660001, 8.919512195099998, 24.2757804878, 19.789560975600004, 11.7290731708, 6.947073170699994, 27.016536585399997, 17.2217560975, 14.418097560900001, 7.467926829299998, 24.244170731700002, 9.050170731700007, 7.817073170699999, 14.627804877999992, 5.5367804878000015, 15.108292682900014, 13.590707317100005, 26.650560975599987, 23.338170731700004, 14.7355853659, 14.00921951219999, 2.412195122, 5.25609756099999, 15.2574390244, 2.1832195122000044, 11.354146341499998, 13.682536585300006, 11.6734146342, 0.31958536590000364, 7.549512195100007, 10.545365853600003, 13.915536585399998, 17.129219512199988, 13.878341463400005, 5.499463414600001, 30.860756097599996, 26.340365853599998, 8.507097561000002, 8.521951219499996, 7.868292682900005, 7.6543902438999964, 14.073317073100007, 1.6066585366000083, 4.7956829269], \"coloraxis\": \"coloraxis\", \"size\": [24.6139268293, 12.307439024399997, 25.853365853699998, 15.648146341399993, 9.576439024400003, 10.350243902399995, 10.870975609799999, 20.8894878049, 21.82565853659999, 9.5634146342, 19.677975609800008, 21.937073170700003, 4.853439024400004, 3.461829268300008, 17.179170731699998, 3.171463414599998, 19.7829268292, 11.595682926800002, 23.034902439, 10.073195122000001, 9.267317073200005, 8.3686097561, 10.030365853700005, 20.7981463415, 29.942097560999997, 14.966292682899997, 18.474585365799996, 16.346536585399996, 10.545000000000002, 4.464146341499998, 13.310975609799996, 4.4526829268000085, 5.8753658535999875, 13.954902439000001, 18.832073170799994, 20.1074878048, 19.541780487800004, 17.183902439100002, 5.659804878000003, 18.7093414634, 10.685609756100007, 10.797560975700009, 20.0187804878, 3.7146341463999875, 12.953317073099996, 10.546756097499994, 23.4224878049, 18.739097561, 14.3882439024, 16.713585365899995, 24.225780487799994, 5.2853658537, 7.731707317100003, 22.883024390299994, 17.681926829299996, 17.780658536500006, 9.5534878048, 8.392682926799992, 12.284390243899992, 8.612658536599994, 13.912195121899998, 18.709853658499995, 8.047048780499999, 11.9615121951, 13.735487804899996, 21.837073170800004, 25.867439024299998, 21.115195121999996, 12.141268292699998, 8.543048780500015, 25.7134634147, 16.3145121951, 11.9438292683, 17.4076829269, 15.908121951200009, 21.990048780400002, 15.709829268299998, 19.9423170731, 30.5996341464, 6.77365853660001, 8.919512195099998, 24.2757804878, 19.789560975600004, 11.7290731708, 6.947073170699994, 27.016536585399997, 17.2217560975, 14.418097560900001, 7.467926829299998, 24.244170731700002, 9.050170731700007, 7.817073170699999, 14.627804877999992, 5.5367804878000015, 15.108292682900014, 13.590707317100005, 26.650560975599987, 23.338170731700004, 14.7355853659, 14.00921951219999, 2.412195122, 5.25609756099999, 15.2574390244, 2.1832195122000044, 11.354146341499998, 13.682536585300006, 11.6734146342, 0.31958536590000364, 7.549512195100007, 10.545365853600003, 13.915536585399998, 17.129219512199988, 13.878341463400005, 5.499463414600001, 30.860756097599996, 26.340365853599998, 8.507097561000002, 8.521951219499996, 7.868292682900005, 7.6543902438999964, 14.073317073100007, 1.6066585366000083, 4.7956829269], \"sizemode\": \"area\", \"sizeref\": 0.07715189024399999, \"symbol\": \"circle\"}, \"mode\": \"markers\", \"name\": \"\", \"orientation\": \"v\", \"showlegend\": false, \"type\": \"scatter\", \"x\": [24.6139268293, 12.307439024399997, 25.853365853699998, 15.648146341399993, 9.576439024400003, 10.350243902399995, 10.870975609799999, 20.8894878049, 21.82565853659999, 9.5634146342, 19.677975609800008, 21.937073170700003, 4.853439024400004, 3.461829268300008, 17.179170731699998, 3.171463414599998, 19.7829268292, 11.595682926800002, 23.034902439, 10.073195122000001, 9.267317073200005, 8.3686097561, 10.030365853700005, 20.7981463415, 29.942097560999997, 14.966292682899997, 18.474585365799996, 16.346536585399996, 10.545000000000002, 4.464146341499998, 13.310975609799996, 4.4526829268000085, 5.8753658535999875, 13.954902439000001, 18.832073170799994, 20.1074878048, 19.541780487800004, 17.183902439100002, 5.659804878000003, 18.7093414634, 10.685609756100007, 10.797560975700009, 20.0187804878, 3.7146341463999875, 12.953317073099996, 10.546756097499994, 23.4224878049, 18.739097561, 14.3882439024, 16.713585365899995, 24.225780487799994, 5.2853658537, 7.731707317100003, 22.883024390299994, 17.681926829299996, 17.780658536500006, 9.5534878048, 8.392682926799992, 12.284390243899992, 8.612658536599994, 13.912195121899998, 18.709853658499995, 8.047048780499999, 11.9615121951, 13.735487804899996, 21.837073170800004, 25.867439024299998, 21.115195121999996, 12.141268292699998, 8.543048780500015, 25.7134634147, 16.3145121951, 11.9438292683, 17.4076829269, 15.908121951200009, 21.990048780400002, 15.709829268299998, 19.9423170731, 30.5996341464, 6.77365853660001, 8.919512195099998, 24.2757804878, 19.789560975600004, 11.7290731708, 6.947073170699994, 27.016536585399997, 17.2217560975, 14.418097560900001, 7.467926829299998, 24.244170731700002, 9.050170731700007, 7.817073170699999, 14.627804877999992, 5.5367804878000015, 15.108292682900014, 13.590707317100005, 26.650560975599987, 23.338170731700004, 14.7355853659, 14.00921951219999, 2.412195122, 5.25609756099999, 15.2574390244, 2.1832195122000044, 11.354146341499998, 13.682536585300006, 11.6734146342, 0.31958536590000364, 7.549512195100007, 10.545365853600003, 13.915536585399998, 17.129219512199988, 13.878341463400005, 5.499463414600001, 30.860756097599996, 26.340365853599998, 8.507097561000002, 8.521951219499996, 7.868292682900005, 7.6543902438999964, 14.073317073100007, 1.6066585366000083, 4.7956829269], \"xaxis\": \"x\", \"y\": [57.8338292683, 76.4702926829, 72.8983658537, 49.43573170729999, 75.0090487805, 81.2926829268, 80.1804878049, 75.7077560976, 68.85997560979999, 79.78292682930001, 57.867390243900005, 64.6941219512, 75.3714878049, 59.0745609756, 72.4148292683, 72.6634146341, 55.188804878, 53.4560731707, 64.5523414634, 52.4791463415, 80.6343902439, 45.687390243900005, 48.5592195122, 79.3135365854, 74.3404390244, 72.7055121951, 60.7123414634, 78.33031707319999, 48.7788292683, 75.7056097561, 78.44919512199999, 76.7243902439, 78.1951219512, 58.8293414634, 72.1313170732, 74.4950243902, 70.7804634146, 54.5163170732, 59.6694146341, 58.408, 79.2634146341, 81.112195122, 60.3927804878, 79.53414634149999, 59.6358536585, 79.4390243902, 70.1107804878, 53.9994878049, 52.8554634146, 59.9773902439, 71.8587317073, 73.1512195122, 81.4536585366, 65.30043902439999, 67.5677317073, 68.19902439020001, 79.6414634146, 80.5048780488, 81.4341463415, 74.0092926829, 82.5070731707, 72.9611707317, 55.6992926829, 73.81, 77.615902439, 57.191195122, 71.7386341463, 62.053, 51.5124878049, 73.81826829270001, 54.2619268293, 61.1397317073, 72.5707317073, 75.5879268293, 66.06817073170001, 71.2776341463, 51.622097561, 64.0936829268, 66.5519268293, 80.0975609756, 80.1512195122, 72.5716585366, 55.4550243902, 49.8081463415, 80.3951219512, 75.1236097561, 64.3387317073, 76.3144634146, 71.6948292683, 72.9969512195, 67.47902439020001, 75.243902439, 78.3219512195, 72.5658536585, 57.94600000000001, 65.188, 73.34507317069999, 61.7841707317, 45.4883658537, 80.4414634146, 74.2073170732, 78.5609756098, 53.0186585366, 51.9965121951, 80.8731707317, 74.1941219512, 60.7008780488, 46.772390243900006, 80.9, 81.7414634146, 58.0777804878, 72.87443902439999, 55.4334390244, 69.2596585366, 74.2024390244, 73.1770731707, 53.6541463415, 79.4487804878, 77.987804878, 75.9510243902, 74.48385365850001, 71.74704878050001, 52.4771463415], \"yaxis\": \"y\"}],                        {\"coloraxis\": {\"colorbar\": {\"title\": {\"text\": \"Difference between first and last record, (years)\"}}, \"colorscale\": [[0.0, \"#0d0887\"], [0.1111111111111111, \"#46039f\"], [0.2222222222222222, \"#7201a8\"], [0.3333333333333333, \"#9c179e\"], [0.4444444444444444, \"#bd3786\"], [0.5555555555555556, \"#d8576b\"], [0.6666666666666666, \"#ed7953\"], [0.7777777777777778, \"#fb9f3a\"], [0.8888888888888888, \"#fdca26\"], [1.0, \"#f0f921\"]]}, \"legend\": {\"itemsizing\": \"constant\", \"tracegroupgap\": 0}, \"template\": {\"data\": {\"bar\": [{\"error_x\": {\"color\": \"#2a3f5f\"}, \"error_y\": {\"color\": \"#2a3f5f\"}, \"marker\": {\"line\": {\"color\": \"#E5ECF6\", \"width\": 0.5}}, \"type\": \"bar\"}], \"barpolar\": [{\"marker\": {\"line\": {\"color\": \"#E5ECF6\", \"width\": 0.5}}, \"type\": \"barpolar\"}], \"carpet\": [{\"aaxis\": {\"endlinecolor\": \"#2a3f5f\", \"gridcolor\": \"white\", \"linecolor\": \"white\", \"minorgridcolor\": \"white\", \"startlinecolor\": \"#2a3f5f\"}, \"baxis\": {\"endlinecolor\": \"#2a3f5f\", \"gridcolor\": \"white\", \"linecolor\": \"white\", \"minorgridcolor\": \"white\", \"startlinecolor\": \"#2a3f5f\"}, \"type\": \"carpet\"}], \"choropleth\": [{\"colorbar\": {\"outlinewidth\": 0, \"ticks\": \"\"}, \"type\": \"choropleth\"}], \"contour\": [{\"colorbar\": {\"outlinewidth\": 0, \"ticks\": \"\"}, \"colorscale\": [[0.0, \"#0d0887\"], [0.1111111111111111, \"#46039f\"], [0.2222222222222222, \"#7201a8\"], [0.3333333333333333, \"#9c179e\"], [0.4444444444444444, \"#bd3786\"], [0.5555555555555556, \"#d8576b\"], [0.6666666666666666, \"#ed7953\"], [0.7777777777777778, \"#fb9f3a\"], [0.8888888888888888, \"#fdca26\"], [1.0, \"#f0f921\"]], \"type\": \"contour\"}], \"contourcarpet\": [{\"colorbar\": {\"outlinewidth\": 0, \"ticks\": \"\"}, \"type\": \"contourcarpet\"}], \"heatmap\": [{\"colorbar\": {\"outlinewidth\": 0, \"ticks\": \"\"}, \"colorscale\": [[0.0, \"#0d0887\"], [0.1111111111111111, \"#46039f\"], [0.2222222222222222, \"#7201a8\"], [0.3333333333333333, \"#9c179e\"], [0.4444444444444444, \"#bd3786\"], [0.5555555555555556, \"#d8576b\"], [0.6666666666666666, \"#ed7953\"], [0.7777777777777778, \"#fb9f3a\"], [0.8888888888888888, \"#fdca26\"], [1.0, \"#f0f921\"]], \"type\": \"heatmap\"}], \"heatmapgl\": [{\"colorbar\": {\"outlinewidth\": 0, \"ticks\": \"\"}, \"colorscale\": [[0.0, \"#0d0887\"], [0.1111111111111111, \"#46039f\"], [0.2222222222222222, \"#7201a8\"], [0.3333333333333333, \"#9c179e\"], [0.4444444444444444, \"#bd3786\"], [0.5555555555555556, \"#d8576b\"], [0.6666666666666666, \"#ed7953\"], [0.7777777777777778, \"#fb9f3a\"], [0.8888888888888888, \"#fdca26\"], [1.0, \"#f0f921\"]], \"type\": \"heatmapgl\"}], \"histogram\": [{\"marker\": {\"colorbar\": {\"outlinewidth\": 0, \"ticks\": \"\"}}, \"type\": \"histogram\"}], \"histogram2d\": [{\"colorbar\": {\"outlinewidth\": 0, \"ticks\": \"\"}, \"colorscale\": [[0.0, \"#0d0887\"], [0.1111111111111111, \"#46039f\"], [0.2222222222222222, \"#7201a8\"], [0.3333333333333333, \"#9c179e\"], [0.4444444444444444, \"#bd3786\"], [0.5555555555555556, \"#d8576b\"], [0.6666666666666666, \"#ed7953\"], [0.7777777777777778, \"#fb9f3a\"], [0.8888888888888888, \"#fdca26\"], [1.0, \"#f0f921\"]], \"type\": \"histogram2d\"}], \"histogram2dcontour\": [{\"colorbar\": {\"outlinewidth\": 0, \"ticks\": \"\"}, \"colorscale\": [[0.0, \"#0d0887\"], [0.1111111111111111, \"#46039f\"], [0.2222222222222222, \"#7201a8\"], [0.3333333333333333, \"#9c179e\"], [0.4444444444444444, \"#bd3786\"], [0.5555555555555556, \"#d8576b\"], [0.6666666666666666, \"#ed7953\"], [0.7777777777777778, \"#fb9f3a\"], [0.8888888888888888, \"#fdca26\"], [1.0, \"#f0f921\"]], \"type\": \"histogram2dcontour\"}], \"mesh3d\": [{\"colorbar\": {\"outlinewidth\": 0, \"ticks\": \"\"}, \"type\": \"mesh3d\"}], \"parcoords\": [{\"line\": {\"colorbar\": {\"outlinewidth\": 0, \"ticks\": \"\"}}, \"type\": \"parcoords\"}], \"pie\": [{\"automargin\": true, \"type\": \"pie\"}], \"scatter\": [{\"marker\": {\"colorbar\": {\"outlinewidth\": 0, \"ticks\": \"\"}}, \"type\": \"scatter\"}], \"scatter3d\": [{\"line\": {\"colorbar\": {\"outlinewidth\": 0, \"ticks\": \"\"}}, \"marker\": {\"colorbar\": {\"outlinewidth\": 0, \"ticks\": \"\"}}, \"type\": \"scatter3d\"}], \"scattercarpet\": [{\"marker\": {\"colorbar\": {\"outlinewidth\": 0, \"ticks\": \"\"}}, \"type\": \"scattercarpet\"}], \"scattergeo\": [{\"marker\": {\"colorbar\": {\"outlinewidth\": 0, \"ticks\": \"\"}}, \"type\": \"scattergeo\"}], \"scattergl\": [{\"marker\": {\"colorbar\": {\"outlinewidth\": 0, \"ticks\": \"\"}}, \"type\": \"scattergl\"}], \"scattermapbox\": [{\"marker\": {\"colorbar\": {\"outlinewidth\": 0, \"ticks\": \"\"}}, \"type\": \"scattermapbox\"}], \"scatterpolar\": [{\"marker\": {\"colorbar\": {\"outlinewidth\": 0, \"ticks\": \"\"}}, \"type\": \"scatterpolar\"}], \"scatterpolargl\": [{\"marker\": {\"colorbar\": {\"outlinewidth\": 0, \"ticks\": \"\"}}, \"type\": \"scatterpolargl\"}], \"scatterternary\": [{\"marker\": {\"colorbar\": {\"outlinewidth\": 0, \"ticks\": \"\"}}, \"type\": \"scatterternary\"}], \"surface\": [{\"colorbar\": {\"outlinewidth\": 0, \"ticks\": \"\"}, \"colorscale\": [[0.0, \"#0d0887\"], [0.1111111111111111, \"#46039f\"], [0.2222222222222222, \"#7201a8\"], [0.3333333333333333, \"#9c179e\"], [0.4444444444444444, \"#bd3786\"], [0.5555555555555556, \"#d8576b\"], [0.6666666666666666, \"#ed7953\"], [0.7777777777777778, \"#fb9f3a\"], [0.8888888888888888, \"#fdca26\"], [1.0, \"#f0f921\"]], \"type\": \"surface\"}], \"table\": [{\"cells\": {\"fill\": {\"color\": \"#EBF0F8\"}, \"line\": {\"color\": \"white\"}}, \"header\": {\"fill\": {\"color\": \"#C8D4E3\"}, \"line\": {\"color\": \"white\"}}, \"type\": \"table\"}]}, \"layout\": {\"annotationdefaults\": {\"arrowcolor\": \"#2a3f5f\", \"arrowhead\": 0, \"arrowwidth\": 1}, \"autotypenumbers\": \"strict\", \"coloraxis\": {\"colorbar\": {\"outlinewidth\": 0, \"ticks\": \"\"}}, \"colorscale\": {\"diverging\": [[0, \"#8e0152\"], [0.1, \"#c51b7d\"], [0.2, \"#de77ae\"], [0.3, \"#f1b6da\"], [0.4, \"#fde0ef\"], [0.5, \"#f7f7f7\"], [0.6, \"#e6f5d0\"], [0.7, \"#b8e186\"], [0.8, \"#7fbc41\"], [0.9, \"#4d9221\"], [1, \"#276419\"]], \"sequential\": [[0.0, \"#0d0887\"], [0.1111111111111111, \"#46039f\"], [0.2222222222222222, \"#7201a8\"], [0.3333333333333333, \"#9c179e\"], [0.4444444444444444, \"#bd3786\"], [0.5555555555555556, \"#d8576b\"], [0.6666666666666666, \"#ed7953\"], [0.7777777777777778, \"#fb9f3a\"], [0.8888888888888888, \"#fdca26\"], [1.0, \"#f0f921\"]], \"sequentialminus\": [[0.0, \"#0d0887\"], [0.1111111111111111, \"#46039f\"], [0.2222222222222222, \"#7201a8\"], [0.3333333333333333, \"#9c179e\"], [0.4444444444444444, \"#bd3786\"], [0.5555555555555556, \"#d8576b\"], [0.6666666666666666, \"#ed7953\"], [0.7777777777777778, \"#fb9f3a\"], [0.8888888888888888, \"#fdca26\"], [1.0, \"#f0f921\"]]}, \"colorway\": [\"#636efa\", \"#EF553B\", \"#00cc96\", \"#ab63fa\", \"#FFA15A\", \"#19d3f3\", \"#FF6692\", \"#B6E880\", \"#FF97FF\", \"#FECB52\"], \"font\": {\"color\": \"#2a3f5f\"}, \"geo\": {\"bgcolor\": \"white\", \"lakecolor\": \"white\", \"landcolor\": \"#E5ECF6\", \"showlakes\": true, \"showland\": true, \"subunitcolor\": \"white\"}, \"hoverlabel\": {\"align\": \"left\"}, \"hovermode\": \"closest\", \"mapbox\": {\"style\": \"light\"}, \"paper_bgcolor\": \"white\", \"plot_bgcolor\": \"#E5ECF6\", \"polar\": {\"angularaxis\": {\"gridcolor\": \"white\", \"linecolor\": \"white\", \"ticks\": \"\"}, \"bgcolor\": \"#E5ECF6\", \"radialaxis\": {\"gridcolor\": \"white\", \"linecolor\": \"white\", \"ticks\": \"\"}}, \"scene\": {\"xaxis\": {\"backgroundcolor\": \"#E5ECF6\", \"gridcolor\": \"white\", \"gridwidth\": 2, \"linecolor\": \"white\", \"showbackground\": true, \"ticks\": \"\", \"zerolinecolor\": \"white\"}, \"yaxis\": {\"backgroundcolor\": \"#E5ECF6\", \"gridcolor\": \"white\", \"gridwidth\": 2, \"linecolor\": \"white\", \"showbackground\": true, \"ticks\": \"\", \"zerolinecolor\": \"white\"}, \"zaxis\": {\"backgroundcolor\": \"#E5ECF6\", \"gridcolor\": \"white\", \"gridwidth\": 2, \"linecolor\": \"white\", \"showbackground\": true, \"ticks\": \"\", \"zerolinecolor\": \"white\"}}, \"shapedefaults\": {\"line\": {\"color\": \"#2a3f5f\"}}, \"ternary\": {\"aaxis\": {\"gridcolor\": \"white\", \"linecolor\": \"white\", \"ticks\": \"\"}, \"baxis\": {\"gridcolor\": \"white\", \"linecolor\": \"white\", \"ticks\": \"\"}, \"bgcolor\": \"#E5ECF6\", \"caxis\": {\"gridcolor\": \"white\", \"linecolor\": \"white\", \"ticks\": \"\"}}, \"title\": {\"x\": 0.05}, \"xaxis\": {\"automargin\": true, \"gridcolor\": \"white\", \"linecolor\": \"white\", \"ticks\": \"\", \"title\": {\"standoff\": 15}, \"zerolinecolor\": \"white\", \"zerolinewidth\": 2}, \"yaxis\": {\"automargin\": true, \"gridcolor\": \"white\", \"linecolor\": \"white\", \"ticks\": \"\", \"title\": {\"standoff\": 15}, \"zerolinecolor\": \"white\", \"zerolinewidth\": 2}}}, \"title\": {\"text\": \"Changes in life expectancy at birth, absolute value (Years)\"}, \"xaxis\": {\"anchor\": \"y\", \"domain\": [0.0, 1.0], \"title\": {\"text\": \"Difference between first and last record, (years)\"}}, \"yaxis\": {\"anchor\": \"x\", \"domain\": [0.0, 1.0], \"title\": {\"text\": \"Life expectancy at birth, total (years). Last record.\"}}},                        {\"responsive\": true}                    ).then(function(){\n",
       "                            \n",
       "var gd = document.getElementById('d983d365-5879-4e24-acde-aa2cfea59573');\n",
       "var x = new MutationObserver(function (mutations, observer) {{\n",
       "        var display = window.getComputedStyle(gd).display;\n",
       "        if (!display || display === 'none') {{\n",
       "            console.log([gd, 'removed!']);\n",
       "            Plotly.purge(gd);\n",
       "            observer.disconnect();\n",
       "        }}\n",
       "}});\n",
       "\n",
       "// Listen for the removal of the full notebook cells\n",
       "var notebookContainer = gd.closest('#notebook-container');\n",
       "if (notebookContainer) {{\n",
       "    x.observe(notebookContainer, {childList: true});\n",
       "}}\n",
       "\n",
       "// Listen for the clearing of the current output cell\n",
       "var outputEl = gd.closest('.output');\n",
       "if (outputEl) {{\n",
       "    x.observe(outputEl, {childList: true});\n",
       "}}\n",
       "\n",
       "                        })                };                });            </script>        </div>"
      ]
     },
     "metadata": {},
     "output_type": "display_data"
    }
   ],
   "source": [
    "life_expectancy_by_country_values_greater_than_zero = life_expectancy_by_country[life_expectancy_by_country[\"diff\"] > 0] #Removed negative values because cause error\n",
    "fig = px.scatter(life_expectancy_by_country_values_greater_than_zero, x='diff', y=\"last\", color=\"diff\", \n",
    "                 title=\"Changes in life expectancy at birth, absolute value (Years)\",\n",
    "                 size='diff', hover_data=['Country Name'],\n",
    "                labels={\n",
    "                     \"last\": \"Life expectancy at birth, total (years). Last record.\",\n",
    "                     \"diff\": \"Difference between first and last record, (years)\"\n",
    "                 },)\n",
    "fig.show()"
   ]
  },
  {
   "cell_type": "code",
   "execution_count": null,
   "metadata": {},
   "outputs": [],
   "source": []
  }
 ],
 "metadata": {
  "kernelspec": {
   "display_name": "Python 3",
   "language": "python",
   "name": "python3"
  },
  "language_info": {
   "codemirror_mode": {
    "name": "ipython",
    "version": 3
   },
   "file_extension": ".py",
   "mimetype": "text/x-python",
   "name": "python",
   "nbconvert_exporter": "python",
   "pygments_lexer": "ipython3",
   "version": "3.8.5"
  },
  "toc": {
   "base_numbering": 1,
   "nav_menu": {},
   "number_sections": true,
   "sideBar": true,
   "skip_h1_title": false,
   "title_cell": "Table of Contents",
   "title_sidebar": "Contents",
   "toc_cell": true,
   "toc_position": {},
   "toc_section_display": true,
   "toc_window_display": false
  }
 },
 "nbformat": 4,
 "nbformat_minor": 4
}
